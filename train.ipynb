{
 "cells": [
  {
   "cell_type": "code",
   "execution_count": 1,
   "metadata": {},
   "outputs": [],
   "source": [
    "%load_ext autoreload\n",
    "%autoreload 2"
   ]
  },
  {
   "cell_type": "code",
   "execution_count": 70,
   "metadata": {},
   "outputs": [],
   "source": [
    "from pathlib import Path\n",
    "import polars as pl\n",
    "import fastai.vision.all as fv\n",
    "import numpy as np\n",
    "import torch\n",
    "\n",
    "# Enable TFloat\n",
    "torch.set_float32_matmul_precision('high')\n",
    "\n",
    "from torch.utils.data import Dataset\n",
    "from einops.layers.torch import Rearrange\n",
    "from einops import rearrange\n",
    "from torchvision.ops import Permute\n",
    "import torch.nn.functional as F\n",
    "import pandas as pd\n",
    "from sklearn.model_selection import train_test_split\n",
    "\n",
    "from typing import Callable, Optional\n",
    "from torch import nn, Tensor\n",
    "from torch.nn import functional as F\n",
    "from functools import partial"
   ]
  },
  {
   "cell_type": "code",
   "execution_count": 3,
   "metadata": {},
   "outputs": [],
   "source": [
    "#test_df = pl.read_csv('/mnt/ssd/kaggle/test.csv')\n",
    "weightings = pd.read_csv('/mnt/ssd/kaggle/sample_submission.csv', nrows=1)\n",
    "#weightings = weightings.columns[1:]\n",
    "#train_df = pl.read_csv('/mnt/storage/kaggle/train.csv', n_rows=4_000_000, dtypes=[pl.datatypes.String] + [pl.Float32]*924, n_threads=10)"
   ]
  },
  {
   "cell_type": "code",
   "execution_count": 4,
   "metadata": {},
   "outputs": [],
   "source": [
    "weights = weightings.iloc[0, 1:].values.astype(np.float32)\n"
   ]
  },
  {
   "cell_type": "code",
   "execution_count": 5,
   "metadata": {},
   "outputs": [
    {
     "data": {
      "text/plain": [
       "63"
      ]
     },
     "execution_count": 5,
     "metadata": {},
     "output_type": "execute_result"
    }
   ],
   "source": [
    "(weights == 0).sum()"
   ]
  },
  {
   "cell_type": "code",
   "execution_count": 9,
   "metadata": {},
   "outputs": [
    {
     "name": "stderr",
     "output_type": "stream",
     "text": [
      "/tmp/ipykernel_6085/2482930099.py:1: DeprecationWarning: The `axis` parameter for `DataFrame.mean` is deprecated. Use `DataFrame.mean_horizontal()` to perform horizontal aggregation.\n",
      "  train_df.mean(axis=0)*weights\n"
     ]
    }
   ],
   "source": [
    "train_df.mean(axis=0)*weights"
   ]
  },
  {
   "cell_type": "code",
   "execution_count": null,
   "metadata": {},
   "outputs": [],
   "source": []
  },
  {
   "cell_type": "code",
   "execution_count": 6,
   "metadata": {},
   "outputs": [],
   "source": [
    "#train_df.write_parquet('/mnt/ssd/kaggle/train2.parquet')\n",
    "#test_df.write_parquet('/mnt/ssd/kaggle/test.parquet')\n",
    "test_df = pl.read_parquet('/mnt/ssd/kaggle/test.parquet')\n",
    "train_df = pl.read_parquet('/mnt/ssd/kaggle/train2.parquet')"
   ]
  },
  {
   "cell_type": "code",
   "execution_count": 7,
   "metadata": {},
   "outputs": [],
   "source": [
    "FEAT_COLS = train_df.columns[1:557-60*3]\n",
    "TARGET_COLS= train_df.columns[557:]"
   ]
  },
  {
   "cell_type": "code",
   "execution_count": 8,
   "metadata": {},
   "outputs": [
    {
     "data": {
      "text/html": [
       "<div><style>\n",
       ".dataframe > thead > tr,\n",
       ".dataframe > tbody > tr {\n",
       "  text-align: right;\n",
       "  white-space: pre-wrap;\n",
       "}\n",
       "</style>\n",
       "<small>shape: (4_000_000, 925)</small><table border=\"1\" class=\"dataframe\"><thead><tr><th>sample_id</th><th>state_t_0</th><th>state_t_1</th><th>state_t_2</th><th>state_t_3</th><th>state_t_4</th><th>state_t_5</th><th>state_t_6</th><th>state_t_7</th><th>state_t_8</th><th>state_t_9</th><th>state_t_10</th><th>state_t_11</th><th>state_t_12</th><th>state_t_13</th><th>state_t_14</th><th>state_t_15</th><th>state_t_16</th><th>state_t_17</th><th>state_t_18</th><th>state_t_19</th><th>state_t_20</th><th>state_t_21</th><th>state_t_22</th><th>state_t_23</th><th>state_t_24</th><th>state_t_25</th><th>state_t_26</th><th>state_t_27</th><th>state_t_28</th><th>state_t_29</th><th>state_t_30</th><th>state_t_31</th><th>state_t_32</th><th>state_t_33</th><th>state_t_34</th><th>state_t_35</th><th>&hellip;</th><th>ptend_v_31</th><th>ptend_v_32</th><th>ptend_v_33</th><th>ptend_v_34</th><th>ptend_v_35</th><th>ptend_v_36</th><th>ptend_v_37</th><th>ptend_v_38</th><th>ptend_v_39</th><th>ptend_v_40</th><th>ptend_v_41</th><th>ptend_v_42</th><th>ptend_v_43</th><th>ptend_v_44</th><th>ptend_v_45</th><th>ptend_v_46</th><th>ptend_v_47</th><th>ptend_v_48</th><th>ptend_v_49</th><th>ptend_v_50</th><th>ptend_v_51</th><th>ptend_v_52</th><th>ptend_v_53</th><th>ptend_v_54</th><th>ptend_v_55</th><th>ptend_v_56</th><th>ptend_v_57</th><th>ptend_v_58</th><th>ptend_v_59</th><th>cam_out_NETSW</th><th>cam_out_FLWDS</th><th>cam_out_PRECSC</th><th>cam_out_PRECC</th><th>cam_out_SOLS</th><th>cam_out_SOLL</th><th>cam_out_SOLSD</th><th>cam_out_SOLLD</th></tr><tr><td>str</td><td>f32</td><td>f32</td><td>f32</td><td>f32</td><td>f32</td><td>f32</td><td>f32</td><td>f32</td><td>f32</td><td>f32</td><td>f32</td><td>f32</td><td>f32</td><td>f32</td><td>f32</td><td>f32</td><td>f32</td><td>f32</td><td>f32</td><td>f32</td><td>f32</td><td>f32</td><td>f32</td><td>f32</td><td>f32</td><td>f32</td><td>f32</td><td>f32</td><td>f32</td><td>f32</td><td>f32</td><td>f32</td><td>f32</td><td>f32</td><td>f32</td><td>f32</td><td>&hellip;</td><td>f32</td><td>f32</td><td>f32</td><td>f32</td><td>f32</td><td>f32</td><td>f32</td><td>f32</td><td>f32</td><td>f32</td><td>f32</td><td>f32</td><td>f32</td><td>f32</td><td>f32</td><td>f32</td><td>f32</td><td>f32</td><td>f32</td><td>f32</td><td>f32</td><td>f32</td><td>f32</td><td>f32</td><td>f32</td><td>f32</td><td>f32</td><td>f32</td><td>f32</td><td>f32</td><td>f32</td><td>f32</td><td>f32</td><td>f32</td><td>f32</td><td>f32</td><td>f32</td></tr></thead><tbody><tr><td>&quot;train_0&quot;</td><td>213.806122</td><td>222.244461</td><td>229.259872</td><td>245.743958</td><td>258.337494</td><td>265.772461</td><td>263.978455</td><td>254.879868</td><td>243.946152</td><td>236.706985</td><td>230.934479</td><td>226.459625</td><td>222.014099</td><td>216.912964</td><td>210.688507</td><td>205.181519</td><td>201.649948</td><td>199.354248</td><td>196.582993</td><td>198.087326</td><td>200.302673</td><td>204.510696</td><td>209.294266</td><td>214.299316</td><td>219.180878</td><td>223.644699</td><td>227.899261</td><td>231.883469</td><td>235.859161</td><td>239.754486</td><td>243.663605</td><td>247.494141</td><td>251.145752</td><td>254.734833</td><td>258.118805</td><td>261.322876</td><td>&hellip;</td><td>6.3101e-7</td><td>3.8035e-7</td><td>2.6436e-8</td><td>-7.3957e-8</td><td>-1.0226e-7</td><td>-1.5508e-7</td><td>1.8131e-8</td><td>1.8428e-7</td><td>-1.9102e-8</td><td>1.8966e-7</td><td>-3.4925e-8</td><td>-2.5049e-7</td><td>-3.5119e-7</td><td>3.1814e-8</td><td>-0.000001</td><td>-0.000002</td><td>-7.6918e-7</td><td>-0.000007</td><td>-0.000007</td><td>-0.000021</td><td>-0.000008</td><td>0.000024</td><td>0.00002</td><td>0.000008</td><td>0.000003</td><td>2.1486e-7</td><td>-0.000001</td><td>-6.1321e-7</td><td>0.000001</td><td>0.0</td><td>349.564331</td><td>0.0</td><td>2.9477e-12</td><td>0.0</td><td>0.0</td><td>0.0</td><td>0.0</td></tr><tr><td>&quot;train_1&quot;</td><td>213.177429</td><td>225.851059</td><td>229.66362</td><td>246.828339</td><td>261.026428</td><td>269.07843</td><td>267.736572</td><td>256.89624</td><td>244.169418</td><td>236.844421</td><td>231.586365</td><td>227.873489</td><td>224.125183</td><td>219.864136</td><td>214.768661</td><td>209.773682</td><td>206.593765</td><td>205.144608</td><td>202.219681</td><td>203.165573</td><td>203.691772</td><td>206.691879</td><td>210.018967</td><td>213.651749</td><td>217.226715</td><td>220.732834</td><td>224.27124</td><td>227.879257</td><td>231.523117</td><td>235.206558</td><td>238.911194</td><td>242.569839</td><td>246.095627</td><td>249.66188</td><td>253.170197</td><td>256.545227</td><td>&hellip;</td><td>2.3532e-7</td><td>-0.000002</td><td>4.7710e-7</td><td>-4.6249e-7</td><td>-4.7910e-7</td><td>3.4284e-7</td><td>1.5265e-7</td><td>-3.6109e-7</td><td>4.7664e-7</td><td>2.6672e-7</td><td>-1.8301e-7</td><td>-0.000001</td><td>-3.2145e-8</td><td>0.000002</td><td>-0.000002</td><td>-0.000005</td><td>-0.000006</td><td>-0.000002</td><td>-0.000009</td><td>-0.000015</td><td>-0.000008</td><td>0.000017</td><td>0.000023</td><td>0.000013</td><td>0.000004</td><td>7.6476e-7</td><td>-8.6454e-7</td><td>3.5609e-7</td><td>9.9849e-7</td><td>0.0</td><td>335.204071</td><td>0.0</td><td>3.1384e-9</td><td>0.0</td><td>0.0</td><td>0.0</td><td>0.0</td></tr><tr><td>&quot;train_2&quot;</td><td>217.105682</td><td>220.448105</td><td>234.653397</td><td>244.422958</td><td>254.023819</td><td>259.651459</td><td>257.709503</td><td>251.064514</td><td>241.879593</td><td>234.48732</td><td>228.294373</td><td>223.660522</td><td>219.108749</td><td>214.820511</td><td>208.639572</td><td>201.056</td><td>193.462402</td><td>190.267838</td><td>188.690125</td><td>189.957245</td><td>196.482056</td><td>203.461777</td><td>210.517853</td><td>217.264496</td><td>223.298203</td><td>228.871994</td><td>234.369614</td><td>239.208267</td><td>243.596725</td><td>247.68811</td><td>251.63942</td><td>255.233658</td><td>258.531036</td><td>261.569672</td><td>264.470154</td><td>267.068573</td><td>&hellip;</td><td>-0.000002</td><td>-6.3580e-7</td><td>-0.000001</td><td>-5.8939e-7</td><td>-6.8356e-7</td><td>1.3912e-7</td><td>-1.8613e-7</td><td>-3.5363e-7</td><td>5.9231e-7</td><td>-5.4433e-7</td><td>-4.1161e-7</td><td>-7.6074e-7</td><td>-3.6474e-7</td><td>5.2729e-7</td><td>0.000002</td><td>0.000006</td><td>0.000013</td><td>0.000012</td><td>0.000016</td><td>0.000005</td><td>-0.000005</td><td>-0.00002</td><td>-0.00004</td><td>-0.000035</td><td>-0.00002</td><td>-0.000013</td><td>-0.000004</td><td>0.000002</td><td>0.000062</td><td>0.0</td><td>401.709351</td><td>0.0</td><td>7.4242e-9</td><td>0.0</td><td>0.0</td><td>0.0</td><td>0.0</td></tr><tr><td>&quot;train_3&quot;</td><td>217.773987</td><td>225.611771</td><td>234.104095</td><td>247.745361</td><td>257.411407</td><td>263.470947</td><td>261.131775</td><td>253.303253</td><td>242.316818</td><td>234.396271</td><td>227.955017</td><td>223.999863</td><td>219.658844</td><td>215.244919</td><td>210.214691</td><td>204.137726</td><td>196.509277</td><td>191.893677</td><td>189.929398</td><td>190.806366</td><td>196.696884</td><td>203.680756</td><td>210.684967</td><td>217.256989</td><td>223.168854</td><td>228.660416</td><td>233.84549</td><td>238.535217</td><td>242.747314</td><td>246.688904</td><td>250.429062</td><td>253.907013</td><td>257.260437</td><td>260.436615</td><td>263.363251</td><td>266.154816</td><td>&hellip;</td><td>-0.000002</td><td>-0.000002</td><td>-8.0713e-7</td><td>-7.1824e-8</td><td>-1.6555e-8</td><td>-1.6542e-7</td><td>3.0559e-7</td><td>1.8800e-8</td><td>-1.3640e-7</td><td>2.0172e-7</td><td>-2.4224e-7</td><td>2.5207e-7</td><td>0.000001</td><td>-7.9637e-8</td><td>0.000002</td><td>0.000005</td><td>0.000003</td><td>-0.000002</td><td>-0.000003</td><td>-0.000001</td><td>0.000004</td><td>0.000013</td><td>-0.000001</td><td>-0.000009</td><td>-0.000008</td><td>-0.000006</td><td>-0.000005</td><td>-0.000009</td><td>0.00001</td><td>0.0</td><td>400.230164</td><td>0.0</td><td>2.5341e-8</td><td>0.0</td><td>0.0</td><td>0.0</td><td>0.0</td></tr><tr><td>&quot;train_4&quot;</td><td>216.349335</td><td>230.526077</td><td>233.650253</td><td>248.196014</td><td>262.500732</td><td>270.055664</td><td>268.863617</td><td>258.161652</td><td>244.442627</td><td>236.779099</td><td>231.508377</td><td>227.968414</td><td>224.863754</td><td>221.41597</td><td>217.32576</td><td>213.113693</td><td>209.60788</td><td>207.82959</td><td>204.866547</td><td>205.553986</td><td>205.036636</td><td>207.604279</td><td>210.501404</td><td>213.802689</td><td>217.053635</td><td>220.41655</td><td>223.803482</td><td>227.157852</td><td>230.464432</td><td>233.723923</td><td>236.938843</td><td>240.118408</td><td>243.265152</td><td>246.338043</td><td>249.617416</td><td>253.012314</td><td>&hellip;</td><td>-5.5779e-7</td><td>-1.6262e-7</td><td>9.1616e-8</td><td>1.4862e-7</td><td>-3.6454e-7</td><td>-0.000001</td><td>0.000001</td><td>-6.2991e-8</td><td>-4.6701e-8</td><td>1.0520e-7</td><td>-2.6200e-7</td><td>2.5540e-7</td><td>-4.7391e-8</td><td>2.5992e-7</td><td>-7.2915e-8</td><td>5.6063e-7</td><td>8.0119e-7</td><td>0.000001</td><td>8.1273e-7</td><td>-0.000002</td><td>-0.000005</td><td>-0.000006</td><td>0.00001</td><td>0.000009</td><td>-0.000001</td><td>-0.000002</td><td>-0.000001</td><td>0.000002</td><td>-0.000006</td><td>0.0</td><td>321.96048</td><td>0.0</td><td>3.3774e-10</td><td>0.0</td><td>0.0</td><td>0.0</td><td>0.0</td></tr><tr><td>&hellip;</td><td>&hellip;</td><td>&hellip;</td><td>&hellip;</td><td>&hellip;</td><td>&hellip;</td><td>&hellip;</td><td>&hellip;</td><td>&hellip;</td><td>&hellip;</td><td>&hellip;</td><td>&hellip;</td><td>&hellip;</td><td>&hellip;</td><td>&hellip;</td><td>&hellip;</td><td>&hellip;</td><td>&hellip;</td><td>&hellip;</td><td>&hellip;</td><td>&hellip;</td><td>&hellip;</td><td>&hellip;</td><td>&hellip;</td><td>&hellip;</td><td>&hellip;</td><td>&hellip;</td><td>&hellip;</td><td>&hellip;</td><td>&hellip;</td><td>&hellip;</td><td>&hellip;</td><td>&hellip;</td><td>&hellip;</td><td>&hellip;</td><td>&hellip;</td><td>&hellip;</td><td>&hellip;</td><td>&hellip;</td><td>&hellip;</td><td>&hellip;</td><td>&hellip;</td><td>&hellip;</td><td>&hellip;</td><td>&hellip;</td><td>&hellip;</td><td>&hellip;</td><td>&hellip;</td><td>&hellip;</td><td>&hellip;</td><td>&hellip;</td><td>&hellip;</td><td>&hellip;</td><td>&hellip;</td><td>&hellip;</td><td>&hellip;</td><td>&hellip;</td><td>&hellip;</td><td>&hellip;</td><td>&hellip;</td><td>&hellip;</td><td>&hellip;</td><td>&hellip;</td><td>&hellip;</td><td>&hellip;</td><td>&hellip;</td><td>&hellip;</td><td>&hellip;</td><td>&hellip;</td><td>&hellip;</td><td>&hellip;</td><td>&hellip;</td><td>&hellip;</td><td>&hellip;</td><td>&hellip;</td></tr><tr><td>&quot;train_3999995&quot;</td><td>220.499252</td><td>247.934357</td><td>259.473541</td><td>259.170471</td><td>254.945084</td><td>248.887192</td><td>240.547104</td><td>234.052002</td><td>226.826889</td><td>221.301895</td><td>217.326981</td><td>214.601593</td><td>212.559006</td><td>210.753891</td><td>208.992584</td><td>207.854523</td><td>207.310516</td><td>207.848694</td><td>207.68782</td><td>209.077087</td><td>210.173508</td><td>211.600601</td><td>213.288818</td><td>215.494583</td><td>218.153854</td><td>220.972977</td><td>223.7995</td><td>226.699493</td><td>229.647507</td><td>232.684082</td><td>235.73587</td><td>238.871155</td><td>241.981995</td><td>245.039383</td><td>248.156174</td><td>251.083206</td><td>&hellip;</td><td>-1.5733e-8</td><td>9.6507e-8</td><td>-8.2737e-8</td><td>-2.1477e-7</td><td>1.5530e-7</td><td>7.7592e-8</td><td>-3.7756e-8</td><td>2.3817e-7</td><td>9.1815e-8</td><td>-4.4806e-7</td><td>-6.8367e-7</td><td>-2.9846e-7</td><td>-0.000001</td><td>-0.000001</td><td>0.000002</td><td>-0.000001</td><td>-0.000012</td><td>-0.000004</td><td>0.000056</td><td>0.000074</td><td>-0.000008</td><td>-0.00002</td><td>-0.000006</td><td>0.000004</td><td>0.000014</td><td>0.000022</td><td>0.000012</td><td>-0.000021</td><td>-0.000109</td><td>402.232758</td><td>296.350098</td><td>1.0313e-10</td><td>3.0023e-9</td><td>161.791595</td><td>208.230087</td><td>52.068073</td><td>14.969469</td></tr><tr><td>&quot;train_3999996&quot;</td><td>219.075119</td><td>236.121689</td><td>242.977249</td><td>254.619675</td><td>259.620209</td><td>259.466766</td><td>253.120087</td><td>243.746399</td><td>234.604584</td><td>228.362915</td><td>223.991669</td><td>220.770294</td><td>217.112549</td><td>213.178986</td><td>209.000275</td><td>204.875137</td><td>199.787918</td><td>195.155548</td><td>193.14772</td><td>194.317047</td><td>199.343918</td><td>203.55632</td><td>209.130768</td><td>214.451004</td><td>219.715424</td><td>224.386475</td><td>228.830353</td><td>233.370865</td><td>238.157028</td><td>242.676147</td><td>246.726715</td><td>250.363663</td><td>253.784134</td><td>257.123718</td><td>260.145905</td><td>262.999878</td><td>&hellip;</td><td>0.000005</td><td>0.000007</td><td>0.000003</td><td>-8.5027e-7</td><td>-4.3461e-7</td><td>4.3214e-7</td><td>0.000001</td><td>8.1059e-7</td><td>7.7624e-7</td><td>0.000001</td><td>0.000001</td><td>-9.2896e-7</td><td>-7.5370e-7</td><td>-8.3387e-7</td><td>-0.000002</td><td>-0.000003</td><td>-0.000003</td><td>-0.000004</td><td>-0.000002</td><td>0.000002</td><td>0.000002</td><td>5.2135e-7</td><td>9.2632e-7</td><td>-0.000001</td><td>-0.000004</td><td>-0.000002</td><td>0.000002</td><td>0.00001</td><td>0.000009</td><td>486.440979</td><td>415.690063</td><td>0.0</td><td>2.5848e-12</td><td>148.559753</td><td>152.42247</td><td>130.519867</td><td>77.491837</td></tr><tr><td>&quot;train_3999997&quot;</td><td>218.56044</td><td>229.449966</td><td>239.885406</td><td>253.93927</td><td>260.941315</td><td>261.561188</td><td>255.789185</td><td>244.289642</td><td>235.06311</td><td>229.448898</td><td>225.625198</td><td>222.085999</td><td>217.670197</td><td>213.322815</td><td>209.232819</td><td>205.834869</td><td>200.859009</td><td>195.26268</td><td>191.690674</td><td>193.372116</td><td>198.389755</td><td>202.195038</td><td>208.126511</td><td>213.676559</td><td>219.427338</td><td>224.448441</td><td>229.211914</td><td>233.674515</td><td>237.987106</td><td>242.001663</td><td>246.064575</td><td>250.023621</td><td>253.748962</td><td>257.394989</td><td>260.768646</td><td>263.975708</td><td>&hellip;</td><td>-0.000002</td><td>-0.000001</td><td>8.2662e-7</td><td>-0.000001</td><td>0.000001</td><td>-0.000001</td><td>-0.000002</td><td>-7.2961e-7</td><td>-6.4100e-7</td><td>5.4566e-7</td><td>-4.8162e-9</td><td>0.000002</td><td>0.000004</td><td>-0.000002</td><td>0.000004</td><td>0.000004</td><td>-1.8944e-7</td><td>-0.000003</td><td>0.000001</td><td>0.000002</td><td>-0.000013</td><td>-0.000024</td><td>-0.000011</td><td>0.000004</td><td>0.000003</td><td>0.000001</td><td>0.000002</td><td>0.000003</td><td>0.000013</td><td>635.166199</td><td>395.888702</td><td>0.0</td><td>0.0</td><td>274.660126</td><td>254.121094</td><td>85.154984</td><td>46.642742</td></tr><tr><td>&quot;train_3999998&quot;</td><td>219.757935</td><td>247.514267</td><td>257.627106</td><td>259.809448</td><td>256.898865</td><td>251.457748</td><td>243.522079</td><td>236.565079</td><td>228.578659</td><td>222.507248</td><td>218.333954</td><td>215.488083</td><td>213.051193</td><td>210.607132</td><td>207.964355</td><td>205.475433</td><td>203.344986</td><td>201.927414</td><td>201.52774</td><td>202.283844</td><td>206.220474</td><td>208.747131</td><td>212.224182</td><td>215.055786</td><td>218.333511</td><td>221.568375</td><td>225.05928</td><td>228.81665</td><td>232.90271</td><td>236.690887</td><td>240.477066</td><td>244.028198</td><td>247.493759</td><td>250.893784</td><td>254.328018</td><td>257.439636</td><td>&hellip;</td><td>-0.000001</td><td>-0.000002</td><td>-0.000002</td><td>-0.000004</td><td>-0.000002</td><td>-5.7933e-7</td><td>-0.000001</td><td>-0.000009</td><td>-0.000012</td><td>-0.000017</td><td>-0.000029</td><td>-0.000036</td><td>-0.000045</td><td>-0.00005</td><td>-0.000038</td><td>-0.000006</td><td>0.000012</td><td>0.000029</td><td>0.000037</td><td>0.000053</td><td>0.00005</td><td>0.000044</td><td>0.000029</td><td>0.000037</td><td>0.000033</td><td>0.000033</td><td>0.000024</td><td>0.000019</td><td>0.00002</td><td>307.94043</td><td>383.903961</td><td>0.0</td><td>1.5617e-7</td><td>74.605721</td><td>110.779465</td><td>91.691216</td><td>48.689846</td></tr><tr><td>&quot;train_3999999&quot;</td><td>218.234772</td><td>238.464767</td><td>253.240143</td><td>260.610474</td><td>259.738983</td><td>254.668747</td><td>247.497742</td><td>239.508713</td><td>230.666351</td><td>224.424881</td><td>220.381531</td><td>217.282654</td><td>214.192352</td><td>211.287262</td><td>208.472824</td><td>205.666412</td><td>202.374573</td><td>199.161499</td><td>197.738724</td><td>198.799454</td><td>202.893005</td><td>205.011215</td><td>208.945236</td><td>212.528076</td><td>216.729111</td><td>220.55336</td><td>224.686584</td><td>228.934875</td><td>233.444855</td><td>237.874237</td><td>242.209473</td><td>246.262115</td><td>250.126389</td><td>253.71286</td><td>257.001953</td><td>260.139801</td><td>&hellip;</td><td>-0.000003</td><td>-0.000003</td><td>-6.9019e-7</td><td>9.3605e-7</td><td>-7.7743e-7</td><td>-0.000002</td><td>-6.5561e-7</td><td>-4.1985e-7</td><td>-1.9550e-7</td><td>0.000002</td><td>0.000004</td><td>9.5449e-7</td><td>-0.000002</td><td>0.000003</td><td>0.000002</td><td>0.00001</td><td>0.000012</td><td>0.000011</td><td>0.000004</td><td>0.000002</td><td>3.6788e-7</td><td>-0.000007</td><td>-0.000031</td><td>-0.000046</td><td>-0.000028</td><td>-0.000027</td><td>0.000014</td><td>0.000013</td><td>0.000036</td><td>458.857422</td><td>381.675232</td><td>0.0</td><td>3.0570e-10</td><td>184.9431</td><td>203.973221</td><td>70.932724</td><td>23.091322</td></tr></tbody></table></div>"
      ],
      "text/plain": [
       "shape: (4_000_000, 925)\n",
       "┌───────────┬───────────┬───────────┬───────────┬───┬───────────┬───────────┬───────────┬──────────┐\n",
       "│ sample_id ┆ state_t_0 ┆ state_t_1 ┆ state_t_2 ┆ … ┆ cam_out_S ┆ cam_out_S ┆ cam_out_S ┆ cam_out_ │\n",
       "│ ---       ┆ ---       ┆ ---       ┆ ---       ┆   ┆ OLS       ┆ OLL       ┆ OLSD      ┆ SOLLD    │\n",
       "│ str       ┆ f32       ┆ f32       ┆ f32       ┆   ┆ ---       ┆ ---       ┆ ---       ┆ ---      │\n",
       "│           ┆           ┆           ┆           ┆   ┆ f32       ┆ f32       ┆ f32       ┆ f32      │\n",
       "╞═══════════╪═══════════╪═══════════╪═══════════╪═══╪═══════════╪═══════════╪═══════════╪══════════╡\n",
       "│ train_0   ┆ 213.80612 ┆ 222.24446 ┆ 229.25987 ┆ … ┆ 0.0       ┆ 0.0       ┆ 0.0       ┆ 0.0      │\n",
       "│           ┆ 2         ┆ 1         ┆ 2         ┆   ┆           ┆           ┆           ┆          │\n",
       "│ train_1   ┆ 213.17742 ┆ 225.85105 ┆ 229.66362 ┆ … ┆ 0.0       ┆ 0.0       ┆ 0.0       ┆ 0.0      │\n",
       "│           ┆ 9         ┆ 9         ┆           ┆   ┆           ┆           ┆           ┆          │\n",
       "│ train_2   ┆ 217.10568 ┆ 220.44810 ┆ 234.65339 ┆ … ┆ 0.0       ┆ 0.0       ┆ 0.0       ┆ 0.0      │\n",
       "│           ┆ 2         ┆ 5         ┆ 7         ┆   ┆           ┆           ┆           ┆          │\n",
       "│ train_3   ┆ 217.77398 ┆ 225.61177 ┆ 234.10409 ┆ … ┆ 0.0       ┆ 0.0       ┆ 0.0       ┆ 0.0      │\n",
       "│           ┆ 7         ┆ 1         ┆ 5         ┆   ┆           ┆           ┆           ┆          │\n",
       "│ train_4   ┆ 216.34933 ┆ 230.52607 ┆ 233.65025 ┆ … ┆ 0.0       ┆ 0.0       ┆ 0.0       ┆ 0.0      │\n",
       "│           ┆ 5         ┆ 7         ┆ 3         ┆   ┆           ┆           ┆           ┆          │\n",
       "│ …         ┆ …         ┆ …         ┆ …         ┆ … ┆ …         ┆ …         ┆ …         ┆ …        │\n",
       "│ train_399 ┆ 220.49925 ┆ 247.93435 ┆ 259.47354 ┆ … ┆ 161.79159 ┆ 208.23008 ┆ 52.068073 ┆ 14.96946 │\n",
       "│ 9995      ┆ 2         ┆ 7         ┆ 1         ┆   ┆ 5         ┆ 7         ┆           ┆ 9        │\n",
       "│ train_399 ┆ 219.07511 ┆ 236.12168 ┆ 242.97724 ┆ … ┆ 148.55975 ┆ 152.42247 ┆ 130.51986 ┆ 77.49183 │\n",
       "│ 9996      ┆ 9         ┆ 9         ┆ 9         ┆   ┆ 3         ┆           ┆ 7         ┆ 7        │\n",
       "│ train_399 ┆ 218.56044 ┆ 229.44996 ┆ 239.88540 ┆ … ┆ 274.66012 ┆ 254.12109 ┆ 85.154984 ┆ 46.64274 │\n",
       "│ 9997      ┆           ┆ 6         ┆ 6         ┆   ┆ 6         ┆ 4         ┆           ┆ 2        │\n",
       "│ train_399 ┆ 219.75793 ┆ 247.51426 ┆ 257.62710 ┆ … ┆ 74.605721 ┆ 110.77946 ┆ 91.691216 ┆ 48.68984 │\n",
       "│ 9998      ┆ 5         ┆ 7         ┆ 6         ┆   ┆           ┆ 5         ┆           ┆ 6        │\n",
       "│ train_399 ┆ 218.23477 ┆ 238.46476 ┆ 253.24014 ┆ … ┆ 184.9431  ┆ 203.97322 ┆ 70.932724 ┆ 23.09132 │\n",
       "│ 9999      ┆ 2         ┆ 7         ┆ 3         ┆   ┆           ┆ 1         ┆           ┆ 2        │\n",
       "└───────────┴───────────┴───────────┴───────────┴───┴───────────┴───────────┴───────────┴──────────┘"
      ]
     },
     "execution_count": 8,
     "metadata": {},
     "output_type": "execute_result"
    }
   ],
   "source": [
    "train_df"
   ]
  },
  {
   "cell_type": "code",
   "execution_count": 9,
   "metadata": {},
   "outputs": [],
   "source": [
    "NUM_VERT = 60\n",
    "NUM_VERT_FEAT = 6\n",
    "NUM_VERT_FEAT_Y = 6\n",
    "\n",
    "FEAT_COLS = train_df.columns[1:557-60*3]\n",
    "TARGET_COLS= train_df.columns[557:]\n"
   ]
  },
  {
   "cell_type": "code",
   "execution_count": 11,
   "metadata": {},
   "outputs": [
    {
     "data": {
      "text/plain": [
       "(16, 8)"
      ]
     },
     "execution_count": 11,
     "metadata": {},
     "output_type": "execute_result"
    }
   ],
   "source": [
    "NUM_2D_FEAT = len(FEAT_COLS) - NUM_VERT*NUM_VERT_FEAT\n",
    "NUM_2D_FEAT_Y = len(TARGET_COLS) - NUM_VERT*NUM_VERT_FEAT_Y\n",
    "\n",
    "NUM_2D_FEAT, NUM_2D_FEAT_Y"
   ]
  },
  {
   "cell_type": "code",
   "execution_count": 12,
   "metadata": {},
   "outputs": [
    {
     "data": {
      "text/plain": [
       "(['state_ps',\n",
       "  'pbuf_SOLIN',\n",
       "  'pbuf_LHFLX',\n",
       "  'pbuf_SHFLX',\n",
       "  'pbuf_TAUX',\n",
       "  'pbuf_TAUY',\n",
       "  'pbuf_COSZRS',\n",
       "  'cam_in_ALDIF',\n",
       "  'cam_in_ALDIR',\n",
       "  'cam_in_ASDIF',\n",
       "  'cam_in_ASDIR',\n",
       "  'cam_in_LWUP',\n",
       "  'cam_in_ICEFRAC',\n",
       "  'cam_in_LANDFRAC',\n",
       "  'cam_in_OCNFRAC',\n",
       "  'cam_in_SNOWHLAND'],\n",
       " ['cam_out_NETSW',\n",
       "  'cam_out_FLWDS',\n",
       "  'cam_out_PRECSC',\n",
       "  'cam_out_PRECC',\n",
       "  'cam_out_SOLS',\n",
       "  'cam_out_SOLL',\n",
       "  'cam_out_SOLSD',\n",
       "  'cam_out_SOLLD'])"
      ]
     },
     "execution_count": 12,
     "metadata": {},
     "output_type": "execute_result"
    }
   ],
   "source": [
    "FEAT_COLS[-NUM_2D_FEAT:], TARGET_COLS[-NUM_2D_FEAT_Y:]"
   ]
  },
  {
   "cell_type": "code",
   "execution_count": 13,
   "metadata": {},
   "outputs": [],
   "source": [
    "x_train = train_df.select(FEAT_COLS).to_numpy()\n",
    "y_train = train_df.select(TARGET_COLS).to_numpy()\n",
    "\n",
    "x_train, x_val, y_train, y_val = train_test_split(x_train, y_train, test_size=0.05, random_state=42)"
   ]
  },
  {
   "cell_type": "code",
   "execution_count": 55,
   "metadata": {},
   "outputs": [],
   "source": [
    "x_test = test_df.select(FEAT_COLS).to_numpy()"
   ]
  },
  {
   "cell_type": "code",
   "execution_count": 14,
   "metadata": {},
   "outputs": [
    {
     "data": {
      "text/plain": [
       "16"
      ]
     },
     "execution_count": 14,
     "metadata": {},
     "output_type": "execute_result"
    }
   ],
   "source": [
    "import gc\n",
    "gc.collect()"
   ]
  },
  {
   "cell_type": "code",
   "execution_count": 15,
   "metadata": {},
   "outputs": [],
   "source": [
    "class Norm():\n",
    "    def __init__(self, dataset, names, eps=1e-15):\n",
    "        self.means, self.stds = np.mean(dataset, axis=0), np.std(dataset, axis=0)\n",
    "        self.eps=eps\n",
    "        self.df = pd.DataFrame({'col' : names, 'std' : self.stds, 'mean' : self.means})\n",
    "        \n",
    "    def __call__(self, data):\n",
    "        return (data - self.means) / (self.stds + self.eps)\n",
    "    \n",
    "    def denorm(self, data):\n",
    "        return data * (self.stds + self.eps) + self.means \n"
   ]
  },
  {
   "cell_type": "code",
   "execution_count": 16,
   "metadata": {},
   "outputs": [],
   "source": [
    "norm_x = Norm(x_train, FEAT_COLS)\n",
    "norm_y = Norm(y_train, TARGET_COLS)"
   ]
  },
  {
   "cell_type": "code",
   "execution_count": 17,
   "metadata": {},
   "outputs": [],
   "source": [
    "class Loader(Dataset):\n",
    "    def __init__(self, data_dict, norm_dict):\n",
    "        self.data_dict = data_dict\n",
    "        self.norm_dict = norm_dict\n",
    "        \n",
    "    def __getitem__(self, idx):\n",
    "        x = self.data_dict['x'][idx]\n",
    "        y = self.data_dict['y'][idx]\n",
    "        x = self.norm_dict['x'](x)\n",
    "        y = self.norm_dict['y'](y)\n",
    "        return torch.from_numpy(x), torch.from_numpy(y)\n",
    "    \n",
    "    def __len__(self,):\n",
    "        return self.data_dict['x'].shape[0]"
   ]
  },
  {
   "cell_type": "code",
   "execution_count": 56,
   "metadata": {},
   "outputs": [],
   "source": [
    "train_ds = Loader({'x' : x_train, 'y' : y_train}, {'x' : norm_x, 'y' : norm_y})\n",
    "val_ds = Loader({'x' : x_val, 'y' : y_val}, {'x' : norm_x, 'y' : norm_y})"
   ]
  },
  {
   "cell_type": "code",
   "execution_count": 57,
   "metadata": {},
   "outputs": [
    {
     "data": {
      "text/plain": [
       "(3800000, 200000)"
      ]
     },
     "execution_count": 57,
     "metadata": {},
     "output_type": "execute_result"
    }
   ],
   "source": [
    "len(train_ds), len(val_ds)"
   ]
  },
  {
   "cell_type": "code",
   "execution_count": 58,
   "metadata": {},
   "outputs": [],
   "source": [
    "bs = 128\n",
    "train_loader = fv.DataLoader(train_ds, batch_size=bs, drop_last=True, \n",
    "                          shuffle=True, num_workers=1, pin_memory=True)\n",
    "valid_loader = fv.DataLoader(val_ds, batch_size=bs, drop_last=True,\n",
    "                            shuffle=False, num_workers=1, pin_memory=True)"
   ]
  },
  {
   "cell_type": "code",
   "execution_count": 21,
   "metadata": {},
   "outputs": [],
   "source": [
    "x,y = next(iter(train_loader))"
   ]
  },
  {
   "cell_type": "code",
   "execution_count": 59,
   "metadata": {},
   "outputs": [
    {
     "data": {
      "text/plain": [
       "(tensor(0.0533),\n",
       " tensor(0.9269),\n",
       " tensor(-0.0008),\n",
       " tensor(0.8575),\n",
       " tensor(-4.3581),\n",
       " tensor(12.2134),\n",
       " tensor(-16.5271),\n",
       " tensor(22.1823))"
      ]
     },
     "execution_count": 59,
     "metadata": {},
     "output_type": "execute_result"
    }
   ],
   "source": [
    "batch = next(iter(train_loader))\n",
    "batch[0].mean(), batch[0].std(), batch[1].mean(), batch[1].std(), batch[0].min(), batch[0].max(), batch[1].min(), batch[1].max()"
   ]
  },
  {
   "cell_type": "code",
   "execution_count": 73,
   "metadata": {},
   "outputs": [],
   "source": [
    "\n",
    "class CNBlock1d(nn.Module):\n",
    "    def __init__(\n",
    "        self,\n",
    "        dim,\n",
    "        layer_scale: float = 1e-4,\n",
    "        norm_layer: Optional[Callable[..., nn.Module]] = None,\n",
    "        kernel_size = 15\n",
    "    ) -> None:\n",
    "        super().__init__()\n",
    "        if norm_layer is None:\n",
    "            norm_layer = partial(nn.LayerNorm, eps=1e-6)\n",
    "\n",
    "        self.block = nn.Sequential(\n",
    "            nn.Conv1d(dim, dim, kernel_size=kernel_size, padding=kernel_size//2, \n",
    "                      groups=dim, bias=True, padding_mode='replicate'),\n",
    "            Permute([0, 2, 1]),\n",
    "            norm_layer(dim),\n",
    "            nn.Linear(in_features=dim, out_features=4 * dim, bias=True),\n",
    "            nn.GELU(),\n",
    "            nn.Linear(in_features=4 * dim, out_features=dim, bias=True),\n",
    "            Permute([0, 2, 1]),\n",
    "        )\n",
    "        self.layer_scale = nn.Parameter(torch.ones(1, dim, 1) * layer_scale)\n",
    "\n",
    "    def forward(self, input: Tensor) -> Tensor:\n",
    "        result = self.layer_scale * self.block(input)\n",
    "        return result + input\n",
    "    \n",
    "class Net(nn.Module):\n",
    "    def __init__(self, num_in_2d,  num_3d_in, num_2d_out, num_3d_out, num_vert=60, mid_ch=256,\n",
    "                       num_blocks=12, block = CNBlock1d):\n",
    "        super().__init__()\n",
    "        self.num_2d_in = num_in_2d\n",
    "        self.num_3d_in = num_3d_in\n",
    "        self.num_2d_out = num_2d_out\n",
    "        self.num_3d_out = num_3d_out\n",
    "        self.num_vert = num_vert\n",
    "        \n",
    "        self.layer_2d_3d = nn.Sequential(nn.Conv1d(num_in_2d, num_in_2d*num_vert, kernel_size=1, groups=num_in_2d),\n",
    "                                         Rearrange('b (c z) x -> b c (z x)', c=num_in_2d, z=num_vert, x=1))\n",
    "        \n",
    "        self.layer_3d = nn.Sequential(Rearrange('b (c z) -> b c z', c=num_3d_in, z=num_vert),\n",
    "                                      nn.Conv1d(num_3d_in, mid_ch - num_in_2d, kernel_size=1, groups=num_3d_in))\n",
    "        # conv_down = partial(nn.Conv3d, kernel_size=[1, 3, 3], padding=(0, 0, 0), padding_mode='reflect')\n",
    "        # layers = [conv_down(num_2d_3d + num_3d_in, mid_ch//2), nn.GELU(), \n",
    "        #           conv_down(mid_ch//2, mid_ch), nn.GELU(),\n",
    "        #           Rearrange('b c z y x -> b c (z y x)', y=1, x=1)]\n",
    "        \n",
    "        self.blocks = nn.Sequential(*[block(mid_ch) for _ in range(num_blocks)])\n",
    "        \n",
    "        self.out_3d = nn.Sequential(block(mid_ch), \n",
    "                                    nn.Conv1d(mid_ch, num_3d_out, 1), \n",
    "                                    Rearrange('b c z -> b (c z)'))\n",
    "        self.out_2d = nn.Sequential(block(mid_ch), \n",
    "                                    nn.Conv1d(mid_ch, num_2d_out, 1))\n",
    "        \n",
    "    def forward(self, x):\n",
    "        split_idx = self.num_3d_in * self.num_vert\n",
    "\n",
    "        x_3d, x_2d = x[:, :split_idx], x[:, split_idx:]\n",
    "        x_2d = self.layer_2d_3d(x_2d[..., None])\n",
    "        x_3d = torch.cat([x_2d, self.layer_3d(x_3d)], dim=1)\n",
    "        \n",
    "        x_3d =  self.blocks(x_3d)\n",
    "        out_3d = self.out_3d(x_3d)\n",
    "        out_2d = self.out_2d(x_3d).mean(dim=-1)\n",
    "        return torch.cat([out_3d, out_2d], dim=1)\n",
    "        \n",
    "        "
   ]
  },
  {
   "cell_type": "code",
   "execution_count": 74,
   "metadata": {},
   "outputs": [],
   "source": [
    "net = Net(NUM_2D_FEAT, NUM_VERT_FEAT, NUM_2D_FEAT_Y, NUM_VERT_FEAT_Y)\n",
    "net = torch.compile(net)"
   ]
  },
  {
   "cell_type": "code",
   "execution_count": 75,
   "metadata": {},
   "outputs": [],
   "source": [
    "\n",
    "dls = fv.DataLoaders(train_loader, valid_loader).to('cuda')"
   ]
  },
  {
   "cell_type": "code",
   "execution_count": 76,
   "metadata": {},
   "outputs": [
    {
     "data": {
      "text/plain": [
       "tensor(305, device='cuda:0')"
      ]
     },
     "execution_count": 76,
     "metadata": {},
     "output_type": "execute_result"
    }
   ],
   "source": [
    "pred_mask = weights != 0\n",
    "pred_mask = torch.tensor(pred_mask, device='cuda')\n",
    "pred_mask.sum()"
   ]
  },
  {
   "cell_type": "code",
   "execution_count": 77,
   "metadata": {},
   "outputs": [],
   "source": [
    "def l1_loss(tar, pred):\n",
    "    return torch.abs(tar[:, pred_mask] - pred[:, pred_mask]).mean()"
   ]
  },
  {
   "cell_type": "code",
   "execution_count": 78,
   "metadata": {},
   "outputs": [],
   "source": [
    "def mse(tar, pred):\n",
    "    return F.mse_loss(tar[:, pred_mask], pred[:, pred_mask])\n",
    "\n",
    "def r_squared(tar, pred):\n",
    "    tar = norm_y.denorm(tar.cpu().numpy())\n",
    "    pred = norm_y.denorm(pred.detach().cpu().numpy())\n",
    "    pred = pred*weights[None, :]\n",
    "    tar = tar*weights[None, :]\n",
    "    return 1 - (np.sum((tar - pred)**2) / np.sum((tar - tar.mean())**2))\n",
    "    "
   ]
  },
  {
   "cell_type": "code",
   "execution_count": 79,
   "metadata": {},
   "outputs": [],
   "source": [
    "learn = fv.Learner(dls, net, loss_func=l1_loss, metrics=[fv.mae, fv.mse, r_squared], wd=0.001, opt_func=fv.ranger)"
   ]
  },
  {
   "cell_type": "code",
   "execution_count": 80,
   "metadata": {},
   "outputs": [
    {
     "data": {
      "text/html": [
       "\n",
       "<style>\n",
       "    /* Turns off some styling */\n",
       "    progress {\n",
       "        /* gets rid of default border in Firefox and Opera. */\n",
       "        border: none;\n",
       "        /* Needs to be in here for Safari polyfill so background images work as expected. */\n",
       "        background-size: auto;\n",
       "    }\n",
       "    progress:not([value]), progress:not([value])::-webkit-progress-bar {\n",
       "        background: repeating-linear-gradient(45deg, #7e7e7e, #7e7e7e 10px, #5c5c5c 10px, #5c5c5c 20px);\n",
       "    }\n",
       "    .progress-bar-interrupted, .progress-bar-interrupted::-webkit-progress-bar {\n",
       "        background: #F44336;\n",
       "    }\n",
       "</style>\n"
      ],
      "text/plain": [
       "<IPython.core.display.HTML object>"
      ]
     },
     "metadata": {},
     "output_type": "display_data"
    },
    {
     "data": {
      "text/html": [
       "\n",
       "    <div>\n",
       "      <progress value='0' class='' max='1' style='width:300px; height:20px; vertical-align: middle;'></progress>\n",
       "      0.00% [0/1 00:00&lt;?]\n",
       "    </div>\n",
       "    \n",
       "\n",
       "\n",
       "    <div>\n",
       "      <progress value='0' class='' max='29687' style='width:300px; height:20px; vertical-align: middle;'></progress>\n",
       "      0.00% [0/29687 00:00&lt;?]\n",
       "    </div>\n",
       "    "
      ],
      "text/plain": [
       "<IPython.core.display.HTML object>"
      ]
     },
     "metadata": {},
     "output_type": "display_data"
    },
    {
     "data": {
      "text/plain": [
       "SuggestedLRs(valley=0.0010000000474974513)"
      ]
     },
     "execution_count": 80,
     "metadata": {},
     "output_type": "execute_result"
    },
    {
     "data": {
      "image/png": "[encoded data removed]",
      "text/plain": [
       "<Figure size 640x480 with 1 Axes>"
      ]
     },
     "metadata": {},
     "output_type": "display_data"
    }
   ],
   "source": [
    "learn.lr_find()"
   ]
  },
  {
   "cell_type": "code",
   "execution_count": 82,
   "metadata": {},
   "outputs": [
    {
     "data": {
      "text/html": [
       "\n",
       "<style>\n",
       "    /* Turns off some styling */\n",
       "    progress {\n",
       "        /* gets rid of default border in Firefox and Opera. */\n",
       "        border: none;\n",
       "        /* Needs to be in here for Safari polyfill so background images work as expected. */\n",
       "        background-size: auto;\n",
       "    }\n",
       "    progress:not([value]), progress:not([value])::-webkit-progress-bar {\n",
       "        background: repeating-linear-gradient(45deg, #7e7e7e, #7e7e7e 10px, #5c5c5c 10px, #5c5c5c 20px);\n",
       "    }\n",
       "    .progress-bar-interrupted, .progress-bar-interrupted::-webkit-progress-bar {\n",
       "        background: #F44336;\n",
       "    }\n",
       "</style>\n"
      ],
      "text/plain": [
       "<IPython.core.display.HTML object>"
      ]
     },
     "metadata": {},
     "output_type": "display_data"
    },
    {
     "data": {
      "text/html": [
       "\n",
       "    <div>\n",
       "      <progress value='0' class='' max='6' style='width:300px; height:20px; vertical-align: middle;'></progress>\n",
       "      0.00% [0/6 00:00&lt;?]\n",
       "    </div>\n",
       "    \n",
       "<table border=\"1\" class=\"dataframe\">\n",
       "  <thead>\n",
       "    <tr style=\"text-align: left;\">\n",
       "      <th>epoch</th>\n",
       "      <th>train_loss</th>\n",
       "      <th>valid_loss</th>\n",
       "      <th>mae</th>\n",
       "      <th>mse</th>\n",
       "      <th>r_squared</th>\n",
       "      <th>time</th>\n",
       "    </tr>\n",
       "  </thead>\n",
       "  <tbody>\n",
       "  </tbody>\n",
       "</table><p>\n",
       "\n",
       "    <div>\n",
       "      <progress value='0' class='' max='29687' style='width:300px; height:20px; vertical-align: middle;'></progress>\n",
       "      0.00% [0/29687 00:00&lt;?]\n",
       "    </div>\n",
       "    "
      ],
      "text/plain": [
       "<IPython.core.display.HTML object>"
      ]
     },
     "metadata": {},
     "output_type": "display_data"
    }
   ],
   "source": [
    "learn.fit_flat_cos(6, 7e-3)"
   ]
  },
  {
   "cell_type": "code",
   "execution_count": 81,
   "metadata": {},
   "outputs": [
    {
     "data": {
      "text/html": [
       "\n",
       "<style>\n",
       "    /* Turns off some styling */\n",
       "    progress {\n",
       "        /* gets rid of default border in Firefox and Opera. */\n",
       "        border: none;\n",
       "        /* Needs to be in here for Safari polyfill so background images work as expected. */\n",
       "        background-size: auto;\n",
       "    }\n",
       "    progress:not([value]), progress:not([value])::-webkit-progress-bar {\n",
       "        background: repeating-linear-gradient(45deg, #7e7e7e, #7e7e7e 10px, #5c5c5c 10px, #5c5c5c 20px);\n",
       "    }\n",
       "    .progress-bar-interrupted, .progress-bar-interrupted::-webkit-progress-bar {\n",
       "        background: #F44336;\n",
       "    }\n",
       "</style>\n"
      ],
      "text/plain": [
       "<IPython.core.display.HTML object>"
      ]
     },
     "metadata": {},
     "output_type": "display_data"
    },
    {
     "data": {
      "text/html": [
       "\n",
       "    <div>\n",
       "      <progress value='0' class='' max='5' style='width:300px; height:20px; vertical-align: middle;'></progress>\n",
       "      0.00% [0/5 00:00&lt;?]\n",
       "    </div>\n",
       "    \n",
       "<table border=\"1\" class=\"dataframe\">\n",
       "  <thead>\n",
       "    <tr style=\"text-align: left;\">\n",
       "      <th>epoch</th>\n",
       "      <th>train_loss</th>\n",
       "      <th>valid_loss</th>\n",
       "      <th>mae</th>\n",
       "      <th>mse</th>\n",
       "      <th>r_squared</th>\n",
       "      <th>time</th>\n",
       "    </tr>\n",
       "  </thead>\n",
       "  <tbody>\n",
       "  </tbody>\n",
       "</table><p>\n",
       "\n",
       "    <div>\n",
       "      <progress value='0' class='' max='29687' style='width:300px; height:20px; vertical-align: middle;'></progress>\n",
       "      0.00% [0/29687 00:00&lt;?]\n",
       "    </div>\n",
       "    "
      ],
      "text/plain": [
       "<IPython.core.display.HTML object>"
      ]
     },
     "metadata": {},
     "output_type": "display_data"
    },
    {
     "ename": "KeyboardInterrupt",
     "evalue": "",
     "output_type": "error",
     "traceback": [
      "\u001b[0;31m---------------------------------------------------------------------------\u001b[0m",
      "\u001b[0;31mKeyboardInterrupt\u001b[0m                         Traceback (most recent call last)",
      "Cell \u001b[0;32mIn[81], line 1\u001b[0m\n\u001b[0;32m----> 1\u001b[0m \u001b[43mlearn\u001b[49m\u001b[38;5;241;43m.\u001b[39;49m\u001b[43mfit_flat_cos\u001b[49m\u001b[43m(\u001b[49m\u001b[38;5;241;43m5\u001b[39;49m\u001b[43m,\u001b[49m\u001b[43m \u001b[49m\u001b[38;5;241;43m3e-3\u001b[39;49m\u001b[43m)\u001b[49m\n",
      "File \u001b[0;32m~/conda/envs/torch2/lib/python3.10/site-packages/fastai/callback/schedule.py:142\u001b[0m, in \u001b[0;36mfit_flat_cos\u001b[0;34m(self, n_epoch, lr, div_final, pct_start, wd, cbs, reset_opt, start_epoch)\u001b[0m\n\u001b[1;32m    140\u001b[0m lr \u001b[38;5;241m=\u001b[39m np\u001b[38;5;241m.\u001b[39marray([h[\u001b[38;5;124m'\u001b[39m\u001b[38;5;124mlr\u001b[39m\u001b[38;5;124m'\u001b[39m] \u001b[38;5;28;01mfor\u001b[39;00m h \u001b[38;5;129;01min\u001b[39;00m \u001b[38;5;28mself\u001b[39m\u001b[38;5;241m.\u001b[39mopt\u001b[38;5;241m.\u001b[39mhypers])\n\u001b[1;32m    141\u001b[0m scheds \u001b[38;5;241m=\u001b[39m {\u001b[38;5;124m'\u001b[39m\u001b[38;5;124mlr\u001b[39m\u001b[38;5;124m'\u001b[39m: combined_cos(pct_start, lr, lr, lr\u001b[38;5;241m/\u001b[39mdiv_final)}\n\u001b[0;32m--> 142\u001b[0m \u001b[38;5;28;43mself\u001b[39;49m\u001b[38;5;241;43m.\u001b[39;49m\u001b[43mfit\u001b[49m\u001b[43m(\u001b[49m\u001b[43mn_epoch\u001b[49m\u001b[43m,\u001b[49m\u001b[43m \u001b[49m\u001b[43mcbs\u001b[49m\u001b[38;5;241;43m=\u001b[39;49m\u001b[43mParamScheduler\u001b[49m\u001b[43m(\u001b[49m\u001b[43mscheds\u001b[49m\u001b[43m)\u001b[49m\u001b[38;5;241;43m+\u001b[39;49m\u001b[43mL\u001b[49m\u001b[43m(\u001b[49m\u001b[43mcbs\u001b[49m\u001b[43m)\u001b[49m\u001b[43m,\u001b[49m\u001b[43m \u001b[49m\u001b[43mreset_opt\u001b[49m\u001b[38;5;241;43m=\u001b[39;49m\u001b[43mreset_opt\u001b[49m\u001b[43m,\u001b[49m\u001b[43m \u001b[49m\u001b[43mwd\u001b[49m\u001b[38;5;241;43m=\u001b[39;49m\u001b[43mwd\u001b[49m\u001b[43m,\u001b[49m\u001b[43m \u001b[49m\u001b[43mstart_epoch\u001b[49m\u001b[38;5;241;43m=\u001b[39;49m\u001b[38;5;241;43m0\u001b[39;49m\u001b[43m)\u001b[49m\n",
      "File \u001b[0;32m~/conda/envs/torch2/lib/python3.10/site-packages/fastai/learner.py:264\u001b[0m, in \u001b[0;36mLearner.fit\u001b[0;34m(self, n_epoch, lr, wd, cbs, reset_opt, start_epoch)\u001b[0m\n\u001b[1;32m    262\u001b[0m \u001b[38;5;28mself\u001b[39m\u001b[38;5;241m.\u001b[39mopt\u001b[38;5;241m.\u001b[39mset_hypers(lr\u001b[38;5;241m=\u001b[39m\u001b[38;5;28mself\u001b[39m\u001b[38;5;241m.\u001b[39mlr \u001b[38;5;28;01mif\u001b[39;00m lr \u001b[38;5;129;01mis\u001b[39;00m \u001b[38;5;28;01mNone\u001b[39;00m \u001b[38;5;28;01melse\u001b[39;00m lr)\n\u001b[1;32m    263\u001b[0m \u001b[38;5;28mself\u001b[39m\u001b[38;5;241m.\u001b[39mn_epoch \u001b[38;5;241m=\u001b[39m n_epoch\n\u001b[0;32m--> 264\u001b[0m \u001b[38;5;28;43mself\u001b[39;49m\u001b[38;5;241;43m.\u001b[39;49m\u001b[43m_with_events\u001b[49m\u001b[43m(\u001b[49m\u001b[38;5;28;43mself\u001b[39;49m\u001b[38;5;241;43m.\u001b[39;49m\u001b[43m_do_fit\u001b[49m\u001b[43m,\u001b[49m\u001b[43m \u001b[49m\u001b[38;5;124;43m'\u001b[39;49m\u001b[38;5;124;43mfit\u001b[39;49m\u001b[38;5;124;43m'\u001b[39;49m\u001b[43m,\u001b[49m\u001b[43m \u001b[49m\u001b[43mCancelFitException\u001b[49m\u001b[43m,\u001b[49m\u001b[43m \u001b[49m\u001b[38;5;28;43mself\u001b[39;49m\u001b[38;5;241;43m.\u001b[39;49m\u001b[43m_end_cleanup\u001b[49m\u001b[43m)\u001b[49m\n",
      "File \u001b[0;32m~/conda/envs/torch2/lib/python3.10/site-packages/fastai/learner.py:199\u001b[0m, in \u001b[0;36mLearner._with_events\u001b[0;34m(self, f, event_type, ex, final)\u001b[0m\n\u001b[1;32m    198\u001b[0m \u001b[38;5;28;01mdef\u001b[39;00m \u001b[38;5;21m_with_events\u001b[39m(\u001b[38;5;28mself\u001b[39m, f, event_type, ex, final\u001b[38;5;241m=\u001b[39mnoop):\n\u001b[0;32m--> 199\u001b[0m     \u001b[38;5;28;01mtry\u001b[39;00m: \u001b[38;5;28mself\u001b[39m(\u001b[38;5;124mf\u001b[39m\u001b[38;5;124m'\u001b[39m\u001b[38;5;124mbefore_\u001b[39m\u001b[38;5;132;01m{\u001b[39;00mevent_type\u001b[38;5;132;01m}\u001b[39;00m\u001b[38;5;124m'\u001b[39m);  \u001b[43mf\u001b[49m\u001b[43m(\u001b[49m\u001b[43m)\u001b[49m\n\u001b[1;32m    200\u001b[0m     \u001b[38;5;28;01mexcept\u001b[39;00m ex: \u001b[38;5;28mself\u001b[39m(\u001b[38;5;124mf\u001b[39m\u001b[38;5;124m'\u001b[39m\u001b[38;5;124mafter_cancel_\u001b[39m\u001b[38;5;132;01m{\u001b[39;00mevent_type\u001b[38;5;132;01m}\u001b[39;00m\u001b[38;5;124m'\u001b[39m)\n\u001b[1;32m    201\u001b[0m     \u001b[38;5;28mself\u001b[39m(\u001b[38;5;124mf\u001b[39m\u001b[38;5;124m'\u001b[39m\u001b[38;5;124mafter_\u001b[39m\u001b[38;5;132;01m{\u001b[39;00mevent_type\u001b[38;5;132;01m}\u001b[39;00m\u001b[38;5;124m'\u001b[39m);  final()\n",
      "File \u001b[0;32m~/conda/envs/torch2/lib/python3.10/site-packages/fastai/learner.py:253\u001b[0m, in \u001b[0;36mLearner._do_fit\u001b[0;34m(self)\u001b[0m\n\u001b[1;32m    251\u001b[0m \u001b[38;5;28;01mfor\u001b[39;00m epoch \u001b[38;5;129;01min\u001b[39;00m \u001b[38;5;28mrange\u001b[39m(\u001b[38;5;28mself\u001b[39m\u001b[38;5;241m.\u001b[39mn_epoch):\n\u001b[1;32m    252\u001b[0m     \u001b[38;5;28mself\u001b[39m\u001b[38;5;241m.\u001b[39mepoch\u001b[38;5;241m=\u001b[39mepoch\n\u001b[0;32m--> 253\u001b[0m     \u001b[38;5;28;43mself\u001b[39;49m\u001b[38;5;241;43m.\u001b[39;49m\u001b[43m_with_events\u001b[49m\u001b[43m(\u001b[49m\u001b[38;5;28;43mself\u001b[39;49m\u001b[38;5;241;43m.\u001b[39;49m\u001b[43m_do_epoch\u001b[49m\u001b[43m,\u001b[49m\u001b[43m \u001b[49m\u001b[38;5;124;43m'\u001b[39;49m\u001b[38;5;124;43mepoch\u001b[39;49m\u001b[38;5;124;43m'\u001b[39;49m\u001b[43m,\u001b[49m\u001b[43m \u001b[49m\u001b[43mCancelEpochException\u001b[49m\u001b[43m)\u001b[49m\n",
      "File \u001b[0;32m~/conda/envs/torch2/lib/python3.10/site-packages/fastai/learner.py:199\u001b[0m, in \u001b[0;36mLearner._with_events\u001b[0;34m(self, f, event_type, ex, final)\u001b[0m\n\u001b[1;32m    198\u001b[0m \u001b[38;5;28;01mdef\u001b[39;00m \u001b[38;5;21m_with_events\u001b[39m(\u001b[38;5;28mself\u001b[39m, f, event_type, ex, final\u001b[38;5;241m=\u001b[39mnoop):\n\u001b[0;32m--> 199\u001b[0m     \u001b[38;5;28;01mtry\u001b[39;00m: \u001b[38;5;28mself\u001b[39m(\u001b[38;5;124mf\u001b[39m\u001b[38;5;124m'\u001b[39m\u001b[38;5;124mbefore_\u001b[39m\u001b[38;5;132;01m{\u001b[39;00mevent_type\u001b[38;5;132;01m}\u001b[39;00m\u001b[38;5;124m'\u001b[39m);  \u001b[43mf\u001b[49m\u001b[43m(\u001b[49m\u001b[43m)\u001b[49m\n\u001b[1;32m    200\u001b[0m     \u001b[38;5;28;01mexcept\u001b[39;00m ex: \u001b[38;5;28mself\u001b[39m(\u001b[38;5;124mf\u001b[39m\u001b[38;5;124m'\u001b[39m\u001b[38;5;124mafter_cancel_\u001b[39m\u001b[38;5;132;01m{\u001b[39;00mevent_type\u001b[38;5;132;01m}\u001b[39;00m\u001b[38;5;124m'\u001b[39m)\n\u001b[1;32m    201\u001b[0m     \u001b[38;5;28mself\u001b[39m(\u001b[38;5;124mf\u001b[39m\u001b[38;5;124m'\u001b[39m\u001b[38;5;124mafter_\u001b[39m\u001b[38;5;132;01m{\u001b[39;00mevent_type\u001b[38;5;132;01m}\u001b[39;00m\u001b[38;5;124m'\u001b[39m);  final()\n",
      "File \u001b[0;32m~/conda/envs/torch2/lib/python3.10/site-packages/fastai/learner.py:247\u001b[0m, in \u001b[0;36mLearner._do_epoch\u001b[0;34m(self)\u001b[0m\n\u001b[1;32m    246\u001b[0m \u001b[38;5;28;01mdef\u001b[39;00m \u001b[38;5;21m_do_epoch\u001b[39m(\u001b[38;5;28mself\u001b[39m):\n\u001b[0;32m--> 247\u001b[0m     \u001b[38;5;28;43mself\u001b[39;49m\u001b[38;5;241;43m.\u001b[39;49m\u001b[43m_do_epoch_train\u001b[49m\u001b[43m(\u001b[49m\u001b[43m)\u001b[49m\n\u001b[1;32m    248\u001b[0m     \u001b[38;5;28mself\u001b[39m\u001b[38;5;241m.\u001b[39m_do_epoch_validate()\n",
      "File \u001b[0;32m~/conda/envs/torch2/lib/python3.10/site-packages/fastai/learner.py:239\u001b[0m, in \u001b[0;36mLearner._do_epoch_train\u001b[0;34m(self)\u001b[0m\n\u001b[1;32m    237\u001b[0m \u001b[38;5;28;01mdef\u001b[39;00m \u001b[38;5;21m_do_epoch_train\u001b[39m(\u001b[38;5;28mself\u001b[39m):\n\u001b[1;32m    238\u001b[0m     \u001b[38;5;28mself\u001b[39m\u001b[38;5;241m.\u001b[39mdl \u001b[38;5;241m=\u001b[39m \u001b[38;5;28mself\u001b[39m\u001b[38;5;241m.\u001b[39mdls\u001b[38;5;241m.\u001b[39mtrain\n\u001b[0;32m--> 239\u001b[0m     \u001b[38;5;28;43mself\u001b[39;49m\u001b[38;5;241;43m.\u001b[39;49m\u001b[43m_with_events\u001b[49m\u001b[43m(\u001b[49m\u001b[38;5;28;43mself\u001b[39;49m\u001b[38;5;241;43m.\u001b[39;49m\u001b[43mall_batches\u001b[49m\u001b[43m,\u001b[49m\u001b[43m \u001b[49m\u001b[38;5;124;43m'\u001b[39;49m\u001b[38;5;124;43mtrain\u001b[39;49m\u001b[38;5;124;43m'\u001b[39;49m\u001b[43m,\u001b[49m\u001b[43m \u001b[49m\u001b[43mCancelTrainException\u001b[49m\u001b[43m)\u001b[49m\n",
      "File \u001b[0;32m~/conda/envs/torch2/lib/python3.10/site-packages/fastai/learner.py:199\u001b[0m, in \u001b[0;36mLearner._with_events\u001b[0;34m(self, f, event_type, ex, final)\u001b[0m\n\u001b[1;32m    198\u001b[0m \u001b[38;5;28;01mdef\u001b[39;00m \u001b[38;5;21m_with_events\u001b[39m(\u001b[38;5;28mself\u001b[39m, f, event_type, ex, final\u001b[38;5;241m=\u001b[39mnoop):\n\u001b[0;32m--> 199\u001b[0m     \u001b[38;5;28;01mtry\u001b[39;00m: \u001b[38;5;28mself\u001b[39m(\u001b[38;5;124mf\u001b[39m\u001b[38;5;124m'\u001b[39m\u001b[38;5;124mbefore_\u001b[39m\u001b[38;5;132;01m{\u001b[39;00mevent_type\u001b[38;5;132;01m}\u001b[39;00m\u001b[38;5;124m'\u001b[39m);  \u001b[43mf\u001b[49m\u001b[43m(\u001b[49m\u001b[43m)\u001b[49m\n\u001b[1;32m    200\u001b[0m     \u001b[38;5;28;01mexcept\u001b[39;00m ex: \u001b[38;5;28mself\u001b[39m(\u001b[38;5;124mf\u001b[39m\u001b[38;5;124m'\u001b[39m\u001b[38;5;124mafter_cancel_\u001b[39m\u001b[38;5;132;01m{\u001b[39;00mevent_type\u001b[38;5;132;01m}\u001b[39;00m\u001b[38;5;124m'\u001b[39m)\n\u001b[1;32m    201\u001b[0m     \u001b[38;5;28mself\u001b[39m(\u001b[38;5;124mf\u001b[39m\u001b[38;5;124m'\u001b[39m\u001b[38;5;124mafter_\u001b[39m\u001b[38;5;132;01m{\u001b[39;00mevent_type\u001b[38;5;132;01m}\u001b[39;00m\u001b[38;5;124m'\u001b[39m);  final()\n",
      "File \u001b[0;32m~/conda/envs/torch2/lib/python3.10/site-packages/fastai/learner.py:205\u001b[0m, in \u001b[0;36mLearner.all_batches\u001b[0;34m(self)\u001b[0m\n\u001b[1;32m    203\u001b[0m \u001b[38;5;28;01mdef\u001b[39;00m \u001b[38;5;21mall_batches\u001b[39m(\u001b[38;5;28mself\u001b[39m):\n\u001b[1;32m    204\u001b[0m     \u001b[38;5;28mself\u001b[39m\u001b[38;5;241m.\u001b[39mn_iter \u001b[38;5;241m=\u001b[39m \u001b[38;5;28mlen\u001b[39m(\u001b[38;5;28mself\u001b[39m\u001b[38;5;241m.\u001b[39mdl)\n\u001b[0;32m--> 205\u001b[0m     \u001b[38;5;28;01mfor\u001b[39;00m o \u001b[38;5;129;01min\u001b[39;00m \u001b[38;5;28menumerate\u001b[39m(\u001b[38;5;28mself\u001b[39m\u001b[38;5;241m.\u001b[39mdl): \u001b[38;5;28;43mself\u001b[39;49m\u001b[38;5;241;43m.\u001b[39;49m\u001b[43mone_batch\u001b[49m\u001b[43m(\u001b[49m\u001b[38;5;241;43m*\u001b[39;49m\u001b[43mo\u001b[49m\u001b[43m)\u001b[49m\n",
      "File \u001b[0;32m~/conda/envs/torch2/lib/python3.10/site-packages/fastai/learner.py:235\u001b[0m, in \u001b[0;36mLearner.one_batch\u001b[0;34m(self, i, b)\u001b[0m\n\u001b[1;32m    233\u001b[0m b \u001b[38;5;241m=\u001b[39m \u001b[38;5;28mself\u001b[39m\u001b[38;5;241m.\u001b[39m_set_device(b)\n\u001b[1;32m    234\u001b[0m \u001b[38;5;28mself\u001b[39m\u001b[38;5;241m.\u001b[39m_split(b)\n\u001b[0;32m--> 235\u001b[0m \u001b[38;5;28;43mself\u001b[39;49m\u001b[38;5;241;43m.\u001b[39;49m\u001b[43m_with_events\u001b[49m\u001b[43m(\u001b[49m\u001b[38;5;28;43mself\u001b[39;49m\u001b[38;5;241;43m.\u001b[39;49m\u001b[43m_do_one_batch\u001b[49m\u001b[43m,\u001b[49m\u001b[43m \u001b[49m\u001b[38;5;124;43m'\u001b[39;49m\u001b[38;5;124;43mbatch\u001b[39;49m\u001b[38;5;124;43m'\u001b[39;49m\u001b[43m,\u001b[49m\u001b[43m \u001b[49m\u001b[43mCancelBatchException\u001b[49m\u001b[43m)\u001b[49m\n",
      "File \u001b[0;32m~/conda/envs/torch2/lib/python3.10/site-packages/fastai/learner.py:201\u001b[0m, in \u001b[0;36mLearner._with_events\u001b[0;34m(self, f, event_type, ex, final)\u001b[0m\n\u001b[1;32m    199\u001b[0m \u001b[38;5;28;01mtry\u001b[39;00m: \u001b[38;5;28mself\u001b[39m(\u001b[38;5;124mf\u001b[39m\u001b[38;5;124m'\u001b[39m\u001b[38;5;124mbefore_\u001b[39m\u001b[38;5;132;01m{\u001b[39;00mevent_type\u001b[38;5;132;01m}\u001b[39;00m\u001b[38;5;124m'\u001b[39m);  f()\n\u001b[1;32m    200\u001b[0m \u001b[38;5;28;01mexcept\u001b[39;00m ex: \u001b[38;5;28mself\u001b[39m(\u001b[38;5;124mf\u001b[39m\u001b[38;5;124m'\u001b[39m\u001b[38;5;124mafter_cancel_\u001b[39m\u001b[38;5;132;01m{\u001b[39;00mevent_type\u001b[38;5;132;01m}\u001b[39;00m\u001b[38;5;124m'\u001b[39m)\n\u001b[0;32m--> 201\u001b[0m \u001b[38;5;28;43mself\u001b[39;49m\u001b[43m(\u001b[49m\u001b[38;5;124;43mf\u001b[39;49m\u001b[38;5;124;43m'\u001b[39;49m\u001b[38;5;124;43mafter_\u001b[39;49m\u001b[38;5;132;43;01m{\u001b[39;49;00m\u001b[43mevent_type\u001b[49m\u001b[38;5;132;43;01m}\u001b[39;49;00m\u001b[38;5;124;43m'\u001b[39;49m\u001b[43m)\u001b[49m;  final()\n",
      "File \u001b[0;32m~/conda/envs/torch2/lib/python3.10/site-packages/fastai/learner.py:172\u001b[0m, in \u001b[0;36mLearner.__call__\u001b[0;34m(self, event_name)\u001b[0m\n\u001b[0;32m--> 172\u001b[0m \u001b[38;5;28;01mdef\u001b[39;00m \u001b[38;5;21m__call__\u001b[39m(\u001b[38;5;28mself\u001b[39m, event_name): \u001b[43mL\u001b[49m\u001b[43m(\u001b[49m\u001b[43mevent_name\u001b[49m\u001b[43m)\u001b[49m\u001b[38;5;241;43m.\u001b[39;49m\u001b[43mmap\u001b[49m\u001b[43m(\u001b[49m\u001b[38;5;28;43mself\u001b[39;49m\u001b[38;5;241;43m.\u001b[39;49m\u001b[43m_call_one\u001b[49m\u001b[43m)\u001b[49m\n",
      "File \u001b[0;32m~/conda/envs/torch2/lib/python3.10/site-packages/fastcore/foundation.py:156\u001b[0m, in \u001b[0;36mL.map\u001b[0;34m(self, f, *args, **kwargs)\u001b[0m\n\u001b[0;32m--> 156\u001b[0m \u001b[38;5;28;01mdef\u001b[39;00m \u001b[38;5;21mmap\u001b[39m(\u001b[38;5;28mself\u001b[39m, f, \u001b[38;5;241m*\u001b[39margs, \u001b[38;5;241m*\u001b[39m\u001b[38;5;241m*\u001b[39mkwargs): \u001b[38;5;28;01mreturn\u001b[39;00m \u001b[38;5;28mself\u001b[39m\u001b[38;5;241m.\u001b[39m_new(\u001b[43mmap_ex\u001b[49m\u001b[43m(\u001b[49m\u001b[38;5;28;43mself\u001b[39;49m\u001b[43m,\u001b[49m\u001b[43m \u001b[49m\u001b[43mf\u001b[49m\u001b[43m,\u001b[49m\u001b[43m \u001b[49m\u001b[38;5;241;43m*\u001b[39;49m\u001b[43margs\u001b[49m\u001b[43m,\u001b[49m\u001b[43m \u001b[49m\u001b[43mgen\u001b[49m\u001b[38;5;241;43m=\u001b[39;49m\u001b[38;5;28;43;01mFalse\u001b[39;49;00m\u001b[43m,\u001b[49m\u001b[43m \u001b[49m\u001b[38;5;241;43m*\u001b[39;49m\u001b[38;5;241;43m*\u001b[39;49m\u001b[43mkwargs\u001b[49m\u001b[43m)\u001b[49m)\n",
      "File \u001b[0;32m~/conda/envs/torch2/lib/python3.10/site-packages/fastcore/basics.py:840\u001b[0m, in \u001b[0;36mmap_ex\u001b[0;34m(iterable, f, gen, *args, **kwargs)\u001b[0m\n\u001b[1;32m    838\u001b[0m res \u001b[38;5;241m=\u001b[39m \u001b[38;5;28mmap\u001b[39m(g, iterable)\n\u001b[1;32m    839\u001b[0m \u001b[38;5;28;01mif\u001b[39;00m gen: \u001b[38;5;28;01mreturn\u001b[39;00m res\n\u001b[0;32m--> 840\u001b[0m \u001b[38;5;28;01mreturn\u001b[39;00m \u001b[38;5;28;43mlist\u001b[39;49m\u001b[43m(\u001b[49m\u001b[43mres\u001b[49m\u001b[43m)\u001b[49m\n",
      "File \u001b[0;32m~/conda/envs/torch2/lib/python3.10/site-packages/fastcore/basics.py:825\u001b[0m, in \u001b[0;36mbind.__call__\u001b[0;34m(self, *args, **kwargs)\u001b[0m\n\u001b[1;32m    823\u001b[0m     \u001b[38;5;28;01mif\u001b[39;00m \u001b[38;5;28misinstance\u001b[39m(v,_Arg): kwargs[k] \u001b[38;5;241m=\u001b[39m args\u001b[38;5;241m.\u001b[39mpop(v\u001b[38;5;241m.\u001b[39mi)\n\u001b[1;32m    824\u001b[0m fargs \u001b[38;5;241m=\u001b[39m [args[x\u001b[38;5;241m.\u001b[39mi] \u001b[38;5;28;01mif\u001b[39;00m \u001b[38;5;28misinstance\u001b[39m(x, _Arg) \u001b[38;5;28;01melse\u001b[39;00m x \u001b[38;5;28;01mfor\u001b[39;00m x \u001b[38;5;129;01min\u001b[39;00m \u001b[38;5;28mself\u001b[39m\u001b[38;5;241m.\u001b[39mpargs] \u001b[38;5;241m+\u001b[39m args[\u001b[38;5;28mself\u001b[39m\u001b[38;5;241m.\u001b[39mmaxi\u001b[38;5;241m+\u001b[39m\u001b[38;5;241m1\u001b[39m:]\n\u001b[0;32m--> 825\u001b[0m \u001b[38;5;28;01mreturn\u001b[39;00m \u001b[38;5;28;43mself\u001b[39;49m\u001b[38;5;241;43m.\u001b[39;49m\u001b[43mfunc\u001b[49m\u001b[43m(\u001b[49m\u001b[38;5;241;43m*\u001b[39;49m\u001b[43mfargs\u001b[49m\u001b[43m,\u001b[49m\u001b[43m \u001b[49m\u001b[38;5;241;43m*\u001b[39;49m\u001b[38;5;241;43m*\u001b[39;49m\u001b[43mkwargs\u001b[49m\u001b[43m)\u001b[49m\n",
      "File \u001b[0;32m~/conda/envs/torch2/lib/python3.10/site-packages/fastai/learner.py:176\u001b[0m, in \u001b[0;36mLearner._call_one\u001b[0;34m(self, event_name)\u001b[0m\n\u001b[1;32m    174\u001b[0m \u001b[38;5;28;01mdef\u001b[39;00m \u001b[38;5;21m_call_one\u001b[39m(\u001b[38;5;28mself\u001b[39m, event_name):\n\u001b[1;32m    175\u001b[0m     \u001b[38;5;28;01mif\u001b[39;00m \u001b[38;5;129;01mnot\u001b[39;00m \u001b[38;5;28mhasattr\u001b[39m(event, event_name): \u001b[38;5;28;01mraise\u001b[39;00m \u001b[38;5;167;01mException\u001b[39;00m(\u001b[38;5;124mf\u001b[39m\u001b[38;5;124m'\u001b[39m\u001b[38;5;124mmissing \u001b[39m\u001b[38;5;132;01m{\u001b[39;00mevent_name\u001b[38;5;132;01m}\u001b[39;00m\u001b[38;5;124m'\u001b[39m)\n\u001b[0;32m--> 176\u001b[0m     \u001b[38;5;28;01mfor\u001b[39;00m cb \u001b[38;5;129;01min\u001b[39;00m \u001b[38;5;28mself\u001b[39m\u001b[38;5;241m.\u001b[39mcbs\u001b[38;5;241m.\u001b[39msorted(\u001b[38;5;124m'\u001b[39m\u001b[38;5;124morder\u001b[39m\u001b[38;5;124m'\u001b[39m): \u001b[43mcb\u001b[49m\u001b[43m(\u001b[49m\u001b[43mevent_name\u001b[49m\u001b[43m)\u001b[49m\n",
      "File \u001b[0;32m~/conda/envs/torch2/lib/python3.10/site-packages/fastai/callback/core.py:60\u001b[0m, in \u001b[0;36mCallback.__call__\u001b[0;34m(self, event_name)\u001b[0m\n\u001b[1;32m     58\u001b[0m res \u001b[38;5;241m=\u001b[39m \u001b[38;5;28;01mNone\u001b[39;00m\n\u001b[1;32m     59\u001b[0m \u001b[38;5;28;01mif\u001b[39;00m \u001b[38;5;28mself\u001b[39m\u001b[38;5;241m.\u001b[39mrun \u001b[38;5;129;01mand\u001b[39;00m _run: \n\u001b[0;32m---> 60\u001b[0m     \u001b[38;5;28;01mtry\u001b[39;00m: res \u001b[38;5;241m=\u001b[39m \u001b[43mgetcallable\u001b[49m\u001b[43m(\u001b[49m\u001b[38;5;28;43mself\u001b[39;49m\u001b[43m,\u001b[49m\u001b[43m \u001b[49m\u001b[43mevent_name\u001b[49m\u001b[43m)\u001b[49m\u001b[43m(\u001b[49m\u001b[43m)\u001b[49m\n\u001b[1;32m     61\u001b[0m     \u001b[38;5;28;01mexcept\u001b[39;00m (CancelBatchException, CancelBackwardException, CancelEpochException, CancelFitException, CancelStepException, CancelTrainException, CancelValidException): \u001b[38;5;28;01mraise\u001b[39;00m\n\u001b[1;32m     62\u001b[0m     \u001b[38;5;28;01mexcept\u001b[39;00m \u001b[38;5;167;01mException\u001b[39;00m \u001b[38;5;28;01mas\u001b[39;00m e: \u001b[38;5;28;01mraise\u001b[39;00m modify_exception(e, \u001b[38;5;124mf\u001b[39m\u001b[38;5;124m'\u001b[39m\u001b[38;5;124mException occured in `\u001b[39m\u001b[38;5;132;01m{\u001b[39;00m\u001b[38;5;28mself\u001b[39m\u001b[38;5;241m.\u001b[39m\u001b[38;5;18m__class__\u001b[39m\u001b[38;5;241m.\u001b[39m\u001b[38;5;18m__name__\u001b[39m\u001b[38;5;132;01m}\u001b[39;00m\u001b[38;5;124m` when calling event `\u001b[39m\u001b[38;5;132;01m{\u001b[39;00mevent_name\u001b[38;5;132;01m}\u001b[39;00m\u001b[38;5;124m`:\u001b[39m\u001b[38;5;130;01m\\n\u001b[39;00m\u001b[38;5;130;01m\\t\u001b[39;00m\u001b[38;5;132;01m{\u001b[39;00me\u001b[38;5;241m.\u001b[39margs[\u001b[38;5;241m0\u001b[39m]\u001b[38;5;132;01m}\u001b[39;00m\u001b[38;5;124m'\u001b[39m, replace\u001b[38;5;241m=\u001b[39m\u001b[38;5;28;01mTrue\u001b[39;00m)\n",
      "File \u001b[0;32m~/conda/envs/torch2/lib/python3.10/site-packages/fastai/learner.py:560\u001b[0m, in \u001b[0;36mRecorder.after_batch\u001b[0;34m(self)\u001b[0m\n\u001b[1;32m    558\u001b[0m \u001b[38;5;28;01mif\u001b[39;00m \u001b[38;5;28mlen\u001b[39m(\u001b[38;5;28mself\u001b[39m\u001b[38;5;241m.\u001b[39myb) \u001b[38;5;241m==\u001b[39m \u001b[38;5;241m0\u001b[39m: \u001b[38;5;28;01mreturn\u001b[39;00m\n\u001b[1;32m    559\u001b[0m mets \u001b[38;5;241m=\u001b[39m \u001b[38;5;28mself\u001b[39m\u001b[38;5;241m.\u001b[39m_train_mets \u001b[38;5;28;01mif\u001b[39;00m \u001b[38;5;28mself\u001b[39m\u001b[38;5;241m.\u001b[39mtraining \u001b[38;5;28;01melse\u001b[39;00m \u001b[38;5;28mself\u001b[39m\u001b[38;5;241m.\u001b[39m_valid_mets\n\u001b[0;32m--> 560\u001b[0m \u001b[38;5;28;01mfor\u001b[39;00m met \u001b[38;5;129;01min\u001b[39;00m mets: \u001b[43mmet\u001b[49m\u001b[38;5;241;43m.\u001b[39;49m\u001b[43maccumulate\u001b[49m\u001b[43m(\u001b[49m\u001b[38;5;28;43mself\u001b[39;49m\u001b[38;5;241;43m.\u001b[39;49m\u001b[43mlearn\u001b[49m\u001b[43m)\u001b[49m\n\u001b[1;32m    561\u001b[0m \u001b[38;5;28;01mif\u001b[39;00m \u001b[38;5;129;01mnot\u001b[39;00m \u001b[38;5;28mself\u001b[39m\u001b[38;5;241m.\u001b[39mtraining: \u001b[38;5;28;01mreturn\u001b[39;00m\n\u001b[1;32m    562\u001b[0m \u001b[38;5;28mself\u001b[39m\u001b[38;5;241m.\u001b[39mlrs\u001b[38;5;241m.\u001b[39mappend(\u001b[38;5;28mself\u001b[39m\u001b[38;5;241m.\u001b[39mopt\u001b[38;5;241m.\u001b[39mhypers[\u001b[38;5;241m-\u001b[39m\u001b[38;5;241m1\u001b[39m][\u001b[38;5;124m'\u001b[39m\u001b[38;5;124mlr\u001b[39m\u001b[38;5;124m'\u001b[39m])\n",
      "File \u001b[0;32m~/conda/envs/torch2/lib/python3.10/site-packages/fastai/learner.py:509\u001b[0m, in \u001b[0;36mAvgSmoothLoss.accumulate\u001b[0;34m(self, learn)\u001b[0m\n\u001b[1;32m    507\u001b[0m \u001b[38;5;28;01mdef\u001b[39;00m \u001b[38;5;21maccumulate\u001b[39m(\u001b[38;5;28mself\u001b[39m, learn):\n\u001b[1;32m    508\u001b[0m     \u001b[38;5;28mself\u001b[39m\u001b[38;5;241m.\u001b[39mcount \u001b[38;5;241m+\u001b[39m\u001b[38;5;241m=\u001b[39m \u001b[38;5;241m1\u001b[39m\n\u001b[0;32m--> 509\u001b[0m     \u001b[38;5;28mself\u001b[39m\u001b[38;5;241m.\u001b[39mval \u001b[38;5;241m=\u001b[39m torch\u001b[38;5;241m.\u001b[39mlerp(\u001b[43mto_detach\u001b[49m\u001b[43m(\u001b[49m\u001b[43mlearn\u001b[49m\u001b[38;5;241;43m.\u001b[39;49m\u001b[43mloss\u001b[49m\u001b[38;5;241;43m.\u001b[39;49m\u001b[43mmean\u001b[49m\u001b[43m(\u001b[49m\u001b[43m)\u001b[49m\u001b[43m)\u001b[49m, \u001b[38;5;28mself\u001b[39m\u001b[38;5;241m.\u001b[39mval, \u001b[38;5;28mself\u001b[39m\u001b[38;5;241m.\u001b[39mbeta)\n",
      "File \u001b[0;32m~/conda/envs/torch2/lib/python3.10/site-packages/fastai/torch_core.py:244\u001b[0m, in \u001b[0;36mto_detach\u001b[0;34m(b, cpu, gather)\u001b[0m\n\u001b[1;32m    242\u001b[0m     \u001b[38;5;28;01mif\u001b[39;00m gather: x \u001b[38;5;241m=\u001b[39m maybe_gather(x)\n\u001b[1;32m    243\u001b[0m     \u001b[38;5;28;01mreturn\u001b[39;00m x\u001b[38;5;241m.\u001b[39mcpu() \u001b[38;5;28;01mif\u001b[39;00m cpu \u001b[38;5;28;01melse\u001b[39;00m x\n\u001b[0;32m--> 244\u001b[0m \u001b[38;5;28;01mreturn\u001b[39;00m \u001b[43mapply\u001b[49m\u001b[43m(\u001b[49m\u001b[43m_inner\u001b[49m\u001b[43m,\u001b[49m\u001b[43m \u001b[49m\u001b[43mb\u001b[49m\u001b[43m,\u001b[49m\u001b[43m \u001b[49m\u001b[43mcpu\u001b[49m\u001b[38;5;241;43m=\u001b[39;49m\u001b[43mcpu\u001b[49m\u001b[43m,\u001b[49m\u001b[43m \u001b[49m\u001b[43mgather\u001b[49m\u001b[38;5;241;43m=\u001b[39;49m\u001b[43mgather\u001b[49m\u001b[43m)\u001b[49m\n",
      "File \u001b[0;32m~/conda/envs/torch2/lib/python3.10/site-packages/fastai/torch_core.py:224\u001b[0m, in \u001b[0;36mapply\u001b[0;34m(func, x, *args, **kwargs)\u001b[0m\n\u001b[1;32m    222\u001b[0m \u001b[38;5;28;01mif\u001b[39;00m is_listy(x): \u001b[38;5;28;01mreturn\u001b[39;00m \u001b[38;5;28mtype\u001b[39m(x)([apply(func, o, \u001b[38;5;241m*\u001b[39margs, \u001b[38;5;241m*\u001b[39m\u001b[38;5;241m*\u001b[39mkwargs) \u001b[38;5;28;01mfor\u001b[39;00m o \u001b[38;5;129;01min\u001b[39;00m x])\n\u001b[1;32m    223\u001b[0m \u001b[38;5;28;01mif\u001b[39;00m \u001b[38;5;28misinstance\u001b[39m(x,\u001b[38;5;28mdict\u001b[39m):  \u001b[38;5;28;01mreturn\u001b[39;00m {k: apply(func, v, \u001b[38;5;241m*\u001b[39margs, \u001b[38;5;241m*\u001b[39m\u001b[38;5;241m*\u001b[39mkwargs) \u001b[38;5;28;01mfor\u001b[39;00m k,v \u001b[38;5;129;01min\u001b[39;00m x\u001b[38;5;241m.\u001b[39mitems()}\n\u001b[0;32m--> 224\u001b[0m res \u001b[38;5;241m=\u001b[39m \u001b[43mfunc\u001b[49m\u001b[43m(\u001b[49m\u001b[43mx\u001b[49m\u001b[43m,\u001b[49m\u001b[43m \u001b[49m\u001b[38;5;241;43m*\u001b[39;49m\u001b[43margs\u001b[49m\u001b[43m,\u001b[49m\u001b[43m \u001b[49m\u001b[38;5;241;43m*\u001b[39;49m\u001b[38;5;241;43m*\u001b[39;49m\u001b[43mkwargs\u001b[49m\u001b[43m)\u001b[49m\n\u001b[1;32m    225\u001b[0m \u001b[38;5;28;01mreturn\u001b[39;00m res \u001b[38;5;28;01mif\u001b[39;00m x \u001b[38;5;129;01mis\u001b[39;00m \u001b[38;5;28;01mNone\u001b[39;00m \u001b[38;5;28;01melse\u001b[39;00m retain_type(res, x)\n",
      "File \u001b[0;32m~/conda/envs/torch2/lib/python3.10/site-packages/fastai/torch_core.py:243\u001b[0m, in \u001b[0;36mto_detach.<locals>._inner\u001b[0;34m(x, cpu, gather)\u001b[0m\n\u001b[1;32m    241\u001b[0m x \u001b[38;5;241m=\u001b[39m x\u001b[38;5;241m.\u001b[39mdetach()\n\u001b[1;32m    242\u001b[0m \u001b[38;5;28;01mif\u001b[39;00m gather: x \u001b[38;5;241m=\u001b[39m maybe_gather(x)\n\u001b[0;32m--> 243\u001b[0m \u001b[38;5;28;01mreturn\u001b[39;00m \u001b[43mx\u001b[49m\u001b[38;5;241;43m.\u001b[39;49m\u001b[43mcpu\u001b[49m\u001b[43m(\u001b[49m\u001b[43m)\u001b[49m \u001b[38;5;28;01mif\u001b[39;00m cpu \u001b[38;5;28;01melse\u001b[39;00m x\n",
      "\u001b[0;31mKeyboardInterrupt\u001b[0m: "
     ]
    }
   ],
   "source": [
    "learn.fit_flat_cos(5, 3e-3)"
   ]
  },
  {
   "cell_type": "code",
   "execution_count": null,
   "metadata": {},
   "outputs": [],
   "source": []
  }
 ],
 "metadata": {
  "kernelspec": {
   "display_name": "Python 3 (ipykernel)",
   "language": "python",
   "name": "python3"
  },
  "language_info": {
   "codemirror_mode": {
    "name": "ipython",
    "version": 3
   },
   "file_extension": ".py",
   "mimetype": "text/x-python",
   "name": "python",
   "nbconvert_exporter": "python",
   "pygments_lexer": "ipython3",
   "version": "3.10.12"
  }
 },
 "nbformat": 4,
 "nbformat_minor": 4
}
