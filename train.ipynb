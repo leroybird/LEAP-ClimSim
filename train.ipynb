{
 "cells": [
  {
   "cell_type": "code",
   "execution_count": 1,
   "metadata": {},
   "outputs": [],
   "source": [
    "%load_ext autoreload\n",
    "%autoreload 2"
   ]
  },
  {
   "cell_type": "code",
   "execution_count": 2,
   "metadata": {},
   "outputs": [
    {
     "name": "stderr",
     "output_type": "stream",
     "text": [
      "/home/leroy/conda/envs/torch2/lib/python3.10/site-packages/tqdm/auto.py:21: TqdmWarning: IProgress not found. Please update jupyter and ipywidgets. See https://ipywidgets.readthedocs.io/en/stable/user_install.html\n",
      "  from .autonotebook import tqdm as notebook_tqdm\n"
     ]
    }
   ],
   "source": [
    "from pathlib import Path\n",
    "import polars as pl\n",
    "import fastai.vision.all as fv\n",
    "import numpy as np\n",
    "import torch\n",
    "\n",
    "# Enable TFloat\n",
    "torch.set_float32_matmul_precision('high')\n",
    "\n",
    "from torch.utils.data import Dataset\n",
    "import pandas as pd\n",
    "from sklearn.model_selection import train_test_split\n",
    "\n",
    "from einops.layers.torch import Rearrange, Reduce\n",
    "from einops import rearrange\n",
    "from torchvision.ops import Permute\n",
    "import torch.nn.functional as F\n",
    "from typing import Callable, Optional\n",
    "from torch import nn, Tensor\n",
    "from torch.nn import functional as F\n",
    "from functools import partial\n",
    "\n",
    "from arch import Net"
   ]
  },
  {
   "cell_type": "code",
   "execution_count": 3,
   "metadata": {},
   "outputs": [],
   "source": [
    "#test_df = pl.read_csv('/mnt/ssd/kaggle/test.csv')\n",
    "weightings = pd.read_csv('/mnt/ssd/kaggle/sample_submission.csv', nrows=1)\n",
    "#train_df = pl.read_csv('/mnt/ssd/kaggle/train.csv', n_rows=1_000_000, n_threads=10) # dtypes=[pl.datatypes.String] + [pl.Float32]*924"
   ]
  },
  {
   "cell_type": "code",
   "execution_count": 4,
   "metadata": {},
   "outputs": [],
   "source": [
    "weights = weightings.iloc[0, 1:].values.astype(np.float64)"
   ]
  },
  {
   "cell_type": "code",
   "execution_count": 5,
   "metadata": {},
   "outputs": [],
   "source": [
    "#train_df.write_parquet('/mnt/ssd/kaggle/train3.parquet')\n",
    "#test_df.write_parquet('/mnt/ssd/kaggle/test.parquet')\n",
    "#test_df = pl.read_parquet('/mnt/ssd/kaggle/test.parquet')\n",
    "train_df = pl.read_parquet('/mnt/ssd/kaggle/train2.parquet')"
   ]
  },
  {
   "cell_type": "code",
   "execution_count": 162,
   "metadata": {},
   "outputs": [
    {
     "data": {
      "text/plain": [
       "(16, 8)"
      ]
     },
     "execution_count": 162,
     "metadata": {},
     "output_type": "execute_result"
    }
   ],
   "source": [
    "pl.Config(tbl_cols=-1)\n",
    "\n",
    "FEAT_COLS = train_df.columns[1:557-60*3]\n",
    "TARGET_COLS= train_df.columns[557:]\n",
    "\n",
    "NUM_VERT = 60\n",
    "NUM_VERT_FEAT = 6\n",
    "NUM_VERT_FEAT_Y = 6\n",
    "\n",
    "\n",
    "\n",
    "FEAT_COLS = train_df.columns[1:557-60*3]\n",
    "TARGET_COLS= train_df.columns[557:]\n",
    "\n",
    "\n",
    "NUM_2D_FEAT = len(FEAT_COLS) - NUM_VERT*NUM_VERT_FEAT\n",
    "NUM_2D_FEAT_Y = len(TARGET_COLS) - NUM_VERT*NUM_VERT_FEAT_Y\n",
    "\n",
    "# Predict a multiplier of q for q_tends\n",
    "FRAC_IDXS = (NUM_VERT, NUM_VERT*4)\n",
    "\n",
    "NUM_2D_FEAT, NUM_2D_FEAT_Y"
   ]
  },
  {
   "cell_type": "code",
   "execution_count": 11,
   "metadata": {},
   "outputs": [
    {
     "data": {
      "text/plain": [
       "(['state_ps',\n",
       "  'pbuf_SOLIN',\n",
       "  'pbuf_LHFLX',\n",
       "  'pbuf_SHFLX',\n",
       "  'pbuf_TAUX',\n",
       "  'pbuf_TAUY',\n",
       "  'pbuf_COSZRS',\n",
       "  'cam_in_ALDIF',\n",
       "  'cam_in_ALDIR',\n",
       "  'cam_in_ASDIF',\n",
       "  'cam_in_ASDIR',\n",
       "  'cam_in_LWUP',\n",
       "  'cam_in_ICEFRAC',\n",
       "  'cam_in_LANDFRAC',\n",
       "  'cam_in_OCNFRAC',\n",
       "  'cam_in_SNOWHLAND'],\n",
       " ['cam_out_NETSW',\n",
       "  'cam_out_FLWDS',\n",
       "  'cam_out_PRECSC',\n",
       "  'cam_out_PRECC',\n",
       "  'cam_out_SOLS',\n",
       "  'cam_out_SOLL',\n",
       "  'cam_out_SOLSD',\n",
       "  'cam_out_SOLLD'])"
      ]
     },
     "execution_count": 11,
     "metadata": {},
     "output_type": "execute_result"
    }
   ],
   "source": [
    "FEAT_COLS[-NUM_2D_FEAT:], TARGET_COLS[-NUM_2D_FEAT_Y:]"
   ]
  },
  {
   "cell_type": "code",
   "execution_count": 12,
   "metadata": {},
   "outputs": [],
   "source": [
    "x_train = train_df.select(FEAT_COLS).to_numpy()\n",
    "y_train = train_df.select(TARGET_COLS).to_numpy()\n",
    "\n",
    "x_train, x_val, y_train, y_val = train_test_split(x_train, y_train, test_size=0.05, random_state=42)"
   ]
  },
  {
   "cell_type": "code",
   "execution_count": 13,
   "metadata": {},
   "outputs": [],
   "source": [
    "#x_test = test_df.select(FEAT_COLS).to_numpy()"
   ]
  },
  {
   "cell_type": "code",
   "execution_count": 14,
   "metadata": {},
   "outputs": [],
   "source": [
    "# import gc\n",
    "# del train_df\n",
    "# gc.collect()"
   ]
  },
  {
   "cell_type": "code",
   "execution_count": 15,
   "metadata": {
    "collapsed": true,
    "jupyter": {
     "outputs_hidden": true
    }
   },
   "outputs": [
    {
     "data": {
      "text/html": [
       "<div><style>\n",
       ".dataframe > thead > tr,\n",
       ".dataframe > tbody > tr {\n",
       "  text-align: right;\n",
       "  white-space: pre-wrap;\n",
       "}\n",
       "</style>\n",
       "<small>shape: (1, 368)</small><table border=\"1\" class=\"dataframe\"><thead><tr><th>ptend_t_0</th><th>ptend_t_1</th><th>ptend_t_2</th><th>ptend_t_3</th><th>ptend_t_4</th><th>ptend_t_5</th><th>ptend_t_6</th><th>ptend_t_7</th><th>ptend_t_8</th><th>ptend_t_9</th><th>ptend_t_10</th><th>ptend_t_11</th><th>ptend_t_12</th><th>ptend_t_13</th><th>ptend_t_14</th><th>ptend_t_15</th><th>ptend_t_16</th><th>ptend_t_17</th><th>ptend_t_18</th><th>ptend_t_19</th><th>ptend_t_20</th><th>ptend_t_21</th><th>ptend_t_22</th><th>ptend_t_23</th><th>ptend_t_24</th><th>ptend_t_25</th><th>ptend_t_26</th><th>ptend_t_27</th><th>ptend_t_28</th><th>ptend_t_29</th><th>ptend_t_30</th><th>ptend_t_31</th><th>ptend_t_32</th><th>ptend_t_33</th><th>ptend_t_34</th><th>ptend_t_35</th><th>ptend_t_36</th><th>ptend_t_37</th><th>ptend_t_38</th><th>ptend_t_39</th><th>ptend_t_40</th><th>ptend_t_41</th><th>ptend_t_42</th><th>ptend_t_43</th><th>ptend_t_44</th><th>ptend_t_45</th><th>ptend_t_46</th><th>ptend_t_47</th><th>ptend_t_48</th><th>ptend_t_49</th><th>ptend_t_50</th><th>ptend_t_51</th><th>ptend_t_52</th><th>ptend_t_53</th><th>ptend_t_54</th><th>ptend_t_55</th><th>ptend_t_56</th><th>ptend_t_57</th><th>ptend_t_58</th><th>ptend_t_59</th><th>ptend_q0001_0</th><th>ptend_q0001_1</th><th>ptend_q0001_2</th><th>ptend_q0001_3</th><th>ptend_q0001_4</th><th>ptend_q0001_5</th><th>ptend_q0001_6</th><th>ptend_q0001_7</th><th>ptend_q0001_8</th><th>ptend_q0001_9</th><th>ptend_q0001_10</th><th>ptend_q0001_11</th><th>ptend_q0001_12</th><th>ptend_q0001_13</th><th>ptend_q0001_14</th><th>ptend_q0001_15</th><th>ptend_q0001_16</th><th>ptend_q0001_17</th><th>ptend_q0001_18</th><th>ptend_q0001_19</th><th>ptend_q0001_20</th><th>ptend_q0001_21</th><th>ptend_q0001_22</th><th>ptend_q0001_23</th><th>ptend_q0001_24</th><th>ptend_q0001_25</th><th>ptend_q0001_26</th><th>ptend_q0001_27</th><th>ptend_q0001_28</th><th>ptend_q0001_29</th><th>ptend_q0001_30</th><th>ptend_q0001_31</th><th>ptend_q0001_32</th><th>ptend_q0001_33</th><th>ptend_q0001_34</th><th>ptend_q0001_35</th><th>ptend_q0001_36</th><th>ptend_q0001_37</th><th>ptend_q0001_38</th><th>ptend_q0001_39</th><th>ptend_q0001_40</th><th>ptend_q0001_41</th><th>ptend_q0001_42</th><th>ptend_q0001_43</th><th>ptend_q0001_44</th><th>ptend_q0001_45</th><th>ptend_q0001_46</th><th>ptend_q0001_47</th><th>ptend_q0001_48</th><th>ptend_q0001_49</th><th>ptend_q0001_50</th><th>ptend_q0001_51</th><th>ptend_q0001_52</th><th>ptend_q0001_53</th><th>ptend_q0001_54</th><th>ptend_q0001_55</th><th>ptend_q0001_56</th><th>ptend_q0001_57</th><th>ptend_q0001_58</th><th>ptend_q0001_59</th><th>ptend_q0002_0</th><th>ptend_q0002_1</th><th>ptend_q0002_2</th><th>ptend_q0002_3</th><th>ptend_q0002_4</th><th>ptend_q0002_5</th><th>ptend_q0002_6</th><th>ptend_q0002_7</th><th>ptend_q0002_8</th><th>ptend_q0002_9</th><th>ptend_q0002_10</th><th>ptend_q0002_11</th><th>ptend_q0002_12</th><th>ptend_q0002_13</th><th>ptend_q0002_14</th><th>ptend_q0002_15</th><th>ptend_q0002_16</th><th>ptend_q0002_17</th><th>ptend_q0002_18</th><th>ptend_q0002_19</th><th>ptend_q0002_20</th><th>ptend_q0002_21</th><th>ptend_q0002_22</th><th>ptend_q0002_23</th><th>ptend_q0002_24</th><th>ptend_q0002_25</th><th>ptend_q0002_26</th><th>ptend_q0002_27</th><th>ptend_q0002_28</th><th>ptend_q0002_29</th><th>ptend_q0002_30</th><th>ptend_q0002_31</th><th>ptend_q0002_32</th><th>ptend_q0002_33</th><th>ptend_q0002_34</th><th>ptend_q0002_35</th><th>ptend_q0002_36</th><th>ptend_q0002_37</th><th>ptend_q0002_38</th><th>ptend_q0002_39</th><th>ptend_q0002_40</th><th>ptend_q0002_41</th><th>ptend_q0002_42</th><th>ptend_q0002_43</th><th>ptend_q0002_44</th><th>ptend_q0002_45</th><th>ptend_q0002_46</th><th>ptend_q0002_47</th><th>ptend_q0002_48</th><th>ptend_q0002_49</th><th>ptend_q0002_50</th><th>ptend_q0002_51</th><th>ptend_q0002_52</th><th>ptend_q0002_53</th><th>ptend_q0002_54</th><th>ptend_q0002_55</th><th>ptend_q0002_56</th><th>ptend_q0002_57</th><th>ptend_q0002_58</th><th>ptend_q0002_59</th><th>ptend_q0003_0</th><th>ptend_q0003_1</th><th>ptend_q0003_2</th><th>ptend_q0003_3</th><th>ptend_q0003_4</th><th>ptend_q0003_5</th><th>ptend_q0003_6</th><th>ptend_q0003_7</th><th>ptend_q0003_8</th><th>ptend_q0003_9</th><th>ptend_q0003_10</th><th>ptend_q0003_11</th><th>ptend_q0003_12</th><th>ptend_q0003_13</th><th>ptend_q0003_14</th><th>ptend_q0003_15</th><th>ptend_q0003_16</th><th>ptend_q0003_17</th><th>ptend_q0003_18</th><th>ptend_q0003_19</th><th>ptend_q0003_20</th><th>ptend_q0003_21</th><th>ptend_q0003_22</th><th>ptend_q0003_23</th><th>ptend_q0003_24</th><th>ptend_q0003_25</th><th>ptend_q0003_26</th><th>ptend_q0003_27</th><th>ptend_q0003_28</th><th>ptend_q0003_29</th><th>ptend_q0003_30</th><th>ptend_q0003_31</th><th>ptend_q0003_32</th><th>ptend_q0003_33</th><th>ptend_q0003_34</th><th>ptend_q0003_35</th><th>ptend_q0003_36</th><th>ptend_q0003_37</th><th>ptend_q0003_38</th><th>ptend_q0003_39</th><th>ptend_q0003_40</th><th>ptend_q0003_41</th><th>ptend_q0003_42</th><th>ptend_q0003_43</th><th>ptend_q0003_44</th><th>ptend_q0003_45</th><th>ptend_q0003_46</th><th>ptend_q0003_47</th><th>ptend_q0003_48</th><th>ptend_q0003_49</th><th>ptend_q0003_50</th><th>ptend_q0003_51</th><th>ptend_q0003_52</th><th>ptend_q0003_53</th><th>ptend_q0003_54</th><th>ptend_q0003_55</th><th>ptend_q0003_56</th><th>ptend_q0003_57</th><th>ptend_q0003_58</th><th>ptend_q0003_59</th><th>ptend_u_0</th><th>ptend_u_1</th><th>ptend_u_2</th><th>ptend_u_3</th><th>ptend_u_4</th><th>ptend_u_5</th><th>ptend_u_6</th><th>ptend_u_7</th><th>ptend_u_8</th><th>ptend_u_9</th><th>ptend_u_10</th><th>ptend_u_11</th><th>ptend_u_12</th><th>ptend_u_13</th><th>ptend_u_14</th><th>ptend_u_15</th><th>ptend_u_16</th><th>ptend_u_17</th><th>ptend_u_18</th><th>ptend_u_19</th><th>ptend_u_20</th><th>ptend_u_21</th><th>ptend_u_22</th><th>ptend_u_23</th><th>ptend_u_24</th><th>ptend_u_25</th><th>ptend_u_26</th><th>ptend_u_27</th><th>ptend_u_28</th><th>ptend_u_29</th><th>ptend_u_30</th><th>ptend_u_31</th><th>ptend_u_32</th><th>ptend_u_33</th><th>ptend_u_34</th><th>ptend_u_35</th><th>ptend_u_36</th><th>ptend_u_37</th><th>ptend_u_38</th><th>ptend_u_39</th><th>ptend_u_40</th><th>ptend_u_41</th><th>ptend_u_42</th><th>ptend_u_43</th><th>ptend_u_44</th><th>ptend_u_45</th><th>ptend_u_46</th><th>ptend_u_47</th><th>ptend_u_48</th><th>ptend_u_49</th><th>ptend_u_50</th><th>ptend_u_51</th><th>ptend_u_52</th><th>ptend_u_53</th><th>ptend_u_54</th><th>ptend_u_55</th><th>ptend_u_56</th><th>ptend_u_57</th><th>ptend_u_58</th><th>ptend_u_59</th><th>ptend_v_0</th><th>ptend_v_1</th><th>ptend_v_2</th><th>ptend_v_3</th><th>ptend_v_4</th><th>ptend_v_5</th><th>ptend_v_6</th><th>ptend_v_7</th><th>ptend_v_8</th><th>ptend_v_9</th><th>ptend_v_10</th><th>ptend_v_11</th><th>ptend_v_12</th><th>ptend_v_13</th><th>ptend_v_14</th><th>ptend_v_15</th><th>ptend_v_16</th><th>ptend_v_17</th><th>ptend_v_18</th><th>ptend_v_19</th><th>ptend_v_20</th><th>ptend_v_21</th><th>ptend_v_22</th><th>ptend_v_23</th><th>ptend_v_24</th><th>ptend_v_25</th><th>ptend_v_26</th><th>ptend_v_27</th><th>ptend_v_28</th><th>ptend_v_29</th><th>ptend_v_30</th><th>ptend_v_31</th><th>ptend_v_32</th><th>ptend_v_33</th><th>ptend_v_34</th><th>ptend_v_35</th><th>ptend_v_36</th><th>ptend_v_37</th><th>ptend_v_38</th><th>ptend_v_39</th><th>ptend_v_40</th><th>ptend_v_41</th><th>ptend_v_42</th><th>ptend_v_43</th><th>ptend_v_44</th><th>ptend_v_45</th><th>ptend_v_46</th><th>ptend_v_47</th><th>ptend_v_48</th><th>ptend_v_49</th><th>ptend_v_50</th><th>ptend_v_51</th><th>ptend_v_52</th><th>ptend_v_53</th><th>ptend_v_54</th><th>ptend_v_55</th><th>ptend_v_56</th><th>ptend_v_57</th><th>ptend_v_58</th><th>ptend_v_59</th><th>cam_out_NETSW</th><th>cam_out_FLWDS</th><th>cam_out_PRECSC</th><th>cam_out_PRECC</th><th>cam_out_SOLS</th><th>cam_out_SOLL</th><th>cam_out_SOLSD</th><th>cam_out_SOLLD</th></tr><tr><td>f32</td><td>f32</td><td>f32</td><td>f32</td><td>f32</td><td>f32</td><td>f32</td><td>f32</td><td>f32</td><td>f32</td><td>f32</td><td>f32</td><td>f32</td><td>f32</td><td>f32</td><td>f32</td><td>f32</td><td>f32</td><td>f32</td><td>f32</td><td>f32</td><td>f32</td><td>f32</td><td>f32</td><td>f32</td><td>f32</td><td>f32</td><td>f32</td><td>f32</td><td>f32</td><td>f32</td><td>f32</td><td>f32</td><td>f32</td><td>f32</td><td>f32</td><td>f32</td><td>f32</td><td>f32</td><td>f32</td><td>f32</td><td>f32</td><td>f32</td><td>f32</td><td>f32</td><td>f32</td><td>f32</td><td>f32</td><td>f32</td><td>f32</td><td>f32</td><td>f32</td><td>f32</td><td>f32</td><td>f32</td><td>f32</td><td>f32</td><td>f32</td><td>f32</td><td>f32</td><td>f32</td><td>f32</td><td>f32</td><td>f32</td><td>f32</td><td>f32</td><td>f32</td><td>f32</td><td>f32</td><td>f32</td><td>f32</td><td>f32</td><td>f32</td><td>f32</td><td>f32</td><td>f32</td><td>f32</td><td>f32</td><td>f32</td><td>f32</td><td>f32</td><td>f32</td><td>f32</td><td>f32</td><td>f32</td><td>f32</td><td>f32</td><td>f32</td><td>f32</td><td>f32</td><td>f32</td><td>f32</td><td>f32</td><td>f32</td><td>f32</td><td>f32</td><td>f32</td><td>f32</td><td>f32</td><td>f32</td><td>f32</td><td>f32</td><td>f32</td><td>f32</td><td>f32</td><td>f32</td><td>f32</td><td>f32</td><td>f32</td><td>f32</td><td>f32</td><td>f32</td><td>f32</td><td>f32</td><td>f32</td><td>f32</td><td>f32</td><td>f32</td><td>f32</td><td>f32</td><td>f32</td><td>f32</td><td>f32</td><td>f32</td><td>f32</td><td>f32</td><td>f32</td><td>f32</td><td>f32</td><td>f32</td><td>f32</td><td>f32</td><td>f32</td><td>f32</td><td>f32</td><td>f32</td><td>f32</td><td>f32</td><td>f32</td><td>f32</td><td>f32</td><td>f32</td><td>f32</td><td>f32</td><td>f32</td><td>f32</td><td>f32</td><td>f32</td><td>f32</td><td>f32</td><td>f32</td><td>f32</td><td>f32</td><td>f32</td><td>f32</td><td>f32</td><td>f32</td><td>f32</td><td>f32</td><td>f32</td><td>f32</td><td>f32</td><td>f32</td><td>f32</td><td>f32</td><td>f32</td><td>f32</td><td>f32</td><td>f32</td><td>f32</td><td>f32</td><td>f32</td><td>f32</td><td>f32</td><td>f32</td><td>f32</td><td>f32</td><td>f32</td><td>f32</td><td>f32</td><td>f32</td><td>f32</td><td>f32</td><td>f32</td><td>f32</td><td>f32</td><td>f32</td><td>f32</td><td>f32</td><td>f32</td><td>f32</td><td>f32</td><td>f32</td><td>f32</td><td>f32</td><td>f32</td><td>f32</td><td>f32</td><td>f32</td><td>f32</td><td>f32</td><td>f32</td><td>f32</td><td>f32</td><td>f32</td><td>f32</td><td>f32</td><td>f32</td><td>f32</td><td>f32</td><td>f32</td><td>f32</td><td>f32</td><td>f32</td><td>f32</td><td>f32</td><td>f32</td><td>f32</td><td>f32</td><td>f32</td><td>f32</td><td>f32</td><td>f32</td><td>f32</td><td>f32</td><td>f32</td><td>f32</td><td>f32</td><td>f32</td><td>f32</td><td>f32</td><td>f32</td><td>f32</td><td>f32</td><td>f32</td><td>f32</td><td>f32</td><td>f32</td><td>f32</td><td>f32</td><td>f32</td><td>f32</td><td>f32</td><td>f32</td><td>f32</td><td>f32</td><td>f32</td><td>f32</td><td>f32</td><td>f32</td><td>f32</td><td>f32</td><td>f32</td><td>f32</td><td>f32</td><td>f32</td><td>f32</td><td>f32</td><td>f32</td><td>f32</td><td>f32</td><td>f32</td><td>f32</td><td>f32</td><td>f32</td><td>f32</td><td>f32</td><td>f32</td><td>f32</td><td>f32</td><td>f32</td><td>f32</td><td>f32</td><td>f32</td><td>f32</td><td>f32</td><td>f32</td><td>f32</td><td>f32</td><td>f32</td><td>f32</td><td>f32</td><td>f32</td><td>f32</td><td>f32</td><td>f32</td><td>f32</td><td>f32</td><td>f32</td><td>f32</td><td>f32</td><td>f32</td><td>f32</td><td>f32</td><td>f32</td><td>f32</td><td>f32</td><td>f32</td><td>f32</td><td>f32</td><td>f32</td><td>f32</td><td>f32</td><td>f32</td><td>f32</td><td>f32</td><td>f32</td><td>f32</td><td>f32</td><td>f32</td><td>f32</td><td>f32</td><td>f32</td><td>f32</td><td>f32</td><td>f32</td><td>f32</td><td>f32</td><td>f32</td><td>f32</td><td>f32</td><td>f32</td><td>f32</td><td>f32</td><td>f32</td><td>f32</td><td>f32</td><td>f32</td><td>f32</td><td>f32</td><td>f32</td><td>f32</td><td>f32</td><td>f32</td><td>f32</td><td>f32</td><td>f32</td><td>f32</td><td>f32</td><td>f32</td><td>f32</td><td>f32</td><td>f32</td><td>f32</td><td>f32</td><td>f32</td><td>f32</td><td>f32</td><td>f32</td><td>f32</td><td>f32</td><td>f32</td><td>f32</td><td>f32</td><td>f32</td><td>f32</td><td>f32</td><td>f32</td><td>f32</td><td>f32</td><td>f32</td><td>f32</td><td>f32</td><td>f32</td><td>f32</td><td>f32</td><td>f32</td><td>f32</td></tr></thead><tbody><tr><td>0.000031</td><td>0.000044</td><td>0.000052</td><td>0.000069</td><td>0.000091</td><td>0.00011</td><td>0.000103</td><td>0.000079</td><td>0.00005</td><td>0.000039</td><td>0.000029</td><td>0.000023</td><td>0.000017</td><td>0.000013</td><td>0.000009</td><td>0.000007</td><td>0.000007</td><td>0.000008</td><td>0.000011</td><td>0.000014</td><td>0.000015</td><td>0.000016</td><td>0.000018</td><td>0.00002</td><td>0.000023</td><td>0.000027</td><td>0.000032</td><td>0.000037</td><td>0.000043</td><td>0.000049</td><td>0.000054</td><td>0.000058</td><td>0.000061</td><td>0.000063</td><td>0.000064</td><td>0.000064</td><td>0.000064</td><td>0.000063</td><td>0.000063</td><td>0.000062</td><td>0.000062</td><td>0.000061</td><td>0.000061</td><td>0.000061</td><td>0.000062</td><td>0.000062</td><td>0.000061</td><td>0.00006</td><td>0.000059</td><td>0.000057</td><td>0.000056</td><td>0.000054</td><td>0.000053</td><td>0.000051</td><td>0.000049</td><td>0.000048</td><td>0.000047</td><td>0.000048</td><td>0.000052</td><td>0.000073</td><td>3.0126e-14</td><td>2.6737e-14</td><td>2.0428e-14</td><td>8.0598e-15</td><td>0.0</td><td>0.0</td><td>0.0</td><td>0.0</td><td>0.0</td><td>0.0</td><td>0.0</td><td>0.0</td><td>4.0501e-13</td><td>5.7854e-13</td><td>5.9093e-12</td><td>3.0890e-11</td><td>2.8861e-11</td><td>2.1394e-11</td><td>3.9415e-11</td><td>8.8460e-11</td><td>1.8587e-10</td><td>4.1283e-10</td><td>9.0034e-10</td><td>1.7546e-9</td><td>3.0770e-9</td><td>4.8847e-9</td><td>7.0016e-9</td><td>9.1936e-9</td><td>1.1375e-8</td><td>1.3668e-8</td><td>1.5808e-8</td><td>1.7528e-8</td><td>1.8941e-8</td><td>2.0209e-8</td><td>2.1551e-8</td><td>2.3214e-8</td><td>2.5207e-8</td><td>2.7585e-8</td><td>3.0338e-8</td><td>3.3652e-8</td><td>3.7248e-8</td><td>4.1136e-8</td><td>4.5113e-8</td><td>4.8826e-8</td><td>5.2148e-8</td><td>5.5060e-8</td><td>5.7212e-8</td><td>5.8341e-8</td><td>5.8862e-8</td><td>5.8855e-8</td><td>5.8584e-8</td><td>5.8082e-8</td><td>5.7340e-8</td><td>5.6311e-8</td><td>5.4595e-8</td><td>5.1675e-8</td><td>4.8864e-8</td><td>4.4558e-8</td><td>4.2696e-8</td><td>3.8138e-8</td><td>0.0</td><td>0.0</td><td>0.0</td><td>0.0</td><td>0.0</td><td>0.0</td><td>0.0</td><td>0.0</td><td>0.0</td><td>0.0</td><td>0.0</td><td>0.0</td><td>3.4695e-40</td><td>1.4013e-45</td><td>0.0</td><td>0.0</td><td>0.0</td><td>7.5950e-43</td><td>4.3306e-40</td><td>6.5449e-38</td><td>2.8563e-35</td><td>2.4191e-32</td><td>2.4743e-29</td><td>2.5002e-26</td><td>3.8156e-23</td><td>7.1074e-20</td><td>2.3874e-15</td><td>9.7332e-13</td><td>7.8717e-11</td><td>3.5486e-10</td><td>7.1401e-10</td><td>1.1387e-9</td><td>1.7967e-9</td><td>2.6032e-9</td><td>3.4955e-9</td><td>4.5094e-9</td><td>5.5520e-9</td><td>6.4869e-9</td><td>7.2571e-9</td><td>7.9071e-9</td><td>8.4647e-9</td><td>8.9999e-9</td><td>9.5247e-9</td><td>1.0002e-8</td><td>1.0461e-8</td><td>1.0927e-8</td><td>1.1243e-8</td><td>1.1257e-8</td><td>1.0931e-8</td><td>1.0364e-8</td><td>9.5792e-9</td><td>8.6267e-9</td><td>7.5772e-9</td><td>6.4630e-9</td><td>5.4365e-9</td><td>4.5947e-9</td><td>4.0056e-9</td><td>3.6946e-9</td><td>3.5091e-9</td><td>2.6162e-9</td><td>0.0</td><td>0.0</td><td>0.0</td><td>0.0</td><td>0.0</td><td>0.0</td><td>0.0</td><td>0.0</td><td>0.0</td><td>0.0</td><td>0.0</td><td>0.0</td><td>3.5123e-13</td><td>4.1817e-13</td><td>5.0567e-13</td><td>6.0545e-11</td><td>3.4487e-10</td><td>9.2287e-10</td><td>1.3645e-9</td><td>2.6443e-9</td><td>3.4808e-9</td><td>4.3147e-9</td><td>5.0769e-9</td><td>5.7779e-9</td><td>6.2777e-9</td><td>6.5702e-9</td><td>6.6159e-9</td><td>6.5724e-9</td><td>6.5303e-9</td><td>6.5324e-9</td><td>6.4516e-9</td><td>6.0962e-9</td><td>5.5369e-9</td><td>4.9873e-9</td><td>4.5360e-9</td><td>4.1500e-9</td><td>3.8123e-9</td><td>3.5296e-9</td><td>3.2851e-9</td><td>3.0656e-9</td><td>2.8639e-9</td><td>2.6775e-9</td><td>2.5107e-9</td><td>2.3597e-9</td><td>2.2163e-9</td><td>2.0812e-9</td><td>1.9602e-9</td><td>1.8555e-9</td><td>1.7585e-9</td><td>1.6766e-9</td><td>1.6036e-9</td><td>1.5499e-9</td><td>1.5064e-9</td><td>1.4551e-9</td><td>1.3945e-9</td><td>1.3384e-9</td><td>1.3020e-9</td><td>1.2819e-9</td><td>1.2422e-9</td><td>1.2923e-9</td><td>0.0</td><td>0.0</td><td>0.0</td><td>0.0</td><td>0.0</td><td>0.0</td><td>0.0</td><td>0.0</td><td>0.0</td><td>0.0</td><td>0.0</td><td>0.0</td><td>2.1715e-7</td><td>5.0729e-7</td><td>0.000001</td><td>0.000002</td><td>0.000005</td><td>0.000009</td><td>0.000017</td><td>0.000025</td><td>0.000021</td><td>0.000019</td><td>0.000018</td><td>0.000017</td><td>0.000015</td><td>0.000014</td><td>0.000013</td><td>0.000012</td><td>0.000011</td><td>0.000011</td><td>0.000011</td><td>0.00001</td><td>0.00001</td><td>0.00001</td><td>0.00001</td><td>0.00001</td><td>0.00001</td><td>0.000011</td><td>0.000011</td><td>0.000012</td><td>0.000012</td><td>0.000013</td><td>0.000013</td><td>0.000014</td><td>0.000015</td><td>0.000017</td><td>0.000018</td><td>0.00002</td><td>0.000022</td><td>0.000024</td><td>0.000026</td><td>0.00003</td><td>0.000032</td><td>0.000031</td><td>0.000032</td><td>0.000033</td><td>0.000037</td><td>0.000036</td><td>0.000034</td><td>0.000053</td><td>0.0</td><td>0.0</td><td>0.0</td><td>0.0</td><td>0.0</td><td>0.0</td><td>0.0</td><td>0.0</td><td>0.0</td><td>0.0</td><td>0.0</td><td>0.0</td><td>1.3122e-7</td><td>3.1846e-7</td><td>7.6924e-7</td><td>0.000002</td><td>0.000005</td><td>0.00001</td><td>0.000015</td><td>0.00002</td><td>0.000019</td><td>0.000019</td><td>0.000018</td><td>0.000018</td><td>0.000016</td><td>0.000014</td><td>0.000013</td><td>0.000011</td><td>0.000011</td><td>0.00001</td><td>0.000009</td><td>0.000008</td><td>0.000008</td><td>0.000007</td><td>0.000007</td><td>0.000007</td><td>0.000007</td><td>0.000008</td><td>0.000009</td><td>0.000009</td><td>0.00001</td><td>0.000011</td><td>0.000011</td><td>0.000012</td><td>0.000013</td><td>0.000014</td><td>0.000015</td><td>0.000016</td><td>0.000017</td><td>0.000018</td><td>0.00002</td><td>0.000022</td><td>0.000024</td><td>0.000027</td><td>0.000029</td><td>0.00003</td><td>0.00003</td><td>0.000028</td><td>0.000024</td><td>0.000034</td><td>246.290054</td><td>71.820534</td><td>7.3717e-9</td><td>8.1913e-8</td><td>110.251625</td><td>116.304359</td><td>46.065258</td><td>29.465122</td></tr></tbody></table></div>"
      ],
      "text/plain": [
       "shape: (1, 368)\n",
       "┌─────┬─────┬─────┬─────┬─────┬─────┬─────┬─────┬─────┬─────┬─────┬─────┬─────┬─────┬─────┬─────┬─────┬─────┬─────┬─────┬─────┬─────┬─────┬─────┬─────┬─────┬─────┬─────┬─────┬─────┬─────┬─────┬─────┬─────┬─────┬─────┬─────┬─────┬─────┬─────┬─────┬─────┬─────┬─────┬─────┬─────┬─────┬─────┬─────┬─────┬─────┬─────┬─────┬─────┬─────┬─────┬─────┬─────┬─────┬─────┬─────┬─────┬─────┬─────┬─────┬─────┬─────┬─────┬─────┬─────┬─────┬─────┬─────┬─────┬─────┬─────┬─────┬─────┬─────┬─────┬─────┬─────┬─────┬─────┬─────┬─────┬─────┬─────┬─────┬─────┬─────┬─────┬─────┬─────┬─────┬─────┬─────┬─────┬─────┬─────┬─────┬─────┬─────┬─────┬─────┬─────┬─────┬─────┬─────┬─────┬─────┬─────┬─────┬─────┬─────┬─────┬─────┬─────┬─────┬─────┬─────┬─────┬─────┬─────┬─────┬─────┬─────┬─────┬─────┬─────┬─────┬─────┬─────┬─────┬─────┬─────┬─────┬─────┬─────┬─────┬─────┬─────┬─────┬─────┬─────┬─────┬─────┬─────┬─────┬─────┬─────┬─────┬─────┬─────┬─────┬─────┬─────┬─────┬─────┬─────┬─────┬─────┬─────┬─────┬─────┬─────┬─────┬─────┬─────┬─────┬─────┬─────┬─────┬─────┬─────┬─────┬─────┬─────┬─────┬─────┬─────┬─────┬─────┬─────┬─────┬─────┬─────┬─────┬─────┬─────┬─────┬─────┬─────┬─────┬─────┬─────┬─────┬─────┬─────┬─────┬─────┬─────┬─────┬─────┬─────┬─────┬─────┬─────┬─────┬─────┬─────┬─────┬─────┬─────┬─────┬─────┬─────┬─────┬─────┬─────┬─────┬─────┬─────┬─────┬─────┬─────┬─────┬─────┬─────┬─────┬─────┬─────┬─────┬─────┬─────┬─────┬─────┬─────┬─────┬─────┬─────┬─────┬─────┬─────┬─────┬─────┬─────┬─────┬─────┬─────┬─────┬─────┬─────┬─────┬─────┬─────┬─────┬─────┬─────┬─────┬─────┬─────┬─────┬─────┬─────┬─────┬─────┬─────┬─────┬─────┬─────┬─────┬─────┬─────┬─────┬─────┬─────┬─────┬─────┬─────┬─────┬─────┬─────┬─────┬─────┬─────┬─────┬─────┬─────┬─────┬─────┬─────┬─────┬─────┬─────┬─────┬─────┬─────┬─────┬─────┬─────┬─────┬─────┬─────┬─────┬─────┬─────┬─────┬─────┬─────┬─────┬─────┬─────┬─────┬─────┬─────┬─────┬─────┬─────┬─────┬─────┬─────┬─────┬─────┬─────┬─────┬─────┬─────┬─────┬─────┬─────┬─────┬─────┬─────┬─────┬─────┬─────┬─────┬─────┬─────┬─────┬─────┬─────┬─────┬─────┬─────┬─────┬─────┬─────┬─────┬─────┬─────┬─────┬─────┬─────┬─────┬─────┬─────┬─────┬─────┬─────┬─────┬─────┬─────┬─────┬─────┬─────┬─────┐\n",
       "│ pte ┆ pte ┆ pte ┆ pte ┆ pte ┆ pte ┆ pte ┆ pte ┆ pte ┆ pte ┆ pte ┆ pte ┆ pte ┆ pte ┆ pte ┆ pte ┆ pte ┆ pte ┆ pte ┆ pte ┆ pte ┆ pte ┆ pte ┆ pte ┆ pte ┆ pte ┆ pte ┆ pte ┆ pte ┆ pte ┆ pte ┆ pte ┆ pte ┆ pte ┆ pte ┆ pte ┆ pte ┆ pte ┆ pte ┆ pte ┆ pte ┆ pte ┆ pte ┆ pte ┆ pte ┆ pte ┆ pte ┆ pte ┆ pte ┆ pte ┆ pte ┆ pte ┆ pte ┆ pte ┆ pte ┆ pte ┆ pte ┆ pte ┆ pte ┆ pte ┆ pte ┆ pte ┆ pte ┆ pte ┆ pte ┆ pte ┆ pte ┆ pte ┆ pte ┆ pte ┆ pte ┆ pte ┆ pte ┆ pte ┆ pte ┆ pte ┆ pte ┆ pte ┆ pte ┆ pte ┆ pte ┆ pte ┆ pte ┆ pte ┆ pte ┆ pte ┆ pte ┆ pte ┆ pte ┆ pte ┆ pte ┆ pte ┆ pte ┆ pte ┆ pte ┆ pte ┆ pte ┆ pte ┆ pte ┆ pte ┆ pte ┆ pte ┆ pte ┆ pte ┆ pte ┆ pte ┆ pte ┆ pte ┆ pte ┆ pte ┆ pte ┆ pte ┆ pte ┆ pte ┆ pte ┆ pte ┆ pte ┆ pte ┆ pte ┆ pte ┆ pte ┆ pte ┆ pte ┆ pte ┆ pte ┆ pte ┆ pte ┆ pte ┆ pte ┆ pte ┆ pte ┆ pte ┆ pte ┆ pte ┆ pte ┆ pte ┆ pte ┆ pte ┆ pte ┆ pte ┆ pte ┆ pte ┆ pte ┆ pte ┆ pte ┆ pte ┆ pte ┆ pte ┆ pte ┆ pte ┆ pte ┆ pte ┆ pte ┆ pte ┆ pte ┆ pte ┆ pte ┆ pte ┆ pte ┆ pte ┆ pte ┆ pte ┆ pte ┆ pte ┆ pte ┆ pte ┆ pte ┆ pte ┆ pte ┆ pte ┆ pte ┆ pte ┆ pte ┆ pte ┆ pte ┆ pte ┆ pte ┆ pte ┆ pte ┆ pte ┆ pte ┆ pte ┆ pte ┆ pte ┆ pte ┆ pte ┆ pte ┆ pte ┆ pte ┆ pte ┆ pte ┆ pte ┆ pte ┆ pte ┆ pte ┆ pte ┆ pte ┆ pte ┆ pte ┆ pte ┆ pte ┆ pte ┆ pte ┆ pte ┆ pte ┆ pte ┆ pte ┆ pte ┆ pte ┆ pte ┆ pte ┆ pte ┆ pte ┆ pte ┆ pte ┆ pte ┆ pte ┆ pte ┆ pte ┆ pte ┆ pte ┆ pte ┆ pte ┆ pte ┆ pte ┆ pte ┆ pte ┆ pte ┆ pte ┆ pte ┆ pte ┆ pte ┆ pte ┆ pte ┆ pte ┆ pte ┆ pte ┆ pte ┆ pte ┆ pte ┆ pte ┆ pte ┆ pte ┆ pte ┆ pte ┆ pte ┆ pte ┆ pte ┆ pte ┆ pte ┆ pte ┆ pte ┆ pte ┆ pte ┆ pte ┆ pte ┆ pte ┆ pte ┆ pte ┆ pte ┆ pte ┆ pte ┆ pte ┆ pte ┆ pte ┆ pte ┆ pte ┆ pte ┆ pte ┆ pte ┆ pte ┆ pte ┆ pte ┆ pte ┆ pte ┆ pte ┆ pte ┆ pte ┆ pte ┆ pte ┆ pte ┆ pte ┆ pte ┆ pte ┆ pte ┆ pte ┆ pte ┆ pte ┆ pte ┆ pte ┆ pte ┆ pte ┆ pte ┆ pte ┆ pte ┆ pte ┆ pte ┆ pte ┆ pte ┆ pte ┆ pte ┆ pte ┆ pte ┆ pte ┆ pte ┆ pte ┆ pte ┆ pte ┆ pte ┆ pte ┆ pte ┆ pte ┆ pte ┆ pte ┆ pte ┆ pte ┆ pte ┆ pte ┆ pte ┆ pte ┆ pte ┆ pte ┆ pte ┆ pte ┆ pte ┆ pte ┆ pte ┆ pte ┆ pte ┆ pte ┆ pte ┆ pte ┆ pte ┆ pte ┆ pte ┆ pte ┆ pte ┆ pte ┆ pte ┆ pte ┆ pte ┆ pte ┆ pte ┆ pte ┆ pte ┆ pte ┆ pte ┆ pte ┆ pte ┆ pte ┆ pte ┆ pte ┆ pte ┆ pte ┆ pte ┆ pte ┆ pte ┆ pte ┆ pte ┆ pte ┆ cam ┆ cam ┆ cam ┆ cam ┆ cam ┆ cam ┆ cam ┆ cam │\n",
       "│ nd_ ┆ nd_ ┆ nd_ ┆ nd_ ┆ nd_ ┆ nd_ ┆ nd_ ┆ nd_ ┆ nd_ ┆ nd_ ┆ nd_ ┆ nd_ ┆ nd_ ┆ nd_ ┆ nd_ ┆ nd_ ┆ nd_ ┆ nd_ ┆ nd_ ┆ nd_ ┆ nd_ ┆ nd_ ┆ nd_ ┆ nd_ ┆ nd_ ┆ nd_ ┆ nd_ ┆ nd_ ┆ nd_ ┆ nd_ ┆ nd_ ┆ nd_ ┆ nd_ ┆ nd_ ┆ nd_ ┆ nd_ ┆ nd_ ┆ nd_ ┆ nd_ ┆ nd_ ┆ nd_ ┆ nd_ ┆ nd_ ┆ nd_ ┆ nd_ ┆ nd_ ┆ nd_ ┆ nd_ ┆ nd_ ┆ nd_ ┆ nd_ ┆ nd_ ┆ nd_ ┆ nd_ ┆ nd_ ┆ nd_ ┆ nd_ ┆ nd_ ┆ nd_ ┆ nd_ ┆ nd_ ┆ nd_ ┆ nd_ ┆ nd_ ┆ nd_ ┆ nd_ ┆ nd_ ┆ nd_ ┆ nd_ ┆ nd_ ┆ nd_ ┆ nd_ ┆ nd_ ┆ nd_ ┆ nd_ ┆ nd_ ┆ nd_ ┆ nd_ ┆ nd_ ┆ nd_ ┆ nd_ ┆ nd_ ┆ nd_ ┆ nd_ ┆ nd_ ┆ nd_ ┆ nd_ ┆ nd_ ┆ nd_ ┆ nd_ ┆ nd_ ┆ nd_ ┆ nd_ ┆ nd_ ┆ nd_ ┆ nd_ ┆ nd_ ┆ nd_ ┆ nd_ ┆ nd_ ┆ nd_ ┆ nd_ ┆ nd_ ┆ nd_ ┆ nd_ ┆ nd_ ┆ nd_ ┆ nd_ ┆ nd_ ┆ nd_ ┆ nd_ ┆ nd_ ┆ nd_ ┆ nd_ ┆ nd_ ┆ nd_ ┆ nd_ ┆ nd_ ┆ nd_ ┆ nd_ ┆ nd_ ┆ nd_ ┆ nd_ ┆ nd_ ┆ nd_ ┆ nd_ ┆ nd_ ┆ nd_ ┆ nd_ ┆ nd_ ┆ nd_ ┆ nd_ ┆ nd_ ┆ nd_ ┆ nd_ ┆ nd_ ┆ nd_ ┆ nd_ ┆ nd_ ┆ nd_ ┆ nd_ ┆ nd_ ┆ nd_ ┆ nd_ ┆ nd_ ┆ nd_ ┆ nd_ ┆ nd_ ┆ nd_ ┆ nd_ ┆ nd_ ┆ nd_ ┆ nd_ ┆ nd_ ┆ nd_ ┆ nd_ ┆ nd_ ┆ nd_ ┆ nd_ ┆ nd_ ┆ nd_ ┆ nd_ ┆ nd_ ┆ nd_ ┆ nd_ ┆ nd_ ┆ nd_ ┆ nd_ ┆ nd_ ┆ nd_ ┆ nd_ ┆ nd_ ┆ nd_ ┆ nd_ ┆ nd_ ┆ nd_ ┆ nd_ ┆ nd_ ┆ nd_ ┆ nd_ ┆ nd_ ┆ nd_ ┆ nd_ ┆ nd_ ┆ nd_ ┆ nd_ ┆ nd_ ┆ nd_ ┆ nd_ ┆ nd_ ┆ nd_ ┆ nd_ ┆ nd_ ┆ nd_ ┆ nd_ ┆ nd_ ┆ nd_ ┆ nd_ ┆ nd_ ┆ nd_ ┆ nd_ ┆ nd_ ┆ nd_ ┆ nd_ ┆ nd_ ┆ nd_ ┆ nd_ ┆ nd_ ┆ nd_ ┆ nd_ ┆ nd_ ┆ nd_ ┆ nd_ ┆ nd_ ┆ nd_ ┆ nd_ ┆ nd_ ┆ nd_ ┆ nd_ ┆ nd_ ┆ nd_ ┆ nd_ ┆ nd_ ┆ nd_ ┆ nd_ ┆ nd_ ┆ nd_ ┆ nd_ ┆ nd_ ┆ nd_ ┆ nd_ ┆ nd_ ┆ nd_ ┆ nd_ ┆ nd_ ┆ nd_ ┆ nd_ ┆ nd_ ┆ nd_ ┆ nd_ ┆ nd_ ┆ nd_ ┆ nd_ ┆ nd_ ┆ nd_ ┆ nd_ ┆ nd_ ┆ nd_ ┆ nd_ ┆ nd_ ┆ nd_ ┆ nd_ ┆ nd_ ┆ nd_ ┆ nd_ ┆ nd_ ┆ nd_ ┆ nd_ ┆ nd_ ┆ nd_ ┆ nd_ ┆ nd_ ┆ nd_ ┆ nd_ ┆ nd_ ┆ nd_ ┆ nd_ ┆ nd_ ┆ nd_ ┆ nd_ ┆ nd_ ┆ nd_ ┆ nd_ ┆ nd_ ┆ nd_ ┆ nd_ ┆ nd_ ┆ nd_ ┆ nd_ ┆ nd_ ┆ nd_ ┆ nd_ ┆ nd_ ┆ nd_ ┆ nd_ ┆ nd_ ┆ nd_ ┆ nd_ ┆ nd_ ┆ nd_ ┆ nd_ ┆ nd_ ┆ nd_ ┆ nd_ ┆ nd_ ┆ nd_ ┆ nd_ ┆ nd_ ┆ nd_ ┆ nd_ ┆ nd_ ┆ nd_ ┆ nd_ ┆ nd_ ┆ nd_ ┆ nd_ ┆ nd_ ┆ nd_ ┆ nd_ ┆ nd_ ┆ nd_ ┆ nd_ ┆ nd_ ┆ nd_ ┆ nd_ ┆ nd_ ┆ nd_ ┆ nd_ ┆ nd_ ┆ nd_ ┆ nd_ ┆ nd_ ┆ nd_ ┆ nd_ ┆ nd_ ┆ nd_ ┆ nd_ ┆ nd_ ┆ nd_ ┆ nd_ ┆ nd_ ┆ nd_ ┆ nd_ ┆ nd_ ┆ nd_ ┆ nd_ ┆ nd_ ┆ nd_ ┆ nd_ ┆ nd_ ┆ nd_ ┆ nd_ ┆ nd_ ┆ nd_ ┆ nd_ ┆ nd_ ┆ nd_ ┆ nd_ ┆ nd_ ┆ nd_ ┆ nd_ ┆ nd_ ┆ nd_ ┆ nd_ ┆ nd_ ┆ nd_ ┆ nd_ ┆ nd_ ┆ nd_ ┆ nd_ ┆ _ou ┆ _ou ┆ _ou ┆ _ou ┆ _ou ┆ _ou ┆ _ou ┆ _ou │\n",
       "│ t_0 ┆ t_1 ┆ t_2 ┆ t_3 ┆ t_4 ┆ t_5 ┆ t_6 ┆ t_7 ┆ t_8 ┆ t_9 ┆ t_1 ┆ t_1 ┆ t_1 ┆ t_1 ┆ t_1 ┆ t_1 ┆ t_1 ┆ t_1 ┆ t_1 ┆ t_1 ┆ t_2 ┆ t_2 ┆ t_2 ┆ t_2 ┆ t_2 ┆ t_2 ┆ t_2 ┆ t_2 ┆ t_2 ┆ t_2 ┆ t_3 ┆ t_3 ┆ t_3 ┆ t_3 ┆ t_3 ┆ t_3 ┆ t_3 ┆ t_3 ┆ t_3 ┆ t_3 ┆ t_4 ┆ t_4 ┆ t_4 ┆ t_4 ┆ t_4 ┆ t_4 ┆ t_4 ┆ t_4 ┆ t_4 ┆ t_4 ┆ t_5 ┆ t_5 ┆ t_5 ┆ t_5 ┆ t_5 ┆ t_5 ┆ t_5 ┆ t_5 ┆ t_5 ┆ t_5 ┆ q00 ┆ q00 ┆ q00 ┆ q00 ┆ q00 ┆ q00 ┆ q00 ┆ q00 ┆ q00 ┆ q00 ┆ q00 ┆ q00 ┆ q00 ┆ q00 ┆ q00 ┆ q00 ┆ q00 ┆ q00 ┆ q00 ┆ q00 ┆ q00 ┆ q00 ┆ q00 ┆ q00 ┆ q00 ┆ q00 ┆ q00 ┆ q00 ┆ q00 ┆ q00 ┆ q00 ┆ q00 ┆ q00 ┆ q00 ┆ q00 ┆ q00 ┆ q00 ┆ q00 ┆ q00 ┆ q00 ┆ q00 ┆ q00 ┆ q00 ┆ q00 ┆ q00 ┆ q00 ┆ q00 ┆ q00 ┆ q00 ┆ q00 ┆ q00 ┆ q00 ┆ q00 ┆ q00 ┆ q00 ┆ q00 ┆ q00 ┆ q00 ┆ q00 ┆ q00 ┆ q00 ┆ q00 ┆ q00 ┆ q00 ┆ q00 ┆ q00 ┆ q00 ┆ q00 ┆ q00 ┆ q00 ┆ q00 ┆ q00 ┆ q00 ┆ q00 ┆ q00 ┆ q00 ┆ q00 ┆ q00 ┆ q00 ┆ q00 ┆ q00 ┆ q00 ┆ q00 ┆ q00 ┆ q00 ┆ q00 ┆ q00 ┆ q00 ┆ q00 ┆ q00 ┆ q00 ┆ q00 ┆ q00 ┆ q00 ┆ q00 ┆ q00 ┆ q00 ┆ q00 ┆ q00 ┆ q00 ┆ q00 ┆ q00 ┆ q00 ┆ q00 ┆ q00 ┆ q00 ┆ q00 ┆ q00 ┆ q00 ┆ q00 ┆ q00 ┆ q00 ┆ q00 ┆ q00 ┆ q00 ┆ q00 ┆ q00 ┆ q00 ┆ q00 ┆ q00 ┆ q00 ┆ q00 ┆ q00 ┆ q00 ┆ q00 ┆ q00 ┆ q00 ┆ q00 ┆ q00 ┆ q00 ┆ q00 ┆ q00 ┆ q00 ┆ q00 ┆ q00 ┆ q00 ┆ q00 ┆ q00 ┆ q00 ┆ q00 ┆ q00 ┆ q00 ┆ q00 ┆ q00 ┆ q00 ┆ q00 ┆ q00 ┆ q00 ┆ q00 ┆ q00 ┆ q00 ┆ q00 ┆ q00 ┆ q00 ┆ q00 ┆ q00 ┆ q00 ┆ q00 ┆ q00 ┆ q00 ┆ q00 ┆ q00 ┆ q00 ┆ q00 ┆ q00 ┆ q00 ┆ q00 ┆ q00 ┆ q00 ┆ q00 ┆ q00 ┆ q00 ┆ q00 ┆ q00 ┆ q00 ┆ q00 ┆ q00 ┆ q00 ┆ q00 ┆ q00 ┆ u_0 ┆ u_1 ┆ u_2 ┆ u_3 ┆ u_4 ┆ u_5 ┆ u_6 ┆ u_7 ┆ u_8 ┆ u_9 ┆ u_1 ┆ u_1 ┆ u_1 ┆ u_1 ┆ u_1 ┆ u_1 ┆ u_1 ┆ u_1 ┆ u_1 ┆ u_1 ┆ u_2 ┆ u_2 ┆ u_2 ┆ u_2 ┆ u_2 ┆ u_2 ┆ u_2 ┆ u_2 ┆ u_2 ┆ u_2 ┆ u_3 ┆ u_3 ┆ u_3 ┆ u_3 ┆ u_3 ┆ u_3 ┆ u_3 ┆ u_3 ┆ u_3 ┆ u_3 ┆ u_4 ┆ u_4 ┆ u_4 ┆ u_4 ┆ u_4 ┆ u_4 ┆ u_4 ┆ u_4 ┆ u_4 ┆ u_4 ┆ u_5 ┆ u_5 ┆ u_5 ┆ u_5 ┆ u_5 ┆ u_5 ┆ u_5 ┆ u_5 ┆ u_5 ┆ u_5 ┆ v_0 ┆ v_1 ┆ v_2 ┆ v_3 ┆ v_4 ┆ v_5 ┆ v_6 ┆ v_7 ┆ v_8 ┆ v_9 ┆ v_1 ┆ v_1 ┆ v_1 ┆ v_1 ┆ v_1 ┆ v_1 ┆ v_1 ┆ v_1 ┆ v_1 ┆ v_1 ┆ v_2 ┆ v_2 ┆ v_2 ┆ v_2 ┆ v_2 ┆ v_2 ┆ v_2 ┆ v_2 ┆ v_2 ┆ v_2 ┆ v_3 ┆ v_3 ┆ v_3 ┆ v_3 ┆ v_3 ┆ v_3 ┆ v_3 ┆ v_3 ┆ v_3 ┆ v_3 ┆ v_4 ┆ v_4 ┆ v_4 ┆ v_4 ┆ v_4 ┆ v_4 ┆ v_4 ┆ v_4 ┆ v_4 ┆ v_4 ┆ v_5 ┆ v_5 ┆ v_5 ┆ v_5 ┆ v_5 ┆ v_5 ┆ v_5 ┆ v_5 ┆ v_5 ┆ v_5 ┆ t_N ┆ t_F ┆ t_P ┆ t_P ┆ t_S ┆ t_S ┆ t_S ┆ t_S │\n",
       "│ --- ┆ --- ┆ --- ┆ --- ┆ --- ┆ --- ┆ --- ┆ --- ┆ --- ┆ --- ┆ 0   ┆ 1   ┆ 2   ┆ 3   ┆ 4   ┆ 5   ┆ 6   ┆ 7   ┆ 8   ┆ 9   ┆ 0   ┆ 1   ┆ 2   ┆ 3   ┆ 4   ┆ 5   ┆ 6   ┆ 7   ┆ 8   ┆ 9   ┆ 0   ┆ 1   ┆ 2   ┆ 3   ┆ 4   ┆ 5   ┆ 6   ┆ 7   ┆ 8   ┆ 9   ┆ 0   ┆ 1   ┆ 2   ┆ 3   ┆ 4   ┆ 5   ┆ 6   ┆ 7   ┆ 8   ┆ 9   ┆ 0   ┆ 1   ┆ 2   ┆ 3   ┆ 4   ┆ 5   ┆ 6   ┆ 7   ┆ 8   ┆ 9   ┆ 01_ ┆ 01_ ┆ 01_ ┆ 01_ ┆ 01_ ┆ 01_ ┆ 01_ ┆ 01_ ┆ 01_ ┆ 01_ ┆ 01_ ┆ 01_ ┆ 01_ ┆ 01_ ┆ 01_ ┆ 01_ ┆ 01_ ┆ 01_ ┆ 01_ ┆ 01_ ┆ 01_ ┆ 01_ ┆ 01_ ┆ 01_ ┆ 01_ ┆ 01_ ┆ 01_ ┆ 01_ ┆ 01_ ┆ 01_ ┆ 01_ ┆ 01_ ┆ 01_ ┆ 01_ ┆ 01_ ┆ 01_ ┆ 01_ ┆ 01_ ┆ 01_ ┆ 01_ ┆ 01_ ┆ 01_ ┆ 01_ ┆ 01_ ┆ 01_ ┆ 01_ ┆ 01_ ┆ 01_ ┆ 01_ ┆ 01_ ┆ 01_ ┆ 01_ ┆ 01_ ┆ 01_ ┆ 01_ ┆ 01_ ┆ 01_ ┆ 01_ ┆ 01_ ┆ 01_ ┆ 02_ ┆ 02_ ┆ 02_ ┆ 02_ ┆ 02_ ┆ 02_ ┆ 02_ ┆ 02_ ┆ 02_ ┆ 02_ ┆ 02_ ┆ 02_ ┆ 02_ ┆ 02_ ┆ 02_ ┆ 02_ ┆ 02_ ┆ 02_ ┆ 02_ ┆ 02_ ┆ 02_ ┆ 02_ ┆ 02_ ┆ 02_ ┆ 02_ ┆ 02_ ┆ 02_ ┆ 02_ ┆ 02_ ┆ 02_ ┆ 02_ ┆ 02_ ┆ 02_ ┆ 02_ ┆ 02_ ┆ 02_ ┆ 02_ ┆ 02_ ┆ 02_ ┆ 02_ ┆ 02_ ┆ 02_ ┆ 02_ ┆ 02_ ┆ 02_ ┆ 02_ ┆ 02_ ┆ 02_ ┆ 02_ ┆ 02_ ┆ 02_ ┆ 02_ ┆ 02_ ┆ 02_ ┆ 02_ ┆ 02_ ┆ 02_ ┆ 02_ ┆ 02_ ┆ 02_ ┆ 03_ ┆ 03_ ┆ 03_ ┆ 03_ ┆ 03_ ┆ 03_ ┆ 03_ ┆ 03_ ┆ 03_ ┆ 03_ ┆ 03_ ┆ 03_ ┆ 03_ ┆ 03_ ┆ 03_ ┆ 03_ ┆ 03_ ┆ 03_ ┆ 03_ ┆ 03_ ┆ 03_ ┆ 03_ ┆ 03_ ┆ 03_ ┆ 03_ ┆ 03_ ┆ 03_ ┆ 03_ ┆ 03_ ┆ 03_ ┆ 03_ ┆ 03_ ┆ 03_ ┆ 03_ ┆ 03_ ┆ 03_ ┆ 03_ ┆ 03_ ┆ 03_ ┆ 03_ ┆ 03_ ┆ 03_ ┆ 03_ ┆ 03_ ┆ 03_ ┆ 03_ ┆ 03_ ┆ 03_ ┆ 03_ ┆ 03_ ┆ 03_ ┆ 03_ ┆ 03_ ┆ 03_ ┆ 03_ ┆ 03_ ┆ 03_ ┆ 03_ ┆ 03_ ┆ 03_ ┆ --- ┆ --- ┆ --- ┆ --- ┆ --- ┆ --- ┆ --- ┆ --- ┆ --- ┆ --- ┆ 0   ┆ 1   ┆ 2   ┆ 3   ┆ 4   ┆ 5   ┆ 6   ┆ 7   ┆ 8   ┆ 9   ┆ 0   ┆ 1   ┆ 2   ┆ 3   ┆ 4   ┆ 5   ┆ 6   ┆ 7   ┆ 8   ┆ 9   ┆ 0   ┆ 1   ┆ 2   ┆ 3   ┆ 4   ┆ 5   ┆ 6   ┆ 7   ┆ 8   ┆ 9   ┆ 0   ┆ 1   ┆ 2   ┆ 3   ┆ 4   ┆ 5   ┆ 6   ┆ 7   ┆ 8   ┆ 9   ┆ 0   ┆ 1   ┆ 2   ┆ 3   ┆ 4   ┆ 5   ┆ 6   ┆ 7   ┆ 8   ┆ 9   ┆ --- ┆ --- ┆ --- ┆ --- ┆ --- ┆ --- ┆ --- ┆ --- ┆ --- ┆ --- ┆ 0   ┆ 1   ┆ 2   ┆ 3   ┆ 4   ┆ 5   ┆ 6   ┆ 7   ┆ 8   ┆ 9   ┆ 0   ┆ 1   ┆ 2   ┆ 3   ┆ 4   ┆ 5   ┆ 6   ┆ 7   ┆ 8   ┆ 9   ┆ 0   ┆ 1   ┆ 2   ┆ 3   ┆ 4   ┆ 5   ┆ 6   ┆ 7   ┆ 8   ┆ 9   ┆ 0   ┆ 1   ┆ 2   ┆ 3   ┆ 4   ┆ 5   ┆ 6   ┆ 7   ┆ 8   ┆ 9   ┆ 0   ┆ 1   ┆ 2   ┆ 3   ┆ 4   ┆ 5   ┆ 6   ┆ 7   ┆ 8   ┆ 9   ┆ ETS ┆ LWD ┆ REC ┆ REC ┆ OLS ┆ OLL ┆ OLS ┆ OLL │\n",
       "│ f32 ┆ f32 ┆ f32 ┆ f32 ┆ f32 ┆ f32 ┆ f32 ┆ f32 ┆ f32 ┆ f32 ┆ --- ┆ --- ┆ --- ┆ --- ┆ --- ┆ --- ┆ --- ┆ --- ┆ --- ┆ --- ┆ --- ┆ --- ┆ --- ┆ --- ┆ --- ┆ --- ┆ --- ┆ --- ┆ --- ┆ --- ┆ --- ┆ --- ┆ --- ┆ --- ┆ --- ┆ --- ┆ --- ┆ --- ┆ --- ┆ --- ┆ --- ┆ --- ┆ --- ┆ --- ┆ --- ┆ --- ┆ --- ┆ --- ┆ --- ┆ --- ┆ --- ┆ --- ┆ --- ┆ --- ┆ --- ┆ --- ┆ --- ┆ --- ┆ --- ┆ --- ┆ 0   ┆ 1   ┆ 2   ┆ 3   ┆ 4   ┆ 5   ┆ 6   ┆ 7   ┆ 8   ┆ 9   ┆ 10  ┆ 11  ┆ 12  ┆ 13  ┆ 14  ┆ 15  ┆ 16  ┆ 17  ┆ 18  ┆ 19  ┆ 20  ┆ 21  ┆ 22  ┆ 23  ┆ 24  ┆ 25  ┆ 26  ┆ 27  ┆ 28  ┆ 29  ┆ 30  ┆ 31  ┆ 32  ┆ 33  ┆ 34  ┆ 35  ┆ 36  ┆ 37  ┆ 38  ┆ 39  ┆ 40  ┆ 41  ┆ 42  ┆ 43  ┆ 44  ┆ 45  ┆ 46  ┆ 47  ┆ 48  ┆ 49  ┆ 50  ┆ 51  ┆ 52  ┆ 53  ┆ 54  ┆ 55  ┆ 56  ┆ 57  ┆ 58  ┆ 59  ┆ 0   ┆ 1   ┆ 2   ┆ 3   ┆ 4   ┆ 5   ┆ 6   ┆ 7   ┆ 8   ┆ 9   ┆ 10  ┆ 11  ┆ 12  ┆ 13  ┆ 14  ┆ 15  ┆ 16  ┆ 17  ┆ 18  ┆ 19  ┆ 20  ┆ 21  ┆ 22  ┆ 23  ┆ 24  ┆ 25  ┆ 26  ┆ 27  ┆ 28  ┆ 29  ┆ 30  ┆ 31  ┆ 32  ┆ 33  ┆ 34  ┆ 35  ┆ 36  ┆ 37  ┆ 38  ┆ 39  ┆ 40  ┆ 41  ┆ 42  ┆ 43  ┆ 44  ┆ 45  ┆ 46  ┆ 47  ┆ 48  ┆ 49  ┆ 50  ┆ 51  ┆ 52  ┆ 53  ┆ 54  ┆ 55  ┆ 56  ┆ 57  ┆ 58  ┆ 59  ┆ 0   ┆ 1   ┆ 2   ┆ 3   ┆ 4   ┆ 5   ┆ 6   ┆ 7   ┆ 8   ┆ 9   ┆ 10  ┆ 11  ┆ 12  ┆ 13  ┆ 14  ┆ 15  ┆ 16  ┆ 17  ┆ 18  ┆ 19  ┆ 20  ┆ 21  ┆ 22  ┆ 23  ┆ 24  ┆ 25  ┆ 26  ┆ 27  ┆ 28  ┆ 29  ┆ 30  ┆ 31  ┆ 32  ┆ 33  ┆ 34  ┆ 35  ┆ 36  ┆ 37  ┆ 38  ┆ 39  ┆ 40  ┆ 41  ┆ 42  ┆ 43  ┆ 44  ┆ 45  ┆ 46  ┆ 47  ┆ 48  ┆ 49  ┆ 50  ┆ 51  ┆ 52  ┆ 53  ┆ 54  ┆ 55  ┆ 56  ┆ 57  ┆ 58  ┆ 59  ┆ f32 ┆ f32 ┆ f32 ┆ f32 ┆ f32 ┆ f32 ┆ f32 ┆ f32 ┆ f32 ┆ f32 ┆ --- ┆ --- ┆ --- ┆ --- ┆ --- ┆ --- ┆ --- ┆ --- ┆ --- ┆ --- ┆ --- ┆ --- ┆ --- ┆ --- ┆ --- ┆ --- ┆ --- ┆ --- ┆ --- ┆ --- ┆ --- ┆ --- ┆ --- ┆ --- ┆ --- ┆ --- ┆ --- ┆ --- ┆ --- ┆ --- ┆ --- ┆ --- ┆ --- ┆ --- ┆ --- ┆ --- ┆ --- ┆ --- ┆ --- ┆ --- ┆ --- ┆ --- ┆ --- ┆ --- ┆ --- ┆ --- ┆ --- ┆ --- ┆ --- ┆ --- ┆ f32 ┆ f32 ┆ f32 ┆ f32 ┆ f32 ┆ f32 ┆ f32 ┆ f32 ┆ f32 ┆ f32 ┆ --- ┆ --- ┆ --- ┆ --- ┆ --- ┆ --- ┆ --- ┆ --- ┆ --- ┆ --- ┆ --- ┆ --- ┆ --- ┆ --- ┆ --- ┆ --- ┆ --- ┆ --- ┆ --- ┆ --- ┆ --- ┆ --- ┆ --- ┆ --- ┆ --- ┆ --- ┆ --- ┆ --- ┆ --- ┆ --- ┆ --- ┆ --- ┆ --- ┆ --- ┆ --- ┆ --- ┆ --- ┆ --- ┆ --- ┆ --- ┆ --- ┆ --- ┆ --- ┆ --- ┆ --- ┆ --- ┆ --- ┆ --- ┆ --- ┆ --- ┆ W   ┆ S   ┆ SC  ┆ C   ┆ --- ┆ --- ┆ D   ┆ D   │\n",
       "│     ┆     ┆     ┆     ┆     ┆     ┆     ┆     ┆     ┆     ┆ f32 ┆ f32 ┆ f32 ┆ f32 ┆ f32 ┆ f32 ┆ f32 ┆ f32 ┆ f32 ┆ f32 ┆ f32 ┆ f32 ┆ f32 ┆ f32 ┆ f32 ┆ f32 ┆ f32 ┆ f32 ┆ f32 ┆ f32 ┆ f32 ┆ f32 ┆ f32 ┆ f32 ┆ f32 ┆ f32 ┆ f32 ┆ f32 ┆ f32 ┆ f32 ┆ f32 ┆ f32 ┆ f32 ┆ f32 ┆ f32 ┆ f32 ┆ f32 ┆ f32 ┆ f32 ┆ f32 ┆ f32 ┆ f32 ┆ f32 ┆ f32 ┆ f32 ┆ f32 ┆ f32 ┆ f32 ┆ f32 ┆ f32 ┆ --- ┆ --- ┆ --- ┆ --- ┆ --- ┆ --- ┆ --- ┆ --- ┆ --- ┆ --- ┆ --- ┆ --- ┆ --- ┆ --- ┆ --- ┆ --- ┆ --- ┆ --- ┆ --- ┆ --- ┆ --- ┆ --- ┆ --- ┆ --- ┆ --- ┆ --- ┆ --- ┆ --- ┆ --- ┆ --- ┆ --- ┆ --- ┆ --- ┆ --- ┆ --- ┆ --- ┆ --- ┆ --- ┆ --- ┆ --- ┆ --- ┆ --- ┆ --- ┆ --- ┆ --- ┆ --- ┆ --- ┆ --- ┆ --- ┆ --- ┆ --- ┆ --- ┆ --- ┆ --- ┆ --- ┆ --- ┆ --- ┆ --- ┆ --- ┆ --- ┆ --- ┆ --- ┆ --- ┆ --- ┆ --- ┆ --- ┆ --- ┆ --- ┆ --- ┆ --- ┆ --- ┆ --- ┆ --- ┆ --- ┆ --- ┆ --- ┆ --- ┆ --- ┆ --- ┆ --- ┆ --- ┆ --- ┆ --- ┆ --- ┆ --- ┆ --- ┆ --- ┆ --- ┆ --- ┆ --- ┆ --- ┆ --- ┆ --- ┆ --- ┆ --- ┆ --- ┆ --- ┆ --- ┆ --- ┆ --- ┆ --- ┆ --- ┆ --- ┆ --- ┆ --- ┆ --- ┆ --- ┆ --- ┆ --- ┆ --- ┆ --- ┆ --- ┆ --- ┆ --- ┆ --- ┆ --- ┆ --- ┆ --- ┆ --- ┆ --- ┆ --- ┆ --- ┆ --- ┆ --- ┆ --- ┆ --- ┆ --- ┆ --- ┆ --- ┆ --- ┆ --- ┆ --- ┆ --- ┆ --- ┆ --- ┆ --- ┆ --- ┆ --- ┆ --- ┆ --- ┆ --- ┆ --- ┆ --- ┆ --- ┆ --- ┆ --- ┆ --- ┆ --- ┆ --- ┆ --- ┆ --- ┆ --- ┆ --- ┆ --- ┆ --- ┆ --- ┆ --- ┆ --- ┆ --- ┆ --- ┆ --- ┆ --- ┆ --- ┆ --- ┆ --- ┆ --- ┆ --- ┆ --- ┆ --- ┆ --- ┆ --- ┆ --- ┆ --- ┆ --- ┆ --- ┆ --- ┆ --- ┆ --- ┆ --- ┆ --- ┆     ┆     ┆     ┆     ┆     ┆     ┆     ┆     ┆     ┆     ┆ f32 ┆ f32 ┆ f32 ┆ f32 ┆ f32 ┆ f32 ┆ f32 ┆ f32 ┆ f32 ┆ f32 ┆ f32 ┆ f32 ┆ f32 ┆ f32 ┆ f32 ┆ f32 ┆ f32 ┆ f32 ┆ f32 ┆ f32 ┆ f32 ┆ f32 ┆ f32 ┆ f32 ┆ f32 ┆ f32 ┆ f32 ┆ f32 ┆ f32 ┆ f32 ┆ f32 ┆ f32 ┆ f32 ┆ f32 ┆ f32 ┆ f32 ┆ f32 ┆ f32 ┆ f32 ┆ f32 ┆ f32 ┆ f32 ┆ f32 ┆ f32 ┆ f32 ┆ f32 ┆ f32 ┆ f32 ┆ f32 ┆ f32 ┆     ┆     ┆     ┆     ┆     ┆     ┆     ┆     ┆     ┆     ┆ f32 ┆ f32 ┆ f32 ┆ f32 ┆ f32 ┆ f32 ┆ f32 ┆ f32 ┆ f32 ┆ f32 ┆ f32 ┆ f32 ┆ f32 ┆ f32 ┆ f32 ┆ f32 ┆ f32 ┆ f32 ┆ f32 ┆ f32 ┆ f32 ┆ f32 ┆ f32 ┆ f32 ┆ f32 ┆ f32 ┆ f32 ┆ f32 ┆ f32 ┆ f32 ┆ f32 ┆ f32 ┆ f32 ┆ f32 ┆ f32 ┆ f32 ┆ f32 ┆ f32 ┆ f32 ┆ f32 ┆ f32 ┆ f32 ┆ f32 ┆ f32 ┆ f32 ┆ f32 ┆ f32 ┆ f32 ┆ f32 ┆ f32 ┆ --- ┆ --- ┆ --- ┆ --- ┆ f32 ┆ f32 ┆ --- ┆ --- │\n",
       "│     ┆     ┆     ┆     ┆     ┆     ┆     ┆     ┆     ┆     ┆     ┆     ┆     ┆     ┆     ┆     ┆     ┆     ┆     ┆     ┆     ┆     ┆     ┆     ┆     ┆     ┆     ┆     ┆     ┆     ┆     ┆     ┆     ┆     ┆     ┆     ┆     ┆     ┆     ┆     ┆     ┆     ┆     ┆     ┆     ┆     ┆     ┆     ┆     ┆     ┆     ┆     ┆     ┆     ┆     ┆     ┆     ┆     ┆     ┆     ┆ f32 ┆ f32 ┆ f32 ┆ f32 ┆ f32 ┆ f32 ┆ f32 ┆ f32 ┆ f32 ┆ f32 ┆ f32 ┆ f32 ┆ f32 ┆ f32 ┆ f32 ┆ f32 ┆ f32 ┆ f32 ┆ f32 ┆ f32 ┆ f32 ┆ f32 ┆ f32 ┆ f32 ┆ f32 ┆ f32 ┆ f32 ┆ f32 ┆ f32 ┆ f32 ┆ f32 ┆ f32 ┆ f32 ┆ f32 ┆ f32 ┆ f32 ┆ f32 ┆ f32 ┆ f32 ┆ f32 ┆ f32 ┆ f32 ┆ f32 ┆ f32 ┆ f32 ┆ f32 ┆ f32 ┆ f32 ┆ f32 ┆ f32 ┆ f32 ┆ f32 ┆ f32 ┆ f32 ┆ f32 ┆ f32 ┆ f32 ┆ f32 ┆ f32 ┆ f32 ┆ f32 ┆ f32 ┆ f32 ┆ f32 ┆ f32 ┆ f32 ┆ f32 ┆ f32 ┆ f32 ┆ f32 ┆ f32 ┆ f32 ┆ f32 ┆ f32 ┆ f32 ┆ f32 ┆ f32 ┆ f32 ┆ f32 ┆ f32 ┆ f32 ┆ f32 ┆ f32 ┆ f32 ┆ f32 ┆ f32 ┆ f32 ┆ f32 ┆ f32 ┆ f32 ┆ f32 ┆ f32 ┆ f32 ┆ f32 ┆ f32 ┆ f32 ┆ f32 ┆ f32 ┆ f32 ┆ f32 ┆ f32 ┆ f32 ┆ f32 ┆ f32 ┆ f32 ┆ f32 ┆ f32 ┆ f32 ┆ f32 ┆ f32 ┆ f32 ┆ f32 ┆ f32 ┆ f32 ┆ f32 ┆ f32 ┆ f32 ┆ f32 ┆ f32 ┆ f32 ┆ f32 ┆ f32 ┆ f32 ┆ f32 ┆ f32 ┆ f32 ┆ f32 ┆ f32 ┆ f32 ┆ f32 ┆ f32 ┆ f32 ┆ f32 ┆ f32 ┆ f32 ┆ f32 ┆ f32 ┆ f32 ┆ f32 ┆ f32 ┆ f32 ┆ f32 ┆ f32 ┆ f32 ┆ f32 ┆ f32 ┆ f32 ┆ f32 ┆ f32 ┆ f32 ┆ f32 ┆ f32 ┆ f32 ┆ f32 ┆ f32 ┆ f32 ┆ f32 ┆ f32 ┆ f32 ┆ f32 ┆ f32 ┆ f32 ┆ f32 ┆ f32 ┆ f32 ┆ f32 ┆ f32 ┆ f32 ┆ f32 ┆ f32 ┆ f32 ┆ f32 ┆ f32 ┆ f32 ┆ f32 ┆ f32 ┆ f32 ┆ f32 ┆ f32 ┆ f32 ┆     ┆     ┆     ┆     ┆     ┆     ┆     ┆     ┆     ┆     ┆     ┆     ┆     ┆     ┆     ┆     ┆     ┆     ┆     ┆     ┆     ┆     ┆     ┆     ┆     ┆     ┆     ┆     ┆     ┆     ┆     ┆     ┆     ┆     ┆     ┆     ┆     ┆     ┆     ┆     ┆     ┆     ┆     ┆     ┆     ┆     ┆     ┆     ┆     ┆     ┆     ┆     ┆     ┆     ┆     ┆     ┆     ┆     ┆     ┆     ┆     ┆     ┆     ┆     ┆     ┆     ┆     ┆     ┆     ┆     ┆     ┆     ┆     ┆     ┆     ┆     ┆     ┆     ┆     ┆     ┆     ┆     ┆     ┆     ┆     ┆     ┆     ┆     ┆     ┆     ┆     ┆     ┆     ┆     ┆     ┆     ┆     ┆     ┆     ┆     ┆     ┆     ┆     ┆     ┆     ┆     ┆     ┆     ┆     ┆     ┆     ┆     ┆     ┆     ┆     ┆     ┆     ┆     ┆     ┆     ┆ f32 ┆ f32 ┆ f32 ┆ f32 ┆     ┆     ┆ f32 ┆ f32 │\n",
       "╞═════╪═════╪═════╪═════╪═════╪═════╪═════╪═════╪═════╪═════╪═════╪═════╪═════╪═════╪═════╪═════╪═════╪═════╪═════╪═════╪═════╪═════╪═════╪═════╪═════╪═════╪═════╪═════╪═════╪═════╪═════╪═════╪═════╪═════╪═════╪═════╪═════╪═════╪═════╪═════╪═════╪═════╪═════╪═════╪═════╪═════╪═════╪═════╪═════╪═════╪═════╪═════╪═════╪═════╪═════╪═════╪═════╪═════╪═════╪═════╪═════╪═════╪═════╪═════╪═════╪═════╪═════╪═════╪═════╪═════╪═════╪═════╪═════╪═════╪═════╪═════╪═════╪═════╪═════╪═════╪═════╪═════╪═════╪═════╪═════╪═════╪═════╪═════╪═════╪═════╪═════╪═════╪═════╪═════╪═════╪═════╪═════╪═════╪═════╪═════╪═════╪═════╪═════╪═════╪═════╪═════╪═════╪═════╪═════╪═════╪═════╪═════╪═════╪═════╪═════╪═════╪═════╪═════╪═════╪═════╪═════╪═════╪═════╪═════╪═════╪═════╪═════╪═════╪═════╪═════╪═════╪═════╪═════╪═════╪═════╪═════╪═════╪═════╪═════╪═════╪═════╪═════╪═════╪═════╪═════╪═════╪═════╪═════╪═════╪═════╪═════╪═════╪═════╪═════╪═════╪═════╪═════╪═════╪═════╪═════╪═════╪═════╪═════╪═════╪═════╪═════╪═════╪═════╪═════╪═════╪═════╪═════╪═════╪═════╪═════╪═════╪═════╪═════╪═════╪═════╪═════╪═════╪═════╪═════╪═════╪═════╪═════╪═════╪═════╪═════╪═════╪═════╪═════╪═════╪═════╪═════╪═════╪═════╪═════╪═════╪═════╪═════╪═════╪═════╪═════╪═════╪═════╪═════╪═════╪═════╪═════╪═════╪═════╪═════╪═════╪═════╪═════╪═════╪═════╪═════╪═════╪═════╪═════╪═════╪═════╪═════╪═════╪═════╪═════╪═════╪═════╪═════╪═════╪═════╪═════╪═════╪═════╪═════╪═════╪═════╪═════╪═════╪═════╪═════╪═════╪═════╪═════╪═════╪═════╪═════╪═════╪═════╪═════╪═════╪═════╪═════╪═════╪═════╪═════╪═════╪═════╪═════╪═════╪═════╪═════╪═════╪═════╪═════╪═════╪═════╪═════╪═════╪═════╪═════╪═════╪═════╪═════╪═════╪═════╪═════╪═════╪═════╪═════╪═════╪═════╪═════╪═════╪═════╪═════╪═════╪═════╪═════╪═════╪═════╪═════╪═════╪═════╪═════╪═════╪═════╪═════╪═════╪═════╪═════╪═════╪═════╪═════╪═════╪═════╪═════╪═════╪═════╪═════╪═════╪═════╪═════╪═════╪═════╪═════╪═════╪═════╪═════╪═════╪═════╪═════╪═════╪═════╪═════╪═════╪═════╪═════╪═════╪═════╪═════╪═════╪═════╪═════╪═════╪═════╪═════╪═════╪═════╪═════╪═════╪═════╪═════╪═════╪═════╪═════╪═════╪═════╪═════╪═════╪═════╪═════╪═════╪═════╪═════╪═════╪═════╪═════╪═════╪═════╪═════╪═════╪═════╪═════╪═════╡\n",
       "│ 0.0 ┆ 0.0 ┆ 0.0 ┆ 0.0 ┆ 0.0 ┆ 0.0 ┆ 0.0 ┆ 0.0 ┆ 0.0 ┆ 0.0 ┆ 0.0 ┆ 0.0 ┆ 0.0 ┆ 0.0 ┆ 0.0 ┆ 0.0 ┆ 0.0 ┆ 0.0 ┆ 0.0 ┆ 0.0 ┆ 0.0 ┆ 0.0 ┆ 0.0 ┆ 0.0 ┆ 0.0 ┆ 0.0 ┆ 0.0 ┆ 0.0 ┆ 0.0 ┆ 0.0 ┆ 0.0 ┆ 0.0 ┆ 0.0 ┆ 0.0 ┆ 0.0 ┆ 0.0 ┆ 0.0 ┆ 0.0 ┆ 0.0 ┆ 0.0 ┆ 0.0 ┆ 0.0 ┆ 0.0 ┆ 0.0 ┆ 0.0 ┆ 0.0 ┆ 0.0 ┆ 0.0 ┆ 0.0 ┆ 0.0 ┆ 0.0 ┆ 0.0 ┆ 0.0 ┆ 0.0 ┆ 0.0 ┆ 0.0 ┆ 0.0 ┆ 0.0 ┆ 0.0 ┆ 0.0 ┆ 3.0 ┆ 2.6 ┆ 2.0 ┆ 8.0 ┆ 0.0 ┆ 0.0 ┆ 0.0 ┆ 0.0 ┆ 0.0 ┆ 0.0 ┆ 0.0 ┆ 0.0 ┆ 4.0 ┆ 5.7 ┆ 5.9 ┆ 3.0 ┆ 2.8 ┆ 2.1 ┆ 3.9 ┆ 8.8 ┆ 1.8 ┆ 4.1 ┆ 9.0 ┆ 1.7 ┆ 3.0 ┆ 4.8 ┆ 7.0 ┆ 9.1 ┆ 1.1 ┆ 1.3 ┆ 1.5 ┆ 1.7 ┆ 1.8 ┆ 2.0 ┆ 2.1 ┆ 2.3 ┆ 2.5 ┆ 2.7 ┆ 3.0 ┆ 3.3 ┆ 3.7 ┆ 4.1 ┆ 4.5 ┆ 4.8 ┆ 5.2 ┆ 5.5 ┆ 5.7 ┆ 5.8 ┆ 5.8 ┆ 5.8 ┆ 5.8 ┆ 5.8 ┆ 5.7 ┆ 5.6 ┆ 5.4 ┆ 5.1 ┆ 4.8 ┆ 4.4 ┆ 4.2 ┆ 3.8 ┆ 0.0 ┆ 0.0 ┆ 0.0 ┆ 0.0 ┆ 0.0 ┆ 0.0 ┆ 0.0 ┆ 0.0 ┆ 0.0 ┆ 0.0 ┆ 0.0 ┆ 0.0 ┆ 3.4 ┆ 1.4 ┆ 0.0 ┆ 0.0 ┆ 0.0 ┆ 7.5 ┆ 4.3 ┆ 6.5 ┆ 2.8 ┆ 2.4 ┆ 2.4 ┆ 2.5 ┆ 3.8 ┆ 7.1 ┆ 2.3 ┆ 9.7 ┆ 7.8 ┆ 3.5 ┆ 7.1 ┆ 1.1 ┆ 1.7 ┆ 2.6 ┆ 3.4 ┆ 4.5 ┆ 5.5 ┆ 6.4 ┆ 7.2 ┆ 7.9 ┆ 8.4 ┆ 8.9 ┆ 9.5 ┆ 1.0 ┆ 1.0 ┆ 1.0 ┆ 1.1 ┆ 1.1 ┆ 1.0 ┆ 1.0 ┆ 9.5 ┆ 8.6 ┆ 7.5 ┆ 6.4 ┆ 5.4 ┆ 4.5 ┆ 4.0 ┆ 3.6 ┆ 3.5 ┆ 2.6 ┆ 0.0 ┆ 0.0 ┆ 0.0 ┆ 0.0 ┆ 0.0 ┆ 0.0 ┆ 0.0 ┆ 0.0 ┆ 0.0 ┆ 0.0 ┆ 0.0 ┆ 0.0 ┆ 3.5 ┆ 4.1 ┆ 5.0 ┆ 6.0 ┆ 3.4 ┆ 9.2 ┆ 1.3 ┆ 2.6 ┆ 3.4 ┆ 4.3 ┆ 5.0 ┆ 5.7 ┆ 6.2 ┆ 6.5 ┆ 6.6 ┆ 6.5 ┆ 6.5 ┆ 6.5 ┆ 6.4 ┆ 6.0 ┆ 5.5 ┆ 4.9 ┆ 4.5 ┆ 4.1 ┆ 3.8 ┆ 3.5 ┆ 3.2 ┆ 3.0 ┆ 2.8 ┆ 2.6 ┆ 2.5 ┆ 2.3 ┆ 2.2 ┆ 2.0 ┆ 1.9 ┆ 1.8 ┆ 1.7 ┆ 1.6 ┆ 1.6 ┆ 1.5 ┆ 1.5 ┆ 1.4 ┆ 1.3 ┆ 1.3 ┆ 1.3 ┆ 1.2 ┆ 1.2 ┆ 1.2 ┆ 0.0 ┆ 0.0 ┆ 0.0 ┆ 0.0 ┆ 0.0 ┆ 0.0 ┆ 0.0 ┆ 0.0 ┆ 0.0 ┆ 0.0 ┆ 0.0 ┆ 0.0 ┆ 2.1 ┆ 5.0 ┆ 0.0 ┆ 0.0 ┆ 0.0 ┆ 0.0 ┆ 0.0 ┆ 0.0 ┆ 0.0 ┆ 0.0 ┆ 0.0 ┆ 0.0 ┆ 0.0 ┆ 0.0 ┆ 0.0 ┆ 0.0 ┆ 0.0 ┆ 0.0 ┆ 0.0 ┆ 0.0 ┆ 0.0 ┆ 0.0 ┆ 0.0 ┆ 0.0 ┆ 0.0 ┆ 0.0 ┆ 0.0 ┆ 0.0 ┆ 0.0 ┆ 0.0 ┆ 0.0 ┆ 0.0 ┆ 0.0 ┆ 0.0 ┆ 0.0 ┆ 0.0 ┆ 0.0 ┆ 0.0 ┆ 0.0 ┆ 0.0 ┆ 0.0 ┆ 0.0 ┆ 0.0 ┆ 0.0 ┆ 0.0 ┆ 0.0 ┆ 0.0 ┆ 0.0 ┆ 0.0 ┆ 0.0 ┆ 0.0 ┆ 0.0 ┆ 0.0 ┆ 0.0 ┆ 0.0 ┆ 0.0 ┆ 0.0 ┆ 0.0 ┆ 0.0 ┆ 0.0 ┆ 1.3 ┆ 3.1 ┆ 7.6 ┆ 0.0 ┆ 0.0 ┆ 0.0 ┆ 0.0 ┆ 0.0 ┆ 0.0 ┆ 0.0 ┆ 0.0 ┆ 0.0 ┆ 0.0 ┆ 0.0 ┆ 0.0 ┆ 0.0 ┆ 0.0 ┆ 0.0 ┆ 0.0 ┆ 0.0 ┆ 0.0 ┆ 0.0 ┆ 0.0 ┆ 0.0 ┆ 0.0 ┆ 0.0 ┆ 0.0 ┆ 0.0 ┆ 0.0 ┆ 0.0 ┆ 0.0 ┆ 0.0 ┆ 0.0 ┆ 0.0 ┆ 0.0 ┆ 0.0 ┆ 0.0 ┆ 0.0 ┆ 0.0 ┆ 0.0 ┆ 0.0 ┆ 0.0 ┆ 0.0 ┆ 0.0 ┆ 0.0 ┆ 0.0 ┆ 0.0 ┆ 0.0 ┆ 246 ┆ 71. ┆ 7.3 ┆ 8.1 ┆ 110 ┆ 116 ┆ 46. ┆ 29. │\n",
       "│ 000 ┆ 000 ┆ 000 ┆ 000 ┆ 000 ┆ 001 ┆ 001 ┆ 000 ┆ 000 ┆ 000 ┆ 000 ┆ 000 ┆ 000 ┆ 000 ┆ 000 ┆ 000 ┆ 000 ┆ 000 ┆ 000 ┆ 000 ┆ 000 ┆ 000 ┆ 000 ┆ 000 ┆ 000 ┆ 000 ┆ 000 ┆ 000 ┆ 000 ┆ 000 ┆ 000 ┆ 000 ┆ 000 ┆ 000 ┆ 000 ┆ 000 ┆ 000 ┆ 000 ┆ 000 ┆ 000 ┆ 000 ┆ 000 ┆ 000 ┆ 000 ┆ 000 ┆ 000 ┆ 000 ┆ 000 ┆ 000 ┆ 000 ┆ 000 ┆ 000 ┆ 000 ┆ 000 ┆ 000 ┆ 000 ┆ 000 ┆ 000 ┆ 000 ┆ 000 ┆ 126 ┆ 737 ┆ 428 ┆ 598 ┆     ┆     ┆     ┆     ┆     ┆     ┆     ┆     ┆ 501 ┆ 854 ┆ 093 ┆ 890 ┆ 861 ┆ 394 ┆ 415 ┆ 460 ┆ 587 ┆ 283 ┆ 034 ┆ 546 ┆ 770 ┆ 847 ┆ 016 ┆ 936 ┆ 375 ┆ 668 ┆ 808 ┆ 528 ┆ 941 ┆ 209 ┆ 551 ┆ 214 ┆ 207 ┆ 585 ┆ 338 ┆ 652 ┆ 248 ┆ 136 ┆ 113 ┆ 826 ┆ 148 ┆ 060 ┆ 212 ┆ 341 ┆ 862 ┆ 855 ┆ 584 ┆ 082 ┆ 340 ┆ 311 ┆ 595 ┆ 675 ┆ 864 ┆ 558 ┆ 696 ┆ 138 ┆     ┆     ┆     ┆     ┆     ┆     ┆     ┆     ┆     ┆     ┆     ┆     ┆ 695 ┆ 013 ┆     ┆     ┆     ┆ 950 ┆ 306 ┆ 449 ┆ 563 ┆ 191 ┆ 743 ┆ 002 ┆ 156 ┆ 074 ┆ 874 ┆ 332 ┆ 717 ┆ 486 ┆ 401 ┆ 387 ┆ 967 ┆ 032 ┆ 955 ┆ 094 ┆ 520 ┆ 869 ┆ 571 ┆ 071 ┆ 647 ┆ 999 ┆ 247 ┆ 002 ┆ 461 ┆ 927 ┆ 243 ┆ 257 ┆ 931 ┆ 364 ┆ 792 ┆ 267 ┆ 772 ┆ 630 ┆ 365 ┆ 947 ┆ 056 ┆ 946 ┆ 091 ┆ 162 ┆     ┆     ┆     ┆     ┆     ┆     ┆     ┆     ┆     ┆     ┆     ┆     ┆ 123 ┆ 817 ┆ 567 ┆ 545 ┆ 487 ┆ 287 ┆ 645 ┆ 443 ┆ 808 ┆ 147 ┆ 769 ┆ 779 ┆ 777 ┆ 702 ┆ 159 ┆ 724 ┆ 303 ┆ 324 ┆ 516 ┆ 962 ┆ 369 ┆ 873 ┆ 360 ┆ 500 ┆ 123 ┆ 296 ┆ 851 ┆ 656 ┆ 639 ┆ 775 ┆ 107 ┆ 597 ┆ 163 ┆ 812 ┆ 602 ┆ 555 ┆ 585 ┆ 766 ┆ 036 ┆ 499 ┆ 064 ┆ 551 ┆ 945 ┆ 384 ┆ 020 ┆ 819 ┆ 422 ┆ 923 ┆     ┆     ┆     ┆     ┆     ┆     ┆     ┆     ┆     ┆     ┆     ┆     ┆ 715 ┆ 729 ┆ 000 ┆ 000 ┆ 000 ┆ 000 ┆ 000 ┆ 000 ┆ 000 ┆ 000 ┆ 000 ┆ 000 ┆ 000 ┆ 000 ┆ 000 ┆ 000 ┆ 000 ┆ 000 ┆ 000 ┆ 000 ┆ 000 ┆ 000 ┆ 000 ┆ 000 ┆ 000 ┆ 000 ┆ 000 ┆ 000 ┆ 000 ┆ 000 ┆ 000 ┆ 000 ┆ 000 ┆ 000 ┆ 000 ┆ 000 ┆ 000 ┆ 000 ┆ 000 ┆ 000 ┆ 000 ┆ 000 ┆ 000 ┆ 000 ┆ 000 ┆ 000 ┆ 000 ┆ 000 ┆     ┆     ┆     ┆     ┆     ┆     ┆     ┆     ┆     ┆     ┆     ┆     ┆ 122 ┆ 846 ┆ 924 ┆ 000 ┆ 000 ┆ 000 ┆ 000 ┆ 000 ┆ 000 ┆ 000 ┆ 000 ┆ 000 ┆ 000 ┆ 000 ┆ 000 ┆ 000 ┆ 000 ┆ 000 ┆ 000 ┆ 000 ┆ 000 ┆ 000 ┆ 000 ┆ 000 ┆ 000 ┆ 000 ┆ 000 ┆ 000 ┆ 000 ┆ 000 ┆ 000 ┆ 000 ┆ 000 ┆ 000 ┆ 000 ┆ 000 ┆ 000 ┆ 000 ┆ 000 ┆ 000 ┆ 000 ┆ 000 ┆ 000 ┆ 000 ┆ 000 ┆ 000 ┆ 000 ┆ 000 ┆ .29 ┆ 820 ┆ 717 ┆ 913 ┆ .25 ┆ .30 ┆ 065 ┆ 465 │\n",
       "│ 31  ┆ 44  ┆ 52  ┆ 69  ┆ 91  ┆ 1   ┆ 03  ┆ 79  ┆ 5   ┆ 39  ┆ 29  ┆ 23  ┆ 17  ┆ 13  ┆ 09  ┆ 07  ┆ 07  ┆ 08  ┆ 11  ┆ 14  ┆ 15  ┆ 16  ┆ 18  ┆ 2   ┆ 23  ┆ 27  ┆ 32  ┆ 37  ┆ 43  ┆ 49  ┆ 54  ┆ 58  ┆ 61  ┆ 63  ┆ 64  ┆ 64  ┆ 64  ┆ 63  ┆ 63  ┆ 62  ┆ 62  ┆ 61  ┆ 61  ┆ 61  ┆ 62  ┆ 62  ┆ 61  ┆ 6   ┆ 59  ┆ 57  ┆ 56  ┆ 54  ┆ 53  ┆ 51  ┆ 49  ┆ 48  ┆ 47  ┆ 48  ┆ 52  ┆ 73  ┆ e-1 ┆ e-1 ┆ e-1 ┆ e-1 ┆     ┆     ┆     ┆     ┆     ┆     ┆     ┆     ┆ e-1 ┆ e-1 ┆ e-1 ┆ e-1 ┆ e-1 ┆ e-1 ┆ e-1 ┆ e-1 ┆ e-1 ┆ e-1 ┆ e-1 ┆ e-9 ┆ e-9 ┆ e-9 ┆ e-9 ┆ e-9 ┆ e-8 ┆ e-8 ┆ e-8 ┆ e-8 ┆ e-8 ┆ e-8 ┆ e-8 ┆ e-8 ┆ e-8 ┆ e-8 ┆ e-8 ┆ e-8 ┆ e-8 ┆ e-8 ┆ e-8 ┆ e-8 ┆ e-8 ┆ e-8 ┆ e-8 ┆ e-8 ┆ e-8 ┆ e-8 ┆ e-8 ┆ e-8 ┆ e-8 ┆ e-8 ┆ e-8 ┆ e-8 ┆ e-8 ┆ e-8 ┆ e-8 ┆ e-8 ┆     ┆     ┆     ┆     ┆     ┆     ┆     ┆     ┆     ┆     ┆     ┆     ┆ e-4 ┆ e-4 ┆     ┆     ┆     ┆ e-4 ┆ e-4 ┆ e-3 ┆ e-3 ┆ e-3 ┆ e-2 ┆ e-2 ┆ e-2 ┆ e-2 ┆ e-1 ┆ e-1 ┆ e-1 ┆ e-1 ┆ e-1 ┆ e-9 ┆ e-9 ┆ e-9 ┆ e-9 ┆ e-9 ┆ e-9 ┆ e-9 ┆ e-9 ┆ e-9 ┆ e-9 ┆ e-9 ┆ e-9 ┆ e-8 ┆ e-8 ┆ e-8 ┆ e-8 ┆ e-8 ┆ e-8 ┆ e-8 ┆ e-9 ┆ e-9 ┆ e-9 ┆ e-9 ┆ e-9 ┆ e-9 ┆ e-9 ┆ e-9 ┆ e-9 ┆ e-9 ┆     ┆     ┆     ┆     ┆     ┆     ┆     ┆     ┆     ┆     ┆     ┆     ┆ e-1 ┆ e-1 ┆ e-1 ┆ e-1 ┆ e-1 ┆ e-1 ┆ e-9 ┆ e-9 ┆ e-9 ┆ e-9 ┆ e-9 ┆ e-9 ┆ e-9 ┆ e-9 ┆ e-9 ┆ e-9 ┆ e-9 ┆ e-9 ┆ e-9 ┆ e-9 ┆ e-9 ┆ e-9 ┆ e-9 ┆ e-9 ┆ e-9 ┆ e-9 ┆ e-9 ┆ e-9 ┆ e-9 ┆ e-9 ┆ e-9 ┆ e-9 ┆ e-9 ┆ e-9 ┆ e-9 ┆ e-9 ┆ e-9 ┆ e-9 ┆ e-9 ┆ e-9 ┆ e-9 ┆ e-9 ┆ e-9 ┆ e-9 ┆ e-9 ┆ e-9 ┆ e-9 ┆ e-9 ┆     ┆     ┆     ┆     ┆     ┆     ┆     ┆     ┆     ┆     ┆     ┆     ┆ e-7 ┆ e-7 ┆ 01  ┆ 02  ┆ 05  ┆ 09  ┆ 17  ┆ 25  ┆ 21  ┆ 19  ┆ 18  ┆ 17  ┆ 15  ┆ 14  ┆ 13  ┆ 12  ┆ 11  ┆ 11  ┆ 11  ┆ 1   ┆ 1   ┆ 1   ┆ 1   ┆ 1   ┆ 1   ┆ 11  ┆ 11  ┆ 12  ┆ 12  ┆ 13  ┆ 13  ┆ 14  ┆ 15  ┆ 17  ┆ 18  ┆ 2   ┆ 22  ┆ 24  ┆ 26  ┆ 3   ┆ 32  ┆ 31  ┆ 32  ┆ 33  ┆ 37  ┆ 36  ┆ 34  ┆ 53  ┆     ┆     ┆     ┆     ┆     ┆     ┆     ┆     ┆     ┆     ┆     ┆     ┆ e-7 ┆ e-7 ┆ e-7 ┆ 02  ┆ 05  ┆ 1   ┆ 15  ┆ 2   ┆ 19  ┆ 19  ┆ 18  ┆ 18  ┆ 16  ┆ 14  ┆ 13  ┆ 11  ┆ 11  ┆ 1   ┆ 09  ┆ 08  ┆ 08  ┆ 07  ┆ 07  ┆ 07  ┆ 07  ┆ 08  ┆ 09  ┆ 09  ┆ 1   ┆ 11  ┆ 11  ┆ 12  ┆ 13  ┆ 14  ┆ 15  ┆ 16  ┆ 17  ┆ 18  ┆ 2   ┆ 22  ┆ 24  ┆ 27  ┆ 29  ┆ 3   ┆ 3   ┆ 28  ┆ 24  ┆ 34  ┆ 005 ┆ 534 ┆ e-9 ┆ e-8 ┆ 162 ┆ 435 ┆ 258 ┆ 122 │\n",
       "│     ┆     ┆     ┆     ┆     ┆     ┆     ┆     ┆     ┆     ┆     ┆     ┆     ┆     ┆     ┆     ┆     ┆     ┆     ┆     ┆     ┆     ┆     ┆     ┆     ┆     ┆     ┆     ┆     ┆     ┆     ┆     ┆     ┆     ┆     ┆     ┆     ┆     ┆     ┆     ┆     ┆     ┆     ┆     ┆     ┆     ┆     ┆     ┆     ┆     ┆     ┆     ┆     ┆     ┆     ┆     ┆     ┆     ┆     ┆     ┆ 4   ┆ 4   ┆ 4   ┆ 5   ┆     ┆     ┆     ┆     ┆     ┆     ┆     ┆     ┆ 3   ┆ 3   ┆ 2   ┆ 1   ┆ 1   ┆ 1   ┆ 1   ┆ 1   ┆ 0   ┆ 0   ┆ 0   ┆     ┆     ┆     ┆     ┆     ┆     ┆     ┆     ┆     ┆     ┆     ┆     ┆     ┆     ┆     ┆     ┆     ┆     ┆     ┆     ┆     ┆     ┆     ┆     ┆     ┆     ┆     ┆     ┆     ┆     ┆     ┆     ┆     ┆     ┆     ┆     ┆     ┆     ┆     ┆     ┆     ┆     ┆     ┆     ┆     ┆     ┆     ┆     ┆     ┆ 0   ┆ 5   ┆     ┆     ┆     ┆ 3   ┆ 0   ┆ 8   ┆ 5   ┆ 2   ┆ 9   ┆ 6   ┆ 3   ┆ 0   ┆ 5   ┆ 3   ┆ 1   ┆ 0   ┆ 0   ┆     ┆     ┆     ┆     ┆     ┆     ┆     ┆     ┆     ┆     ┆     ┆     ┆     ┆     ┆     ┆     ┆     ┆     ┆     ┆     ┆     ┆     ┆     ┆     ┆     ┆     ┆     ┆     ┆     ┆     ┆     ┆     ┆     ┆     ┆     ┆     ┆     ┆     ┆     ┆     ┆     ┆ 3   ┆ 3   ┆ 3   ┆ 1   ┆ 0   ┆ 0   ┆     ┆     ┆     ┆     ┆     ┆     ┆     ┆     ┆     ┆     ┆     ┆     ┆     ┆     ┆     ┆     ┆     ┆     ┆     ┆     ┆     ┆     ┆     ┆     ┆     ┆     ┆     ┆     ┆     ┆     ┆     ┆     ┆     ┆     ┆     ┆     ┆     ┆     ┆     ┆     ┆     ┆     ┆     ┆     ┆     ┆     ┆     ┆     ┆     ┆     ┆     ┆     ┆     ┆     ┆     ┆     ┆     ┆     ┆     ┆     ┆     ┆     ┆     ┆     ┆     ┆     ┆     ┆     ┆     ┆     ┆     ┆     ┆     ┆     ┆     ┆     ┆     ┆     ┆     ┆     ┆     ┆     ┆     ┆     ┆     ┆     ┆     ┆     ┆     ┆     ┆     ┆     ┆     ┆     ┆     ┆     ┆     ┆     ┆     ┆     ┆     ┆     ┆     ┆     ┆     ┆     ┆     ┆     ┆     ┆     ┆     ┆     ┆     ┆     ┆     ┆     ┆     ┆     ┆     ┆     ┆     ┆     ┆     ┆     ┆     ┆     ┆     ┆     ┆     ┆     ┆     ┆     ┆     ┆     ┆     ┆     ┆     ┆     ┆     ┆     ┆     ┆     ┆     ┆     ┆     ┆     ┆     ┆     ┆     ┆     ┆     ┆     ┆     ┆     ┆     ┆     ┆     ┆     ┆     ┆     ┆     ┆     ┆ 4   ┆     ┆     ┆     ┆ 5   ┆ 9   ┆     ┆     │\n",
       "└─────┴─────┴─────┴─────┴─────┴─────┴─────┴─────┴─────┴─────┴─────┴─────┴─────┴─────┴─────┴─────┴─────┴─────┴─────┴─────┴─────┴─────┴─────┴─────┴─────┴─────┴─────┴─────┴─────┴─────┴─────┴─────┴─────┴─────┴─────┴─────┴─────┴─────┴─────┴─────┴─────┴─────┴─────┴─────┴─────┴─────┴─────┴─────┴─────┴─────┴─────┴─────┴─────┴─────┴─────┴─────┴─────┴─────┴─────┴─────┴─────┴─────┴─────┴─────┴─────┴─────┴─────┴─────┴─────┴─────┴─────┴─────┴─────┴─────┴─────┴─────┴─────┴─────┴─────┴─────┴─────┴─────┴─────┴─────┴─────┴─────┴─────┴─────┴─────┴─────┴─────┴─────┴─────┴─────┴─────┴─────┴─────┴─────┴─────┴─────┴─────┴─────┴─────┴─────┴─────┴─────┴─────┴─────┴─────┴─────┴─────┴─────┴─────┴─────┴─────┴─────┴─────┴─────┴─────┴─────┴─────┴─────┴─────┴─────┴─────┴─────┴─────┴─────┴─────┴─────┴─────┴─────┴─────┴─────┴─────┴─────┴─────┴─────┴─────┴─────┴─────┴─────┴─────┴─────┴─────┴─────┴─────┴─────┴─────┴─────┴─────┴─────┴─────┴─────┴─────┴─────┴─────┴─────┴─────┴─────┴─────┴─────┴─────┴─────┴─────┴─────┴─────┴─────┴─────┴─────┴─────┴─────┴─────┴─────┴─────┴─────┴─────┴─────┴─────┴─────┴─────┴─────┴─────┴─────┴─────┴─────┴─────┴─────┴─────┴─────┴─────┴─────┴─────┴─────┴─────┴─────┴─────┴─────┴─────┴─────┴─────┴─────┴─────┴─────┴─────┴─────┴─────┴─────┴─────┴─────┴─────┴─────┴─────┴─────┴─────┴─────┴─────┴─────┴─────┴─────┴─────┴─────┴─────┴─────┴─────┴─────┴─────┴─────┴─────┴─────┴─────┴─────┴─────┴─────┴─────┴─────┴─────┴─────┴─────┴─────┴─────┴─────┴─────┴─────┴─────┴─────┴─────┴─────┴─────┴─────┴─────┴─────┴─────┴─────┴─────┴─────┴─────┴─────┴─────┴─────┴─────┴─────┴─────┴─────┴─────┴─────┴─────┴─────┴─────┴─────┴─────┴─────┴─────┴─────┴─────┴─────┴─────┴─────┴─────┴─────┴─────┴─────┴─────┴─────┴─────┴─────┴─────┴─────┴─────┴─────┴─────┴─────┴─────┴─────┴─────┴─────┴─────┴─────┴─────┴─────┴─────┴─────┴─────┴─────┴─────┴─────┴─────┴─────┴─────┴─────┴─────┴─────┴─────┴─────┴─────┴─────┴─────┴─────┴─────┴─────┴─────┴─────┴─────┴─────┴─────┴─────┴─────┴─────┴─────┴─────┴─────┴─────┴─────┴─────┴─────┴─────┴─────┴─────┴─────┴─────┴─────┴─────┴─────┴─────┴─────┴─────┴─────┴─────┴─────┴─────┴─────┴─────┴─────┴─────┴─────┴─────┴─────┴─────┴─────┴─────┴─────┴─────┴─────┴─────┴─────┴─────┴─────┴─────┘"
      ]
     },
     "execution_count": 15,
     "metadata": {},
     "output_type": "execute_result"
    }
   ],
   "source": [
    "train_df.select(TARGET_COLS).std()"
   ]
  },
  {
   "cell_type": "code",
   "execution_count": 16,
   "metadata": {},
   "outputs": [
    {
     "name": "stderr",
     "output_type": "stream",
     "text": [
      "/tmp/ipykernel_376574/2352397551.py:1: RuntimeWarning: divide by zero encountered in divide\n",
      "  std_weights = 1.0/(weights)\n"
     ]
    }
   ],
   "source": [
    "std_weights = 1.0/(weights)\n",
    "std_weights[weights == 0] = 0\n",
    "assert np.isfinite(std_weights).all()"
   ]
  },
  {
   "cell_type": "code",
   "execution_count": 17,
   "metadata": {},
   "outputs": [
    {
     "data": {
      "text/plain": [
       "1e-15"
      ]
     },
     "execution_count": 17,
     "metadata": {},
     "output_type": "execute_result"
    }
   ],
   "source": [
    "1/weights.max()"
   ]
  },
  {
   "cell_type": "code",
   "execution_count": 209,
   "metadata": {},
   "outputs": [],
   "source": [
    "import json\n",
    "\n",
    "class Norm():\n",
    "    def __init__(self, fname=None, stds=None, means=None, zero_mask=None, dataset=None, eps=1e-14):\n",
    "        if dataset is not None:        \n",
    "            self.means, self.stds = np.mean(dataset, axis=0), np.std(dataset, axis=0)\n",
    "            with open(fname, 'w') as f:\n",
    "                f.write(json.dumps({'means' : self.means.tolist(), 'stds' : self.stds.tolist()}))\n",
    "        elif means is not None and stds is not None:\n",
    "            self.stds = stds.copy()\n",
    "            self.means = means.copy()\n",
    "        else:\n",
    "            with open(fname) as f:\n",
    "                stats_dict = json.loads(f.read())\n",
    "                \n",
    "            self.means = np.asarray(stats_dict['means'])\n",
    "            self.stds = np.asarray(stats_dict['stds'])\n",
    "            \n",
    "        self.means = self.means[None, :]\n",
    "        self.stds = self.stds[None, :]\n",
    "\n",
    "        self.zero_mask = self.stds[0] <= eps if zero_mask is None else zero_mask\n",
    "         \n",
    "        self.stds[:, self.zero_mask] = 1.0\n",
    "        \n",
    "        self.eps = eps\n",
    "        #self.df = pd.DataFrame({'col' : names, 'std' : self.stds, 'mean' : self.means})\n",
    "        \n",
    "    def __call__(self, data):\n",
    "        out = (data - self.means) / self.stds\n",
    "        out[:, self.zero_mask] = 0\n",
    "        \n",
    "        return out.astype(np.float32)\n",
    "        \n",
    "    def denorm(self, data):\n",
    "        data = data.astype(np.float64)\n",
    "        out = data * self.stds + self.means \n",
    "        \n",
    "        out[:, self.zero_mask] = 0#self.means[:, self.zero_mask]\n",
    "        return out\n"
   ]
  },
  {
   "cell_type": "code",
   "execution_count": 210,
   "metadata": {},
   "outputs": [],
   "source": [
    "norm_x = Norm(fname='x_stats6.json', eps=1e-7) # dataset=x_train)\n",
    "# Set means to zero for q vars so we can predict a multipler\n",
    "norm_x.means[:, FRAC_IDXS[0]:FRAC_IDXS[1]] = 0.0\n",
    "norm_y = Norm(stds=std_weights, means=np.zeros_like(std_weights))# dataset=y_train)"
   ]
  },
  {
   "cell_type": "code",
   "execution_count": 211,
   "metadata": {},
   "outputs": [],
   "source": [
    "# This variable still seems to have norm issues.\n",
    "indx = TARGET_COLS.index('ptend_q0002_26')\n",
    "col = \"ptend_q0002_26\"\n",
    "norm_y.zero_mask[indx] = True\n"
   ]
  },
  {
   "cell_type": "code",
   "execution_count": 212,
   "metadata": {},
   "outputs": [
    {
     "data": {
      "text/plain": [
       "array([ True,  True, False])"
      ]
     },
     "execution_count": 212,
     "metadata": {},
     "output_type": "execute_result"
    }
   ],
   "source": [
    "norm_y.zero_mask[indx-1:indx+2]"
   ]
  },
  {
   "cell_type": "code",
   "execution_count": 213,
   "metadata": {},
   "outputs": [
    {
     "data": {
      "text/plain": [
       "(55,\n",
       " array([False, False, False, False, False, False, False, False, False,\n",
       "        False, False, False, False, False, False, False, False, False,\n",
       "        False, False, False, False, False, False, False, False, False,\n",
       "        False, False, False, False, False, False, False, False, False,\n",
       "        False, False, False, False, False, False, False, False, False,\n",
       "        False, False, False, False, False, False, False, False, False,\n",
       "        False, False, False, False, False, False,  True,  True,  True,\n",
       "         True,  True,  True,  True,  True,  True,  True,  True, False,\n",
       "        False, False, False, False, False, False, False, False, False,\n",
       "        False, False, False, False, False, False, False, False, False,\n",
       "        False, False, False, False, False, False, False, False, False,\n",
       "        False, False, False, False, False, False, False, False, False,\n",
       "        False, False, False, False, False, False, False, False, False,\n",
       "        False, False, False,  True,  True,  True,  True,  True,  True,\n",
       "         True,  True,  True,  True,  True,  True,  True,  True,  True,\n",
       "         True,  True,  True,  True,  True,  True,  True,  True,  True,\n",
       "         True,  True,  True,  True, False, False, False, False, False,\n",
       "        False, False, False, False, False, False, False, False, False,\n",
       "        False, False, False, False, False, False, False, False, False,\n",
       "        False, False, False, False, False, False, False, False, False,\n",
       "         True,  True,  True,  True,  True,  True,  True,  True,  True,\n",
       "         True,  True,  True,  True,  True,  True,  True, False, False,\n",
       "        False, False, False, False, False, False, False, False, False,\n",
       "        False, False, False, False, False, False, False, False, False,\n",
       "        False, False, False, False, False, False, False, False, False,\n",
       "        False, False, False, False, False, False, False, False, False,\n",
       "        False, False, False, False, False, False, False, False, False,\n",
       "        False, False, False, False, False, False, False, False, False,\n",
       "        False, False, False, False, False, False, False, False, False,\n",
       "        False, False, False, False, False, False, False, False, False,\n",
       "        False, False, False, False, False, False, False, False, False,\n",
       "        False, False, False, False, False, False, False, False, False,\n",
       "        False, False, False, False, False, False, False, False, False,\n",
       "        False, False, False, False, False, False, False, False, False,\n",
       "        False, False, False, False, False, False, False, False, False,\n",
       "        False, False, False, False, False, False, False, False, False,\n",
       "        False, False, False, False, False, False, False, False, False,\n",
       "        False, False, False, False, False, False, False, False, False,\n",
       "        False, False, False, False, False, False, False, False, False,\n",
       "        False, False, False, False, False, False, False, False, False,\n",
       "        False, False, False, False, False, False, False, False, False,\n",
       "        False, False, False, False, False, False, False]))"
      ]
     },
     "execution_count": 213,
     "metadata": {},
     "output_type": "execute_result"
    }
   ],
   "source": [
    "norm_x.zero_mask.sum(), norm_x.zero_mask"
   ]
  },
  {
   "cell_type": "code",
   "execution_count": 214,
   "metadata": {},
   "outputs": [],
   "source": [
    "# y_t = norm_y(y_train[0:1000])"
   ]
  },
  {
   "cell_type": "code",
   "execution_count": 215,
   "metadata": {},
   "outputs": [],
   "source": [
    "# pred_norm = norm_x(x_train[0:1000])"
   ]
  },
  {
   "cell_type": "code",
   "execution_count": 216,
   "metadata": {},
   "outputs": [],
   "source": [
    "# pred_norm.max(), pred_norm.std()"
   ]
  },
  {
   "cell_type": "code",
   "execution_count": 217,
   "metadata": {},
   "outputs": [],
   "source": [
    "# pred = norm_y.denorm(y_t)"
   ]
  },
  {
   "cell_type": "code",
   "execution_count": 218,
   "metadata": {},
   "outputs": [],
   "source": [
    "# (y_train[0:1000] - pred).max()"
   ]
  },
  {
   "cell_type": "code",
   "execution_count": 219,
   "metadata": {},
   "outputs": [],
   "source": [
    "class Loader(Dataset):\n",
    "    def __init__(self, data_dict, norm_dict):\n",
    "        self.data_dict = data_dict\n",
    "        self.norm_dict = norm_dict\n",
    "        \n",
    "    def __getitem__(self, idx):\n",
    "        x = self.data_dict['x'][idx].copy()\n",
    "        y = self.data_dict['y'][idx].copy() if 'y' in self.data_dict else np.zeros(1)\n",
    "        x = self.norm_dict['x'](x[None, :])[0]\n",
    "        y = self.norm_dict['y'](y[None, :])[0] if 'y' in self.data_dict else np.zeros(1)\n",
    "        return x.astype(np.float32), y.astype(np.float32)\n",
    "    \n",
    "    def __len__(self,):\n",
    "        return self.data_dict['x'].shape[0]"
   ]
  },
  {
   "cell_type": "code",
   "execution_count": 220,
   "metadata": {},
   "outputs": [],
   "source": [
    "train_ds = Loader({'x' : x_train, 'y' : y_train}, {'x' : norm_x, 'y' : norm_y})\n",
    "val_ds = Loader({'x' : x_val, 'y' : y_val}, {'x' : norm_x, 'y' : norm_y})"
   ]
  },
  {
   "cell_type": "code",
   "execution_count": 221,
   "metadata": {},
   "outputs": [
    {
     "data": {
      "text/plain": [
       "(3800000, 200000)"
      ]
     },
     "execution_count": 221,
     "metadata": {},
     "output_type": "execute_result"
    }
   ],
   "source": [
    "len(train_ds), len(val_ds), #len(x_test)"
   ]
  },
  {
   "cell_type": "code",
   "execution_count": 222,
   "metadata": {},
   "outputs": [],
   "source": [
    "from random import shuffle\n",
    "\n",
    "\n",
    "bs = 128\n",
    "train_loader = fv.DataLoader(train_ds, batch_size=bs, drop_last=True, \n",
    "                          shuffle=True, num_workers=0, pin_memory=False)\n",
    "valid_loader = fv.DataLoader(val_ds, batch_size=bs, drop_last=True,\n",
    "                             shuffle=False, num_workers=0, pin_memory=False)\n"
   ]
  },
  {
   "cell_type": "code",
   "execution_count": 223,
   "metadata": {},
   "outputs": [
    {
     "data": {
      "text/plain": [
       "(tensor(0.3047),\n",
       " tensor(1.1348),\n",
       " tensor(-0.0071),\n",
       " tensor(0.8889),\n",
       " tensor(-5.8833),\n",
       " tensor(12.1511),\n",
       " tensor(-20.6266),\n",
       " tensor(20.0354))"
      ]
     },
     "execution_count": 223,
     "metadata": {},
     "output_type": "execute_result"
    }
   ],
   "source": [
    "batch = next(iter(train_loader))\n",
    "batch[0].mean(), batch[0].std(), batch[1].mean(), batch[1].std(), batch[0].min(), batch[0].max(), batch[1].min(), batch[1].max()"
   ]
  },
  {
   "cell_type": "code",
   "execution_count": 224,
   "metadata": {
    "collapsed": true,
    "jupyter": {
     "outputs_hidden": true
    }
   },
   "outputs": [
    {
     "data": {
      "text/plain": [
       "tensor([0.0000e+00, 0.0000e+00, 0.0000e+00, 0.0000e+00, 0.0000e+00, 0.0000e+00,\n",
       "        0.0000e+00, 0.0000e+00, 0.0000e+00, 0.0000e+00, 0.0000e+00, 8.0871e+00,\n",
       "        5.1212e+00, 3.8043e+00, 2.9061e+00, 2.4356e+00, 2.7418e+00, 2.5049e+00,\n",
       "        2.0905e+00, 1.7764e+00, 1.7255e+00, 1.6798e+00, 1.3521e+00, 1.0898e+00,\n",
       "        9.2466e-01, 8.1743e-01, 7.6408e-01, 7.3616e-01, 7.2304e-01, 7.2968e-01,\n",
       "        7.5194e-01, 7.7596e-01, 8.0562e-01, 8.3858e-01, 8.8277e-01, 9.3555e-01,\n",
       "        9.9017e-01, 1.0570e+00, 1.1224e+00, 1.1815e+00, 1.2329e+00, 1.2899e+00,\n",
       "        1.3437e+00, 1.3864e+00, 1.4293e+00, 1.4707e+00, 1.5071e+00, 1.5322e+00,\n",
       "        1.5537e+00, 1.5726e+00, 1.5947e+00, 1.6145e+00, 1.6256e+00, 1.6332e+00,\n",
       "        1.6289e+00, 1.6202e+00, 1.6100e+00, 1.6042e+00, 1.6049e+00, 1.6080e+00,\n",
       "        0.0000e+00, 0.0000e+00, 0.0000e+00, 0.0000e+00, 0.0000e+00, 0.0000e+00,\n",
       "        0.0000e+00, 0.0000e+00, 0.0000e+00, 0.0000e+00, 0.0000e+00, 0.0000e+00,\n",
       "        0.0000e+00, 0.0000e+00, 0.0000e+00, 0.0000e+00, 0.0000e+00, 0.0000e+00,\n",
       "        0.0000e+00, 0.0000e+00, 0.0000e+00, 0.0000e+00, 0.0000e+00, 0.0000e+00,\n",
       "        0.0000e+00, 0.0000e+00, 0.0000e+00, 0.0000e+00, 1.3926e-03, 1.4671e-02,\n",
       "        8.4549e-02, 1.0997e-01, 1.0410e-01, 1.1928e-01, 1.5265e-01, 1.7799e-01,\n",
       "        2.2575e-01, 2.7728e-01, 3.5032e-01, 4.2453e-01, 4.7413e-01, 5.2282e-01,\n",
       "        6.4657e-01, 6.9592e-01, 7.3854e-01, 8.0502e-01, 8.1044e-01, 7.9822e-01,\n",
       "        7.8387e-01, 7.1252e-01, 6.7842e-01, 7.2184e-01, 7.3222e-01, 7.1944e-01,\n",
       "        5.3921e-01, 4.6669e-01, 3.7787e-01, 3.1887e-01, 2.3652e-01, 1.8597e-01,\n",
       "        0.0000e+00, 0.0000e+00, 0.0000e+00, 0.0000e+00, 0.0000e+00, 0.0000e+00,\n",
       "        0.0000e+00, 0.0000e+00, 0.0000e+00, 0.0000e+00, 0.0000e+00, 0.0000e+00,\n",
       "        0.0000e+00, 0.0000e+00, 0.0000e+00, 0.0000e+00, 5.8085e-05, 2.1944e-03,\n",
       "        3.6329e-03, 1.9571e-02, 3.0604e-02, 6.1844e-02, 1.1258e-01, 1.1550e-01,\n",
       "        1.3678e-01, 1.7011e-01, 1.9596e-01, 2.2797e-01, 2.4505e-01, 2.6092e-01,\n",
       "        2.9388e-01, 3.4130e-01, 3.9542e-01, 4.5823e-01, 4.9780e-01, 5.3027e-01,\n",
       "        5.6272e-01, 5.7717e-01, 5.5817e-01, 5.2776e-01, 5.0392e-01, 4.7506e-01,\n",
       "        4.7794e-01, 4.5763e-01, 4.0808e-01, 3.5728e-01, 3.1553e-01, 3.1306e-01,\n",
       "        3.1781e-01, 2.9819e-01, 2.7470e-01, 2.8705e-01, 2.8664e-01, 2.7460e-01,\n",
       "        2.6761e-01, 2.5652e-01, 2.4041e-01, 2.3350e-01, 2.2607e-01, 2.0847e-01])"
      ]
     },
     "execution_count": 224,
     "metadata": {},
     "output_type": "execute_result"
    }
   ],
   "source": [
    "batch[0][:, FRAC_IDXS[0]:FRAC_IDXS[1]].mean(dim=0)"
   ]
  },
  {
   "cell_type": "code",
   "execution_count": 32,
   "metadata": {},
   "outputs": [
    {
     "data": {
      "text/plain": [
       "(torch.Size([128, 376]), torch.Size([128, 368]))"
      ]
     },
     "execution_count": 32,
     "metadata": {},
     "output_type": "execute_result"
    }
   ],
   "source": [
    "batch[0].shape, batch[1].shape"
   ]
  },
  {
   "cell_type": "code",
   "execution_count": 60,
   "metadata": {},
   "outputs": [
    {
     "data": {
      "text/plain": [
       "tensor(-19.1092)"
      ]
     },
     "execution_count": 60,
     "metadata": {},
     "output_type": "execute_result"
    }
   ],
   "source": [
    "batch[1].min()"
   ]
  },
  {
   "cell_type": "code",
   "execution_count": 225,
   "metadata": {},
   "outputs": [],
   "source": [
    "#net = torch.compile(net)\n",
    "dls = fv.DataLoaders(train_loader, valid_loader).to('cuda')"
   ]
  },
  {
   "cell_type": "code",
   "execution_count": 188,
   "metadata": {},
   "outputs": [],
   "source": [
    "net = Net(NUM_2D_FEAT, NUM_VERT_FEAT, NUM_2D_FEAT_Y, NUM_VERT_FEAT_Y, frac_idxs=FRAC_IDXS)\n",
    "#net(batch[0])"
   ]
  },
  {
   "cell_type": "code",
   "execution_count": 226,
   "metadata": {},
   "outputs": [],
   "source": [
    "def l1_loss(pred, tar):\n",
    "    diff = torch.abs(tar - pred)\n",
    "    return diff.mean()"
   ]
  },
  {
   "cell_type": "code",
   "execution_count": 227,
   "metadata": {},
   "outputs": [],
   "source": [
    "def mse(pred, tar):\n",
    "    diff = tar - pred\n",
    "    return ((diff)**2).mean()\n",
    "\n",
    "def r_squared(pred, tar, mask=None):\n",
    "    #tar = norm_y.denorm(tar.cpu().numpy())\n",
    "    #pred = norm_y.denorm(pred.detach().cpu().numpy())\n",
    "    #pred = pred*weights[None, :]\n",
    "    #tar = tar*weights[None, :]\n",
    "    if mask is not None:\n",
    "        tar = tar[:, mask]\n",
    "        pred = pred[:, mask]\n",
    "    \n",
    "    return 1 - (torch.sum((tar - pred)**2) / torch.sum((tar - tar.mean())**2))\n",
    "    "
   ]
  },
  {
   "cell_type": "code",
   "execution_count": 237,
   "metadata": {},
   "outputs": [],
   "source": [
    "learn = fv.Learner(dls, net, loss_func=nn.HuberLoss(delta=10.0), metrics=[fv.mae, fv.mse, r_squared],\n",
    "                   wd=0.001, opt_func=fv.ranger, cbs=[fv.SaveModelCallback(monitor='r_squared', comp=np.greater), fv.GradientClip(1.0)])"
   ]
  },
  {
   "cell_type": "code",
   "execution_count": 229,
   "metadata": {
    "collapsed": true,
    "jupyter": {
     "outputs_hidden": true
    },
    "scrolled": true
   },
   "outputs": [
    {
     "data": {
      "text/html": [
       "\n",
       "<style>\n",
       "    /* Turns off some styling */\n",
       "    progress {\n",
       "        /* gets rid of default border in Firefox and Opera. */\n",
       "        border: none;\n",
       "        /* Needs to be in here for Safari polyfill so background images work as expected. */\n",
       "        background-size: auto;\n",
       "    }\n",
       "    progress:not([value]), progress:not([value])::-webkit-progress-bar {\n",
       "        background: repeating-linear-gradient(45deg, #7e7e7e, #7e7e7e 10px, #5c5c5c 10px, #5c5c5c 20px);\n",
       "    }\n",
       "    .progress-bar-interrupted, .progress-bar-interrupted::-webkit-progress-bar {\n",
       "        background: #F44336;\n",
       "    }\n",
       "</style>\n"
      ],
      "text/plain": [
       "<IPython.core.display.HTML object>"
      ]
     },
     "metadata": {},
     "output_type": "display_data"
    },
    {
     "data": {
      "text/html": [],
      "text/plain": [
       "<IPython.core.display.HTML object>"
      ]
     },
     "metadata": {},
     "output_type": "display_data"
    },
    {
     "data": {
      "text/plain": [
       "Net (Input shape: 128 x 376)\n",
       "============================================================================\n",
       "Layer (type)         Output Shape         Param #    Trainable \n",
       "============================================================================\n",
       "                     128 x 960 x 1       \n",
       "Conv1d                                    1920       True      \n",
       "____________________________________________________________________________\n",
       "                     128 x 16 x 60       \n",
       "Rearrange                                                      \n",
       "____________________________________________________________________________\n",
       "                     128 x 6 x 60        \n",
       "Rearrange                                                      \n",
       "____________________________________________________________________________\n",
       "                     128 x 240 x 60      \n",
       "Conv1d                                    480        True      \n",
       "Conv1d                                    2048       True      \n",
       "LayerNorm                                 512        True      \n",
       "____________________________________________________________________________\n",
       "                     128 x 60 x 1024     \n",
       "Linear                                    263168     True      \n",
       "GELU                                                           \n",
       "GRN                                                            \n",
       "____________________________________________________________________________\n",
       "                     128 x 60 x 256      \n",
       "Linear                                    262400     True      \n",
       "LayerNorm                                 512        True      \n",
       "____________________________________________________________________________\n",
       "                     128 x 512 x 30      \n",
       "Conv1d                                    262656     True      \n",
       "Conv1d                                    4096       True      \n",
       "LayerNorm                                 1024       True      \n",
       "____________________________________________________________________________\n",
       "                     128 x 30 x 2048     \n",
       "Linear                                    1050624    True      \n",
       "GELU                                                           \n",
       "GRN                                                            \n",
       "____________________________________________________________________________\n",
       "                     128 x 30 x 512      \n",
       "Linear                                    1049088    True      \n",
       "Conv1d                                    1536       True      \n",
       "____________________________________________________________________________\n",
       "                     128 x 256 x 60      \n",
       "PixelShuffle1D                                                 \n",
       "Conv1d                                    4096       True      \n",
       "LayerNorm                                 1024       True      \n",
       "____________________________________________________________________________\n",
       "                     128 x 60 x 1024     \n",
       "Linear                                    525312     True      \n",
       "GELU                                                           \n",
       "GRN                                                            \n",
       "____________________________________________________________________________\n",
       "                     128 x 60 x 512      \n",
       "Linear                                    524800     True      \n",
       "____________________________________________________________________________\n",
       "                     128 x 256 x 60      \n",
       "Conv1d                                    768        True      \n",
       "Conv1d                                    2048       True      \n",
       "LayerNorm                                 512        True      \n",
       "____________________________________________________________________________\n",
       "                     128 x 60 x 1024     \n",
       "Linear                                    263168     True      \n",
       "GELU                                                           \n",
       "GRN                                                            \n",
       "____________________________________________________________________________\n",
       "                     128 x 60 x 256      \n",
       "Linear                                    262400     True      \n",
       "LayerNorm                                 512        True      \n",
       "____________________________________________________________________________\n",
       "                     128 x 512 x 30      \n",
       "Conv1d                                    262656     True      \n",
       "Conv1d                                    4096       True      \n",
       "LayerNorm                                 1024       True      \n",
       "____________________________________________________________________________\n",
       "                     128 x 30 x 2048     \n",
       "Linear                                    1050624    True      \n",
       "GELU                                                           \n",
       "GRN                                                            \n",
       "____________________________________________________________________________\n",
       "                     128 x 30 x 512      \n",
       "Linear                                    1049088    True      \n",
       "Conv1d                                    1536       True      \n",
       "____________________________________________________________________________\n",
       "                     128 x 256 x 60      \n",
       "PixelShuffle1D                                                 \n",
       "Conv1d                                    4096       True      \n",
       "LayerNorm                                 1024       True      \n",
       "____________________________________________________________________________\n",
       "                     128 x 60 x 1024     \n",
       "Linear                                    525312     True      \n",
       "GELU                                                           \n",
       "GRN                                                            \n",
       "____________________________________________________________________________\n",
       "                     128 x 60 x 512      \n",
       "Linear                                    524800     True      \n",
       "____________________________________________________________________________\n",
       "                     128 x 256 x 60      \n",
       "Conv1d                                    768        True      \n",
       "Conv1d                                    2048       True      \n",
       "LayerNorm                                 512        True      \n",
       "____________________________________________________________________________\n",
       "                     128 x 60 x 1024     \n",
       "Linear                                    263168     True      \n",
       "GELU                                                           \n",
       "GRN                                                            \n",
       "____________________________________________________________________________\n",
       "                     128 x 60 x 256      \n",
       "Linear                                    262400     True      \n",
       "LayerNorm                                 512        True      \n",
       "____________________________________________________________________________\n",
       "                     128 x 512 x 30      \n",
       "Conv1d                                    262656     True      \n",
       "Conv1d                                    4096       True      \n",
       "LayerNorm                                 1024       True      \n",
       "____________________________________________________________________________\n",
       "                     128 x 30 x 2048     \n",
       "Linear                                    1050624    True      \n",
       "GELU                                                           \n",
       "GRN                                                            \n",
       "____________________________________________________________________________\n",
       "                     128 x 30 x 512      \n",
       "Linear                                    1049088    True      \n",
       "Conv1d                                    1536       True      \n",
       "____________________________________________________________________________\n",
       "                     128 x 256 x 60      \n",
       "PixelShuffle1D                                                 \n",
       "Conv1d                                    4096       True      \n",
       "LayerNorm                                 1024       True      \n",
       "____________________________________________________________________________\n",
       "                     128 x 60 x 1024     \n",
       "Linear                                    525312     True      \n",
       "GELU                                                           \n",
       "GRN                                                            \n",
       "____________________________________________________________________________\n",
       "                     128 x 60 x 512      \n",
       "Linear                                    524800     True      \n",
       "____________________________________________________________________________\n",
       "                     128 x 256 x 60      \n",
       "Conv1d                                    768        True      \n",
       "Conv1d                                    2048       True      \n",
       "LayerNorm                                 512        True      \n",
       "____________________________________________________________________________\n",
       "                     128 x 60 x 1024     \n",
       "Linear                                    263168     True      \n",
       "GELU                                                           \n",
       "GRN                                                            \n",
       "____________________________________________________________________________\n",
       "                     128 x 60 x 256      \n",
       "Linear                                    262400     True      \n",
       "LayerNorm                                 512        True      \n",
       "____________________________________________________________________________\n",
       "                     128 x 512 x 30      \n",
       "Conv1d                                    262656     True      \n",
       "Conv1d                                    4096       True      \n",
       "LayerNorm                                 1024       True      \n",
       "____________________________________________________________________________\n",
       "                     128 x 30 x 2048     \n",
       "Linear                                    1050624    True      \n",
       "GELU                                                           \n",
       "GRN                                                            \n",
       "____________________________________________________________________________\n",
       "                     128 x 30 x 512      \n",
       "Linear                                    1049088    True      \n",
       "Conv1d                                    1536       True      \n",
       "____________________________________________________________________________\n",
       "                     128 x 256 x 60      \n",
       "PixelShuffle1D                                                 \n",
       "Conv1d                                    4096       True      \n",
       "LayerNorm                                 1024       True      \n",
       "____________________________________________________________________________\n",
       "                     128 x 60 x 1024     \n",
       "Linear                                    525312     True      \n",
       "GELU                                                           \n",
       "GRN                                                            \n",
       "____________________________________________________________________________\n",
       "                     128 x 60 x 512      \n",
       "Linear                                    524800     True      \n",
       "____________________________________________________________________________\n",
       "                     128 x 256 x 60      \n",
       "Conv1d                                    768        True      \n",
       "Conv1d                                    2048       True      \n",
       "LayerNorm                                 512        True      \n",
       "____________________________________________________________________________\n",
       "                     128 x 60 x 1024     \n",
       "Linear                                    263168     True      \n",
       "GELU                                                           \n",
       "GRN                                                            \n",
       "____________________________________________________________________________\n",
       "                     128 x 60 x 256      \n",
       "Linear                                    262400     True      \n",
       "____________________________________________________________________________\n",
       "                     128 x 6 x 60        \n",
       "Conv1d                                    1542       True      \n",
       "____________________________________________________________________________\n",
       "                     128 x 360           \n",
       "Rearrange                                                      \n",
       "Linear                                    129960     True      \n",
       "Conv1d                                    2048       True      \n",
       "LayerNorm                                 512        True      \n",
       "____________________________________________________________________________\n",
       "                     128 x 60 x 1024     \n",
       "Linear                                    263168     True      \n",
       "GELU                                                           \n",
       "GRN                                                            \n",
       "____________________________________________________________________________\n",
       "                     128 x 60 x 256      \n",
       "Linear                                    262400     True      \n",
       "____________________________________________________________________________\n",
       "                     128 x 8 x 60        \n",
       "Conv1d                                    2056       True      \n",
       "____________________________________________________________________________\n",
       "                     128 x 8             \n",
       "Reduce                                                         \n",
       "____________________________________________________________________________\n",
       "\n",
       "Total params: 17,006,870\n",
       "Total trainable params: 17,006,870\n",
       "Total non-trainable params: 0\n",
       "\n",
       "Optimizer used: <function ranger at 0x7d79b55277f0>\n",
       "Loss function: <function mse at 0x7d76e70dc4c0>\n",
       "\n",
       "Callbacks:\n",
       "  - TrainEvalCallback\n",
       "  - CastToTensor\n",
       "  - GradientClip\n",
       "  - Recorder\n",
       "  - ProgressCallback\n",
       "  - SaveModelCallback"
      ]
     },
     "execution_count": 229,
     "metadata": {},
     "output_type": "execute_result"
    }
   ],
   "source": [
    "learn.summary()"
   ]
  },
  {
   "cell_type": "code",
   "execution_count": 230,
   "metadata": {
    "scrolled": true
   },
   "outputs": [
    {
     "data": {
      "text/html": [
       "\n",
       "<style>\n",
       "    /* Turns off some styling */\n",
       "    progress {\n",
       "        /* gets rid of default border in Firefox and Opera. */\n",
       "        border: none;\n",
       "        /* Needs to be in here for Safari polyfill so background images work as expected. */\n",
       "        background-size: auto;\n",
       "    }\n",
       "    progress:not([value]), progress:not([value])::-webkit-progress-bar {\n",
       "        background: repeating-linear-gradient(45deg, #7e7e7e, #7e7e7e 10px, #5c5c5c 10px, #5c5c5c 20px);\n",
       "    }\n",
       "    .progress-bar-interrupted, .progress-bar-interrupted::-webkit-progress-bar {\n",
       "        background: #F44336;\n",
       "    }\n",
       "</style>\n"
      ],
      "text/plain": [
       "<IPython.core.display.HTML object>"
      ]
     },
     "metadata": {},
     "output_type": "display_data"
    },
    {
     "data": {
      "text/html": [],
      "text/plain": [
       "<IPython.core.display.HTML object>"
      ]
     },
     "metadata": {},
     "output_type": "display_data"
    },
    {
     "data": {
      "text/plain": [
       "SuggestedLRs(valley=0.0003311311302240938)"
      ]
     },
     "execution_count": 230,
     "metadata": {},
     "output_type": "execute_result"
    },
    {
     "data": {
      "image/png": "[encoded data removed]",
      "text/plain": [
       "<Figure size 640x480 with 1 Axes>"
      ]
     },
     "metadata": {},
     "output_type": "display_data"
    }
   ],
   "source": [
    "learn.lr_find(num_it=500)"
   ]
  },
  {
   "cell_type": "code",
   "execution_count": null,
   "metadata": {},
   "outputs": [
    {
     "data": {
      "text/html": [
       "\n",
       "<style>\n",
       "    /* Turns off some styling */\n",
       "    progress {\n",
       "        /* gets rid of default border in Firefox and Opera. */\n",
       "        border: none;\n",
       "        /* Needs to be in here for Safari polyfill so background images work as expected. */\n",
       "        background-size: auto;\n",
       "    }\n",
       "    progress:not([value]), progress:not([value])::-webkit-progress-bar {\n",
       "        background: repeating-linear-gradient(45deg, #7e7e7e, #7e7e7e 10px, #5c5c5c 10px, #5c5c5c 20px);\n",
       "    }\n",
       "    .progress-bar-interrupted, .progress-bar-interrupted::-webkit-progress-bar {\n",
       "        background: #F44336;\n",
       "    }\n",
       "</style>\n"
      ],
      "text/plain": [
       "<IPython.core.display.HTML object>"
      ]
     },
     "metadata": {},
     "output_type": "display_data"
    },
    {
     "data": {
      "text/html": [
       "\n",
       "    <div>\n",
       "      <progress value='1' class='' max='15' style='width:300px; height:20px; vertical-align: middle;'></progress>\n",
       "      6.67% [1/15 19:50&lt;4:37:49]\n",
       "    </div>\n",
       "    \n",
       "<table border=\"1\" class=\"dataframe\">\n",
       "  <thead>\n",
       "    <tr style=\"text-align: left;\">\n",
       "      <th>epoch</th>\n",
       "      <th>train_loss</th>\n",
       "      <th>valid_loss</th>\n",
       "      <th>mae</th>\n",
       "      <th>mse</th>\n",
       "      <th>r_squared</th>\n",
       "      <th>time</th>\n",
       "    </tr>\n",
       "  </thead>\n",
       "  <tbody>\n",
       "    <tr>\n",
       "      <td>0</td>\n",
       "      <td>0.123545</td>\n",
       "      <td>0.125531</td>\n",
       "      <td>0.169564</td>\n",
       "      <td>0.307329</td>\n",
       "      <td>0.692488</td>\n",
       "      <td>19:50</td>\n",
       "    </tr>\n",
       "  </tbody>\n",
       "</table><p>\n",
       "\n",
       "    <div>\n",
       "      <progress value='4355' class='' max='29687' style='width:300px; height:20px; vertical-align: middle;'></progress>\n",
       "      14.67% [4355/29687 02:53&lt;16:49 0.1228]\n",
       "    </div>\n",
       "    "
      ],
      "text/plain": [
       "<IPython.core.display.HTML object>"
      ]
     },
     "metadata": {},
     "output_type": "display_data"
    },
    {
     "name": "stdout",
     "output_type": "stream",
     "text": [
      "Better model found at epoch 0 with r_squared value: 0.6924877762794495.\n"
     ]
    }
   ],
   "source": [
    "learn.fit_flat_cos(15, 1e-3, pct_start=0.5)"
   ]
  },
  {
   "cell_type": "code",
   "execution_count": null,
   "metadata": {},
   "outputs": [],
   "source": []
  },
  {
   "cell_type": "code",
   "execution_count": null,
   "metadata": {},
   "outputs": [],
   "source": [
    "165/(198*1e4)"
   ]
  },
  {
   "cell_type": "code",
   "execution_count": 88,
   "metadata": {},
   "outputs": [
    {
     "data": {
      "text/html": [
       "\n",
       "<style>\n",
       "    /* Turns off some styling */\n",
       "    progress {\n",
       "        /* gets rid of default border in Firefox and Opera. */\n",
       "        border: none;\n",
       "        /* Needs to be in here for Safari polyfill so background images work as expected. */\n",
       "        background-size: auto;\n",
       "    }\n",
       "    progress:not([value]), progress:not([value])::-webkit-progress-bar {\n",
       "        background: repeating-linear-gradient(45deg, #7e7e7e, #7e7e7e 10px, #5c5c5c 10px, #5c5c5c 20px);\n",
       "    }\n",
       "    .progress-bar-interrupted, .progress-bar-interrupted::-webkit-progress-bar {\n",
       "        background: #F44336;\n",
       "    }\n",
       "</style>\n"
      ],
      "text/plain": [
       "<IPython.core.display.HTML object>"
      ]
     },
     "metadata": {},
     "output_type": "display_data"
    },
    {
     "data": {
      "text/html": [
       "<table border=\"1\" class=\"dataframe\">\n",
       "  <thead>\n",
       "    <tr style=\"text-align: left;\">\n",
       "      <th>epoch</th>\n",
       "      <th>train_loss</th>\n",
       "      <th>valid_loss</th>\n",
       "      <th>mae</th>\n",
       "      <th>mse</th>\n",
       "      <th>r_squared</th>\n",
       "      <th>time</th>\n",
       "    </tr>\n",
       "  </thead>\n",
       "  <tbody>\n",
       "    <tr>\n",
       "      <td>0</td>\n",
       "      <td>0.229272</td>\n",
       "      <td>0.260041</td>\n",
       "      <td>0.152555</td>\n",
       "      <td>0.260041</td>\n",
       "      <td>0.727625</td>\n",
       "      <td>27:52</td>\n",
       "    </tr>\n",
       "    <tr>\n",
       "      <td>1</td>\n",
       "      <td>0.210327</td>\n",
       "      <td>0.256274</td>\n",
       "      <td>0.153173</td>\n",
       "      <td>0.256274</td>\n",
       "      <td>0.729453</td>\n",
       "      <td>27:53</td>\n",
       "    </tr>\n",
       "    <tr>\n",
       "      <td>2</td>\n",
       "      <td>0.210848</td>\n",
       "      <td>0.252755</td>\n",
       "      <td>0.153384</td>\n",
       "      <td>0.252755</td>\n",
       "      <td>0.729167</td>\n",
       "      <td>27:57</td>\n",
       "    </tr>\n",
       "    <tr>\n",
       "      <td>3</td>\n",
       "      <td>0.369781</td>\n",
       "      <td>0.252151</td>\n",
       "      <td>0.153907</td>\n",
       "      <td>0.252151</td>\n",
       "      <td>0.728009</td>\n",
       "      <td>27:55</td>\n",
       "    </tr>\n",
       "    <tr>\n",
       "      <td>4</td>\n",
       "      <td>0.190333</td>\n",
       "      <td>0.252129</td>\n",
       "      <td>0.154275</td>\n",
       "      <td>0.252129</td>\n",
       "      <td>0.725401</td>\n",
       "      <td>27:54</td>\n",
       "    </tr>\n",
       "    <tr>\n",
       "      <td>5</td>\n",
       "      <td>0.194347</td>\n",
       "      <td>0.253543</td>\n",
       "      <td>0.154800</td>\n",
       "      <td>0.253543</td>\n",
       "      <td>0.723863</td>\n",
       "      <td>27:55</td>\n",
       "    </tr>\n",
       "    <tr>\n",
       "      <td>6</td>\n",
       "      <td>0.188494</td>\n",
       "      <td>0.256584</td>\n",
       "      <td>0.155276</td>\n",
       "      <td>0.256584</td>\n",
       "      <td>0.719586</td>\n",
       "      <td>27:55</td>\n",
       "    </tr>\n",
       "    <tr>\n",
       "      <td>7</td>\n",
       "      <td>0.184154</td>\n",
       "      <td>0.256038</td>\n",
       "      <td>0.155658</td>\n",
       "      <td>0.256038</td>\n",
       "      <td>0.719379</td>\n",
       "      <td>27:54</td>\n",
       "    </tr>\n",
       "    <tr>\n",
       "      <td>8</td>\n",
       "      <td>0.178666</td>\n",
       "      <td>0.258872</td>\n",
       "      <td>0.156046</td>\n",
       "      <td>0.258872</td>\n",
       "      <td>0.715114</td>\n",
       "      <td>27:56</td>\n",
       "    </tr>\n",
       "    <tr>\n",
       "      <td>9</td>\n",
       "      <td>0.168267</td>\n",
       "      <td>0.257935</td>\n",
       "      <td>0.155296</td>\n",
       "      <td>0.257935</td>\n",
       "      <td>0.716201</td>\n",
       "      <td>27:51</td>\n",
       "    </tr>\n",
       "    <tr>\n",
       "      <td>10</td>\n",
       "      <td>0.151751</td>\n",
       "      <td>0.258789</td>\n",
       "      <td>0.154889</td>\n",
       "      <td>0.258789</td>\n",
       "      <td>0.713802</td>\n",
       "      <td>27:55</td>\n",
       "    </tr>\n",
       "    <tr>\n",
       "      <td>11</td>\n",
       "      <td>0.148415</td>\n",
       "      <td>0.260616</td>\n",
       "      <td>0.154951</td>\n",
       "      <td>0.260616</td>\n",
       "      <td>0.710612</td>\n",
       "      <td>27:56</td>\n",
       "    </tr>\n",
       "    <tr>\n",
       "      <td>12</td>\n",
       "      <td>0.145642</td>\n",
       "      <td>0.262144</td>\n",
       "      <td>0.154936</td>\n",
       "      <td>0.262144</td>\n",
       "      <td>0.708474</td>\n",
       "      <td>27:55</td>\n",
       "    </tr>\n",
       "    <tr>\n",
       "      <td>13</td>\n",
       "      <td>0.137470</td>\n",
       "      <td>0.265236</td>\n",
       "      <td>0.155330</td>\n",
       "      <td>0.265236</td>\n",
       "      <td>0.704923</td>\n",
       "      <td>27:52</td>\n",
       "    </tr>\n",
       "    <tr>\n",
       "      <td>14</td>\n",
       "      <td>0.131085</td>\n",
       "      <td>0.266994</td>\n",
       "      <td>0.155623</td>\n",
       "      <td>0.266994</td>\n",
       "      <td>0.702860</td>\n",
       "      <td>27:55</td>\n",
       "    </tr>\n",
       "  </tbody>\n",
       "</table>"
      ],
      "text/plain": [
       "<IPython.core.display.HTML object>"
      ]
     },
     "metadata": {},
     "output_type": "display_data"
    },
    {
     "name": "stdout",
     "output_type": "stream",
     "text": [
      "Better model found at epoch 0 with valid_loss value: 0.2600410580635071.\n",
      "Better model found at epoch 1 with valid_loss value: 0.25627413392066956.\n",
      "Better model found at epoch 2 with valid_loss value: 0.2527551054954529.\n",
      "Better model found at epoch 3 with valid_loss value: 0.2521514594554901.\n",
      "Better model found at epoch 4 with valid_loss value: 0.2521290183067322.\n"
     ]
    }
   ],
   "source": [
    "learn.fit_flat_cos(15, 4e-4, pct_start=0.5)"
   ]
  },
  {
   "cell_type": "code",
   "execution_count": 73,
   "metadata": {},
   "outputs": [
    {
     "data": {
      "text/html": [
       "\n",
       "<style>\n",
       "    /* Turns off some styling */\n",
       "    progress {\n",
       "        /* gets rid of default border in Firefox and Opera. */\n",
       "        border: none;\n",
       "        /* Needs to be in here for Safari polyfill so background images work as expected. */\n",
       "        background-size: auto;\n",
       "    }\n",
       "    progress:not([value]), progress:not([value])::-webkit-progress-bar {\n",
       "        background: repeating-linear-gradient(45deg, #7e7e7e, #7e7e7e 10px, #5c5c5c 10px, #5c5c5c 20px);\n",
       "    }\n",
       "    .progress-bar-interrupted, .progress-bar-interrupted::-webkit-progress-bar {\n",
       "        background: #F44336;\n",
       "    }\n",
       "</style>\n"
      ],
      "text/plain": [
       "<IPython.core.display.HTML object>"
      ]
     },
     "metadata": {},
     "output_type": "display_data"
    },
    {
     "data": {
      "text/html": [
       "<table border=\"1\" class=\"dataframe\">\n",
       "  <thead>\n",
       "    <tr style=\"text-align: left;\">\n",
       "      <th>epoch</th>\n",
       "      <th>train_loss</th>\n",
       "      <th>valid_loss</th>\n",
       "      <th>mae</th>\n",
       "      <th>mse</th>\n",
       "      <th>r_squared</th>\n",
       "      <th>time</th>\n",
       "    </tr>\n",
       "  </thead>\n",
       "  <tbody>\n",
       "    <tr>\n",
       "      <td>0</td>\n",
       "      <td>0.221799</td>\n",
       "      <td>0.248883</td>\n",
       "      <td>0.161289</td>\n",
       "      <td>0.248883</td>\n",
       "      <td>0.624436</td>\n",
       "      <td>19:30</td>\n",
       "    </tr>\n",
       "    <tr>\n",
       "      <td>1</td>\n",
       "      <td>0.216447</td>\n",
       "      <td>0.249240</td>\n",
       "      <td>0.160901</td>\n",
       "      <td>0.249240</td>\n",
       "      <td>0.621538</td>\n",
       "      <td>19:30</td>\n",
       "    </tr>\n",
       "    <tr>\n",
       "      <td>2</td>\n",
       "      <td>0.211245</td>\n",
       "      <td>0.249448</td>\n",
       "      <td>0.160596</td>\n",
       "      <td>0.249448</td>\n",
       "      <td>0.617848</td>\n",
       "      <td>19:31</td>\n",
       "    </tr>\n",
       "    <tr>\n",
       "      <td>3</td>\n",
       "      <td>0.221787</td>\n",
       "      <td>0.248711</td>\n",
       "      <td>0.160692</td>\n",
       "      <td>0.248711</td>\n",
       "      <td>0.620983</td>\n",
       "      <td>19:34</td>\n",
       "    </tr>\n",
       "    <tr>\n",
       "      <td>4</td>\n",
       "      <td>0.214866</td>\n",
       "      <td>0.249098</td>\n",
       "      <td>0.160391</td>\n",
       "      <td>0.249098</td>\n",
       "      <td>0.619240</td>\n",
       "      <td>19:35</td>\n",
       "    </tr>\n",
       "    <tr>\n",
       "      <td>5</td>\n",
       "      <td>0.212531</td>\n",
       "      <td>0.249636</td>\n",
       "      <td>0.160608</td>\n",
       "      <td>0.249636</td>\n",
       "      <td>0.621107</td>\n",
       "      <td>19:35</td>\n",
       "    </tr>\n",
       "    <tr>\n",
       "      <td>6</td>\n",
       "      <td>0.210268</td>\n",
       "      <td>0.251274</td>\n",
       "      <td>0.160549</td>\n",
       "      <td>0.251274</td>\n",
       "      <td>0.621262</td>\n",
       "      <td>19:36</td>\n",
       "    </tr>\n",
       "    <tr>\n",
       "      <td>7</td>\n",
       "      <td>0.205438</td>\n",
       "      <td>0.249965</td>\n",
       "      <td>0.160234</td>\n",
       "      <td>0.249965</td>\n",
       "      <td>0.612630</td>\n",
       "      <td>19:33</td>\n",
       "    </tr>\n",
       "    <tr>\n",
       "      <td>8</td>\n",
       "      <td>0.211535</td>\n",
       "      <td>0.251200</td>\n",
       "      <td>0.160285</td>\n",
       "      <td>0.251200</td>\n",
       "      <td>0.616812</td>\n",
       "      <td>19:34</td>\n",
       "    </tr>\n",
       "    <tr>\n",
       "      <td>9</td>\n",
       "      <td>0.202592</td>\n",
       "      <td>0.250676</td>\n",
       "      <td>0.160388</td>\n",
       "      <td>0.250676</td>\n",
       "      <td>0.620815</td>\n",
       "      <td>19:33</td>\n",
       "    </tr>\n",
       "    <tr>\n",
       "      <td>10</td>\n",
       "      <td>0.203163</td>\n",
       "      <td>0.251837</td>\n",
       "      <td>0.160533</td>\n",
       "      <td>0.251837</td>\n",
       "      <td>0.622562</td>\n",
       "      <td>19:32</td>\n",
       "    </tr>\n",
       "    <tr>\n",
       "      <td>11</td>\n",
       "      <td>0.202210</td>\n",
       "      <td>0.251259</td>\n",
       "      <td>0.160400</td>\n",
       "      <td>0.251259</td>\n",
       "      <td>0.623116</td>\n",
       "      <td>19:33</td>\n",
       "    </tr>\n",
       "    <tr>\n",
       "      <td>12</td>\n",
       "      <td>0.203359</td>\n",
       "      <td>0.254081</td>\n",
       "      <td>0.160537</td>\n",
       "      <td>0.254081</td>\n",
       "      <td>0.626861</td>\n",
       "      <td>19:36</td>\n",
       "    </tr>\n",
       "    <tr>\n",
       "      <td>13</td>\n",
       "      <td>0.202191</td>\n",
       "      <td>0.252784</td>\n",
       "      <td>0.160110</td>\n",
       "      <td>0.252784</td>\n",
       "      <td>0.620404</td>\n",
       "      <td>19:36</td>\n",
       "    </tr>\n",
       "    <tr>\n",
       "      <td>14</td>\n",
       "      <td>0.197368</td>\n",
       "      <td>0.253724</td>\n",
       "      <td>0.160042</td>\n",
       "      <td>0.253724</td>\n",
       "      <td>0.620057</td>\n",
       "      <td>19:36</td>\n",
       "    </tr>\n",
       "    <tr>\n",
       "      <td>15</td>\n",
       "      <td>0.195313</td>\n",
       "      <td>0.253773</td>\n",
       "      <td>0.160025</td>\n",
       "      <td>0.253773</td>\n",
       "      <td>0.622633</td>\n",
       "      <td>19:36</td>\n",
       "    </tr>\n",
       "    <tr>\n",
       "      <td>16</td>\n",
       "      <td>0.201135</td>\n",
       "      <td>0.253800</td>\n",
       "      <td>0.159798</td>\n",
       "      <td>0.253800</td>\n",
       "      <td>0.620017</td>\n",
       "      <td>19:35</td>\n",
       "    </tr>\n",
       "    <tr>\n",
       "      <td>17</td>\n",
       "      <td>0.200917</td>\n",
       "      <td>0.253857</td>\n",
       "      <td>0.159699</td>\n",
       "      <td>0.253857</td>\n",
       "      <td>0.619852</td>\n",
       "      <td>19:34</td>\n",
       "    </tr>\n",
       "    <tr>\n",
       "      <td>18</td>\n",
       "      <td>0.200810</td>\n",
       "      <td>0.254043</td>\n",
       "      <td>0.159684</td>\n",
       "      <td>0.254043</td>\n",
       "      <td>0.620227</td>\n",
       "      <td>19:36</td>\n",
       "    </tr>\n",
       "    <tr>\n",
       "      <td>19</td>\n",
       "      <td>0.200294</td>\n",
       "      <td>0.254061</td>\n",
       "      <td>0.159705</td>\n",
       "      <td>0.254061</td>\n",
       "      <td>0.620749</td>\n",
       "      <td>19:37</td>\n",
       "    </tr>\n",
       "  </tbody>\n",
       "</table>"
      ],
      "text/plain": [
       "<IPython.core.display.HTML object>"
      ]
     },
     "metadata": {},
     "output_type": "display_data"
    },
    {
     "name": "stdout",
     "output_type": "stream",
     "text": [
      "Better model found at epoch 0 with valid_loss value: 0.24888284504413605.\n",
      "Better model found at epoch 3 with valid_loss value: 0.24871104955673218.\n"
     ]
    }
   ],
   "source": [
    "learn.fit_flat_cos(20, 8e-4, pct_start=0.5)"
   ]
  },
  {
   "cell_type": "code",
   "execution_count": 71,
   "metadata": {
    "scrolled": true
   },
   "outputs": [
    {
     "data": {
      "text/html": [
       "\n",
       "<style>\n",
       "    /* Turns off some styling */\n",
       "    progress {\n",
       "        /* gets rid of default border in Firefox and Opera. */\n",
       "        border: none;\n",
       "        /* Needs to be in here for Safari polyfill so background images work as expected. */\n",
       "        background-size: auto;\n",
       "    }\n",
       "    progress:not([value]), progress:not([value])::-webkit-progress-bar {\n",
       "        background: repeating-linear-gradient(45deg, #7e7e7e, #7e7e7e 10px, #5c5c5c 10px, #5c5c5c 20px);\n",
       "    }\n",
       "    .progress-bar-interrupted, .progress-bar-interrupted::-webkit-progress-bar {\n",
       "        background: #F44336;\n",
       "    }\n",
       "</style>\n"
      ],
      "text/plain": [
       "<IPython.core.display.HTML object>"
      ]
     },
     "metadata": {},
     "output_type": "display_data"
    },
    {
     "data": {
      "text/html": [
       "<table border=\"1\" class=\"dataframe\">\n",
       "  <thead>\n",
       "    <tr style=\"text-align: left;\">\n",
       "      <th>epoch</th>\n",
       "      <th>train_loss</th>\n",
       "      <th>valid_loss</th>\n",
       "      <th>mae</th>\n",
       "      <th>mse</th>\n",
       "      <th>r_squared</th>\n",
       "      <th>time</th>\n",
       "    </tr>\n",
       "  </thead>\n",
       "  <tbody>\n",
       "    <tr>\n",
       "      <td>0</td>\n",
       "      <td>0.232228</td>\n",
       "      <td>0.257023</td>\n",
       "      <td>0.163198</td>\n",
       "      <td>0.257023</td>\n",
       "      <td>0.605320</td>\n",
       "      <td>19:34</td>\n",
       "    </tr>\n",
       "    <tr>\n",
       "      <td>1</td>\n",
       "      <td>0.241770</td>\n",
       "      <td>0.252950</td>\n",
       "      <td>0.162589</td>\n",
       "      <td>0.252950</td>\n",
       "      <td>0.616660</td>\n",
       "      <td>19:35</td>\n",
       "    </tr>\n",
       "    <tr>\n",
       "      <td>2</td>\n",
       "      <td>0.219839</td>\n",
       "      <td>0.249665</td>\n",
       "      <td>0.161875</td>\n",
       "      <td>0.249665</td>\n",
       "      <td>0.611379</td>\n",
       "      <td>19:35</td>\n",
       "    </tr>\n",
       "    <tr>\n",
       "      <td>3</td>\n",
       "      <td>0.225076</td>\n",
       "      <td>0.249045</td>\n",
       "      <td>0.161634</td>\n",
       "      <td>0.249045</td>\n",
       "      <td>0.616109</td>\n",
       "      <td>19:35</td>\n",
       "    </tr>\n",
       "    <tr>\n",
       "      <td>4</td>\n",
       "      <td>0.211528</td>\n",
       "      <td>0.249282</td>\n",
       "      <td>0.161465</td>\n",
       "      <td>0.249282</td>\n",
       "      <td>0.613677</td>\n",
       "      <td>19:35</td>\n",
       "    </tr>\n",
       "    <tr>\n",
       "      <td>5</td>\n",
       "      <td>0.217431</td>\n",
       "      <td>0.248704</td>\n",
       "      <td>0.160870</td>\n",
       "      <td>0.248704</td>\n",
       "      <td>0.610308</td>\n",
       "      <td>19:36</td>\n",
       "    </tr>\n",
       "    <tr>\n",
       "      <td>6</td>\n",
       "      <td>0.300959</td>\n",
       "      <td>0.248664</td>\n",
       "      <td>0.160695</td>\n",
       "      <td>0.248664</td>\n",
       "      <td>0.615366</td>\n",
       "      <td>19:36</td>\n",
       "    </tr>\n",
       "    <tr>\n",
       "      <td>7</td>\n",
       "      <td>0.219857</td>\n",
       "      <td>0.248102</td>\n",
       "      <td>0.160497</td>\n",
       "      <td>0.248102</td>\n",
       "      <td>0.617658</td>\n",
       "      <td>19:37</td>\n",
       "    </tr>\n",
       "    <tr>\n",
       "      <td>8</td>\n",
       "      <td>0.224552</td>\n",
       "      <td>0.248065</td>\n",
       "      <td>0.160396</td>\n",
       "      <td>0.248065</td>\n",
       "      <td>0.619523</td>\n",
       "      <td>19:36</td>\n",
       "    </tr>\n",
       "    <tr>\n",
       "      <td>9</td>\n",
       "      <td>0.213481</td>\n",
       "      <td>0.248097</td>\n",
       "      <td>0.160325</td>\n",
       "      <td>0.248097</td>\n",
       "      <td>0.618928</td>\n",
       "      <td>19:36</td>\n",
       "    </tr>\n",
       "  </tbody>\n",
       "</table>"
      ],
      "text/plain": [
       "<IPython.core.display.HTML object>"
      ]
     },
     "metadata": {},
     "output_type": "display_data"
    },
    {
     "name": "stdout",
     "output_type": "stream",
     "text": [
      "Better model found at epoch 0 with valid_loss value: 0.2570227384567261.\n",
      "Better model found at epoch 1 with valid_loss value: 0.2529500126838684.\n",
      "Better model found at epoch 2 with valid_loss value: 0.2496650665998459.\n",
      "Better model found at epoch 3 with valid_loss value: 0.24904529750347137.\n",
      "Better model found at epoch 5 with valid_loss value: 0.24870361387729645.\n",
      "Better model found at epoch 6 with valid_loss value: 0.2486642599105835.\n",
      "Better model found at epoch 7 with valid_loss value: 0.248102068901062.\n",
      "Better model found at epoch 8 with valid_loss value: 0.24806547164916992.\n"
     ]
    }
   ],
   "source": [
    "learn.fit_flat_cos(10, 1e-4, pct_start=0.5)"
   ]
  },
  {
   "cell_type": "code",
   "execution_count": 74,
   "metadata": {},
   "outputs": [
    {
     "data": {
      "text/plain": [
       "Path('models/good_v3.pth')"
      ]
     },
     "execution_count": 74,
     "metadata": {},
     "output_type": "execute_result"
    }
   ],
   "source": [
    "learn.save('good_v3')"
   ]
  },
  {
   "cell_type": "code",
   "execution_count": 38,
   "metadata": {},
   "outputs": [],
   "source": [
    "torch.save(net.state_dict(), 'model_weights_good_v1.pth')"
   ]
  },
  {
   "cell_type": "code",
   "execution_count": 34,
   "metadata": {},
   "outputs": [
    {
     "data": {
      "text/html": [
       "\n",
       "<style>\n",
       "    /* Turns off some styling */\n",
       "    progress {\n",
       "        /* gets rid of default border in Firefox and Opera. */\n",
       "        border: none;\n",
       "        /* Needs to be in here for Safari polyfill so background images work as expected. */\n",
       "        background-size: auto;\n",
       "    }\n",
       "    progress:not([value]), progress:not([value])::-webkit-progress-bar {\n",
       "        background: repeating-linear-gradient(45deg, #7e7e7e, #7e7e7e 10px, #5c5c5c 10px, #5c5c5c 20px);\n",
       "    }\n",
       "    .progress-bar-interrupted, .progress-bar-interrupted::-webkit-progress-bar {\n",
       "        background: #F44336;\n",
       "    }\n",
       "</style>\n"
      ],
      "text/plain": [
       "<IPython.core.display.HTML object>"
      ]
     },
     "metadata": {},
     "output_type": "display_data"
    },
    {
     "data": {
      "text/html": [],
      "text/plain": [
       "<IPython.core.display.HTML object>"
      ]
     },
     "metadata": {},
     "output_type": "display_data"
    },
    {
     "name": "stdout",
     "output_type": "stream",
     "text": [
      "Better model found at epoch 0 with valid_loss value: 0.505111813545227.\n"
     ]
    },
    {
     "data": {
      "text/plain": [
       "(#4) [1.6002970933914185,0.505111813545227,1.6571693420410156,0.21333633206727462]"
      ]
     },
     "execution_count": 34,
     "metadata": {},
     "output_type": "execute_result"
    }
   ],
   "source": [
    "learn.validate()"
   ]
  },
  {
   "cell_type": "code",
   "execution_count": null,
   "metadata": {},
   "outputs": [
    {
     "data": {
      "text/html": [
       "\n",
       "<style>\n",
       "    /* Turns off some styling */\n",
       "    progress {\n",
       "        /* gets rid of default border in Firefox and Opera. */\n",
       "        border: none;\n",
       "        /* Needs to be in here for Safari polyfill so background images work as expected. */\n",
       "        background-size: auto;\n",
       "    }\n",
       "    progress:not([value]), progress:not([value])::-webkit-progress-bar {\n",
       "        background: repeating-linear-gradient(45deg, #7e7e7e, #7e7e7e 10px, #5c5c5c 10px, #5c5c5c 20px);\n",
       "    }\n",
       "    .progress-bar-interrupted, .progress-bar-interrupted::-webkit-progress-bar {\n",
       "        background: #F44336;\n",
       "    }\n",
       "</style>\n"
      ],
      "text/plain": [
       "<IPython.core.display.HTML object>"
      ]
     },
     "metadata": {},
     "output_type": "display_data"
    },
    {
     "data": {
      "text/html": [
       "\n",
       "    <div>\n",
       "      <progress value='4' class='' max='40' style='width:300px; height:20px; vertical-align: middle;'></progress>\n",
       "      10.00% [4/40 1:47:04&lt;16:03:41]\n",
       "    </div>\n",
       "    \n",
       "<table border=\"1\" class=\"dataframe\">\n",
       "  <thead>\n",
       "    <tr style=\"text-align: left;\">\n",
       "      <th>epoch</th>\n",
       "      <th>train_loss</th>\n",
       "      <th>valid_loss</th>\n",
       "      <th>mae</th>\n",
       "      <th>mse</th>\n",
       "      <th>r_squared</th>\n",
       "      <th>time</th>\n",
       "    </tr>\n",
       "  </thead>\n",
       "  <tbody>\n",
       "    <tr>\n",
       "      <td>0</td>\n",
       "      <td>0.326428</td>\n",
       "      <td>0.325009</td>\n",
       "      <td>0.234470</td>\n",
       "      <td>0.355308</td>\n",
       "      <td>0.493184</td>\n",
       "      <td>25:55</td>\n",
       "    </tr>\n",
       "    <tr>\n",
       "      <td>1</td>\n",
       "      <td>0.266216</td>\n",
       "      <td>0.291889</td>\n",
       "      <td>0.213740</td>\n",
       "      <td>0.315320</td>\n",
       "      <td>0.501836</td>\n",
       "      <td>26:59</td>\n",
       "    </tr>\n",
       "    <tr>\n",
       "      <td>2</td>\n",
       "      <td>0.262931</td>\n",
       "      <td>0.283098</td>\n",
       "      <td>0.208533</td>\n",
       "      <td>0.304048</td>\n",
       "      <td>0.549058</td>\n",
       "      <td>27:01</td>\n",
       "    </tr>\n",
       "    <tr>\n",
       "      <td>3</td>\n",
       "      <td>0.256095</td>\n",
       "      <td>0.275646</td>\n",
       "      <td>0.202871</td>\n",
       "      <td>0.295436</td>\n",
       "      <td>0.575205</td>\n",
       "      <td>27:07</td>\n",
       "    </tr>\n",
       "  </tbody>\n",
       "</table><p>\n",
       "\n",
       "    <div>\n",
       "      <progress value='3140' class='' max='29687' style='width:300px; height:20px; vertical-align: middle;'></progress>\n",
       "      10.58% [3140/29687 02:52&lt;24:14 0.2453]\n",
       "    </div>\n",
       "    "
      ],
      "text/plain": [
       "<IPython.core.display.HTML object>"
      ]
     },
     "metadata": {},
     "output_type": "display_data"
    },
    {
     "name": "stderr",
     "output_type": "stream",
     "text": [
      "[2024-04-25 23:31:58,521] torch._dynamo.convert_frame: [WARNING] torch._dynamo hit config.cache_size_limit (64)\n",
      "   function: 'forward' (/tmp/ipykernel_23299/3148654658.py:112)\n",
      "   reasons:  ___check_obj_id(self, 140033784157216)\n",
      "to diagnose recompilation issues, see https://pytorch.org/docs/master/dynamo/troubleshooting.html.\n"
     ]
    },
    {
     "name": "stdout",
     "output_type": "stream",
     "text": [
      "Better model found at epoch 0 with valid_loss value: 0.32500866055488586.\n"
     ]
    },
    {
     "name": "stderr",
     "output_type": "stream",
     "text": [
      "[2024-04-25 23:32:20,991] torch._dynamo.convert_frame: [WARNING] torch._dynamo hit config.cache_size_limit (64)\n",
      "   function: 'forward' (/home/leroy/conda/envs/torch2/lib/python3.10/site-packages/torchvision/ops/misc.py:319)\n",
      "   reasons:  ___check_obj_id(self, 140033784156448)\n",
      "to diagnose recompilation issues, see https://pytorch.org/docs/master/dynamo/troubleshooting.html.\n"
     ]
    },
    {
     "name": "stdout",
     "output_type": "stream",
     "text": [
      "Better model found at epoch 1 with valid_loss value: 0.2918890714645386.\n",
      "Better model found at epoch 2 with valid_loss value: 0.28309792280197144.\n",
      "Better model found at epoch 3 with valid_loss value: 0.2756464183330536.\n"
     ]
    }
   ],
   "source": [
    "learn.fit_flat_cos(20, 1e-3)"
   ]
  },
  {
   "cell_type": "code",
   "execution_count": 56,
   "metadata": {},
   "outputs": [
    {
     "data": {
      "text/html": [
       "\n",
       "<style>\n",
       "    /* Turns off some styling */\n",
       "    progress {\n",
       "        /* gets rid of default border in Firefox and Opera. */\n",
       "        border: none;\n",
       "        /* Needs to be in here for Safari polyfill so background images work as expected. */\n",
       "        background-size: auto;\n",
       "    }\n",
       "    progress:not([value]), progress:not([value])::-webkit-progress-bar {\n",
       "        background: repeating-linear-gradient(45deg, #7e7e7e, #7e7e7e 10px, #5c5c5c 10px, #5c5c5c 20px);\n",
       "    }\n",
       "    .progress-bar-interrupted, .progress-bar-interrupted::-webkit-progress-bar {\n",
       "        background: #F44336;\n",
       "    }\n",
       "</style>\n"
      ],
      "text/plain": [
       "<IPython.core.display.HTML object>"
      ]
     },
     "metadata": {},
     "output_type": "display_data"
    },
    {
     "data": {
      "text/html": [
       "<table border=\"1\" class=\"dataframe\">\n",
       "  <thead>\n",
       "    <tr style=\"text-align: left;\">\n",
       "      <th>epoch</th>\n",
       "      <th>train_loss</th>\n",
       "      <th>valid_loss</th>\n",
       "      <th>mae</th>\n",
       "      <th>mse</th>\n",
       "      <th>r_squared</th>\n",
       "      <th>time</th>\n",
       "    </tr>\n",
       "  </thead>\n",
       "  <tbody>\n",
       "    <tr>\n",
       "      <td>0</td>\n",
       "      <td>0.164413</td>\n",
       "      <td>0.165433</td>\n",
       "      <td>0.177333</td>\n",
       "      <td>0.341697</td>\n",
       "      <td>0.417671</td>\n",
       "      <td>07:32</td>\n",
       "    </tr>\n",
       "    <tr>\n",
       "      <td>1</td>\n",
       "      <td>0.157905</td>\n",
       "      <td>0.160126</td>\n",
       "      <td>0.169911</td>\n",
       "      <td>0.326655</td>\n",
       "      <td>0.454772</td>\n",
       "      <td>07:15</td>\n",
       "    </tr>\n",
       "    <tr>\n",
       "      <td>2</td>\n",
       "      <td>0.156040</td>\n",
       "      <td>0.157170</td>\n",
       "      <td>0.166138</td>\n",
       "      <td>0.316997</td>\n",
       "      <td>0.479607</td>\n",
       "      <td>07:15</td>\n",
       "    </tr>\n",
       "    <tr>\n",
       "      <td>3</td>\n",
       "      <td>0.157877</td>\n",
       "      <td>0.155061</td>\n",
       "      <td>0.163412</td>\n",
       "      <td>0.310182</td>\n",
       "      <td>0.490179</td>\n",
       "      <td>07:16</td>\n",
       "    </tr>\n",
       "    <tr>\n",
       "      <td>4</td>\n",
       "      <td>0.153847</td>\n",
       "      <td>0.151915</td>\n",
       "      <td>0.159921</td>\n",
       "      <td>0.296685</td>\n",
       "      <td>0.539397</td>\n",
       "      <td>07:16</td>\n",
       "    </tr>\n",
       "    <tr>\n",
       "      <td>5</td>\n",
       "      <td>0.145465</td>\n",
       "      <td>0.145779</td>\n",
       "      <td>0.153717</td>\n",
       "      <td>0.277628</td>\n",
       "      <td>0.580840</td>\n",
       "      <td>07:15</td>\n",
       "    </tr>\n",
       "  </tbody>\n",
       "</table>"
      ],
      "text/plain": [
       "<IPython.core.display.HTML object>"
      ]
     },
     "metadata": {},
     "output_type": "display_data"
    }
   ],
   "source": [
    "learn.fit_flat_cos(6, 1e-3)"
   ]
  },
  {
   "cell_type": "code",
   "execution_count": 82,
   "metadata": {},
   "outputs": [
    {
     "data": {
      "text/html": [
       "\n",
       "<style>\n",
       "    /* Turns off some styling */\n",
       "    progress {\n",
       "        /* gets rid of default border in Firefox and Opera. */\n",
       "        border: none;\n",
       "        /* Needs to be in here for Safari polyfill so background images work as expected. */\n",
       "        background-size: auto;\n",
       "    }\n",
       "    progress:not([value]), progress:not([value])::-webkit-progress-bar {\n",
       "        background: repeating-linear-gradient(45deg, #7e7e7e, #7e7e7e 10px, #5c5c5c 10px, #5c5c5c 20px);\n",
       "    }\n",
       "    .progress-bar-interrupted, .progress-bar-interrupted::-webkit-progress-bar {\n",
       "        background: #F44336;\n",
       "    }\n",
       "</style>\n"
      ],
      "text/plain": [
       "<IPython.core.display.HTML object>"
      ]
     },
     "metadata": {},
     "output_type": "display_data"
    },
    {
     "data": {
      "text/html": [
       "\n",
       "    <div>\n",
       "      <progress value='1' class='' max='6' style='width:300px; height:20px; vertical-align: middle;'></progress>\n",
       "      16.67% [1/6 07:29&lt;37:28]\n",
       "    </div>\n",
       "    \n",
       "<table border=\"1\" class=\"dataframe\">\n",
       "  <thead>\n",
       "    <tr style=\"text-align: left;\">\n",
       "      <th>epoch</th>\n",
       "      <th>train_loss</th>\n",
       "      <th>valid_loss</th>\n",
       "      <th>mae</th>\n",
       "      <th>mse</th>\n",
       "      <th>r_squared</th>\n",
       "      <th>time</th>\n",
       "    </tr>\n",
       "  </thead>\n",
       "  <tbody>\n",
       "    <tr>\n",
       "      <td>0</td>\n",
       "      <td>0.196049</td>\n",
       "      <td>0.195223</td>\n",
       "      <td>0.172460</td>\n",
       "      <td>0.320301</td>\n",
       "      <td>0.470430</td>\n",
       "      <td>07:29</td>\n",
       "    </tr>\n",
       "  </tbody>\n",
       "</table><p>\n",
       "\n",
       "    <div>\n",
       "      <progress value='0' class='' max='29687' style='width:300px; height:20px; vertical-align: middle;'></progress>\n",
       "      0.00% [0/29687 00:00&lt;?]\n",
       "    </div>\n",
       "    "
      ],
      "text/plain": [
       "<IPython.core.display.HTML object>"
      ]
     },
     "metadata": {},
     "output_type": "display_data"
    }
   ],
   "source": [
    "learn.fit_flat_cos(6, 7e-3)"
   ]
  },
  {
   "cell_type": "code",
   "execution_count": 59,
   "metadata": {},
   "outputs": [
    {
     "data": {
      "text/plain": [
       "Path('models/res_conv_v1.pth')"
      ]
     },
     "execution_count": 59,
     "metadata": {},
     "output_type": "execute_result"
    }
   ],
   "source": [
    "learn.save('res_conv_v1')"
   ]
  },
  {
   "cell_type": "code",
   "execution_count": 81,
   "metadata": {
    "collapsed": true,
    "jupyter": {
     "outputs_hidden": true
    }
   },
   "outputs": [
    {
     "data": {
      "text/html": [
       "\n",
       "<style>\n",
       "    /* Turns off some styling */\n",
       "    progress {\n",
       "        /* gets rid of default border in Firefox and Opera. */\n",
       "        border: none;\n",
       "        /* Needs to be in here for Safari polyfill so background images work as expected. */\n",
       "        background-size: auto;\n",
       "    }\n",
       "    progress:not([value]), progress:not([value])::-webkit-progress-bar {\n",
       "        background: repeating-linear-gradient(45deg, #7e7e7e, #7e7e7e 10px, #5c5c5c 10px, #5c5c5c 20px);\n",
       "    }\n",
       "    .progress-bar-interrupted, .progress-bar-interrupted::-webkit-progress-bar {\n",
       "        background: #F44336;\n",
       "    }\n",
       "</style>\n"
      ],
      "text/plain": [
       "<IPython.core.display.HTML object>"
      ]
     },
     "metadata": {},
     "output_type": "display_data"
    },
    {
     "data": {
      "text/html": [
       "\n",
       "    <div>\n",
       "      <progress value='0' class='' max='5' style='width:300px; height:20px; vertical-align: middle;'></progress>\n",
       "      0.00% [0/5 00:00&lt;?]\n",
       "    </div>\n",
       "    \n",
       "<table border=\"1\" class=\"dataframe\">\n",
       "  <thead>\n",
       "    <tr style=\"text-align: left;\">\n",
       "      <th>epoch</th>\n",
       "      <th>train_loss</th>\n",
       "      <th>valid_loss</th>\n",
       "      <th>mae</th>\n",
       "      <th>mse</th>\n",
       "      <th>r_squared</th>\n",
       "      <th>time</th>\n",
       "    </tr>\n",
       "  </thead>\n",
       "  <tbody>\n",
       "  </tbody>\n",
       "</table><p>\n",
       "\n",
       "    <div>\n",
       "      <progress value='0' class='' max='29687' style='width:300px; height:20px; vertical-align: middle;'></progress>\n",
       "      0.00% [0/29687 00:00&lt;?]\n",
       "    </div>\n",
       "    "
      ],
      "text/plain": [
       "<IPython.core.display.HTML object>"
      ]
     },
     "metadata": {},
     "output_type": "display_data"
    },
    {
     "ename": "KeyboardInterrupt",
     "evalue": "",
     "output_type": "error",
     "traceback": [
      "\u001b[0;31m---------------------------------------------------------------------------\u001b[0m",
      "\u001b[0;31mKeyboardInterrupt\u001b[0m                         Traceback (most recent call last)",
      "Cell \u001b[0;32mIn[81], line 1\u001b[0m\n\u001b[0;32m----> 1\u001b[0m \u001b[43mlearn\u001b[49m\u001b[38;5;241;43m.\u001b[39;49m\u001b[43mfit_flat_cos\u001b[49m\u001b[43m(\u001b[49m\u001b[38;5;241;43m5\u001b[39;49m\u001b[43m,\u001b[49m\u001b[43m \u001b[49m\u001b[38;5;241;43m3e-3\u001b[39;49m\u001b[43m)\u001b[49m\n",
      "File \u001b[0;32m~/conda/envs/torch2/lib/python3.10/site-packages/fastai/callback/schedule.py:142\u001b[0m, in \u001b[0;36mfit_flat_cos\u001b[0;34m(self, n_epoch, lr, div_final, pct_start, wd, cbs, reset_opt, start_epoch)\u001b[0m\n\u001b[1;32m    140\u001b[0m lr \u001b[38;5;241m=\u001b[39m np\u001b[38;5;241m.\u001b[39marray([h[\u001b[38;5;124m'\u001b[39m\u001b[38;5;124mlr\u001b[39m\u001b[38;5;124m'\u001b[39m] \u001b[38;5;28;01mfor\u001b[39;00m h \u001b[38;5;129;01min\u001b[39;00m \u001b[38;5;28mself\u001b[39m\u001b[38;5;241m.\u001b[39mopt\u001b[38;5;241m.\u001b[39mhypers])\n\u001b[1;32m    141\u001b[0m scheds \u001b[38;5;241m=\u001b[39m {\u001b[38;5;124m'\u001b[39m\u001b[38;5;124mlr\u001b[39m\u001b[38;5;124m'\u001b[39m: combined_cos(pct_start, lr, lr, lr\u001b[38;5;241m/\u001b[39mdiv_final)}\n\u001b[0;32m--> 142\u001b[0m \u001b[38;5;28;43mself\u001b[39;49m\u001b[38;5;241;43m.\u001b[39;49m\u001b[43mfit\u001b[49m\u001b[43m(\u001b[49m\u001b[43mn_epoch\u001b[49m\u001b[43m,\u001b[49m\u001b[43m \u001b[49m\u001b[43mcbs\u001b[49m\u001b[38;5;241;43m=\u001b[39;49m\u001b[43mParamScheduler\u001b[49m\u001b[43m(\u001b[49m\u001b[43mscheds\u001b[49m\u001b[43m)\u001b[49m\u001b[38;5;241;43m+\u001b[39;49m\u001b[43mL\u001b[49m\u001b[43m(\u001b[49m\u001b[43mcbs\u001b[49m\u001b[43m)\u001b[49m\u001b[43m,\u001b[49m\u001b[43m \u001b[49m\u001b[43mreset_opt\u001b[49m\u001b[38;5;241;43m=\u001b[39;49m\u001b[43mreset_opt\u001b[49m\u001b[43m,\u001b[49m\u001b[43m \u001b[49m\u001b[43mwd\u001b[49m\u001b[38;5;241;43m=\u001b[39;49m\u001b[43mwd\u001b[49m\u001b[43m,\u001b[49m\u001b[43m \u001b[49m\u001b[43mstart_epoch\u001b[49m\u001b[38;5;241;43m=\u001b[39;49m\u001b[38;5;241;43m0\u001b[39;49m\u001b[43m)\u001b[49m\n",
      "File \u001b[0;32m~/conda/envs/torch2/lib/python3.10/site-packages/fastai/learner.py:264\u001b[0m, in \u001b[0;36mLearner.fit\u001b[0;34m(self, n_epoch, lr, wd, cbs, reset_opt, start_epoch)\u001b[0m\n\u001b[1;32m    262\u001b[0m \u001b[38;5;28mself\u001b[39m\u001b[38;5;241m.\u001b[39mopt\u001b[38;5;241m.\u001b[39mset_hypers(lr\u001b[38;5;241m=\u001b[39m\u001b[38;5;28mself\u001b[39m\u001b[38;5;241m.\u001b[39mlr \u001b[38;5;28;01mif\u001b[39;00m lr \u001b[38;5;129;01mis\u001b[39;00m \u001b[38;5;28;01mNone\u001b[39;00m \u001b[38;5;28;01melse\u001b[39;00m lr)\n\u001b[1;32m    263\u001b[0m \u001b[38;5;28mself\u001b[39m\u001b[38;5;241m.\u001b[39mn_epoch \u001b[38;5;241m=\u001b[39m n_epoch\n\u001b[0;32m--> 264\u001b[0m \u001b[38;5;28;43mself\u001b[39;49m\u001b[38;5;241;43m.\u001b[39;49m\u001b[43m_with_events\u001b[49m\u001b[43m(\u001b[49m\u001b[38;5;28;43mself\u001b[39;49m\u001b[38;5;241;43m.\u001b[39;49m\u001b[43m_do_fit\u001b[49m\u001b[43m,\u001b[49m\u001b[43m \u001b[49m\u001b[38;5;124;43m'\u001b[39;49m\u001b[38;5;124;43mfit\u001b[39;49m\u001b[38;5;124;43m'\u001b[39;49m\u001b[43m,\u001b[49m\u001b[43m \u001b[49m\u001b[43mCancelFitException\u001b[49m\u001b[43m,\u001b[49m\u001b[43m \u001b[49m\u001b[38;5;28;43mself\u001b[39;49m\u001b[38;5;241;43m.\u001b[39;49m\u001b[43m_end_cleanup\u001b[49m\u001b[43m)\u001b[49m\n",
      "File \u001b[0;32m~/conda/envs/torch2/lib/python3.10/site-packages/fastai/learner.py:199\u001b[0m, in \u001b[0;36mLearner._with_events\u001b[0;34m(self, f, event_type, ex, final)\u001b[0m\n\u001b[1;32m    198\u001b[0m \u001b[38;5;28;01mdef\u001b[39;00m \u001b[38;5;21m_with_events\u001b[39m(\u001b[38;5;28mself\u001b[39m, f, event_type, ex, final\u001b[38;5;241m=\u001b[39mnoop):\n\u001b[0;32m--> 199\u001b[0m     \u001b[38;5;28;01mtry\u001b[39;00m: \u001b[38;5;28mself\u001b[39m(\u001b[38;5;124mf\u001b[39m\u001b[38;5;124m'\u001b[39m\u001b[38;5;124mbefore_\u001b[39m\u001b[38;5;132;01m{\u001b[39;00mevent_type\u001b[38;5;132;01m}\u001b[39;00m\u001b[38;5;124m'\u001b[39m);  \u001b[43mf\u001b[49m\u001b[43m(\u001b[49m\u001b[43m)\u001b[49m\n\u001b[1;32m    200\u001b[0m     \u001b[38;5;28;01mexcept\u001b[39;00m ex: \u001b[38;5;28mself\u001b[39m(\u001b[38;5;124mf\u001b[39m\u001b[38;5;124m'\u001b[39m\u001b[38;5;124mafter_cancel_\u001b[39m\u001b[38;5;132;01m{\u001b[39;00mevent_type\u001b[38;5;132;01m}\u001b[39;00m\u001b[38;5;124m'\u001b[39m)\n\u001b[1;32m    201\u001b[0m     \u001b[38;5;28mself\u001b[39m(\u001b[38;5;124mf\u001b[39m\u001b[38;5;124m'\u001b[39m\u001b[38;5;124mafter_\u001b[39m\u001b[38;5;132;01m{\u001b[39;00mevent_type\u001b[38;5;132;01m}\u001b[39;00m\u001b[38;5;124m'\u001b[39m);  final()\n",
      "File \u001b[0;32m~/conda/envs/torch2/lib/python3.10/site-packages/fastai/learner.py:253\u001b[0m, in \u001b[0;36mLearner._do_fit\u001b[0;34m(self)\u001b[0m\n\u001b[1;32m    251\u001b[0m \u001b[38;5;28;01mfor\u001b[39;00m epoch \u001b[38;5;129;01min\u001b[39;00m \u001b[38;5;28mrange\u001b[39m(\u001b[38;5;28mself\u001b[39m\u001b[38;5;241m.\u001b[39mn_epoch):\n\u001b[1;32m    252\u001b[0m     \u001b[38;5;28mself\u001b[39m\u001b[38;5;241m.\u001b[39mepoch\u001b[38;5;241m=\u001b[39mepoch\n\u001b[0;32m--> 253\u001b[0m     \u001b[38;5;28;43mself\u001b[39;49m\u001b[38;5;241;43m.\u001b[39;49m\u001b[43m_with_events\u001b[49m\u001b[43m(\u001b[49m\u001b[38;5;28;43mself\u001b[39;49m\u001b[38;5;241;43m.\u001b[39;49m\u001b[43m_do_epoch\u001b[49m\u001b[43m,\u001b[49m\u001b[43m \u001b[49m\u001b[38;5;124;43m'\u001b[39;49m\u001b[38;5;124;43mepoch\u001b[39;49m\u001b[38;5;124;43m'\u001b[39;49m\u001b[43m,\u001b[49m\u001b[43m \u001b[49m\u001b[43mCancelEpochException\u001b[49m\u001b[43m)\u001b[49m\n",
      "File \u001b[0;32m~/conda/envs/torch2/lib/python3.10/site-packages/fastai/learner.py:199\u001b[0m, in \u001b[0;36mLearner._with_events\u001b[0;34m(self, f, event_type, ex, final)\u001b[0m\n\u001b[1;32m    198\u001b[0m \u001b[38;5;28;01mdef\u001b[39;00m \u001b[38;5;21m_with_events\u001b[39m(\u001b[38;5;28mself\u001b[39m, f, event_type, ex, final\u001b[38;5;241m=\u001b[39mnoop):\n\u001b[0;32m--> 199\u001b[0m     \u001b[38;5;28;01mtry\u001b[39;00m: \u001b[38;5;28mself\u001b[39m(\u001b[38;5;124mf\u001b[39m\u001b[38;5;124m'\u001b[39m\u001b[38;5;124mbefore_\u001b[39m\u001b[38;5;132;01m{\u001b[39;00mevent_type\u001b[38;5;132;01m}\u001b[39;00m\u001b[38;5;124m'\u001b[39m);  \u001b[43mf\u001b[49m\u001b[43m(\u001b[49m\u001b[43m)\u001b[49m\n\u001b[1;32m    200\u001b[0m     \u001b[38;5;28;01mexcept\u001b[39;00m ex: \u001b[38;5;28mself\u001b[39m(\u001b[38;5;124mf\u001b[39m\u001b[38;5;124m'\u001b[39m\u001b[38;5;124mafter_cancel_\u001b[39m\u001b[38;5;132;01m{\u001b[39;00mevent_type\u001b[38;5;132;01m}\u001b[39;00m\u001b[38;5;124m'\u001b[39m)\n\u001b[1;32m    201\u001b[0m     \u001b[38;5;28mself\u001b[39m(\u001b[38;5;124mf\u001b[39m\u001b[38;5;124m'\u001b[39m\u001b[38;5;124mafter_\u001b[39m\u001b[38;5;132;01m{\u001b[39;00mevent_type\u001b[38;5;132;01m}\u001b[39;00m\u001b[38;5;124m'\u001b[39m);  final()\n",
      "File \u001b[0;32m~/conda/envs/torch2/lib/python3.10/site-packages/fastai/learner.py:247\u001b[0m, in \u001b[0;36mLearner._do_epoch\u001b[0;34m(self)\u001b[0m\n\u001b[1;32m    246\u001b[0m \u001b[38;5;28;01mdef\u001b[39;00m \u001b[38;5;21m_do_epoch\u001b[39m(\u001b[38;5;28mself\u001b[39m):\n\u001b[0;32m--> 247\u001b[0m     \u001b[38;5;28;43mself\u001b[39;49m\u001b[38;5;241;43m.\u001b[39;49m\u001b[43m_do_epoch_train\u001b[49m\u001b[43m(\u001b[49m\u001b[43m)\u001b[49m\n\u001b[1;32m    248\u001b[0m     \u001b[38;5;28mself\u001b[39m\u001b[38;5;241m.\u001b[39m_do_epoch_validate()\n",
      "File \u001b[0;32m~/conda/envs/torch2/lib/python3.10/site-packages/fastai/learner.py:239\u001b[0m, in \u001b[0;36mLearner._do_epoch_train\u001b[0;34m(self)\u001b[0m\n\u001b[1;32m    237\u001b[0m \u001b[38;5;28;01mdef\u001b[39;00m \u001b[38;5;21m_do_epoch_train\u001b[39m(\u001b[38;5;28mself\u001b[39m):\n\u001b[1;32m    238\u001b[0m     \u001b[38;5;28mself\u001b[39m\u001b[38;5;241m.\u001b[39mdl \u001b[38;5;241m=\u001b[39m \u001b[38;5;28mself\u001b[39m\u001b[38;5;241m.\u001b[39mdls\u001b[38;5;241m.\u001b[39mtrain\n\u001b[0;32m--> 239\u001b[0m     \u001b[38;5;28;43mself\u001b[39;49m\u001b[38;5;241;43m.\u001b[39;49m\u001b[43m_with_events\u001b[49m\u001b[43m(\u001b[49m\u001b[38;5;28;43mself\u001b[39;49m\u001b[38;5;241;43m.\u001b[39;49m\u001b[43mall_batches\u001b[49m\u001b[43m,\u001b[49m\u001b[43m \u001b[49m\u001b[38;5;124;43m'\u001b[39;49m\u001b[38;5;124;43mtrain\u001b[39;49m\u001b[38;5;124;43m'\u001b[39;49m\u001b[43m,\u001b[49m\u001b[43m \u001b[49m\u001b[43mCancelTrainException\u001b[49m\u001b[43m)\u001b[49m\n",
      "File \u001b[0;32m~/conda/envs/torch2/lib/python3.10/site-packages/fastai/learner.py:199\u001b[0m, in \u001b[0;36mLearner._with_events\u001b[0;34m(self, f, event_type, ex, final)\u001b[0m\n\u001b[1;32m    198\u001b[0m \u001b[38;5;28;01mdef\u001b[39;00m \u001b[38;5;21m_with_events\u001b[39m(\u001b[38;5;28mself\u001b[39m, f, event_type, ex, final\u001b[38;5;241m=\u001b[39mnoop):\n\u001b[0;32m--> 199\u001b[0m     \u001b[38;5;28;01mtry\u001b[39;00m: \u001b[38;5;28mself\u001b[39m(\u001b[38;5;124mf\u001b[39m\u001b[38;5;124m'\u001b[39m\u001b[38;5;124mbefore_\u001b[39m\u001b[38;5;132;01m{\u001b[39;00mevent_type\u001b[38;5;132;01m}\u001b[39;00m\u001b[38;5;124m'\u001b[39m);  \u001b[43mf\u001b[49m\u001b[43m(\u001b[49m\u001b[43m)\u001b[49m\n\u001b[1;32m    200\u001b[0m     \u001b[38;5;28;01mexcept\u001b[39;00m ex: \u001b[38;5;28mself\u001b[39m(\u001b[38;5;124mf\u001b[39m\u001b[38;5;124m'\u001b[39m\u001b[38;5;124mafter_cancel_\u001b[39m\u001b[38;5;132;01m{\u001b[39;00mevent_type\u001b[38;5;132;01m}\u001b[39;00m\u001b[38;5;124m'\u001b[39m)\n\u001b[1;32m    201\u001b[0m     \u001b[38;5;28mself\u001b[39m(\u001b[38;5;124mf\u001b[39m\u001b[38;5;124m'\u001b[39m\u001b[38;5;124mafter_\u001b[39m\u001b[38;5;132;01m{\u001b[39;00mevent_type\u001b[38;5;132;01m}\u001b[39;00m\u001b[38;5;124m'\u001b[39m);  final()\n",
      "File \u001b[0;32m~/conda/envs/torch2/lib/python3.10/site-packages/fastai/learner.py:205\u001b[0m, in \u001b[0;36mLearner.all_batches\u001b[0;34m(self)\u001b[0m\n\u001b[1;32m    203\u001b[0m \u001b[38;5;28;01mdef\u001b[39;00m \u001b[38;5;21mall_batches\u001b[39m(\u001b[38;5;28mself\u001b[39m):\n\u001b[1;32m    204\u001b[0m     \u001b[38;5;28mself\u001b[39m\u001b[38;5;241m.\u001b[39mn_iter \u001b[38;5;241m=\u001b[39m \u001b[38;5;28mlen\u001b[39m(\u001b[38;5;28mself\u001b[39m\u001b[38;5;241m.\u001b[39mdl)\n\u001b[0;32m--> 205\u001b[0m     \u001b[38;5;28;01mfor\u001b[39;00m o \u001b[38;5;129;01min\u001b[39;00m \u001b[38;5;28menumerate\u001b[39m(\u001b[38;5;28mself\u001b[39m\u001b[38;5;241m.\u001b[39mdl): \u001b[38;5;28;43mself\u001b[39;49m\u001b[38;5;241;43m.\u001b[39;49m\u001b[43mone_batch\u001b[49m\u001b[43m(\u001b[49m\u001b[38;5;241;43m*\u001b[39;49m\u001b[43mo\u001b[49m\u001b[43m)\u001b[49m\n",
      "File \u001b[0;32m~/conda/envs/torch2/lib/python3.10/site-packages/fastai/learner.py:235\u001b[0m, in \u001b[0;36mLearner.one_batch\u001b[0;34m(self, i, b)\u001b[0m\n\u001b[1;32m    233\u001b[0m b \u001b[38;5;241m=\u001b[39m \u001b[38;5;28mself\u001b[39m\u001b[38;5;241m.\u001b[39m_set_device(b)\n\u001b[1;32m    234\u001b[0m \u001b[38;5;28mself\u001b[39m\u001b[38;5;241m.\u001b[39m_split(b)\n\u001b[0;32m--> 235\u001b[0m \u001b[38;5;28;43mself\u001b[39;49m\u001b[38;5;241;43m.\u001b[39;49m\u001b[43m_with_events\u001b[49m\u001b[43m(\u001b[49m\u001b[38;5;28;43mself\u001b[39;49m\u001b[38;5;241;43m.\u001b[39;49m\u001b[43m_do_one_batch\u001b[49m\u001b[43m,\u001b[49m\u001b[43m \u001b[49m\u001b[38;5;124;43m'\u001b[39;49m\u001b[38;5;124;43mbatch\u001b[39;49m\u001b[38;5;124;43m'\u001b[39;49m\u001b[43m,\u001b[49m\u001b[43m \u001b[49m\u001b[43mCancelBatchException\u001b[49m\u001b[43m)\u001b[49m\n",
      "File \u001b[0;32m~/conda/envs/torch2/lib/python3.10/site-packages/fastai/learner.py:201\u001b[0m, in \u001b[0;36mLearner._with_events\u001b[0;34m(self, f, event_type, ex, final)\u001b[0m\n\u001b[1;32m    199\u001b[0m \u001b[38;5;28;01mtry\u001b[39;00m: \u001b[38;5;28mself\u001b[39m(\u001b[38;5;124mf\u001b[39m\u001b[38;5;124m'\u001b[39m\u001b[38;5;124mbefore_\u001b[39m\u001b[38;5;132;01m{\u001b[39;00mevent_type\u001b[38;5;132;01m}\u001b[39;00m\u001b[38;5;124m'\u001b[39m);  f()\n\u001b[1;32m    200\u001b[0m \u001b[38;5;28;01mexcept\u001b[39;00m ex: \u001b[38;5;28mself\u001b[39m(\u001b[38;5;124mf\u001b[39m\u001b[38;5;124m'\u001b[39m\u001b[38;5;124mafter_cancel_\u001b[39m\u001b[38;5;132;01m{\u001b[39;00mevent_type\u001b[38;5;132;01m}\u001b[39;00m\u001b[38;5;124m'\u001b[39m)\n\u001b[0;32m--> 201\u001b[0m \u001b[38;5;28;43mself\u001b[39;49m\u001b[43m(\u001b[49m\u001b[38;5;124;43mf\u001b[39;49m\u001b[38;5;124;43m'\u001b[39;49m\u001b[38;5;124;43mafter_\u001b[39;49m\u001b[38;5;132;43;01m{\u001b[39;49;00m\u001b[43mevent_type\u001b[49m\u001b[38;5;132;43;01m}\u001b[39;49;00m\u001b[38;5;124;43m'\u001b[39;49m\u001b[43m)\u001b[49m;  final()\n",
      "File \u001b[0;32m~/conda/envs/torch2/lib/python3.10/site-packages/fastai/learner.py:172\u001b[0m, in \u001b[0;36mLearner.__call__\u001b[0;34m(self, event_name)\u001b[0m\n\u001b[0;32m--> 172\u001b[0m \u001b[38;5;28;01mdef\u001b[39;00m \u001b[38;5;21m__call__\u001b[39m(\u001b[38;5;28mself\u001b[39m, event_name): \u001b[43mL\u001b[49m\u001b[43m(\u001b[49m\u001b[43mevent_name\u001b[49m\u001b[43m)\u001b[49m\u001b[38;5;241;43m.\u001b[39;49m\u001b[43mmap\u001b[49m\u001b[43m(\u001b[49m\u001b[38;5;28;43mself\u001b[39;49m\u001b[38;5;241;43m.\u001b[39;49m\u001b[43m_call_one\u001b[49m\u001b[43m)\u001b[49m\n",
      "File \u001b[0;32m~/conda/envs/torch2/lib/python3.10/site-packages/fastcore/foundation.py:156\u001b[0m, in \u001b[0;36mL.map\u001b[0;34m(self, f, *args, **kwargs)\u001b[0m\n\u001b[0;32m--> 156\u001b[0m \u001b[38;5;28;01mdef\u001b[39;00m \u001b[38;5;21mmap\u001b[39m(\u001b[38;5;28mself\u001b[39m, f, \u001b[38;5;241m*\u001b[39margs, \u001b[38;5;241m*\u001b[39m\u001b[38;5;241m*\u001b[39mkwargs): \u001b[38;5;28;01mreturn\u001b[39;00m \u001b[38;5;28mself\u001b[39m\u001b[38;5;241m.\u001b[39m_new(\u001b[43mmap_ex\u001b[49m\u001b[43m(\u001b[49m\u001b[38;5;28;43mself\u001b[39;49m\u001b[43m,\u001b[49m\u001b[43m \u001b[49m\u001b[43mf\u001b[49m\u001b[43m,\u001b[49m\u001b[43m \u001b[49m\u001b[38;5;241;43m*\u001b[39;49m\u001b[43margs\u001b[49m\u001b[43m,\u001b[49m\u001b[43m \u001b[49m\u001b[43mgen\u001b[49m\u001b[38;5;241;43m=\u001b[39;49m\u001b[38;5;28;43;01mFalse\u001b[39;49;00m\u001b[43m,\u001b[49m\u001b[43m \u001b[49m\u001b[38;5;241;43m*\u001b[39;49m\u001b[38;5;241;43m*\u001b[39;49m\u001b[43mkwargs\u001b[49m\u001b[43m)\u001b[49m)\n",
      "File \u001b[0;32m~/conda/envs/torch2/lib/python3.10/site-packages/fastcore/basics.py:840\u001b[0m, in \u001b[0;36mmap_ex\u001b[0;34m(iterable, f, gen, *args, **kwargs)\u001b[0m\n\u001b[1;32m    838\u001b[0m res \u001b[38;5;241m=\u001b[39m \u001b[38;5;28mmap\u001b[39m(g, iterable)\n\u001b[1;32m    839\u001b[0m \u001b[38;5;28;01mif\u001b[39;00m gen: \u001b[38;5;28;01mreturn\u001b[39;00m res\n\u001b[0;32m--> 840\u001b[0m \u001b[38;5;28;01mreturn\u001b[39;00m \u001b[38;5;28;43mlist\u001b[39;49m\u001b[43m(\u001b[49m\u001b[43mres\u001b[49m\u001b[43m)\u001b[49m\n",
      "File \u001b[0;32m~/conda/envs/torch2/lib/python3.10/site-packages/fastcore/basics.py:825\u001b[0m, in \u001b[0;36mbind.__call__\u001b[0;34m(self, *args, **kwargs)\u001b[0m\n\u001b[1;32m    823\u001b[0m     \u001b[38;5;28;01mif\u001b[39;00m \u001b[38;5;28misinstance\u001b[39m(v,_Arg): kwargs[k] \u001b[38;5;241m=\u001b[39m args\u001b[38;5;241m.\u001b[39mpop(v\u001b[38;5;241m.\u001b[39mi)\n\u001b[1;32m    824\u001b[0m fargs \u001b[38;5;241m=\u001b[39m [args[x\u001b[38;5;241m.\u001b[39mi] \u001b[38;5;28;01mif\u001b[39;00m \u001b[38;5;28misinstance\u001b[39m(x, _Arg) \u001b[38;5;28;01melse\u001b[39;00m x \u001b[38;5;28;01mfor\u001b[39;00m x \u001b[38;5;129;01min\u001b[39;00m \u001b[38;5;28mself\u001b[39m\u001b[38;5;241m.\u001b[39mpargs] \u001b[38;5;241m+\u001b[39m args[\u001b[38;5;28mself\u001b[39m\u001b[38;5;241m.\u001b[39mmaxi\u001b[38;5;241m+\u001b[39m\u001b[38;5;241m1\u001b[39m:]\n\u001b[0;32m--> 825\u001b[0m \u001b[38;5;28;01mreturn\u001b[39;00m \u001b[38;5;28;43mself\u001b[39;49m\u001b[38;5;241;43m.\u001b[39;49m\u001b[43mfunc\u001b[49m\u001b[43m(\u001b[49m\u001b[38;5;241;43m*\u001b[39;49m\u001b[43mfargs\u001b[49m\u001b[43m,\u001b[49m\u001b[43m \u001b[49m\u001b[38;5;241;43m*\u001b[39;49m\u001b[38;5;241;43m*\u001b[39;49m\u001b[43mkwargs\u001b[49m\u001b[43m)\u001b[49m\n",
      "File \u001b[0;32m~/conda/envs/torch2/lib/python3.10/site-packages/fastai/learner.py:176\u001b[0m, in \u001b[0;36mLearner._call_one\u001b[0;34m(self, event_name)\u001b[0m\n\u001b[1;32m    174\u001b[0m \u001b[38;5;28;01mdef\u001b[39;00m \u001b[38;5;21m_call_one\u001b[39m(\u001b[38;5;28mself\u001b[39m, event_name):\n\u001b[1;32m    175\u001b[0m     \u001b[38;5;28;01mif\u001b[39;00m \u001b[38;5;129;01mnot\u001b[39;00m \u001b[38;5;28mhasattr\u001b[39m(event, event_name): \u001b[38;5;28;01mraise\u001b[39;00m \u001b[38;5;167;01mException\u001b[39;00m(\u001b[38;5;124mf\u001b[39m\u001b[38;5;124m'\u001b[39m\u001b[38;5;124mmissing \u001b[39m\u001b[38;5;132;01m{\u001b[39;00mevent_name\u001b[38;5;132;01m}\u001b[39;00m\u001b[38;5;124m'\u001b[39m)\n\u001b[0;32m--> 176\u001b[0m     \u001b[38;5;28;01mfor\u001b[39;00m cb \u001b[38;5;129;01min\u001b[39;00m \u001b[38;5;28mself\u001b[39m\u001b[38;5;241m.\u001b[39mcbs\u001b[38;5;241m.\u001b[39msorted(\u001b[38;5;124m'\u001b[39m\u001b[38;5;124morder\u001b[39m\u001b[38;5;124m'\u001b[39m): \u001b[43mcb\u001b[49m\u001b[43m(\u001b[49m\u001b[43mevent_name\u001b[49m\u001b[43m)\u001b[49m\n",
      "File \u001b[0;32m~/conda/envs/torch2/lib/python3.10/site-packages/fastai/callback/core.py:60\u001b[0m, in \u001b[0;36mCallback.__call__\u001b[0;34m(self, event_name)\u001b[0m\n\u001b[1;32m     58\u001b[0m res \u001b[38;5;241m=\u001b[39m \u001b[38;5;28;01mNone\u001b[39;00m\n\u001b[1;32m     59\u001b[0m \u001b[38;5;28;01mif\u001b[39;00m \u001b[38;5;28mself\u001b[39m\u001b[38;5;241m.\u001b[39mrun \u001b[38;5;129;01mand\u001b[39;00m _run: \n\u001b[0;32m---> 60\u001b[0m     \u001b[38;5;28;01mtry\u001b[39;00m: res \u001b[38;5;241m=\u001b[39m \u001b[43mgetcallable\u001b[49m\u001b[43m(\u001b[49m\u001b[38;5;28;43mself\u001b[39;49m\u001b[43m,\u001b[49m\u001b[43m \u001b[49m\u001b[43mevent_name\u001b[49m\u001b[43m)\u001b[49m\u001b[43m(\u001b[49m\u001b[43m)\u001b[49m\n\u001b[1;32m     61\u001b[0m     \u001b[38;5;28;01mexcept\u001b[39;00m (CancelBatchException, CancelBackwardException, CancelEpochException, CancelFitException, CancelStepException, CancelTrainException, CancelValidException): \u001b[38;5;28;01mraise\u001b[39;00m\n\u001b[1;32m     62\u001b[0m     \u001b[38;5;28;01mexcept\u001b[39;00m \u001b[38;5;167;01mException\u001b[39;00m \u001b[38;5;28;01mas\u001b[39;00m e: \u001b[38;5;28;01mraise\u001b[39;00m modify_exception(e, \u001b[38;5;124mf\u001b[39m\u001b[38;5;124m'\u001b[39m\u001b[38;5;124mException occured in `\u001b[39m\u001b[38;5;132;01m{\u001b[39;00m\u001b[38;5;28mself\u001b[39m\u001b[38;5;241m.\u001b[39m\u001b[38;5;18m__class__\u001b[39m\u001b[38;5;241m.\u001b[39m\u001b[38;5;18m__name__\u001b[39m\u001b[38;5;132;01m}\u001b[39;00m\u001b[38;5;124m` when calling event `\u001b[39m\u001b[38;5;132;01m{\u001b[39;00mevent_name\u001b[38;5;132;01m}\u001b[39;00m\u001b[38;5;124m`:\u001b[39m\u001b[38;5;130;01m\\n\u001b[39;00m\u001b[38;5;130;01m\\t\u001b[39;00m\u001b[38;5;132;01m{\u001b[39;00me\u001b[38;5;241m.\u001b[39margs[\u001b[38;5;241m0\u001b[39m]\u001b[38;5;132;01m}\u001b[39;00m\u001b[38;5;124m'\u001b[39m, replace\u001b[38;5;241m=\u001b[39m\u001b[38;5;28;01mTrue\u001b[39;00m)\n",
      "File \u001b[0;32m~/conda/envs/torch2/lib/python3.10/site-packages/fastai/learner.py:560\u001b[0m, in \u001b[0;36mRecorder.after_batch\u001b[0;34m(self)\u001b[0m\n\u001b[1;32m    558\u001b[0m \u001b[38;5;28;01mif\u001b[39;00m \u001b[38;5;28mlen\u001b[39m(\u001b[38;5;28mself\u001b[39m\u001b[38;5;241m.\u001b[39myb) \u001b[38;5;241m==\u001b[39m \u001b[38;5;241m0\u001b[39m: \u001b[38;5;28;01mreturn\u001b[39;00m\n\u001b[1;32m    559\u001b[0m mets \u001b[38;5;241m=\u001b[39m \u001b[38;5;28mself\u001b[39m\u001b[38;5;241m.\u001b[39m_train_mets \u001b[38;5;28;01mif\u001b[39;00m \u001b[38;5;28mself\u001b[39m\u001b[38;5;241m.\u001b[39mtraining \u001b[38;5;28;01melse\u001b[39;00m \u001b[38;5;28mself\u001b[39m\u001b[38;5;241m.\u001b[39m_valid_mets\n\u001b[0;32m--> 560\u001b[0m \u001b[38;5;28;01mfor\u001b[39;00m met \u001b[38;5;129;01min\u001b[39;00m mets: \u001b[43mmet\u001b[49m\u001b[38;5;241;43m.\u001b[39;49m\u001b[43maccumulate\u001b[49m\u001b[43m(\u001b[49m\u001b[38;5;28;43mself\u001b[39;49m\u001b[38;5;241;43m.\u001b[39;49m\u001b[43mlearn\u001b[49m\u001b[43m)\u001b[49m\n\u001b[1;32m    561\u001b[0m \u001b[38;5;28;01mif\u001b[39;00m \u001b[38;5;129;01mnot\u001b[39;00m \u001b[38;5;28mself\u001b[39m\u001b[38;5;241m.\u001b[39mtraining: \u001b[38;5;28;01mreturn\u001b[39;00m\n\u001b[1;32m    562\u001b[0m \u001b[38;5;28mself\u001b[39m\u001b[38;5;241m.\u001b[39mlrs\u001b[38;5;241m.\u001b[39mappend(\u001b[38;5;28mself\u001b[39m\u001b[38;5;241m.\u001b[39mopt\u001b[38;5;241m.\u001b[39mhypers[\u001b[38;5;241m-\u001b[39m\u001b[38;5;241m1\u001b[39m][\u001b[38;5;124m'\u001b[39m\u001b[38;5;124mlr\u001b[39m\u001b[38;5;124m'\u001b[39m])\n",
      "File \u001b[0;32m~/conda/envs/torch2/lib/python3.10/site-packages/fastai/learner.py:509\u001b[0m, in \u001b[0;36mAvgSmoothLoss.accumulate\u001b[0;34m(self, learn)\u001b[0m\n\u001b[1;32m    507\u001b[0m \u001b[38;5;28;01mdef\u001b[39;00m \u001b[38;5;21maccumulate\u001b[39m(\u001b[38;5;28mself\u001b[39m, learn):\n\u001b[1;32m    508\u001b[0m     \u001b[38;5;28mself\u001b[39m\u001b[38;5;241m.\u001b[39mcount \u001b[38;5;241m+\u001b[39m\u001b[38;5;241m=\u001b[39m \u001b[38;5;241m1\u001b[39m\n\u001b[0;32m--> 509\u001b[0m     \u001b[38;5;28mself\u001b[39m\u001b[38;5;241m.\u001b[39mval \u001b[38;5;241m=\u001b[39m torch\u001b[38;5;241m.\u001b[39mlerp(\u001b[43mto_detach\u001b[49m\u001b[43m(\u001b[49m\u001b[43mlearn\u001b[49m\u001b[38;5;241;43m.\u001b[39;49m\u001b[43mloss\u001b[49m\u001b[38;5;241;43m.\u001b[39;49m\u001b[43mmean\u001b[49m\u001b[43m(\u001b[49m\u001b[43m)\u001b[49m\u001b[43m)\u001b[49m, \u001b[38;5;28mself\u001b[39m\u001b[38;5;241m.\u001b[39mval, \u001b[38;5;28mself\u001b[39m\u001b[38;5;241m.\u001b[39mbeta)\n",
      "File \u001b[0;32m~/conda/envs/torch2/lib/python3.10/site-packages/fastai/torch_core.py:244\u001b[0m, in \u001b[0;36mto_detach\u001b[0;34m(b, cpu, gather)\u001b[0m\n\u001b[1;32m    242\u001b[0m     \u001b[38;5;28;01mif\u001b[39;00m gather: x \u001b[38;5;241m=\u001b[39m maybe_gather(x)\n\u001b[1;32m    243\u001b[0m     \u001b[38;5;28;01mreturn\u001b[39;00m x\u001b[38;5;241m.\u001b[39mcpu() \u001b[38;5;28;01mif\u001b[39;00m cpu \u001b[38;5;28;01melse\u001b[39;00m x\n\u001b[0;32m--> 244\u001b[0m \u001b[38;5;28;01mreturn\u001b[39;00m \u001b[43mapply\u001b[49m\u001b[43m(\u001b[49m\u001b[43m_inner\u001b[49m\u001b[43m,\u001b[49m\u001b[43m \u001b[49m\u001b[43mb\u001b[49m\u001b[43m,\u001b[49m\u001b[43m \u001b[49m\u001b[43mcpu\u001b[49m\u001b[38;5;241;43m=\u001b[39;49m\u001b[43mcpu\u001b[49m\u001b[43m,\u001b[49m\u001b[43m \u001b[49m\u001b[43mgather\u001b[49m\u001b[38;5;241;43m=\u001b[39;49m\u001b[43mgather\u001b[49m\u001b[43m)\u001b[49m\n",
      "File \u001b[0;32m~/conda/envs/torch2/lib/python3.10/site-packages/fastai/torch_core.py:224\u001b[0m, in \u001b[0;36mapply\u001b[0;34m(func, x, *args, **kwargs)\u001b[0m\n\u001b[1;32m    222\u001b[0m \u001b[38;5;28;01mif\u001b[39;00m is_listy(x): \u001b[38;5;28;01mreturn\u001b[39;00m \u001b[38;5;28mtype\u001b[39m(x)([apply(func, o, \u001b[38;5;241m*\u001b[39margs, \u001b[38;5;241m*\u001b[39m\u001b[38;5;241m*\u001b[39mkwargs) \u001b[38;5;28;01mfor\u001b[39;00m o \u001b[38;5;129;01min\u001b[39;00m x])\n\u001b[1;32m    223\u001b[0m \u001b[38;5;28;01mif\u001b[39;00m \u001b[38;5;28misinstance\u001b[39m(x,\u001b[38;5;28mdict\u001b[39m):  \u001b[38;5;28;01mreturn\u001b[39;00m {k: apply(func, v, \u001b[38;5;241m*\u001b[39margs, \u001b[38;5;241m*\u001b[39m\u001b[38;5;241m*\u001b[39mkwargs) \u001b[38;5;28;01mfor\u001b[39;00m k,v \u001b[38;5;129;01min\u001b[39;00m x\u001b[38;5;241m.\u001b[39mitems()}\n\u001b[0;32m--> 224\u001b[0m res \u001b[38;5;241m=\u001b[39m \u001b[43mfunc\u001b[49m\u001b[43m(\u001b[49m\u001b[43mx\u001b[49m\u001b[43m,\u001b[49m\u001b[43m \u001b[49m\u001b[38;5;241;43m*\u001b[39;49m\u001b[43margs\u001b[49m\u001b[43m,\u001b[49m\u001b[43m \u001b[49m\u001b[38;5;241;43m*\u001b[39;49m\u001b[38;5;241;43m*\u001b[39;49m\u001b[43mkwargs\u001b[49m\u001b[43m)\u001b[49m\n\u001b[1;32m    225\u001b[0m \u001b[38;5;28;01mreturn\u001b[39;00m res \u001b[38;5;28;01mif\u001b[39;00m x \u001b[38;5;129;01mis\u001b[39;00m \u001b[38;5;28;01mNone\u001b[39;00m \u001b[38;5;28;01melse\u001b[39;00m retain_type(res, x)\n",
      "File \u001b[0;32m~/conda/envs/torch2/lib/python3.10/site-packages/fastai/torch_core.py:243\u001b[0m, in \u001b[0;36mto_detach.<locals>._inner\u001b[0;34m(x, cpu, gather)\u001b[0m\n\u001b[1;32m    241\u001b[0m x \u001b[38;5;241m=\u001b[39m x\u001b[38;5;241m.\u001b[39mdetach()\n\u001b[1;32m    242\u001b[0m \u001b[38;5;28;01mif\u001b[39;00m gather: x \u001b[38;5;241m=\u001b[39m maybe_gather(x)\n\u001b[0;32m--> 243\u001b[0m \u001b[38;5;28;01mreturn\u001b[39;00m \u001b[43mx\u001b[49m\u001b[38;5;241;43m.\u001b[39;49m\u001b[43mcpu\u001b[49m\u001b[43m(\u001b[49m\u001b[43m)\u001b[49m \u001b[38;5;28;01mif\u001b[39;00m cpu \u001b[38;5;28;01melse\u001b[39;00m x\n",
      "\u001b[0;31mKeyboardInterrupt\u001b[0m: "
     ]
    }
   ],
   "source": [
    "learn.fit_flat_cos(5, 3e-3)"
   ]
  },
  {
   "cell_type": "code",
   "execution_count": 90,
   "metadata": {},
   "outputs": [],
   "source": [
    "test_df = pl.read_parquet('/mnt/ssd/kaggle/test.parquet')"
   ]
  },
  {
   "cell_type": "code",
   "execution_count": 91,
   "metadata": {},
   "outputs": [],
   "source": [
    "#test_df = pl.read_csv('/mnt/ssd/kaggle/test.csv')\n",
    "\n",
    "x_test = test_df.select(FEAT_COLS).to_numpy()\n",
    "\n",
    "test_ds = Loader({'x' : x_test}, {'x' : norm_x})\n",
    "test_loader = fv.DataLoader(test_ds, batch_size=bs, drop_last=False, shuffle=False, \n",
    "                            num_workers=0, pin_memory=True)"
   ]
  },
  {
   "cell_type": "code",
   "execution_count": 92,
   "metadata": {},
   "outputs": [
    {
     "data": {
      "text/html": [
       "<div><style>\n",
       ".dataframe > thead > tr,\n",
       ".dataframe > tbody > tr {\n",
       "  text-align: right;\n",
       "  white-space: pre-wrap;\n",
       "}\n",
       "</style>\n",
       "<small>shape: (625_000, 557)</small><table border=\"1\" class=\"dataframe\"><thead><tr><th>sample_id</th><th>state_t_0</th><th>state_t_1</th><th>state_t_2</th><th>state_t_3</th><th>state_t_4</th><th>state_t_5</th><th>state_t_6</th><th>state_t_7</th><th>state_t_8</th><th>state_t_9</th><th>state_t_10</th><th>state_t_11</th><th>state_t_12</th><th>state_t_13</th><th>state_t_14</th><th>state_t_15</th><th>state_t_16</th><th>state_t_17</th><th>state_t_18</th><th>state_t_19</th><th>state_t_20</th><th>state_t_21</th><th>state_t_22</th><th>state_t_23</th><th>state_t_24</th><th>state_t_25</th><th>state_t_26</th><th>state_t_27</th><th>state_t_28</th><th>state_t_29</th><th>state_t_30</th><th>state_t_31</th><th>state_t_32</th><th>state_t_33</th><th>state_t_34</th><th>state_t_35</th><th>state_t_36</th><th>state_t_37</th><th>state_t_38</th><th>state_t_39</th><th>state_t_40</th><th>state_t_41</th><th>state_t_42</th><th>state_t_43</th><th>state_t_44</th><th>state_t_45</th><th>state_t_46</th><th>state_t_47</th><th>state_t_48</th><th>state_t_49</th><th>state_t_50</th><th>state_t_51</th><th>state_t_52</th><th>state_t_53</th><th>state_t_54</th><th>state_t_55</th><th>state_t_56</th><th>state_t_57</th><th>state_t_58</th><th>state_t_59</th><th>state_q0001_0</th><th>state_q0001_1</th><th>state_q0001_2</th><th>state_q0001_3</th><th>state_q0001_4</th><th>state_q0001_5</th><th>state_q0001_6</th><th>state_q0001_7</th><th>state_q0001_8</th><th>state_q0001_9</th><th>state_q0001_10</th><th>state_q0001_11</th><th>state_q0001_12</th><th>state_q0001_13</th><th>state_q0001_14</th><th>state_q0001_15</th><th>state_q0001_16</th><th>state_q0001_17</th><th>state_q0001_18</th><th>state_q0001_19</th><th>state_q0001_20</th><th>state_q0001_21</th><th>state_q0001_22</th><th>state_q0001_23</th><th>state_q0001_24</th><th>state_q0001_25</th><th>state_q0001_26</th><th>state_q0001_27</th><th>state_q0001_28</th><th>state_q0001_29</th><th>state_q0001_30</th><th>state_q0001_31</th><th>state_q0001_32</th><th>state_q0001_33</th><th>state_q0001_34</th><th>state_q0001_35</th><th>state_q0001_36</th><th>state_q0001_37</th><th>state_q0001_38</th><th>state_q0001_39</th><th>state_q0001_40</th><th>state_q0001_41</th><th>state_q0001_42</th><th>state_q0001_43</th><th>state_q0001_44</th><th>state_q0001_45</th><th>state_q0001_46</th><th>state_q0001_47</th><th>state_q0001_48</th><th>state_q0001_49</th><th>state_q0001_50</th><th>state_q0001_51</th><th>state_q0001_52</th><th>state_q0001_53</th><th>state_q0001_54</th><th>state_q0001_55</th><th>state_q0001_56</th><th>state_q0001_57</th><th>state_q0001_58</th><th>state_q0001_59</th><th>state_q0002_0</th><th>state_q0002_1</th><th>state_q0002_2</th><th>state_q0002_3</th><th>state_q0002_4</th><th>state_q0002_5</th><th>state_q0002_6</th><th>state_q0002_7</th><th>state_q0002_8</th><th>state_q0002_9</th><th>state_q0002_10</th><th>state_q0002_11</th><th>state_q0002_12</th><th>state_q0002_13</th><th>state_q0002_14</th><th>state_q0002_15</th><th>state_q0002_16</th><th>state_q0002_17</th><th>state_q0002_18</th><th>state_q0002_19</th><th>state_q0002_20</th><th>state_q0002_21</th><th>state_q0002_22</th><th>state_q0002_23</th><th>state_q0002_24</th><th>state_q0002_25</th><th>state_q0002_26</th><th>state_q0002_27</th><th>state_q0002_28</th><th>state_q0002_29</th><th>state_q0002_30</th><th>state_q0002_31</th><th>state_q0002_32</th><th>state_q0002_33</th><th>state_q0002_34</th><th>state_q0002_35</th><th>state_q0002_36</th><th>state_q0002_37</th><th>state_q0002_38</th><th>state_q0002_39</th><th>state_q0002_40</th><th>state_q0002_41</th><th>state_q0002_42</th><th>state_q0002_43</th><th>state_q0002_44</th><th>state_q0002_45</th><th>state_q0002_46</th><th>state_q0002_47</th><th>state_q0002_48</th><th>state_q0002_49</th><th>state_q0002_50</th><th>state_q0002_51</th><th>state_q0002_52</th><th>state_q0002_53</th><th>state_q0002_54</th><th>state_q0002_55</th><th>state_q0002_56</th><th>state_q0002_57</th><th>state_q0002_58</th><th>state_q0002_59</th><th>state_q0003_0</th><th>state_q0003_1</th><th>state_q0003_2</th><th>state_q0003_3</th><th>state_q0003_4</th><th>state_q0003_5</th><th>state_q0003_6</th><th>state_q0003_7</th><th>state_q0003_8</th><th>state_q0003_9</th><th>state_q0003_10</th><th>state_q0003_11</th><th>state_q0003_12</th><th>state_q0003_13</th><th>state_q0003_14</th><th>state_q0003_15</th><th>state_q0003_16</th><th>state_q0003_17</th><th>state_q0003_18</th><th>state_q0003_19</th><th>state_q0003_20</th><th>state_q0003_21</th><th>state_q0003_22</th><th>state_q0003_23</th><th>state_q0003_24</th><th>state_q0003_25</th><th>state_q0003_26</th><th>state_q0003_27</th><th>state_q0003_28</th><th>state_q0003_29</th><th>state_q0003_30</th><th>state_q0003_31</th><th>state_q0003_32</th><th>state_q0003_33</th><th>state_q0003_34</th><th>state_q0003_35</th><th>state_q0003_36</th><th>state_q0003_37</th><th>state_q0003_38</th><th>state_q0003_39</th><th>state_q0003_40</th><th>state_q0003_41</th><th>state_q0003_42</th><th>state_q0003_43</th><th>state_q0003_44</th><th>state_q0003_45</th><th>state_q0003_46</th><th>state_q0003_47</th><th>state_q0003_48</th><th>state_q0003_49</th><th>state_q0003_50</th><th>state_q0003_51</th><th>state_q0003_52</th><th>state_q0003_53</th><th>state_q0003_54</th><th>state_q0003_55</th><th>state_q0003_56</th><th>state_q0003_57</th><th>state_q0003_58</th><th>state_q0003_59</th><th>state_u_0</th><th>state_u_1</th><th>state_u_2</th><th>state_u_3</th><th>state_u_4</th><th>state_u_5</th><th>state_u_6</th><th>state_u_7</th><th>state_u_8</th><th>state_u_9</th><th>state_u_10</th><th>state_u_11</th><th>state_u_12</th><th>state_u_13</th><th>state_u_14</th><th>state_u_15</th><th>state_u_16</th><th>state_u_17</th><th>state_u_18</th><th>state_u_19</th><th>state_u_20</th><th>state_u_21</th><th>state_u_22</th><th>state_u_23</th><th>state_u_24</th><th>state_u_25</th><th>state_u_26</th><th>state_u_27</th><th>state_u_28</th><th>state_u_29</th><th>state_u_30</th><th>state_u_31</th><th>state_u_32</th><th>state_u_33</th><th>state_u_34</th><th>state_u_35</th><th>state_u_36</th><th>state_u_37</th><th>state_u_38</th><th>state_u_39</th><th>state_u_40</th><th>state_u_41</th><th>state_u_42</th><th>state_u_43</th><th>state_u_44</th><th>state_u_45</th><th>state_u_46</th><th>state_u_47</th><th>state_u_48</th><th>state_u_49</th><th>state_u_50</th><th>state_u_51</th><th>state_u_52</th><th>state_u_53</th><th>state_u_54</th><th>state_u_55</th><th>state_u_56</th><th>state_u_57</th><th>state_u_58</th><th>state_u_59</th><th>state_v_0</th><th>state_v_1</th><th>state_v_2</th><th>state_v_3</th><th>state_v_4</th><th>state_v_5</th><th>state_v_6</th><th>state_v_7</th><th>state_v_8</th><th>state_v_9</th><th>state_v_10</th><th>state_v_11</th><th>state_v_12</th><th>state_v_13</th><th>state_v_14</th><th>state_v_15</th><th>state_v_16</th><th>state_v_17</th><th>state_v_18</th><th>state_v_19</th><th>state_v_20</th><th>state_v_21</th><th>state_v_22</th><th>state_v_23</th><th>state_v_24</th><th>state_v_25</th><th>state_v_26</th><th>state_v_27</th><th>state_v_28</th><th>state_v_29</th><th>state_v_30</th><th>state_v_31</th><th>state_v_32</th><th>state_v_33</th><th>state_v_34</th><th>state_v_35</th><th>state_v_36</th><th>state_v_37</th><th>state_v_38</th><th>state_v_39</th><th>state_v_40</th><th>state_v_41</th><th>state_v_42</th><th>state_v_43</th><th>state_v_44</th><th>state_v_45</th><th>state_v_46</th><th>state_v_47</th><th>state_v_48</th><th>state_v_49</th><th>state_v_50</th><th>state_v_51</th><th>state_v_52</th><th>state_v_53</th><th>state_v_54</th><th>state_v_55</th><th>state_v_56</th><th>state_v_57</th><th>state_v_58</th><th>state_v_59</th><th>state_ps</th><th>pbuf_SOLIN</th><th>pbuf_LHFLX</th><th>pbuf_SHFLX</th><th>pbuf_TAUX</th><th>pbuf_TAUY</th><th>pbuf_COSZRS</th><th>cam_in_ALDIF</th><th>cam_in_ALDIR</th><th>cam_in_ASDIF</th><th>cam_in_ASDIR</th><th>cam_in_LWUP</th><th>cam_in_ICEFRAC</th><th>cam_in_LANDFRAC</th><th>cam_in_OCNFRAC</th><th>cam_in_SNOWHLAND</th><th>pbuf_ozone_0</th><th>pbuf_ozone_1</th><th>pbuf_ozone_2</th><th>pbuf_ozone_3</th><th>pbuf_ozone_4</th><th>pbuf_ozone_5</th><th>pbuf_ozone_6</th><th>pbuf_ozone_7</th><th>pbuf_ozone_8</th><th>pbuf_ozone_9</th><th>pbuf_ozone_10</th><th>pbuf_ozone_11</th><th>pbuf_ozone_12</th><th>pbuf_ozone_13</th><th>pbuf_ozone_14</th><th>pbuf_ozone_15</th><th>pbuf_ozone_16</th><th>pbuf_ozone_17</th><th>pbuf_ozone_18</th><th>pbuf_ozone_19</th><th>pbuf_ozone_20</th><th>pbuf_ozone_21</th><th>pbuf_ozone_22</th><th>pbuf_ozone_23</th><th>pbuf_ozone_24</th><th>pbuf_ozone_25</th><th>pbuf_ozone_26</th><th>pbuf_ozone_27</th><th>pbuf_ozone_28</th><th>pbuf_ozone_29</th><th>pbuf_ozone_30</th><th>pbuf_ozone_31</th><th>pbuf_ozone_32</th><th>pbuf_ozone_33</th><th>pbuf_ozone_34</th><th>pbuf_ozone_35</th><th>pbuf_ozone_36</th><th>pbuf_ozone_37</th><th>pbuf_ozone_38</th><th>pbuf_ozone_39</th><th>pbuf_ozone_40</th><th>pbuf_ozone_41</th><th>pbuf_ozone_42</th><th>pbuf_ozone_43</th><th>pbuf_ozone_44</th><th>pbuf_ozone_45</th><th>pbuf_ozone_46</th><th>pbuf_ozone_47</th><th>pbuf_ozone_48</th><th>pbuf_ozone_49</th><th>pbuf_ozone_50</th><th>pbuf_ozone_51</th><th>pbuf_ozone_52</th><th>pbuf_ozone_53</th><th>pbuf_ozone_54</th><th>pbuf_ozone_55</th><th>pbuf_ozone_56</th><th>pbuf_ozone_57</th><th>pbuf_ozone_58</th><th>pbuf_ozone_59</th><th>pbuf_CH4_0</th><th>pbuf_CH4_1</th><th>pbuf_CH4_2</th><th>pbuf_CH4_3</th><th>pbuf_CH4_4</th><th>pbuf_CH4_5</th><th>pbuf_CH4_6</th><th>pbuf_CH4_7</th><th>pbuf_CH4_8</th><th>pbuf_CH4_9</th><th>pbuf_CH4_10</th><th>pbuf_CH4_11</th><th>pbuf_CH4_12</th><th>pbuf_CH4_13</th><th>pbuf_CH4_14</th><th>pbuf_CH4_15</th><th>pbuf_CH4_16</th><th>pbuf_CH4_17</th><th>pbuf_CH4_18</th><th>pbuf_CH4_19</th><th>pbuf_CH4_20</th><th>pbuf_CH4_21</th><th>pbuf_CH4_22</th><th>pbuf_CH4_23</th><th>pbuf_CH4_24</th><th>pbuf_CH4_25</th><th>pbuf_CH4_26</th><th>pbuf_CH4_27</th><th>pbuf_CH4_28</th><th>pbuf_CH4_29</th><th>pbuf_CH4_30</th><th>pbuf_CH4_31</th><th>pbuf_CH4_32</th><th>pbuf_CH4_33</th><th>pbuf_CH4_34</th><th>pbuf_CH4_35</th><th>pbuf_CH4_36</th><th>pbuf_CH4_37</th><th>pbuf_CH4_38</th><th>pbuf_CH4_39</th><th>pbuf_CH4_40</th><th>pbuf_CH4_41</th><th>pbuf_CH4_42</th><th>pbuf_CH4_43</th><th>pbuf_CH4_44</th><th>pbuf_CH4_45</th><th>pbuf_CH4_46</th><th>pbuf_CH4_47</th><th>pbuf_CH4_48</th><th>pbuf_CH4_49</th><th>pbuf_CH4_50</th><th>pbuf_CH4_51</th><th>pbuf_CH4_52</th><th>pbuf_CH4_53</th><th>pbuf_CH4_54</th><th>pbuf_CH4_55</th><th>pbuf_CH4_56</th><th>pbuf_CH4_57</th><th>pbuf_CH4_58</th><th>pbuf_CH4_59</th><th>pbuf_N2O_0</th><th>pbuf_N2O_1</th><th>pbuf_N2O_2</th><th>pbuf_N2O_3</th><th>pbuf_N2O_4</th><th>pbuf_N2O_5</th><th>pbuf_N2O_6</th><th>pbuf_N2O_7</th><th>pbuf_N2O_8</th><th>pbuf_N2O_9</th><th>pbuf_N2O_10</th><th>pbuf_N2O_11</th><th>pbuf_N2O_12</th><th>pbuf_N2O_13</th><th>pbuf_N2O_14</th><th>pbuf_N2O_15</th><th>pbuf_N2O_16</th><th>pbuf_N2O_17</th><th>pbuf_N2O_18</th><th>pbuf_N2O_19</th><th>pbuf_N2O_20</th><th>pbuf_N2O_21</th><th>pbuf_N2O_22</th><th>pbuf_N2O_23</th><th>pbuf_N2O_24</th><th>pbuf_N2O_25</th><th>pbuf_N2O_26</th><th>pbuf_N2O_27</th><th>pbuf_N2O_28</th><th>pbuf_N2O_29</th><th>pbuf_N2O_30</th><th>pbuf_N2O_31</th><th>pbuf_N2O_32</th><th>pbuf_N2O_33</th><th>pbuf_N2O_34</th><th>pbuf_N2O_35</th><th>pbuf_N2O_36</th><th>pbuf_N2O_37</th><th>pbuf_N2O_38</th><th>pbuf_N2O_39</th><th>pbuf_N2O_40</th><th>pbuf_N2O_41</th><th>pbuf_N2O_42</th><th>pbuf_N2O_43</th><th>pbuf_N2O_44</th><th>pbuf_N2O_45</th><th>pbuf_N2O_46</th><th>pbuf_N2O_47</th><th>pbuf_N2O_48</th><th>pbuf_N2O_49</th><th>pbuf_N2O_50</th><th>pbuf_N2O_51</th><th>pbuf_N2O_52</th><th>pbuf_N2O_53</th><th>pbuf_N2O_54</th><th>pbuf_N2O_55</th><th>pbuf_N2O_56</th><th>pbuf_N2O_57</th><th>pbuf_N2O_58</th><th>pbuf_N2O_59</th></tr><tr><td>str</td><td>f64</td><td>f64</td><td>f64</td><td>f64</td><td>f64</td><td>f64</td><td>f64</td><td>f64</td><td>f64</td><td>f64</td><td>f64</td><td>f64</td><td>f64</td><td>f64</td><td>f64</td><td>f64</td><td>f64</td><td>f64</td><td>f64</td><td>f64</td><td>f64</td><td>f64</td><td>f64</td><td>f64</td><td>f64</td><td>f64</td><td>f64</td><td>f64</td><td>f64</td><td>f64</td><td>f64</td><td>f64</td><td>f64</td><td>f64</td><td>f64</td><td>f64</td><td>f64</td><td>f64</td><td>f64</td><td>f64</td><td>f64</td><td>f64</td><td>f64</td><td>f64</td><td>f64</td><td>f64</td><td>f64</td><td>f64</td><td>f64</td><td>f64</td><td>f64</td><td>f64</td><td>f64</td><td>f64</td><td>f64</td><td>f64</td><td>f64</td><td>f64</td><td>f64</td><td>f64</td><td>f64</td><td>f64</td><td>f64</td><td>f64</td><td>f64</td><td>f64</td><td>f64</td><td>f64</td><td>f64</td><td>f64</td><td>f64</td><td>f64</td><td>f64</td><td>f64</td><td>f64</td><td>f64</td><td>f64</td><td>f64</td><td>f64</td><td>f64</td><td>f64</td><td>f64</td><td>f64</td><td>f64</td><td>f64</td><td>f64</td><td>f64</td><td>f64</td><td>f64</td><td>f64</td><td>f64</td><td>f64</td><td>f64</td><td>f64</td><td>f64</td><td>f64</td><td>f64</td><td>f64</td><td>f64</td><td>f64</td><td>f64</td><td>f64</td><td>f64</td><td>f64</td><td>f64</td><td>f64</td><td>f64</td><td>f64</td><td>f64</td><td>f64</td><td>f64</td><td>f64</td><td>f64</td><td>f64</td><td>f64</td><td>f64</td><td>f64</td><td>f64</td><td>f64</td><td>f64</td><td>f64</td><td>f64</td><td>f64</td><td>f64</td><td>f64</td><td>f64</td><td>f64</td><td>f64</td><td>f64</td><td>f64</td><td>f64</td><td>f64</td><td>f64</td><td>f64</td><td>f64</td><td>f64</td><td>f64</td><td>f64</td><td>f64</td><td>f64</td><td>f64</td><td>f64</td><td>f64</td><td>f64</td><td>f64</td><td>f64</td><td>f64</td><td>f64</td><td>f64</td><td>f64</td><td>f64</td><td>f64</td><td>f64</td><td>f64</td><td>f64</td><td>f64</td><td>f64</td><td>f64</td><td>f64</td><td>f64</td><td>f64</td><td>f64</td><td>f64</td><td>f64</td><td>f64</td><td>f64</td><td>f64</td><td>f64</td><td>f64</td><td>f64</td><td>f64</td><td>f64</td><td>f64</td><td>f64</td><td>f64</td><td>f64</td><td>f64</td><td>f64</td><td>f64</td><td>f64</td><td>f64</td><td>f64</td><td>f64</td><td>f64</td><td>f64</td><td>f64</td><td>f64</td><td>f64</td><td>f64</td><td>f64</td><td>f64</td><td>f64</td><td>f64</td><td>f64</td><td>f64</td><td>f64</td><td>f64</td><td>f64</td><td>f64</td><td>f64</td><td>f64</td><td>f64</td><td>f64</td><td>f64</td><td>f64</td><td>f64</td><td>f64</td><td>f64</td><td>f64</td><td>f64</td><td>f64</td><td>f64</td><td>f64</td><td>f64</td><td>f64</td><td>f64</td><td>f64</td><td>f64</td><td>f64</td><td>f64</td><td>f64</td><td>f64</td><td>f64</td><td>f64</td><td>f64</td><td>f64</td><td>f64</td><td>f64</td><td>f64</td><td>f64</td><td>f64</td><td>f64</td><td>f64</td><td>f64</td><td>f64</td><td>f64</td><td>f64</td><td>f64</td><td>f64</td><td>f64</td><td>f64</td><td>f64</td><td>f64</td><td>f64</td><td>f64</td><td>f64</td><td>f64</td><td>f64</td><td>f64</td><td>f64</td><td>f64</td><td>f64</td><td>f64</td><td>f64</td><td>f64</td><td>f64</td><td>f64</td><td>f64</td><td>f64</td><td>f64</td><td>f64</td><td>f64</td><td>f64</td><td>f64</td><td>f64</td><td>f64</td><td>f64</td><td>f64</td><td>f64</td><td>f64</td><td>f64</td><td>f64</td><td>f64</td><td>f64</td><td>f64</td><td>f64</td><td>f64</td><td>f64</td><td>f64</td><td>f64</td><td>f64</td><td>f64</td><td>f64</td><td>f64</td><td>f64</td><td>f64</td><td>f64</td><td>f64</td><td>f64</td><td>f64</td><td>f64</td><td>f64</td><td>f64</td><td>f64</td><td>f64</td><td>f64</td><td>f64</td><td>f64</td><td>f64</td><td>f64</td><td>f64</td><td>f64</td><td>f64</td><td>f64</td><td>f64</td><td>f64</td><td>f64</td><td>f64</td><td>f64</td><td>f64</td><td>f64</td><td>f64</td><td>f64</td><td>f64</td><td>f64</td><td>f64</td><td>f64</td><td>f64</td><td>f64</td><td>f64</td><td>f64</td><td>f64</td><td>f64</td><td>f64</td><td>f64</td><td>f64</td><td>f64</td><td>f64</td><td>f64</td><td>f64</td><td>f64</td><td>f64</td><td>f64</td><td>f64</td><td>f64</td><td>f64</td><td>f64</td><td>f64</td><td>f64</td><td>f64</td><td>f64</td><td>f64</td><td>f64</td><td>f64</td><td>f64</td><td>f64</td><td>f64</td><td>f64</td><td>f64</td><td>f64</td><td>f64</td><td>f64</td><td>f64</td><td>f64</td><td>f64</td><td>f64</td><td>f64</td><td>f64</td><td>f64</td><td>f64</td><td>f64</td><td>f64</td><td>f64</td><td>f64</td><td>f64</td><td>f64</td><td>f64</td><td>f64</td><td>f64</td><td>f64</td><td>f64</td><td>f64</td><td>f64</td><td>f64</td><td>f64</td><td>f64</td><td>f64</td><td>f64</td><td>f64</td><td>f64</td><td>f64</td><td>f64</td><td>f64</td><td>f64</td><td>f64</td><td>f64</td><td>f64</td><td>f64</td><td>f64</td><td>f64</td><td>f64</td><td>f64</td><td>f64</td><td>f64</td><td>f64</td><td>f64</td><td>f64</td><td>f64</td><td>f64</td><td>f64</td><td>f64</td><td>f64</td><td>f64</td><td>f64</td><td>f64</td><td>f64</td><td>f64</td><td>f64</td><td>f64</td><td>f64</td><td>f64</td><td>f64</td><td>f64</td><td>f64</td><td>f64</td><td>f64</td><td>f64</td><td>f64</td><td>f64</td><td>f64</td><td>f64</td><td>f64</td><td>f64</td><td>f64</td><td>f64</td><td>f64</td><td>f64</td><td>f64</td><td>f64</td><td>f64</td><td>f64</td><td>f64</td><td>f64</td><td>f64</td><td>f64</td><td>f64</td><td>f64</td><td>f64</td><td>f64</td><td>f64</td><td>f64</td><td>f64</td><td>f64</td><td>f64</td><td>f64</td><td>f64</td><td>f64</td><td>f64</td><td>f64</td><td>f64</td><td>f64</td><td>f64</td><td>f64</td><td>f64</td><td>f64</td><td>f64</td><td>f64</td><td>f64</td><td>f64</td><td>f64</td><td>f64</td><td>f64</td><td>f64</td><td>f64</td><td>f64</td><td>f64</td><td>f64</td><td>f64</td><td>f64</td><td>f64</td><td>f64</td><td>f64</td><td>f64</td><td>f64</td><td>f64</td><td>f64</td><td>f64</td><td>f64</td><td>f64</td><td>f64</td><td>f64</td><td>f64</td><td>f64</td><td>f64</td><td>f64</td><td>f64</td><td>f64</td><td>f64</td><td>f64</td><td>f64</td><td>f64</td><td>f64</td><td>f64</td><td>f64</td><td>f64</td><td>f64</td><td>f64</td><td>f64</td><td>f64</td><td>f64</td><td>f64</td><td>f64</td><td>f64</td><td>f64</td><td>f64</td><td>f64</td><td>f64</td><td>f64</td><td>f64</td><td>f64</td><td>f64</td><td>f64</td><td>f64</td><td>f64</td><td>f64</td><td>f64</td><td>f64</td><td>f64</td><td>f64</td><td>f64</td><td>f64</td><td>f64</td><td>f64</td><td>f64</td><td>f64</td><td>f64</td><td>f64</td><td>f64</td><td>f64</td><td>f64</td><td>f64</td><td>f64</td><td>f64</td><td>f64</td><td>f64</td><td>f64</td><td>f64</td><td>f64</td><td>f64</td><td>f64</td><td>f64</td><td>f64</td><td>f64</td><td>f64</td><td>f64</td><td>f64</td><td>f64</td><td>f64</td><td>f64</td><td>f64</td><td>f64</td><td>f64</td><td>f64</td><td>f64</td><td>f64</td><td>f64</td></tr></thead><tbody><tr><td>&quot;test_169651&quot;</td><td>209.802593</td><td>220.698213</td><td>227.783289</td><td>241.386812</td><td>254.602962</td><td>262.319063</td><td>261.308368</td><td>254.062035</td><td>243.90442</td><td>236.302401</td><td>229.972123</td><td>225.227444</td><td>221.043785</td><td>215.828104</td><td>208.998899</td><td>203.059782</td><td>199.041293</td><td>198.233715</td><td>196.024335</td><td>198.165421</td><td>201.194742</td><td>205.367505</td><td>209.875699</td><td>214.748964</td><td>219.542131</td><td>224.305865</td><td>228.952891</td><td>233.365752</td><td>237.65552</td><td>241.956551</td><td>246.022055</td><td>249.808255</td><td>253.459608</td><td>256.971278</td><td>260.294397</td><td>263.400258</td><td>266.453995</td><td>269.335235</td><td>271.931611</td><td>274.345917</td><td>276.364867</td><td>278.199151</td><td>279.774969</td><td>281.114457</td><td>282.216242</td><td>283.134861</td><td>284.583856</td><td>285.660463</td><td>286.682694</td><td>287.647368</td><td>288.319392</td><td>288.954874</td><td>289.686522</td><td>290.47467</td><td>291.374321</td><td>292.347968</td><td>293.43973</td><td>294.438724</td><td>295.38002</td><td>296.391446</td><td>0.000002</td><td>0.000002</td><td>0.000002</td><td>0.000002</td><td>0.000002</td><td>0.000002</td><td>0.000002</td><td>0.000002</td><td>0.000002</td><td>0.000002</td><td>0.000002</td><td>0.000002</td><td>0.000002</td><td>0.000002</td><td>0.000002</td><td>0.000002</td><td>0.000002</td><td>0.000002</td><td>0.000002</td><td>0.000003</td><td>0.000006</td><td>0.000011</td><td>0.00002</td><td>0.000032</td><td>0.000042</td><td>0.000059</td><td>0.000091</td><td>0.000152</td><td>0.000257</td><td>0.000398</td><td>0.000575</td><td>0.000798</td><td>0.001029</td><td>0.001247</td><td>0.001508</td><td>0.001851</td><td>0.002217</td><td>0.002593</td><td>0.003069</td><td>0.003637</td><td>0.004323</td><td>0.004914</td><td>0.005655</td><td>0.006382</td><td>0.007161</td><td>0.00809</td><td>0.008422</td><td>0.009062</td><td>0.009533</td><td>0.010061</td><td>0.010851</td><td>0.011723</td><td>0.01231</td><td>0.012901</td><td>0.013413</td><td>0.013863</td><td>0.014226</td><td>0.014691</td><td>0.01539</td><td>0.015926</td><td>9.7013e-37</td><td>9.7067e-37</td><td>9.5320e-37</td><td>9.0000e-37</td><td>8.8489e-37</td><td>8.7347e-37</td><td>7.4539e-37</td><td>5.7589e-37</td><td>4.1264e-37</td><td>2.5798e-37</td><td>9.0800e-38</td><td>8.8615e-39</td><td>3.9948e-43</td><td>5.2197e-49</td><td>3.8237e-55</td><td>0.0</td><td>0.0</td><td>0.0</td><td>0.0</td><td>0.0</td><td>0.0</td><td>1.2248e-49</td><td>0.0</td><td>0.0</td><td>0.0</td><td>0.0</td><td>0.0</td><td>6.3843e-31</td><td>8.4492e-27</td><td>1.0226e-28</td><td>2.3281e-18</td><td>5.3019e-20</td><td>0.0</td><td>1.7424e-7</td><td>1.9801e-7</td><td>5.1508e-7</td><td>0.0</td><td>3.3095e-7</td><td>5.4720e-7</td><td>5.0558e-7</td><td>0.0</td><td>0.0</td><td>0.000001</td><td>0.000004</td><td>0.000001</td><td>0.000004</td><td>0.000003</td><td>0.000006</td><td>0.000003</td><td>0.000002</td><td>0.000003</td><td>0.000007</td><td>0.000005</td><td>0.00001</td><td>0.00001</td><td>0.000004</td><td>2.4976e-7</td><td>7.4434e-7</td><td>2.4470e-7</td><td>7.5538e-9</td><td>3.2430e-11</td><td>3.5474e-11</td><td>3.9380e-11</td><td>4.7086e-11</td><td>5.1482e-11</td><td>5.5466e-11</td><td>5.5631e-11</td><td>5.0086e-11</td><td>4.1181e-11</td><td>3.0849e-11</td><td>1.2191e-11</td><td>1.2796e-12</td><td>5.5664e-17</td><td>8.9162e-23</td><td>2.3687e-24</td><td>0.0</td><td>1.6279e-24</td><td>5.6999e-20</td><td>8.7989e-17</td><td>3.3620e-11</td><td>1.6776e-10</td><td>0.0</td><td>0.0</td><td>0.0</td><td>0.0</td><td>0.0</td><td>0.0</td><td>0.0</td><td>0.0</td><td>0.000001</td><td>0.000002</td><td>0.000001</td><td>0.000002</td><td>5.0476e-7</td><td>1.7979e-7</td><td>6.1143e-7</td><td>9.7138e-8</td><td>3.2653e-7</td><td>2.4650e-7</td><td>7.7237e-8</td><td>1.6265e-8</td><td>2.6423e-8</td><td>5.0995e-8</td><td>5.2668e-8</td><td>3.7720e-8</td><td>7.3597e-8</td><td>5.2720e-8</td><td>3.7769e-8</td><td>3.7740e-9</td><td>2.3163e-9</td><td>2.7407e-10</td><td>6.0542e-11</td><td>1.4243e-11</td><td>4.6001e-12</td><td>0.0</td><td>3.0952e-13</td><td>1.9876e-13</td><td>2.0088e-13</td><td>1.2196e-14</td><td>1.2907e-12</td><td>-12.621098</td><td>-35.264994</td><td>-39.288286</td><td>-26.101457</td><td>-27.027251</td><td>-26.977124</td><td>-25.681033</td><td>-24.116904</td><td>-21.753854</td><td>-18.174458</td><td>-13.102039</td><td>-7.057726</td><td>-2.783299</td><td>0.48277</td><td>6.097161</td><td>9.94475</td><td>14.382375</td><td>20.15391</td><td>24.696414</td><td>28.10628</td><td>31.409991</td><td>34.470184</td><td>35.623454</td><td>35.262472</td><td>33.688433</td><td>31.477991</td><td>29.394856</td><td>27.362967</td><td>25.418579</td><td>23.586494</td><td>21.805095</td><td>20.05106</td><td>18.329192</td><td>16.628743</td><td>15.029511</td><td>13.527132</td><td>12.198934</td><td>11.006181</td><td>9.946034</td><td>8.986405</td><td>8.046804</td><td>7.155062</td><td>6.298709</td><td>5.470431</td><td>4.767571</td><td>4.192104</td><td>3.654444</td><td>3.092111</td><td>2.546125</td><td>2.053815</td><td>1.582154</td><td>1.125412</td><td>0.672671</td><td>0.210809</td><td>-0.256035</td><td>-0.681038</td><td>-1.069693</td><td>-1.349754</td><td>-1.312553</td><td>-1.116497</td><td>11.938681</td><td>6.037094</td><td>11.908263</td><td>2.385834</td><td>-3.281934</td><td>0.980046</td><td>5.255962</td><td>5.241453</td><td>1.689835</td><td>0.214683</td><td>1.039891</td><td>1.317828</td><td>0.97116</td><td>3.472131</td><td>4.706899</td><td>2.93737</td><td>3.055634</td><td>2.977136</td><td>2.058352</td><td>1.935215</td><td>2.134694</td><td>2.024551</td><td>1.55467</td><td>1.581369</td><td>1.578897</td><td>1.384252</td><td>1.128416</td><td>0.848605</td><td>0.540527</td><td>0.349101</td><td>0.37602</td><td>0.567414</td><td>0.844342</td><td>1.054674</td><td>1.090906</td><td>0.989244</td><td>0.73123</td><td>0.475887</td><td>0.305124</td><td>0.26951</td><td>0.256586</td><td>0.27095</td><td>0.218726</td><td>0.102173</td><td>0.021138</td><td>0.068425</td><td>0.137398</td><td>0.18148</td><td>0.228599</td><td>0.281241</td><td>0.318975</td><td>0.346498</td><td>0.386231</td><td>0.437631</td><td>0.492904</td><td>0.525097</td><td>0.519203</td><td>0.527845</td><td>0.526496</td><td>0.169698</td><td>100600.027964</td><td>0.0</td><td>4.347225</td><td>-0.246807</td><td>0.001545</td><td>-0.0006</td><td>0.0</td><td>1.0</td><td>1.0</td><td>1.0</td><td>1.0</td><td>438.758554</td><td>0.0</td><td>0.0</td><td>1.0</td><td>0.0</td><td>2.6356e-7</td><td>4.7469e-7</td><td>8.5083e-7</td><td>0.000002</td><td>0.000003</td><td>0.000005</td><td>0.000008</td><td>0.000012</td><td>0.000013</td><td>0.000014</td><td>0.000013</td><td>0.000012</td><td>0.00001</td><td>0.000007</td><td>0.000005</td><td>0.000003</td><td>0.000002</td><td>8.4424e-7</td><td>4.8861e-7</td><td>3.3337e-7</td><td>2.4476e-7</td><td>1.8146e-7</td><td>1.3446e-7</td><td>1.0342e-7</td><td>8.9834e-8</td><td>8.0409e-8</td><td>7.4827e-8</td><td>7.1977e-8</td><td>6.9728e-8</td><td>6.8498e-8</td><td>6.7445e-8</td><td>6.6510e-8</td><td>6.5643e-8</td><td>6.4768e-8</td><td>6.3963e-8</td><td>6.3137e-8</td><td>6.2009e-8</td><td>6.0600e-8</td><td>5.9198e-8</td><td>5.7647e-8</td><td>5.5942e-8</td><td>5.4316e-8</td><td>5.2773e-8</td><td>5.0042e-8</td><td>4.7254e-8</td><td>4.4604e-8</td><td>4.2089e-8</td><td>4.0019e-8</td><td>3.8186e-8</td><td>3.6475e-8</td><td>3.4873e-8</td><td>3.3392e-8</td><td>3.2752e-8</td><td>3.2130e-8</td><td>3.1515e-8</td><td>3.0900e-8</td><td>3.0344e-8</td><td>2.9831e-8</td><td>2.9312e-8</td><td>2.8908e-8</td><td>1.7047e-7</td><td>1.9578e-7</td><td>2.2460e-7</td><td>2.5711e-7</td><td>2.9331e-7</td><td>3.3293e-7</td><td>3.7542e-7</td><td>4.2000e-7</td><td>4.6582e-7</td><td>5.1216e-7</td><td>5.5852e-7</td><td>6.0466e-7</td><td>6.5047e-7</td><td>6.9585e-7</td><td>7.4055e-7</td><td>7.8419e-7</td><td>8.2638e-7</td><td>8.6682e-7</td><td>9.0540e-7</td><td>9.4221e-7</td><td>9.7737e-7</td><td>9.9861e-7</td><td>9.9861e-7</td><td>9.9861e-7</td><td>9.9861e-7</td><td>9.9861e-7</td><td>9.9861e-7</td><td>9.9861e-7</td><td>9.9861e-7</td><td>9.9861e-7</td><td>9.9861e-7</td><td>9.9861e-7</td><td>9.9861e-7</td><td>9.9861e-7</td><td>9.9861e-7</td><td>9.9861e-7</td><td>9.9861e-7</td><td>9.9861e-7</td><td>9.9861e-7</td><td>9.9861e-7</td><td>9.9861e-7</td><td>9.9861e-7</td><td>9.9861e-7</td><td>9.9861e-7</td><td>9.9861e-7</td><td>9.9861e-7</td><td>9.9861e-7</td><td>9.9861e-7</td><td>9.9861e-7</td><td>9.9861e-7</td><td>9.9861e-7</td><td>9.9861e-7</td><td>9.9861e-7</td><td>9.9861e-7</td><td>9.9861e-7</td><td>9.9861e-7</td><td>9.9861e-7</td><td>9.9861e-7</td><td>9.9861e-7</td><td>9.9861e-7</td><td>2.7090e-8</td><td>3.3989e-8</td><td>4.2566e-8</td><td>5.3122e-8</td><td>6.5920e-8</td><td>8.1133e-8</td><td>9.8783e-8</td><td>1.1873e-7</td><td>1.4068e-7</td><td>1.6434e-7</td><td>1.8941e-7</td><td>2.1572e-7</td><td>2.4315e-7</td><td>2.7157e-7</td><td>3.0073e-7</td><td>3.3032e-7</td><td>3.5994e-7</td><td>3.8925e-7</td><td>4.1805e-7</td><td>4.4625e-7</td><td>4.7387e-7</td><td>4.9086e-7</td><td>4.9086e-7</td><td>4.9086e-7</td><td>4.9086e-7</td><td>4.9086e-7</td><td>4.9086e-7</td><td>4.9086e-7</td><td>4.9086e-7</td><td>4.9086e-7</td><td>4.9086e-7</td><td>4.9086e-7</td><td>4.9086e-7</td><td>4.9086e-7</td><td>4.9086e-7</td><td>4.9086e-7</td><td>4.9086e-7</td><td>4.9086e-7</td><td>4.9086e-7</td><td>4.9086e-7</td><td>4.9086e-7</td><td>4.9086e-7</td><td>4.9086e-7</td><td>4.9086e-7</td><td>4.9086e-7</td><td>4.9086e-7</td><td>4.9086e-7</td><td>4.9086e-7</td><td>4.9086e-7</td><td>4.9086e-7</td><td>4.9086e-7</td><td>4.9086e-7</td><td>4.9086e-7</td><td>4.9086e-7</td><td>4.9086e-7</td><td>4.9086e-7</td><td>4.9086e-7</td><td>4.9086e-7</td><td>4.9086e-7</td><td>4.9086e-7</td></tr><tr><td>&quot;test_524862&quot;</td><td>208.366101</td><td>219.238711</td><td>228.265017</td><td>242.099772</td><td>256.16427</td><td>263.783211</td><td>261.835384</td><td>253.636172</td><td>243.783467</td><td>236.961625</td><td>231.254018</td><td>226.821328</td><td>223.089416</td><td>218.781736</td><td>213.044729</td><td>207.428738</td><td>203.258569</td><td>200.945988</td><td>198.008377</td><td>200.708751</td><td>202.260369</td><td>205.759887</td><td>209.204746</td><td>213.188264</td><td>217.391038</td><td>221.709</td><td>226.124449</td><td>230.24439</td><td>234.354927</td><td>238.466732</td><td>242.440843</td><td>246.280318</td><td>249.962632</td><td>253.491784</td><td>256.890607</td><td>260.038062</td><td>263.105183</td><td>265.969345</td><td>268.651067</td><td>271.115895</td><td>273.156304</td><td>275.05413</td><td>276.859299</td><td>278.323683</td><td>279.625526</td><td>280.895406</td><td>281.976503</td><td>283.153419</td><td>284.207563</td><td>285.304527</td><td>286.422891</td><td>287.165373</td><td>287.948619</td><td>288.710265</td><td>289.541786</td><td>290.338582</td><td>291.228917</td><td>292.075051</td><td>292.772405</td><td>293.552796</td><td>0.000002</td><td>0.000002</td><td>0.000002</td><td>0.000002</td><td>0.000002</td><td>0.000002</td><td>0.000002</td><td>0.000002</td><td>0.000002</td><td>0.000002</td><td>0.000002</td><td>0.000002</td><td>0.000002</td><td>0.000002</td><td>0.000002</td><td>0.000002</td><td>0.000002</td><td>0.000002</td><td>0.000003</td><td>0.000005</td><td>0.000008</td><td>0.000012</td><td>0.000019</td><td>0.000025</td><td>0.000032</td><td>0.000045</td><td>0.000075</td><td>0.000142</td><td>0.000244</td><td>0.000356</td><td>0.000484</td><td>0.000632</td><td>0.000844</td><td>0.001119</td><td>0.001435</td><td>0.001796</td><td>0.002197</td><td>0.002635</td><td>0.003162</td><td>0.003662</td><td>0.004397</td><td>0.004992</td><td>0.005598</td><td>0.006273</td><td>0.006898</td><td>0.007266</td><td>0.007811</td><td>0.008264</td><td>0.008604</td><td>0.008909</td><td>0.009354</td><td>0.009941</td><td>0.010509</td><td>0.010907</td><td>0.011343</td><td>0.011847</td><td>0.0123</td><td>0.012884</td><td>0.013599</td><td>0.014058</td><td>9.7233e-37</td><td>9.6757e-37</td><td>9.5398e-37</td><td>9.3217e-37</td><td>9.4038e-37</td><td>9.2493e-37</td><td>8.1177e-37</td><td>6.6361e-37</td><td>5.3593e-37</td><td>3.9227e-37</td><td>1.4220e-37</td><td>1.5365e-38</td><td>2.9856e-43</td><td>4.8280e-51</td><td>0.0</td><td>0.0</td><td>0.0</td><td>0.0</td><td>0.0</td><td>0.0</td><td>0.0</td><td>0.0</td><td>0.0</td><td>4.4922e-40</td><td>3.4044e-35</td><td>1.2520e-30</td><td>0.0</td><td>6.3843e-31</td><td>8.4492e-27</td><td>1.0226e-28</td><td>2.3281e-18</td><td>5.3019e-20</td><td>0.0</td><td>0.0</td><td>0.0</td><td>0.0</td><td>0.0</td><td>0.0</td><td>1.3582e-7</td><td>7.9312e-8</td><td>1.3835e-7</td><td>0.000002</td><td>0.000012</td><td>0.000037</td><td>0.00002</td><td>0.000014</td><td>0.000033</td><td>0.000027</td><td>0.000029</td><td>0.000005</td><td>0.000007</td><td>0.000022</td><td>0.000028</td><td>0.000015</td><td>0.000013</td><td>0.000007</td><td>0.000002</td><td>0.000001</td><td>0.000003</td><td>1.6578e-8</td><td>3.2606e-11</td><td>3.4582e-11</td><td>3.9890e-11</td><td>4.5706e-11</td><td>5.0204e-11</td><td>5.5300e-11</td><td>5.7235e-11</td><td>5.4381e-11</td><td>4.8958e-11</td><td>4.1832e-11</td><td>1.8482e-11</td><td>2.3615e-12</td><td>5.3417e-17</td><td>2.3347e-25</td><td>7.4363e-25</td><td>3.2001e-20</td><td>1.6279e-24</td><td>2.5878e-14</td><td>2.4028e-12</td><td>1.5160e-10</td><td>3.5728e-9</td><td>1.5177e-8</td><td>6.6076e-10</td><td>0.0</td><td>0.0</td><td>0.0</td><td>0.0</td><td>0.0</td><td>0.0</td><td>0.0</td><td>0.0</td><td>1.1687e-7</td><td>0.0</td><td>0.0</td><td>0.0</td><td>8.6779e-10</td><td>1.9253e-8</td><td>1.0758e-7</td><td>1.4760e-7</td><td>2.1158e-7</td><td>2.1672e-7</td><td>2.4495e-7</td><td>1.4108e-7</td><td>2.6630e-7</td><td>6.8928e-7</td><td>7.9143e-8</td><td>4.7101e-8</td><td>4.8511e-8</td><td>3.8275e-9</td><td>2.0314e-8</td><td>1.9337e-9</td><td>6.0377e-10</td><td>5.5262e-11</td><td>7.8513e-12</td><td>8.6035e-10</td><td>2.1053e-12</td><td>1.1164e-12</td><td>1.0425e-12</td><td>7.0639e-14</td><td>9.8122e-13</td><td>-29.893361</td><td>-39.554844</td><td>-34.522524</td><td>-21.928289</td><td>-18.223787</td><td>-19.48342</td><td>-19.543606</td><td>-18.398179</td><td>-15.392368</td><td>-12.175464</td><td>-8.241326</td><td>-3.019894</td><td>2.268972</td><td>5.34779</td><td>8.920504</td><td>14.489345</td><td>18.426973</td><td>22.032316</td><td>25.706922</td><td>28.965752</td><td>31.16677</td><td>32.408526</td><td>32.771722</td><td>32.556432</td><td>31.808454</td><td>30.882596</td><td>29.846462</td><td>28.652634</td><td>27.30233</td><td>25.846441</td><td>24.259796</td><td>22.670197</td><td>21.183674</td><td>19.844425</td><td>18.700619</td><td>17.666287</td><td>16.707244</td><td>15.681082</td><td>14.583848</td><td>13.460464</td><td>12.467512</td><td>11.563934</td><td>10.787628</td><td>10.096707</td><td>9.47082</td><td>8.897509</td><td>8.334815</td><td>7.766036</td><td>7.249928</td><td>6.811481</td><td>6.43075</td><td>6.074011</td><td>5.748827</td><td>5.444443</td><td>5.16472</td><td>4.916659</td><td>4.68944</td><td>4.454772</td><td>4.332837</td><td>3.568685</td><td>3.407441</td><td>7.927505</td><td>14.541661</td><td>7.870468</td><td>0.851383</td><td>2.700654</td><td>5.313124</td><td>4.424651</td><td>0.94704</td><td>-1.047635</td><td>-0.371438</td><td>0.849279</td><td>0.934926</td><td>1.496484</td><td>4.686353</td><td>5.375017</td><td>5.183725</td><td>6.110477</td><td>7.373743</td><td>8.273774</td><td>8.783596</td><td>9.070392</td><td>8.906493</td><td>8.417356</td><td>7.664339</td><td>6.864443</td><td>6.386836</td><td>5.944948</td><td>5.524617</td><td>5.08944</td><td>4.663317</td><td>4.18785</td><td>3.588459</td><td>2.90988</td><td>2.254511</td><td>1.656692</td><td>1.202701</td><td>0.945096</td><td>0.816315</td><td>0.691156</td><td>0.492947</td><td>0.210738</td><td>-0.034511</td><td>-0.223913</td><td>-0.30456</td><td>-0.306024</td><td>-0.31283</td><td>-0.318147</td><td>-0.329014</td><td>-0.361018</td><td>-0.399833</td><td>-0.439263</td><td>-0.485964</td><td>-0.515237</td><td>-0.548946</td><td>-0.609114</td><td>-0.656643</td><td>-0.768443</td><td>-1.045759</td><td>-1.761068</td><td>101156.338133</td><td>0.0</td><td>4.390058</td><td>-1.169037</td><td>-0.011148</td><td>0.005213</td><td>0.0</td><td>1.0</td><td>1.0</td><td>1.0</td><td>1.0</td><td>420.971275</td><td>0.0</td><td>0.0</td><td>1.0</td><td>0.0</td><td>2.6128e-7</td><td>4.7059e-7</td><td>8.4348e-7</td><td>0.000001</td><td>0.000003</td><td>0.000004</td><td>0.000007</td><td>0.000012</td><td>0.000013</td><td>0.000014</td><td>0.000013</td><td>0.000012</td><td>0.00001</td><td>0.000007</td><td>0.000005</td><td>0.000003</td><td>0.000002</td><td>0.000001</td><td>6.0761e-7</td><td>4.2808e-7</td><td>3.2513e-7</td><td>2.4502e-7</td><td>1.7848e-7</td><td>1.2772e-7</td><td>1.0575e-7</td><td>9.0547e-8</td><td>8.1658e-8</td><td>7.6913e-8</td><td>7.3041e-8</td><td>7.0865e-8</td><td>6.8947e-8</td><td>6.7412e-8</td><td>6.6084e-8</td><td>6.4747e-8</td><td>6.3495e-8</td><td>6.2212e-8</td><td>6.0667e-8</td><td>5.8916e-8</td><td>5.7175e-8</td><td>5.5445e-8</td><td>5.3750e-8</td><td>5.2134e-8</td><td>5.0600e-8</td><td>4.8114e-8</td><td>4.5698e-8</td><td>4.3400e-8</td><td>4.1220e-8</td><td>3.9122e-8</td><td>3.7149e-8</td><td>3.5305e-8</td><td>3.3580e-8</td><td>3.2174e-8</td><td>3.1576e-8</td><td>3.0994e-8</td><td>3.0419e-8</td><td>2.9844e-8</td><td>2.9475e-8</td><td>2.9160e-8</td><td>2.8842e-8</td><td>2.8615e-8</td><td>1.6823e-7</td><td>1.9321e-7</td><td>2.2165e-7</td><td>2.5373e-7</td><td>2.8945e-7</td><td>3.2855e-7</td><td>3.7049e-7</td><td>4.1448e-7</td><td>4.5970e-7</td><td>5.0543e-7</td><td>5.5118e-7</td><td>5.9671e-7</td><td>6.4193e-7</td><td>6.8671e-7</td><td>7.3082e-7</td><td>7.7389e-7</td><td>8.1552e-7</td><td>8.5543e-7</td><td>8.9351e-7</td><td>9.2983e-7</td><td>9.6453e-7</td><td>9.9771e-7</td><td>9.9861e-7</td><td>9.9861e-7</td><td>9.9861e-7</td><td>9.9861e-7</td><td>9.9861e-7</td><td>9.9861e-7</td><td>9.9861e-7</td><td>9.9861e-7</td><td>9.9861e-7</td><td>9.9861e-7</td><td>9.9861e-7</td><td>9.9861e-7</td><td>9.9861e-7</td><td>9.9861e-7</td><td>9.9861e-7</td><td>9.9861e-7</td><td>9.9861e-7</td><td>9.9861e-7</td><td>9.9861e-7</td><td>9.9861e-7</td><td>9.9861e-7</td><td>9.9861e-7</td><td>9.9861e-7</td><td>9.9861e-7</td><td>9.9861e-7</td><td>9.9861e-7</td><td>9.9861e-7</td><td>9.9861e-7</td><td>9.9861e-7</td><td>9.9861e-7</td><td>9.9861e-7</td><td>9.9861e-7</td><td>9.9861e-7</td><td>9.9861e-7</td><td>9.9861e-7</td><td>9.9861e-7</td><td>9.9861e-7</td><td>9.9861e-7</td><td>2.5728e-8</td><td>3.2356e-8</td><td>4.0614e-8</td><td>5.0801e-8</td><td>6.3180e-8</td><td>7.7926e-8</td><td>9.5069e-8</td><td>1.1448e-7</td><td>1.3589e-7</td><td>1.5899e-7</td><td>1.8351e-7</td><td>2.0928e-7</td><td>2.3618e-7</td><td>2.6408e-7</td><td>2.9275e-7</td><td>3.2186e-7</td><td>3.5102e-7</td><td>3.7992e-7</td><td>4.0832e-7</td><td>4.3617e-7</td><td>4.6344e-7</td><td>4.9013e-7</td><td>4.9086e-7</td><td>4.9086e-7</td><td>4.9086e-7</td><td>4.9086e-7</td><td>4.9086e-7</td><td>4.9086e-7</td><td>4.9086e-7</td><td>4.9086e-7</td><td>4.9086e-7</td><td>4.9086e-7</td><td>4.9086e-7</td><td>4.9086e-7</td><td>4.9086e-7</td><td>4.9086e-7</td><td>4.9086e-7</td><td>4.9086e-7</td><td>4.9086e-7</td><td>4.9086e-7</td><td>4.9086e-7</td><td>4.9086e-7</td><td>4.9086e-7</td><td>4.9086e-7</td><td>4.9086e-7</td><td>4.9086e-7</td><td>4.9086e-7</td><td>4.9086e-7</td><td>4.9086e-7</td><td>4.9086e-7</td><td>4.9086e-7</td><td>4.9086e-7</td><td>4.9086e-7</td><td>4.9086e-7</td><td>4.9086e-7</td><td>4.9086e-7</td><td>4.9086e-7</td><td>4.9086e-7</td><td>4.9086e-7</td><td>4.9086e-7</td></tr><tr><td>&quot;test_634129&quot;</td><td>213.073771</td><td>229.421551</td><td>233.368455</td><td>242.683788</td><td>252.912786</td><td>260.953981</td><td>260.97731</td><td>253.059885</td><td>240.92989</td><td>232.91791</td><td>226.803598</td><td>221.937333</td><td>217.64686</td><td>213.245735</td><td>206.346627</td><td>197.762532</td><td>190.748626</td><td>189.534278</td><td>191.340472</td><td>192.504004</td><td>198.064985</td><td>204.083699</td><td>210.659256</td><td>216.965954</td><td>222.765872</td><td>228.264432</td><td>233.528284</td><td>238.41498</td><td>243.084839</td><td>247.407864</td><td>251.559082</td><td>255.27033</td><td>258.692439</td><td>261.988075</td><td>265.12583</td><td>268.078964</td><td>270.627849</td><td>272.981317</td><td>275.178158</td><td>277.326784</td><td>279.233698</td><td>280.737749</td><td>281.946893</td><td>283.24825</td><td>284.541981</td><td>285.846237</td><td>286.928886</td><td>287.874164</td><td>288.97811</td><td>289.864875</td><td>290.715822</td><td>291.699133</td><td>292.547412</td><td>293.170274</td><td>294.038241</td><td>295.018406</td><td>296.049939</td><td>297.159615</td><td>298.159719</td><td>299.146501</td><td>0.000002</td><td>0.000002</td><td>0.000002</td><td>0.000002</td><td>0.000002</td><td>0.000002</td><td>0.000002</td><td>0.000002</td><td>0.000002</td><td>0.000002</td><td>0.000002</td><td>0.000002</td><td>0.000002</td><td>0.000002</td><td>0.000002</td><td>0.000002</td><td>0.000001</td><td>0.000001</td><td>0.000001</td><td>0.000002</td><td>0.000004</td><td>0.000009</td><td>0.000023</td><td>0.000049</td><td>0.000079</td><td>0.000129</td><td>0.000197</td><td>0.000301</td><td>0.000421</td><td>0.000615</td><td>0.000799</td><td>0.00101</td><td>0.001195</td><td>0.001334</td><td>0.001478</td><td>0.001718</td><td>0.002179</td><td>0.00276</td><td>0.003317</td><td>0.003839</td><td>0.004386</td><td>0.005077</td><td>0.006277</td><td>0.007519</td><td>0.008327</td><td>0.009056</td><td>0.009829</td><td>0.010764</td><td>0.011435</td><td>0.012143</td><td>0.01285</td><td>0.013119</td><td>0.0135</td><td>0.014371</td><td>0.015046</td><td>0.015551</td><td>0.015951</td><td>0.016206</td><td>0.016689</td><td>0.017309</td><td>9.7196e-37</td><td>9.6819e-37</td><td>9.4737e-37</td><td>8.6130e-37</td><td>7.4553e-37</td><td>7.0430e-37</td><td>5.8079e-37</td><td>3.7533e-37</td><td>1.8347e-37</td><td>2.6609e-38</td><td>1.5455e-38</td><td>4.6986e-39</td><td>2.0639e-42</td><td>1.7214e-48</td><td>6.7973e-54</td><td>0.0</td><td>0.0</td><td>0.0</td><td>0.0</td><td>0.0</td><td>1.0323e-52</td><td>7.5774e-48</td><td>1.6654e-42</td><td>2.8840e-37</td><td>1.5806e-32</td><td>5.5908e-28</td><td>1.2081e-24</td><td>8.0682e-20</td><td>2.1577e-15</td><td>5.8245e-11</td><td>1.3243e-8</td><td>3.2364e-7</td><td>8.0410e-7</td><td>2.9317e-7</td><td>1.7491e-7</td><td>2.0769e-7</td><td>0.000003</td><td>0.000004</td><td>6.1060e-7</td><td>5.5421e-7</td><td>5.5637e-7</td><td>8.9581e-7</td><td>0.000006</td><td>0.000004</td><td>0.000003</td><td>0.000004</td><td>0.000006</td><td>0.000075</td><td>0.000017</td><td>0.000014</td><td>0.000018</td><td>0.000007</td><td>0.000004</td><td>0.000003</td><td>0.000002</td><td>0.000002</td><td>8.7045e-7</td><td>1.5553e-7</td><td>1.9860e-8</td><td>1.7795e-9</td><td>3.1575e-11</td><td>3.5242e-11</td><td>3.9756e-11</td><td>4.6787e-11</td><td>4.7899e-11</td><td>4.9267e-11</td><td>4.6184e-11</td><td>3.4904e-11</td><td>2.3260e-11</td><td>6.1475e-12</td><td>2.7373e-12</td><td>7.5081e-13</td><td>2.6179e-16</td><td>2.6664e-22</td><td>5.1042e-25</td><td>2.6412e-18</td><td>9.8686e-14</td><td>3.8788e-11</td><td>1.0422e-10</td><td>1.0476e-9</td><td>1.5938e-8</td><td>1.9242e-7</td><td>6.5540e-7</td><td>0.000002</td><td>0.000002</td><td>0.000006</td><td>0.000009</td><td>0.000009</td><td>0.000006</td><td>8.7136e-7</td><td>0.000003</td><td>0.000003</td><td>0.000002</td><td>6.3892e-7</td><td>5.3047e-7</td><td>2.7988e-7</td><td>2.3266e-7</td><td>2.4639e-8</td><td>1.2039e-9</td><td>1.0484e-9</td><td>0.0</td><td>1.2023e-9</td><td>0.0</td><td>0.0</td><td>0.0</td><td>0.0</td><td>0.0</td><td>0.0</td><td>0.0</td><td>0.0</td><td>0.0</td><td>0.0</td><td>0.0</td><td>0.0</td><td>2.8992e-12</td><td>0.0</td><td>0.0</td><td>0.0</td><td>0.0</td><td>0.0</td><td>16.386828</td><td>-11.512458</td><td>-24.817131</td><td>-20.796563</td><td>-37.669454</td><td>-43.577506</td><td>-43.414096</td><td>-41.314129</td><td>-38.498899</td><td>-33.173973</td><td>-25.493209</td><td>-18.301585</td><td>-14.229118</td><td>-9.429682</td><td>-2.728357</td><td>1.08357</td><td>5.246548</td><td>10.596983</td><td>13.751444</td><td>17.168239</td><td>22.897938</td><td>27.350709</td><td>28.289143</td><td>27.581126</td><td>24.350959</td><td>20.201542</td><td>16.367193</td><td>13.093764</td><td>10.395265</td><td>8.339274</td><td>6.783111</td><td>5.510704</td><td>4.329976</td><td>3.196551</td><td>2.071899</td><td>0.949127</td><td>0.071386</td><td>-0.575528</td><td>-0.958757</td><td>-1.161323</td><td>-1.364285</td><td>-1.642227</td><td>-2.055358</td><td>-2.538765</td><td>-3.052665</td><td>-3.529975</td><td>-3.950433</td><td>-4.343366</td><td>-4.695296</td><td>-5.011322</td><td>-5.323996</td><td>-5.662009</td><td>-5.971492</td><td>-6.224755</td><td>-6.444167</td><td>-6.645438</td><td>-6.78385</td><td>-6.794718</td><td>-6.425409</td><td>-5.456625</td><td>20.983392</td><td>5.249665</td><td>4.479647</td><td>-3.157389</td><td>-5.787299</td><td>-0.279474</td><td>5.039368</td><td>5.344292</td><td>1.770346</td><td>0.714379</td><td>2.077056</td><td>1.639421</td><td>0.589909</td><td>2.806933</td><td>3.728732</td><td>3.032948</td><td>2.687794</td><td>1.551657</td><td>-0.080055</td><td>-2.55187</td><td>-4.148039</td><td>-5.943878</td><td>-6.167202</td><td>-5.431529</td><td>-3.50839</td><td>-2.183702</td><td>-1.755617</td><td>-1.703193</td><td>-1.861061</td><td>-2.088447</td><td>-2.089375</td><td>-1.82621</td><td>-1.27117</td><td>-0.607347</td><td>-0.032128</td><td>0.28745</td><td>0.364168</td><td>0.389445</td><td>0.436952</td><td>0.554593</td><td>0.725587</td><td>0.87684</td><td>0.985213</td><td>1.026965</td><td>1.047064</td><td>1.080241</td><td>1.090479</td><td>1.064247</td><td>1.027141</td><td>0.994794</td><td>0.945611</td><td>0.869893</td><td>0.813989</td><td>0.765646</td><td>0.7399</td><td>0.722111</td><td>0.725107</td><td>0.758654</td><td>0.7801</td><td>0.821863</td><td>99186.272487</td><td>0.0</td><td>70.755197</td><td>-0.892743</td><td>0.033205</td><td>-0.00567</td><td>0.0</td><td>1.0</td><td>1.0</td><td>1.0</td><td>1.0</td><td>455.793439</td><td>0.0</td><td>0.298189</td><td>0.701811</td><td>0.0</td><td>2.7551e-7</td><td>4.9620e-7</td><td>8.8940e-7</td><td>0.000002</td><td>0.000003</td><td>0.000005</td><td>0.000008</td><td>0.000013</td><td>0.000014</td><td>0.000015</td><td>0.000015</td><td>0.000013</td><td>0.00001</td><td>0.000007</td><td>0.000004</td><td>0.000002</td><td>0.000001</td><td>5.4335e-7</td><td>3.2919e-7</td><td>2.1876e-7</td><td>1.4950e-7</td><td>1.0933e-7</td><td>8.7582e-8</td><td>7.7536e-8</td><td>7.4163e-8</td><td>7.2076e-8</td><td>7.1080e-8</td><td>7.0781e-8</td><td>7.0635e-8</td><td>7.0695e-8</td><td>7.0802e-8</td><td>7.0773e-8</td><td>7.0642e-8</td><td>7.0367e-8</td><td>6.9130e-8</td><td>6.7862e-8</td><td>6.6464e-8</td><td>6.4919e-8</td><td>6.3383e-8</td><td>6.1233e-8</td><td>5.8041e-8</td><td>5.4994e-8</td><td>5.2104e-8</td><td>4.8473e-8</td><td>4.4674e-8</td><td>4.1062e-8</td><td>3.7635e-8</td><td>3.5023e-8</td><td>3.3181e-8</td><td>3.1460e-8</td><td>2.9850e-8</td><td>2.8331e-8</td><td>2.7395e-8</td><td>2.6727e-8</td><td>2.6068e-8</td><td>2.5409e-8</td><td>2.4823e-8</td><td>2.4685e-8</td><td>2.4545e-8</td><td>2.4471e-8</td><td>1.7700e-7</td><td>2.0328e-7</td><td>2.3320e-7</td><td>2.6696e-7</td><td>3.0454e-7</td><td>3.4568e-7</td><td>3.8980e-7</td><td>4.3609e-7</td><td>4.8367e-7</td><td>5.3178e-7</td><td>5.7992e-7</td><td>6.2782e-7</td><td>6.7540e-7</td><td>7.2251e-7</td><td>7.6892e-7</td><td>8.1424e-7</td><td>8.5804e-7</td><td>9.0003e-7</td><td>9.4009e-7</td><td>9.7831e-7</td><td>9.9861e-7</td><td>9.9861e-7</td><td>9.9861e-7</td><td>9.9861e-7</td><td>9.9861e-7</td><td>9.9861e-7</td><td>9.9861e-7</td><td>9.9861e-7</td><td>9.9861e-7</td><td>9.9861e-7</td><td>9.9861e-7</td><td>9.9861e-7</td><td>9.9861e-7</td><td>9.9861e-7</td><td>9.9861e-7</td><td>9.9861e-7</td><td>9.9861e-7</td><td>9.9861e-7</td><td>9.9861e-7</td><td>9.9861e-7</td><td>9.9861e-7</td><td>9.9861e-7</td><td>9.9861e-7</td><td>9.9861e-7</td><td>9.9861e-7</td><td>9.9861e-7</td><td>9.9861e-7</td><td>9.9861e-7</td><td>9.9861e-7</td><td>9.9861e-7</td><td>9.9861e-7</td><td>9.9861e-7</td><td>9.9861e-7</td><td>9.9861e-7</td><td>9.9861e-7</td><td>9.9861e-7</td><td>9.9861e-7</td><td>9.9861e-7</td><td>9.9861e-7</td><td>9.9861e-7</td><td>3.1350e-8</td><td>3.9069e-8</td><td>4.8601e-8</td><td>6.0254e-8</td><td>7.4293e-8</td><td>9.0874e-8</td><td>1.1000e-7</td><td>1.3148e-7</td><td>1.5501e-7</td><td>1.8024e-7</td><td>2.0686e-7</td><td>2.3469e-7</td><td>2.6359e-7</td><td>2.9342e-7</td><td>3.2395e-7</td><td>3.5483e-7</td><td>3.8566e-7</td><td>4.1609e-7</td><td>4.4593e-7</td><td>4.7509e-7</td><td>4.9086e-7</td><td>4.9086e-7</td><td>4.9086e-7</td><td>4.9086e-7</td><td>4.9086e-7</td><td>4.9086e-7</td><td>4.9086e-7</td><td>4.9086e-7</td><td>4.9086e-7</td><td>4.9086e-7</td><td>4.9086e-7</td><td>4.9086e-7</td><td>4.9086e-7</td><td>4.9086e-7</td><td>4.9086e-7</td><td>4.9086e-7</td><td>4.9086e-7</td><td>4.9086e-7</td><td>4.9086e-7</td><td>4.9086e-7</td><td>4.9086e-7</td><td>4.9086e-7</td><td>4.9086e-7</td><td>4.9086e-7</td><td>4.9086e-7</td><td>4.9086e-7</td><td>4.9086e-7</td><td>4.9086e-7</td><td>4.9086e-7</td><td>4.9086e-7</td><td>4.9086e-7</td><td>4.9086e-7</td><td>4.9086e-7</td><td>4.9086e-7</td><td>4.9086e-7</td><td>4.9086e-7</td><td>4.9086e-7</td><td>4.9086e-7</td><td>4.9086e-7</td><td>4.9086e-7</td></tr><tr><td>&quot;test_403572&quot;</td><td>212.048636</td><td>226.003864</td><td>230.980609</td><td>241.056187</td><td>252.829634</td><td>262.18577</td><td>261.900745</td><td>253.187196</td><td>241.186311</td><td>233.427801</td><td>227.551602</td><td>222.870357</td><td>218.355564</td><td>214.293878</td><td>208.696332</td><td>201.119579</td><td>194.082373</td><td>191.574244</td><td>191.439634</td><td>193.614325</td><td>198.680126</td><td>204.361576</td><td>210.181162</td><td>215.804561</td><td>221.317205</td><td>226.572773</td><td>231.736907</td><td>236.627809</td><td>241.202458</td><td>245.491838</td><td>249.651329</td><td>253.511502</td><td>257.175998</td><td>260.61964</td><td>263.84016</td><td>266.715386</td><td>269.360562</td><td>271.653413</td><td>274.017475</td><td>276.072557</td><td>278.181629</td><td>279.566684</td><td>281.092302</td><td>282.396228</td><td>284.098606</td><td>285.416977</td><td>286.76609</td><td>287.861359</td><td>288.827942</td><td>289.783145</td><td>290.64174</td><td>291.331085</td><td>292.200819</td><td>293.041512</td><td>293.902807</td><td>294.538675</td><td>295.251986</td><td>296.308722</td><td>297.493538</td><td>298.723115</td><td>0.000002</td><td>0.000002</td><td>0.000002</td><td>0.000002</td><td>0.000002</td><td>0.000002</td><td>0.000002</td><td>0.000002</td><td>0.000002</td><td>0.000002</td><td>0.000002</td><td>0.000002</td><td>0.000002</td><td>0.000002</td><td>0.000002</td><td>0.000002</td><td>0.000002</td><td>0.000002</td><td>0.000002</td><td>0.000003</td><td>0.000006</td><td>0.000011</td><td>0.000022</td><td>0.000042</td><td>0.000061</td><td>0.000085</td><td>0.00011</td><td>0.00017</td><td>0.000244</td><td>0.000322</td><td>0.000395</td><td>0.000491</td><td>0.000627</td><td>0.000833</td><td>0.001111</td><td>0.00155</td><td>0.002122</td><td>0.00287</td><td>0.003517</td><td>0.004173</td><td>0.004784</td><td>0.005847</td><td>0.007088</td><td>0.008175</td><td>0.008792</td><td>0.009477</td><td>0.009974</td><td>0.010389</td><td>0.010789</td><td>0.011092</td><td>0.011604</td><td>0.012546</td><td>0.013101</td><td>0.013655</td><td>0.014322</td><td>0.01524</td><td>0.016034</td><td>0.016453</td><td>0.016592</td><td>0.016683</td><td>9.7321e-37</td><td>9.6702e-37</td><td>9.4260e-37</td><td>8.5773e-37</td><td>7.7302e-37</td><td>7.7039e-37</td><td>6.7762e-37</td><td>4.5470e-37</td><td>2.4676e-37</td><td>5.1243e-38</td><td>2.5684e-38</td><td>6.4836e-39</td><td>8.9827e-43</td><td>1.0076e-47</td><td>5.2435e-54</td><td>0.0</td><td>0.0</td><td>0.0</td><td>0.0</td><td>0.0</td><td>2.6641e-53</td><td>2.2396e-48</td><td>6.9463e-44</td><td>0.0</td><td>0.0</td><td>0.0</td><td>8.0829e-26</td><td>6.2168e-21</td><td>1.6750e-16</td><td>4.5542e-12</td><td>1.0455e-9</td><td>1.4923e-8</td><td>7.4443e-8</td><td>7.5741e-7</td><td>3.2564e-7</td><td>9.1671e-7</td><td>0.000005</td><td>0.000003</td><td>0.000007</td><td>8.5192e-7</td><td>0.000008</td><td>0.000007</td><td>0.000073</td><td>0.000054</td><td>0.000011</td><td>0.000016</td><td>0.00002</td><td>0.000012</td><td>0.000005</td><td>0.000004</td><td>0.000001</td><td>0.000021</td><td>0.000026</td><td>0.000023</td><td>0.000017</td><td>0.000011</td><td>0.000003</td><td>7.8136e-7</td><td>2.0159e-7</td><td>1.8606e-8</td><td>3.1498e-11</td><td>3.4882e-11</td><td>3.9500e-11</td><td>4.7076e-11</td><td>4.9022e-11</td><td>5.1808e-11</td><td>5.1092e-11</td><td>4.1047e-11</td><td>2.8809e-11</td><td>1.0113e-11</td><td>4.0288e-12</td><td>1.0157e-12</td><td>7.9655e-17</td><td>1.2778e-21</td><td>1.6981e-24</td><td>0.0</td><td>2.6637e-14</td><td>8.6123e-12</td><td>1.6406e-11</td><td>7.3944e-9</td><td>5.2734e-8</td><td>1.7848e-7</td><td>1.6908e-7</td><td>0.000003</td><td>0.000005</td><td>0.000003</td><td>8.3423e-7</td><td>0.000002</td><td>0.000005</td><td>0.000003</td><td>0.000002</td><td>2.1885e-7</td><td>6.5565e-8</td><td>0.000001</td><td>3.9603e-7</td><td>2.4611e-7</td><td>6.2521e-7</td><td>1.5304e-7</td><td>4.4849e-8</td><td>0.0</td><td>0.0</td><td>0.0</td><td>8.1317e-9</td><td>0.0</td><td>0.0</td><td>0.0</td><td>0.0</td><td>0.0</td><td>0.0</td><td>0.0</td><td>0.0</td><td>0.0</td><td>0.0</td><td>0.0</td><td>0.0</td><td>0.0</td><td>0.0</td><td>0.0</td><td>0.0</td><td>0.0</td><td>-0.895688</td><td>-29.097592</td><td>-34.203822</td><td>-26.292529</td><td>-32.092229</td><td>-37.212649</td><td>-40.736995</td><td>-38.776084</td><td>-34.378608</td><td>-29.958867</td><td>-23.995797</td><td>-16.313667</td><td>-9.717851</td><td>-5.701623</td><td>0.282212</td><td>6.710835</td><td>11.787517</td><td>17.137322</td><td>21.384466</td><td>26.894039</td><td>31.373947</td><td>32.788974</td><td>32.52744</td><td>30.910859</td><td>27.796946</td><td>24.692624</td><td>22.061817</td><td>19.825191</td><td>17.776414</td><td>15.818793</td><td>13.885651</td><td>11.877284</td><td>9.919114</td><td>8.120361</td><td>6.55236</td><td>5.270232</td><td>4.265699</td><td>3.445589</td><td>2.70188</td><td>2.010272</td><td>1.353232</td><td>0.750537</td><td>0.250007</td><td>-0.209561</td><td>-0.618921</td><td>-1.001443</td><td>-1.411117</td><td>-1.795138</td><td>-2.144735</td><td>-2.465519</td><td>-2.706805</td><td>-2.893646</td><td>-3.064147</td><td>-3.239915</td><td>-3.402748</td><td>-3.687885</td><td>-3.894445</td><td>-3.934927</td><td>-3.892879</td><td>-3.790526</td><td>13.161184</td><td>4.86829</td><td>15.49955</td><td>4.304659</td><td>-4.137783</td><td>-1.489619</td><td>4.318581</td><td>5.38695</td><td>1.536853</td><td>-0.516866</td><td>1.375316</td><td>2.55648</td><td>0.584175</td><td>0.286661</td><td>3.324075</td><td>3.994714</td><td>4.213756</td><td>4.146825</td><td>4.086154</td><td>4.275549</td><td>4.685594</td><td>5.83817</td><td>6.443513</td><td>6.691064</td><td>6.057019</td><td>4.967796</td><td>4.069745</td><td>3.403313</td><td>3.053714</td><td>2.873647</td><td>2.858752</td><td>2.763781</td><td>2.548221</td><td>2.133287</td><td>1.660112</td><td>1.154426</td><td>0.808214</td><td>0.620016</td><td>0.561383</td><td>0.517667</td><td>0.425216</td><td>0.257751</td><td>0.012808</td><td>-0.239181</td><td>-0.408705</td><td>-0.510568</td><td>-0.610817</td><td>-0.685114</td><td>-0.777895</td><td>-0.891026</td><td>-0.998847</td><td>-1.148757</td><td>-1.303713</td><td>-1.469805</td><td>-1.610964</td><td>-1.783924</td><td>-1.781503</td><td>-1.651063</td><td>-1.54045</td><td>-1.441145</td><td>101096.425413</td><td>0.0</td><td>80.041768</td><td>5.595857</td><td>0.020411</td><td>0.006781</td><td>0.0</td><td>1.0</td><td>1.0</td><td>1.0</td><td>1.0</td><td>460.810594</td><td>0.0</td><td>0.0</td><td>1.0</td><td>0.0</td><td>2.7210e-7</td><td>4.9007e-7</td><td>8.7841e-7</td><td>0.000002</td><td>0.000003</td><td>0.000005</td><td>0.000008</td><td>0.000012</td><td>0.000014</td><td>0.000015</td><td>0.000014</td><td>0.000013</td><td>0.00001</td><td>0.000007</td><td>0.000004</td><td>0.000002</td><td>0.000001</td><td>5.7756e-7</td><td>3.5455e-7</td><td>2.5498e-7</td><td>1.8384e-7</td><td>1.3208e-7</td><td>9.8328e-8</td><td>8.0853e-8</td><td>7.5393e-8</td><td>7.2067e-8</td><td>7.0594e-8</td><td>7.0437e-8</td><td>7.0536e-8</td><td>7.1091e-8</td><td>7.1728e-8</td><td>7.2022e-8</td><td>7.2139e-8</td><td>7.1999e-8</td><td>7.1021e-8</td><td>7.0019e-8</td><td>6.8628e-8</td><td>6.6962e-8</td><td>6.5306e-8</td><td>6.2554e-8</td><td>5.9008e-8</td><td>5.5624e-8</td><td>5.2410e-8</td><td>4.7203e-8</td><td>4.2258e-8</td><td>3.7556e-8</td><td>3.3094e-8</td><td>3.1591e-8</td><td>3.0384e-8</td><td>2.9257e-8</td><td>2.8202e-8</td><td>2.7346e-8</td><td>2.6792e-8</td><td>2.6253e-8</td><td>2.5721e-8</td><td>2.5189e-8</td><td>2.4827e-8</td><td>2.4477e-8</td><td>2.4131e-8</td><td>2.4187e-8</td><td>1.7527e-7</td><td>2.0129e-7</td><td>2.3092e-7</td><td>2.6434e-7</td><td>3.0156e-7</td><td>3.4230e-7</td><td>3.8598e-7</td><td>4.3182e-7</td><td>4.7893e-7</td><td>5.2658e-7</td><td>5.7424e-7</td><td>6.2168e-7</td><td>6.6878e-7</td><td>7.1544e-7</td><td>7.6140e-7</td><td>8.0627e-7</td><td>8.4964e-7</td><td>8.9122e-7</td><td>9.3089e-7</td><td>9.6873e-7</td><td>9.9861e-7</td><td>9.9861e-7</td><td>9.9861e-7</td><td>9.9861e-7</td><td>9.9861e-7</td><td>9.9861e-7</td><td>9.9861e-7</td><td>9.9861e-7</td><td>9.9861e-7</td><td>9.9861e-7</td><td>9.9861e-7</td><td>9.9861e-7</td><td>9.9861e-7</td><td>9.9861e-7</td><td>9.9861e-7</td><td>9.9861e-7</td><td>9.9861e-7</td><td>9.9861e-7</td><td>9.9861e-7</td><td>9.9861e-7</td><td>9.9861e-7</td><td>9.9861e-7</td><td>9.9861e-7</td><td>9.9861e-7</td><td>9.9861e-7</td><td>9.9861e-7</td><td>9.9861e-7</td><td>9.9861e-7</td><td>9.9861e-7</td><td>9.9861e-7</td><td>9.9861e-7</td><td>9.9861e-7</td><td>9.9861e-7</td><td>9.9861e-7</td><td>9.9861e-7</td><td>9.9861e-7</td><td>9.9861e-7</td><td>9.9861e-7</td><td>9.9861e-7</td><td>9.9861e-7</td><td>3.0161e-8</td><td>3.7656e-8</td><td>4.6929e-8</td><td>5.8286e-8</td><td>7.1990e-8</td><td>8.8206e-8</td><td>1.0694e-7</td><td>1.2801e-7</td><td>1.5113e-7</td><td>1.7595e-7</td><td>2.0217e-7</td><td>2.2960e-7</td><td>2.5812e-7</td><td>2.8760e-7</td><td>3.1778e-7</td><td>3.4833e-7</td><td>3.7886e-7</td><td>4.0902e-7</td><td>4.3860e-7</td><td>4.6753e-7</td><td>4.9086e-7</td><td>4.9086e-7</td><td>4.9086e-7</td><td>4.9086e-7</td><td>4.9086e-7</td><td>4.9086e-7</td><td>4.9086e-7</td><td>4.9086e-7</td><td>4.9086e-7</td><td>4.9086e-7</td><td>4.9086e-7</td><td>4.9086e-7</td><td>4.9086e-7</td><td>4.9086e-7</td><td>4.9086e-7</td><td>4.9086e-7</td><td>4.9086e-7</td><td>4.9086e-7</td><td>4.9086e-7</td><td>4.9086e-7</td><td>4.9086e-7</td><td>4.9086e-7</td><td>4.9086e-7</td><td>4.9086e-7</td><td>4.9086e-7</td><td>4.9086e-7</td><td>4.9086e-7</td><td>4.9086e-7</td><td>4.9086e-7</td><td>4.9086e-7</td><td>4.9086e-7</td><td>4.9086e-7</td><td>4.9086e-7</td><td>4.9086e-7</td><td>4.9086e-7</td><td>4.9086e-7</td><td>4.9086e-7</td><td>4.9086e-7</td><td>4.9086e-7</td><td>4.9086e-7</td></tr><tr><td>&quot;test_484578&quot;</td><td>207.926097</td><td>216.697348</td><td>227.82159</td><td>243.555011</td><td>257.498525</td><td>265.294257</td><td>262.886892</td><td>253.702132</td><td>243.453695</td><td>236.891841</td><td>231.651554</td><td>227.565292</td><td>224.415847</td><td>221.184967</td><td>216.809066</td><td>211.962639</td><td>207.474773</td><td>204.363333</td><td>200.804282</td><td>202.558145</td><td>202.750097</td><td>205.465023</td><td>208.13513</td><td>211.352072</td><td>214.992253</td><td>218.816602</td><td>222.907968</td><td>226.8796</td><td>230.926906</td><td>235.015689</td><td>238.957999</td><td>242.838951</td><td>246.552663</td><td>250.100233</td><td>253.434653</td><td>256.558746</td><td>259.531588</td><td>262.387539</td><td>265.074654</td><td>267.555766</td><td>269.743913</td><td>271.38381</td><td>273.096603</td><td>275.01915</td><td>276.454907</td><td>277.961399</td><td>278.975628</td><td>280.096285</td><td>281.158367</td><td>282.398872</td><td>283.620941</td><td>284.62805</td><td>285.485231</td><td>286.267462</td><td>287.136152</td><td>287.896636</td><td>288.753091</td><td>289.687569</td><td>290.58775</td><td>291.274499</td><td>0.000002</td><td>0.000002</td><td>0.000002</td><td>0.000002</td><td>0.000002</td><td>0.000002</td><td>0.000002</td><td>0.000002</td><td>0.000002</td><td>0.000002</td><td>0.000002</td><td>0.000002</td><td>0.000002</td><td>0.000002</td><td>0.000002</td><td>0.000002</td><td>0.000002</td><td>0.000002</td><td>0.000004</td><td>0.000007</td><td>0.00001</td><td>0.000014</td><td>0.000018</td><td>0.000022</td><td>0.00003</td><td>0.000043</td><td>0.000069</td><td>0.000117</td><td>0.000182</td><td>0.000265</td><td>0.000374</td><td>0.000515</td><td>0.000718</td><td>0.00096</td><td>0.001245</td><td>0.001563</td><td>0.001948</td><td>0.002365</td><td>0.002793</td><td>0.003236</td><td>0.003783</td><td>0.004526</td><td>0.005084</td><td>0.005418</td><td>0.005933</td><td>0.006233</td><td>0.006591</td><td>0.007064</td><td>0.007459</td><td>0.007669</td><td>0.008008</td><td>0.008362</td><td>0.008796</td><td>0.00921</td><td>0.009581</td><td>0.010069</td><td>0.010581</td><td>0.011049</td><td>0.011345</td><td>0.01184</td><td>9.7128e-37</td><td>9.6051e-37</td><td>9.5452e-37</td><td>9.5362e-37</td><td>9.6512e-37</td><td>9.5605e-37</td><td>8.6557e-37</td><td>7.1741e-37</td><td>6.0128e-37</td><td>4.8712e-37</td><td>1.8578e-37</td><td>2.0251e-38</td><td>1.0646e-42</td><td>1.2382e-49</td><td>0.0</td><td>0.0</td><td>0.0</td><td>0.0</td><td>0.0</td><td>0.0</td><td>0.0</td><td>0.0</td><td>0.0</td><td>0.0</td><td>0.0</td><td>7.7811e-40</td><td>3.3669e-33</td><td>3.3602e-29</td><td>1.5452e-23</td><td>5.2629e-18</td><td>0.0</td><td>0.0</td><td>0.0</td><td>0.0</td><td>2.4444e-8</td><td>3.7406e-8</td><td>0.0</td><td>4.2136e-7</td><td>0.000003</td><td>0.000003</td><td>0.000004</td><td>0.000022</td><td>0.000083</td><td>0.000024</td><td>0.000024</td><td>0.000023</td><td>0.000019</td><td>0.000039</td><td>0.00005</td><td>0.000019</td><td>0.000011</td><td>0.000012</td><td>0.00001</td><td>0.000008</td><td>0.000013</td><td>0.000013</td><td>0.000008</td><td>0.000002</td><td>7.8231e-7</td><td>2.7059e-7</td><td>3.2707e-11</td><td>3.4833e-11</td><td>4.0651e-11</td><td>4.4067e-11</td><td>4.8119e-11</td><td>5.4224e-11</td><td>5.7644e-11</td><td>5.6434e-11</td><td>5.2800e-11</td><td>4.8358e-11</td><td>2.4067e-11</td><td>3.2542e-12</td><td>1.6799e-16</td><td>1.1093e-23</td><td>0.0</td><td>0.0</td><td>0.0</td><td>0.0</td><td>4.9935e-13</td><td>1.2625e-11</td><td>4.1767e-9</td><td>5.1563e-8</td><td>6.2808e-8</td><td>4.8014e-8</td><td>8.5056e-8</td><td>1.5604e-7</td><td>2.0746e-7</td><td>3.8882e-7</td><td>8.5910e-7</td><td>0.000001</td><td>0.000001</td><td>0.000002</td><td>0.000001</td><td>0.000001</td><td>0.000001</td><td>0.000001</td><td>0.000002</td><td>0.000002</td><td>0.000003</td><td>0.000003</td><td>0.000003</td><td>0.000003</td><td>0.000003</td><td>0.000002</td><td>0.000001</td><td>0.000001</td><td>7.1042e-7</td><td>6.5356e-7</td><td>5.6581e-9</td><td>1.6544e-8</td><td>1.6084e-8</td><td>1.3615e-9</td><td>0.0</td><td>0.0</td><td>1.6286e-11</td><td>1.4384e-16</td><td>6.6560e-12</td><td>3.7114e-10</td><td>5.3211e-10</td><td>1.6815e-10</td><td>-40.514671</td><td>-40.032417</td><td>-31.828419</td><td>-18.524967</td><td>-12.830235</td><td>-14.173486</td><td>-15.047244</td><td>-13.743843</td><td>-10.587021</td><td>-7.645994</td><td>-5.238524</td><td>-1.475789</td><td>3.702735</td><td>8.542001</td><td>11.11544</td><td>15.118564</td><td>20.132157</td><td>23.884062</td><td>26.822964</td><td>29.354526</td><td>31.015959</td><td>31.800139</td><td>32.027682</td><td>32.053957</td><td>31.697876</td><td>30.933278</td><td>29.808729</td><td>28.541658</td><td>27.194826</td><td>25.891485</td><td>24.68164</td><td>23.639124</td><td>22.746605</td><td>21.928873</td><td>21.076565</td><td>20.061099</td><td>18.849762</td><td>17.503729</td><td>16.179417</td><td>15.007115</td><td>14.075261</td><td>13.291599</td><td>12.557146</td><td>11.87178</td><td>11.154768</td><td>10.471049</td><td>9.889161</td><td>9.347019</td><td>8.879216</td><td>8.480535</td><td>8.109997</td><td>7.769493</td><td>7.450909</td><td>7.145693</td><td>6.851057</td><td>6.579524</td><td>6.371834</td><td>6.262167</td><td>5.818672</td><td>3.805306</td><td>-0.848759</td><td>5.809736</td><td>13.565142</td><td>11.622131</td><td>5.192177</td><td>3.832022</td><td>4.521555</td><td>3.157626</td><td>0.36445</td><td>-1.681811</td><td>-1.608787</td><td>-0.285473</td><td>0.659845</td><td>0.252871</td><td>1.124726</td><td>4.257013</td><td>5.224426</td><td>5.710101</td><td>6.679622</td><td>7.853395</td><td>8.394954</td><td>8.425032</td><td>8.2186</td><td>7.864857</td><td>7.452511</td><td>7.143194</td><td>6.886608</td><td>6.479343</td><td>5.897673</td><td>5.157122</td><td>4.328224</td><td>3.496279</td><td>2.786117</td><td>2.240791</td><td>1.878776</td><td>1.655745</td><td>1.49622</td><td>1.296232</td><td>0.978217</td><td>0.525321</td><td>0.013448</td><td>-0.525427</td><td>-1.048021</td><td>-1.479973</td><td>-1.86184</td><td>-2.312476</td><td>-2.749788</td><td>-3.113212</td><td>-3.44963</td><td>-3.714691</td><td>-3.954645</td><td>-4.173306</td><td>-4.35114</td><td>-4.488054</td><td>-4.584904</td><td>-4.650776</td><td>-4.742572</td><td>-4.905684</td><td>-5.619688</td><td>-5.524507</td><td>101283.482359</td><td>0.0</td><td>11.273749</td><td>-2.447222</td><td>-0.020809</td><td>0.030842</td><td>0.0</td><td>1.0</td><td>1.0</td><td>1.0</td><td>1.0</td><td>407.406121</td><td>0.0</td><td>0.0</td><td>1.0</td><td>0.0</td><td>2.6040e-7</td><td>4.6899e-7</td><td>8.4061e-7</td><td>0.000001</td><td>0.000003</td><td>0.000004</td><td>0.000007</td><td>0.000012</td><td>0.000013</td><td>0.000013</td><td>0.000013</td><td>0.000011</td><td>0.00001</td><td>0.000007</td><td>0.000005</td><td>0.000003</td><td>0.000002</td><td>0.000001</td><td>6.6758e-7</td><td>4.6964e-7</td><td>3.5960e-7</td><td>2.7383e-7</td><td>2.0008e-7</td><td>1.4038e-7</td><td>1.1380e-7</td><td>9.5438e-8</td><td>8.4788e-8</td><td>7.9227e-8</td><td>7.4739e-8</td><td>7.2256e-8</td><td>7.0076e-8</td><td>6.8281e-8</td><td>6.6685e-8</td><td>6.5100e-8</td><td>6.3685e-8</td><td>6.2235e-8</td><td>6.0612e-8</td><td>5.8859e-8</td><td>5.7117e-8</td><td>5.5244e-8</td><td>5.3288e-8</td><td>5.1422e-8</td><td>4.9651e-8</td><td>4.7129e-8</td><td>4.4702e-8</td><td>4.2394e-8</td><td>4.0204e-8</td><td>3.8262e-8</td><td>3.6457e-8</td><td>3.4770e-8</td><td>3.3193e-8</td><td>3.1927e-8</td><td>3.1338e-8</td><td>3.0764e-8</td><td>3.0197e-8</td><td>2.9631e-8</td><td>2.9297e-8</td><td>2.9010e-8</td><td>2.8719e-8</td><td>2.8492e-8</td><td>1.6681e-7</td><td>1.9158e-7</td><td>2.1978e-7</td><td>2.5159e-7</td><td>2.8701e-7</td><td>3.2578e-7</td><td>3.6736e-7</td><td>4.1098e-7</td><td>4.5582e-7</td><td>5.0116e-7</td><td>5.4652e-7</td><td>5.9167e-7</td><td>6.3651e-7</td><td>6.8091e-7</td><td>7.2465e-7</td><td>7.6735e-7</td><td>8.0863e-7</td><td>8.4820e-7</td><td>8.8596e-7</td><td>9.2198e-7</td><td>9.5638e-7</td><td>9.8928e-7</td><td>9.9861e-7</td><td>9.9861e-7</td><td>9.9861e-7</td><td>9.9861e-7</td><td>9.9861e-7</td><td>9.9861e-7</td><td>9.9861e-7</td><td>9.9861e-7</td><td>9.9861e-7</td><td>9.9861e-7</td><td>9.9861e-7</td><td>9.9861e-7</td><td>9.9861e-7</td><td>9.9861e-7</td><td>9.9861e-7</td><td>9.9861e-7</td><td>9.9861e-7</td><td>9.9861e-7</td><td>9.9861e-7</td><td>9.9861e-7</td><td>9.9861e-7</td><td>9.9861e-7</td><td>9.9861e-7</td><td>9.9861e-7</td><td>9.9861e-7</td><td>9.9861e-7</td><td>9.9861e-7</td><td>9.9861e-7</td><td>9.9861e-7</td><td>9.9861e-7</td><td>9.9861e-7</td><td>9.9861e-7</td><td>9.9861e-7</td><td>9.9861e-7</td><td>9.9861e-7</td><td>9.9861e-7</td><td>9.9861e-7</td><td>9.9861e-7</td><td>2.4879e-8</td><td>3.1335e-8</td><td>3.9392e-8</td><td>4.9344e-8</td><td>6.1457e-8</td><td>7.5905e-8</td><td>9.2726e-8</td><td>1.1179e-7</td><td>1.3285e-7</td><td>1.5559e-7</td><td>1.7976e-7</td><td>2.0519e-7</td><td>2.3175e-7</td><td>2.5931e-7</td><td>2.8766e-7</td><td>3.1646e-7</td><td>3.4533e-7</td><td>3.7395e-7</td><td>4.0210e-7</td><td>4.2971e-7</td><td>4.5676e-7</td><td>4.8324e-7</td><td>4.9086e-7</td><td>4.9086e-7</td><td>4.9086e-7</td><td>4.9086e-7</td><td>4.9086e-7</td><td>4.9086e-7</td><td>4.9086e-7</td><td>4.9086e-7</td><td>4.9086e-7</td><td>4.9086e-7</td><td>4.9086e-7</td><td>4.9086e-7</td><td>4.9086e-7</td><td>4.9086e-7</td><td>4.9086e-7</td><td>4.9086e-7</td><td>4.9086e-7</td><td>4.9086e-7</td><td>4.9086e-7</td><td>4.9086e-7</td><td>4.9086e-7</td><td>4.9086e-7</td><td>4.9086e-7</td><td>4.9086e-7</td><td>4.9086e-7</td><td>4.9086e-7</td><td>4.9086e-7</td><td>4.9086e-7</td><td>4.9086e-7</td><td>4.9086e-7</td><td>4.9086e-7</td><td>4.9086e-7</td><td>4.9086e-7</td><td>4.9086e-7</td><td>4.9086e-7</td><td>4.9086e-7</td><td>4.9086e-7</td><td>4.9086e-7</td></tr><tr><td>&hellip;</td><td>&hellip;</td><td>&hellip;</td><td>&hellip;</td><td>&hellip;</td><td>&hellip;</td><td>&hellip;</td><td>&hellip;</td><td>&hellip;</td><td>&hellip;</td><td>&hellip;</td><td>&hellip;</td><td>&hellip;</td><td>&hellip;</td><td>&hellip;</td><td>&hellip;</td><td>&hellip;</td><td>&hellip;</td><td>&hellip;</td><td>&hellip;</td><td>&hellip;</td><td>&hellip;</td><td>&hellip;</td><td>&hellip;</td><td>&hellip;</td><td>&hellip;</td><td>&hellip;</td><td>&hellip;</td><td>&hellip;</td><td>&hellip;</td><td>&hellip;</td><td>&hellip;</td><td>&hellip;</td><td>&hellip;</td><td>&hellip;</td><td>&hellip;</td><td>&hellip;</td><td>&hellip;</td><td>&hellip;</td><td>&hellip;</td><td>&hellip;</td><td>&hellip;</td><td>&hellip;</td><td>&hellip;</td><td>&hellip;</td><td>&hellip;</td><td>&hellip;</td><td>&hellip;</td><td>&hellip;</td><td>&hellip;</td><td>&hellip;</td><td>&hellip;</td><td>&hellip;</td><td>&hellip;</td><td>&hellip;</td><td>&hellip;</td><td>&hellip;</td><td>&hellip;</td><td>&hellip;</td><td>&hellip;</td><td>&hellip;</td><td>&hellip;</td><td>&hellip;</td><td>&hellip;</td><td>&hellip;</td><td>&hellip;</td><td>&hellip;</td><td>&hellip;</td><td>&hellip;</td><td>&hellip;</td><td>&hellip;</td><td>&hellip;</td><td>&hellip;</td><td>&hellip;</td><td>&hellip;</td><td>&hellip;</td><td>&hellip;</td><td>&hellip;</td><td>&hellip;</td><td>&hellip;</td><td>&hellip;</td><td>&hellip;</td><td>&hellip;</td><td>&hellip;</td><td>&hellip;</td><td>&hellip;</td><td>&hellip;</td><td>&hellip;</td><td>&hellip;</td><td>&hellip;</td><td>&hellip;</td><td>&hellip;</td><td>&hellip;</td><td>&hellip;</td><td>&hellip;</td><td>&hellip;</td><td>&hellip;</td><td>&hellip;</td><td>&hellip;</td><td>&hellip;</td><td>&hellip;</td><td>&hellip;</td><td>&hellip;</td><td>&hellip;</td><td>&hellip;</td><td>&hellip;</td><td>&hellip;</td><td>&hellip;</td><td>&hellip;</td><td>&hellip;</td><td>&hellip;</td><td>&hellip;</td><td>&hellip;</td><td>&hellip;</td><td>&hellip;</td><td>&hellip;</td><td>&hellip;</td><td>&hellip;</td><td>&hellip;</td><td>&hellip;</td><td>&hellip;</td><td>&hellip;</td><td>&hellip;</td><td>&hellip;</td><td>&hellip;</td><td>&hellip;</td><td>&hellip;</td><td>&hellip;</td><td>&hellip;</td><td>&hellip;</td><td>&hellip;</td><td>&hellip;</td><td>&hellip;</td><td>&hellip;</td><td>&hellip;</td><td>&hellip;</td><td>&hellip;</td><td>&hellip;</td><td>&hellip;</td><td>&hellip;</td><td>&hellip;</td><td>&hellip;</td><td>&hellip;</td><td>&hellip;</td><td>&hellip;</td><td>&hellip;</td><td>&hellip;</td><td>&hellip;</td><td>&hellip;</td><td>&hellip;</td><td>&hellip;</td><td>&hellip;</td><td>&hellip;</td><td>&hellip;</td><td>&hellip;</td><td>&hellip;</td><td>&hellip;</td><td>&hellip;</td><td>&hellip;</td><td>&hellip;</td><td>&hellip;</td><td>&hellip;</td><td>&hellip;</td><td>&hellip;</td><td>&hellip;</td><td>&hellip;</td><td>&hellip;</td><td>&hellip;</td><td>&hellip;</td><td>&hellip;</td><td>&hellip;</td><td>&hellip;</td><td>&hellip;</td><td>&hellip;</td><td>&hellip;</td><td>&hellip;</td><td>&hellip;</td><td>&hellip;</td><td>&hellip;</td><td>&hellip;</td><td>&hellip;</td><td>&hellip;</td><td>&hellip;</td><td>&hellip;</td><td>&hellip;</td><td>&hellip;</td><td>&hellip;</td><td>&hellip;</td><td>&hellip;</td><td>&hellip;</td><td>&hellip;</td><td>&hellip;</td><td>&hellip;</td><td>&hellip;</td><td>&hellip;</td><td>&hellip;</td><td>&hellip;</td><td>&hellip;</td><td>&hellip;</td><td>&hellip;</td><td>&hellip;</td><td>&hellip;</td><td>&hellip;</td><td>&hellip;</td><td>&hellip;</td><td>&hellip;</td><td>&hellip;</td><td>&hellip;</td><td>&hellip;</td><td>&hellip;</td><td>&hellip;</td><td>&hellip;</td><td>&hellip;</td><td>&hellip;</td><td>&hellip;</td><td>&hellip;</td><td>&hellip;</td><td>&hellip;</td><td>&hellip;</td><td>&hellip;</td><td>&hellip;</td><td>&hellip;</td><td>&hellip;</td><td>&hellip;</td><td>&hellip;</td><td>&hellip;</td><td>&hellip;</td><td>&hellip;</td><td>&hellip;</td><td>&hellip;</td><td>&hellip;</td><td>&hellip;</td><td>&hellip;</td><td>&hellip;</td><td>&hellip;</td><td>&hellip;</td><td>&hellip;</td><td>&hellip;</td><td>&hellip;</td><td>&hellip;</td><td>&hellip;</td><td>&hellip;</td><td>&hellip;</td><td>&hellip;</td><td>&hellip;</td><td>&hellip;</td><td>&hellip;</td><td>&hellip;</td><td>&hellip;</td><td>&hellip;</td><td>&hellip;</td><td>&hellip;</td><td>&hellip;</td><td>&hellip;</td><td>&hellip;</td><td>&hellip;</td><td>&hellip;</td><td>&hellip;</td><td>&hellip;</td><td>&hellip;</td><td>&hellip;</td><td>&hellip;</td><td>&hellip;</td><td>&hellip;</td><td>&hellip;</td><td>&hellip;</td><td>&hellip;</td><td>&hellip;</td><td>&hellip;</td><td>&hellip;</td><td>&hellip;</td><td>&hellip;</td><td>&hellip;</td><td>&hellip;</td><td>&hellip;</td><td>&hellip;</td><td>&hellip;</td><td>&hellip;</td><td>&hellip;</td><td>&hellip;</td><td>&hellip;</td><td>&hellip;</td><td>&hellip;</td><td>&hellip;</td><td>&hellip;</td><td>&hellip;</td><td>&hellip;</td><td>&hellip;</td><td>&hellip;</td><td>&hellip;</td><td>&hellip;</td><td>&hellip;</td><td>&hellip;</td><td>&hellip;</td><td>&hellip;</td><td>&hellip;</td><td>&hellip;</td><td>&hellip;</td><td>&hellip;</td><td>&hellip;</td><td>&hellip;</td><td>&hellip;</td><td>&hellip;</td><td>&hellip;</td><td>&hellip;</td><td>&hellip;</td><td>&hellip;</td><td>&hellip;</td><td>&hellip;</td><td>&hellip;</td><td>&hellip;</td><td>&hellip;</td><td>&hellip;</td><td>&hellip;</td><td>&hellip;</td><td>&hellip;</td><td>&hellip;</td><td>&hellip;</td><td>&hellip;</td><td>&hellip;</td><td>&hellip;</td><td>&hellip;</td><td>&hellip;</td><td>&hellip;</td><td>&hellip;</td><td>&hellip;</td><td>&hellip;</td><td>&hellip;</td><td>&hellip;</td><td>&hellip;</td><td>&hellip;</td><td>&hellip;</td><td>&hellip;</td><td>&hellip;</td><td>&hellip;</td><td>&hellip;</td><td>&hellip;</td><td>&hellip;</td><td>&hellip;</td><td>&hellip;</td><td>&hellip;</td><td>&hellip;</td><td>&hellip;</td><td>&hellip;</td><td>&hellip;</td><td>&hellip;</td><td>&hellip;</td><td>&hellip;</td><td>&hellip;</td><td>&hellip;</td><td>&hellip;</td><td>&hellip;</td><td>&hellip;</td><td>&hellip;</td><td>&hellip;</td><td>&hellip;</td><td>&hellip;</td><td>&hellip;</td><td>&hellip;</td><td>&hellip;</td><td>&hellip;</td><td>&hellip;</td><td>&hellip;</td><td>&hellip;</td><td>&hellip;</td><td>&hellip;</td><td>&hellip;</td><td>&hellip;</td><td>&hellip;</td><td>&hellip;</td><td>&hellip;</td><td>&hellip;</td><td>&hellip;</td><td>&hellip;</td><td>&hellip;</td><td>&hellip;</td><td>&hellip;</td><td>&hellip;</td><td>&hellip;</td><td>&hellip;</td><td>&hellip;</td><td>&hellip;</td><td>&hellip;</td><td>&hellip;</td><td>&hellip;</td><td>&hellip;</td><td>&hellip;</td><td>&hellip;</td><td>&hellip;</td><td>&hellip;</td><td>&hellip;</td><td>&hellip;</td><td>&hellip;</td><td>&hellip;</td><td>&hellip;</td><td>&hellip;</td><td>&hellip;</td><td>&hellip;</td><td>&hellip;</td><td>&hellip;</td><td>&hellip;</td><td>&hellip;</td><td>&hellip;</td><td>&hellip;</td><td>&hellip;</td><td>&hellip;</td><td>&hellip;</td><td>&hellip;</td><td>&hellip;</td><td>&hellip;</td><td>&hellip;</td><td>&hellip;</td><td>&hellip;</td><td>&hellip;</td><td>&hellip;</td><td>&hellip;</td><td>&hellip;</td><td>&hellip;</td><td>&hellip;</td><td>&hellip;</td><td>&hellip;</td><td>&hellip;</td><td>&hellip;</td><td>&hellip;</td><td>&hellip;</td><td>&hellip;</td><td>&hellip;</td><td>&hellip;</td><td>&hellip;</td><td>&hellip;</td><td>&hellip;</td><td>&hellip;</td><td>&hellip;</td><td>&hellip;</td><td>&hellip;</td><td>&hellip;</td><td>&hellip;</td><td>&hellip;</td><td>&hellip;</td><td>&hellip;</td><td>&hellip;</td><td>&hellip;</td><td>&hellip;</td><td>&hellip;</td><td>&hellip;</td><td>&hellip;</td><td>&hellip;</td><td>&hellip;</td><td>&hellip;</td><td>&hellip;</td><td>&hellip;</td><td>&hellip;</td><td>&hellip;</td><td>&hellip;</td><td>&hellip;</td><td>&hellip;</td><td>&hellip;</td><td>&hellip;</td><td>&hellip;</td><td>&hellip;</td><td>&hellip;</td><td>&hellip;</td><td>&hellip;</td><td>&hellip;</td><td>&hellip;</td><td>&hellip;</td><td>&hellip;</td><td>&hellip;</td><td>&hellip;</td><td>&hellip;</td><td>&hellip;</td><td>&hellip;</td><td>&hellip;</td><td>&hellip;</td><td>&hellip;</td><td>&hellip;</td><td>&hellip;</td><td>&hellip;</td><td>&hellip;</td><td>&hellip;</td><td>&hellip;</td><td>&hellip;</td><td>&hellip;</td><td>&hellip;</td><td>&hellip;</td><td>&hellip;</td><td>&hellip;</td><td>&hellip;</td><td>&hellip;</td><td>&hellip;</td><td>&hellip;</td><td>&hellip;</td><td>&hellip;</td><td>&hellip;</td><td>&hellip;</td><td>&hellip;</td><td>&hellip;</td><td>&hellip;</td><td>&hellip;</td><td>&hellip;</td><td>&hellip;</td><td>&hellip;</td><td>&hellip;</td><td>&hellip;</td><td>&hellip;</td><td>&hellip;</td><td>&hellip;</td><td>&hellip;</td><td>&hellip;</td><td>&hellip;</td><td>&hellip;</td><td>&hellip;</td><td>&hellip;</td><td>&hellip;</td><td>&hellip;</td><td>&hellip;</td><td>&hellip;</td><td>&hellip;</td><td>&hellip;</td><td>&hellip;</td><td>&hellip;</td><td>&hellip;</td><td>&hellip;</td><td>&hellip;</td><td>&hellip;</td><td>&hellip;</td><td>&hellip;</td><td>&hellip;</td><td>&hellip;</td><td>&hellip;</td><td>&hellip;</td><td>&hellip;</td><td>&hellip;</td><td>&hellip;</td><td>&hellip;</td><td>&hellip;</td><td>&hellip;</td><td>&hellip;</td><td>&hellip;</td><td>&hellip;</td><td>&hellip;</td><td>&hellip;</td><td>&hellip;</td><td>&hellip;</td><td>&hellip;</td><td>&hellip;</td><td>&hellip;</td><td>&hellip;</td><td>&hellip;</td><td>&hellip;</td><td>&hellip;</td><td>&hellip;</td><td>&hellip;</td><td>&hellip;</td><td>&hellip;</td><td>&hellip;</td><td>&hellip;</td></tr><tr><td>&quot;test_578220&quot;</td><td>216.890815</td><td>228.911969</td><td>236.654694</td><td>248.999301</td><td>256.380631</td><td>262.360629</td><td>257.791873</td><td>247.516488</td><td>237.795226</td><td>229.436973</td><td>223.840848</td><td>218.987149</td><td>214.455152</td><td>210.253412</td><td>203.824493</td><td>199.018916</td><td>190.877131</td><td>187.290404</td><td>189.283493</td><td>192.703953</td><td>198.790497</td><td>204.75373</td><td>211.289415</td><td>216.767319</td><td>222.771484</td><td>229.002498</td><td>234.251775</td><td>238.515072</td><td>242.568077</td><td>246.318855</td><td>249.8327</td><td>253.30477</td><td>256.479256</td><td>259.042021</td><td>261.275334</td><td>263.220048</td><td>265.786259</td><td>268.676433</td><td>271.683228</td><td>274.397627</td><td>276.69573</td><td>278.639437</td><td>279.652864</td><td>280.506063</td><td>281.797042</td><td>282.946524</td><td>284.163682</td><td>285.338408</td><td>286.560372</td><td>287.636299</td><td>288.569201</td><td>289.563614</td><td>290.323918</td><td>291.006692</td><td>291.721293</td><td>292.790759</td><td>293.872266</td><td>295.051167</td><td>296.262226</td><td>297.495878</td><td>0.000002</td><td>0.000002</td><td>0.000002</td><td>0.000002</td><td>0.000002</td><td>0.000002</td><td>0.000002</td><td>0.000002</td><td>0.000002</td><td>0.000002</td><td>0.000002</td><td>0.000002</td><td>0.000002</td><td>0.000002</td><td>0.000002</td><td>0.000002</td><td>0.000002</td><td>0.000002</td><td>0.000002</td><td>0.000003</td><td>0.000004</td><td>0.000007</td><td>0.000011</td><td>0.000033</td><td>0.000083</td><td>0.000159</td><td>0.000292</td><td>0.000407</td><td>0.000431</td><td>0.000365</td><td>0.000301</td><td>0.000298</td><td>0.00038</td><td>0.000684</td><td>0.001178</td><td>0.001932</td><td>0.002519</td><td>0.002905</td><td>0.003077</td><td>0.003199</td><td>0.00336</td><td>0.003508</td><td>0.004223</td><td>0.005404</td><td>0.006593</td><td>0.00726</td><td>0.008064</td><td>0.008769</td><td>0.008992</td><td>0.009276</td><td>0.009807</td><td>0.010232</td><td>0.010999</td><td>0.011914</td><td>0.013087</td><td>0.013428</td><td>0.013801</td><td>0.013912</td><td>0.013956</td><td>0.01404</td><td>1.0255e-37</td><td>9.6831e-38</td><td>8.5105e-38</td><td>7.4848e-38</td><td>6.6743e-38</td><td>5.5362e-38</td><td>5.2533e-38</td><td>3.8248e-38</td><td>3.3658e-38</td><td>1.9240e-38</td><td>1.7839e-38</td><td>9.5738e-39</td><td>5.7609e-44</td><td>1.2903e-47</td><td>5.4957e-54</td><td>0.0</td><td>0.0</td><td>0.0</td><td>0.0</td><td>0.0</td><td>9.9242e-53</td><td>2.2527e-48</td><td>3.0741e-44</td><td>3.2172e-40</td><td>7.4653e-37</td><td>3.0357e-32</td><td>1.3435e-27</td><td>1.9898e-23</td><td>5.8084e-19</td><td>1.2265e-14</td><td>6.1973e-11</td><td>1.8722e-8</td><td>0.0</td><td>0.0</td><td>6.4923e-8</td><td>5.2863e-7</td><td>7.0171e-7</td><td>0.000001</td><td>0.000002</td><td>0.000003</td><td>0.000003</td><td>6.5247e-8</td><td>6.5122e-8</td><td>0.000002</td><td>0.000052</td><td>0.000006</td><td>0.000017</td><td>0.000004</td><td>0.000002</td><td>0.00001</td><td>0.000011</td><td>0.000011</td><td>0.000006</td><td>9.2283e-7</td><td>0.000002</td><td>0.000001</td><td>5.3185e-7</td><td>4.9293e-7</td><td>1.4069e-8</td><td>5.0483e-8</td><td>6.1028e-12</td><td>6.5125e-12</td><td>6.8174e-12</td><td>7.7943e-12</td><td>8.1095e-12</td><td>8.3080e-12</td><td>6.3072e-12</td><td>4.2078e-12</td><td>2.4430e-12</td><td>1.3018e-12</td><td>7.4322e-13</td><td>3.4289e-13</td><td>1.9021e-18</td><td>4.1825e-22</td><td>5.6206e-22</td><td>3.4514e-16</td><td>5.5620e-10</td><td>8.8530e-8</td><td>1.0012e-7</td><td>8.7511e-8</td><td>2.6333e-10</td><td>0.0</td><td>0.0</td><td>3.5540e-7</td><td>0.000002</td><td>0.000004</td><td>0.000002</td><td>0.000003</td><td>0.000002</td><td>0.000002</td><td>8.7206e-7</td><td>6.0768e-9</td><td>2.2670e-9</td><td>2.2869e-7</td><td>3.2742e-7</td><td>6.0206e-7</td><td>1.1166e-7</td><td>1.9000e-7</td><td>1.5679e-7</td><td>2.1275e-7</td><td>1.5721e-7</td><td>1.3016e-7</td><td>6.8575e-8</td><td>7.3267e-8</td><td>3.4838e-8</td><td>6.8420e-10</td><td>3.6097e-9</td><td>2.8057e-9</td><td>9.6009e-9</td><td>2.1185e-11</td><td>0.0</td><td>0.0</td><td>4.3523e-12</td><td>8.7768e-10</td><td>2.2667e-11</td><td>0.0</td><td>0.0</td><td>0.0</td><td>0.0</td><td>0.0</td><td>51.209186</td><td>42.419439</td><td>37.281976</td><td>35.648045</td><td>34.451416</td><td>27.809329</td><td>29.607586</td><td>22.240679</td><td>14.340837</td><td>8.470471</td><td>6.683759</td><td>6.85706</td><td>4.737829</td><td>0.168345</td><td>-1.061041</td><td>2.411994</td><td>7.735285</td><td>15.792098</td><td>26.320675</td><td>34.2857</td><td>40.828029</td><td>46.740835</td><td>48.625057</td><td>48.333362</td><td>48.036965</td><td>47.471239</td><td>46.671519</td><td>43.513668</td><td>39.277116</td><td>33.958462</td><td>28.955049</td><td>24.944975</td><td>22.012148</td><td>20.014659</td><td>18.198438</td><td>16.515235</td><td>15.106666</td><td>13.656904</td><td>12.162052</td><td>10.343934</td><td>8.465571</td><td>6.611452</td><td>5.051228</td><td>3.98619</td><td>3.31151</td><td>2.529246</td><td>1.652807</td><td>0.781019</td><td>-0.040192</td><td>-0.972076</td><td>-1.912147</td><td>-2.710149</td><td>-3.392743</td><td>-4.092902</td><td>-4.537605</td><td>-4.577928</td><td>-4.500485</td><td>-4.448912</td><td>-4.368188</td><td>-4.2399</td><td>18.015506</td><td>-22.50621</td><td>-17.31347</td><td>4.918476</td><td>3.765759</td><td>10.192913</td><td>-5.364113</td><td>-4.811059</td><td>-1.97306</td><td>0.720158</td><td>1.511261</td><td>1.277531</td><td>1.426816</td><td>0.514734</td><td>-1.303389</td><td>-1.287716</td><td>-3.50673</td><td>-6.756223</td><td>-9.073841</td><td>-9.815227</td><td>-11.015977</td><td>-5.496088</td><td>5.424886</td><td>8.262681</td><td>6.32565</td><td>2.571159</td><td>-2.623422</td><td>-7.753617</td><td>-11.240746</td><td>-11.856614</td><td>-10.227195</td><td>-6.929758</td><td>-3.456147</td><td>-0.885487</td><td>0.784514</td><td>2.280307</td><td>3.467787</td><td>3.767892</td><td>3.505961</td><td>2.9427</td><td>2.405072</td><td>2.17702</td><td>2.406374</td><td>2.76599</td><td>2.591751</td><td>2.23986</td><td>1.978571</td><td>1.810335</td><td>1.67127</td><td>1.597733</td><td>1.515346</td><td>1.431827</td><td>1.240866</td><td>1.098105</td><td>0.36846</td><td>0.05819</td><td>-0.301357</td><td>-0.440503</td><td>-0.53131</td><td>-0.596656</td><td>100806.042921</td><td>898.336286</td><td>98.588601</td><td>5.033812</td><td>0.023682</td><td>0.003176</td><td>0.638527</td><td>0.06</td><td>0.048138</td><td>0.06</td><td>0.048138</td><td>452.465195</td><td>0.0</td><td>0.0</td><td>1.0</td><td>0.0</td><td>3.0087e-7</td><td>5.4188e-7</td><td>9.7127e-7</td><td>0.000002</td><td>0.000003</td><td>0.000005</td><td>0.000009</td><td>0.000014</td><td>0.000015</td><td>0.000015</td><td>0.000015</td><td>0.000012</td><td>0.000009</td><td>0.000006</td><td>0.000003</td><td>0.000002</td><td>0.000001</td><td>4.2125e-7</td><td>1.8415e-7</td><td>1.1659e-7</td><td>8.8404e-8</td><td>7.2384e-8</td><td>6.2100e-8</td><td>5.6742e-8</td><td>5.5711e-8</td><td>5.5654e-8</td><td>5.6333e-8</td><td>5.7553e-8</td><td>5.8866e-8</td><td>6.0504e-8</td><td>6.2214e-8</td><td>6.3771e-8</td><td>6.5290e-8</td><td>6.6536e-8</td><td>6.7011e-8</td><td>6.7497e-8</td><td>6.7260e-8</td><td>6.6603e-8</td><td>6.5950e-8</td><td>6.4816e-8</td><td>6.3419e-8</td><td>6.2086e-8</td><td>6.0839e-8</td><td>5.9843e-8</td><td>5.8898e-8</td><td>5.7999e-8</td><td>5.7167e-8</td><td>5.6854e-8</td><td>5.6560e-8</td><td>5.6286e-8</td><td>5.6029e-8</td><td>5.6050e-8</td><td>5.6322e-8</td><td>5.6588e-8</td><td>5.6850e-8</td><td>5.7079e-8</td><td>5.7031e-8</td><td>5.6982e-8</td><td>5.6929e-8</td><td>5.6862e-8</td><td>1.8144e-7</td><td>2.0838e-7</td><td>2.3905e-7</td><td>2.7365e-7</td><td>3.1218e-7</td><td>3.5435e-7</td><td>3.9957e-7</td><td>4.4702e-7</td><td>4.9579e-7</td><td>5.4511e-7</td><td>5.9445e-7</td><td>6.4356e-7</td><td>6.9232e-7</td><td>7.4062e-7</td><td>7.8819e-7</td><td>8.3464e-7</td><td>8.7954e-7</td><td>9.2259e-7</td><td>9.6366e-7</td><td>9.9861e-7</td><td>9.9861e-7</td><td>9.9861e-7</td><td>9.9861e-7</td><td>9.9861e-7</td><td>9.9861e-7</td><td>9.9861e-7</td><td>9.9861e-7</td><td>9.9861e-7</td><td>9.9861e-7</td><td>9.9861e-7</td><td>9.9861e-7</td><td>9.9861e-7</td><td>9.9861e-7</td><td>9.9861e-7</td><td>9.9861e-7</td><td>9.9861e-7</td><td>9.9861e-7</td><td>9.9861e-7</td><td>9.9861e-7</td><td>9.9861e-7</td><td>9.9861e-7</td><td>9.9861e-7</td><td>9.9861e-7</td><td>9.9861e-7</td><td>9.9861e-7</td><td>9.9861e-7</td><td>9.9861e-7</td><td>9.9861e-7</td><td>9.9861e-7</td><td>9.9861e-7</td><td>9.9861e-7</td><td>9.9861e-7</td><td>9.9861e-7</td><td>9.9861e-7</td><td>9.9861e-7</td><td>9.9861e-7</td><td>9.9861e-7</td><td>9.9861e-7</td><td>9.9861e-7</td><td>9.9861e-7</td><td>3.4774e-8</td><td>4.3110e-8</td><td>5.3352e-8</td><td>6.5808e-8</td><td>8.0738e-8</td><td>9.8287e-8</td><td>1.1843e-7</td><td>1.4097e-7</td><td>1.6555e-7</td><td>1.9180e-7</td><td>2.1942e-7</td><td>2.4819e-7</td><td>2.7798e-7</td><td>3.0866e-7</td><td>3.3997e-7</td><td>3.7158e-7</td><td>4.0306e-7</td><td>4.3409e-7</td><td>4.6445e-7</td><td>4.9086e-7</td><td>4.9086e-7</td><td>4.9086e-7</td><td>4.9086e-7</td><td>4.9086e-7</td><td>4.9086e-7</td><td>4.9086e-7</td><td>4.9086e-7</td><td>4.9086e-7</td><td>4.9086e-7</td><td>4.9086e-7</td><td>4.9086e-7</td><td>4.9086e-7</td><td>4.9086e-7</td><td>4.9086e-7</td><td>4.9086e-7</td><td>4.9086e-7</td><td>4.9086e-7</td><td>4.9086e-7</td><td>4.9086e-7</td><td>4.9086e-7</td><td>4.9086e-7</td><td>4.9086e-7</td><td>4.9086e-7</td><td>4.9086e-7</td><td>4.9086e-7</td><td>4.9086e-7</td><td>4.9086e-7</td><td>4.9086e-7</td><td>4.9086e-7</td><td>4.9086e-7</td><td>4.9086e-7</td><td>4.9086e-7</td><td>4.9086e-7</td><td>4.9086e-7</td><td>4.9086e-7</td><td>4.9086e-7</td><td>4.9086e-7</td><td>4.9086e-7</td><td>4.9086e-7</td><td>4.9086e-7</td></tr><tr><td>&quot;test_395695&quot;</td><td>215.417881</td><td>229.137757</td><td>237.973745</td><td>246.218479</td><td>259.189075</td><td>260.83965</td><td>258.333569</td><td>253.231639</td><td>238.788101</td><td>228.37941</td><td>223.069909</td><td>220.787349</td><td>216.499705</td><td>210.730831</td><td>203.953776</td><td>194.718664</td><td>188.666371</td><td>184.449184</td><td>186.865067</td><td>191.698841</td><td>198.851628</td><td>204.828501</td><td>209.950302</td><td>215.456475</td><td>222.533569</td><td>228.906147</td><td>234.612552</td><td>239.638282</td><td>244.021863</td><td>248.023302</td><td>251.402328</td><td>254.368986</td><td>257.646144</td><td>261.002444</td><td>263.9314</td><td>266.801316</td><td>270.141455</td><td>273.535375</td><td>276.593705</td><td>279.327132</td><td>281.5978</td><td>282.528064</td><td>282.734895</td><td>283.418812</td><td>284.320428</td><td>285.386803</td><td>286.568874</td><td>287.784512</td><td>288.781688</td><td>289.612918</td><td>290.449955</td><td>291.255506</td><td>292.038606</td><td>292.838503</td><td>293.709285</td><td>294.597545</td><td>295.368287</td><td>296.335054</td><td>297.440068</td><td>298.650933</td><td>0.000002</td><td>0.000002</td><td>0.000002</td><td>0.000002</td><td>0.000002</td><td>0.000002</td><td>0.000002</td><td>0.000002</td><td>0.000002</td><td>0.000002</td><td>0.000002</td><td>0.000002</td><td>0.000002</td><td>0.000002</td><td>0.000002</td><td>0.000001</td><td>8.4727e-7</td><td>8.2581e-7</td><td>8.5970e-7</td><td>0.000002</td><td>0.000004</td><td>0.000005</td><td>0.000011</td><td>0.000041</td><td>0.000088</td><td>0.000153</td><td>0.000277</td><td>0.000499</td><td>0.000745</td><td>0.000997</td><td>0.001312</td><td>0.001584</td><td>0.001726</td><td>0.001856</td><td>0.00193</td><td>0.00191</td><td>0.001777</td><td>0.001588</td><td>0.001456</td><td>0.001428</td><td>0.001544</td><td>0.002432</td><td>0.005559</td><td>0.007683</td><td>0.009252</td><td>0.010312</td><td>0.011117</td><td>0.011551</td><td>0.011978</td><td>0.012544</td><td>0.013048</td><td>0.013556</td><td>0.014097</td><td>0.014605</td><td>0.015051</td><td>0.015457</td><td>0.016214</td><td>0.016736</td><td>0.017014</td><td>0.017099</td><td>1.0195e-37</td><td>9.5385e-38</td><td>8.4813e-38</td><td>7.8176e-38</td><td>6.7270e-38</td><td>5.3512e-38</td><td>4.2916e-38</td><td>3.2226e-38</td><td>1.7679e-38</td><td>4.7905e-39</td><td>1.2387e-39</td><td>5.4993e-40</td><td>9.5386e-45</td><td>1.8132e-48</td><td>4.0479e-54</td><td>0.0</td><td>0.0</td><td>0.0</td><td>0.0</td><td>0.0</td><td>0.0</td><td>1.2306e-50</td><td>2.4816e-45</td><td>2.7617e-39</td><td>1.6750e-35</td><td>4.6384e-31</td><td>1.5931e-26</td><td>3.3353e-22</td><td>6.6828e-18</td><td>6.7236e-14</td><td>3.6194e-10</td><td>2.8905e-8</td><td>5.0545e-8</td><td>2.7186e-8</td><td>1.3351e-8</td><td>3.3022e-9</td><td>0.0</td><td>0.0</td><td>0.0</td><td>0.0</td><td>0.0</td><td>2.9953e-7</td><td>0.00002</td><td>0.000009</td><td>0.000016</td><td>0.000008</td><td>0.00002</td><td>0.000013</td><td>0.00001</td><td>0.000008</td><td>0.000011</td><td>0.000008</td><td>0.000011</td><td>0.000017</td><td>0.000014</td><td>0.000006</td><td>0.000002</td><td>5.9203e-8</td><td>2.8390e-9</td><td>8.3071e-9</td><td>6.1567e-12</td><td>6.5463e-12</td><td>7.6386e-12</td><td>9.8801e-12</td><td>8.5007e-12</td><td>9.6855e-12</td><td>7.4884e-12</td><td>6.0782e-12</td><td>3.9052e-12</td><td>1.9818e-12</td><td>9.4869e-13</td><td>1.3513e-13</td><td>6.3659e-19</td><td>1.0206e-22</td><td>1.6182e-27</td><td>1.9016e-17</td><td>1.1009e-11</td><td>2.2732e-9</td><td>7.3264e-9</td><td>1.3369e-8</td><td>6.2237e-10</td><td>1.2517e-9</td><td>3.5348e-8</td><td>0.000007</td><td>0.000016</td><td>0.000018</td><td>0.000017</td><td>0.000019</td><td>0.00002</td><td>0.000016</td><td>0.000004</td><td>0.000002</td><td>6.0101e-7</td><td>8.9458e-8</td><td>1.5849e-8</td><td>4.6950e-9</td><td>2.5531e-10</td><td>0.0</td><td>0.0</td><td>0.0</td><td>0.0</td><td>0.0</td><td>0.0</td><td>0.0</td><td>0.0</td><td>0.0</td><td>0.0</td><td>0.0</td><td>0.0</td><td>0.0</td><td>0.0</td><td>0.0</td><td>4.1408e-12</td><td>0.0</td><td>0.0</td><td>0.0</td><td>7.4422e-14</td><td>1.3707e-13</td><td>2.2438e-13</td><td>0.0</td><td>20.524008</td><td>11.802658</td><td>-1.470289</td><td>-11.650991</td><td>0.527938</td><td>-13.068308</td><td>-0.530987</td><td>-6.100695</td><td>-11.254077</td><td>-7.793831</td><td>-3.578696</td><td>2.155702</td><td>-0.065155</td><td>-3.212529</td><td>-5.278644</td><td>-2.017981</td><td>9.459058</td><td>16.106525</td><td>20.314203</td><td>24.469862</td><td>28.051703</td><td>29.734808</td><td>29.425833</td><td>30.037842</td><td>30.483579</td><td>30.392413</td><td>29.19196</td><td>26.62855</td><td>24.036171</td><td>21.964985</td><td>20.16926</td><td>18.769084</td><td>17.378007</td><td>15.586056</td><td>12.791198</td><td>9.759307</td><td>7.330399</td><td>5.099918</td><td>2.462769</td><td>-0.475358</td><td>-3.580935</td><td>-6.801777</td><td>-9.821074</td><td>-11.137475</td><td>-11.234591</td><td>-10.841384</td><td>-9.942276</td><td>-8.949552</td><td>-8.185709</td><td>-7.528274</td><td>-6.958012</td><td>-6.406455</td><td>-5.896166</td><td>-5.402691</td><td>-4.908382</td><td>-4.420759</td><td>-3.736797</td><td>-3.195257</td><td>-2.809322</td><td>-2.64099</td><td>-1.339814</td><td>-16.644096</td><td>-2.232021</td><td>11.885605</td><td>1.024442</td><td>0.578848</td><td>-4.366504</td><td>-0.900303</td><td>0.291313</td><td>-0.477247</td><td>1.80855</td><td>0.961809</td><td>0.369959</td><td>-0.326075</td><td>-1.623963</td><td>-0.154821</td><td>3.037685</td><td>-1.834551</td><td>-11.397085</td><td>-17.255997</td><td>-20.447333</td><td>-16.964167</td><td>-11.801245</td><td>-11.611755</td><td>-13.262797</td><td>-14.399235</td><td>-15.262945</td><td>-15.220297</td><td>-14.028617</td><td>-11.76185</td><td>-9.361573</td><td>-6.713737</td><td>-4.097246</td><td>-2.069601</td><td>-0.301056</td><td>1.186739</td><td>1.840707</td><td>1.872513</td><td>1.744303</td><td>1.626873</td><td>1.452098</td><td>1.2803</td><td>1.2355</td><td>1.009737</td><td>0.651134</td><td>0.234168</td><td>-0.27645</td><td>-0.767151</td><td>-1.052228</td><td>-1.148744</td><td>-1.168753</td><td>-1.08572</td><td>-0.953024</td><td>-0.782604</td><td>-0.56262</td><td>-0.399534</td><td>-0.24004</td><td>-0.113426</td><td>-0.029615</td><td>0.005354</td><td>100671.583235</td><td>854.94506</td><td>49.095183</td><td>2.26653</td><td>0.011482</td><td>-0.000041</td><td>0.607685</td><td>0.06</td><td>0.054207</td><td>0.06</td><td>0.054207</td><td>457.907636</td><td>0.0</td><td>0.0</td><td>1.0</td><td>0.0</td><td>3.0920e-7</td><td>5.5688e-7</td><td>9.9815e-7</td><td>0.000002</td><td>0.000003</td><td>0.000005</td><td>0.000009</td><td>0.000014</td><td>0.000016</td><td>0.000017</td><td>0.000016</td><td>0.000013</td><td>0.000009</td><td>0.000006</td><td>0.000003</td><td>0.000002</td><td>7.3905e-7</td><td>2.5238e-7</td><td>1.2105e-7</td><td>8.6844e-8</td><td>7.2369e-8</td><td>6.3178e-8</td><td>5.6360e-8</td><td>5.1582e-8</td><td>4.9421e-8</td><td>4.8068e-8</td><td>4.7286e-8</td><td>4.7727e-8</td><td>4.8320e-8</td><td>4.9717e-8</td><td>5.1208e-8</td><td>5.2622e-8</td><td>5.4034e-8</td><td>5.5389e-8</td><td>5.6554e-8</td><td>5.7748e-8</td><td>5.8021e-8</td><td>5.7819e-8</td><td>5.7618e-8</td><td>5.6221e-8</td><td>5.4234e-8</td><td>5.2337e-8</td><td>5.0674e-8</td><td>5.0012e-8</td><td>4.9384e-8</td><td>4.8787e-8</td><td>4.8249e-8</td><td>4.7991e-8</td><td>4.7749e-8</td><td>4.7523e-8</td><td>4.7311e-8</td><td>4.7032e-8</td><td>4.6711e-8</td><td>4.6398e-8</td><td>4.6090e-8</td><td>4.5797e-8</td><td>4.5562e-8</td><td>4.5324e-8</td><td>4.5140e-8</td><td>4.5077e-8</td><td>1.8501e-7</td><td>2.1249e-7</td><td>2.4376e-7</td><td>2.7904e-7</td><td>3.1833e-7</td><td>3.6133e-7</td><td>4.0745e-7</td><td>4.5583e-7</td><td>5.0557e-7</td><td>5.5586e-7</td><td>6.0617e-7</td><td>6.5625e-7</td><td>7.0597e-7</td><td>7.5522e-7</td><td>8.0373e-7</td><td>8.5110e-7</td><td>8.9688e-7</td><td>9.4077e-7</td><td>9.8265e-7</td><td>9.9861e-7</td><td>9.9861e-7</td><td>9.9861e-7</td><td>9.9861e-7</td><td>9.9861e-7</td><td>9.9861e-7</td><td>9.9861e-7</td><td>9.9861e-7</td><td>9.9861e-7</td><td>9.9861e-7</td><td>9.9861e-7</td><td>9.9861e-7</td><td>9.9861e-7</td><td>9.9861e-7</td><td>9.9861e-7</td><td>9.9861e-7</td><td>9.9861e-7</td><td>9.9861e-7</td><td>9.9861e-7</td><td>9.9861e-7</td><td>9.9861e-7</td><td>9.9861e-7</td><td>9.9861e-7</td><td>9.9861e-7</td><td>9.9861e-7</td><td>9.9861e-7</td><td>9.9861e-7</td><td>9.9861e-7</td><td>9.9861e-7</td><td>9.9861e-7</td><td>9.9861e-7</td><td>9.9861e-7</td><td>9.9861e-7</td><td>9.9861e-7</td><td>9.9861e-7</td><td>9.9861e-7</td><td>9.9861e-7</td><td>9.9861e-7</td><td>9.9861e-7</td><td>9.9861e-7</td><td>9.9861e-7</td><td>3.8830e-8</td><td>4.7824e-8</td><td>5.8800e-8</td><td>7.2065e-8</td><td>8.7863e-8</td><td>1.0632e-7</td><td>1.2738e-7</td><td>1.5081e-7</td><td>1.7625e-7</td><td>2.0328e-7</td><td>2.3159e-7</td><td>2.6097e-7</td><td>2.9129e-7</td><td>3.2240e-7</td><td>3.5406e-7</td><td>3.8592e-7</td><td>4.1759e-7</td><td>4.4871e-7</td><td>4.7911e-7</td><td>4.9086e-7</td><td>4.9086e-7</td><td>4.9086e-7</td><td>4.9086e-7</td><td>4.9086e-7</td><td>4.9086e-7</td><td>4.9086e-7</td><td>4.9086e-7</td><td>4.9086e-7</td><td>4.9086e-7</td><td>4.9086e-7</td><td>4.9086e-7</td><td>4.9086e-7</td><td>4.9086e-7</td><td>4.9086e-7</td><td>4.9086e-7</td><td>4.9086e-7</td><td>4.9086e-7</td><td>4.9086e-7</td><td>4.9086e-7</td><td>4.9086e-7</td><td>4.9086e-7</td><td>4.9086e-7</td><td>4.9086e-7</td><td>4.9086e-7</td><td>4.9086e-7</td><td>4.9086e-7</td><td>4.9086e-7</td><td>4.9086e-7</td><td>4.9086e-7</td><td>4.9086e-7</td><td>4.9086e-7</td><td>4.9086e-7</td><td>4.9086e-7</td><td>4.9086e-7</td><td>4.9086e-7</td><td>4.9086e-7</td><td>4.9086e-7</td><td>4.9086e-7</td><td>4.9086e-7</td><td>4.9086e-7</td></tr><tr><td>&quot;test_88942&quot;</td><td>215.135772</td><td>232.704767</td><td>240.141912</td><td>245.662113</td><td>259.146969</td><td>262.647895</td><td>257.051904</td><td>250.79876</td><td>238.528778</td><td>229.844499</td><td>224.788552</td><td>220.429468</td><td>214.781601</td><td>209.430195</td><td>203.063896</td><td>195.09745</td><td>190.148431</td><td>186.0906</td><td>188.002738</td><td>191.541135</td><td>197.895704</td><td>203.693431</td><td>209.940932</td><td>216.052365</td><td>222.503102</td><td>228.646343</td><td>234.139038</td><td>238.988475</td><td>243.535863</td><td>247.31566</td><td>250.698097</td><td>253.62759</td><td>256.733883</td><td>260.466638</td><td>263.921188</td><td>267.407461</td><td>270.662386</td><td>273.734718</td><td>276.561968</td><td>278.754379</td><td>280.380761</td><td>281.712617</td><td>282.329215</td><td>283.219744</td><td>284.410044</td><td>285.801689</td><td>286.78303</td><td>287.813578</td><td>288.812922</td><td>289.713165</td><td>290.613272</td><td>291.315381</td><td>291.848483</td><td>292.611633</td><td>293.394563</td><td>294.262868</td><td>295.214247</td><td>296.28421</td><td>297.486999</td><td>298.731429</td><td>0.000002</td><td>0.000002</td><td>0.000002</td><td>0.000002</td><td>0.000002</td><td>0.000002</td><td>0.000002</td><td>0.000002</td><td>0.000002</td><td>0.000002</td><td>0.000002</td><td>0.000002</td><td>0.000002</td><td>0.000002</td><td>0.000002</td><td>0.000001</td><td>8.8678e-7</td><td>7.9174e-7</td><td>8.0687e-7</td><td>0.000002</td><td>0.000005</td><td>0.000008</td><td>0.000019</td><td>0.000048</td><td>0.000098</td><td>0.000179</td><td>0.000296</td><td>0.000466</td><td>0.000669</td><td>0.000963</td><td>0.001298</td><td>0.001602</td><td>0.001745</td><td>0.001747</td><td>0.001622</td><td>0.001438</td><td>0.001329</td><td>0.001324</td><td>0.001442</td><td>0.002077</td><td>0.003508</td><td>0.00505</td><td>0.007334</td><td>0.00906</td><td>0.010082</td><td>0.010834</td><td>0.011441</td><td>0.011846</td><td>0.012397</td><td>0.012911</td><td>0.013325</td><td>0.013766</td><td>0.014504</td><td>0.015081</td><td>0.015599</td><td>0.016094</td><td>0.016576</td><td>0.016894</td><td>0.017009</td><td>0.01708</td><td>1.0149e-37</td><td>9.5160e-38</td><td>8.6333e-38</td><td>7.6879e-38</td><td>6.6545e-38</td><td>5.3905e-38</td><td>4.4734e-38</td><td>3.1063e-38</td><td>1.7183e-38</td><td>5.1117e-39</td><td>1.2482e-39</td><td>5.1465e-40</td><td>8.1227e-44</td><td>9.3437e-49</td><td>1.5528e-55</td><td>0.0</td><td>0.0</td><td>0.0</td><td>0.0</td><td>0.0</td><td>6.8628e-57</td><td>7.6737e-54</td><td>7.1301e-49</td><td>2.3488e-44</td><td>0.0</td><td>0.0</td><td>0.0</td><td>0.0</td><td>0.0</td><td>2.1595e-18</td><td>0.0</td><td>0.0</td><td>1.7669e-8</td><td>1.4851e-7</td><td>1.6483e-7</td><td>3.9592e-8</td><td>1.6248e-9</td><td>0.0</td><td>8.2662e-8</td><td>0.000002</td><td>5.0830e-7</td><td>0.000003</td><td>0.000003</td><td>0.000004</td><td>0.000018</td><td>0.000003</td><td>0.000004</td><td>0.000003</td><td>0.000013</td><td>0.000008</td><td>0.00001</td><td>0.000012</td><td>0.000037</td><td>0.000048</td><td>0.000016</td><td>0.00001</td><td>5.5911e-7</td><td>1.4527e-7</td><td>5.1456e-8</td><td>7.2670e-8</td><td>6.2296e-12</td><td>6.5300e-12</td><td>7.9199e-12</td><td>9.4948e-12</td><td>8.6921e-12</td><td>1.0068e-11</td><td>8.7134e-12</td><td>5.9803e-12</td><td>2.7788e-12</td><td>1.5869e-12</td><td>8.2614e-13</td><td>1.4209e-13</td><td>2.1172e-17</td><td>2.2504e-22</td><td>1.8651e-22</td><td>1.9827e-17</td><td>8.4050e-12</td><td>1.5358e-9</td><td>6.6995e-10</td><td>1.1585e-8</td><td>6.7242e-10</td><td>1.3722e-8</td><td>6.3314e-8</td><td>0.000001</td><td>0.000001</td><td>0.000001</td><td>0.000002</td><td>0.000004</td><td>0.000005</td><td>0.000006</td><td>0.000004</td><td>0.000003</td><td>0.000002</td><td>7.2095e-7</td><td>3.2791e-7</td><td>5.2340e-8</td><td>1.9285e-9</td><td>0.0</td><td>2.3510e-10</td><td>0.0</td><td>0.0</td><td>0.0</td><td>0.0</td><td>0.0</td><td>0.0</td><td>0.0</td><td>0.0</td><td>0.0</td><td>0.0</td><td>0.0</td><td>0.0</td><td>0.0</td><td>0.0</td><td>2.6102e-12</td><td>1.1740e-13</td><td>3.6012e-14</td><td>0.0</td><td>0.0</td><td>0.0</td><td>9.8479e-15</td><td>18.722166</td><td>17.760093</td><td>-1.939848</td><td>-1.779939</td><td>2.664798</td><td>-14.812423</td><td>-7.129902</td><td>-6.119783</td><td>-8.868477</td><td>-3.867754</td><td>-3.596304</td><td>-2.56724</td><td>-3.202521</td><td>-2.468386</td><td>-3.474392</td><td>-1.260273</td><td>9.92765</td><td>14.317554</td><td>14.355944</td><td>17.531598</td><td>23.833913</td><td>28.676099</td><td>30.479286</td><td>31.606482</td><td>31.52993</td><td>29.526812</td><td>26.226882</td><td>22.55532</td><td>20.001379</td><td>18.341267</td><td>17.300985</td><td>16.404362</td><td>15.029361</td><td>13.308423</td><td>11.297323</td><td>9.316709</td><td>6.963697</td><td>4.25882</td><td>0.671901</td><td>-3.633249</td><td>-7.402048</td><td>-9.95146</td><td>-10.981887</td><td>-10.959769</td><td>-10.450645</td><td>-9.384851</td><td>-8.314138</td><td>-7.342307</td><td>-6.588866</td><td>-5.945333</td><td>-5.321458</td><td>-4.750257</td><td>-4.135325</td><td>-3.44858</td><td>-2.792322</td><td>-2.184244</td><td>-1.566916</td><td>-1.170932</td><td>-1.053412</td><td>-0.982516</td><td>-10.326599</td><td>-6.535773</td><td>13.815284</td><td>13.229978</td><td>-0.639377</td><td>-0.859063</td><td>-2.666459</td><td>1.556782</td><td>1.795009</td><td>-1.969189</td><td>-1.053233</td><td>-0.142041</td><td>0.655943</td><td>0.261201</td><td>0.367795</td><td>-1.940656</td><td>3.079126</td><td>6.783854</td><td>-1.096384</td><td>-14.557691</td><td>-22.156552</td><td>-24.851334</td><td>-23.142287</td><td>-21.890604</td><td>-21.159727</td><td>-19.664989</td><td>-16.874067</td><td>-12.766769</td><td>-8.934568</td><td>-5.541738</td><td>-2.916226</td><td>-0.26189</td><td>2.370863</td><td>3.873087</td><td>4.10843</td><td>3.933822</td><td>3.493504</td><td>3.175473</td><td>2.937182</td><td>2.648715</td><td>2.409712</td><td>1.985027</td><td>1.620282</td><td>1.209234</td><td>0.86002</td><td>0.475584</td><td>0.007463</td><td>-0.52146</td><td>-1.020854</td><td>-1.433941</td><td>-1.737137</td><td>-1.9217</td><td>-1.984218</td><td>-1.916981</td><td>-1.68363</td><td>-1.347555</td><td>-1.017434</td><td>-0.675494</td><td>-0.55038</td><td>-0.47987</td><td>100274.203432</td><td>654.966094</td><td>34.293045</td><td>1.692516</td><td>0.003738</td><td>0.002162</td><td>0.465542</td><td>0.06</td><td>0.087262</td><td>0.06</td><td>0.087262</td><td>458.870692</td><td>0.0</td><td>0.0</td><td>1.0</td><td>0.0</td><td>3.0892e-7</td><td>5.5639e-7</td><td>9.9727e-7</td><td>0.000002</td><td>0.000003</td><td>0.000005</td><td>0.000009</td><td>0.000014</td><td>0.000016</td><td>0.000017</td><td>0.000016</td><td>0.000013</td><td>0.000009</td><td>0.000006</td><td>0.000003</td><td>0.000002</td><td>7.1570e-7</td><td>2.3401e-7</td><td>1.2068e-7</td><td>8.8657e-8</td><td>7.5348e-8</td><td>6.7453e-8</td><td>6.1790e-8</td><td>5.7566e-8</td><td>5.5494e-8</td><td>5.4143e-8</td><td>5.3332e-8</td><td>5.3835e-8</td><td>5.4537e-8</td><td>5.5551e-8</td><td>5.6623e-8</td><td>5.7807e-8</td><td>5.9063e-8</td><td>6.0487e-8</td><td>6.2320e-8</td><td>6.4197e-8</td><td>6.4768e-8</td><td>6.4460e-8</td><td>6.4153e-8</td><td>6.2693e-8</td><td>6.0425e-8</td><td>5.8260e-8</td><td>5.6232e-8</td><td>5.5930e-8</td><td>5.5642e-8</td><td>5.5369e-8</td><td>5.5110e-8</td><td>5.5123e-8</td><td>5.5151e-8</td><td>5.5177e-8</td><td>5.5202e-8</td><td>5.5037e-8</td><td>5.4532e-8</td><td>5.4040e-8</td><td>5.3554e-8</td><td>5.3068e-8</td><td>5.2618e-8</td><td>5.2167e-8</td><td>5.1717e-8</td><td>5.1601e-8</td><td>1.8497e-7</td><td>2.1244e-7</td><td>2.4371e-7</td><td>2.7898e-7</td><td>3.1826e-7</td><td>3.6125e-7</td><td>4.0735e-7</td><td>4.5573e-7</td><td>5.0545e-7</td><td>5.5573e-7</td><td>6.0603e-7</td><td>6.5610e-7</td><td>7.0581e-7</td><td>7.5505e-7</td><td>8.0355e-7</td><td>8.5090e-7</td><td>8.9668e-7</td><td>9.4056e-7</td><td>9.8243e-7</td><td>9.9861e-7</td><td>9.9861e-7</td><td>9.9861e-7</td><td>9.9861e-7</td><td>9.9861e-7</td><td>9.9861e-7</td><td>9.9861e-7</td><td>9.9861e-7</td><td>9.9861e-7</td><td>9.9861e-7</td><td>9.9861e-7</td><td>9.9861e-7</td><td>9.9861e-7</td><td>9.9861e-7</td><td>9.9861e-7</td><td>9.9861e-7</td><td>9.9861e-7</td><td>9.9861e-7</td><td>9.9861e-7</td><td>9.9861e-7</td><td>9.9861e-7</td><td>9.9861e-7</td><td>9.9861e-7</td><td>9.9861e-7</td><td>9.9861e-7</td><td>9.9861e-7</td><td>9.9861e-7</td><td>9.9861e-7</td><td>9.9861e-7</td><td>9.9861e-7</td><td>9.9861e-7</td><td>9.9861e-7</td><td>9.9861e-7</td><td>9.9861e-7</td><td>9.9861e-7</td><td>9.9861e-7</td><td>9.9861e-7</td><td>9.9861e-7</td><td>9.9861e-7</td><td>9.9861e-7</td><td>9.9861e-7</td><td>3.8754e-8</td><td>4.7736e-8</td><td>5.8700e-8</td><td>7.1951e-8</td><td>8.7736e-8</td><td>1.0618e-7</td><td>1.2723e-7</td><td>1.5065e-7</td><td>1.7607e-7</td><td>2.0309e-7</td><td>2.3140e-7</td><td>2.6078e-7</td><td>2.9109e-7</td><td>3.2220e-7</td><td>3.5387e-7</td><td>3.8573e-7</td><td>4.1740e-7</td><td>4.4853e-7</td><td>4.7893e-7</td><td>4.9086e-7</td><td>4.9086e-7</td><td>4.9086e-7</td><td>4.9086e-7</td><td>4.9086e-7</td><td>4.9086e-7</td><td>4.9086e-7</td><td>4.9086e-7</td><td>4.9086e-7</td><td>4.9086e-7</td><td>4.9086e-7</td><td>4.9086e-7</td><td>4.9086e-7</td><td>4.9086e-7</td><td>4.9086e-7</td><td>4.9086e-7</td><td>4.9086e-7</td><td>4.9086e-7</td><td>4.9086e-7</td><td>4.9086e-7</td><td>4.9086e-7</td><td>4.9086e-7</td><td>4.9086e-7</td><td>4.9086e-7</td><td>4.9086e-7</td><td>4.9086e-7</td><td>4.9086e-7</td><td>4.9086e-7</td><td>4.9086e-7</td><td>4.9086e-7</td><td>4.9086e-7</td><td>4.9086e-7</td><td>4.9086e-7</td><td>4.9086e-7</td><td>4.9086e-7</td><td>4.9086e-7</td><td>4.9086e-7</td><td>4.9086e-7</td><td>4.9086e-7</td><td>4.9086e-7</td><td>4.9086e-7</td></tr><tr><td>&quot;test_79382&quot;</td><td>214.901184</td><td>233.680255</td><td>238.15687</td><td>248.790149</td><td>255.438338</td><td>261.873094</td><td>257.734807</td><td>247.84304</td><td>237.012438</td><td>228.727903</td><td>224.292368</td><td>220.079396</td><td>214.653191</td><td>209.639262</td><td>203.138675</td><td>199.302089</td><td>193.921603</td><td>189.000811</td><td>190.088497</td><td>193.27943</td><td>198.858634</td><td>204.43528</td><td>210.750707</td><td>216.076045</td><td>222.250302</td><td>227.990322</td><td>232.826341</td><td>236.837375</td><td>240.402774</td><td>244.051689</td><td>247.401324</td><td>250.766003</td><td>253.878009</td><td>256.356436</td><td>258.638422</td><td>261.275437</td><td>264.396089</td><td>267.521729</td><td>270.586893</td><td>273.461743</td><td>276.047152</td><td>278.104736</td><td>279.692116</td><td>280.596791</td><td>281.034192</td><td>282.102634</td><td>283.295878</td><td>284.581847</td><td>285.760603</td><td>286.929462</td><td>287.77447</td><td>288.764479</td><td>289.704445</td><td>290.891188</td><td>292.129641</td><td>293.35581</td><td>294.575253</td><td>295.81086</td><td>297.055001</td><td>298.3299</td><td>0.000002</td><td>0.000002</td><td>0.000002</td><td>0.000002</td><td>0.000002</td><td>0.000002</td><td>0.000002</td><td>0.000002</td><td>0.000002</td><td>0.000002</td><td>0.000002</td><td>0.000002</td><td>0.000002</td><td>0.000002</td><td>0.000002</td><td>0.000002</td><td>0.000002</td><td>0.000002</td><td>0.000002</td><td>0.000003</td><td>0.000006</td><td>0.000007</td><td>0.000012</td><td>0.000039</td><td>0.000084</td><td>0.000153</td><td>0.000268</td><td>0.000359</td><td>0.00036</td><td>0.000297</td><td>0.000275</td><td>0.000298</td><td>0.00044</td><td>0.000863</td><td>0.001429</td><td>0.001863</td><td>0.002066</td><td>0.002147</td><td>0.002095</td><td>0.001996</td><td>0.002045</td><td>0.002201</td><td>0.002725</td><td>0.003783</td><td>0.005656</td><td>0.007051</td><td>0.008019</td><td>0.008582</td><td>0.009266</td><td>0.009702</td><td>0.010539</td><td>0.011249</td><td>0.012267</td><td>0.012545</td><td>0.012626</td><td>0.012695</td><td>0.012759</td><td>0.012806</td><td>0.012857</td><td>0.012966</td><td>1.0240e-37</td><td>9.7601e-38</td><td>8.5978e-38</td><td>7.5063e-38</td><td>6.6207e-38</td><td>5.4017e-38</td><td>5.2994e-38</td><td>3.8816e-38</td><td>3.3322e-38</td><td>2.1390e-38</td><td>2.0676e-38</td><td>1.0688e-38</td><td>5.4397e-44</td><td>1.1950e-47</td><td>5.0025e-54</td><td>0.0</td><td>0.0</td><td>0.0</td><td>0.0</td><td>0.0</td><td>4.2262e-54</td><td>1.8205e-49</td><td>3.9505e-45</td><td>2.5968e-40</td><td>8.6021e-37</td><td>3.1059e-32</td><td>1.3330e-27</td><td>1.8119e-23</td><td>2.9816e-19</td><td>2.1595e-18</td><td>0.0</td><td>0.0</td><td>0.0</td><td>3.9384e-8</td><td>7.2420e-8</td><td>1.1810e-7</td><td>1.0490e-7</td><td>1.7525e-7</td><td>1.8097e-7</td><td>0.0</td><td>8.8280e-8</td><td>0.000002</td><td>0.000003</td><td>0.000001</td><td>0.000008</td><td>0.000013</td><td>0.000026</td><td>0.000015</td><td>0.000017</td><td>0.00001</td><td>0.000011</td><td>0.000006</td><td>0.000001</td><td>9.5407e-7</td><td>5.0271e-7</td><td>1.2904e-7</td><td>3.9397e-7</td><td>6.9656e-8</td><td>1.0900e-7</td><td>3.2887e-8</td><td>6.1281e-12</td><td>6.4930e-12</td><td>6.7827e-12</td><td>7.6458e-12</td><td>7.5475e-12</td><td>8.6658e-12</td><td>6.2857e-12</td><td>4.0058e-12</td><td>2.3955e-12</td><td>1.2466e-12</td><td>8.6311e-13</td><td>3.7115e-13</td><td>1.7075e-18</td><td>3.8695e-22</td><td>5.8055e-23</td><td>1.0269e-17</td><td>1.4395e-11</td><td>1.2922e-8</td><td>8.0708e-8</td><td>1.3658e-7</td><td>6.4196e-9</td><td>9.6679e-9</td><td>3.9776e-8</td><td>6.6408e-7</td><td>0.000001</td><td>0.000002</td><td>0.000002</td><td>0.000002</td><td>0.000003</td><td>0.000004</td><td>0.000003</td><td>0.000002</td><td>0.000001</td><td>3.0622e-7</td><td>2.8218e-7</td><td>1.4132e-7</td><td>1.4059e-8</td><td>1.1835e-8</td><td>0.0</td><td>1.1867e-8</td><td>9.3804e-9</td><td>1.1343e-8</td><td>7.1379e-9</td><td>8.4519e-9</td><td>5.6288e-9</td><td>3.8800e-9</td><td>3.3601e-9</td><td>5.0977e-9</td><td>4.7965e-9</td><td>3.0257e-9</td><td>2.7207e-9</td><td>2.4084e-9</td><td>0.0</td><td>8.1785e-10</td><td>2.1322e-11</td><td>0.0</td><td>0.0</td><td>0.0</td><td>0.0</td><td>0.0</td><td>51.985733</td><td>37.025343</td><td>38.208433</td><td>41.439662</td><td>38.001918</td><td>30.190197</td><td>30.021533</td><td>25.929628</td><td>18.735208</td><td>12.256085</td><td>8.290056</td><td>5.35526</td><td>2.954092</td><td>1.004033</td><td>0.758437</td><td>6.619794</td><td>13.552734</td><td>20.842486</td><td>27.181561</td><td>33.445408</td><td>40.895726</td><td>47.974711</td><td>51.218588</td><td>51.514585</td><td>50.413059</td><td>47.723948</td><td>43.560689</td><td>37.232692</td><td>30.558484</td><td>25.744329</td><td>22.663329</td><td>21.501361</td><td>20.784877</td><td>19.586174</td><td>17.881074</td><td>16.178472</td><td>14.704635</td><td>12.95959</td><td>10.988883</td><td>8.957445</td><td>7.166212</td><td>5.421142</td><td>4.073932</td><td>3.030966</td><td>1.935302</td><td>0.898479</td><td>-0.2374</td><td>-1.384259</td><td>-2.503452</td><td>-3.631182</td><td>-4.770764</td><td>-5.135978</td><td>-5.241799</td><td>-5.185748</td><td>-5.096547</td><td>-5.027384</td><td>-4.974548</td><td>-4.901653</td><td>-4.805298</td><td>-4.648118</td><td>-1.965289</td><td>-13.129979</td><td>-5.666485</td><td>10.940575</td><td>4.035544</td><td>13.363701</td><td>-2.62111</td><td>-1.983662</td><td>-0.392965</td><td>1.379843</td><td>1.769408</td><td>0.686781</td><td>0.276895</td><td>0.326928</td><td>-0.402234</td><td>-0.026033</td><td>0.193482</td><td>-3.025883</td><td>-6.598888</td><td>-11.725105</td><td>-15.12488</td><td>-15.234713</td><td>-10.115342</td><td>-8.825838</td><td>-9.523812</td><td>-11.556454</td><td>-13.714868</td><td>-14.100296</td><td>-12.718612</td><td>-8.868519</td><td>-4.939118</td><td>-1.703198</td><td>0.321915</td><td>0.954065</td><td>1.369331</td><td>1.735942</td><td>1.75698</td><td>1.537375</td><td>1.317913</td><td>1.320769</td><td>1.361174</td><td>1.626889</td><td>2.054247</td><td>2.287533</td><td>2.128686</td><td>1.667322</td><td>1.095501</td><td>0.552384</td><td>0.028008</td><td>-0.460208</td><td>-1.217157</td><td>-1.664914</td><td>-2.227255</td><td>-2.426104</td><td>-2.512243</td><td>-2.51986</td><td>-2.584885</td><td>-2.594903</td><td>-2.590013</td><td>-2.542154</td><td>98762.158347</td><td>724.008071</td><td>185.437869</td><td>25.138019</td><td>0.061392</td><td>0.033524</td><td>0.514617</td><td>0.084467</td><td>0.093485</td><td>0.060476</td><td>0.070729</td><td>462.394743</td><td>0.0</td><td>0.124711</td><td>0.875289</td><td>0.0</td><td>3.0082e-7</td><td>5.4180e-7</td><td>9.7112e-7</td><td>0.000002</td><td>0.000003</td><td>0.000005</td><td>0.000009</td><td>0.000014</td><td>0.000015</td><td>0.000015</td><td>0.000014</td><td>0.000012</td><td>0.000009</td><td>0.000006</td><td>0.000003</td><td>0.000002</td><td>0.000001</td><td>4.4315e-7</td><td>2.0092e-7</td><td>1.2922e-7</td><td>9.7813e-8</td><td>7.9838e-8</td><td>6.8105e-8</td><td>6.1687e-8</td><td>6.0120e-8</td><td>5.9512e-8</td><td>5.9809e-8</td><td>6.0668e-8</td><td>6.1699e-8</td><td>6.2575e-8</td><td>6.3422e-8</td><td>6.4365e-8</td><td>6.5408e-8</td><td>6.6470e-8</td><td>6.7327e-8</td><td>6.8205e-8</td><td>6.8819e-8</td><td>6.8903e-8</td><td>6.8986e-8</td><td>6.9011e-8</td><td>6.8856e-8</td><td>6.8708e-8</td><td>6.8568e-8</td><td>6.8128e-8</td><td>6.7445e-8</td><td>6.6796e-8</td><td>6.6180e-8</td><td>6.5696e-8</td><td>6.5551e-8</td><td>6.5416e-8</td><td>6.5290e-8</td><td>6.5170e-8</td><td>6.5273e-8</td><td>6.5925e-8</td><td>6.6569e-8</td><td>6.7213e-8</td><td>6.7861e-8</td><td>6.8092e-8</td><td>6.8143e-8</td><td>6.8196e-8</td><td>1.8082e-7</td><td>2.0767e-7</td><td>2.3824e-7</td><td>2.7272e-7</td><td>3.1112e-7</td><td>3.5314e-7</td><td>3.9821e-7</td><td>4.4550e-7</td><td>4.9411e-7</td><td>5.4326e-7</td><td>5.9243e-7</td><td>6.4137e-7</td><td>6.8997e-7</td><td>7.3811e-7</td><td>7.8552e-7</td><td>8.3181e-7</td><td>8.7656e-7</td><td>9.1945e-7</td><td>9.6038e-7</td><td>9.9861e-7</td><td>9.9861e-7</td><td>9.9861e-7</td><td>9.9861e-7</td><td>9.9861e-7</td><td>9.9861e-7</td><td>9.9861e-7</td><td>9.9861e-7</td><td>9.9861e-7</td><td>9.9861e-7</td><td>9.9861e-7</td><td>9.9861e-7</td><td>9.9861e-7</td><td>9.9861e-7</td><td>9.9861e-7</td><td>9.9861e-7</td><td>9.9861e-7</td><td>9.9861e-7</td><td>9.9861e-7</td><td>9.9861e-7</td><td>9.9861e-7</td><td>9.9861e-7</td><td>9.9861e-7</td><td>9.9861e-7</td><td>9.9861e-7</td><td>9.9861e-7</td><td>9.9861e-7</td><td>9.9861e-7</td><td>9.9861e-7</td><td>9.9861e-7</td><td>9.9861e-7</td><td>9.9861e-7</td><td>9.9861e-7</td><td>9.9861e-7</td><td>9.9861e-7</td><td>9.9861e-7</td><td>9.9861e-7</td><td>9.9861e-7</td><td>9.9861e-7</td><td>9.9861e-7</td><td>9.9861e-7</td><td>3.4248e-8</td><td>4.2493e-8</td><td>5.2630e-8</td><td>6.4969e-8</td><td>7.9770e-8</td><td>9.7180e-8</td><td>1.1718e-7</td><td>1.3957e-7</td><td>1.6400e-7</td><td>1.9012e-7</td><td>2.1760e-7</td><td>2.4624e-7</td><td>2.7592e-7</td><td>3.0649e-7</td><td>3.3771e-7</td><td>3.6923e-7</td><td>4.0063e-7</td><td>4.3159e-7</td><td>4.6190e-7</td><td>4.9086e-7</td><td>4.9086e-7</td><td>4.9086e-7</td><td>4.9086e-7</td><td>4.9086e-7</td><td>4.9086e-7</td><td>4.9086e-7</td><td>4.9086e-7</td><td>4.9086e-7</td><td>4.9086e-7</td><td>4.9086e-7</td><td>4.9086e-7</td><td>4.9086e-7</td><td>4.9086e-7</td><td>4.9086e-7</td><td>4.9086e-7</td><td>4.9086e-7</td><td>4.9086e-7</td><td>4.9086e-7</td><td>4.9086e-7</td><td>4.9086e-7</td><td>4.9086e-7</td><td>4.9086e-7</td><td>4.9086e-7</td><td>4.9086e-7</td><td>4.9086e-7</td><td>4.9086e-7</td><td>4.9086e-7</td><td>4.9086e-7</td><td>4.9086e-7</td><td>4.9086e-7</td><td>4.9086e-7</td><td>4.9086e-7</td><td>4.9086e-7</td><td>4.9086e-7</td><td>4.9086e-7</td><td>4.9086e-7</td><td>4.9086e-7</td><td>4.9086e-7</td><td>4.9086e-7</td><td>4.9086e-7</td></tr><tr><td>&quot;test_601350&quot;</td><td>214.546909</td><td>233.460889</td><td>237.850575</td><td>248.361199</td><td>252.353758</td><td>261.426464</td><td>257.17252</td><td>248.371481</td><td>237.316651</td><td>229.167941</td><td>224.54255</td><td>219.772206</td><td>214.133077</td><td>209.309529</td><td>202.747871</td><td>198.448037</td><td>195.440953</td><td>190.555468</td><td>190.98908</td><td>193.930869</td><td>199.341072</td><td>204.204674</td><td>210.209238</td><td>215.4366</td><td>221.246391</td><td>226.468019</td><td>231.259085</td><td>235.39401</td><td>239.424336</td><td>243.199836</td><td>246.843741</td><td>250.236207</td><td>253.234652</td><td>256.03563</td><td>258.782512</td><td>261.774998</td><td>264.580276</td><td>267.213506</td><td>269.921149</td><td>272.456241</td><td>274.885599</td><td>276.989321</td><td>278.825928</td><td>280.444455</td><td>282.111358</td><td>283.701795</td><td>285.055091</td><td>286.342619</td><td>287.241526</td><td>288.19072</td><td>289.239106</td><td>290.0659</td><td>290.916585</td><td>291.784479</td><td>292.835766</td><td>293.82904</td><td>294.963785</td><td>296.001406</td><td>297.14843</td><td>298.330913</td><td>0.000002</td><td>0.000002</td><td>0.000002</td><td>0.000002</td><td>0.000002</td><td>0.000002</td><td>0.000002</td><td>0.000002</td><td>0.000002</td><td>0.000002</td><td>0.000002</td><td>0.000002</td><td>0.000002</td><td>0.000002</td><td>0.000002</td><td>0.000002</td><td>0.000002</td><td>0.000002</td><td>0.000002</td><td>0.000003</td><td>0.000006</td><td>0.000008</td><td>0.000018</td><td>0.00004</td><td>0.000078</td><td>0.000127</td><td>0.000179</td><td>0.000305</td><td>0.000457</td><td>0.000608</td><td>0.000761</td><td>0.000909</td><td>0.001088</td><td>0.001383</td><td>0.001672</td><td>0.00179</td><td>0.002011</td><td>0.002433</td><td>0.003017</td><td>0.003747</td><td>0.004449</td><td>0.005163</td><td>0.005965</td><td>0.006654</td><td>0.007281</td><td>0.007852</td><td>0.00856</td><td>0.009093</td><td>0.009912</td><td>0.010605</td><td>0.011021</td><td>0.01168</td><td>0.012362</td><td>0.012985</td><td>0.013253</td><td>0.013796</td><td>0.013865</td><td>0.014251</td><td>0.014363</td><td>0.014507</td><td>1.0053e-37</td><td>9.6761e-38</td><td>8.6073e-38</td><td>7.5284e-38</td><td>6.5289e-38</td><td>5.3307e-38</td><td>5.1958e-38</td><td>3.8087e-38</td><td>3.3045e-38</td><td>2.1781e-38</td><td>1.9838e-38</td><td>9.7569e-39</td><td>5.1639e-45</td><td>1.4710e-51</td><td>0.0</td><td>0.0</td><td>0.0</td><td>0.0</td><td>0.0</td><td>0.0</td><td>0.0</td><td>7.6737e-54</td><td>7.1301e-49</td><td>2.3488e-44</td><td>0.0</td><td>0.0</td><td>0.0</td><td>0.0</td><td>8.1064e-20</td><td>2.6918e-16</td><td>1.1465e-12</td><td>1.1626e-9</td><td>1.7548e-7</td><td>0.000002</td><td>0.000002</td><td>6.1742e-7</td><td>6.8795e-8</td><td>9.5800e-8</td><td>0.000002</td><td>0.000007</td><td>0.000006</td><td>0.000025</td><td>0.000022</td><td>0.000015</td><td>0.000032</td><td>0.000031</td><td>0.000022</td><td>0.000012</td><td>0.000031</td><td>0.000042</td><td>0.000029</td><td>0.000016</td><td>0.000014</td><td>0.000008</td><td>0.000002</td><td>0.0</td><td>4.8502e-7</td><td>5.4026e-8</td><td>1.1691e-7</td><td>3.1324e-8</td><td>6.2827e-12</td><td>6.5066e-12</td><td>6.7600e-12</td><td>7.5840e-12</td><td>7.5201e-12</td><td>8.9972e-12</td><td>6.4027e-12</td><td>4.1368e-12</td><td>2.1367e-12</td><td>1.2561e-12</td><td>8.6818e-13</td><td>3.2672e-13</td><td>1.7113e-19</td><td>1.2354e-25</td><td>1.0416e-23</td><td>9.7141e-19</td><td>4.8089e-17</td><td>0.0</td><td>5.4496e-9</td><td>1.2317e-7</td><td>2.4247e-9</td><td>1.4823e-7</td><td>5.7093e-7</td><td>0.000003</td><td>0.000003</td><td>0.000001</td><td>0.000001</td><td>0.000017</td><td>0.000034</td><td>0.000051</td><td>0.000047</td><td>0.000034</td><td>0.000021</td><td>0.000011</td><td>0.000006</td><td>9.4068e-7</td><td>8.3139e-8</td><td>1.2426e-7</td><td>3.8286e-7</td><td>8.5483e-8</td><td>8.1107e-8</td><td>2.4125e-8</td><td>3.4059e-8</td><td>4.9822e-8</td><td>6.3725e-8</td><td>8.6643e-8</td><td>9.9024e-8</td><td>1.0750e-7</td><td>9.7164e-8</td><td>8.5857e-8</td><td>7.7663e-8</td><td>6.7589e-8</td><td>1.3300e-9</td><td>0.0</td><td>0.0</td><td>5.1521e-13</td><td>2.2926e-11</td><td>4.1159e-11</td><td>6.6932e-11</td><td>4.8389e-14</td><td>26.766125</td><td>38.326466</td><td>44.364158</td><td>50.504799</td><td>40.427283</td><td>31.241199</td><td>30.402445</td><td>27.722321</td><td>20.383986</td><td>14.493661</td><td>9.758615</td><td>4.878546</td><td>2.683249</td><td>2.76098</td><td>2.963564</td><td>7.0875</td><td>15.348046</td><td>21.242244</td><td>26.108509</td><td>30.126443</td><td>35.599535</td><td>40.136581</td><td>41.652886</td><td>41.121061</td><td>38.686804</td><td>34.965231</td><td>31.105139</td><td>27.51296</td><td>24.737766</td><td>23.037146</td><td>21.860157</td><td>20.854756</td><td>19.693072</td><td>18.156475</td><td>16.349687</td><td>14.623607</td><td>12.867586</td><td>10.999232</td><td>9.042802</td><td>7.34352</td><td>5.893471</td><td>4.553944</td><td>3.375012</td><td>2.374191</td><td>1.438902</td><td>0.603676</td><td>-0.173665</td><td>-0.930428</td><td>-1.617219</td><td>-2.284518</td><td>-2.797098</td><td>-3.156353</td><td>-3.366056</td><td>-3.481461</td><td>-3.525668</td><td>-3.454358</td><td>-3.384439</td><td>-3.113365</td><td>-2.909109</td><td>-2.618813</td><td>-19.714897</td><td>-7.008516</td><td>5.098422</td><td>16.692305</td><td>6.039838</td><td>14.258133</td><td>0.530596</td><td>0.054057</td><td>-1.110178</td><td>-0.972205</td><td>0.754306</td><td>0.995024</td><td>0.239525</td><td>0.393146</td><td>1.070035</td><td>1.412289</td><td>2.565232</td><td>2.234606</td><td>0.058334</td><td>-5.735292</td><td>-10.932171</td><td>-12.986231</td><td>-12.884899</td><td>-12.573914</td><td>-11.847338</td><td>-10.107544</td><td>-6.941908</td><td>-2.603484</td><td>1.049267</td><td>3.723152</td><td>5.048724</td><td>5.296405</td><td>5.235892</td><td>4.808592</td><td>4.236725</td><td>3.625706</td><td>3.015351</td><td>2.605133</td><td>2.349206</td><td>2.155275</td><td>2.017206</td><td>1.857969</td><td>1.687204</td><td>1.401592</td><td>1.006144</td><td>0.514713</td><td>-0.013485</td><td>-0.566443</td><td>-1.0878</td><td>-1.582165</td><td>-2.035671</td><td>-2.415875</td><td>-2.685827</td><td>-2.897569</td><td>-3.029162</td><td>-3.13676</td><td>-3.149133</td><td>-3.058256</td><td>-2.957907</td><td>-2.749553</td><td>98463.738907</td><td>525.702085</td><td>132.107937</td><td>18.355525</td><td>0.061175</td><td>0.06211</td><td>0.373663</td><td>0.142697</td><td>0.183234</td><td>0.058991</td><td>0.094476</td><td>460.091223</td><td>0.0</td><td>0.401465</td><td>0.598535</td><td>0.0</td><td>3.0046e-7</td><td>5.4114e-7</td><td>9.6993e-7</td><td>0.000002</td><td>0.000003</td><td>0.000005</td><td>0.000009</td><td>0.000014</td><td>0.000015</td><td>0.000015</td><td>0.000014</td><td>0.000012</td><td>0.000009</td><td>0.000006</td><td>0.000003</td><td>0.000002</td><td>9.3332e-7</td><td>4.0457e-7</td><td>1.9842e-7</td><td>1.2794e-7</td><td>9.8775e-8</td><td>8.2898e-8</td><td>7.2434e-8</td><td>6.5700e-8</td><td>6.2111e-8</td><td>6.0836e-8</td><td>6.0226e-8</td><td>6.0869e-8</td><td>6.1481e-8</td><td>6.2038e-8</td><td>6.2637e-8</td><td>6.3359e-8</td><td>6.4105e-8</td><td>6.5292e-8</td><td>6.6596e-8</td><td>6.7845e-8</td><td>6.8833e-8</td><td>6.9828e-8</td><td>7.0558e-8</td><td>7.0732e-8</td><td>7.0900e-8</td><td>7.1004e-8</td><td>6.9089e-8</td><td>6.7275e-8</td><td>6.5551e-8</td><td>6.4353e-8</td><td>6.4043e-8</td><td>6.3750e-8</td><td>6.3476e-8</td><td>6.3262e-8</td><td>6.3129e-8</td><td>6.3004e-8</td><td>6.2884e-8</td><td>6.2481e-8</td><td>6.1659e-8</td><td>6.0837e-8</td><td>5.9535e-8</td><td>5.7958e-8</td><td>5.7958e-8</td><td>5.7958e-8</td><td>1.8050e-7</td><td>2.0730e-7</td><td>2.3782e-7</td><td>2.7224e-7</td><td>3.1057e-7</td><td>3.5252e-7</td><td>3.9751e-7</td><td>4.4472e-7</td><td>4.9324e-7</td><td>5.4230e-7</td><td>5.9139e-7</td><td>6.4024e-7</td><td>6.8876e-7</td><td>7.3681e-7</td><td>7.8414e-7</td><td>8.3035e-7</td><td>8.7502e-7</td><td>9.1783e-7</td><td>9.5869e-7</td><td>9.9766e-7</td><td>9.9861e-7</td><td>9.9861e-7</td><td>9.9861e-7</td><td>9.9861e-7</td><td>9.9861e-7</td><td>9.9861e-7</td><td>9.9861e-7</td><td>9.9861e-7</td><td>9.9861e-7</td><td>9.9861e-7</td><td>9.9861e-7</td><td>9.9861e-7</td><td>9.9861e-7</td><td>9.9861e-7</td><td>9.9861e-7</td><td>9.9861e-7</td><td>9.9861e-7</td><td>9.9861e-7</td><td>9.9861e-7</td><td>9.9861e-7</td><td>9.9861e-7</td><td>9.9861e-7</td><td>9.9861e-7</td><td>9.9861e-7</td><td>9.9861e-7</td><td>9.9861e-7</td><td>9.9861e-7</td><td>9.9861e-7</td><td>9.9861e-7</td><td>9.9861e-7</td><td>9.9861e-7</td><td>9.9861e-7</td><td>9.9861e-7</td><td>9.9861e-7</td><td>9.9861e-7</td><td>9.9861e-7</td><td>9.9861e-7</td><td>9.9861e-7</td><td>9.9861e-7</td><td>9.9861e-7</td><td>3.3986e-8</td><td>4.2184e-8</td><td>5.2268e-8</td><td>6.4547e-8</td><td>7.9282e-8</td><td>9.6621e-8</td><td>1.1655e-7</td><td>1.3886e-7</td><td>1.6322e-7</td><td>1.8926e-7</td><td>2.1667e-7</td><td>2.4525e-7</td><td>2.7487e-7</td><td>3.0538e-7</td><td>3.3655e-7</td><td>3.6802e-7</td><td>3.9938e-7</td><td>4.3031e-7</td><td>4.6058e-7</td><td>4.9014e-7</td><td>4.9086e-7</td><td>4.9086e-7</td><td>4.9086e-7</td><td>4.9086e-7</td><td>4.9086e-7</td><td>4.9086e-7</td><td>4.9086e-7</td><td>4.9086e-7</td><td>4.9086e-7</td><td>4.9086e-7</td><td>4.9086e-7</td><td>4.9086e-7</td><td>4.9086e-7</td><td>4.9086e-7</td><td>4.9086e-7</td><td>4.9086e-7</td><td>4.9086e-7</td><td>4.9086e-7</td><td>4.9086e-7</td><td>4.9086e-7</td><td>4.9086e-7</td><td>4.9086e-7</td><td>4.9086e-7</td><td>4.9086e-7</td><td>4.9086e-7</td><td>4.9086e-7</td><td>4.9086e-7</td><td>4.9086e-7</td><td>4.9086e-7</td><td>4.9086e-7</td><td>4.9086e-7</td><td>4.9086e-7</td><td>4.9086e-7</td><td>4.9086e-7</td><td>4.9086e-7</td><td>4.9086e-7</td><td>4.9086e-7</td><td>4.9086e-7</td><td>4.9086e-7</td><td>4.9086e-7</td></tr></tbody></table></div>"
      ],
      "text/plain": [
       "shape: (625_000, 557)\n",
       "┌─────┬─────┬─────┬─────┬─────┬─────┬─────┬─────┬─────┬─────┬─────┬─────┬─────┬─────┬─────┬─────┬─────┬─────┬─────┬─────┬─────┬─────┬─────┬─────┬─────┬─────┬─────┬─────┬─────┬─────┬─────┬─────┬─────┬─────┬─────┬─────┬─────┬─────┬─────┬─────┬─────┬─────┬─────┬─────┬─────┬─────┬─────┬─────┬─────┬─────┬─────┬─────┬─────┬─────┬─────┬─────┬─────┬─────┬─────┬─────┬─────┬─────┬─────┬─────┬─────┬─────┬─────┬─────┬─────┬─────┬─────┬─────┬─────┬─────┬─────┬─────┬─────┬─────┬─────┬─────┬─────┬─────┬─────┬─────┬─────┬─────┬─────┬─────┬─────┬─────┬─────┬─────┬─────┬─────┬─────┬─────┬─────┬─────┬─────┬─────┬─────┬─────┬─────┬─────┬─────┬─────┬─────┬─────┬─────┬─────┬─────┬─────┬─────┬─────┬─────┬─────┬─────┬─────┬─────┬─────┬─────┬─────┬─────┬─────┬─────┬─────┬─────┬─────┬─────┬─────┬─────┬─────┬─────┬─────┬─────┬─────┬─────┬─────┬─────┬─────┬─────┬─────┬─────┬─────┬─────┬─────┬─────┬─────┬─────┬─────┬─────┬─────┬─────┬─────┬─────┬─────┬─────┬─────┬─────┬─────┬─────┬─────┬─────┬─────┬─────┬─────┬─────┬─────┬─────┬─────┬─────┬─────┬─────┬─────┬─────┬─────┬─────┬─────┬─────┬─────┬─────┬─────┬─────┬─────┬─────┬─────┬─────┬─────┬─────┬─────┬─────┬─────┬─────┬─────┬─────┬─────┬─────┬─────┬─────┬─────┬─────┬─────┬─────┬─────┬─────┬─────┬─────┬─────┬─────┬─────┬─────┬─────┬─────┬─────┬─────┬─────┬─────┬─────┬─────┬─────┬─────┬─────┬─────┬─────┬─────┬─────┬─────┬─────┬─────┬─────┬─────┬─────┬─────┬─────┬─────┬─────┬─────┬─────┬─────┬─────┬─────┬─────┬─────┬─────┬─────┬─────┬─────┬─────┬─────┬─────┬─────┬─────┬─────┬─────┬─────┬─────┬─────┬─────┬─────┬─────┬─────┬─────┬─────┬─────┬─────┬─────┬─────┬─────┬─────┬─────┬─────┬─────┬─────┬─────┬─────┬─────┬─────┬─────┬─────┬─────┬─────┬─────┬─────┬─────┬─────┬─────┬─────┬─────┬─────┬─────┬─────┬─────┬─────┬─────┬─────┬─────┬─────┬─────┬─────┬─────┬─────┬─────┬─────┬─────┬─────┬─────┬─────┬─────┬─────┬─────┬─────┬─────┬─────┬─────┬─────┬─────┬─────┬─────┬─────┬─────┬─────┬─────┬─────┬─────┬─────┬─────┬─────┬─────┬─────┬─────┬─────┬─────┬─────┬─────┬─────┬─────┬─────┬─────┬─────┬─────┬─────┬─────┬─────┬─────┬─────┬─────┬─────┬─────┬─────┬─────┬─────┬─────┬─────┬─────┬─────┬─────┬─────┬─────┬─────┬─────┬─────┬─────┬─────┬─────┬─────┬─────┬─────┬─────┬─────┬─────┬─────┬─────┬─────┬─────┬─────┬─────┬─────┬─────┬─────┬─────┬─────┬─────┬─────┬─────┬─────┬─────┬─────┬─────┬─────┬─────┬─────┬─────┬─────┬─────┬─────┬─────┬─────┬─────┬─────┬─────┬─────┬─────┬─────┬─────┬─────┬─────┬─────┬─────┬─────┬─────┬─────┬─────┬─────┬─────┬─────┬─────┬─────┬─────┬─────┬─────┬─────┬─────┬─────┬─────┬─────┬─────┬─────┬─────┬─────┬─────┬─────┬─────┬─────┬─────┬─────┬─────┬─────┬─────┬─────┬─────┬─────┬─────┬─────┬─────┬─────┬─────┬─────┬─────┬─────┬─────┬─────┬─────┬─────┬─────┬─────┬─────┬─────┬─────┬─────┬─────┬─────┬─────┬─────┬─────┬─────┬─────┬─────┬─────┬─────┬─────┬─────┬─────┬─────┬─────┬─────┬─────┬─────┬─────┬─────┬─────┬─────┬─────┬─────┬─────┬─────┬─────┬─────┬─────┬─────┬─────┬─────┬─────┬─────┬─────┬─────┬─────┬─────┬─────┬─────┬─────┬─────┬─────┬─────┬─────┬─────┬─────┬─────┬─────┬─────┬─────┬─────┬─────┬─────┬─────┬─────┬─────┬─────┬─────┬─────┬─────┬─────┬─────┬─────┬─────┬─────┬─────┬─────┬─────┬─────┬─────┬─────┬─────┬─────┬─────┬─────┬─────┬─────┬─────┬─────┬─────┬─────┬─────┬─────┬─────┬─────┬─────┬─────┬─────┬─────┬─────┬─────┬─────┬─────┬─────┬─────┬─────┬─────┐\n",
       "│ sam ┆ sta ┆ sta ┆ sta ┆ sta ┆ sta ┆ sta ┆ sta ┆ sta ┆ sta ┆ sta ┆ sta ┆ sta ┆ sta ┆ sta ┆ sta ┆ sta ┆ sta ┆ sta ┆ sta ┆ sta ┆ sta ┆ sta ┆ sta ┆ sta ┆ sta ┆ sta ┆ sta ┆ sta ┆ sta ┆ sta ┆ sta ┆ sta ┆ sta ┆ sta ┆ sta ┆ sta ┆ sta ┆ sta ┆ sta ┆ sta ┆ sta ┆ sta ┆ sta ┆ sta ┆ sta ┆ sta ┆ sta ┆ sta ┆ sta ┆ sta ┆ sta ┆ sta ┆ sta ┆ sta ┆ sta ┆ sta ┆ sta ┆ sta ┆ sta ┆ sta ┆ sta ┆ sta ┆ sta ┆ sta ┆ sta ┆ sta ┆ sta ┆ sta ┆ sta ┆ sta ┆ sta ┆ sta ┆ sta ┆ sta ┆ sta ┆ sta ┆ sta ┆ sta ┆ sta ┆ sta ┆ sta ┆ sta ┆ sta ┆ sta ┆ sta ┆ sta ┆ sta ┆ sta ┆ sta ┆ sta ┆ sta ┆ sta ┆ sta ┆ sta ┆ sta ┆ sta ┆ sta ┆ sta ┆ sta ┆ sta ┆ sta ┆ sta ┆ sta ┆ sta ┆ sta ┆ sta ┆ sta ┆ sta ┆ sta ┆ sta ┆ sta ┆ sta ┆ sta ┆ sta ┆ sta ┆ sta ┆ sta ┆ sta ┆ sta ┆ sta ┆ sta ┆ sta ┆ sta ┆ sta ┆ sta ┆ sta ┆ sta ┆ sta ┆ sta ┆ sta ┆ sta ┆ sta ┆ sta ┆ sta ┆ sta ┆ sta ┆ sta ┆ sta ┆ sta ┆ sta ┆ sta ┆ sta ┆ sta ┆ sta ┆ sta ┆ sta ┆ sta ┆ sta ┆ sta ┆ sta ┆ sta ┆ sta ┆ sta ┆ sta ┆ sta ┆ sta ┆ sta ┆ sta ┆ sta ┆ sta ┆ sta ┆ sta ┆ sta ┆ sta ┆ sta ┆ sta ┆ sta ┆ sta ┆ sta ┆ sta ┆ sta ┆ sta ┆ sta ┆ sta ┆ sta ┆ sta ┆ sta ┆ sta ┆ sta ┆ sta ┆ sta ┆ sta ┆ sta ┆ sta ┆ sta ┆ sta ┆ sta ┆ sta ┆ sta ┆ sta ┆ sta ┆ sta ┆ sta ┆ sta ┆ sta ┆ sta ┆ sta ┆ sta ┆ sta ┆ sta ┆ sta ┆ sta ┆ sta ┆ sta ┆ sta ┆ sta ┆ sta ┆ sta ┆ sta ┆ sta ┆ sta ┆ sta ┆ sta ┆ sta ┆ sta ┆ sta ┆ sta ┆ sta ┆ sta ┆ sta ┆ sta ┆ sta ┆ sta ┆ sta ┆ sta ┆ sta ┆ sta ┆ sta ┆ sta ┆ sta ┆ sta ┆ sta ┆ sta ┆ sta ┆ sta ┆ sta ┆ sta ┆ sta ┆ sta ┆ sta ┆ sta ┆ sta ┆ sta ┆ sta ┆ sta ┆ sta ┆ sta ┆ sta ┆ sta ┆ sta ┆ sta ┆ sta ┆ sta ┆ sta ┆ sta ┆ sta ┆ sta ┆ sta ┆ sta ┆ sta ┆ sta ┆ sta ┆ sta ┆ sta ┆ sta ┆ sta ┆ sta ┆ sta ┆ sta ┆ sta ┆ sta ┆ sta ┆ sta ┆ sta ┆ sta ┆ sta ┆ sta ┆ sta ┆ sta ┆ sta ┆ sta ┆ sta ┆ sta ┆ sta ┆ sta ┆ sta ┆ sta ┆ sta ┆ sta ┆ sta ┆ sta ┆ sta ┆ sta ┆ sta ┆ sta ┆ sta ┆ sta ┆ sta ┆ sta ┆ sta ┆ sta ┆ sta ┆ sta ┆ sta ┆ sta ┆ sta ┆ sta ┆ sta ┆ sta ┆ sta ┆ sta ┆ sta ┆ sta ┆ sta ┆ sta ┆ sta ┆ sta ┆ sta ┆ sta ┆ sta ┆ sta ┆ sta ┆ sta ┆ sta ┆ sta ┆ sta ┆ sta ┆ sta ┆ sta ┆ sta ┆ sta ┆ sta ┆ sta ┆ sta ┆ sta ┆ sta ┆ sta ┆ sta ┆ sta ┆ sta ┆ sta ┆ sta ┆ sta ┆ sta ┆ sta ┆ sta ┆ sta ┆ sta ┆ sta ┆ sta ┆ sta ┆ sta ┆ sta ┆ sta ┆ sta ┆ sta ┆ sta ┆ sta ┆ sta ┆ sta ┆ sta ┆ pbu ┆ pbu ┆ pbu ┆ pbu ┆ pbu ┆ pbu ┆ cam ┆ cam ┆ cam ┆ cam ┆ cam ┆ cam ┆ cam ┆ cam ┆ cam ┆ pbu ┆ pbu ┆ pbu ┆ pbu ┆ pbu ┆ pbu ┆ pbu ┆ pbu ┆ pbu ┆ pbu ┆ pbu ┆ pbu ┆ pbu ┆ pbu ┆ pbu ┆ pbu ┆ pbu ┆ pbu ┆ pbu ┆ pbu ┆ pbu ┆ pbu ┆ pbu ┆ pbu ┆ pbu ┆ pbu ┆ pbu ┆ pbu ┆ pbu ┆ pbu ┆ pbu ┆ pbu ┆ pbu ┆ pbu ┆ pbu ┆ pbu ┆ pbu ┆ pbu ┆ pbu ┆ pbu ┆ pbu ┆ pbu ┆ pbu ┆ pbu ┆ pbu ┆ pbu ┆ pbu ┆ pbu ┆ pbu ┆ pbu ┆ pbu ┆ pbu ┆ pbu ┆ pbu ┆ pbu ┆ pbu ┆ pbu ┆ pbu ┆ pbu ┆ pbu ┆ pbu ┆ pbu ┆ pbu ┆ pbu ┆ pbu ┆ pbu ┆ pbu ┆ pbu ┆ pbu ┆ pbu ┆ pbu ┆ pbu ┆ pbu ┆ pbu ┆ pbu ┆ pbu ┆ pbu ┆ pbu ┆ pbu ┆ pbu ┆ pbu ┆ pbu ┆ pbu ┆ pbu ┆ pbu ┆ pbu ┆ pbu ┆ pbu ┆ pbu ┆ pbu ┆ pbu ┆ pbu ┆ pbu ┆ pbu ┆ pbu ┆ pbu ┆ pbu ┆ pbu ┆ pbu ┆ pbu ┆ pbu ┆ pbu ┆ pbu ┆ pbu ┆ pbu ┆ pbu ┆ pbu ┆ pbu ┆ pbu ┆ pbu ┆ pbu ┆ pbu ┆ pbu ┆ pbu ┆ pbu ┆ pbu ┆ pbu ┆ pbu ┆ pbu ┆ pbu ┆ pbu ┆ pbu ┆ pbu ┆ pbu ┆ pbu ┆ pbu ┆ pbu ┆ pbu ┆ pbu ┆ pbu ┆ pbu ┆ pbu ┆ pbu ┆ pbu ┆ pbu ┆ pbu ┆ pbu ┆ pbu ┆ pbu ┆ pbu ┆ pbu ┆ pbu ┆ pbu ┆ pbu ┆ pbu ┆ pbu ┆ pbu ┆ pbu ┆ pbu ┆ pbu ┆ pbu ┆ pbu ┆ pbu ┆ pbu ┆ pbu ┆ pbu ┆ pbu ┆ pbu ┆ pbu ┆ pbu ┆ pbu ┆ pbu ┆ pbu ┆ pbu ┆ pbu ┆ pbu ┆ pbu ┆ pbu ┆ pbu ┆ pbu ┆ pbu ┆ pbu ┆ pbu ┆ pbu ┆ pbu ┆ pbu ┆ pbu ┆ pbu ┆ pbu ┆ pbu │\n",
       "│ ple ┆ te_ ┆ te_ ┆ te_ ┆ te_ ┆ te_ ┆ te_ ┆ te_ ┆ te_ ┆ te_ ┆ te_ ┆ te_ ┆ te_ ┆ te_ ┆ te_ ┆ te_ ┆ te_ ┆ te_ ┆ te_ ┆ te_ ┆ te_ ┆ te_ ┆ te_ ┆ te_ ┆ te_ ┆ te_ ┆ te_ ┆ te_ ┆ te_ ┆ te_ ┆ te_ ┆ te_ ┆ te_ ┆ te_ ┆ te_ ┆ te_ ┆ te_ ┆ te_ ┆ te_ ┆ te_ ┆ te_ ┆ te_ ┆ te_ ┆ te_ ┆ te_ ┆ te_ ┆ te_ ┆ te_ ┆ te_ ┆ te_ ┆ te_ ┆ te_ ┆ te_ ┆ te_ ┆ te_ ┆ te_ ┆ te_ ┆ te_ ┆ te_ ┆ te_ ┆ te_ ┆ te_ ┆ te_ ┆ te_ ┆ te_ ┆ te_ ┆ te_ ┆ te_ ┆ te_ ┆ te_ ┆ te_ ┆ te_ ┆ te_ ┆ te_ ┆ te_ ┆ te_ ┆ te_ ┆ te_ ┆ te_ ┆ te_ ┆ te_ ┆ te_ ┆ te_ ┆ te_ ┆ te_ ┆ te_ ┆ te_ ┆ te_ ┆ te_ ┆ te_ ┆ te_ ┆ te_ ┆ te_ ┆ te_ ┆ te_ ┆ te_ ┆ te_ ┆ te_ ┆ te_ ┆ te_ ┆ te_ ┆ te_ ┆ te_ ┆ te_ ┆ te_ ┆ te_ ┆ te_ ┆ te_ ┆ te_ ┆ te_ ┆ te_ ┆ te_ ┆ te_ ┆ te_ ┆ te_ ┆ te_ ┆ te_ ┆ te_ ┆ te_ ┆ te_ ┆ te_ ┆ te_ ┆ te_ ┆ te_ ┆ te_ ┆ te_ ┆ te_ ┆ te_ ┆ te_ ┆ te_ ┆ te_ ┆ te_ ┆ te_ ┆ te_ ┆ te_ ┆ te_ ┆ te_ ┆ te_ ┆ te_ ┆ te_ ┆ te_ ┆ te_ ┆ te_ ┆ te_ ┆ te_ ┆ te_ ┆ te_ ┆ te_ ┆ te_ ┆ te_ ┆ te_ ┆ te_ ┆ te_ ┆ te_ ┆ te_ ┆ te_ ┆ te_ ┆ te_ ┆ te_ ┆ te_ ┆ te_ ┆ te_ ┆ te_ ┆ te_ ┆ te_ ┆ te_ ┆ te_ ┆ te_ ┆ te_ ┆ te_ ┆ te_ ┆ te_ ┆ te_ ┆ te_ ┆ te_ ┆ te_ ┆ te_ ┆ te_ ┆ te_ ┆ te_ ┆ te_ ┆ te_ ┆ te_ ┆ te_ ┆ te_ ┆ te_ ┆ te_ ┆ te_ ┆ te_ ┆ te_ ┆ te_ ┆ te_ ┆ te_ ┆ te_ ┆ te_ ┆ te_ ┆ te_ ┆ te_ ┆ te_ ┆ te_ ┆ te_ ┆ te_ ┆ te_ ┆ te_ ┆ te_ ┆ te_ ┆ te_ ┆ te_ ┆ te_ ┆ te_ ┆ te_ ┆ te_ ┆ te_ ┆ te_ ┆ te_ ┆ te_ ┆ te_ ┆ te_ ┆ te_ ┆ te_ ┆ te_ ┆ te_ ┆ te_ ┆ te_ ┆ te_ ┆ te_ ┆ te_ ┆ te_ ┆ te_ ┆ te_ ┆ te_ ┆ te_ ┆ te_ ┆ te_ ┆ te_ ┆ te_ ┆ te_ ┆ te_ ┆ te_ ┆ te_ ┆ te_ ┆ te_ ┆ te_ ┆ te_ ┆ te_ ┆ te_ ┆ te_ ┆ te_ ┆ te_ ┆ te_ ┆ te_ ┆ te_ ┆ te_ ┆ te_ ┆ te_ ┆ te_ ┆ te_ ┆ te_ ┆ te_ ┆ te_ ┆ te_ ┆ te_ ┆ te_ ┆ te_ ┆ te_ ┆ te_ ┆ te_ ┆ te_ ┆ te_ ┆ te_ ┆ te_ ┆ te_ ┆ te_ ┆ te_ ┆ te_ ┆ te_ ┆ te_ ┆ te_ ┆ te_ ┆ te_ ┆ te_ ┆ te_ ┆ te_ ┆ te_ ┆ te_ ┆ te_ ┆ te_ ┆ te_ ┆ te_ ┆ te_ ┆ te_ ┆ te_ ┆ te_ ┆ te_ ┆ te_ ┆ te_ ┆ te_ ┆ te_ ┆ te_ ┆ te_ ┆ te_ ┆ te_ ┆ te_ ┆ te_ ┆ te_ ┆ te_ ┆ te_ ┆ te_ ┆ te_ ┆ te_ ┆ te_ ┆ te_ ┆ te_ ┆ te_ ┆ te_ ┆ te_ ┆ te_ ┆ te_ ┆ te_ ┆ te_ ┆ te_ ┆ te_ ┆ te_ ┆ te_ ┆ te_ ┆ te_ ┆ te_ ┆ te_ ┆ te_ ┆ te_ ┆ te_ ┆ te_ ┆ te_ ┆ te_ ┆ te_ ┆ te_ ┆ te_ ┆ te_ ┆ te_ ┆ te_ ┆ te_ ┆ te_ ┆ te_ ┆ te_ ┆ te_ ┆ te_ ┆ te_ ┆ te_ ┆ te_ ┆ te_ ┆ te_ ┆ te_ ┆ te_ ┆ te_ ┆ te_ ┆ te_ ┆ te_ ┆ te_ ┆ te_ ┆ te_ ┆ te_ ┆ te_ ┆ f_S ┆ f_L ┆ f_S ┆ f_T ┆ f_T ┆ f_C ┆ _in ┆ _in ┆ _in ┆ _in ┆ _in ┆ _in ┆ _in ┆ _in ┆ _in ┆ f_o ┆ f_o ┆ f_o ┆ f_o ┆ f_o ┆ f_o ┆ f_o ┆ f_o ┆ f_o ┆ f_o ┆ f_o ┆ f_o ┆ f_o ┆ f_o ┆ f_o ┆ f_o ┆ f_o ┆ f_o ┆ f_o ┆ f_o ┆ f_o ┆ f_o ┆ f_o ┆ f_o ┆ f_o ┆ f_o ┆ f_o ┆ f_o ┆ f_o ┆ f_o ┆ f_o ┆ f_o ┆ f_o ┆ f_o ┆ f_o ┆ f_o ┆ f_o ┆ f_o ┆ f_o ┆ f_o ┆ f_o ┆ f_o ┆ f_o ┆ f_o ┆ f_o ┆ f_o ┆ f_o ┆ f_o ┆ f_o ┆ f_o ┆ f_o ┆ f_o ┆ f_o ┆ f_o ┆ f_o ┆ f_o ┆ f_o ┆ f_o ┆ f_o ┆ f_o ┆ f_C ┆ f_C ┆ f_C ┆ f_C ┆ f_C ┆ f_C ┆ f_C ┆ f_C ┆ f_C ┆ f_C ┆ f_C ┆ f_C ┆ f_C ┆ f_C ┆ f_C ┆ f_C ┆ f_C ┆ f_C ┆ f_C ┆ f_C ┆ f_C ┆ f_C ┆ f_C ┆ f_C ┆ f_C ┆ f_C ┆ f_C ┆ f_C ┆ f_C ┆ f_C ┆ f_C ┆ f_C ┆ f_C ┆ f_C ┆ f_C ┆ f_C ┆ f_C ┆ f_C ┆ f_C ┆ f_C ┆ f_C ┆ f_C ┆ f_C ┆ f_C ┆ f_C ┆ f_C ┆ f_C ┆ f_C ┆ f_C ┆ f_C ┆ f_C ┆ f_C ┆ f_C ┆ f_C ┆ f_C ┆ f_C ┆ f_C ┆ f_C ┆ f_C ┆ f_C ┆ f_N ┆ f_N ┆ f_N ┆ f_N ┆ f_N ┆ f_N ┆ f_N ┆ f_N ┆ f_N ┆ f_N ┆ f_N ┆ f_N ┆ f_N ┆ f_N ┆ f_N ┆ f_N ┆ f_N ┆ f_N ┆ f_N ┆ f_N ┆ f_N ┆ f_N ┆ f_N ┆ f_N ┆ f_N ┆ f_N ┆ f_N ┆ f_N ┆ f_N ┆ f_N ┆ f_N ┆ f_N ┆ f_N ┆ f_N ┆ f_N ┆ f_N ┆ f_N ┆ f_N ┆ f_N ┆ f_N ┆ f_N ┆ f_N ┆ f_N ┆ f_N ┆ f_N ┆ f_N ┆ f_N ┆ f_N ┆ f_N ┆ f_N ┆ f_N ┆ f_N ┆ f_N ┆ f_N ┆ f_N ┆ f_N ┆ f_N ┆ f_N ┆ f_N ┆ f_N │\n",
       "│ _id ┆ t_0 ┆ t_1 ┆ t_2 ┆ t_3 ┆ t_4 ┆ t_5 ┆ t_6 ┆ t_7 ┆ t_8 ┆ t_9 ┆ t_1 ┆ t_1 ┆ t_1 ┆ t_1 ┆ t_1 ┆ t_1 ┆ t_1 ┆ t_1 ┆ t_1 ┆ t_1 ┆ t_2 ┆ t_2 ┆ t_2 ┆ t_2 ┆ t_2 ┆ t_2 ┆ t_2 ┆ t_2 ┆ t_2 ┆ t_2 ┆ t_3 ┆ t_3 ┆ t_3 ┆ t_3 ┆ t_3 ┆ t_3 ┆ t_3 ┆ t_3 ┆ t_3 ┆ t_3 ┆ t_4 ┆ t_4 ┆ t_4 ┆ t_4 ┆ t_4 ┆ t_4 ┆ t_4 ┆ t_4 ┆ t_4 ┆ t_4 ┆ t_5 ┆ t_5 ┆ t_5 ┆ t_5 ┆ t_5 ┆ t_5 ┆ t_5 ┆ t_5 ┆ t_5 ┆ t_5 ┆ q00 ┆ q00 ┆ q00 ┆ q00 ┆ q00 ┆ q00 ┆ q00 ┆ q00 ┆ q00 ┆ q00 ┆ q00 ┆ q00 ┆ q00 ┆ q00 ┆ q00 ┆ q00 ┆ q00 ┆ q00 ┆ q00 ┆ q00 ┆ q00 ┆ q00 ┆ q00 ┆ q00 ┆ q00 ┆ q00 ┆ q00 ┆ q00 ┆ q00 ┆ q00 ┆ q00 ┆ q00 ┆ q00 ┆ q00 ┆ q00 ┆ q00 ┆ q00 ┆ q00 ┆ q00 ┆ q00 ┆ q00 ┆ q00 ┆ q00 ┆ q00 ┆ q00 ┆ q00 ┆ q00 ┆ q00 ┆ q00 ┆ q00 ┆ q00 ┆ q00 ┆ q00 ┆ q00 ┆ q00 ┆ q00 ┆ q00 ┆ q00 ┆ q00 ┆ q00 ┆ q00 ┆ q00 ┆ q00 ┆ q00 ┆ q00 ┆ q00 ┆ q00 ┆ q00 ┆ q00 ┆ q00 ┆ q00 ┆ q00 ┆ q00 ┆ q00 ┆ q00 ┆ q00 ┆ q00 ┆ q00 ┆ q00 ┆ q00 ┆ q00 ┆ q00 ┆ q00 ┆ q00 ┆ q00 ┆ q00 ┆ q00 ┆ q00 ┆ q00 ┆ q00 ┆ q00 ┆ q00 ┆ q00 ┆ q00 ┆ q00 ┆ q00 ┆ q00 ┆ q00 ┆ q00 ┆ q00 ┆ q00 ┆ q00 ┆ q00 ┆ q00 ┆ q00 ┆ q00 ┆ q00 ┆ q00 ┆ q00 ┆ q00 ┆ q00 ┆ q00 ┆ q00 ┆ q00 ┆ q00 ┆ q00 ┆ q00 ┆ q00 ┆ q00 ┆ q00 ┆ q00 ┆ q00 ┆ q00 ┆ q00 ┆ q00 ┆ q00 ┆ q00 ┆ q00 ┆ q00 ┆ q00 ┆ q00 ┆ q00 ┆ q00 ┆ q00 ┆ q00 ┆ q00 ┆ q00 ┆ q00 ┆ q00 ┆ q00 ┆ q00 ┆ q00 ┆ q00 ┆ q00 ┆ q00 ┆ q00 ┆ q00 ┆ q00 ┆ q00 ┆ q00 ┆ q00 ┆ q00 ┆ q00 ┆ q00 ┆ q00 ┆ q00 ┆ q00 ┆ q00 ┆ q00 ┆ q00 ┆ q00 ┆ q00 ┆ q00 ┆ q00 ┆ q00 ┆ q00 ┆ q00 ┆ q00 ┆ q00 ┆ q00 ┆ q00 ┆ q00 ┆ q00 ┆ q00 ┆ q00 ┆ q00 ┆ q00 ┆ q00 ┆ q00 ┆ q00 ┆ u_0 ┆ u_1 ┆ u_2 ┆ u_3 ┆ u_4 ┆ u_5 ┆ u_6 ┆ u_7 ┆ u_8 ┆ u_9 ┆ u_1 ┆ u_1 ┆ u_1 ┆ u_1 ┆ u_1 ┆ u_1 ┆ u_1 ┆ u_1 ┆ u_1 ┆ u_1 ┆ u_2 ┆ u_2 ┆ u_2 ┆ u_2 ┆ u_2 ┆ u_2 ┆ u_2 ┆ u_2 ┆ u_2 ┆ u_2 ┆ u_3 ┆ u_3 ┆ u_3 ┆ u_3 ┆ u_3 ┆ u_3 ┆ u_3 ┆ u_3 ┆ u_3 ┆ u_3 ┆ u_4 ┆ u_4 ┆ u_4 ┆ u_4 ┆ u_4 ┆ u_4 ┆ u_4 ┆ u_4 ┆ u_4 ┆ u_4 ┆ u_5 ┆ u_5 ┆ u_5 ┆ u_5 ┆ u_5 ┆ u_5 ┆ u_5 ┆ u_5 ┆ u_5 ┆ u_5 ┆ v_0 ┆ v_1 ┆ v_2 ┆ v_3 ┆ v_4 ┆ v_5 ┆ v_6 ┆ v_7 ┆ v_8 ┆ v_9 ┆ v_1 ┆ v_1 ┆ v_1 ┆ v_1 ┆ v_1 ┆ v_1 ┆ v_1 ┆ v_1 ┆ v_1 ┆ v_1 ┆ v_2 ┆ v_2 ┆ v_2 ┆ v_2 ┆ v_2 ┆ v_2 ┆ v_2 ┆ v_2 ┆ v_2 ┆ v_2 ┆ v_3 ┆ v_3 ┆ v_3 ┆ v_3 ┆ v_3 ┆ v_3 ┆ v_3 ┆ v_3 ┆ v_3 ┆ v_3 ┆ v_4 ┆ v_4 ┆ v_4 ┆ v_4 ┆ v_4 ┆ v_4 ┆ v_4 ┆ v_4 ┆ v_4 ┆ v_4 ┆ v_5 ┆ v_5 ┆ v_5 ┆ v_5 ┆ v_5 ┆ v_5 ┆ v_5 ┆ v_5 ┆ v_5 ┆ v_5 ┆ ps  ┆ OLI ┆ HFL ┆ HFL ┆ AUX ┆ AUY ┆ OSZ ┆ _AL ┆ _AL ┆ _AS ┆ _AS ┆ _LW ┆ _IC ┆ _LA ┆ _OC ┆ _SN ┆ zon ┆ zon ┆ zon ┆ zon ┆ zon ┆ zon ┆ zon ┆ zon ┆ zon ┆ zon ┆ zon ┆ zon ┆ zon ┆ zon ┆ zon ┆ zon ┆ zon ┆ zon ┆ zon ┆ zon ┆ zon ┆ zon ┆ zon ┆ zon ┆ zon ┆ zon ┆ zon ┆ zon ┆ zon ┆ zon ┆ zon ┆ zon ┆ zon ┆ zon ┆ zon ┆ zon ┆ zon ┆ zon ┆ zon ┆ zon ┆ zon ┆ zon ┆ zon ┆ zon ┆ zon ┆ zon ┆ zon ┆ zon ┆ zon ┆ zon ┆ zon ┆ zon ┆ zon ┆ zon ┆ zon ┆ zon ┆ zon ┆ zon ┆ zon ┆ zon ┆ H4_ ┆ H4_ ┆ H4_ ┆ H4_ ┆ H4_ ┆ H4_ ┆ H4_ ┆ H4_ ┆ H4_ ┆ H4_ ┆ H4_ ┆ H4_ ┆ H4_ ┆ H4_ ┆ H4_ ┆ H4_ ┆ H4_ ┆ H4_ ┆ H4_ ┆ H4_ ┆ H4_ ┆ H4_ ┆ H4_ ┆ H4_ ┆ H4_ ┆ H4_ ┆ H4_ ┆ H4_ ┆ H4_ ┆ H4_ ┆ H4_ ┆ H4_ ┆ H4_ ┆ H4_ ┆ H4_ ┆ H4_ ┆ H4_ ┆ H4_ ┆ H4_ ┆ H4_ ┆ H4_ ┆ H4_ ┆ H4_ ┆ H4_ ┆ H4_ ┆ H4_ ┆ H4_ ┆ H4_ ┆ H4_ ┆ H4_ ┆ H4_ ┆ H4_ ┆ H4_ ┆ H4_ ┆ H4_ ┆ H4_ ┆ H4_ ┆ H4_ ┆ H4_ ┆ H4_ ┆ 2O_ ┆ 2O_ ┆ 2O_ ┆ 2O_ ┆ 2O_ ┆ 2O_ ┆ 2O_ ┆ 2O_ ┆ 2O_ ┆ 2O_ ┆ 2O_ ┆ 2O_ ┆ 2O_ ┆ 2O_ ┆ 2O_ ┆ 2O_ ┆ 2O_ ┆ 2O_ ┆ 2O_ ┆ 2O_ ┆ 2O_ ┆ 2O_ ┆ 2O_ ┆ 2O_ ┆ 2O_ ┆ 2O_ ┆ 2O_ ┆ 2O_ ┆ 2O_ ┆ 2O_ ┆ 2O_ ┆ 2O_ ┆ 2O_ ┆ 2O_ ┆ 2O_ ┆ 2O_ ┆ 2O_ ┆ 2O_ ┆ 2O_ ┆ 2O_ ┆ 2O_ ┆ 2O_ ┆ 2O_ ┆ 2O_ ┆ 2O_ ┆ 2O_ ┆ 2O_ ┆ 2O_ ┆ 2O_ ┆ 2O_ ┆ 2O_ ┆ 2O_ ┆ 2O_ ┆ 2O_ ┆ 2O_ ┆ 2O_ ┆ 2O_ ┆ 2O_ ┆ 2O_ ┆ 2O_ │\n",
       "│ --- ┆ --- ┆ --- ┆ --- ┆ --- ┆ --- ┆ --- ┆ --- ┆ --- ┆ --- ┆ --- ┆ 0   ┆ 1   ┆ 2   ┆ 3   ┆ 4   ┆ 5   ┆ 6   ┆ 7   ┆ 8   ┆ 9   ┆ 0   ┆ 1   ┆ 2   ┆ 3   ┆ 4   ┆ 5   ┆ 6   ┆ 7   ┆ 8   ┆ 9   ┆ 0   ┆ 1   ┆ 2   ┆ 3   ┆ 4   ┆ 5   ┆ 6   ┆ 7   ┆ 8   ┆ 9   ┆ 0   ┆ 1   ┆ 2   ┆ 3   ┆ 4   ┆ 5   ┆ 6   ┆ 7   ┆ 8   ┆ 9   ┆ 0   ┆ 1   ┆ 2   ┆ 3   ┆ 4   ┆ 5   ┆ 6   ┆ 7   ┆ 8   ┆ 9   ┆ 01_ ┆ 01_ ┆ 01_ ┆ 01_ ┆ 01_ ┆ 01_ ┆ 01_ ┆ 01_ ┆ 01_ ┆ 01_ ┆ 01_ ┆ 01_ ┆ 01_ ┆ 01_ ┆ 01_ ┆ 01_ ┆ 01_ ┆ 01_ ┆ 01_ ┆ 01_ ┆ 01_ ┆ 01_ ┆ 01_ ┆ 01_ ┆ 01_ ┆ 01_ ┆ 01_ ┆ 01_ ┆ 01_ ┆ 01_ ┆ 01_ ┆ 01_ ┆ 01_ ┆ 01_ ┆ 01_ ┆ 01_ ┆ 01_ ┆ 01_ ┆ 01_ ┆ 01_ ┆ 01_ ┆ 01_ ┆ 01_ ┆ 01_ ┆ 01_ ┆ 01_ ┆ 01_ ┆ 01_ ┆ 01_ ┆ 01_ ┆ 01_ ┆ 01_ ┆ 01_ ┆ 01_ ┆ 01_ ┆ 01_ ┆ 01_ ┆ 01_ ┆ 01_ ┆ 01_ ┆ 02_ ┆ 02_ ┆ 02_ ┆ 02_ ┆ 02_ ┆ 02_ ┆ 02_ ┆ 02_ ┆ 02_ ┆ 02_ ┆ 02_ ┆ 02_ ┆ 02_ ┆ 02_ ┆ 02_ ┆ 02_ ┆ 02_ ┆ 02_ ┆ 02_ ┆ 02_ ┆ 02_ ┆ 02_ ┆ 02_ ┆ 02_ ┆ 02_ ┆ 02_ ┆ 02_ ┆ 02_ ┆ 02_ ┆ 02_ ┆ 02_ ┆ 02_ ┆ 02_ ┆ 02_ ┆ 02_ ┆ 02_ ┆ 02_ ┆ 02_ ┆ 02_ ┆ 02_ ┆ 02_ ┆ 02_ ┆ 02_ ┆ 02_ ┆ 02_ ┆ 02_ ┆ 02_ ┆ 02_ ┆ 02_ ┆ 02_ ┆ 02_ ┆ 02_ ┆ 02_ ┆ 02_ ┆ 02_ ┆ 02_ ┆ 02_ ┆ 02_ ┆ 02_ ┆ 02_ ┆ 03_ ┆ 03_ ┆ 03_ ┆ 03_ ┆ 03_ ┆ 03_ ┆ 03_ ┆ 03_ ┆ 03_ ┆ 03_ ┆ 03_ ┆ 03_ ┆ 03_ ┆ 03_ ┆ 03_ ┆ 03_ ┆ 03_ ┆ 03_ ┆ 03_ ┆ 03_ ┆ 03_ ┆ 03_ ┆ 03_ ┆ 03_ ┆ 03_ ┆ 03_ ┆ 03_ ┆ 03_ ┆ 03_ ┆ 03_ ┆ 03_ ┆ 03_ ┆ 03_ ┆ 03_ ┆ 03_ ┆ 03_ ┆ 03_ ┆ 03_ ┆ 03_ ┆ 03_ ┆ 03_ ┆ 03_ ┆ 03_ ┆ 03_ ┆ 03_ ┆ 03_ ┆ 03_ ┆ 03_ ┆ 03_ ┆ 03_ ┆ 03_ ┆ 03_ ┆ 03_ ┆ 03_ ┆ 03_ ┆ 03_ ┆ 03_ ┆ 03_ ┆ 03_ ┆ 03_ ┆ --- ┆ --- ┆ --- ┆ --- ┆ --- ┆ --- ┆ --- ┆ --- ┆ --- ┆ --- ┆ 0   ┆ 1   ┆ 2   ┆ 3   ┆ 4   ┆ 5   ┆ 6   ┆ 7   ┆ 8   ┆ 9   ┆ 0   ┆ 1   ┆ 2   ┆ 3   ┆ 4   ┆ 5   ┆ 6   ┆ 7   ┆ 8   ┆ 9   ┆ 0   ┆ 1   ┆ 2   ┆ 3   ┆ 4   ┆ 5   ┆ 6   ┆ 7   ┆ 8   ┆ 9   ┆ 0   ┆ 1   ┆ 2   ┆ 3   ┆ 4   ┆ 5   ┆ 6   ┆ 7   ┆ 8   ┆ 9   ┆ 0   ┆ 1   ┆ 2   ┆ 3   ┆ 4   ┆ 5   ┆ 6   ┆ 7   ┆ 8   ┆ 9   ┆ --- ┆ --- ┆ --- ┆ --- ┆ --- ┆ --- ┆ --- ┆ --- ┆ --- ┆ --- ┆ 0   ┆ 1   ┆ 2   ┆ 3   ┆ 4   ┆ 5   ┆ 6   ┆ 7   ┆ 8   ┆ 9   ┆ 0   ┆ 1   ┆ 2   ┆ 3   ┆ 4   ┆ 5   ┆ 6   ┆ 7   ┆ 8   ┆ 9   ┆ 0   ┆ 1   ┆ 2   ┆ 3   ┆ 4   ┆ 5   ┆ 6   ┆ 7   ┆ 8   ┆ 9   ┆ 0   ┆ 1   ┆ 2   ┆ 3   ┆ 4   ┆ 5   ┆ 6   ┆ 7   ┆ 8   ┆ 9   ┆ 0   ┆ 1   ┆ 2   ┆ 3   ┆ 4   ┆ 5   ┆ 6   ┆ 7   ┆ 8   ┆ 9   ┆ --- ┆ N   ┆ X   ┆ X   ┆ --- ┆ --- ┆ RS  ┆ DIF ┆ DIR ┆ DIF ┆ DIR ┆ UP  ┆ EFR ┆ NDF ┆ NFR ┆ OWH ┆ e_0 ┆ e_1 ┆ e_2 ┆ e_3 ┆ e_4 ┆ e_5 ┆ e_6 ┆ e_7 ┆ e_8 ┆ e_9 ┆ e_1 ┆ e_1 ┆ e_1 ┆ e_1 ┆ e_1 ┆ e_1 ┆ e_1 ┆ e_1 ┆ e_1 ┆ e_1 ┆ e_2 ┆ e_2 ┆ e_2 ┆ e_2 ┆ e_2 ┆ e_2 ┆ e_2 ┆ e_2 ┆ e_2 ┆ e_2 ┆ e_3 ┆ e_3 ┆ e_3 ┆ e_3 ┆ e_3 ┆ e_3 ┆ e_3 ┆ e_3 ┆ e_3 ┆ e_3 ┆ e_4 ┆ e_4 ┆ e_4 ┆ e_4 ┆ e_4 ┆ e_4 ┆ e_4 ┆ e_4 ┆ e_4 ┆ e_4 ┆ e_5 ┆ e_5 ┆ e_5 ┆ e_5 ┆ e_5 ┆ e_5 ┆ e_5 ┆ e_5 ┆ e_5 ┆ e_5 ┆ 0   ┆ 1   ┆ 2   ┆ 3   ┆ 4   ┆ 5   ┆ 6   ┆ 7   ┆ 8   ┆ 9   ┆ 10  ┆ 11  ┆ 12  ┆ 13  ┆ 14  ┆ 15  ┆ 16  ┆ 17  ┆ 18  ┆ 19  ┆ 20  ┆ 21  ┆ 22  ┆ 23  ┆ 24  ┆ 25  ┆ 26  ┆ 27  ┆ 28  ┆ 29  ┆ 30  ┆ 31  ┆ 32  ┆ 33  ┆ 34  ┆ 35  ┆ 36  ┆ 37  ┆ 38  ┆ 39  ┆ 40  ┆ 41  ┆ 42  ┆ 43  ┆ 44  ┆ 45  ┆ 46  ┆ 47  ┆ 48  ┆ 49  ┆ 50  ┆ 51  ┆ 52  ┆ 53  ┆ 54  ┆ 55  ┆ 56  ┆ 57  ┆ 58  ┆ 59  ┆ 0   ┆ 1   ┆ 2   ┆ 3   ┆ 4   ┆ 5   ┆ 6   ┆ 7   ┆ 8   ┆ 9   ┆ 10  ┆ 11  ┆ 12  ┆ 13  ┆ 14  ┆ 15  ┆ 16  ┆ 17  ┆ 18  ┆ 19  ┆ 20  ┆ 21  ┆ 22  ┆ 23  ┆ 24  ┆ 25  ┆ 26  ┆ 27  ┆ 28  ┆ 29  ┆ 30  ┆ 31  ┆ 32  ┆ 33  ┆ 34  ┆ 35  ┆ 36  ┆ 37  ┆ 38  ┆ 39  ┆ 40  ┆ 41  ┆ 42  ┆ 43  ┆ 44  ┆ 45  ┆ 46  ┆ 47  ┆ 48  ┆ 49  ┆ 50  ┆ 51  ┆ 52  ┆ 53  ┆ 54  ┆ 55  ┆ 56  ┆ 57  ┆ 58  ┆ 59  │\n",
       "│ str ┆ f64 ┆ f64 ┆ f64 ┆ f64 ┆ f64 ┆ f64 ┆ f64 ┆ f64 ┆ f64 ┆ f64 ┆ --- ┆ --- ┆ --- ┆ --- ┆ --- ┆ --- ┆ --- ┆ --- ┆ --- ┆ --- ┆ --- ┆ --- ┆ --- ┆ --- ┆ --- ┆ --- ┆ --- ┆ --- ┆ --- ┆ --- ┆ --- ┆ --- ┆ --- ┆ --- ┆ --- ┆ --- ┆ --- ┆ --- ┆ --- ┆ --- ┆ --- ┆ --- ┆ --- ┆ --- ┆ --- ┆ --- ┆ --- ┆ --- ┆ --- ┆ --- ┆ --- ┆ --- ┆ --- ┆ --- ┆ --- ┆ --- ┆ --- ┆ --- ┆ --- ┆ --- ┆ 0   ┆ 1   ┆ 2   ┆ 3   ┆ 4   ┆ 5   ┆ 6   ┆ 7   ┆ 8   ┆ 9   ┆ 10  ┆ 11  ┆ 12  ┆ 13  ┆ 14  ┆ 15  ┆ 16  ┆ 17  ┆ 18  ┆ 19  ┆ 20  ┆ 21  ┆ 22  ┆ 23  ┆ 24  ┆ 25  ┆ 26  ┆ 27  ┆ 28  ┆ 29  ┆ 30  ┆ 31  ┆ 32  ┆ 33  ┆ 34  ┆ 35  ┆ 36  ┆ 37  ┆ 38  ┆ 39  ┆ 40  ┆ 41  ┆ 42  ┆ 43  ┆ 44  ┆ 45  ┆ 46  ┆ 47  ┆ 48  ┆ 49  ┆ 50  ┆ 51  ┆ 52  ┆ 53  ┆ 54  ┆ 55  ┆ 56  ┆ 57  ┆ 58  ┆ 59  ┆ 0   ┆ 1   ┆ 2   ┆ 3   ┆ 4   ┆ 5   ┆ 6   ┆ 7   ┆ 8   ┆ 9   ┆ 10  ┆ 11  ┆ 12  ┆ 13  ┆ 14  ┆ 15  ┆ 16  ┆ 17  ┆ 18  ┆ 19  ┆ 20  ┆ 21  ┆ 22  ┆ 23  ┆ 24  ┆ 25  ┆ 26  ┆ 27  ┆ 28  ┆ 29  ┆ 30  ┆ 31  ┆ 32  ┆ 33  ┆ 34  ┆ 35  ┆ 36  ┆ 37  ┆ 38  ┆ 39  ┆ 40  ┆ 41  ┆ 42  ┆ 43  ┆ 44  ┆ 45  ┆ 46  ┆ 47  ┆ 48  ┆ 49  ┆ 50  ┆ 51  ┆ 52  ┆ 53  ┆ 54  ┆ 55  ┆ 56  ┆ 57  ┆ 58  ┆ 59  ┆ 0   ┆ 1   ┆ 2   ┆ 3   ┆ 4   ┆ 5   ┆ 6   ┆ 7   ┆ 8   ┆ 9   ┆ 10  ┆ 11  ┆ 12  ┆ 13  ┆ 14  ┆ 15  ┆ 16  ┆ 17  ┆ 18  ┆ 19  ┆ 20  ┆ 21  ┆ 22  ┆ 23  ┆ 24  ┆ 25  ┆ 26  ┆ 27  ┆ 28  ┆ 29  ┆ 30  ┆ 31  ┆ 32  ┆ 33  ┆ 34  ┆ 35  ┆ 36  ┆ 37  ┆ 38  ┆ 39  ┆ 40  ┆ 41  ┆ 42  ┆ 43  ┆ 44  ┆ 45  ┆ 46  ┆ 47  ┆ 48  ┆ 49  ┆ 50  ┆ 51  ┆ 52  ┆ 53  ┆ 54  ┆ 55  ┆ 56  ┆ 57  ┆ 58  ┆ 59  ┆ f64 ┆ f64 ┆ f64 ┆ f64 ┆ f64 ┆ f64 ┆ f64 ┆ f64 ┆ f64 ┆ f64 ┆ --- ┆ --- ┆ --- ┆ --- ┆ --- ┆ --- ┆ --- ┆ --- ┆ --- ┆ --- ┆ --- ┆ --- ┆ --- ┆ --- ┆ --- ┆ --- ┆ --- ┆ --- ┆ --- ┆ --- ┆ --- ┆ --- ┆ --- ┆ --- ┆ --- ┆ --- ┆ --- ┆ --- ┆ --- ┆ --- ┆ --- ┆ --- ┆ --- ┆ --- ┆ --- ┆ --- ┆ --- ┆ --- ┆ --- ┆ --- ┆ --- ┆ --- ┆ --- ┆ --- ┆ --- ┆ --- ┆ --- ┆ --- ┆ --- ┆ --- ┆ f64 ┆ f64 ┆ f64 ┆ f64 ┆ f64 ┆ f64 ┆ f64 ┆ f64 ┆ f64 ┆ f64 ┆ --- ┆ --- ┆ --- ┆ --- ┆ --- ┆ --- ┆ --- ┆ --- ┆ --- ┆ --- ┆ --- ┆ --- ┆ --- ┆ --- ┆ --- ┆ --- ┆ --- ┆ --- ┆ --- ┆ --- ┆ --- ┆ --- ┆ --- ┆ --- ┆ --- ┆ --- ┆ --- ┆ --- ┆ --- ┆ --- ┆ --- ┆ --- ┆ --- ┆ --- ┆ --- ┆ --- ┆ --- ┆ --- ┆ --- ┆ --- ┆ --- ┆ --- ┆ --- ┆ --- ┆ --- ┆ --- ┆ --- ┆ --- ┆ --- ┆ --- ┆ f64 ┆ --- ┆ --- ┆ --- ┆ f64 ┆ f64 ┆ --- ┆ --- ┆ --- ┆ --- ┆ --- ┆ --- ┆ AC  ┆ RAC ┆ AC  ┆ LAN ┆ --- ┆ --- ┆ --- ┆ --- ┆ --- ┆ --- ┆ --- ┆ --- ┆ --- ┆ --- ┆ 0   ┆ 1   ┆ 2   ┆ 3   ┆ 4   ┆ 5   ┆ 6   ┆ 7   ┆ 8   ┆ 9   ┆ 0   ┆ 1   ┆ 2   ┆ 3   ┆ 4   ┆ 5   ┆ 6   ┆ 7   ┆ 8   ┆ 9   ┆ 0   ┆ 1   ┆ 2   ┆ 3   ┆ 4   ┆ 5   ┆ 6   ┆ 7   ┆ 8   ┆ 9   ┆ 0   ┆ 1   ┆ 2   ┆ 3   ┆ 4   ┆ 5   ┆ 6   ┆ 7   ┆ 8   ┆ 9   ┆ 0   ┆ 1   ┆ 2   ┆ 3   ┆ 4   ┆ 5   ┆ 6   ┆ 7   ┆ 8   ┆ 9   ┆ --- ┆ --- ┆ --- ┆ --- ┆ --- ┆ --- ┆ --- ┆ --- ┆ --- ┆ --- ┆ --- ┆ --- ┆ --- ┆ --- ┆ --- ┆ --- ┆ --- ┆ --- ┆ --- ┆ --- ┆ --- ┆ --- ┆ --- ┆ --- ┆ --- ┆ --- ┆ --- ┆ --- ┆ --- ┆ --- ┆ --- ┆ --- ┆ --- ┆ --- ┆ --- ┆ --- ┆ --- ┆ --- ┆ --- ┆ --- ┆ --- ┆ --- ┆ --- ┆ --- ┆ --- ┆ --- ┆ --- ┆ --- ┆ --- ┆ --- ┆ --- ┆ --- ┆ --- ┆ --- ┆ --- ┆ --- ┆ --- ┆ --- ┆ --- ┆ --- ┆ --- ┆ --- ┆ --- ┆ --- ┆ --- ┆ --- ┆ --- ┆ --- ┆ --- ┆ --- ┆ --- ┆ --- ┆ --- ┆ --- ┆ --- ┆ --- ┆ --- ┆ --- ┆ --- ┆ --- ┆ --- ┆ --- ┆ --- ┆ --- ┆ --- ┆ --- ┆ --- ┆ --- ┆ --- ┆ --- ┆ --- ┆ --- ┆ --- ┆ --- ┆ --- ┆ --- ┆ --- ┆ --- ┆ --- ┆ --- ┆ --- ┆ --- ┆ --- ┆ --- ┆ --- ┆ --- ┆ --- ┆ --- ┆ --- ┆ --- ┆ --- ┆ --- ┆ --- ┆ --- ┆ --- ┆ --- ┆ --- ┆ --- ┆ --- ┆ --- │\n",
       "│     ┆     ┆     ┆     ┆     ┆     ┆     ┆     ┆     ┆     ┆     ┆ f64 ┆ f64 ┆ f64 ┆ f64 ┆ f64 ┆ f64 ┆ f64 ┆ f64 ┆ f64 ┆ f64 ┆ f64 ┆ f64 ┆ f64 ┆ f64 ┆ f64 ┆ f64 ┆ f64 ┆ f64 ┆ f64 ┆ f64 ┆ f64 ┆ f64 ┆ f64 ┆ f64 ┆ f64 ┆ f64 ┆ f64 ┆ f64 ┆ f64 ┆ f64 ┆ f64 ┆ f64 ┆ f64 ┆ f64 ┆ f64 ┆ f64 ┆ f64 ┆ f64 ┆ f64 ┆ f64 ┆ f64 ┆ f64 ┆ f64 ┆ f64 ┆ f64 ┆ f64 ┆ f64 ┆ f64 ┆ f64 ┆ f64 ┆ --- ┆ --- ┆ --- ┆ --- ┆ --- ┆ --- ┆ --- ┆ --- ┆ --- ┆ --- ┆ --- ┆ --- ┆ --- ┆ --- ┆ --- ┆ --- ┆ --- ┆ --- ┆ --- ┆ --- ┆ --- ┆ --- ┆ --- ┆ --- ┆ --- ┆ --- ┆ --- ┆ --- ┆ --- ┆ --- ┆ --- ┆ --- ┆ --- ┆ --- ┆ --- ┆ --- ┆ --- ┆ --- ┆ --- ┆ --- ┆ --- ┆ --- ┆ --- ┆ --- ┆ --- ┆ --- ┆ --- ┆ --- ┆ --- ┆ --- ┆ --- ┆ --- ┆ --- ┆ --- ┆ --- ┆ --- ┆ --- ┆ --- ┆ --- ┆ --- ┆ --- ┆ --- ┆ --- ┆ --- ┆ --- ┆ --- ┆ --- ┆ --- ┆ --- ┆ --- ┆ --- ┆ --- ┆ --- ┆ --- ┆ --- ┆ --- ┆ --- ┆ --- ┆ --- ┆ --- ┆ --- ┆ --- ┆ --- ┆ --- ┆ --- ┆ --- ┆ --- ┆ --- ┆ --- ┆ --- ┆ --- ┆ --- ┆ --- ┆ --- ┆ --- ┆ --- ┆ --- ┆ --- ┆ --- ┆ --- ┆ --- ┆ --- ┆ --- ┆ --- ┆ --- ┆ --- ┆ --- ┆ --- ┆ --- ┆ --- ┆ --- ┆ --- ┆ --- ┆ --- ┆ --- ┆ --- ┆ --- ┆ --- ┆ --- ┆ --- ┆ --- ┆ --- ┆ --- ┆ --- ┆ --- ┆ --- ┆ --- ┆ --- ┆ --- ┆ --- ┆ --- ┆ --- ┆ --- ┆ --- ┆ --- ┆ --- ┆ --- ┆ --- ┆ --- ┆ --- ┆ --- ┆ --- ┆ --- ┆ --- ┆ --- ┆ --- ┆ --- ┆ --- ┆ --- ┆ --- ┆ --- ┆ --- ┆ --- ┆ --- ┆ --- ┆ --- ┆ --- ┆ --- ┆ --- ┆ --- ┆ --- ┆ --- ┆ --- ┆ --- ┆ --- ┆ --- ┆ --- ┆ --- ┆ --- ┆ --- ┆ --- ┆ --- ┆ --- ┆ --- ┆ --- ┆ --- ┆ --- ┆ --- ┆ --- ┆ --- ┆     ┆     ┆     ┆     ┆     ┆     ┆     ┆     ┆     ┆     ┆ f64 ┆ f64 ┆ f64 ┆ f64 ┆ f64 ┆ f64 ┆ f64 ┆ f64 ┆ f64 ┆ f64 ┆ f64 ┆ f64 ┆ f64 ┆ f64 ┆ f64 ┆ f64 ┆ f64 ┆ f64 ┆ f64 ┆ f64 ┆ f64 ┆ f64 ┆ f64 ┆ f64 ┆ f64 ┆ f64 ┆ f64 ┆ f64 ┆ f64 ┆ f64 ┆ f64 ┆ f64 ┆ f64 ┆ f64 ┆ f64 ┆ f64 ┆ f64 ┆ f64 ┆ f64 ┆ f64 ┆ f64 ┆ f64 ┆ f64 ┆ f64 ┆ f64 ┆ f64 ┆ f64 ┆ f64 ┆ f64 ┆ f64 ┆     ┆     ┆     ┆     ┆     ┆     ┆     ┆     ┆     ┆     ┆ f64 ┆ f64 ┆ f64 ┆ f64 ┆ f64 ┆ f64 ┆ f64 ┆ f64 ┆ f64 ┆ f64 ┆ f64 ┆ f64 ┆ f64 ┆ f64 ┆ f64 ┆ f64 ┆ f64 ┆ f64 ┆ f64 ┆ f64 ┆ f64 ┆ f64 ┆ f64 ┆ f64 ┆ f64 ┆ f64 ┆ f64 ┆ f64 ┆ f64 ┆ f64 ┆ f64 ┆ f64 ┆ f64 ┆ f64 ┆ f64 ┆ f64 ┆ f64 ┆ f64 ┆ f64 ┆ f64 ┆ f64 ┆ f64 ┆ f64 ┆ f64 ┆ f64 ┆ f64 ┆ f64 ┆ f64 ┆ f64 ┆ f64 ┆     ┆ f64 ┆ f64 ┆ f64 ┆     ┆     ┆ f64 ┆ f64 ┆ f64 ┆ f64 ┆ f64 ┆ f64 ┆ --- ┆ --- ┆ --- ┆ D   ┆ f64 ┆ f64 ┆ f64 ┆ f64 ┆ f64 ┆ f64 ┆ f64 ┆ f64 ┆ f64 ┆ f64 ┆ --- ┆ --- ┆ --- ┆ --- ┆ --- ┆ --- ┆ --- ┆ --- ┆ --- ┆ --- ┆ --- ┆ --- ┆ --- ┆ --- ┆ --- ┆ --- ┆ --- ┆ --- ┆ --- ┆ --- ┆ --- ┆ --- ┆ --- ┆ --- ┆ --- ┆ --- ┆ --- ┆ --- ┆ --- ┆ --- ┆ --- ┆ --- ┆ --- ┆ --- ┆ --- ┆ --- ┆ --- ┆ --- ┆ --- ┆ --- ┆ --- ┆ --- ┆ --- ┆ --- ┆ --- ┆ --- ┆ --- ┆ --- ┆ --- ┆ --- ┆ f64 ┆ f64 ┆ f64 ┆ f64 ┆ f64 ┆ f64 ┆ f64 ┆ f64 ┆ f64 ┆ f64 ┆ f64 ┆ f64 ┆ f64 ┆ f64 ┆ f64 ┆ f64 ┆ f64 ┆ f64 ┆ f64 ┆ f64 ┆ f64 ┆ f64 ┆ f64 ┆ f64 ┆ f64 ┆ f64 ┆ f64 ┆ f64 ┆ f64 ┆ f64 ┆ f64 ┆ f64 ┆ f64 ┆ f64 ┆ f64 ┆ f64 ┆ f64 ┆ f64 ┆ f64 ┆ f64 ┆ f64 ┆ f64 ┆ f64 ┆ f64 ┆ f64 ┆ f64 ┆ f64 ┆ f64 ┆ f64 ┆ f64 ┆ f64 ┆ f64 ┆ f64 ┆ f64 ┆ f64 ┆ f64 ┆ f64 ┆ f64 ┆ f64 ┆ f64 ┆ f64 ┆ f64 ┆ f64 ┆ f64 ┆ f64 ┆ f64 ┆ f64 ┆ f64 ┆ f64 ┆ f64 ┆ f64 ┆ f64 ┆ f64 ┆ f64 ┆ f64 ┆ f64 ┆ f64 ┆ f64 ┆ f64 ┆ f64 ┆ f64 ┆ f64 ┆ f64 ┆ f64 ┆ f64 ┆ f64 ┆ f64 ┆ f64 ┆ f64 ┆ f64 ┆ f64 ┆ f64 ┆ f64 ┆ f64 ┆ f64 ┆ f64 ┆ f64 ┆ f64 ┆ f64 ┆ f64 ┆ f64 ┆ f64 ┆ f64 ┆ f64 ┆ f64 ┆ f64 ┆ f64 ┆ f64 ┆ f64 ┆ f64 ┆ f64 ┆ f64 ┆ f64 ┆ f64 ┆ f64 ┆ f64 ┆ f64 ┆ f64 ┆ f64 ┆ f64 │\n",
       "│     ┆     ┆     ┆     ┆     ┆     ┆     ┆     ┆     ┆     ┆     ┆     ┆     ┆     ┆     ┆     ┆     ┆     ┆     ┆     ┆     ┆     ┆     ┆     ┆     ┆     ┆     ┆     ┆     ┆     ┆     ┆     ┆     ┆     ┆     ┆     ┆     ┆     ┆     ┆     ┆     ┆     ┆     ┆     ┆     ┆     ┆     ┆     ┆     ┆     ┆     ┆     ┆     ┆     ┆     ┆     ┆     ┆     ┆     ┆     ┆     ┆ f64 ┆ f64 ┆ f64 ┆ f64 ┆ f64 ┆ f64 ┆ f64 ┆ f64 ┆ f64 ┆ f64 ┆ f64 ┆ f64 ┆ f64 ┆ f64 ┆ f64 ┆ f64 ┆ f64 ┆ f64 ┆ f64 ┆ f64 ┆ f64 ┆ f64 ┆ f64 ┆ f64 ┆ f64 ┆ f64 ┆ f64 ┆ f64 ┆ f64 ┆ f64 ┆ f64 ┆ f64 ┆ f64 ┆ f64 ┆ f64 ┆ f64 ┆ f64 ┆ f64 ┆ f64 ┆ f64 ┆ f64 ┆ f64 ┆ f64 ┆ f64 ┆ f64 ┆ f64 ┆ f64 ┆ f64 ┆ f64 ┆ f64 ┆ f64 ┆ f64 ┆ f64 ┆ f64 ┆ f64 ┆ f64 ┆ f64 ┆ f64 ┆ f64 ┆ f64 ┆ f64 ┆ f64 ┆ f64 ┆ f64 ┆ f64 ┆ f64 ┆ f64 ┆ f64 ┆ f64 ┆ f64 ┆ f64 ┆ f64 ┆ f64 ┆ f64 ┆ f64 ┆ f64 ┆ f64 ┆ f64 ┆ f64 ┆ f64 ┆ f64 ┆ f64 ┆ f64 ┆ f64 ┆ f64 ┆ f64 ┆ f64 ┆ f64 ┆ f64 ┆ f64 ┆ f64 ┆ f64 ┆ f64 ┆ f64 ┆ f64 ┆ f64 ┆ f64 ┆ f64 ┆ f64 ┆ f64 ┆ f64 ┆ f64 ┆ f64 ┆ f64 ┆ f64 ┆ f64 ┆ f64 ┆ f64 ┆ f64 ┆ f64 ┆ f64 ┆ f64 ┆ f64 ┆ f64 ┆ f64 ┆ f64 ┆ f64 ┆ f64 ┆ f64 ┆ f64 ┆ f64 ┆ f64 ┆ f64 ┆ f64 ┆ f64 ┆ f64 ┆ f64 ┆ f64 ┆ f64 ┆ f64 ┆ f64 ┆ f64 ┆ f64 ┆ f64 ┆ f64 ┆ f64 ┆ f64 ┆ f64 ┆ f64 ┆ f64 ┆ f64 ┆ f64 ┆ f64 ┆ f64 ┆ f64 ┆ f64 ┆ f64 ┆ f64 ┆ f64 ┆ f64 ┆ f64 ┆ f64 ┆ f64 ┆ f64 ┆ f64 ┆ f64 ┆ f64 ┆ f64 ┆ f64 ┆ f64 ┆ f64 ┆ f64 ┆ f64 ┆ f64 ┆ f64 ┆ f64 ┆ f64 ┆ f64 ┆ f64 ┆ f64 ┆ f64 ┆ f64 ┆ f64 ┆ f64 ┆ f64 ┆ f64 ┆ f64 ┆ f64 ┆ f64 ┆ f64 ┆     ┆     ┆     ┆     ┆     ┆     ┆     ┆     ┆     ┆     ┆     ┆     ┆     ┆     ┆     ┆     ┆     ┆     ┆     ┆     ┆     ┆     ┆     ┆     ┆     ┆     ┆     ┆     ┆     ┆     ┆     ┆     ┆     ┆     ┆     ┆     ┆     ┆     ┆     ┆     ┆     ┆     ┆     ┆     ┆     ┆     ┆     ┆     ┆     ┆     ┆     ┆     ┆     ┆     ┆     ┆     ┆     ┆     ┆     ┆     ┆     ┆     ┆     ┆     ┆     ┆     ┆     ┆     ┆     ┆     ┆     ┆     ┆     ┆     ┆     ┆     ┆     ┆     ┆     ┆     ┆     ┆     ┆     ┆     ┆     ┆     ┆     ┆     ┆     ┆     ┆     ┆     ┆     ┆     ┆     ┆     ┆     ┆     ┆     ┆     ┆     ┆     ┆     ┆     ┆     ┆     ┆     ┆     ┆     ┆     ┆     ┆     ┆     ┆     ┆     ┆     ┆     ┆     ┆     ┆     ┆     ┆     ┆     ┆     ┆     ┆     ┆     ┆     ┆     ┆     ┆     ┆     ┆ f64 ┆ f64 ┆ f64 ┆ --- ┆     ┆     ┆     ┆     ┆     ┆     ┆     ┆     ┆     ┆     ┆ f64 ┆ f64 ┆ f64 ┆ f64 ┆ f64 ┆ f64 ┆ f64 ┆ f64 ┆ f64 ┆ f64 ┆ f64 ┆ f64 ┆ f64 ┆ f64 ┆ f64 ┆ f64 ┆ f64 ┆ f64 ┆ f64 ┆ f64 ┆ f64 ┆ f64 ┆ f64 ┆ f64 ┆ f64 ┆ f64 ┆ f64 ┆ f64 ┆ f64 ┆ f64 ┆ f64 ┆ f64 ┆ f64 ┆ f64 ┆ f64 ┆ f64 ┆ f64 ┆ f64 ┆ f64 ┆ f64 ┆ f64 ┆ f64 ┆ f64 ┆ f64 ┆ f64 ┆ f64 ┆ f64 ┆ f64 ┆ f64 ┆ f64 ┆     ┆     ┆     ┆     ┆     ┆     ┆     ┆     ┆     ┆     ┆     ┆     ┆     ┆     ┆     ┆     ┆     ┆     ┆     ┆     ┆     ┆     ┆     ┆     ┆     ┆     ┆     ┆     ┆     ┆     ┆     ┆     ┆     ┆     ┆     ┆     ┆     ┆     ┆     ┆     ┆     ┆     ┆     ┆     ┆     ┆     ┆     ┆     ┆     ┆     ┆     ┆     ┆     ┆     ┆     ┆     ┆     ┆     ┆     ┆     ┆     ┆     ┆     ┆     ┆     ┆     ┆     ┆     ┆     ┆     ┆     ┆     ┆     ┆     ┆     ┆     ┆     ┆     ┆     ┆     ┆     ┆     ┆     ┆     ┆     ┆     ┆     ┆     ┆     ┆     ┆     ┆     ┆     ┆     ┆     ┆     ┆     ┆     ┆     ┆     ┆     ┆     ┆     ┆     ┆     ┆     ┆     ┆     ┆     ┆     ┆     ┆     ┆     ┆     ┆     ┆     ┆     ┆     ┆     ┆     │\n",
       "│     ┆     ┆     ┆     ┆     ┆     ┆     ┆     ┆     ┆     ┆     ┆     ┆     ┆     ┆     ┆     ┆     ┆     ┆     ┆     ┆     ┆     ┆     ┆     ┆     ┆     ┆     ┆     ┆     ┆     ┆     ┆     ┆     ┆     ┆     ┆     ┆     ┆     ┆     ┆     ┆     ┆     ┆     ┆     ┆     ┆     ┆     ┆     ┆     ┆     ┆     ┆     ┆     ┆     ┆     ┆     ┆     ┆     ┆     ┆     ┆     ┆     ┆     ┆     ┆     ┆     ┆     ┆     ┆     ┆     ┆     ┆     ┆     ┆     ┆     ┆     ┆     ┆     ┆     ┆     ┆     ┆     ┆     ┆     ┆     ┆     ┆     ┆     ┆     ┆     ┆     ┆     ┆     ┆     ┆     ┆     ┆     ┆     ┆     ┆     ┆     ┆     ┆     ┆     ┆     ┆     ┆     ┆     ┆     ┆     ┆     ┆     ┆     ┆     ┆     ┆     ┆     ┆     ┆     ┆     ┆     ┆     ┆     ┆     ┆     ┆     ┆     ┆     ┆     ┆     ┆     ┆     ┆     ┆     ┆     ┆     ┆     ┆     ┆     ┆     ┆     ┆     ┆     ┆     ┆     ┆     ┆     ┆     ┆     ┆     ┆     ┆     ┆     ┆     ┆     ┆     ┆     ┆     ┆     ┆     ┆     ┆     ┆     ┆     ┆     ┆     ┆     ┆     ┆     ┆     ┆     ┆     ┆     ┆     ┆     ┆     ┆     ┆     ┆     ┆     ┆     ┆     ┆     ┆     ┆     ┆     ┆     ┆     ┆     ┆     ┆     ┆     ┆     ┆     ┆     ┆     ┆     ┆     ┆     ┆     ┆     ┆     ┆     ┆     ┆     ┆     ┆     ┆     ┆     ┆     ┆     ┆     ┆     ┆     ┆     ┆     ┆     ┆     ┆     ┆     ┆     ┆     ┆     ┆     ┆     ┆     ┆     ┆     ┆     ┆     ┆     ┆     ┆     ┆     ┆     ┆     ┆     ┆     ┆     ┆     ┆     ┆     ┆     ┆     ┆     ┆     ┆     ┆     ┆     ┆     ┆     ┆     ┆     ┆     ┆     ┆     ┆     ┆     ┆     ┆     ┆     ┆     ┆     ┆     ┆     ┆     ┆     ┆     ┆     ┆     ┆     ┆     ┆     ┆     ┆     ┆     ┆     ┆     ┆     ┆     ┆     ┆     ┆     ┆     ┆     ┆     ┆     ┆     ┆     ┆     ┆     ┆     ┆     ┆     ┆     ┆     ┆     ┆     ┆     ┆     ┆     ┆     ┆     ┆     ┆     ┆     ┆     ┆     ┆     ┆     ┆     ┆     ┆     ┆     ┆     ┆     ┆     ┆     ┆     ┆     ┆     ┆     ┆     ┆     ┆     ┆     ┆     ┆     ┆     ┆     ┆     ┆     ┆     ┆     ┆     ┆     ┆     ┆     ┆     ┆     ┆     ┆     ┆     ┆     ┆     ┆     ┆     ┆     ┆     ┆     ┆     ┆     ┆     ┆     ┆     ┆     ┆     ┆     ┆     ┆     ┆     ┆     ┆     ┆     ┆     ┆     ┆     ┆     ┆     ┆     ┆     ┆     ┆     ┆     ┆     ┆     ┆ f64 ┆     ┆     ┆     ┆     ┆     ┆     ┆     ┆     ┆     ┆     ┆     ┆     ┆     ┆     ┆     ┆     ┆     ┆     ┆     ┆     ┆     ┆     ┆     ┆     ┆     ┆     ┆     ┆     ┆     ┆     ┆     ┆     ┆     ┆     ┆     ┆     ┆     ┆     ┆     ┆     ┆     ┆     ┆     ┆     ┆     ┆     ┆     ┆     ┆     ┆     ┆     ┆     ┆     ┆     ┆     ┆     ┆     ┆     ┆     ┆     ┆     ┆     ┆     ┆     ┆     ┆     ┆     ┆     ┆     ┆     ┆     ┆     ┆     ┆     ┆     ┆     ┆     ┆     ┆     ┆     ┆     ┆     ┆     ┆     ┆     ┆     ┆     ┆     ┆     ┆     ┆     ┆     ┆     ┆     ┆     ┆     ┆     ┆     ┆     ┆     ┆     ┆     ┆     ┆     ┆     ┆     ┆     ┆     ┆     ┆     ┆     ┆     ┆     ┆     ┆     ┆     ┆     ┆     ┆     ┆     ┆     ┆     ┆     ┆     ┆     ┆     ┆     ┆     ┆     ┆     ┆     ┆     ┆     ┆     ┆     ┆     ┆     ┆     ┆     ┆     ┆     ┆     ┆     ┆     ┆     ┆     ┆     ┆     ┆     ┆     ┆     ┆     ┆     ┆     ┆     ┆     ┆     ┆     ┆     ┆     ┆     ┆     ┆     ┆     ┆     ┆     ┆     ┆     ┆     ┆     ┆     ┆     ┆     ┆     ┆     ┆     ┆     ┆     ┆     ┆     │\n",
       "╞═════╪═════╪═════╪═════╪═════╪═════╪═════╪═════╪═════╪═════╪═════╪═════╪═════╪═════╪═════╪═════╪═════╪═════╪═════╪═════╪═════╪═════╪═════╪═════╪═════╪═════╪═════╪═════╪═════╪═════╪═════╪═════╪═════╪═════╪═════╪═════╪═════╪═════╪═════╪═════╪═════╪═════╪═════╪═════╪═════╪═════╪═════╪═════╪═════╪═════╪═════╪═════╪═════╪═════╪═════╪═════╪═════╪═════╪═════╪═════╪═════╪═════╪═════╪═════╪═════╪═════╪═════╪═════╪═════╪═════╪═════╪═════╪═════╪═════╪═════╪═════╪═════╪═════╪═════╪═════╪═════╪═════╪═════╪═════╪═════╪═════╪═════╪═════╪═════╪═════╪═════╪═════╪═════╪═════╪═════╪═════╪═════╪═════╪═════╪═════╪═════╪═════╪═════╪═════╪═════╪═════╪═════╪═════╪═════╪═════╪═════╪═════╪═════╪═════╪═════╪═════╪═════╪═════╪═════╪═════╪═════╪═════╪═════╪═════╪═════╪═════╪═════╪═════╪═════╪═════╪═════╪═════╪═════╪═════╪═════╪═════╪═════╪═════╪═════╪═════╪═════╪═════╪═════╪═════╪═════╪═════╪═════╪═════╪═════╪═════╪═════╪═════╪═════╪═════╪═════╪═════╪═════╪═════╪═════╪═════╪═════╪═════╪═════╪═════╪═════╪═════╪═════╪═════╪═════╪═════╪═════╪═════╪═════╪═════╪═════╪═════╪═════╪═════╪═════╪═════╪═════╪═════╪═════╪═════╪═════╪═════╪═════╪═════╪═════╪═════╪═════╪═════╪═════╪═════╪═════╪═════╪═════╪═════╪═════╪═════╪═════╪═════╪═════╪═════╪═════╪═════╪═════╪═════╪═════╪═════╪═════╪═════╪═════╪═════╪═════╪═════╪═════╪═════╪═════╪═════╪═════╪═════╪═════╪═════╪═════╪═════╪═════╪═════╪═════╪═════╪═════╪═════╪═════╪═════╪═════╪═════╪═════╪═════╪═════╪═════╪═════╪═════╪═════╪═════╪═════╪═════╪═════╪═════╪═════╪═════╪═════╪═════╪═════╪═════╪═════╪═════╪═════╪═════╪═════╪═════╪═════╪═════╪═════╪═════╪═════╪═════╪═════╪═════╪═════╪═════╪═════╪═════╪═════╪═════╪═════╪═════╪═════╪═════╪═════╪═════╪═════╪═════╪═════╪═════╪═════╪═════╪═════╪═════╪═════╪═════╪═════╪═════╪═════╪═════╪═════╪═════╪═════╪═════╪═════╪═════╪═════╪═════╪═════╪═════╪═════╪═════╪═════╪═════╪═════╪═════╪═════╪═════╪═════╪═════╪═════╪═════╪═════╪═════╪═════╪═════╪═════╪═════╪═════╪═════╪═════╪═════╪═════╪═════╪═════╪═════╪═════╪═════╪═════╪═════╪═════╪═════╪═════╪═════╪═════╪═════╪═════╪═════╪═════╪═════╪═════╪═════╪═════╪═════╪═════╪═════╪═════╪═════╪═════╪═════╪═════╪═════╪═════╪═════╪═════╪═════╪═════╪═════╪═════╪═════╪═════╪═════╪═════╪═════╪═════╪═════╪═════╪═════╪═════╪═════╪═════╪═════╪═════╪═════╪═════╪═════╪═════╪═════╪═════╪═════╪═════╪═════╪═════╪═════╪═════╪═════╪═════╪═════╪═════╪═════╪═════╪═════╪═════╪═════╪═════╪═════╪═════╪═════╪═════╪═════╪═════╪═════╪═════╪═════╪═════╪═════╪═════╪═════╪═════╪═════╪═════╪═════╪═════╪═════╪═════╪═════╪═════╪═════╪═════╪═════╪═════╪═════╪═════╪═════╪═════╪═════╪═════╪═════╪═════╪═════╪═════╪═════╪═════╪═════╪═════╪═════╪═════╪═════╪═════╪═════╪═════╪═════╪═════╪═════╪═════╪═════╪═════╪═════╪═════╪═════╪═════╪═════╪═════╪═════╪═════╪═════╪═════╪═════╪═════╪═════╪═════╪═════╪═════╪═════╪═════╪═════╪═════╪═════╪═════╪═════╪═════╪═════╪═════╪═════╪═════╪═════╪═════╪═════╪═════╪═════╪═════╪═════╪═════╪═════╪═════╪═════╪═════╪═════╪═════╪═════╪═════╪═════╪═════╪═════╪═════╪═════╪═════╪═════╪═════╪═════╪═════╪═════╪═════╪═════╪═════╪═════╪═════╪═════╪═════╪═════╪═════╪═════╪═════╪═════╪═════╪═════╪═════╪═════╪═════╪═════╪═════╪═════╪═════╪═════╪═════╪═════╪═════╪═════╪═════╪═════╪═════╪═════╪═════╪═════╪═════╪═════╪═════╪═════╪═════╪═════╪═════╪═════╪═════╪═════╪═════╪═════╪═════╪═════╪═════╪═════╪═════╪═════╪═════╡\n",
       "│ tes ┆ 209 ┆ 220 ┆ 227 ┆ 241 ┆ 254 ┆ 262 ┆ 261 ┆ 254 ┆ 243 ┆ 236 ┆ 229 ┆ 225 ┆ 221 ┆ 215 ┆ 208 ┆ 203 ┆ 199 ┆ 198 ┆ 196 ┆ 198 ┆ 201 ┆ 205 ┆ 209 ┆ 214 ┆ 219 ┆ 224 ┆ 228 ┆ 233 ┆ 237 ┆ 241 ┆ 246 ┆ 249 ┆ 253 ┆ 256 ┆ 260 ┆ 263 ┆ 266 ┆ 269 ┆ 271 ┆ 274 ┆ 276 ┆ 278 ┆ 279 ┆ 281 ┆ 282 ┆ 283 ┆ 284 ┆ 285 ┆ 286 ┆ 287 ┆ 288 ┆ 288 ┆ 289 ┆ 290 ┆ 291 ┆ 292 ┆ 293 ┆ 294 ┆ 295 ┆ 296 ┆ 0.0 ┆ 0.0 ┆ 0.0 ┆ 0.0 ┆ 0.0 ┆ 0.0 ┆ 0.0 ┆ 0.0 ┆ 0.0 ┆ 0.0 ┆ 0.0 ┆ 0.0 ┆ 0.0 ┆ 0.0 ┆ 0.0 ┆ 0.0 ┆ 0.0 ┆ 0.0 ┆ 0.0 ┆ 0.0 ┆ 0.0 ┆ 0.0 ┆ 0.0 ┆ 0.0 ┆ 0.0 ┆ 0.0 ┆ 0.0 ┆ 0.0 ┆ 0.0 ┆ 0.0 ┆ 0.0 ┆ 0.0 ┆ 0.0 ┆ 0.0 ┆ 0.0 ┆ 0.0 ┆ 0.0 ┆ 0.0 ┆ 0.0 ┆ 0.0 ┆ 0.0 ┆ 0.0 ┆ 0.0 ┆ 0.0 ┆ 0.0 ┆ 0.0 ┆ 0.0 ┆ 0.0 ┆ 0.0 ┆ 0.0 ┆ 0.0 ┆ 0.0 ┆ 0.0 ┆ 0.0 ┆ 0.0 ┆ 0.0 ┆ 0.0 ┆ 0.0 ┆ 0.0 ┆ 0.0 ┆ 9.7 ┆ 9.7 ┆ 9.5 ┆ 9.0 ┆ 8.8 ┆ 8.7 ┆ 7.4 ┆ 5.7 ┆ 4.1 ┆ 2.5 ┆ 9.0 ┆ 8.8 ┆ 3.9 ┆ 5.2 ┆ 3.8 ┆ 0.0 ┆ 0.0 ┆ 0.0 ┆ 0.0 ┆ 0.0 ┆ 0.0 ┆ 1.2 ┆ 0.0 ┆ 0.0 ┆ 0.0 ┆ 0.0 ┆ 0.0 ┆ 6.3 ┆ 8.4 ┆ 1.0 ┆ 2.3 ┆ 5.3 ┆ 0.0 ┆ 1.7 ┆ 1.9 ┆ 5.1 ┆ 0.0 ┆ 3.3 ┆ 5.4 ┆ 5.0 ┆ 0.0 ┆ 0.0 ┆ 0.0 ┆ 0.0 ┆ 0.0 ┆ 0.0 ┆ 0.0 ┆ 0.0 ┆ 0.0 ┆ 0.0 ┆ 0.0 ┆ 0.0 ┆ 0.0 ┆ 0.0 ┆ 0.0 ┆ 0.0 ┆ 2.4 ┆ 7.4 ┆ 2.4 ┆ 7.5 ┆ 3.2 ┆ 3.5 ┆ 3.9 ┆ 4.7 ┆ 5.1 ┆ 5.5 ┆ 5.5 ┆ 5.0 ┆ 4.1 ┆ 3.0 ┆ 1.2 ┆ 1.2 ┆ 5.5 ┆ 8.9 ┆ 2.3 ┆ 0.0 ┆ 1.6 ┆ 5.6 ┆ 8.7 ┆ 3.3 ┆ 1.6 ┆ 0.0 ┆ 0.0 ┆ 0.0 ┆ 0.0 ┆ 0.0 ┆ 0.0 ┆ 0.0 ┆ 0.0 ┆ 0.0 ┆ 0.0 ┆ 0.0 ┆ 0.0 ┆ 5.0 ┆ 1.7 ┆ 6.1 ┆ 9.7 ┆ 3.2 ┆ 2.4 ┆ 7.7 ┆ 1.6 ┆ 2.6 ┆ 5.0 ┆ 5.2 ┆ 3.7 ┆ 7.3 ┆ 5.2 ┆ 3.7 ┆ 3.7 ┆ 2.3 ┆ 2.7 ┆ 6.0 ┆ 1.4 ┆ 4.6 ┆ 0.0 ┆ 3.0 ┆ 1.9 ┆ 2.0 ┆ 1.2 ┆ 1.2 ┆ -12 ┆ -35 ┆ -39 ┆ -26 ┆ -27 ┆ -26 ┆ -25 ┆ -24 ┆ -21 ┆ -18 ┆ -13 ┆ -7. ┆ -2. ┆ 0.4 ┆ 6.0 ┆ 9.9 ┆ 14. ┆ 20. ┆ 24. ┆ 28. ┆ 31. ┆ 34. ┆ 35. ┆ 35. ┆ 33. ┆ 31. ┆ 29. ┆ 27. ┆ 25. ┆ 23. ┆ 21. ┆ 20. ┆ 18. ┆ 16. ┆ 15. ┆ 13. ┆ 12. ┆ 11. ┆ 9.9 ┆ 8.9 ┆ 8.0 ┆ 7.1 ┆ 6.2 ┆ 5.4 ┆ 4.7 ┆ 4.1 ┆ 3.6 ┆ 3.0 ┆ 2.5 ┆ 2.0 ┆ 1.5 ┆ 1.1 ┆ 0.6 ┆ 0.2 ┆ -0. ┆ -0. ┆ -1. ┆ -1. ┆ -1. ┆ -1. ┆ 11. ┆ 6.0 ┆ 11. ┆ 2.3 ┆ -3. ┆ 0.9 ┆ 5.2 ┆ 5.2 ┆ 1.6 ┆ 0.2 ┆ 1.0 ┆ 1.3 ┆ 0.9 ┆ 3.4 ┆ 4.7 ┆ 2.9 ┆ 3.0 ┆ 2.9 ┆ 2.0 ┆ 1.9 ┆ 2.1 ┆ 2.0 ┆ 1.5 ┆ 1.5 ┆ 1.5 ┆ 1.3 ┆ 1.1 ┆ 0.8 ┆ 0.5 ┆ 0.3 ┆ 0.3 ┆ 0.5 ┆ 0.8 ┆ 1.0 ┆ 1.0 ┆ 0.9 ┆ 0.7 ┆ 0.4 ┆ 0.3 ┆ 0.2 ┆ 0.2 ┆ 0.2 ┆ 0.2 ┆ 0.1 ┆ 0.0 ┆ 0.0 ┆ 0.1 ┆ 0.1 ┆ 0.2 ┆ 0.2 ┆ 0.3 ┆ 0.3 ┆ 0.3 ┆ 0.4 ┆ 0.4 ┆ 0.5 ┆ 0.5 ┆ 0.5 ┆ 0.5 ┆ 0.1 ┆ 100 ┆ 0.0 ┆ 4.3 ┆ -0. ┆ 0.0 ┆ -0. ┆ 0.0 ┆ 1.0 ┆ 1.0 ┆ 1.0 ┆ 1.0 ┆ 438 ┆ 0.0 ┆ 0.0 ┆ 1.0 ┆ 0.0 ┆ 2.6 ┆ 4.7 ┆ 8.5 ┆ 0.0 ┆ 0.0 ┆ 0.0 ┆ 0.0 ┆ 0.0 ┆ 0.0 ┆ 0.0 ┆ 0.0 ┆ 0.0 ┆ 0.0 ┆ 0.0 ┆ 0.0 ┆ 0.0 ┆ 0.0 ┆ 8.4 ┆ 4.8 ┆ 3.3 ┆ 2.4 ┆ 1.8 ┆ 1.3 ┆ 1.0 ┆ 8.9 ┆ 8.0 ┆ 7.4 ┆ 7.1 ┆ 6.9 ┆ 6.8 ┆ 6.7 ┆ 6.6 ┆ 6.5 ┆ 6.4 ┆ 6.3 ┆ 6.3 ┆ 6.2 ┆ 6.0 ┆ 5.9 ┆ 5.7 ┆ 5.5 ┆ 5.4 ┆ 5.2 ┆ 5.0 ┆ 4.7 ┆ 4.4 ┆ 4.2 ┆ 4.0 ┆ 3.8 ┆ 3.6 ┆ 3.4 ┆ 3.3 ┆ 3.2 ┆ 3.2 ┆ 3.1 ┆ 3.0 ┆ 3.0 ┆ 2.9 ┆ 2.9 ┆ 2.8 ┆ 1.7 ┆ 1.9 ┆ 2.2 ┆ 2.5 ┆ 2.9 ┆ 3.3 ┆ 3.7 ┆ 4.2 ┆ 4.6 ┆ 5.1 ┆ 5.5 ┆ 6.0 ┆ 6.5 ┆ 6.9 ┆ 7.4 ┆ 7.8 ┆ 8.2 ┆ 8.6 ┆ 9.0 ┆ 9.4 ┆ 9.7 ┆ 9.9 ┆ 9.9 ┆ 9.9 ┆ 9.9 ┆ 9.9 ┆ 9.9 ┆ 9.9 ┆ 9.9 ┆ 9.9 ┆ 9.9 ┆ 9.9 ┆ 9.9 ┆ 9.9 ┆ 9.9 ┆ 9.9 ┆ 9.9 ┆ 9.9 ┆ 9.9 ┆ 9.9 ┆ 9.9 ┆ 9.9 ┆ 9.9 ┆ 9.9 ┆ 9.9 ┆ 9.9 ┆ 9.9 ┆ 9.9 ┆ 9.9 ┆ 9.9 ┆ 9.9 ┆ 9.9 ┆ 9.9 ┆ 9.9 ┆ 9.9 ┆ 9.9 ┆ 9.9 ┆ 9.9 ┆ 9.9 ┆ 9.9 ┆ 2.7 ┆ 3.3 ┆ 4.2 ┆ 5.3 ┆ 6.5 ┆ 8.1 ┆ 9.8 ┆ 1.1 ┆ 1.4 ┆ 1.6 ┆ 1.8 ┆ 2.1 ┆ 2.4 ┆ 2.7 ┆ 3.0 ┆ 3.3 ┆ 3.5 ┆ 3.8 ┆ 4.1 ┆ 4.4 ┆ 4.7 ┆ 4.9 ┆ 4.9 ┆ 4.9 ┆ 4.9 ┆ 4.9 ┆ 4.9 ┆ 4.9 ┆ 4.9 ┆ 4.9 ┆ 4.9 ┆ 4.9 ┆ 4.9 ┆ 4.9 ┆ 4.9 ┆ 4.9 ┆ 4.9 ┆ 4.9 ┆ 4.9 ┆ 4.9 ┆ 4.9 ┆ 4.9 ┆ 4.9 ┆ 4.9 ┆ 4.9 ┆ 4.9 ┆ 4.9 ┆ 4.9 ┆ 4.9 ┆ 4.9 ┆ 4.9 ┆ 4.9 ┆ 4.9 ┆ 4.9 ┆ 4.9 ┆ 4.9 ┆ 4.9 ┆ 4.9 ┆ 4.9 ┆ 4.9 │\n",
       "│ t_1 ┆ .80 ┆ .69 ┆ .78 ┆ .38 ┆ .60 ┆ .31 ┆ .30 ┆ .06 ┆ .90 ┆ .30 ┆ .97 ┆ .22 ┆ .04 ┆ .82 ┆ .99 ┆ .05 ┆ .04 ┆ .23 ┆ .02 ┆ .16 ┆ .19 ┆ .36 ┆ .87 ┆ .74 ┆ .54 ┆ .30 ┆ .95 ┆ .36 ┆ .65 ┆ .95 ┆ .02 ┆ .80 ┆ .45 ┆ .97 ┆ .29 ┆ .40 ┆ .45 ┆ .33 ┆ .93 ┆ .34 ┆ .36 ┆ .19 ┆ .77 ┆ .11 ┆ .21 ┆ .13 ┆ .58 ┆ .66 ┆ .68 ┆ .64 ┆ .31 ┆ .95 ┆ .68 ┆ .47 ┆ .37 ┆ .34 ┆ .43 ┆ .43 ┆ .38 ┆ .39 ┆ 000 ┆ 000 ┆ 000 ┆ 000 ┆ 000 ┆ 000 ┆ 000 ┆ 000 ┆ 000 ┆ 000 ┆ 000 ┆ 000 ┆ 000 ┆ 000 ┆ 000 ┆ 000 ┆ 000 ┆ 000 ┆ 000 ┆ 000 ┆ 000 ┆ 000 ┆ 000 ┆ 000 ┆ 000 ┆ 000 ┆ 000 ┆ 001 ┆ 002 ┆ 003 ┆ 005 ┆ 007 ┆ 010 ┆ 012 ┆ 015 ┆ 018 ┆ 022 ┆ 025 ┆ 030 ┆ 036 ┆ 043 ┆ 049 ┆ 056 ┆ 063 ┆ 071 ┆ 080 ┆ 084 ┆ 090 ┆ 095 ┆ 100 ┆ 108 ┆ 117 ┆ 123 ┆ 129 ┆ 134 ┆ 138 ┆ 142 ┆ 146 ┆ 153 ┆ 159 ┆ 013 ┆ 067 ┆ 320 ┆ 000 ┆ 489 ┆ 347 ┆ 539 ┆ 589 ┆ 264 ┆ 798 ┆ 800 ┆ 615 ┆ 948 ┆ 197 ┆ 237 ┆     ┆     ┆     ┆     ┆     ┆     ┆ 248 ┆     ┆     ┆     ┆     ┆     ┆ 843 ┆ 492 ┆ 226 ┆ 281 ┆ 019 ┆     ┆ 424 ┆ 801 ┆ 508 ┆     ┆ 095 ┆ 720 ┆ 558 ┆     ┆     ┆ 000 ┆ 000 ┆ 000 ┆ 000 ┆ 000 ┆ 000 ┆ 000 ┆ 000 ┆ 000 ┆ 000 ┆ 000 ┆ 000 ┆ 000 ┆ 000 ┆ 976 ┆ 434 ┆ 470 ┆ 538 ┆ 430 ┆ 474 ┆ 380 ┆ 086 ┆ 482 ┆ 466 ┆ 631 ┆ 086 ┆ 181 ┆ 849 ┆ 191 ┆ 796 ┆ 664 ┆ 162 ┆ 687 ┆     ┆ 279 ┆ 999 ┆ 989 ┆ 620 ┆ 776 ┆     ┆     ┆     ┆     ┆     ┆     ┆     ┆     ┆ 000 ┆ 000 ┆ 000 ┆ 000 ┆ 476 ┆ 979 ┆ 143 ┆ 138 ┆ 653 ┆ 650 ┆ 237 ┆ 265 ┆ 423 ┆ 995 ┆ 668 ┆ 720 ┆ 597 ┆ 720 ┆ 769 ┆ 740 ┆ 163 ┆ 407 ┆ 542 ┆ 243 ┆ 001 ┆     ┆ 952 ┆ 876 ┆ 088 ┆ 196 ┆ 907 ┆ .62 ┆ .26 ┆ .28 ┆ .10 ┆ .02 ┆ .97 ┆ .68 ┆ .11 ┆ .75 ┆ .17 ┆ .10 ┆ 057 ┆ 783 ┆ 827 ┆ 971 ┆ 447 ┆ 382 ┆ 153 ┆ 696 ┆ 106 ┆ 409 ┆ 470 ┆ 623 ┆ 262 ┆ 688 ┆ 477 ┆ 394 ┆ 362 ┆ 418 ┆ 586 ┆ 805 ┆ 051 ┆ 329 ┆ 628 ┆ 029 ┆ 527 ┆ 198 ┆ 006 ┆ 460 ┆ 864 ┆ 468 ┆ 550 ┆ 987 ┆ 704 ┆ 675 ┆ 921 ┆ 544 ┆ 921 ┆ 461 ┆ 538 ┆ 821 ┆ 254 ┆ 726 ┆ 108 ┆ 256 ┆ 681 ┆ 069 ┆ 349 ┆ 312 ┆ 116 ┆ 938 ┆ 370 ┆ 908 ┆ 858 ┆ 281 ┆ 800 ┆ 559 ┆ 414 ┆ 898 ┆ 146 ┆ 398 ┆ 178 ┆ 711 ┆ 721 ┆ 068 ┆ 373 ┆ 556 ┆ 771 ┆ 583 ┆ 352 ┆ 346 ┆ 245 ┆ 546 ┆ 813 ┆ 788 ┆ 842 ┆ 284 ┆ 486 ┆ 405 ┆ 491 ┆ 760 ┆ 674 ┆ 443 ┆ 546 ┆ 909 ┆ 892 ┆ 312 ┆ 758 ┆ 051 ┆ 695 ┆ 565 ┆ 709 ┆ 187 ┆ 021 ┆ 211 ┆ 684 ┆ 373 ┆ 814 ┆ 285 ┆ 812 ┆ 189 ┆ 464 ┆ 862 ┆ 376 ┆ 929 ┆ 250 ┆ 192 ┆ 278 ┆ 264 ┆ 696 ┆ 600 ┆     ┆ 472 ┆ 246 ┆ 015 ┆ 000 ┆     ┆     ┆     ┆     ┆     ┆ .75 ┆     ┆     ┆     ┆     ┆ 356 ┆ 469 ┆ 083 ┆ 000 ┆ 000 ┆ 000 ┆ 000 ┆ 000 ┆ 000 ┆ 000 ┆ 000 ┆ 000 ┆ 000 ┆ 000 ┆ 000 ┆ 000 ┆ 000 ┆ 424 ┆ 861 ┆ 337 ┆ 476 ┆ 146 ┆ 446 ┆ 342 ┆ 834 ┆ 409 ┆ 827 ┆ 977 ┆ 728 ┆ 498 ┆ 445 ┆ 510 ┆ 643 ┆ 768 ┆ 963 ┆ 137 ┆ 009 ┆ 600 ┆ 198 ┆ 647 ┆ 942 ┆ 316 ┆ 773 ┆ 042 ┆ 254 ┆ 604 ┆ 089 ┆ 019 ┆ 186 ┆ 475 ┆ 873 ┆ 392 ┆ 752 ┆ 130 ┆ 515 ┆ 900 ┆ 344 ┆ 831 ┆ 312 ┆ 908 ┆ 047 ┆ 578 ┆ 460 ┆ 711 ┆ 331 ┆ 293 ┆ 542 ┆ 000 ┆ 582 ┆ 216 ┆ 852 ┆ 466 ┆ 047 ┆ 585 ┆ 055 ┆ 419 ┆ 638 ┆ 682 ┆ 540 ┆ 221 ┆ 737 ┆ 861 ┆ 861 ┆ 861 ┆ 861 ┆ 861 ┆ 861 ┆ 861 ┆ 861 ┆ 861 ┆ 861 ┆ 861 ┆ 861 ┆ 861 ┆ 861 ┆ 861 ┆ 861 ┆ 861 ┆ 861 ┆ 861 ┆ 861 ┆ 861 ┆ 861 ┆ 861 ┆ 861 ┆ 861 ┆ 861 ┆ 861 ┆ 861 ┆ 861 ┆ 861 ┆ 861 ┆ 861 ┆ 861 ┆ 861 ┆ 861 ┆ 861 ┆ 861 ┆ 861 ┆ 861 ┆ 090 ┆ 989 ┆ 566 ┆ 122 ┆ 920 ┆ 133 ┆ 783 ┆ 873 ┆ 068 ┆ 434 ┆ 941 ┆ 572 ┆ 315 ┆ 157 ┆ 073 ┆ 032 ┆ 994 ┆ 925 ┆ 805 ┆ 625 ┆ 387 ┆ 086 ┆ 086 ┆ 086 ┆ 086 ┆ 086 ┆ 086 ┆ 086 ┆ 086 ┆ 086 ┆ 086 ┆ 086 ┆ 086 ┆ 086 ┆ 086 ┆ 086 ┆ 086 ┆ 086 ┆ 086 ┆ 086 ┆ 086 ┆ 086 ┆ 086 ┆ 086 ┆ 086 ┆ 086 ┆ 086 ┆ 086 ┆ 086 ┆ 086 ┆ 086 ┆ 086 ┆ 086 ┆ 086 ┆ 086 ┆ 086 ┆ 086 ┆ 086 ┆ 086 ┆ 086 │\n",
       "│ 696 ┆ 259 ┆ 821 ┆ 328 ┆ 681 ┆ 296 ┆ 906 ┆ 836 ┆ 203 ┆ 442 ┆ 240 ┆ 212 ┆ 744 ┆ 378 ┆ 810 ┆ 889 ┆ 978 ┆ 129 ┆ 371 ┆ 433 ┆ 542 ┆ 474 ┆ 750 ┆ 569 ┆ 896 ┆ 213 ┆ 586 ┆ 289 ┆ 575 ┆ 552 ┆ 655 ┆ 205 ┆ 825 ┆ 960 ┆ 127 ┆ 439 ┆ 025 ┆ 399 ┆ 523 ┆ 161 ┆ 591 ┆ 486 ┆ 915 ┆ 496 ┆ 445 ┆ 624 ┆ 486 ┆ 385 ┆ 046 ┆ 269 ┆ 736 ┆ 939 ┆ 487 ┆ 652 ┆ 467 ┆ 432 ┆ 796 ┆ 973 ┆ 872 ┆ 002 ┆ 144 ┆ 02  ┆ 02  ┆ 02  ┆ 02  ┆ 02  ┆ 02  ┆ 02  ┆ 02  ┆ 02  ┆ 02  ┆ 02  ┆ 02  ┆ 02  ┆ 02  ┆ 02  ┆ 02  ┆ 02  ┆ 02  ┆ 02  ┆ 03  ┆ 06  ┆ 11  ┆ 2   ┆ 32  ┆ 42  ┆ 59  ┆ 91  ┆ 52  ┆ 57  ┆ 98  ┆ 75  ┆ 98  ┆ 29  ┆ 47  ┆ 08  ┆ 51  ┆ 17  ┆ 93  ┆ 69  ┆ 37  ┆ 23  ┆ 14  ┆ 55  ┆ 82  ┆ 61  ┆ 9   ┆ 22  ┆ 62  ┆ 33  ┆ 61  ┆ 51  ┆ 23  ┆ 1   ┆ 01  ┆ 13  ┆ 63  ┆ 26  ┆ 91  ┆ 9   ┆ 26  ┆ e-3 ┆ e-3 ┆ e-3 ┆ e-3 ┆ e-3 ┆ e-3 ┆ e-3 ┆ e-3 ┆ e-3 ┆ e-3 ┆ e-3 ┆ e-3 ┆ e-4 ┆ e-4 ┆ e-5 ┆     ┆     ┆     ┆     ┆     ┆     ┆ e-4 ┆     ┆     ┆     ┆     ┆     ┆ e-3 ┆ e-2 ┆ e-2 ┆ e-1 ┆ e-2 ┆     ┆ e-7 ┆ e-7 ┆ e-7 ┆     ┆ e-7 ┆ e-7 ┆ e-7 ┆     ┆     ┆ 01  ┆ 04  ┆ 01  ┆ 04  ┆ 03  ┆ 06  ┆ 03  ┆ 02  ┆ 03  ┆ 07  ┆ 05  ┆ 1   ┆ 1   ┆ 04  ┆ e-7 ┆ e-7 ┆ e-7 ┆ e-9 ┆ e-1 ┆ e-1 ┆ e-1 ┆ e-1 ┆ e-1 ┆ e-1 ┆ e-1 ┆ e-1 ┆ e-1 ┆ e-1 ┆ e-1 ┆ e-1 ┆ e-1 ┆ e-2 ┆ e-2 ┆     ┆ e-2 ┆ e-2 ┆ e-1 ┆ e-1 ┆ e-1 ┆     ┆     ┆     ┆     ┆     ┆     ┆     ┆     ┆ 01  ┆ 02  ┆ 01  ┆ 02  ┆ e-7 ┆ e-7 ┆ e-7 ┆ e-8 ┆ e-7 ┆ e-7 ┆ e-8 ┆ e-8 ┆ e-8 ┆ e-8 ┆ e-8 ┆ e-8 ┆ e-8 ┆ e-8 ┆ e-8 ┆ e-9 ┆ e-9 ┆ e-1 ┆ e-1 ┆ e-1 ┆ e-1 ┆     ┆ e-1 ┆ e-1 ┆ e-1 ┆ e-1 ┆ e-1 ┆ 109 ┆ 499 ┆ 828 ┆ 145 ┆ 725 ┆ 712 ┆ 103 ┆ 690 ┆ 385 ┆ 445 ┆ 203 ┆ 726 ┆ 299 ┆ 7   ┆ 61  ┆ 5   ┆ 375 ┆ 91  ┆ 414 ┆ 28  ┆ 991 ┆ 184 ┆ 454 ┆ 472 ┆ 433 ┆ 991 ┆ 856 ┆ 967 ┆ 579 ┆ 494 ┆ 095 ┆ 06  ┆ 192 ┆ 743 ┆ 511 ┆ 132 ┆ 934 ┆ 181 ┆ 34  ┆ 05  ┆ 04  ┆ 62  ┆ 09  ┆ 31  ┆ 71  ┆ 04  ┆ 44  ┆ 11  ┆ 25  ┆ 15  ┆ 54  ┆ 12  ┆ 71  ┆ 09  ┆ 035 ┆ 038 ┆ 693 ┆ 754 ┆ 553 ┆ 497 ┆ 681 ┆ 94  ┆ 263 ┆ 34  ┆ 934 ┆ 46  ┆ 62  ┆ 53  ┆ 35  ┆ 83  ┆ 91  ┆ 28  ┆ 6   ┆ 31  ┆ 99  ┆ 7   ┆ 34  ┆ 36  ┆ 52  ┆ 15  ┆ 94  ┆ 51  ┆ 7   ┆ 69  ┆ 97  ┆ 52  ┆ 16  ┆ 05  ┆ 27  ┆ 01  ┆ 2   ┆ 14  ┆ 42  ┆ 74  ┆ 06  ┆ 44  ┆ 3   ┆ 87  ┆ 24  ┆ 1   ┆ 86  ┆ 5   ┆ 26  ┆ 73  ┆ 38  ┆ 25  ┆ 98  ┆ 8   ┆ 99  ┆ 41  ┆ 75  ┆ 98  ┆ 31  ┆ 31  ┆ 04  ┆ 97  ┆ 03  ┆ 45  ┆ 96  ┆ 98  ┆ .02 ┆     ┆ 25  ┆ 807 ┆ 45  ┆ 6   ┆     ┆     ┆     ┆     ┆     ┆ 855 ┆     ┆     ┆     ┆     ┆ e-7 ┆ e-7 ┆ e-7 ┆ 02  ┆ 03  ┆ 05  ┆ 08  ┆ 12  ┆ 13  ┆ 14  ┆ 13  ┆ 12  ┆ 1   ┆ 07  ┆ 05  ┆ 03  ┆ 02  ┆ e-7 ┆ e-7 ┆ e-7 ┆ e-7 ┆ e-7 ┆ e-7 ┆ e-7 ┆ e-8 ┆ e-8 ┆ e-8 ┆ e-8 ┆ e-8 ┆ e-8 ┆ e-8 ┆ e-8 ┆ e-8 ┆ e-8 ┆ e-8 ┆ e-8 ┆ e-8 ┆ e-8 ┆ e-8 ┆ e-8 ┆ e-8 ┆ e-8 ┆ e-8 ┆ e-8 ┆ e-8 ┆ e-8 ┆ e-8 ┆ e-8 ┆ e-8 ┆ e-8 ┆ e-8 ┆ e-8 ┆ e-8 ┆ e-8 ┆ e-8 ┆ e-8 ┆ e-8 ┆ e-8 ┆ e-8 ┆ e-8 ┆ e-7 ┆ e-7 ┆ e-7 ┆ e-7 ┆ e-7 ┆ e-7 ┆ e-7 ┆ e-7 ┆ e-7 ┆ e-7 ┆ e-7 ┆ e-7 ┆ e-7 ┆ e-7 ┆ e-7 ┆ e-7 ┆ e-7 ┆ e-7 ┆ e-7 ┆ e-7 ┆ e-7 ┆ e-7 ┆ e-7 ┆ e-7 ┆ e-7 ┆ e-7 ┆ e-7 ┆ e-7 ┆ e-7 ┆ e-7 ┆ e-7 ┆ e-7 ┆ e-7 ┆ e-7 ┆ e-7 ┆ e-7 ┆ e-7 ┆ e-7 ┆ e-7 ┆ e-7 ┆ e-7 ┆ e-7 ┆ e-7 ┆ e-7 ┆ e-7 ┆ e-7 ┆ e-7 ┆ e-7 ┆ e-7 ┆ e-7 ┆ e-7 ┆ e-7 ┆ e-7 ┆ e-7 ┆ e-7 ┆ e-7 ┆ e-7 ┆ e-7 ┆ e-7 ┆ e-7 ┆ e-8 ┆ e-8 ┆ e-8 ┆ e-8 ┆ e-8 ┆ e-8 ┆ e-8 ┆ e-7 ┆ e-7 ┆ e-7 ┆ e-7 ┆ e-7 ┆ e-7 ┆ e-7 ┆ e-7 ┆ e-7 ┆ e-7 ┆ e-7 ┆ e-7 ┆ e-7 ┆ e-7 ┆ e-7 ┆ e-7 ┆ e-7 ┆ e-7 ┆ e-7 ┆ e-7 ┆ e-7 ┆ e-7 ┆ e-7 ┆ e-7 ┆ e-7 ┆ e-7 ┆ e-7 ┆ e-7 ┆ e-7 ┆ e-7 ┆ e-7 ┆ e-7 ┆ e-7 ┆ e-7 ┆ e-7 ┆ e-7 ┆ e-7 ┆ e-7 ┆ e-7 ┆ e-7 ┆ e-7 ┆ e-7 ┆ e-7 ┆ e-7 ┆ e-7 ┆ e-7 ┆ e-7 ┆ e-7 ┆ e-7 ┆ e-7 ┆ e-7 ┆ e-7 ┆ e-7 │\n",
       "│ 51  ┆ 3   ┆ 3   ┆ 9   ┆ 2   ┆ 2   ┆ 3   ┆ 8   ┆ 5   ┆     ┆ 1   ┆ 3   ┆ 4   ┆ 5   ┆ 4   ┆ 9   ┆ 2   ┆ 3   ┆ 5   ┆ 5   ┆ 1   ┆ 2   ┆ 5   ┆ 9   ┆ 4   ┆ 1   ┆ 5   ┆ 1   ┆ 2   ┆     ┆ 1   ┆ 5   ┆ 5   ┆ 8   ┆ 8   ┆ 7   ┆ 8   ┆ 5   ┆ 5   ┆ 1   ┆ 7   ┆ 7   ┆ 1   ┆ 9   ┆ 7   ┆ 2   ┆ 1   ┆ 6   ┆ 3   ┆ 4   ┆ 8   ┆ 2   ┆ 4   ┆ 2   ┆     ┆ 1   ┆ 8   ┆     ┆ 4   ┆     ┆ 6   ┆     ┆     ┆     ┆     ┆     ┆     ┆     ┆     ┆     ┆     ┆     ┆     ┆     ┆     ┆     ┆     ┆     ┆     ┆     ┆     ┆     ┆     ┆     ┆     ┆     ┆     ┆     ┆     ┆     ┆     ┆     ┆     ┆     ┆     ┆     ┆     ┆     ┆     ┆     ┆     ┆     ┆     ┆     ┆     ┆     ┆     ┆     ┆     ┆     ┆     ┆     ┆     ┆     ┆     ┆     ┆     ┆     ┆     ┆     ┆     ┆ 7   ┆ 7   ┆ 7   ┆ 7   ┆ 7   ┆ 7   ┆ 7   ┆ 7   ┆ 7   ┆ 7   ┆ 8   ┆ 9   ┆ 3   ┆ 9   ┆ 5   ┆     ┆     ┆     ┆     ┆     ┆     ┆ 9   ┆     ┆     ┆     ┆     ┆     ┆ 1   ┆ 7   ┆ 8   ┆ 8   ┆ 0   ┆     ┆     ┆     ┆     ┆     ┆     ┆     ┆     ┆     ┆     ┆     ┆     ┆     ┆     ┆     ┆     ┆     ┆     ┆     ┆     ┆     ┆     ┆     ┆     ┆     ┆     ┆     ┆     ┆ 1   ┆ 1   ┆ 1   ┆ 1   ┆ 1   ┆ 1   ┆ 1   ┆ 1   ┆ 1   ┆ 1   ┆ 1   ┆ 2   ┆ 7   ┆ 3   ┆ 4   ┆     ┆ 4   ┆ 0   ┆ 7   ┆ 1   ┆ 0   ┆     ┆     ┆     ┆     ┆     ┆     ┆     ┆     ┆     ┆     ┆     ┆     ┆     ┆     ┆     ┆     ┆     ┆     ┆     ┆     ┆     ┆     ┆     ┆     ┆     ┆     ┆     ┆     ┆     ┆ 0   ┆ 1   ┆ 1   ┆ 2   ┆     ┆ 3   ┆ 3   ┆ 3   ┆ 4   ┆ 2   ┆ 8   ┆ 4   ┆ 6   ┆ 7   ┆ 1   ┆ 4   ┆ 3   ┆ 4   ┆ 4   ┆ 8   ┆ 9   ┆     ┆     ┆     ┆     ┆     ┆     ┆     ┆     ┆     ┆     ┆     ┆     ┆     ┆     ┆     ┆     ┆     ┆     ┆     ┆     ┆     ┆     ┆     ┆     ┆     ┆     ┆     ┆     ┆     ┆     ┆     ┆     ┆     ┆     ┆     ┆     ┆     ┆     ┆     ┆     ┆     ┆     ┆     ┆     ┆     ┆     ┆     ┆     ┆     ┆     ┆     ┆     ┆     ┆     ┆     ┆     ┆     ┆     ┆     ┆     ┆     ┆     ┆     ┆     ┆     ┆     ┆     ┆     ┆     ┆     ┆     ┆     ┆     ┆     ┆     ┆     ┆     ┆     ┆     ┆     ┆     ┆     ┆     ┆     ┆     ┆     ┆     ┆     ┆     ┆     ┆     ┆     ┆     ┆     ┆     ┆     ┆     ┆     ┆     ┆     ┆     ┆     ┆     ┆     ┆     ┆     ┆     ┆     ┆     ┆ 796 ┆     ┆     ┆     ┆     ┆     ┆     ┆     ┆     ┆     ┆     ┆ 4   ┆     ┆     ┆     ┆     ┆     ┆     ┆     ┆     ┆     ┆     ┆     ┆     ┆     ┆     ┆     ┆     ┆     ┆     ┆     ┆     ┆     ┆     ┆     ┆     ┆     ┆     ┆     ┆     ┆     ┆     ┆     ┆     ┆     ┆     ┆     ┆     ┆     ┆     ┆     ┆     ┆     ┆     ┆     ┆     ┆     ┆     ┆     ┆     ┆     ┆     ┆     ┆     ┆     ┆     ┆     ┆     ┆     ┆     ┆     ┆     ┆     ┆     ┆     ┆     ┆     ┆     ┆     ┆     ┆     ┆     ┆     ┆     ┆     ┆     ┆     ┆     ┆     ┆     ┆     ┆     ┆     ┆     ┆     ┆     ┆     ┆     ┆     ┆     ┆     ┆     ┆     ┆     ┆     ┆     ┆     ┆     ┆     ┆     ┆     ┆     ┆     ┆     ┆     ┆     ┆     ┆     ┆     ┆     ┆     ┆     ┆     ┆     ┆     ┆     ┆     ┆     ┆     ┆     ┆     ┆     ┆     ┆     ┆     ┆     ┆     ┆     ┆     ┆     ┆     ┆     ┆     ┆     ┆     ┆     ┆     ┆     ┆     ┆     ┆     ┆     ┆     ┆     ┆     ┆     ┆     ┆     ┆     ┆     ┆     ┆     ┆     ┆     ┆     ┆     ┆     ┆     ┆     ┆     ┆     ┆     ┆     ┆     ┆     ┆     ┆     ┆     ┆     ┆     ┆     ┆     ┆     ┆     ┆     ┆     ┆     ┆     ┆     ┆     ┆     ┆     ┆     ┆     ┆     ┆     │\n",
       "│     ┆     ┆     ┆     ┆     ┆     ┆     ┆     ┆     ┆     ┆     ┆     ┆     ┆     ┆     ┆     ┆     ┆     ┆     ┆     ┆     ┆     ┆     ┆     ┆     ┆     ┆     ┆     ┆     ┆     ┆     ┆     ┆     ┆     ┆     ┆     ┆     ┆     ┆     ┆     ┆     ┆     ┆     ┆     ┆     ┆     ┆     ┆     ┆     ┆     ┆     ┆     ┆     ┆     ┆     ┆     ┆     ┆     ┆     ┆     ┆     ┆     ┆     ┆     ┆     ┆     ┆     ┆     ┆     ┆     ┆     ┆     ┆     ┆     ┆     ┆     ┆     ┆     ┆     ┆     ┆     ┆     ┆     ┆     ┆     ┆     ┆     ┆     ┆     ┆     ┆     ┆     ┆     ┆     ┆     ┆     ┆     ┆     ┆     ┆     ┆     ┆     ┆     ┆     ┆     ┆     ┆     ┆     ┆     ┆     ┆     ┆     ┆     ┆     ┆     ┆     ┆     ┆     ┆     ┆     ┆     ┆     ┆     ┆     ┆     ┆     ┆     ┆     ┆     ┆     ┆     ┆     ┆     ┆     ┆     ┆     ┆     ┆     ┆     ┆     ┆     ┆     ┆     ┆     ┆     ┆     ┆     ┆     ┆     ┆     ┆     ┆     ┆     ┆     ┆     ┆     ┆     ┆     ┆     ┆     ┆     ┆     ┆     ┆     ┆     ┆     ┆     ┆     ┆     ┆     ┆     ┆     ┆     ┆     ┆     ┆     ┆     ┆     ┆     ┆     ┆     ┆     ┆     ┆     ┆     ┆     ┆     ┆     ┆     ┆     ┆     ┆     ┆     ┆     ┆     ┆     ┆     ┆     ┆     ┆     ┆     ┆     ┆     ┆     ┆     ┆     ┆     ┆     ┆     ┆     ┆     ┆     ┆     ┆     ┆     ┆     ┆     ┆     ┆     ┆     ┆     ┆     ┆     ┆     ┆     ┆     ┆     ┆     ┆     ┆     ┆     ┆     ┆     ┆     ┆     ┆     ┆     ┆     ┆     ┆     ┆     ┆     ┆     ┆     ┆     ┆     ┆     ┆     ┆     ┆     ┆     ┆     ┆     ┆     ┆     ┆     ┆     ┆     ┆     ┆     ┆     ┆     ┆     ┆     ┆     ┆     ┆     ┆     ┆     ┆     ┆     ┆     ┆     ┆     ┆     ┆     ┆     ┆     ┆     ┆     ┆     ┆     ┆     ┆     ┆     ┆     ┆     ┆     ┆     ┆     ┆     ┆     ┆     ┆     ┆     ┆     ┆     ┆     ┆     ┆     ┆     ┆     ┆     ┆     ┆     ┆     ┆     ┆     ┆     ┆     ┆     ┆     ┆     ┆     ┆     ┆     ┆     ┆     ┆     ┆     ┆     ┆     ┆     ┆     ┆     ┆     ┆     ┆     ┆     ┆     ┆     ┆     ┆     ┆     ┆     ┆     ┆     ┆     ┆     ┆     ┆     ┆     ┆     ┆     ┆     ┆     ┆     ┆     ┆     ┆     ┆     ┆     ┆     ┆     ┆     ┆     ┆     ┆     ┆     ┆     ┆     ┆ 4   ┆     ┆     ┆     ┆     ┆     ┆     ┆     ┆     ┆     ┆     ┆     ┆     ┆     ┆     ┆     ┆     ┆     ┆     ┆     ┆     ┆     ┆     ┆     ┆     ┆     ┆     ┆     ┆     ┆     ┆     ┆     ┆     ┆     ┆     ┆     ┆     ┆     ┆     ┆     ┆     ┆     ┆     ┆     ┆     ┆     ┆     ┆     ┆     ┆     ┆     ┆     ┆     ┆     ┆     ┆     ┆     ┆     ┆     ┆     ┆     ┆     ┆     ┆     ┆     ┆     ┆     ┆     ┆     ┆     ┆     ┆     ┆     ┆     ┆     ┆     ┆     ┆     ┆     ┆     ┆     ┆     ┆     ┆     ┆     ┆     ┆     ┆     ┆     ┆     ┆     ┆     ┆     ┆     ┆     ┆     ┆     ┆     ┆     ┆     ┆     ┆     ┆     ┆     ┆     ┆     ┆     ┆     ┆     ┆     ┆     ┆     ┆     ┆     ┆     ┆     ┆     ┆     ┆     ┆     ┆     ┆     ┆     ┆     ┆     ┆     ┆     ┆     ┆     ┆     ┆     ┆     ┆     ┆     ┆     ┆     ┆     ┆     ┆     ┆     ┆     ┆     ┆     ┆     ┆     ┆     ┆     ┆     ┆     ┆     ┆     ┆     ┆     ┆     ┆     ┆     ┆     ┆     ┆     ┆     ┆     ┆     ┆     ┆     ┆     ┆     ┆     ┆     ┆     ┆     ┆     ┆     ┆     ┆     ┆     ┆     ┆     ┆     ┆     ┆     ┆     ┆     ┆     ┆     ┆     ┆     ┆     ┆     ┆     ┆     ┆     ┆     ┆     ┆     ┆     ┆     │\n",
       "│ tes ┆ 208 ┆ 219 ┆ 228 ┆ 242 ┆ 256 ┆ 263 ┆ 261 ┆ 253 ┆ 243 ┆ 236 ┆ 231 ┆ 226 ┆ 223 ┆ 218 ┆ 213 ┆ 207 ┆ 203 ┆ 200 ┆ 198 ┆ 200 ┆ 202 ┆ 205 ┆ 209 ┆ 213 ┆ 217 ┆ 221 ┆ 226 ┆ 230 ┆ 234 ┆ 238 ┆ 242 ┆ 246 ┆ 249 ┆ 253 ┆ 256 ┆ 260 ┆ 263 ┆ 265 ┆ 268 ┆ 271 ┆ 273 ┆ 275 ┆ 276 ┆ 278 ┆ 279 ┆ 280 ┆ 281 ┆ 283 ┆ 284 ┆ 285 ┆ 286 ┆ 287 ┆ 287 ┆ 288 ┆ 289 ┆ 290 ┆ 291 ┆ 292 ┆ 292 ┆ 293 ┆ 0.0 ┆ 0.0 ┆ 0.0 ┆ 0.0 ┆ 0.0 ┆ 0.0 ┆ 0.0 ┆ 0.0 ┆ 0.0 ┆ 0.0 ┆ 0.0 ┆ 0.0 ┆ 0.0 ┆ 0.0 ┆ 0.0 ┆ 0.0 ┆ 0.0 ┆ 0.0 ┆ 0.0 ┆ 0.0 ┆ 0.0 ┆ 0.0 ┆ 0.0 ┆ 0.0 ┆ 0.0 ┆ 0.0 ┆ 0.0 ┆ 0.0 ┆ 0.0 ┆ 0.0 ┆ 0.0 ┆ 0.0 ┆ 0.0 ┆ 0.0 ┆ 0.0 ┆ 0.0 ┆ 0.0 ┆ 0.0 ┆ 0.0 ┆ 0.0 ┆ 0.0 ┆ 0.0 ┆ 0.0 ┆ 0.0 ┆ 0.0 ┆ 0.0 ┆ 0.0 ┆ 0.0 ┆ 0.0 ┆ 0.0 ┆ 0.0 ┆ 0.0 ┆ 0.0 ┆ 0.0 ┆ 0.0 ┆ 0.0 ┆ 0.0 ┆ 0.0 ┆ 0.0 ┆ 0.0 ┆ 9.7 ┆ 9.6 ┆ 9.5 ┆ 9.3 ┆ 9.4 ┆ 9.2 ┆ 8.1 ┆ 6.6 ┆ 5.3 ┆ 3.9 ┆ 1.4 ┆ 1.5 ┆ 2.9 ┆ 4.8 ┆ 0.0 ┆ 0.0 ┆ 0.0 ┆ 0.0 ┆ 0.0 ┆ 0.0 ┆ 0.0 ┆ 0.0 ┆ 0.0 ┆ 4.4 ┆ 3.4 ┆ 1.2 ┆ 0.0 ┆ 6.3 ┆ 8.4 ┆ 1.0 ┆ 2.3 ┆ 5.3 ┆ 0.0 ┆ 0.0 ┆ 0.0 ┆ 0.0 ┆ 0.0 ┆ 0.0 ┆ 1.3 ┆ 7.9 ┆ 1.3 ┆ 0.0 ┆ 0.0 ┆ 0.0 ┆ 0.0 ┆ 0.0 ┆ 0.0 ┆ 0.0 ┆ 0.0 ┆ 0.0 ┆ 0.0 ┆ 0.0 ┆ 0.0 ┆ 0.0 ┆ 0.0 ┆ 0.0 ┆ 0.0 ┆ 0.0 ┆ 0.0 ┆ 1.6 ┆ 3.2 ┆ 3.4 ┆ 3.9 ┆ 4.5 ┆ 5.0 ┆ 5.5 ┆ 5.7 ┆ 5.4 ┆ 4.8 ┆ 4.1 ┆ 1.8 ┆ 2.3 ┆ 5.3 ┆ 2.3 ┆ 7.4 ┆ 3.2 ┆ 1.6 ┆ 2.5 ┆ 2.4 ┆ 1.5 ┆ 3.5 ┆ 1.5 ┆ 6.6 ┆ 0.0 ┆ 0.0 ┆ 0.0 ┆ 0.0 ┆ 0.0 ┆ 0.0 ┆ 0.0 ┆ 0.0 ┆ 1.1 ┆ 0.0 ┆ 0.0 ┆ 0.0 ┆ 8.6 ┆ 1.9 ┆ 1.0 ┆ 1.4 ┆ 2.1 ┆ 2.1 ┆ 2.4 ┆ 1.4 ┆ 2.6 ┆ 6.8 ┆ 7.9 ┆ 4.7 ┆ 4.8 ┆ 3.8 ┆ 2.0 ┆ 1.9 ┆ 6.0 ┆ 5.5 ┆ 7.8 ┆ 8.6 ┆ 2.1 ┆ 1.1 ┆ 1.0 ┆ 7.0 ┆ 9.8 ┆ -29 ┆ -39 ┆ -34 ┆ -21 ┆ -18 ┆ -19 ┆ -19 ┆ -18 ┆ -15 ┆ -12 ┆ -8. ┆ -3. ┆ 2.2 ┆ 5.3 ┆ 8.9 ┆ 14. ┆ 18. ┆ 22. ┆ 25. ┆ 28. ┆ 31. ┆ 32. ┆ 32. ┆ 32. ┆ 31. ┆ 30. ┆ 29. ┆ 28. ┆ 27. ┆ 25. ┆ 24. ┆ 22. ┆ 21. ┆ 19. ┆ 18. ┆ 17. ┆ 16. ┆ 15. ┆ 14. ┆ 13. ┆ 12. ┆ 11. ┆ 10. ┆ 10. ┆ 9.4 ┆ 8.8 ┆ 8.3 ┆ 7.7 ┆ 7.2 ┆ 6.8 ┆ 6.4 ┆ 6.0 ┆ 5.7 ┆ 5.4 ┆ 5.1 ┆ 4.9 ┆ 4.6 ┆ 4.4 ┆ 4.3 ┆ 3.5 ┆ 3.4 ┆ 7.9 ┆ 14. ┆ 7.8 ┆ 0.8 ┆ 2.7 ┆ 5.3 ┆ 4.4 ┆ 0.9 ┆ -1. ┆ -0. ┆ 0.8 ┆ 0.9 ┆ 1.4 ┆ 4.6 ┆ 5.3 ┆ 5.1 ┆ 6.1 ┆ 7.3 ┆ 8.2 ┆ 8.7 ┆ 9.0 ┆ 8.9 ┆ 8.4 ┆ 7.6 ┆ 6.8 ┆ 6.3 ┆ 5.9 ┆ 5.5 ┆ 5.0 ┆ 4.6 ┆ 4.1 ┆ 3.5 ┆ 2.9 ┆ 2.2 ┆ 1.6 ┆ 1.2 ┆ 0.9 ┆ 0.8 ┆ 0.6 ┆ 0.4 ┆ 0.2 ┆ -0. ┆ -0. ┆ -0. ┆ -0. ┆ -0. ┆ -0. ┆ -0. ┆ -0. ┆ -0. ┆ -0. ┆ -0. ┆ -0. ┆ -0. ┆ -0. ┆ -0. ┆ -0. ┆ -1. ┆ -1. ┆ 101 ┆ 0.0 ┆ 4.3 ┆ -1. ┆ -0. ┆ 0.0 ┆ 0.0 ┆ 1.0 ┆ 1.0 ┆ 1.0 ┆ 1.0 ┆ 420 ┆ 0.0 ┆ 0.0 ┆ 1.0 ┆ 0.0 ┆ 2.6 ┆ 4.7 ┆ 8.4 ┆ 0.0 ┆ 0.0 ┆ 0.0 ┆ 0.0 ┆ 0.0 ┆ 0.0 ┆ 0.0 ┆ 0.0 ┆ 0.0 ┆ 0.0 ┆ 0.0 ┆ 0.0 ┆ 0.0 ┆ 0.0 ┆ 0.0 ┆ 6.0 ┆ 4.2 ┆ 3.2 ┆ 2.4 ┆ 1.7 ┆ 1.2 ┆ 1.0 ┆ 9.0 ┆ 8.1 ┆ 7.6 ┆ 7.3 ┆ 7.0 ┆ 6.8 ┆ 6.7 ┆ 6.6 ┆ 6.4 ┆ 6.3 ┆ 6.2 ┆ 6.0 ┆ 5.8 ┆ 5.7 ┆ 5.5 ┆ 5.3 ┆ 5.2 ┆ 5.0 ┆ 4.8 ┆ 4.5 ┆ 4.3 ┆ 4.1 ┆ 3.9 ┆ 3.7 ┆ 3.5 ┆ 3.3 ┆ 3.2 ┆ 3.1 ┆ 3.0 ┆ 3.0 ┆ 2.9 ┆ 2.9 ┆ 2.9 ┆ 2.8 ┆ 2.8 ┆ 1.6 ┆ 1.9 ┆ 2.2 ┆ 2.5 ┆ 2.8 ┆ 3.2 ┆ 3.7 ┆ 4.1 ┆ 4.5 ┆ 5.0 ┆ 5.5 ┆ 5.9 ┆ 6.4 ┆ 6.8 ┆ 7.3 ┆ 7.7 ┆ 8.1 ┆ 8.5 ┆ 8.9 ┆ 9.2 ┆ 9.6 ┆ 9.9 ┆ 9.9 ┆ 9.9 ┆ 9.9 ┆ 9.9 ┆ 9.9 ┆ 9.9 ┆ 9.9 ┆ 9.9 ┆ 9.9 ┆ 9.9 ┆ 9.9 ┆ 9.9 ┆ 9.9 ┆ 9.9 ┆ 9.9 ┆ 9.9 ┆ 9.9 ┆ 9.9 ┆ 9.9 ┆ 9.9 ┆ 9.9 ┆ 9.9 ┆ 9.9 ┆ 9.9 ┆ 9.9 ┆ 9.9 ┆ 9.9 ┆ 9.9 ┆ 9.9 ┆ 9.9 ┆ 9.9 ┆ 9.9 ┆ 9.9 ┆ 9.9 ┆ 9.9 ┆ 9.9 ┆ 9.9 ┆ 9.9 ┆ 2.5 ┆ 3.2 ┆ 4.0 ┆ 5.0 ┆ 6.3 ┆ 7.7 ┆ 9.5 ┆ 1.1 ┆ 1.3 ┆ 1.5 ┆ 1.8 ┆ 2.0 ┆ 2.3 ┆ 2.6 ┆ 2.9 ┆ 3.2 ┆ 3.5 ┆ 3.7 ┆ 4.0 ┆ 4.3 ┆ 4.6 ┆ 4.9 ┆ 4.9 ┆ 4.9 ┆ 4.9 ┆ 4.9 ┆ 4.9 ┆ 4.9 ┆ 4.9 ┆ 4.9 ┆ 4.9 ┆ 4.9 ┆ 4.9 ┆ 4.9 ┆ 4.9 ┆ 4.9 ┆ 4.9 ┆ 4.9 ┆ 4.9 ┆ 4.9 ┆ 4.9 ┆ 4.9 ┆ 4.9 ┆ 4.9 ┆ 4.9 ┆ 4.9 ┆ 4.9 ┆ 4.9 ┆ 4.9 ┆ 4.9 ┆ 4.9 ┆ 4.9 ┆ 4.9 ┆ 4.9 ┆ 4.9 ┆ 4.9 ┆ 4.9 ┆ 4.9 ┆ 4.9 ┆ 4.9 │\n",
       "│ t_5 ┆ .36 ┆ .23 ┆ .26 ┆ .09 ┆ .16 ┆ .78 ┆ .83 ┆ .63 ┆ .78 ┆ .96 ┆ .25 ┆ .82 ┆ .08 ┆ .78 ┆ .04 ┆ .42 ┆ .25 ┆ .94 ┆ .00 ┆ .70 ┆ .26 ┆ .75 ┆ .20 ┆ .18 ┆ .39 ┆ .70 ┆ .12 ┆ .24 ┆ .35 ┆ .46 ┆ .44 ┆ .28 ┆ .96 ┆ .49 ┆ .89 ┆ .03 ┆ .10 ┆ .96 ┆ .65 ┆ .11 ┆ .15 ┆ .05 ┆ .85 ┆ .32 ┆ .62 ┆ .89 ┆ .97 ┆ .15 ┆ .20 ┆ .30 ┆ .42 ┆ .16 ┆ .94 ┆ .71 ┆ .54 ┆ .33 ┆ .22 ┆ .07 ┆ .77 ┆ .55 ┆ 000 ┆ 000 ┆ 000 ┆ 000 ┆ 000 ┆ 000 ┆ 000 ┆ 000 ┆ 000 ┆ 000 ┆ 000 ┆ 000 ┆ 000 ┆ 000 ┆ 000 ┆ 000 ┆ 000 ┆ 000 ┆ 000 ┆ 000 ┆ 000 ┆ 000 ┆ 000 ┆ 000 ┆ 000 ┆ 000 ┆ 000 ┆ 001 ┆ 002 ┆ 003 ┆ 004 ┆ 006 ┆ 008 ┆ 011 ┆ 014 ┆ 017 ┆ 021 ┆ 026 ┆ 031 ┆ 036 ┆ 043 ┆ 049 ┆ 055 ┆ 062 ┆ 068 ┆ 072 ┆ 078 ┆ 082 ┆ 086 ┆ 089 ┆ 093 ┆ 099 ┆ 105 ┆ 109 ┆ 113 ┆ 118 ┆ 123 ┆ 128 ┆ 135 ┆ 140 ┆ 233 ┆ 757 ┆ 398 ┆ 217 ┆ 038 ┆ 493 ┆ 177 ┆ 361 ┆ 593 ┆ 227 ┆ 220 ┆ 365 ┆ 856 ┆ 280 ┆     ┆     ┆     ┆     ┆     ┆     ┆     ┆     ┆     ┆ 922 ┆ 044 ┆ 520 ┆     ┆ 843 ┆ 492 ┆ 226 ┆ 281 ┆ 019 ┆     ┆     ┆     ┆     ┆     ┆     ┆ 582 ┆ 312 ┆ 835 ┆ 000 ┆ 000 ┆ 000 ┆ 000 ┆ 000 ┆ 000 ┆ 000 ┆ 000 ┆ 000 ┆ 000 ┆ 000 ┆ 000 ┆ 000 ┆ 000 ┆ 000 ┆ 000 ┆ 000 ┆ 000 ┆ 578 ┆ 606 ┆ 582 ┆ 890 ┆ 706 ┆ 204 ┆ 300 ┆ 235 ┆ 381 ┆ 958 ┆ 832 ┆ 482 ┆ 615 ┆ 417 ┆ 347 ┆ 363 ┆ 001 ┆ 279 ┆ 878 ┆ 028 ┆ 160 ┆ 728 ┆ 177 ┆ 076 ┆     ┆     ┆     ┆     ┆     ┆     ┆     ┆     ┆ 687 ┆     ┆     ┆     ┆ 779 ┆ 253 ┆ 758 ┆ 760 ┆ 158 ┆ 672 ┆ 495 ┆ 108 ┆ 630 ┆ 928 ┆ 143 ┆ 101 ┆ 511 ┆ 275 ┆ 314 ┆ 337 ┆ 377 ┆ 262 ┆ 513 ┆ 035 ┆ 053 ┆ 164 ┆ 425 ┆ 639 ┆ 122 ┆ .89 ┆ .55 ┆ .52 ┆ .92 ┆ .22 ┆ .48 ┆ .54 ┆ .39 ┆ .39 ┆ .17 ┆ 241 ┆ 019 ┆ 689 ┆ 477 ┆ 205 ┆ 489 ┆ 426 ┆ 032 ┆ 706 ┆ 965 ┆ 166 ┆ 408 ┆ 771 ┆ 556 ┆ 808 ┆ 882 ┆ 846 ┆ 652 ┆ 302 ┆ 846 ┆ 259 ┆ 670 ┆ 183 ┆ 844 ┆ 700 ┆ 666 ┆ 707 ┆ 681 ┆ 583 ┆ 460 ┆ 467 ┆ 563 ┆ 787 ┆ 096 ┆ 708 ┆ 975 ┆ 348 ┆ 660 ┆ 499 ┆ 114 ┆ 307 ┆ 740 ┆ 488 ┆ 444 ┆ 647 ┆ 166 ┆ 894 ┆ 547 ┆ 328 ┆ 686 ┆ 074 ┆ 275 ┆ 541 ┆ 704 ┆ 513 ┆ 006 ┆ 131 ┆ 246 ┆ 470 ┆ 047 ┆ 371 ┆ 492 ┆ 349 ┆ 964 ┆ 863 ┆ 750 ┆ 837 ┆ 104 ┆ 737 ┆ 737 ┆ 835 ┆ 703 ┆ 064 ┆ 173 ┆ 643 ┆ 644 ┆ 868 ┆ 449 ┆ 246 ┆ 894 ┆ 633 ┆ 878 ┆ 884 ┆ 098 ┆ 545 ┆ 566 ┆ 027 ┆ 450 ┆ 163 ┆ 911 ┆ 929 ┆ 107 ┆ 034 ┆ 223 ┆ 304 ┆ 306 ┆ 312 ┆ 318 ┆ 329 ┆ 361 ┆ 399 ┆ 439 ┆ 485 ┆ 515 ┆ 548 ┆ 609 ┆ 656 ┆ 768 ┆ 045 ┆ 761 ┆ 156 ┆     ┆ 900 ┆ 169 ┆ 011 ┆ 052 ┆     ┆     ┆     ┆     ┆     ┆ .97 ┆     ┆     ┆     ┆     ┆ 128 ┆ 059 ┆ 348 ┆ 000 ┆ 000 ┆ 000 ┆ 000 ┆ 000 ┆ 000 ┆ 000 ┆ 000 ┆ 000 ┆ 000 ┆ 000 ┆ 000 ┆ 000 ┆ 000 ┆ 000 ┆ 761 ┆ 808 ┆ 513 ┆ 502 ┆ 848 ┆ 772 ┆ 575 ┆ 547 ┆ 658 ┆ 913 ┆ 041 ┆ 865 ┆ 947 ┆ 412 ┆ 084 ┆ 747 ┆ 495 ┆ 212 ┆ 667 ┆ 916 ┆ 175 ┆ 445 ┆ 750 ┆ 134 ┆ 600 ┆ 114 ┆ 698 ┆ 400 ┆ 220 ┆ 122 ┆ 149 ┆ 305 ┆ 580 ┆ 174 ┆ 576 ┆ 994 ┆ 419 ┆ 844 ┆ 475 ┆ 160 ┆ 842 ┆ 615 ┆ 823 ┆ 321 ┆ 165 ┆ 373 ┆ 945 ┆ 855 ┆ 049 ┆ 448 ┆ 970 ┆ 543 ┆ 118 ┆ 671 ┆ 193 ┆ 671 ┆ 082 ┆ 389 ┆ 552 ┆ 543 ┆ 351 ┆ 983 ┆ 453 ┆ 771 ┆ 861 ┆ 861 ┆ 861 ┆ 861 ┆ 861 ┆ 861 ┆ 861 ┆ 861 ┆ 861 ┆ 861 ┆ 861 ┆ 861 ┆ 861 ┆ 861 ┆ 861 ┆ 861 ┆ 861 ┆ 861 ┆ 861 ┆ 861 ┆ 861 ┆ 861 ┆ 861 ┆ 861 ┆ 861 ┆ 861 ┆ 861 ┆ 861 ┆ 861 ┆ 861 ┆ 861 ┆ 861 ┆ 861 ┆ 861 ┆ 861 ┆ 861 ┆ 861 ┆ 861 ┆ 728 ┆ 356 ┆ 614 ┆ 801 ┆ 180 ┆ 926 ┆ 069 ┆ 448 ┆ 589 ┆ 899 ┆ 351 ┆ 928 ┆ 618 ┆ 408 ┆ 275 ┆ 186 ┆ 102 ┆ 992 ┆ 832 ┆ 617 ┆ 344 ┆ 013 ┆ 086 ┆ 086 ┆ 086 ┆ 086 ┆ 086 ┆ 086 ┆ 086 ┆ 086 ┆ 086 ┆ 086 ┆ 086 ┆ 086 ┆ 086 ┆ 086 ┆ 086 ┆ 086 ┆ 086 ┆ 086 ┆ 086 ┆ 086 ┆ 086 ┆ 086 ┆ 086 ┆ 086 ┆ 086 ┆ 086 ┆ 086 ┆ 086 ┆ 086 ┆ 086 ┆ 086 ┆ 086 ┆ 086 ┆ 086 ┆ 086 ┆ 086 ┆ 086 ┆ 086 │\n",
       "│ 248 ┆ 610 ┆ 871 ┆ 501 ┆ 977 ┆ 427 ┆ 321 ┆ 538 ┆ 617 ┆ 346 ┆ 162 ┆ 401 ┆ 132 ┆ 941 ┆ 173 ┆ 472 ┆ 873 ┆ 856 ┆ 598 ┆ 837 ┆ 875 ┆ 036 ┆ 988 ┆ 474 ┆ 826 ┆ 103 ┆ 9   ┆ 444 ┆ 439 ┆ 492 ┆ 673 ┆ 084 ┆ 031 ┆ 263 ┆ 178 ┆ 060 ┆ 806 ┆ 518 ┆ 934 ┆ 106 ┆ 589 ┆ 630 ┆ 413 ┆ 929 ┆ 368 ┆ 552 ┆ 540 ┆ 650 ┆ 341 ┆ 756 ┆ 452 ┆ 289 ┆ 537 ┆ 861 ┆ 026 ┆ 178 ┆ 858 ┆ 891 ┆ 505 ┆ 240 ┆ 279 ┆ 02  ┆ 02  ┆ 02  ┆ 02  ┆ 02  ┆ 02  ┆ 02  ┆ 02  ┆ 02  ┆ 02  ┆ 02  ┆ 02  ┆ 02  ┆ 02  ┆ 02  ┆ 02  ┆ 02  ┆ 02  ┆ 03  ┆ 05  ┆ 08  ┆ 12  ┆ 19  ┆ 25  ┆ 32  ┆ 45  ┆ 75  ┆ 42  ┆ 44  ┆ 56  ┆ 84  ┆ 32  ┆ 44  ┆ 19  ┆ 35  ┆ 96  ┆ 97  ┆ 35  ┆ 62  ┆ 62  ┆ 97  ┆ 92  ┆ 98  ┆ 73  ┆ 98  ┆ 66  ┆ 11  ┆ 64  ┆ 04  ┆ 09  ┆ 54  ┆ 41  ┆ 09  ┆ 07  ┆ 43  ┆ 47  ┆     ┆ 84  ┆ 99  ┆ 58  ┆ e-3 ┆ e-3 ┆ e-3 ┆ e-3 ┆ e-3 ┆ e-3 ┆ e-3 ┆ e-3 ┆ e-3 ┆ e-3 ┆ e-3 ┆ e-3 ┆ e-4 ┆ e-5 ┆     ┆     ┆     ┆     ┆     ┆     ┆     ┆     ┆     ┆ e-4 ┆ e-3 ┆ e-3 ┆     ┆ e-3 ┆ e-2 ┆ e-2 ┆ e-1 ┆ e-2 ┆     ┆     ┆     ┆     ┆     ┆     ┆ e-7 ┆ e-8 ┆ e-7 ┆ 02  ┆ 12  ┆ 37  ┆ 2   ┆ 14  ┆ 33  ┆ 27  ┆ 29  ┆ 05  ┆ 07  ┆ 22  ┆ 28  ┆ 15  ┆ 13  ┆ 07  ┆ 02  ┆ 01  ┆ 03  ┆ e-8 ┆ e-1 ┆ e-1 ┆ e-1 ┆ e-1 ┆ e-1 ┆ e-1 ┆ e-1 ┆ e-1 ┆ e-1 ┆ e-1 ┆ e-1 ┆ e-1 ┆ e-1 ┆ e-2 ┆ e-2 ┆ e-2 ┆ e-2 ┆ e-1 ┆ e-1 ┆ e-1 ┆ e-9 ┆ e-8 ┆ e-1 ┆     ┆     ┆     ┆     ┆     ┆     ┆     ┆     ┆ e-7 ┆     ┆     ┆     ┆ e-1 ┆ e-8 ┆ e-7 ┆ e-7 ┆ e-7 ┆ e-7 ┆ e-7 ┆ e-7 ┆ e-7 ┆ e-7 ┆ e-8 ┆ e-8 ┆ e-8 ┆ e-9 ┆ e-8 ┆ e-9 ┆ e-1 ┆ e-1 ┆ e-1 ┆ e-1 ┆ e-1 ┆ e-1 ┆ e-1 ┆ e-1 ┆ e-1 ┆ 336 ┆ 484 ┆ 252 ┆ 828 ┆ 378 ┆ 342 ┆ 360 ┆ 817 ┆ 236 ┆ 546 ┆ 326 ┆ 894 ┆ 72  ┆ 9   ┆ 04  ┆ 345 ┆ 973 ┆ 316 ┆ 922 ┆ 752 ┆ 77  ┆ 526 ┆ 722 ┆ 432 ┆ 454 ┆ 596 ┆ 462 ┆ 634 ┆ 33  ┆ 441 ┆ 796 ┆ 197 ┆ 674 ┆ 425 ┆ 619 ┆ 287 ┆ 244 ┆ 082 ┆ 848 ┆ 464 ┆ 512 ┆ 934 ┆ 628 ┆ 707 ┆ 2   ┆ 09  ┆ 15  ┆ 36  ┆ 28  ┆ 81  ┆ 5   ┆ 11  ┆ 27  ┆ 43  ┆ 2   ┆ 59  ┆ 4   ┆ 72  ┆ 37  ┆ 85  ┆ 41  ┆ 05  ┆ 661 ┆ 68  ┆ 83  ┆ 54  ┆ 24  ┆ 51  ┆ 4   ┆ 635 ┆ 438 ┆ 79  ┆ 26  ┆ 84  ┆ 53  ┆ 17  ┆ 25  ┆ 77  ┆ 43  ┆ 74  ┆ 96  ┆ 92  ┆ 93  ┆ 56  ┆ 39  ┆ 43  ┆ 36  ┆ 48  ┆ 17  ┆ 4   ┆ 17  ┆ 5   ┆ 59  ┆ 8   ┆ 11  ┆ 92  ┆ 01  ┆ 96  ┆ 15  ┆ 56  ┆ 47  ┆ 38  ┆ 511 ┆ 913 ┆ 56  ┆ 024 ┆ 83  ┆ 147 ┆ 014 ┆ 018 ┆ 833 ┆ 263 ┆ 964 ┆ 237 ┆ 946 ┆ 114 ┆ 643 ┆ 443 ┆ 759 ┆ 068 ┆ .33 ┆     ┆ 58  ┆ 037 ┆ 148 ┆ 13  ┆     ┆     ┆     ┆     ┆     ┆ 127 ┆     ┆     ┆     ┆     ┆ e-7 ┆ e-7 ┆ e-7 ┆ 01  ┆ 03  ┆ 04  ┆ 07  ┆ 12  ┆ 13  ┆ 14  ┆ 13  ┆ 12  ┆ 1   ┆ 07  ┆ 05  ┆ 03  ┆ 02  ┆ 01  ┆ e-7 ┆ e-7 ┆ e-7 ┆ e-7 ┆ e-7 ┆ e-7 ┆ e-7 ┆ e-8 ┆ e-8 ┆ e-8 ┆ e-8 ┆ e-8 ┆ e-8 ┆ e-8 ┆ e-8 ┆ e-8 ┆ e-8 ┆ e-8 ┆ e-8 ┆ e-8 ┆ e-8 ┆ e-8 ┆ e-8 ┆ e-8 ┆ e-8 ┆ e-8 ┆ e-8 ┆ e-8 ┆ e-8 ┆ e-8 ┆ e-8 ┆ e-8 ┆ e-8 ┆ e-8 ┆ e-8 ┆ e-8 ┆ e-8 ┆ e-8 ┆ e-8 ┆ e-8 ┆ e-8 ┆ e-8 ┆ e-7 ┆ e-7 ┆ e-7 ┆ e-7 ┆ e-7 ┆ e-7 ┆ e-7 ┆ e-7 ┆ e-7 ┆ e-7 ┆ e-7 ┆ e-7 ┆ e-7 ┆ e-7 ┆ e-7 ┆ e-7 ┆ e-7 ┆ e-7 ┆ e-7 ┆ e-7 ┆ e-7 ┆ e-7 ┆ e-7 ┆ e-7 ┆ e-7 ┆ e-7 ┆ e-7 ┆ e-7 ┆ e-7 ┆ e-7 ┆ e-7 ┆ e-7 ┆ e-7 ┆ e-7 ┆ e-7 ┆ e-7 ┆ e-7 ┆ e-7 ┆ e-7 ┆ e-7 ┆ e-7 ┆ e-7 ┆ e-7 ┆ e-7 ┆ e-7 ┆ e-7 ┆ e-7 ┆ e-7 ┆ e-7 ┆ e-7 ┆ e-7 ┆ e-7 ┆ e-7 ┆ e-7 ┆ e-7 ┆ e-7 ┆ e-7 ┆ e-7 ┆ e-7 ┆ e-7 ┆ e-8 ┆ e-8 ┆ e-8 ┆ e-8 ┆ e-8 ┆ e-8 ┆ e-8 ┆ e-7 ┆ e-7 ┆ e-7 ┆ e-7 ┆ e-7 ┆ e-7 ┆ e-7 ┆ e-7 ┆ e-7 ┆ e-7 ┆ e-7 ┆ e-7 ┆ e-7 ┆ e-7 ┆ e-7 ┆ e-7 ┆ e-7 ┆ e-7 ┆ e-7 ┆ e-7 ┆ e-7 ┆ e-7 ┆ e-7 ┆ e-7 ┆ e-7 ┆ e-7 ┆ e-7 ┆ e-7 ┆ e-7 ┆ e-7 ┆ e-7 ┆ e-7 ┆ e-7 ┆ e-7 ┆ e-7 ┆ e-7 ┆ e-7 ┆ e-7 ┆ e-7 ┆ e-7 ┆ e-7 ┆ e-7 ┆ e-7 ┆ e-7 ┆ e-7 ┆ e-7 ┆ e-7 ┆ e-7 ┆ e-7 ┆ e-7 ┆ e-7 ┆ e-7 ┆ e-7 │\n",
       "│ 62  ┆ 1   ┆ 1   ┆ 7   ┆ 2   ┆     ┆ 1   ┆ 4   ┆ 2   ┆ 7   ┆ 5   ┆ 8   ┆ 8   ┆ 6   ┆ 6   ┆ 9   ┆ 8   ┆ 9   ┆ 8   ┆ 7   ┆ 1   ┆ 9   ┆ 7   ┆ 6   ┆ 4   ┆ 8   ┆     ┆ 9   ┆     ┆ 7   ┆ 2   ┆ 3   ┆ 8   ┆ 2   ┆ 4   ┆ 7   ┆ 2   ┆ 3   ┆ 5   ┆ 7   ┆ 5   ┆ 4   ┆     ┆ 9   ┆ 3   ┆ 6   ┆ 6   ┆ 3   ┆ 9   ┆ 3   ┆ 7   ┆ 1   ┆ 3   ┆ 9   ┆ 5   ┆ 6   ┆ 2   ┆ 7   ┆ 1   ┆ 5   ┆ 6   ┆     ┆     ┆     ┆     ┆     ┆     ┆     ┆     ┆     ┆     ┆     ┆     ┆     ┆     ┆     ┆     ┆     ┆     ┆     ┆     ┆     ┆     ┆     ┆     ┆     ┆     ┆     ┆     ┆     ┆     ┆     ┆     ┆     ┆     ┆     ┆     ┆     ┆     ┆     ┆     ┆     ┆     ┆     ┆     ┆     ┆     ┆     ┆     ┆     ┆     ┆     ┆     ┆     ┆     ┆     ┆     ┆     ┆     ┆     ┆     ┆ 7   ┆ 7   ┆ 7   ┆ 7   ┆ 7   ┆ 7   ┆ 7   ┆ 7   ┆ 7   ┆ 7   ┆ 7   ┆ 8   ┆ 3   ┆ 1   ┆     ┆     ┆     ┆     ┆     ┆     ┆     ┆     ┆     ┆ 0   ┆ 5   ┆ 0   ┆     ┆ 1   ┆ 7   ┆ 8   ┆ 8   ┆ 0   ┆     ┆     ┆     ┆     ┆     ┆     ┆     ┆     ┆     ┆     ┆     ┆     ┆     ┆     ┆     ┆     ┆     ┆     ┆     ┆     ┆     ┆     ┆     ┆     ┆     ┆     ┆     ┆     ┆ 1   ┆ 1   ┆ 1   ┆ 1   ┆ 1   ┆ 1   ┆ 1   ┆ 1   ┆ 1   ┆ 1   ┆ 1   ┆ 2   ┆ 7   ┆ 5   ┆ 5   ┆ 0   ┆ 4   ┆ 4   ┆ 2   ┆ 0   ┆     ┆     ┆ 0   ┆     ┆     ┆     ┆     ┆     ┆     ┆     ┆     ┆     ┆     ┆     ┆     ┆ 0   ┆     ┆     ┆     ┆     ┆     ┆     ┆     ┆     ┆     ┆     ┆     ┆     ┆     ┆     ┆     ┆ 0   ┆ 1   ┆ 2   ┆ 0   ┆ 2   ┆ 2   ┆ 2   ┆ 4   ┆ 3   ┆ 1   ┆ 4   ┆ 4   ┆ 9   ┆ 7   ┆     ┆ 6   ┆ 9   ┆ 8   ┆ 4   ┆     ┆     ┆     ┆     ┆     ┆     ┆     ┆     ┆     ┆     ┆     ┆     ┆     ┆     ┆     ┆     ┆     ┆     ┆     ┆     ┆     ┆     ┆     ┆     ┆     ┆     ┆     ┆     ┆     ┆     ┆     ┆     ┆     ┆     ┆     ┆     ┆     ┆     ┆     ┆     ┆     ┆     ┆     ┆     ┆     ┆     ┆     ┆     ┆     ┆     ┆     ┆     ┆     ┆     ┆     ┆     ┆     ┆     ┆     ┆     ┆     ┆     ┆     ┆     ┆     ┆     ┆     ┆     ┆     ┆     ┆     ┆     ┆     ┆     ┆     ┆     ┆     ┆     ┆     ┆     ┆     ┆     ┆     ┆     ┆     ┆     ┆     ┆     ┆     ┆     ┆     ┆     ┆     ┆     ┆     ┆     ┆     ┆     ┆     ┆     ┆     ┆     ┆     ┆     ┆     ┆     ┆     ┆     ┆     ┆     ┆ 813 ┆     ┆     ┆     ┆     ┆     ┆     ┆     ┆     ┆     ┆     ┆ 5   ┆     ┆     ┆     ┆     ┆     ┆     ┆     ┆     ┆     ┆     ┆     ┆     ┆     ┆     ┆     ┆     ┆     ┆     ┆     ┆     ┆     ┆     ┆     ┆     ┆     ┆     ┆     ┆     ┆     ┆     ┆     ┆     ┆     ┆     ┆     ┆     ┆     ┆     ┆     ┆     ┆     ┆     ┆     ┆     ┆     ┆     ┆     ┆     ┆     ┆     ┆     ┆     ┆     ┆     ┆     ┆     ┆     ┆     ┆     ┆     ┆     ┆     ┆     ┆     ┆     ┆     ┆     ┆     ┆     ┆     ┆     ┆     ┆     ┆     ┆     ┆     ┆     ┆     ┆     ┆     ┆     ┆     ┆     ┆     ┆     ┆     ┆     ┆     ┆     ┆     ┆     ┆     ┆     ┆     ┆     ┆     ┆     ┆     ┆     ┆     ┆     ┆     ┆     ┆     ┆     ┆     ┆     ┆     ┆     ┆     ┆     ┆     ┆     ┆     ┆     ┆     ┆     ┆     ┆     ┆     ┆     ┆     ┆     ┆     ┆     ┆     ┆     ┆     ┆     ┆     ┆     ┆     ┆     ┆     ┆     ┆     ┆     ┆     ┆     ┆     ┆     ┆     ┆     ┆     ┆     ┆     ┆     ┆     ┆     ┆     ┆     ┆     ┆     ┆     ┆     ┆     ┆     ┆     ┆     ┆     ┆     ┆     ┆     ┆     ┆     ┆     ┆     ┆     ┆     ┆     ┆     ┆     ┆     ┆     ┆     ┆     ┆     ┆     ┆     ┆     ┆     ┆     ┆     ┆     │\n",
       "│     ┆     ┆     ┆     ┆     ┆     ┆     ┆     ┆     ┆     ┆     ┆     ┆     ┆     ┆     ┆     ┆     ┆     ┆     ┆     ┆     ┆     ┆     ┆     ┆     ┆     ┆     ┆     ┆     ┆     ┆     ┆     ┆     ┆     ┆     ┆     ┆     ┆     ┆     ┆     ┆     ┆     ┆     ┆     ┆     ┆     ┆     ┆     ┆     ┆     ┆     ┆     ┆     ┆     ┆     ┆     ┆     ┆     ┆     ┆     ┆     ┆     ┆     ┆     ┆     ┆     ┆     ┆     ┆     ┆     ┆     ┆     ┆     ┆     ┆     ┆     ┆     ┆     ┆     ┆     ┆     ┆     ┆     ┆     ┆     ┆     ┆     ┆     ┆     ┆     ┆     ┆     ┆     ┆     ┆     ┆     ┆     ┆     ┆     ┆     ┆     ┆     ┆     ┆     ┆     ┆     ┆     ┆     ┆     ┆     ┆     ┆     ┆     ┆     ┆     ┆     ┆     ┆     ┆     ┆     ┆     ┆     ┆     ┆     ┆     ┆     ┆     ┆     ┆     ┆     ┆     ┆     ┆     ┆     ┆     ┆     ┆     ┆     ┆     ┆     ┆     ┆     ┆     ┆     ┆     ┆     ┆     ┆     ┆     ┆     ┆     ┆     ┆     ┆     ┆     ┆     ┆     ┆     ┆     ┆     ┆     ┆     ┆     ┆     ┆     ┆     ┆     ┆     ┆     ┆     ┆     ┆     ┆     ┆     ┆     ┆     ┆     ┆     ┆     ┆     ┆     ┆     ┆     ┆     ┆     ┆     ┆     ┆     ┆     ┆     ┆     ┆     ┆     ┆     ┆     ┆     ┆     ┆     ┆     ┆     ┆     ┆     ┆     ┆     ┆     ┆     ┆     ┆     ┆     ┆     ┆     ┆     ┆     ┆     ┆     ┆     ┆     ┆     ┆     ┆     ┆     ┆     ┆     ┆     ┆     ┆     ┆     ┆     ┆     ┆     ┆     ┆     ┆     ┆     ┆     ┆     ┆     ┆     ┆     ┆     ┆     ┆     ┆     ┆     ┆     ┆     ┆     ┆     ┆     ┆     ┆     ┆     ┆     ┆     ┆     ┆     ┆     ┆     ┆     ┆     ┆     ┆     ┆     ┆     ┆     ┆     ┆     ┆     ┆     ┆     ┆     ┆     ┆     ┆     ┆     ┆     ┆     ┆     ┆     ┆     ┆     ┆     ┆     ┆     ┆     ┆     ┆     ┆     ┆     ┆     ┆     ┆     ┆     ┆     ┆     ┆     ┆     ┆     ┆     ┆     ┆     ┆     ┆     ┆     ┆     ┆     ┆     ┆     ┆     ┆     ┆     ┆     ┆     ┆     ┆     ┆     ┆     ┆     ┆     ┆     ┆     ┆     ┆     ┆     ┆     ┆     ┆     ┆     ┆     ┆     ┆     ┆     ┆     ┆     ┆     ┆     ┆     ┆     ┆     ┆     ┆     ┆     ┆     ┆     ┆     ┆     ┆     ┆     ┆     ┆     ┆     ┆     ┆     ┆     ┆     ┆     ┆     ┆     ┆     ┆     ┆     ┆ 3   ┆     ┆     ┆     ┆     ┆     ┆     ┆     ┆     ┆     ┆     ┆     ┆     ┆     ┆     ┆     ┆     ┆     ┆     ┆     ┆     ┆     ┆     ┆     ┆     ┆     ┆     ┆     ┆     ┆     ┆     ┆     ┆     ┆     ┆     ┆     ┆     ┆     ┆     ┆     ┆     ┆     ┆     ┆     ┆     ┆     ┆     ┆     ┆     ┆     ┆     ┆     ┆     ┆     ┆     ┆     ┆     ┆     ┆     ┆     ┆     ┆     ┆     ┆     ┆     ┆     ┆     ┆     ┆     ┆     ┆     ┆     ┆     ┆     ┆     ┆     ┆     ┆     ┆     ┆     ┆     ┆     ┆     ┆     ┆     ┆     ┆     ┆     ┆     ┆     ┆     ┆     ┆     ┆     ┆     ┆     ┆     ┆     ┆     ┆     ┆     ┆     ┆     ┆     ┆     ┆     ┆     ┆     ┆     ┆     ┆     ┆     ┆     ┆     ┆     ┆     ┆     ┆     ┆     ┆     ┆     ┆     ┆     ┆     ┆     ┆     ┆     ┆     ┆     ┆     ┆     ┆     ┆     ┆     ┆     ┆     ┆     ┆     ┆     ┆     ┆     ┆     ┆     ┆     ┆     ┆     ┆     ┆     ┆     ┆     ┆     ┆     ┆     ┆     ┆     ┆     ┆     ┆     ┆     ┆     ┆     ┆     ┆     ┆     ┆     ┆     ┆     ┆     ┆     ┆     ┆     ┆     ┆     ┆     ┆     ┆     ┆     ┆     ┆     ┆     ┆     ┆     ┆     ┆     ┆     ┆     ┆     ┆     ┆     ┆     ┆     ┆     ┆     ┆     ┆     ┆     │\n",
       "│ tes ┆ 213 ┆ 229 ┆ 233 ┆ 242 ┆ 252 ┆ 260 ┆ 260 ┆ 253 ┆ 240 ┆ 232 ┆ 226 ┆ 221 ┆ 217 ┆ 213 ┆ 206 ┆ 197 ┆ 190 ┆ 189 ┆ 191 ┆ 192 ┆ 198 ┆ 204 ┆ 210 ┆ 216 ┆ 222 ┆ 228 ┆ 233 ┆ 238 ┆ 243 ┆ 247 ┆ 251 ┆ 255 ┆ 258 ┆ 261 ┆ 265 ┆ 268 ┆ 270 ┆ 272 ┆ 275 ┆ 277 ┆ 279 ┆ 280 ┆ 281 ┆ 283 ┆ 284 ┆ 285 ┆ 286 ┆ 287 ┆ 288 ┆ 289 ┆ 290 ┆ 291 ┆ 292 ┆ 293 ┆ 294 ┆ 295 ┆ 296 ┆ 297 ┆ 298 ┆ 299 ┆ 0.0 ┆ 0.0 ┆ 0.0 ┆ 0.0 ┆ 0.0 ┆ 0.0 ┆ 0.0 ┆ 0.0 ┆ 0.0 ┆ 0.0 ┆ 0.0 ┆ 0.0 ┆ 0.0 ┆ 0.0 ┆ 0.0 ┆ 0.0 ┆ 0.0 ┆ 0.0 ┆ 0.0 ┆ 0.0 ┆ 0.0 ┆ 0.0 ┆ 0.0 ┆ 0.0 ┆ 0.0 ┆ 0.0 ┆ 0.0 ┆ 0.0 ┆ 0.0 ┆ 0.0 ┆ 0.0 ┆ 0.0 ┆ 0.0 ┆ 0.0 ┆ 0.0 ┆ 0.0 ┆ 0.0 ┆ 0.0 ┆ 0.0 ┆ 0.0 ┆ 0.0 ┆ 0.0 ┆ 0.0 ┆ 0.0 ┆ 0.0 ┆ 0.0 ┆ 0.0 ┆ 0.0 ┆ 0.0 ┆ 0.0 ┆ 0.0 ┆ 0.0 ┆ 0.0 ┆ 0.0 ┆ 0.0 ┆ 0.0 ┆ 0.0 ┆ 0.0 ┆ 0.0 ┆ 0.0 ┆ 9.7 ┆ 9.6 ┆ 9.4 ┆ 8.6 ┆ 7.4 ┆ 7.0 ┆ 5.8 ┆ 3.7 ┆ 1.8 ┆ 2.6 ┆ 1.5 ┆ 4.6 ┆ 2.0 ┆ 1.7 ┆ 6.7 ┆ 0.0 ┆ 0.0 ┆ 0.0 ┆ 0.0 ┆ 0.0 ┆ 1.0 ┆ 7.5 ┆ 1.6 ┆ 2.8 ┆ 1.5 ┆ 5.5 ┆ 1.2 ┆ 8.0 ┆ 2.1 ┆ 5.8 ┆ 1.3 ┆ 3.2 ┆ 8.0 ┆ 2.9 ┆ 1.7 ┆ 2.0 ┆ 0.0 ┆ 0.0 ┆ 6.1 ┆ 5.5 ┆ 5.5 ┆ 8.9 ┆ 0.0 ┆ 0.0 ┆ 0.0 ┆ 0.0 ┆ 0.0 ┆ 0.0 ┆ 0.0 ┆ 0.0 ┆ 0.0 ┆ 0.0 ┆ 0.0 ┆ 0.0 ┆ 0.0 ┆ 0.0 ┆ 8.7 ┆ 1.5 ┆ 1.9 ┆ 1.7 ┆ 3.1 ┆ 3.5 ┆ 3.9 ┆ 4.6 ┆ 4.7 ┆ 4.9 ┆ 4.6 ┆ 3.4 ┆ 2.3 ┆ 6.1 ┆ 2.7 ┆ 7.5 ┆ 2.6 ┆ 2.6 ┆ 5.1 ┆ 2.6 ┆ 9.8 ┆ 3.8 ┆ 1.0 ┆ 1.0 ┆ 1.5 ┆ 1.9 ┆ 6.5 ┆ 0.0 ┆ 0.0 ┆ 0.0 ┆ 0.0 ┆ 0.0 ┆ 0.0 ┆ 8.7 ┆ 0.0 ┆ 0.0 ┆ 0.0 ┆ 6.3 ┆ 5.3 ┆ 2.7 ┆ 2.3 ┆ 2.4 ┆ 1.2 ┆ 1.0 ┆ 0.0 ┆ 1.2 ┆ 0.0 ┆ 0.0 ┆ 0.0 ┆ 0.0 ┆ 0.0 ┆ 0.0 ┆ 0.0 ┆ 0.0 ┆ 0.0 ┆ 0.0 ┆ 0.0 ┆ 0.0 ┆ 2.8 ┆ 0.0 ┆ 0.0 ┆ 0.0 ┆ 0.0 ┆ 0.0 ┆ 16. ┆ -11 ┆ -24 ┆ -20 ┆ -37 ┆ -43 ┆ -43 ┆ -41 ┆ -38 ┆ -33 ┆ -25 ┆ -18 ┆ -14 ┆ -9. ┆ -2. ┆ 1.0 ┆ 5.2 ┆ 10. ┆ 13. ┆ 17. ┆ 22. ┆ 27. ┆ 28. ┆ 27. ┆ 24. ┆ 20. ┆ 16. ┆ 13. ┆ 10. ┆ 8.3 ┆ 6.7 ┆ 5.5 ┆ 4.3 ┆ 3.1 ┆ 2.0 ┆ 0.9 ┆ 0.0 ┆ -0. ┆ -0. ┆ -1. ┆ -1. ┆ -1. ┆ -2. ┆ -2. ┆ -3. ┆ -3. ┆ -3. ┆ -4. ┆ -4. ┆ -5. ┆ -5. ┆ -5. ┆ -5. ┆ -6. ┆ -6. ┆ -6. ┆ -6. ┆ -6. ┆ -6. ┆ -5. ┆ 20. ┆ 5.2 ┆ 4.4 ┆ -3. ┆ -5. ┆ -0. ┆ 5.0 ┆ 5.3 ┆ 1.7 ┆ 0.7 ┆ 2.0 ┆ 1.6 ┆ 0.5 ┆ 2.8 ┆ 3.7 ┆ 3.0 ┆ 2.6 ┆ 1.5 ┆ -0. ┆ -2. ┆ -4. ┆ -5. ┆ -6. ┆ -5. ┆ -3. ┆ -2. ┆ -1. ┆ -1. ┆ -1. ┆ -2. ┆ -2. ┆ -1. ┆ -1. ┆ -0. ┆ -0. ┆ 0.2 ┆ 0.3 ┆ 0.3 ┆ 0.4 ┆ 0.5 ┆ 0.7 ┆ 0.8 ┆ 0.9 ┆ 1.0 ┆ 1.0 ┆ 1.0 ┆ 1.0 ┆ 1.0 ┆ 1.0 ┆ 0.9 ┆ 0.9 ┆ 0.8 ┆ 0.8 ┆ 0.7 ┆ 0.7 ┆ 0.7 ┆ 0.7 ┆ 0.7 ┆ 0.7 ┆ 0.8 ┆ 991 ┆ 0.0 ┆ 70. ┆ -0. ┆ 0.0 ┆ -0. ┆ 0.0 ┆ 1.0 ┆ 1.0 ┆ 1.0 ┆ 1.0 ┆ 455 ┆ 0.0 ┆ 0.2 ┆ 0.7 ┆ 0.0 ┆ 2.7 ┆ 4.9 ┆ 8.8 ┆ 0.0 ┆ 0.0 ┆ 0.0 ┆ 0.0 ┆ 0.0 ┆ 0.0 ┆ 0.0 ┆ 0.0 ┆ 0.0 ┆ 0.0 ┆ 0.0 ┆ 0.0 ┆ 0.0 ┆ 0.0 ┆ 5.4 ┆ 3.2 ┆ 2.1 ┆ 1.4 ┆ 1.0 ┆ 8.7 ┆ 7.7 ┆ 7.4 ┆ 7.2 ┆ 7.1 ┆ 7.0 ┆ 7.0 ┆ 7.0 ┆ 7.0 ┆ 7.0 ┆ 7.0 ┆ 7.0 ┆ 6.9 ┆ 6.7 ┆ 6.6 ┆ 6.4 ┆ 6.3 ┆ 6.1 ┆ 5.8 ┆ 5.4 ┆ 5.2 ┆ 4.8 ┆ 4.4 ┆ 4.1 ┆ 3.7 ┆ 3.5 ┆ 3.3 ┆ 3.1 ┆ 2.9 ┆ 2.8 ┆ 2.7 ┆ 2.6 ┆ 2.6 ┆ 2.5 ┆ 2.4 ┆ 2.4 ┆ 2.4 ┆ 2.4 ┆ 1.7 ┆ 2.0 ┆ 2.3 ┆ 2.6 ┆ 3.0 ┆ 3.4 ┆ 3.8 ┆ 4.3 ┆ 4.8 ┆ 5.3 ┆ 5.7 ┆ 6.2 ┆ 6.7 ┆ 7.2 ┆ 7.6 ┆ 8.1 ┆ 8.5 ┆ 9.0 ┆ 9.4 ┆ 9.7 ┆ 9.9 ┆ 9.9 ┆ 9.9 ┆ 9.9 ┆ 9.9 ┆ 9.9 ┆ 9.9 ┆ 9.9 ┆ 9.9 ┆ 9.9 ┆ 9.9 ┆ 9.9 ┆ 9.9 ┆ 9.9 ┆ 9.9 ┆ 9.9 ┆ 9.9 ┆ 9.9 ┆ 9.9 ┆ 9.9 ┆ 9.9 ┆ 9.9 ┆ 9.9 ┆ 9.9 ┆ 9.9 ┆ 9.9 ┆ 9.9 ┆ 9.9 ┆ 9.9 ┆ 9.9 ┆ 9.9 ┆ 9.9 ┆ 9.9 ┆ 9.9 ┆ 9.9 ┆ 9.9 ┆ 9.9 ┆ 9.9 ┆ 9.9 ┆ 9.9 ┆ 3.1 ┆ 3.9 ┆ 4.8 ┆ 6.0 ┆ 7.4 ┆ 9.0 ┆ 1.1 ┆ 1.3 ┆ 1.5 ┆ 1.8 ┆ 2.0 ┆ 2.3 ┆ 2.6 ┆ 2.9 ┆ 3.2 ┆ 3.5 ┆ 3.8 ┆ 4.1 ┆ 4.4 ┆ 4.7 ┆ 4.9 ┆ 4.9 ┆ 4.9 ┆ 4.9 ┆ 4.9 ┆ 4.9 ┆ 4.9 ┆ 4.9 ┆ 4.9 ┆ 4.9 ┆ 4.9 ┆ 4.9 ┆ 4.9 ┆ 4.9 ┆ 4.9 ┆ 4.9 ┆ 4.9 ┆ 4.9 ┆ 4.9 ┆ 4.9 ┆ 4.9 ┆ 4.9 ┆ 4.9 ┆ 4.9 ┆ 4.9 ┆ 4.9 ┆ 4.9 ┆ 4.9 ┆ 4.9 ┆ 4.9 ┆ 4.9 ┆ 4.9 ┆ 4.9 ┆ 4.9 ┆ 4.9 ┆ 4.9 ┆ 4.9 ┆ 4.9 ┆ 4.9 ┆ 4.9 │\n",
       "│ t_6 ┆ .07 ┆ .42 ┆ .36 ┆ .68 ┆ .91 ┆ .95 ┆ .97 ┆ .05 ┆ .92 ┆ .91 ┆ .80 ┆ .93 ┆ .64 ┆ .24 ┆ .34 ┆ .76 ┆ .74 ┆ .53 ┆ .34 ┆ .50 ┆ .06 ┆ .08 ┆ .65 ┆ .96 ┆ .76 ┆ .26 ┆ .52 ┆ .41 ┆ .08 ┆ .40 ┆ .55 ┆ .27 ┆ .69 ┆ .98 ┆ .12 ┆ .07 ┆ .62 ┆ .98 ┆ .17 ┆ .32 ┆ .23 ┆ .73 ┆ .94 ┆ .24 ┆ .54 ┆ .84 ┆ .92 ┆ .87 ┆ .97 ┆ .86 ┆ .71 ┆ .69 ┆ .54 ┆ .17 ┆ .03 ┆ .01 ┆ .04 ┆ .15 ┆ .15 ┆ .14 ┆ 000 ┆ 000 ┆ 000 ┆ 000 ┆ 000 ┆ 000 ┆ 000 ┆ 000 ┆ 000 ┆ 000 ┆ 000 ┆ 000 ┆ 000 ┆ 000 ┆ 000 ┆ 000 ┆ 000 ┆ 000 ┆ 000 ┆ 000 ┆ 000 ┆ 000 ┆ 000 ┆ 000 ┆ 000 ┆ 001 ┆ 001 ┆ 003 ┆ 004 ┆ 006 ┆ 007 ┆ 010 ┆ 011 ┆ 013 ┆ 014 ┆ 017 ┆ 021 ┆ 027 ┆ 033 ┆ 038 ┆ 043 ┆ 050 ┆ 062 ┆ 075 ┆ 083 ┆ 090 ┆ 098 ┆ 107 ┆ 114 ┆ 121 ┆ 128 ┆ 131 ┆ 135 ┆ 143 ┆ 150 ┆ 155 ┆ 159 ┆ 162 ┆ 166 ┆ 173 ┆ 196 ┆ 819 ┆ 737 ┆ 130 ┆ 553 ┆ 430 ┆ 079 ┆ 533 ┆ 347 ┆ 609 ┆ 455 ┆ 986 ┆ 639 ┆ 214 ┆ 973 ┆     ┆     ┆     ┆     ┆     ┆ 323 ┆ 774 ┆ 654 ┆ 840 ┆ 806 ┆ 908 ┆ 081 ┆ 682 ┆ 577 ┆ 245 ┆ 243 ┆ 364 ┆ 410 ┆ 317 ┆ 491 ┆ 769 ┆ 000 ┆ 000 ┆ 060 ┆ 421 ┆ 637 ┆ 581 ┆ 000 ┆ 000 ┆ 000 ┆ 000 ┆ 000 ┆ 000 ┆ 000 ┆ 000 ┆ 000 ┆ 000 ┆ 000 ┆ 000 ┆ 000 ┆ 000 ┆ 045 ┆ 553 ┆ 860 ┆ 795 ┆ 575 ┆ 242 ┆ 756 ┆ 787 ┆ 899 ┆ 267 ┆ 184 ┆ 904 ┆ 260 ┆ 475 ┆ 373 ┆ 081 ┆ 179 ┆ 664 ┆ 042 ┆ 412 ┆ 686 ┆ 788 ┆ 422 ┆ 476 ┆ 938 ┆ 242 ┆ 540 ┆ 000 ┆ 000 ┆ 000 ┆ 000 ┆ 000 ┆ 000 ┆ 136 ┆ 000 ┆ 000 ┆ 000 ┆ 892 ┆ 047 ┆ 988 ┆ 266 ┆ 639 ┆ 039 ┆ 484 ┆     ┆ 023 ┆     ┆     ┆     ┆     ┆     ┆     ┆     ┆     ┆     ┆     ┆     ┆     ┆ 992 ┆     ┆     ┆     ┆     ┆     ┆ 386 ┆ .51 ┆ .81 ┆ .79 ┆ .66 ┆ .57 ┆ .41 ┆ .31 ┆ .49 ┆ .17 ┆ .49 ┆ .30 ┆ .22 ┆ 429 ┆ 728 ┆ 835 ┆ 465 ┆ 596 ┆ 751 ┆ 168 ┆ 897 ┆ 350 ┆ 289 ┆ 581 ┆ 350 ┆ 201 ┆ 367 ┆ 093 ┆ 395 ┆ 392 ┆ 831 ┆ 107 ┆ 299 ┆ 965 ┆ 718 ┆ 491 ┆ 713 ┆ 575 ┆ 958 ┆ 161 ┆ 364 ┆ 642 ┆ 055 ┆ 538 ┆ 052 ┆ 529 ┆ 950 ┆ 343 ┆ 695 ┆ 011 ┆ 323 ┆ 662 ┆ 971 ┆ 224 ┆ 444 ┆ 645 ┆ 783 ┆ 794 ┆ 425 ┆ 456 ┆ 983 ┆ 496 ┆ 796 ┆ 157 ┆ 787 ┆ 279 ┆ 393 ┆ 442 ┆ 703 ┆ 143 ┆ 770 ┆ 394 ┆ 899 ┆ 069 ┆ 287 ┆ 329 ┆ 877 ┆ 516 ┆ 080 ┆ 551 ┆ 148 ┆ 943 ┆ 167 ┆ 431 ┆ 508 ┆ 183 ┆ 755 ┆ 703 ┆ 861 ┆ 088 ┆ 089 ┆ 826 ┆ 271 ┆ 607 ┆ 032 ┆ 874 ┆ 641 ┆ 894 ┆ 369 ┆ 545 ┆ 255 ┆ 768 ┆ 852 ┆ 269 ┆ 470 ┆ 802 ┆ 904 ┆ 642 ┆ 271 ┆ 947 ┆ 456 ┆ 698 ┆ 139 ┆ 656 ┆ 399 ┆ 221 ┆ 251 ┆ 586 ┆ 801 ┆ 218 ┆ 86. ┆     ┆ 755 ┆ 892 ┆ 332 ┆ 005 ┆     ┆     ┆     ┆     ┆     ┆ .79 ┆     ┆ 981 ┆ 018 ┆     ┆ 551 ┆ 620 ┆ 940 ┆ 000 ┆ 000 ┆ 000 ┆ 000 ┆ 000 ┆ 000 ┆ 000 ┆ 000 ┆ 000 ┆ 000 ┆ 000 ┆ 000 ┆ 000 ┆ 000 ┆ 335 ┆ 919 ┆ 876 ┆ 950 ┆ 933 ┆ 582 ┆ 536 ┆ 163 ┆ 076 ┆ 080 ┆ 781 ┆ 635 ┆ 695 ┆ 802 ┆ 773 ┆ 642 ┆ 367 ┆ 130 ┆ 862 ┆ 464 ┆ 919 ┆ 383 ┆ 233 ┆ 041 ┆ 994 ┆ 104 ┆ 473 ┆ 674 ┆ 062 ┆ 635 ┆ 023 ┆ 181 ┆ 460 ┆ 850 ┆ 331 ┆ 395 ┆ 727 ┆ 068 ┆ 409 ┆ 823 ┆ 685 ┆ 545 ┆ 471 ┆ 700 ┆ 328 ┆ 320 ┆ 696 ┆ 454 ┆ 568 ┆ 980 ┆ 609 ┆ 367 ┆ 178 ┆ 992 ┆ 782 ┆ 540 ┆ 251 ┆ 892 ┆ 424 ┆ 804 ┆ 003 ┆ 009 ┆ 831 ┆ 861 ┆ 861 ┆ 861 ┆ 861 ┆ 861 ┆ 861 ┆ 861 ┆ 861 ┆ 861 ┆ 861 ┆ 861 ┆ 861 ┆ 861 ┆ 861 ┆ 861 ┆ 861 ┆ 861 ┆ 861 ┆ 861 ┆ 861 ┆ 861 ┆ 861 ┆ 861 ┆ 861 ┆ 861 ┆ 861 ┆ 861 ┆ 861 ┆ 861 ┆ 861 ┆ 861 ┆ 861 ┆ 861 ┆ 861 ┆ 861 ┆ 861 ┆ 861 ┆ 861 ┆ 861 ┆ 861 ┆ 350 ┆ 069 ┆ 601 ┆ 254 ┆ 293 ┆ 874 ┆ 000 ┆ 148 ┆ 501 ┆ 024 ┆ 686 ┆ 469 ┆ 359 ┆ 342 ┆ 395 ┆ 483 ┆ 566 ┆ 609 ┆ 593 ┆ 509 ┆ 086 ┆ 086 ┆ 086 ┆ 086 ┆ 086 ┆ 086 ┆ 086 ┆ 086 ┆ 086 ┆ 086 ┆ 086 ┆ 086 ┆ 086 ┆ 086 ┆ 086 ┆ 086 ┆ 086 ┆ 086 ┆ 086 ┆ 086 ┆ 086 ┆ 086 ┆ 086 ┆ 086 ┆ 086 ┆ 086 ┆ 086 ┆ 086 ┆ 086 ┆ 086 ┆ 086 ┆ 086 ┆ 086 ┆ 086 ┆ 086 ┆ 086 ┆ 086 ┆ 086 ┆ 086 ┆ 086 │\n",
       "│ 341 ┆ 377 ┆ 155 ┆ 845 ┆ 378 ┆ 278 ┆ 398 ┆ 731 ┆ 988 ┆ 989 ┆ 791 ┆ 359 ┆ 733 ┆ 686 ┆ 573 ┆ 662 ┆ 253 ┆ 862 ┆ 427 ┆ 047 ┆ 400 ┆ 498 ┆ 369 ┆ 925 ┆ 595 ┆ 587 ┆ 443 ┆ 828 ┆ 498 ┆ 483 ┆ 786 ┆ 908 ┆ 033 ┆ 243 ┆ 807 ┆ 583 ┆ 896 ┆ 784 ┆ 131 ┆ 815 ┆ 678 ┆ 369 ┆ 774 ┆ 689 ┆ 825 ┆ 198 ┆ 623 ┆ 888 ┆ 416 ┆ 811 ┆ 487 ┆ 582 ┆ 913 ┆ 741 ┆ 027 ┆ 824 ┆ 840 ┆ 993 ┆ 961 ┆ 971 ┆ 650 ┆ 02  ┆ 02  ┆ 02  ┆ 02  ┆ 02  ┆ 02  ┆ 02  ┆ 02  ┆ 02  ┆ 02  ┆ 02  ┆ 02  ┆ 02  ┆ 02  ┆ 02  ┆ 02  ┆ 01  ┆ 01  ┆ 01  ┆ 02  ┆ 04  ┆ 09  ┆ 23  ┆ 49  ┆ 79  ┆ 29  ┆ 97  ┆ 01  ┆ 21  ┆ 15  ┆ 99  ┆ 1   ┆ 95  ┆ 34  ┆ 78  ┆ 18  ┆ 79  ┆ 6   ┆ 17  ┆ 39  ┆ 86  ┆ 77  ┆ 77  ┆ 19  ┆ 27  ┆ 56  ┆ 29  ┆ 64  ┆ 35  ┆ 43  ┆ 5   ┆ 19  ┆     ┆ 71  ┆ 46  ┆ 51  ┆ 51  ┆ 06  ┆ 89  ┆ 09  ┆ e-3 ┆ e-3 ┆ e-3 ┆ e-3 ┆ e-3 ┆ e-3 ┆ e-3 ┆ e-3 ┆ e-3 ┆ e-3 ┆ e-3 ┆ e-3 ┆ e-4 ┆ e-4 ┆ e-5 ┆     ┆     ┆     ┆     ┆     ┆ e-5 ┆ e-4 ┆ e-4 ┆ e-3 ┆ e-3 ┆ e-2 ┆ e-2 ┆ e-2 ┆ e-1 ┆ e-1 ┆ e-8 ┆ e-7 ┆ e-7 ┆ e-7 ┆ e-7 ┆ e-7 ┆ 03  ┆ 04  ┆ e-7 ┆ e-7 ┆ e-7 ┆ e-7 ┆ 06  ┆ 04  ┆ 03  ┆ 04  ┆ 06  ┆ 75  ┆ 17  ┆ 14  ┆ 18  ┆ 07  ┆ 04  ┆ 03  ┆ 02  ┆ 02  ┆ e-7 ┆ e-7 ┆ e-8 ┆ e-9 ┆ e-1 ┆ e-1 ┆ e-1 ┆ e-1 ┆ e-1 ┆ e-1 ┆ e-1 ┆ e-1 ┆ e-1 ┆ e-1 ┆ e-1 ┆ e-1 ┆ e-1 ┆ e-2 ┆ e-2 ┆ e-1 ┆ e-1 ┆ e-1 ┆ e-1 ┆ e-9 ┆ e-8 ┆ e-7 ┆ e-7 ┆ 02  ┆ 02  ┆ 06  ┆ 09  ┆ 09  ┆ 06  ┆ e-7 ┆ 03  ┆ 03  ┆ 02  ┆ e-7 ┆ e-7 ┆ e-7 ┆ e-7 ┆ e-8 ┆ e-9 ┆ e-9 ┆     ┆ e-9 ┆     ┆     ┆     ┆     ┆     ┆     ┆     ┆     ┆     ┆     ┆     ┆     ┆ e-1 ┆     ┆     ┆     ┆     ┆     ┆ 828 ┆ 245 ┆ 713 ┆ 656 ┆ 945 ┆ 750 ┆ 409 ┆ 412 ┆ 889 ┆ 397 ┆ 320 ┆ 158 ┆ 911 ┆ 682 ┆ 357 ┆ 7   ┆ 48  ┆ 983 ┆ 444 ┆ 239 ┆ 938 ┆ 709 ┆ 143 ┆ 126 ┆ 959 ┆ 542 ┆ 193 ┆ 764 ┆ 265 ┆ 74  ┆ 11  ┆ 04  ┆ 76  ┆ 51  ┆ 99  ┆ 27  ┆ 86  ┆ 528 ┆ 757 ┆ 323 ┆ 285 ┆ 227 ┆ 358 ┆ 765 ┆ 665 ┆ 975 ┆ 433 ┆ 366 ┆ 296 ┆ 322 ┆ 996 ┆ 009 ┆ 492 ┆ 755 ┆ 167 ┆ 438 ┆ 85  ┆ 718 ┆ 409 ┆ 625 ┆ 392 ┆ 65  ┆ 47  ┆ 389 ┆ 299 ┆ 474 ┆ 68  ┆ 92  ┆ 46  ┆ 79  ┆ 56  ┆ 21  ┆ 09  ┆ 33  ┆ 32  ┆ 48  ┆ 94  ┆ 57  ┆ 055 ┆ 87  ┆ 039 ┆ 878 ┆ 202 ┆ 529 ┆ 39  ┆ 702 ┆ 617 ┆ 193 ┆ 061 ┆ 447 ┆ 375 ┆ 21  ┆ 17  ┆ 347 ┆ 128 ┆ 5   ┆ 68  ┆ 45  ┆ 52  ┆ 93  ┆ 87  ┆ 4   ┆ 13  ┆ 65  ┆ 64  ┆ 41  ┆ 79  ┆ 47  ┆ 41  ┆ 94  ┆ 11  ┆ 93  ┆ 89  ┆ 46  ┆     ┆ 11  ┆ 07  ┆ 54  ┆     ┆ 63  ┆ 272 ┆     ┆ 197 ┆ 743 ┆ 05  ┆ 67  ┆     ┆     ┆     ┆     ┆     ┆ 343 ┆     ┆ 89  ┆ 11  ┆     ┆ e-7 ┆ e-7 ┆ e-7 ┆ 02  ┆ 03  ┆ 05  ┆ 08  ┆ 13  ┆ 14  ┆ 15  ┆ 15  ┆ 13  ┆ 1   ┆ 07  ┆ 04  ┆ 02  ┆ 01  ┆ e-7 ┆ e-7 ┆ e-7 ┆ e-7 ┆ e-7 ┆ e-8 ┆ e-8 ┆ e-8 ┆ e-8 ┆ e-8 ┆ e-8 ┆ e-8 ┆ e-8 ┆ e-8 ┆ e-8 ┆ e-8 ┆ e-8 ┆ e-8 ┆ e-8 ┆ e-8 ┆ e-8 ┆ e-8 ┆ e-8 ┆ e-8 ┆ e-8 ┆ e-8 ┆ e-8 ┆ e-8 ┆ e-8 ┆ e-8 ┆ e-8 ┆ e-8 ┆ e-8 ┆ e-8 ┆ e-8 ┆ e-8 ┆ e-8 ┆ e-8 ┆ e-8 ┆ e-8 ┆ e-8 ┆ e-8 ┆ e-8 ┆ e-7 ┆ e-7 ┆ e-7 ┆ e-7 ┆ e-7 ┆ e-7 ┆ e-7 ┆ e-7 ┆ e-7 ┆ e-7 ┆ e-7 ┆ e-7 ┆ e-7 ┆ e-7 ┆ e-7 ┆ e-7 ┆ e-7 ┆ e-7 ┆ e-7 ┆ e-7 ┆ e-7 ┆ e-7 ┆ e-7 ┆ e-7 ┆ e-7 ┆ e-7 ┆ e-7 ┆ e-7 ┆ e-7 ┆ e-7 ┆ e-7 ┆ e-7 ┆ e-7 ┆ e-7 ┆ e-7 ┆ e-7 ┆ e-7 ┆ e-7 ┆ e-7 ┆ e-7 ┆ e-7 ┆ e-7 ┆ e-7 ┆ e-7 ┆ e-7 ┆ e-7 ┆ e-7 ┆ e-7 ┆ e-7 ┆ e-7 ┆ e-7 ┆ e-7 ┆ e-7 ┆ e-7 ┆ e-7 ┆ e-7 ┆ e-7 ┆ e-7 ┆ e-7 ┆ e-7 ┆ e-8 ┆ e-8 ┆ e-8 ┆ e-8 ┆ e-8 ┆ e-8 ┆ e-7 ┆ e-7 ┆ e-7 ┆ e-7 ┆ e-7 ┆ e-7 ┆ e-7 ┆ e-7 ┆ e-7 ┆ e-7 ┆ e-7 ┆ e-7 ┆ e-7 ┆ e-7 ┆ e-7 ┆ e-7 ┆ e-7 ┆ e-7 ┆ e-7 ┆ e-7 ┆ e-7 ┆ e-7 ┆ e-7 ┆ e-7 ┆ e-7 ┆ e-7 ┆ e-7 ┆ e-7 ┆ e-7 ┆ e-7 ┆ e-7 ┆ e-7 ┆ e-7 ┆ e-7 ┆ e-7 ┆ e-7 ┆ e-7 ┆ e-7 ┆ e-7 ┆ e-7 ┆ e-7 ┆ e-7 ┆ e-7 ┆ e-7 ┆ e-7 ┆ e-7 ┆ e-7 ┆ e-7 ┆ e-7 ┆ e-7 ┆ e-7 ┆ e-7 ┆ e-7 ┆ e-7 │\n",
       "│ 29  ┆ 1   ┆ 1   ┆ 5   ┆ 8   ┆ 6   ┆ 1   ┆     ┆ 5   ┆     ┆     ┆ 8   ┆ 3   ┆     ┆ 5   ┆ 7   ┆ 2   ┆ 6   ┆ 8   ┆ 2   ┆ 4   ┆ 5   ┆ 9   ┆ 6   ┆ 4   ┆ 2   ┆ 2   ┆ 4   ┆     ┆ 9   ┆ 4   ┆ 2   ┆     ┆ 9   ┆ 5   ┆     ┆ 4   ┆ 9   ┆ 7   ┆ 8   ┆ 4   ┆ 8   ┆ 9   ┆ 3   ┆     ┆ 1   ┆ 7   ┆ 6   ┆ 4   ┆     ┆ 5   ┆ 2   ┆ 3   ┆ 2   ┆ 4   ┆ 1   ┆ 6   ┆ 9   ┆ 5   ┆ 9   ┆ 1   ┆     ┆     ┆     ┆     ┆     ┆     ┆     ┆     ┆     ┆     ┆     ┆     ┆     ┆     ┆     ┆     ┆     ┆     ┆     ┆     ┆     ┆     ┆     ┆     ┆     ┆     ┆     ┆     ┆     ┆     ┆     ┆     ┆     ┆     ┆     ┆     ┆     ┆     ┆     ┆     ┆     ┆     ┆     ┆     ┆     ┆     ┆     ┆     ┆     ┆     ┆     ┆     ┆     ┆     ┆     ┆     ┆     ┆     ┆     ┆     ┆ 7   ┆ 7   ┆ 7   ┆ 7   ┆ 7   ┆ 7   ┆ 7   ┆ 7   ┆ 7   ┆ 8   ┆ 8   ┆ 9   ┆ 2   ┆ 8   ┆ 4   ┆     ┆     ┆     ┆     ┆     ┆ 2   ┆ 8   ┆ 2   ┆ 7   ┆ 2   ┆ 8   ┆ 4   ┆ 0   ┆ 5   ┆ 1   ┆     ┆     ┆     ┆     ┆     ┆     ┆     ┆     ┆     ┆     ┆     ┆     ┆     ┆     ┆     ┆     ┆     ┆     ┆     ┆     ┆     ┆     ┆     ┆     ┆     ┆     ┆     ┆     ┆     ┆     ┆ 1   ┆ 1   ┆ 1   ┆ 1   ┆ 1   ┆ 1   ┆ 1   ┆ 1   ┆ 1   ┆ 2   ┆ 2   ┆ 3   ┆ 6   ┆ 2   ┆ 5   ┆ 8   ┆ 4   ┆ 1   ┆ 0   ┆     ┆     ┆     ┆     ┆     ┆     ┆     ┆     ┆     ┆     ┆     ┆     ┆     ┆     ┆     ┆     ┆     ┆     ┆     ┆     ┆     ┆     ┆     ┆     ┆     ┆     ┆     ┆     ┆     ┆     ┆     ┆     ┆     ┆     ┆     ┆ 2   ┆     ┆     ┆     ┆     ┆     ┆     ┆ 8   ┆ 1   ┆ 3   ┆ 4   ┆ 6   ┆ 6   ┆ 9   ┆ 9   ┆ 3   ┆ 9   ┆ 5   ┆ 8   ┆     ┆     ┆     ┆     ┆     ┆     ┆     ┆     ┆     ┆     ┆     ┆     ┆     ┆     ┆     ┆     ┆     ┆     ┆     ┆     ┆     ┆     ┆     ┆     ┆     ┆     ┆     ┆     ┆     ┆     ┆     ┆     ┆     ┆     ┆     ┆     ┆     ┆     ┆     ┆     ┆     ┆     ┆     ┆     ┆     ┆     ┆     ┆     ┆     ┆     ┆     ┆     ┆     ┆     ┆     ┆     ┆     ┆     ┆     ┆     ┆     ┆     ┆     ┆     ┆     ┆     ┆     ┆     ┆     ┆     ┆     ┆     ┆     ┆     ┆     ┆     ┆     ┆     ┆     ┆     ┆     ┆     ┆     ┆     ┆     ┆     ┆     ┆     ┆     ┆     ┆     ┆     ┆     ┆     ┆     ┆     ┆     ┆     ┆     ┆     ┆     ┆     ┆     ┆     ┆     ┆     ┆     ┆ 487 ┆     ┆     ┆     ┆     ┆     ┆     ┆     ┆     ┆     ┆     ┆ 9   ┆     ┆     ┆     ┆     ┆     ┆     ┆     ┆     ┆     ┆     ┆     ┆     ┆     ┆     ┆     ┆     ┆     ┆     ┆     ┆     ┆     ┆     ┆     ┆     ┆     ┆     ┆     ┆     ┆     ┆     ┆     ┆     ┆     ┆     ┆     ┆     ┆     ┆     ┆     ┆     ┆     ┆     ┆     ┆     ┆     ┆     ┆     ┆     ┆     ┆     ┆     ┆     ┆     ┆     ┆     ┆     ┆     ┆     ┆     ┆     ┆     ┆     ┆     ┆     ┆     ┆     ┆     ┆     ┆     ┆     ┆     ┆     ┆     ┆     ┆     ┆     ┆     ┆     ┆     ┆     ┆     ┆     ┆     ┆     ┆     ┆     ┆     ┆     ┆     ┆     ┆     ┆     ┆     ┆     ┆     ┆     ┆     ┆     ┆     ┆     ┆     ┆     ┆     ┆     ┆     ┆     ┆     ┆     ┆     ┆     ┆     ┆     ┆     ┆     ┆     ┆     ┆     ┆     ┆     ┆     ┆     ┆     ┆     ┆     ┆     ┆     ┆     ┆     ┆     ┆     ┆     ┆     ┆     ┆     ┆     ┆     ┆     ┆     ┆     ┆     ┆     ┆     ┆     ┆     ┆     ┆     ┆     ┆     ┆     ┆     ┆     ┆     ┆     ┆     ┆     ┆     ┆     ┆     ┆     ┆     ┆     ┆     ┆     ┆     ┆     ┆     ┆     ┆     ┆     ┆     ┆     ┆     ┆     ┆     ┆     ┆     ┆     ┆     ┆     ┆     ┆     ┆     ┆     ┆     │\n",
       "│ tes ┆ 212 ┆ 226 ┆ 230 ┆ 241 ┆ 252 ┆ 262 ┆ 261 ┆ 253 ┆ 241 ┆ 233 ┆ 227 ┆ 222 ┆ 218 ┆ 214 ┆ 208 ┆ 201 ┆ 194 ┆ 191 ┆ 191 ┆ 193 ┆ 198 ┆ 204 ┆ 210 ┆ 215 ┆ 221 ┆ 226 ┆ 231 ┆ 236 ┆ 241 ┆ 245 ┆ 249 ┆ 253 ┆ 257 ┆ 260 ┆ 263 ┆ 266 ┆ 269 ┆ 271 ┆ 274 ┆ 276 ┆ 278 ┆ 279 ┆ 281 ┆ 282 ┆ 284 ┆ 285 ┆ 286 ┆ 287 ┆ 288 ┆ 289 ┆ 290 ┆ 291 ┆ 292 ┆ 293 ┆ 293 ┆ 294 ┆ 295 ┆ 296 ┆ 297 ┆ 298 ┆ 0.0 ┆ 0.0 ┆ 0.0 ┆ 0.0 ┆ 0.0 ┆ 0.0 ┆ 0.0 ┆ 0.0 ┆ 0.0 ┆ 0.0 ┆ 0.0 ┆ 0.0 ┆ 0.0 ┆ 0.0 ┆ 0.0 ┆ 0.0 ┆ 0.0 ┆ 0.0 ┆ 0.0 ┆ 0.0 ┆ 0.0 ┆ 0.0 ┆ 0.0 ┆ 0.0 ┆ 0.0 ┆ 0.0 ┆ 0.0 ┆ 0.0 ┆ 0.0 ┆ 0.0 ┆ 0.0 ┆ 0.0 ┆ 0.0 ┆ 0.0 ┆ 0.0 ┆ 0.0 ┆ 0.0 ┆ 0.0 ┆ 0.0 ┆ 0.0 ┆ 0.0 ┆ 0.0 ┆ 0.0 ┆ 0.0 ┆ 0.0 ┆ 0.0 ┆ 0.0 ┆ 0.0 ┆ 0.0 ┆ 0.0 ┆ 0.0 ┆ 0.0 ┆ 0.0 ┆ 0.0 ┆ 0.0 ┆ 0.0 ┆ 0.0 ┆ 0.0 ┆ 0.0 ┆ 0.0 ┆ 9.7 ┆ 9.6 ┆ 9.4 ┆ 8.5 ┆ 7.7 ┆ 7.7 ┆ 6.7 ┆ 4.5 ┆ 2.4 ┆ 5.1 ┆ 2.5 ┆ 6.4 ┆ 8.9 ┆ 1.0 ┆ 5.2 ┆ 0.0 ┆ 0.0 ┆ 0.0 ┆ 0.0 ┆ 0.0 ┆ 2.6 ┆ 2.2 ┆ 6.9 ┆ 0.0 ┆ 0.0 ┆ 0.0 ┆ 8.0 ┆ 6.2 ┆ 1.6 ┆ 4.5 ┆ 1.0 ┆ 1.4 ┆ 7.4 ┆ 7.5 ┆ 3.2 ┆ 9.1 ┆ 0.0 ┆ 0.0 ┆ 0.0 ┆ 8.5 ┆ 0.0 ┆ 0.0 ┆ 0.0 ┆ 0.0 ┆ 0.0 ┆ 0.0 ┆ 0.0 ┆ 0.0 ┆ 0.0 ┆ 0.0 ┆ 0.0 ┆ 0.0 ┆ 0.0 ┆ 0.0 ┆ 0.0 ┆ 0.0 ┆ 0.0 ┆ 7.8 ┆ 2.0 ┆ 1.8 ┆ 3.1 ┆ 3.4 ┆ 3.9 ┆ 4.7 ┆ 4.9 ┆ 5.1 ┆ 5.1 ┆ 4.1 ┆ 2.8 ┆ 1.0 ┆ 4.0 ┆ 1.0 ┆ 7.9 ┆ 1.2 ┆ 1.6 ┆ 0.0 ┆ 2.6 ┆ 8.6 ┆ 1.6 ┆ 7.3 ┆ 5.2 ┆ 1.7 ┆ 1.6 ┆ 0.0 ┆ 0.0 ┆ 0.0 ┆ 8.3 ┆ 0.0 ┆ 0.0 ┆ 0.0 ┆ 0.0 ┆ 2.1 ┆ 6.5 ┆ 0.0 ┆ 3.9 ┆ 2.4 ┆ 6.2 ┆ 1.5 ┆ 4.4 ┆ 0.0 ┆ 0.0 ┆ 0.0 ┆ 8.1 ┆ 0.0 ┆ 0.0 ┆ 0.0 ┆ 0.0 ┆ 0.0 ┆ 0.0 ┆ 0.0 ┆ 0.0 ┆ 0.0 ┆ 0.0 ┆ 0.0 ┆ 0.0 ┆ 0.0 ┆ 0.0 ┆ 0.0 ┆ 0.0 ┆ 0.0 ┆ -0. ┆ -29 ┆ -34 ┆ -26 ┆ -32 ┆ -37 ┆ -40 ┆ -38 ┆ -34 ┆ -29 ┆ -23 ┆ -16 ┆ -9. ┆ -5. ┆ 0.2 ┆ 6.7 ┆ 11. ┆ 17. ┆ 21. ┆ 26. ┆ 31. ┆ 32. ┆ 32. ┆ 30. ┆ 27. ┆ 24. ┆ 22. ┆ 19. ┆ 17. ┆ 15. ┆ 13. ┆ 11. ┆ 9.9 ┆ 8.1 ┆ 6.5 ┆ 5.2 ┆ 4.2 ┆ 3.4 ┆ 2.7 ┆ 2.0 ┆ 1.3 ┆ 0.7 ┆ 0.2 ┆ -0. ┆ -0. ┆ -1. ┆ -1. ┆ -1. ┆ -2. ┆ -2. ┆ -2. ┆ -2. ┆ -3. ┆ -3. ┆ -3. ┆ -3. ┆ -3. ┆ -3. ┆ -3. ┆ -3. ┆ 13. ┆ 4.8 ┆ 15. ┆ 4.3 ┆ -4. ┆ -1. ┆ 4.3 ┆ 5.3 ┆ 1.5 ┆ -0. ┆ 1.3 ┆ 2.5 ┆ 0.5 ┆ 0.2 ┆ 3.3 ┆ 3.9 ┆ 4.2 ┆ 4.1 ┆ 4.0 ┆ 4.2 ┆ 4.6 ┆ 5.8 ┆ 6.4 ┆ 6.6 ┆ 6.0 ┆ 4.9 ┆ 4.0 ┆ 3.4 ┆ 3.0 ┆ 2.8 ┆ 2.8 ┆ 2.7 ┆ 2.5 ┆ 2.1 ┆ 1.6 ┆ 1.1 ┆ 0.8 ┆ 0.6 ┆ 0.5 ┆ 0.5 ┆ 0.4 ┆ 0.2 ┆ 0.0 ┆ -0. ┆ -0. ┆ -0. ┆ -0. ┆ -0. ┆ -0. ┆ -0. ┆ -0. ┆ -1. ┆ -1. ┆ -1. ┆ -1. ┆ -1. ┆ -1. ┆ -1. ┆ -1. ┆ -1. ┆ 101 ┆ 0.0 ┆ 80. ┆ 5.5 ┆ 0.0 ┆ 0.0 ┆ 0.0 ┆ 1.0 ┆ 1.0 ┆ 1.0 ┆ 1.0 ┆ 460 ┆ 0.0 ┆ 0.0 ┆ 1.0 ┆ 0.0 ┆ 2.7 ┆ 4.9 ┆ 8.7 ┆ 0.0 ┆ 0.0 ┆ 0.0 ┆ 0.0 ┆ 0.0 ┆ 0.0 ┆ 0.0 ┆ 0.0 ┆ 0.0 ┆ 0.0 ┆ 0.0 ┆ 0.0 ┆ 0.0 ┆ 0.0 ┆ 5.7 ┆ 3.5 ┆ 2.5 ┆ 1.8 ┆ 1.3 ┆ 9.8 ┆ 8.0 ┆ 7.5 ┆ 7.2 ┆ 7.0 ┆ 7.0 ┆ 7.0 ┆ 7.1 ┆ 7.1 ┆ 7.2 ┆ 7.2 ┆ 7.1 ┆ 7.1 ┆ 7.0 ┆ 6.8 ┆ 6.6 ┆ 6.5 ┆ 6.2 ┆ 5.9 ┆ 5.5 ┆ 5.2 ┆ 4.7 ┆ 4.2 ┆ 3.7 ┆ 3.3 ┆ 3.1 ┆ 3.0 ┆ 2.9 ┆ 2.8 ┆ 2.7 ┆ 2.6 ┆ 2.6 ┆ 2.5 ┆ 2.5 ┆ 2.4 ┆ 2.4 ┆ 2.4 ┆ 2.4 ┆ 1.7 ┆ 2.0 ┆ 2.3 ┆ 2.6 ┆ 3.0 ┆ 3.4 ┆ 3.8 ┆ 4.3 ┆ 4.7 ┆ 5.2 ┆ 5.7 ┆ 6.2 ┆ 6.6 ┆ 7.1 ┆ 7.6 ┆ 8.0 ┆ 8.4 ┆ 8.9 ┆ 9.3 ┆ 9.6 ┆ 9.9 ┆ 9.9 ┆ 9.9 ┆ 9.9 ┆ 9.9 ┆ 9.9 ┆ 9.9 ┆ 9.9 ┆ 9.9 ┆ 9.9 ┆ 9.9 ┆ 9.9 ┆ 9.9 ┆ 9.9 ┆ 9.9 ┆ 9.9 ┆ 9.9 ┆ 9.9 ┆ 9.9 ┆ 9.9 ┆ 9.9 ┆ 9.9 ┆ 9.9 ┆ 9.9 ┆ 9.9 ┆ 9.9 ┆ 9.9 ┆ 9.9 ┆ 9.9 ┆ 9.9 ┆ 9.9 ┆ 9.9 ┆ 9.9 ┆ 9.9 ┆ 9.9 ┆ 9.9 ┆ 9.9 ┆ 9.9 ┆ 9.9 ┆ 9.9 ┆ 3.0 ┆ 3.7 ┆ 4.6 ┆ 5.8 ┆ 7.1 ┆ 8.8 ┆ 1.0 ┆ 1.2 ┆ 1.5 ┆ 1.7 ┆ 2.0 ┆ 2.2 ┆ 2.5 ┆ 2.8 ┆ 3.1 ┆ 3.4 ┆ 3.7 ┆ 4.0 ┆ 4.3 ┆ 4.6 ┆ 4.9 ┆ 4.9 ┆ 4.9 ┆ 4.9 ┆ 4.9 ┆ 4.9 ┆ 4.9 ┆ 4.9 ┆ 4.9 ┆ 4.9 ┆ 4.9 ┆ 4.9 ┆ 4.9 ┆ 4.9 ┆ 4.9 ┆ 4.9 ┆ 4.9 ┆ 4.9 ┆ 4.9 ┆ 4.9 ┆ 4.9 ┆ 4.9 ┆ 4.9 ┆ 4.9 ┆ 4.9 ┆ 4.9 ┆ 4.9 ┆ 4.9 ┆ 4.9 ┆ 4.9 ┆ 4.9 ┆ 4.9 ┆ 4.9 ┆ 4.9 ┆ 4.9 ┆ 4.9 ┆ 4.9 ┆ 4.9 ┆ 4.9 ┆ 4.9 │\n",
       "│ t_4 ┆ .04 ┆ .00 ┆ .98 ┆ .05 ┆ .82 ┆ .18 ┆ .90 ┆ .18 ┆ .18 ┆ .42 ┆ .55 ┆ .87 ┆ .35 ┆ .29 ┆ .69 ┆ .11 ┆ .08 ┆ .57 ┆ .43 ┆ .61 ┆ .68 ┆ .36 ┆ .18 ┆ .80 ┆ .31 ┆ .57 ┆ .73 ┆ .62 ┆ .20 ┆ .49 ┆ .65 ┆ .51 ┆ .17 ┆ .61 ┆ .84 ┆ .71 ┆ .36 ┆ .65 ┆ .01 ┆ .07 ┆ .18 ┆ .56 ┆ .09 ┆ .39 ┆ .09 ┆ .41 ┆ .76 ┆ .86 ┆ .82 ┆ .78 ┆ .64 ┆ .33 ┆ .20 ┆ .04 ┆ .90 ┆ .53 ┆ .25 ┆ .30 ┆ .49 ┆ .72 ┆ 000 ┆ 000 ┆ 000 ┆ 000 ┆ 000 ┆ 000 ┆ 000 ┆ 000 ┆ 000 ┆ 000 ┆ 000 ┆ 000 ┆ 000 ┆ 000 ┆ 000 ┆ 000 ┆ 000 ┆ 000 ┆ 000 ┆ 000 ┆ 000 ┆ 000 ┆ 000 ┆ 000 ┆ 000 ┆ 000 ┆ 001 ┆ 001 ┆ 002 ┆ 003 ┆ 003 ┆ 004 ┆ 006 ┆ 008 ┆ 011 ┆ 015 ┆ 021 ┆ 028 ┆ 035 ┆ 041 ┆ 047 ┆ 058 ┆ 070 ┆ 081 ┆ 087 ┆ 094 ┆ 099 ┆ 103 ┆ 107 ┆ 110 ┆ 116 ┆ 125 ┆ 131 ┆ 136 ┆ 143 ┆ 152 ┆ 160 ┆ 164 ┆ 165 ┆ 166 ┆ 321 ┆ 702 ┆ 260 ┆ 773 ┆ 302 ┆ 039 ┆ 762 ┆ 470 ┆ 676 ┆ 243 ┆ 684 ┆ 836 ┆ 827 ┆ 076 ┆ 435 ┆     ┆     ┆     ┆     ┆     ┆ 641 ┆ 396 ┆ 463 ┆     ┆     ┆     ┆ 829 ┆ 168 ┆ 750 ┆ 542 ┆ 455 ┆ 923 ┆ 443 ┆ 741 ┆ 564 ┆ 671 ┆ 000 ┆ 000 ┆ 000 ┆ 192 ┆ 000 ┆ 000 ┆ 000 ┆ 000 ┆ 000 ┆ 000 ┆ 000 ┆ 000 ┆ 000 ┆ 000 ┆ 000 ┆ 000 ┆ 000 ┆ 000 ┆ 000 ┆ 000 ┆ 000 ┆ 136 ┆ 159 ┆ 606 ┆ 498 ┆ 882 ┆ 500 ┆ 076 ┆ 022 ┆ 808 ┆ 092 ┆ 047 ┆ 809 ┆ 113 ┆ 288 ┆ 157 ┆ 655 ┆ 778 ┆ 981 ┆     ┆ 637 ┆ 123 ┆ 406 ┆ 944 ┆ 734 ┆ 848 ┆ 908 ┆ 000 ┆ 000 ┆ 000 ┆ 423 ┆ 000 ┆ 000 ┆ 000 ┆ 000 ┆ 885 ┆ 565 ┆ 000 ┆ 603 ┆ 611 ┆ 521 ┆ 304 ┆ 849 ┆     ┆     ┆     ┆ 317 ┆     ┆     ┆     ┆     ┆     ┆     ┆     ┆     ┆     ┆     ┆     ┆     ┆     ┆     ┆     ┆     ┆     ┆ 895 ┆ .09 ┆ .20 ┆ .29 ┆ .09 ┆ .21 ┆ .73 ┆ .77 ┆ .37 ┆ .95 ┆ .99 ┆ .31 ┆ 717 ┆ 701 ┆ 822 ┆ 108 ┆ 787 ┆ 137 ┆ 384 ┆ 894 ┆ 373 ┆ 788 ┆ 527 ┆ 910 ┆ 796 ┆ 692 ┆ 061 ┆ 825 ┆ 776 ┆ 818 ┆ 885 ┆ 877 ┆ 191 ┆ 203 ┆ 523 ┆ 702 ┆ 656 ┆ 455 ┆ 018 ┆ 102 ┆ 532 ┆ 505 ┆ 500 ┆ 209 ┆ 618 ┆ 001 ┆ 411 ┆ 795 ┆ 144 ┆ 465 ┆ 706 ┆ 893 ┆ 064 ┆ 239 ┆ 402 ┆ 687 ┆ 894 ┆ 934 ┆ 892 ┆ 790 ┆ 161 ┆ 682 ┆ 499 ┆ 046 ┆ 137 ┆ 489 ┆ 185 ┆ 869 ┆ 368 ┆ 516 ┆ 753 ┆ 564 ┆ 841 ┆ 866 ┆ 240 ┆ 947 ┆ 137 ┆ 468 ┆ 861 ┆ 755 ┆ 855 ┆ 381 ┆ 435 ┆ 910 ┆ 570 ┆ 677 ┆ 697 ┆ 033 ┆ 537 ┆ 736 ┆ 587 ┆ 637 ┆ 482 ┆ 332 ┆ 601 ┆ 544 ┆ 082 ┆ 200 ┆ 613 ┆ 176 ┆ 252 ┆ 577 ┆ 128 ┆ 239 ┆ 408 ┆ 510 ┆ 610 ┆ 685 ┆ 777 ┆ 891 ┆ 998 ┆ 148 ┆ 303 ┆ 469 ┆ 610 ┆ 783 ┆ 781 ┆ 651 ┆ 540 ┆ 441 ┆ 096 ┆     ┆ 041 ┆ 958 ┆ 204 ┆ 067 ┆     ┆     ┆     ┆     ┆     ┆ .81 ┆     ┆     ┆     ┆     ┆ 210 ┆ 007 ┆ 841 ┆ 000 ┆ 000 ┆ 000 ┆ 000 ┆ 000 ┆ 000 ┆ 000 ┆ 000 ┆ 000 ┆ 000 ┆ 000 ┆ 000 ┆ 000 ┆ 000 ┆ 756 ┆ 455 ┆ 498 ┆ 384 ┆ 208 ┆ 328 ┆ 853 ┆ 393 ┆ 067 ┆ 594 ┆ 437 ┆ 536 ┆ 091 ┆ 728 ┆ 022 ┆ 139 ┆ 999 ┆ 021 ┆ 019 ┆ 628 ┆ 962 ┆ 306 ┆ 554 ┆ 008 ┆ 624 ┆ 410 ┆ 203 ┆ 258 ┆ 556 ┆ 094 ┆ 591 ┆ 384 ┆ 257 ┆ 202 ┆ 346 ┆ 792 ┆ 253 ┆ 721 ┆ 189 ┆ 827 ┆ 477 ┆ 131 ┆ 187 ┆ 527 ┆ 129 ┆ 092 ┆ 434 ┆ 156 ┆ 230 ┆ 598 ┆ 182 ┆ 893 ┆ 658 ┆ 424 ┆ 168 ┆ 878 ┆ 544 ┆ 140 ┆ 627 ┆ 964 ┆ 122 ┆ 089 ┆ 873 ┆ 861 ┆ 861 ┆ 861 ┆ 861 ┆ 861 ┆ 861 ┆ 861 ┆ 861 ┆ 861 ┆ 861 ┆ 861 ┆ 861 ┆ 861 ┆ 861 ┆ 861 ┆ 861 ┆ 861 ┆ 861 ┆ 861 ┆ 861 ┆ 861 ┆ 861 ┆ 861 ┆ 861 ┆ 861 ┆ 861 ┆ 861 ┆ 861 ┆ 861 ┆ 861 ┆ 861 ┆ 861 ┆ 861 ┆ 861 ┆ 861 ┆ 861 ┆ 861 ┆ 861 ┆ 861 ┆ 861 ┆ 161 ┆ 656 ┆ 929 ┆ 286 ┆ 990 ┆ 206 ┆ 694 ┆ 801 ┆ 113 ┆ 595 ┆ 217 ┆ 960 ┆ 812 ┆ 760 ┆ 778 ┆ 833 ┆ 886 ┆ 902 ┆ 860 ┆ 753 ┆ 086 ┆ 086 ┆ 086 ┆ 086 ┆ 086 ┆ 086 ┆ 086 ┆ 086 ┆ 086 ┆ 086 ┆ 086 ┆ 086 ┆ 086 ┆ 086 ┆ 086 ┆ 086 ┆ 086 ┆ 086 ┆ 086 ┆ 086 ┆ 086 ┆ 086 ┆ 086 ┆ 086 ┆ 086 ┆ 086 ┆ 086 ┆ 086 ┆ 086 ┆ 086 ┆ 086 ┆ 086 ┆ 086 ┆ 086 ┆ 086 ┆ 086 ┆ 086 ┆ 086 ┆ 086 ┆ 086 │\n",
       "│ 035 ┆ 863 ┆ 386 ┆ 060 ┆ 618 ┆ 963 ┆ 577 ┆ 074 ┆ 719 ┆ 631 ┆ 780 ┆ 160 ┆ 035 ┆ 556 ┆ 387 ┆ 633 ┆ 957 ┆ 237 ┆ 424 ┆ 963 ┆ 432 ┆ 012 ┆ 157 ┆ 116 ┆ 456 ┆ 720 ┆ 277 ┆ 690 ┆ 780 ┆ 245 ┆ 183 ┆ 132 ┆ 150 ┆ 599 ┆ 964 ┆ 016 ┆ 538 ┆ 056 ┆ 341 ┆ 747 ┆ 255 ┆ 162 ┆ 668 ┆ 230 ┆ 622 ┆ 860 ┆ 697 ┆ 609 ┆ 135 ┆ 794 ┆ 314 ┆ 174 ┆ 108 ┆ 081 ┆ 151 ┆ 280 ┆ 867 ┆ 198 ┆ 872 ┆ 353 ┆ 311 ┆ 02  ┆ 02  ┆ 02  ┆ 02  ┆ 02  ┆ 02  ┆ 02  ┆ 02  ┆ 02  ┆ 02  ┆ 02  ┆ 02  ┆ 02  ┆ 02  ┆ 02  ┆ 02  ┆ 02  ┆ 02  ┆ 02  ┆ 03  ┆ 06  ┆ 11  ┆ 22  ┆ 42  ┆ 61  ┆ 85  ┆ 1   ┆ 7   ┆ 44  ┆ 22  ┆ 95  ┆ 91  ┆ 27  ┆ 33  ┆ 11  ┆ 5   ┆ 22  ┆ 7   ┆ 17  ┆ 73  ┆ 84  ┆ 47  ┆ 88  ┆ 75  ┆ 92  ┆ 77  ┆ 74  ┆ 89  ┆ 89  ┆ 92  ┆ 04  ┆ 46  ┆ 01  ┆ 55  ┆ 22  ┆ 4   ┆ 34  ┆ 53  ┆ 92  ┆ 83  ┆ e-3 ┆ e-3 ┆ e-3 ┆ e-3 ┆ e-3 ┆ e-3 ┆ e-3 ┆ e-3 ┆ e-3 ┆ e-3 ┆ e-3 ┆ e-3 ┆ e-4 ┆ e-4 ┆ e-5 ┆     ┆     ┆     ┆     ┆     ┆ e-5 ┆ e-4 ┆ e-4 ┆     ┆     ┆     ┆ e-2 ┆ e-2 ┆ e-1 ┆ e-1 ┆ e-9 ┆ e-8 ┆ e-8 ┆ e-7 ┆ e-7 ┆ e-7 ┆ 05  ┆ 03  ┆ 07  ┆ e-7 ┆ 08  ┆ 07  ┆ 73  ┆ 54  ┆ 11  ┆ 16  ┆ 2   ┆ 12  ┆ 05  ┆ 04  ┆ 01  ┆ 21  ┆ 26  ┆ 23  ┆ 17  ┆ 11  ┆ 03  ┆ e-7 ┆ e-7 ┆ e-8 ┆ e-1 ┆ e-1 ┆ e-1 ┆ e-1 ┆ e-1 ┆ e-1 ┆ e-1 ┆ e-1 ┆ e-1 ┆ e-1 ┆ e-1 ┆ e-1 ┆ e-1 ┆ e-2 ┆ e-2 ┆     ┆ e-1 ┆ e-1 ┆ e-1 ┆ e-9 ┆ e-8 ┆ e-7 ┆ e-7 ┆ 03  ┆ 05  ┆ 03  ┆ e-7 ┆ 02  ┆ 05  ┆ 03  ┆ 02  ┆ e-7 ┆ e-8 ┆ 01  ┆ e-7 ┆ e-7 ┆ e-7 ┆ e-7 ┆ e-8 ┆     ┆     ┆     ┆ e-9 ┆     ┆     ┆     ┆     ┆     ┆     ┆     ┆     ┆     ┆     ┆     ┆     ┆     ┆     ┆     ┆     ┆     ┆ 688 ┆ 759 ┆ 382 ┆ 252 ┆ 222 ┆ 264 ┆ 699 ┆ 608 ┆ 860 ┆ 886 ┆ 579 ┆ 366 ┆ 851 ┆ 623 ┆ 12  ┆ 35  ┆ 517 ┆ 322 ┆ 466 ┆ 039 ┆ 947 ┆ 974 ┆ 44  ┆ 859 ┆ 946 ┆ 624 ┆ 817 ┆ 191 ┆ 414 ┆ 793 ┆ 651 ┆ 284 ┆ 14  ┆ 61  ┆ 6   ┆ 32  ┆ 99  ┆ 89  ┆ 8   ┆ 72  ┆ 32  ┆ 37  ┆ 07  ┆ 561 ┆ 921 ┆ 443 ┆ 117 ┆ 138 ┆ 735 ┆ 519 ┆ 805 ┆ 646 ┆ 147 ┆ 915 ┆ 748 ┆ 885 ┆ 445 ┆ 927 ┆ 879 ┆ 526 ┆ 184 ┆ 9   ┆ 55  ┆ 59  ┆ 783 ┆ 619 ┆ 81  ┆ 5   ┆ 53  ┆ 866 ┆ 16  ┆ 8   ┆ 75  ┆ 61  ┆ 75  ┆ 14  ┆ 56  ┆ 25  ┆ 54  ┆ 49  ┆ 94  ┆ 7   ┆ 13  ┆ 64  ┆ 19  ┆ 96  ┆ 45  ┆ 13  ┆ 14  ┆ 47  ┆ 52  ┆ 81  ┆ 21  ┆ 87  ┆ 12  ┆ 26  ┆ 14  ┆ 16  ┆ 83  ┆ 67  ┆ 16  ┆ 51  ┆ 08  ┆ 181 ┆ 705 ┆ 568 ┆ 817 ┆ 114 ┆ 895 ┆ 026 ┆ 847 ┆ 757 ┆ 713 ┆ 805 ┆ 964 ┆ 924 ┆ 503 ┆ 063 ┆ 45  ┆ 145 ┆ .42 ┆     ┆ 768 ┆ 57  ┆ 11  ┆ 81  ┆     ┆     ┆     ┆     ┆     ┆ 059 ┆     ┆     ┆     ┆     ┆ e-7 ┆ e-7 ┆ e-7 ┆ 02  ┆ 03  ┆ 05  ┆ 08  ┆ 12  ┆ 14  ┆ 15  ┆ 14  ┆ 13  ┆ 1   ┆ 07  ┆ 04  ┆ 02  ┆ 01  ┆ e-7 ┆ e-7 ┆ e-7 ┆ e-7 ┆ e-7 ┆ e-8 ┆ e-8 ┆ e-8 ┆ e-8 ┆ e-8 ┆ e-8 ┆ e-8 ┆ e-8 ┆ e-8 ┆ e-8 ┆ e-8 ┆ e-8 ┆ e-8 ┆ e-8 ┆ e-8 ┆ e-8 ┆ e-8 ┆ e-8 ┆ e-8 ┆ e-8 ┆ e-8 ┆ e-8 ┆ e-8 ┆ e-8 ┆ e-8 ┆ e-8 ┆ e-8 ┆ e-8 ┆ e-8 ┆ e-8 ┆ e-8 ┆ e-8 ┆ e-8 ┆ e-8 ┆ e-8 ┆ e-8 ┆ e-8 ┆ e-8 ┆ e-7 ┆ e-7 ┆ e-7 ┆ e-7 ┆ e-7 ┆ e-7 ┆ e-7 ┆ e-7 ┆ e-7 ┆ e-7 ┆ e-7 ┆ e-7 ┆ e-7 ┆ e-7 ┆ e-7 ┆ e-7 ┆ e-7 ┆ e-7 ┆ e-7 ┆ e-7 ┆ e-7 ┆ e-7 ┆ e-7 ┆ e-7 ┆ e-7 ┆ e-7 ┆ e-7 ┆ e-7 ┆ e-7 ┆ e-7 ┆ e-7 ┆ e-7 ┆ e-7 ┆ e-7 ┆ e-7 ┆ e-7 ┆ e-7 ┆ e-7 ┆ e-7 ┆ e-7 ┆ e-7 ┆ e-7 ┆ e-7 ┆ e-7 ┆ e-7 ┆ e-7 ┆ e-7 ┆ e-7 ┆ e-7 ┆ e-7 ┆ e-7 ┆ e-7 ┆ e-7 ┆ e-7 ┆ e-7 ┆ e-7 ┆ e-7 ┆ e-7 ┆ e-7 ┆ e-7 ┆ e-8 ┆ e-8 ┆ e-8 ┆ e-8 ┆ e-8 ┆ e-8 ┆ e-7 ┆ e-7 ┆ e-7 ┆ e-7 ┆ e-7 ┆ e-7 ┆ e-7 ┆ e-7 ┆ e-7 ┆ e-7 ┆ e-7 ┆ e-7 ┆ e-7 ┆ e-7 ┆ e-7 ┆ e-7 ┆ e-7 ┆ e-7 ┆ e-7 ┆ e-7 ┆ e-7 ┆ e-7 ┆ e-7 ┆ e-7 ┆ e-7 ┆ e-7 ┆ e-7 ┆ e-7 ┆ e-7 ┆ e-7 ┆ e-7 ┆ e-7 ┆ e-7 ┆ e-7 ┆ e-7 ┆ e-7 ┆ e-7 ┆ e-7 ┆ e-7 ┆ e-7 ┆ e-7 ┆ e-7 ┆ e-7 ┆ e-7 ┆ e-7 ┆ e-7 ┆ e-7 ┆ e-7 ┆ e-7 ┆ e-7 ┆ e-7 ┆ e-7 ┆ e-7 ┆ e-7 │\n",
       "│ 72  ┆ 6   ┆ 4   ┆ 9   ┆ 7   ┆ 4   ┆     ┆ 5   ┆ 6   ┆ 1   ┆ 1   ┆ 2   ┆ 7   ┆ 4   ┆ 8   ┆ 2   ┆ 9   ┆ 3   ┆ 4   ┆ 4   ┆ 5   ┆ 6   ┆ 6   ┆ 2   ┆ 1   ┆ 5   ┆ 3   ┆ 7   ┆ 9   ┆ 8   ┆ 8   ┆ 9   ┆ 2   ┆ 8   ┆     ┆     ┆ 6   ┆ 2   ┆ 3   ┆ 5   ┆ 7   ┆ 9   ┆ 4   ┆ 2   ┆ 8   ┆ 6   ┆ 7   ┆     ┆ 9   ┆ 2   ┆ 5   ┆     ┆ 5   ┆ 9   ┆ 2   ┆ 7   ┆ 5   ┆ 6   ┆ 2   ┆ 8   ┆ 5   ┆     ┆     ┆     ┆     ┆     ┆     ┆     ┆     ┆     ┆     ┆     ┆     ┆     ┆     ┆     ┆     ┆     ┆     ┆     ┆     ┆     ┆     ┆     ┆     ┆     ┆     ┆     ┆     ┆     ┆     ┆     ┆     ┆     ┆     ┆     ┆     ┆     ┆     ┆     ┆     ┆     ┆     ┆     ┆     ┆     ┆     ┆     ┆     ┆     ┆     ┆     ┆     ┆     ┆     ┆     ┆     ┆     ┆     ┆     ┆     ┆ 7   ┆ 7   ┆ 7   ┆ 7   ┆ 7   ┆ 7   ┆ 7   ┆ 7   ┆ 7   ┆ 8   ┆ 8   ┆ 9   ┆ 3   ┆ 7   ┆ 4   ┆     ┆     ┆     ┆     ┆     ┆ 3   ┆ 8   ┆ 4   ┆     ┆     ┆     ┆ 6   ┆ 1   ┆ 6   ┆ 2   ┆     ┆     ┆     ┆     ┆     ┆     ┆     ┆     ┆     ┆     ┆     ┆     ┆     ┆     ┆     ┆     ┆     ┆     ┆     ┆     ┆     ┆     ┆     ┆     ┆     ┆     ┆     ┆     ┆     ┆     ┆ 1   ┆ 1   ┆ 1   ┆ 1   ┆ 1   ┆ 1   ┆ 1   ┆ 1   ┆ 1   ┆ 1   ┆ 2   ┆ 2   ┆ 7   ┆ 1   ┆ 4   ┆     ┆ 4   ┆ 2   ┆ 1   ┆     ┆     ┆     ┆     ┆     ┆     ┆     ┆     ┆     ┆     ┆     ┆     ┆     ┆     ┆     ┆     ┆     ┆     ┆     ┆     ┆     ┆     ┆     ┆     ┆     ┆     ┆     ┆     ┆     ┆     ┆     ┆     ┆     ┆     ┆     ┆     ┆     ┆     ┆     ┆     ┆     ┆     ┆ 2   ┆ 2   ┆ 9   ┆ 9   ┆ 9   ┆ 5   ┆ 4   ┆ 8   ┆ 7   ┆ 7   ┆ 7   ┆     ┆     ┆     ┆     ┆     ┆     ┆     ┆     ┆     ┆     ┆     ┆     ┆     ┆     ┆     ┆     ┆     ┆     ┆     ┆     ┆     ┆     ┆     ┆     ┆     ┆     ┆     ┆     ┆     ┆     ┆     ┆     ┆     ┆     ┆     ┆     ┆     ┆     ┆     ┆     ┆     ┆     ┆     ┆     ┆     ┆     ┆     ┆     ┆     ┆     ┆     ┆     ┆     ┆     ┆     ┆     ┆     ┆     ┆     ┆     ┆     ┆     ┆     ┆     ┆     ┆     ┆     ┆     ┆     ┆     ┆     ┆     ┆     ┆     ┆     ┆     ┆     ┆     ┆     ┆     ┆     ┆     ┆     ┆     ┆     ┆     ┆     ┆     ┆     ┆     ┆     ┆     ┆     ┆     ┆     ┆     ┆     ┆     ┆     ┆     ┆     ┆     ┆     ┆     ┆     ┆     ┆     ┆     ┆ 541 ┆     ┆     ┆     ┆     ┆     ┆     ┆     ┆     ┆     ┆     ┆ 4   ┆     ┆     ┆     ┆     ┆     ┆     ┆     ┆     ┆     ┆     ┆     ┆     ┆     ┆     ┆     ┆     ┆     ┆     ┆     ┆     ┆     ┆     ┆     ┆     ┆     ┆     ┆     ┆     ┆     ┆     ┆     ┆     ┆     ┆     ┆     ┆     ┆     ┆     ┆     ┆     ┆     ┆     ┆     ┆     ┆     ┆     ┆     ┆     ┆     ┆     ┆     ┆     ┆     ┆     ┆     ┆     ┆     ┆     ┆     ┆     ┆     ┆     ┆     ┆     ┆     ┆     ┆     ┆     ┆     ┆     ┆     ┆     ┆     ┆     ┆     ┆     ┆     ┆     ┆     ┆     ┆     ┆     ┆     ┆     ┆     ┆     ┆     ┆     ┆     ┆     ┆     ┆     ┆     ┆     ┆     ┆     ┆     ┆     ┆     ┆     ┆     ┆     ┆     ┆     ┆     ┆     ┆     ┆     ┆     ┆     ┆     ┆     ┆     ┆     ┆     ┆     ┆     ┆     ┆     ┆     ┆     ┆     ┆     ┆     ┆     ┆     ┆     ┆     ┆     ┆     ┆     ┆     ┆     ┆     ┆     ┆     ┆     ┆     ┆     ┆     ┆     ┆     ┆     ┆     ┆     ┆     ┆     ┆     ┆     ┆     ┆     ┆     ┆     ┆     ┆     ┆     ┆     ┆     ┆     ┆     ┆     ┆     ┆     ┆     ┆     ┆     ┆     ┆     ┆     ┆     ┆     ┆     ┆     ┆     ┆     ┆     ┆     ┆     ┆     ┆     ┆     ┆     ┆     ┆     │\n",
       "│     ┆     ┆     ┆     ┆     ┆     ┆     ┆     ┆     ┆     ┆     ┆     ┆     ┆     ┆     ┆     ┆     ┆     ┆     ┆     ┆     ┆     ┆     ┆     ┆     ┆     ┆     ┆     ┆     ┆     ┆     ┆     ┆     ┆     ┆     ┆     ┆     ┆     ┆     ┆     ┆     ┆     ┆     ┆     ┆     ┆     ┆     ┆     ┆     ┆     ┆     ┆     ┆     ┆     ┆     ┆     ┆     ┆     ┆     ┆     ┆     ┆     ┆     ┆     ┆     ┆     ┆     ┆     ┆     ┆     ┆     ┆     ┆     ┆     ┆     ┆     ┆     ┆     ┆     ┆     ┆     ┆     ┆     ┆     ┆     ┆     ┆     ┆     ┆     ┆     ┆     ┆     ┆     ┆     ┆     ┆     ┆     ┆     ┆     ┆     ┆     ┆     ┆     ┆     ┆     ┆     ┆     ┆     ┆     ┆     ┆     ┆     ┆     ┆     ┆     ┆     ┆     ┆     ┆     ┆     ┆     ┆     ┆     ┆     ┆     ┆     ┆     ┆     ┆     ┆     ┆     ┆     ┆     ┆     ┆     ┆     ┆     ┆     ┆     ┆     ┆     ┆     ┆     ┆     ┆     ┆     ┆     ┆     ┆     ┆     ┆     ┆     ┆     ┆     ┆     ┆     ┆     ┆     ┆     ┆     ┆     ┆     ┆     ┆     ┆     ┆     ┆     ┆     ┆     ┆     ┆     ┆     ┆     ┆     ┆     ┆     ┆     ┆     ┆     ┆     ┆     ┆     ┆     ┆     ┆     ┆     ┆     ┆     ┆     ┆     ┆     ┆     ┆     ┆     ┆     ┆     ┆     ┆     ┆     ┆     ┆     ┆     ┆     ┆     ┆     ┆     ┆     ┆     ┆     ┆     ┆     ┆     ┆     ┆     ┆     ┆     ┆     ┆     ┆     ┆     ┆     ┆     ┆     ┆     ┆     ┆     ┆     ┆     ┆     ┆     ┆     ┆     ┆     ┆     ┆     ┆     ┆     ┆     ┆     ┆     ┆     ┆     ┆     ┆     ┆     ┆     ┆     ┆     ┆     ┆     ┆     ┆     ┆     ┆     ┆     ┆     ┆     ┆     ┆     ┆     ┆     ┆     ┆     ┆     ┆     ┆     ┆     ┆     ┆     ┆     ┆     ┆     ┆     ┆     ┆     ┆     ┆     ┆     ┆     ┆     ┆     ┆     ┆     ┆     ┆     ┆     ┆     ┆     ┆     ┆     ┆     ┆     ┆     ┆     ┆     ┆     ┆     ┆     ┆     ┆     ┆     ┆     ┆     ┆     ┆     ┆     ┆     ┆     ┆     ┆     ┆     ┆     ┆     ┆     ┆     ┆     ┆     ┆     ┆     ┆     ┆     ┆     ┆     ┆     ┆     ┆     ┆     ┆     ┆     ┆     ┆     ┆     ┆     ┆     ┆     ┆     ┆     ┆     ┆     ┆     ┆     ┆     ┆     ┆     ┆     ┆     ┆     ┆     ┆     ┆     ┆     ┆     ┆     ┆     ┆     ┆     ┆     ┆     ┆     ┆     ┆     ┆ 3   ┆     ┆     ┆     ┆     ┆     ┆     ┆     ┆     ┆     ┆     ┆     ┆     ┆     ┆     ┆     ┆     ┆     ┆     ┆     ┆     ┆     ┆     ┆     ┆     ┆     ┆     ┆     ┆     ┆     ┆     ┆     ┆     ┆     ┆     ┆     ┆     ┆     ┆     ┆     ┆     ┆     ┆     ┆     ┆     ┆     ┆     ┆     ┆     ┆     ┆     ┆     ┆     ┆     ┆     ┆     ┆     ┆     ┆     ┆     ┆     ┆     ┆     ┆     ┆     ┆     ┆     ┆     ┆     ┆     ┆     ┆     ┆     ┆     ┆     ┆     ┆     ┆     ┆     ┆     ┆     ┆     ┆     ┆     ┆     ┆     ┆     ┆     ┆     ┆     ┆     ┆     ┆     ┆     ┆     ┆     ┆     ┆     ┆     ┆     ┆     ┆     ┆     ┆     ┆     ┆     ┆     ┆     ┆     ┆     ┆     ┆     ┆     ┆     ┆     ┆     ┆     ┆     ┆     ┆     ┆     ┆     ┆     ┆     ┆     ┆     ┆     ┆     ┆     ┆     ┆     ┆     ┆     ┆     ┆     ┆     ┆     ┆     ┆     ┆     ┆     ┆     ┆     ┆     ┆     ┆     ┆     ┆     ┆     ┆     ┆     ┆     ┆     ┆     ┆     ┆     ┆     ┆     ┆     ┆     ┆     ┆     ┆     ┆     ┆     ┆     ┆     ┆     ┆     ┆     ┆     ┆     ┆     ┆     ┆     ┆     ┆     ┆     ┆     ┆     ┆     ┆     ┆     ┆     ┆     ┆     ┆     ┆     ┆     ┆     ┆     ┆     ┆     ┆     ┆     ┆     │\n",
       "│ tes ┆ 207 ┆ 216 ┆ 227 ┆ 243 ┆ 257 ┆ 265 ┆ 262 ┆ 253 ┆ 243 ┆ 236 ┆ 231 ┆ 227 ┆ 224 ┆ 221 ┆ 216 ┆ 211 ┆ 207 ┆ 204 ┆ 200 ┆ 202 ┆ 202 ┆ 205 ┆ 208 ┆ 211 ┆ 214 ┆ 218 ┆ 222 ┆ 226 ┆ 230 ┆ 235 ┆ 238 ┆ 242 ┆ 246 ┆ 250 ┆ 253 ┆ 256 ┆ 259 ┆ 262 ┆ 265 ┆ 267 ┆ 269 ┆ 271 ┆ 273 ┆ 275 ┆ 276 ┆ 277 ┆ 278 ┆ 280 ┆ 281 ┆ 282 ┆ 283 ┆ 284 ┆ 285 ┆ 286 ┆ 287 ┆ 287 ┆ 288 ┆ 289 ┆ 290 ┆ 291 ┆ 0.0 ┆ 0.0 ┆ 0.0 ┆ 0.0 ┆ 0.0 ┆ 0.0 ┆ 0.0 ┆ 0.0 ┆ 0.0 ┆ 0.0 ┆ 0.0 ┆ 0.0 ┆ 0.0 ┆ 0.0 ┆ 0.0 ┆ 0.0 ┆ 0.0 ┆ 0.0 ┆ 0.0 ┆ 0.0 ┆ 0.0 ┆ 0.0 ┆ 0.0 ┆ 0.0 ┆ 0.0 ┆ 0.0 ┆ 0.0 ┆ 0.0 ┆ 0.0 ┆ 0.0 ┆ 0.0 ┆ 0.0 ┆ 0.0 ┆ 0.0 ┆ 0.0 ┆ 0.0 ┆ 0.0 ┆ 0.0 ┆ 0.0 ┆ 0.0 ┆ 0.0 ┆ 0.0 ┆ 0.0 ┆ 0.0 ┆ 0.0 ┆ 0.0 ┆ 0.0 ┆ 0.0 ┆ 0.0 ┆ 0.0 ┆ 0.0 ┆ 0.0 ┆ 0.0 ┆ 0.0 ┆ 0.0 ┆ 0.0 ┆ 0.0 ┆ 0.0 ┆ 0.0 ┆ 0.0 ┆ 9.7 ┆ 9.6 ┆ 9.5 ┆ 9.5 ┆ 9.6 ┆ 9.5 ┆ 8.6 ┆ 7.1 ┆ 6.0 ┆ 4.8 ┆ 1.8 ┆ 2.0 ┆ 1.0 ┆ 1.2 ┆ 0.0 ┆ 0.0 ┆ 0.0 ┆ 0.0 ┆ 0.0 ┆ 0.0 ┆ 0.0 ┆ 0.0 ┆ 0.0 ┆ 0.0 ┆ 0.0 ┆ 7.7 ┆ 3.3 ┆ 3.3 ┆ 1.5 ┆ 5.2 ┆ 0.0 ┆ 0.0 ┆ 0.0 ┆ 0.0 ┆ 2.4 ┆ 3.7 ┆ 0.0 ┆ 4.2 ┆ 0.0 ┆ 0.0 ┆ 0.0 ┆ 0.0 ┆ 0.0 ┆ 0.0 ┆ 0.0 ┆ 0.0 ┆ 0.0 ┆ 0.0 ┆ 0.0 ┆ 0.0 ┆ 0.0 ┆ 0.0 ┆ 0.0 ┆ 0.0 ┆ 0.0 ┆ 0.0 ┆ 0.0 ┆ 0.0 ┆ 7.8 ┆ 2.7 ┆ 3.2 ┆ 3.4 ┆ 4.0 ┆ 4.4 ┆ 4.8 ┆ 5.4 ┆ 5.7 ┆ 5.6 ┆ 5.2 ┆ 4.8 ┆ 2.4 ┆ 3.2 ┆ 1.6 ┆ 1.1 ┆ 0.0 ┆ 0.0 ┆ 0.0 ┆ 0.0 ┆ 4.9 ┆ 1.2 ┆ 4.1 ┆ 5.1 ┆ 6.2 ┆ 4.8 ┆ 8.5 ┆ 1.5 ┆ 2.0 ┆ 3.8 ┆ 8.5 ┆ 0.0 ┆ 0.0 ┆ 0.0 ┆ 0.0 ┆ 0.0 ┆ 0.0 ┆ 0.0 ┆ 0.0 ┆ 0.0 ┆ 0.0 ┆ 0.0 ┆ 0.0 ┆ 0.0 ┆ 0.0 ┆ 0.0 ┆ 0.0 ┆ 0.0 ┆ 7.1 ┆ 6.5 ┆ 5.6 ┆ 1.6 ┆ 1.6 ┆ 1.3 ┆ 0.0 ┆ 0.0 ┆ 1.6 ┆ 1.4 ┆ 6.6 ┆ 3.7 ┆ 5.3 ┆ 1.6 ┆ -40 ┆ -40 ┆ -31 ┆ -18 ┆ -12 ┆ -14 ┆ -15 ┆ -13 ┆ -10 ┆ -7. ┆ -5. ┆ -1. ┆ 3.7 ┆ 8.5 ┆ 11. ┆ 15. ┆ 20. ┆ 23. ┆ 26. ┆ 29. ┆ 31. ┆ 31. ┆ 32. ┆ 32. ┆ 31. ┆ 30. ┆ 29. ┆ 28. ┆ 27. ┆ 25. ┆ 24. ┆ 23. ┆ 22. ┆ 21. ┆ 21. ┆ 20. ┆ 18. ┆ 17. ┆ 16. ┆ 15. ┆ 14. ┆ 13. ┆ 12. ┆ 11. ┆ 11. ┆ 10. ┆ 9.8 ┆ 9.3 ┆ 8.8 ┆ 8.4 ┆ 8.1 ┆ 7.7 ┆ 7.4 ┆ 7.1 ┆ 6.8 ┆ 6.5 ┆ 6.3 ┆ 6.2 ┆ 5.8 ┆ 3.8 ┆ -0. ┆ 5.8 ┆ 13. ┆ 11. ┆ 5.1 ┆ 3.8 ┆ 4.5 ┆ 3.1 ┆ 0.3 ┆ -1. ┆ -1. ┆ -0. ┆ 0.6 ┆ 0.2 ┆ 1.1 ┆ 4.2 ┆ 5.2 ┆ 5.7 ┆ 6.6 ┆ 7.8 ┆ 8.3 ┆ 8.4 ┆ 8.2 ┆ 7.8 ┆ 7.4 ┆ 7.1 ┆ 6.8 ┆ 6.4 ┆ 5.8 ┆ 5.1 ┆ 4.3 ┆ 3.4 ┆ 2.7 ┆ 2.2 ┆ 1.8 ┆ 1.6 ┆ 1.4 ┆ 1.2 ┆ 0.9 ┆ 0.5 ┆ 0.0 ┆ -0. ┆ -1. ┆ -1. ┆ -1. ┆ -2. ┆ -2. ┆ -3. ┆ -3. ┆ -3. ┆ -3. ┆ -4. ┆ -4. ┆ -4. ┆ -4. ┆ -4. ┆ -4. ┆ -4. ┆ -5. ┆ -5. ┆ 101 ┆ 0.0 ┆ 11. ┆ -2. ┆ -0. ┆ 0.0 ┆ 0.0 ┆ 1.0 ┆ 1.0 ┆ 1.0 ┆ 1.0 ┆ 407 ┆ 0.0 ┆ 0.0 ┆ 1.0 ┆ 0.0 ┆ 2.6 ┆ 4.6 ┆ 8.4 ┆ 0.0 ┆ 0.0 ┆ 0.0 ┆ 0.0 ┆ 0.0 ┆ 0.0 ┆ 0.0 ┆ 0.0 ┆ 0.0 ┆ 0.0 ┆ 0.0 ┆ 0.0 ┆ 0.0 ┆ 0.0 ┆ 0.0 ┆ 6.6 ┆ 4.6 ┆ 3.5 ┆ 2.7 ┆ 2.0 ┆ 1.4 ┆ 1.1 ┆ 9.5 ┆ 8.4 ┆ 7.9 ┆ 7.4 ┆ 7.2 ┆ 7.0 ┆ 6.8 ┆ 6.6 ┆ 6.5 ┆ 6.3 ┆ 6.2 ┆ 6.0 ┆ 5.8 ┆ 5.7 ┆ 5.5 ┆ 5.3 ┆ 5.1 ┆ 4.9 ┆ 4.7 ┆ 4.4 ┆ 4.2 ┆ 4.0 ┆ 3.8 ┆ 3.6 ┆ 3.4 ┆ 3.3 ┆ 3.1 ┆ 3.1 ┆ 3.0 ┆ 3.0 ┆ 2.9 ┆ 2.9 ┆ 2.9 ┆ 2.8 ┆ 2.8 ┆ 1.6 ┆ 1.9 ┆ 2.1 ┆ 2.5 ┆ 2.8 ┆ 3.2 ┆ 3.6 ┆ 4.1 ┆ 4.5 ┆ 5.0 ┆ 5.4 ┆ 5.9 ┆ 6.3 ┆ 6.8 ┆ 7.2 ┆ 7.6 ┆ 8.0 ┆ 8.4 ┆ 8.8 ┆ 9.2 ┆ 9.5 ┆ 9.8 ┆ 9.9 ┆ 9.9 ┆ 9.9 ┆ 9.9 ┆ 9.9 ┆ 9.9 ┆ 9.9 ┆ 9.9 ┆ 9.9 ┆ 9.9 ┆ 9.9 ┆ 9.9 ┆ 9.9 ┆ 9.9 ┆ 9.9 ┆ 9.9 ┆ 9.9 ┆ 9.9 ┆ 9.9 ┆ 9.9 ┆ 9.9 ┆ 9.9 ┆ 9.9 ┆ 9.9 ┆ 9.9 ┆ 9.9 ┆ 9.9 ┆ 9.9 ┆ 9.9 ┆ 9.9 ┆ 9.9 ┆ 9.9 ┆ 9.9 ┆ 9.9 ┆ 9.9 ┆ 9.9 ┆ 9.9 ┆ 9.9 ┆ 2.4 ┆ 3.1 ┆ 3.9 ┆ 4.9 ┆ 6.1 ┆ 7.5 ┆ 9.2 ┆ 1.1 ┆ 1.3 ┆ 1.5 ┆ 1.7 ┆ 2.0 ┆ 2.3 ┆ 2.5 ┆ 2.8 ┆ 3.1 ┆ 3.4 ┆ 3.7 ┆ 4.0 ┆ 4.2 ┆ 4.5 ┆ 4.8 ┆ 4.9 ┆ 4.9 ┆ 4.9 ┆ 4.9 ┆ 4.9 ┆ 4.9 ┆ 4.9 ┆ 4.9 ┆ 4.9 ┆ 4.9 ┆ 4.9 ┆ 4.9 ┆ 4.9 ┆ 4.9 ┆ 4.9 ┆ 4.9 ┆ 4.9 ┆ 4.9 ┆ 4.9 ┆ 4.9 ┆ 4.9 ┆ 4.9 ┆ 4.9 ┆ 4.9 ┆ 4.9 ┆ 4.9 ┆ 4.9 ┆ 4.9 ┆ 4.9 ┆ 4.9 ┆ 4.9 ┆ 4.9 ┆ 4.9 ┆ 4.9 ┆ 4.9 ┆ 4.9 ┆ 4.9 ┆ 4.9 │\n",
       "│ t_4 ┆ .92 ┆ .69 ┆ .82 ┆ .55 ┆ .49 ┆ .29 ┆ .88 ┆ .70 ┆ .45 ┆ .89 ┆ .65 ┆ .56 ┆ .41 ┆ .18 ┆ .80 ┆ .96 ┆ .47 ┆ .36 ┆ .80 ┆ .55 ┆ .75 ┆ .46 ┆ .13 ┆ .35 ┆ .99 ┆ .81 ┆ .90 ┆ .87 ┆ .92 ┆ .01 ┆ .95 ┆ .83 ┆ .55 ┆ .10 ┆ .43 ┆ .55 ┆ .53 ┆ .38 ┆ .07 ┆ .55 ┆ .74 ┆ .38 ┆ .09 ┆ .01 ┆ .45 ┆ .96 ┆ .97 ┆ .09 ┆ .15 ┆ .39 ┆ .62 ┆ .62 ┆ .48 ┆ .26 ┆ .13 ┆ .89 ┆ .75 ┆ .68 ┆ .58 ┆ .27 ┆ 000 ┆ 000 ┆ 000 ┆ 000 ┆ 000 ┆ 000 ┆ 000 ┆ 000 ┆ 000 ┆ 000 ┆ 000 ┆ 000 ┆ 000 ┆ 000 ┆ 000 ┆ 000 ┆ 000 ┆ 000 ┆ 000 ┆ 000 ┆ 000 ┆ 000 ┆ 000 ┆ 000 ┆ 000 ┆ 000 ┆ 000 ┆ 001 ┆ 001 ┆ 002 ┆ 003 ┆ 005 ┆ 007 ┆ 009 ┆ 012 ┆ 015 ┆ 019 ┆ 023 ┆ 027 ┆ 032 ┆ 037 ┆ 045 ┆ 050 ┆ 054 ┆ 059 ┆ 062 ┆ 065 ┆ 070 ┆ 074 ┆ 076 ┆ 080 ┆ 083 ┆ 087 ┆ 092 ┆ 095 ┆ 100 ┆ 105 ┆ 110 ┆ 113 ┆ 118 ┆ 128 ┆ 051 ┆ 452 ┆ 362 ┆ 512 ┆ 605 ┆ 557 ┆ 741 ┆ 128 ┆ 712 ┆ 578 ┆ 251 ┆ 646 ┆ 382 ┆     ┆     ┆     ┆     ┆     ┆     ┆     ┆     ┆     ┆     ┆     ┆ 811 ┆ 669 ┆ 602 ┆ 452 ┆ 629 ┆     ┆     ┆     ┆     ┆ 444 ┆ 406 ┆     ┆ 136 ┆ 000 ┆ 000 ┆ 000 ┆ 000 ┆ 000 ┆ 000 ┆ 000 ┆ 000 ┆ 000 ┆ 000 ┆ 000 ┆ 000 ┆ 000 ┆ 000 ┆ 000 ┆ 000 ┆ 000 ┆ 000 ┆ 000 ┆ 000 ┆ 231 ┆ 059 ┆ 707 ┆ 833 ┆ 651 ┆ 067 ┆ 119 ┆ 224 ┆ 644 ┆ 434 ┆ 800 ┆ 358 ┆ 067 ┆ 542 ┆ 799 ┆ 093 ┆     ┆     ┆     ┆     ┆ 935 ┆ 625 ┆ 767 ┆ 563 ┆ 808 ┆ 014 ┆ 056 ┆ 604 ┆ 746 ┆ 882 ┆ 910 ┆ 000 ┆ 000 ┆ 000 ┆ 000 ┆ 000 ┆ 000 ┆ 000 ┆ 000 ┆ 000 ┆ 000 ┆ 000 ┆ 000 ┆ 000 ┆ 000 ┆ 000 ┆ 000 ┆ 000 ┆ 042 ┆ 356 ┆ 581 ┆ 544 ┆ 084 ┆ 615 ┆     ┆     ┆ 286 ┆ 384 ┆ 560 ┆ 114 ┆ 211 ┆ 815 ┆ .51 ┆ .03 ┆ .82 ┆ .52 ┆ .83 ┆ .17 ┆ .04 ┆ .74 ┆ .58 ┆ 645 ┆ 238 ┆ 475 ┆ 027 ┆ 420 ┆ 115 ┆ 118 ┆ 132 ┆ 884 ┆ 822 ┆ 354 ┆ 015 ┆ 800 ┆ 027 ┆ 053 ┆ 697 ┆ 933 ┆ 808 ┆ 541 ┆ 194 ┆ 891 ┆ 681 ┆ 639 ┆ 746 ┆ 928 ┆ 076 ┆ 061 ┆ 849 ┆ 503 ┆ 179 ┆ 007 ┆ 075 ┆ 291 ┆ 557 ┆ 871 ┆ 154 ┆ 471 ┆ 891 ┆ 470 ┆ 792 ┆ 805 ┆ 099 ┆ 694 ┆ 509 ┆ 456 ┆ 510 ┆ 795 ┆ 718 ┆ 621 ┆ 186 ┆ 053 ┆ 848 ┆ 097 ┆ 565 ┆ 622 ┆ 921 ┆ 320 ┆ 215 ┆ 576 ┆ 644 ┆ 681 ┆ 608 ┆ 285 ┆ 598 ┆ 528 ┆ 247 ┆ 570 ┆ 244 ┆ 101 ┆ 796 ┆ 533 ┆ 949 ┆ 250 ┆ 186 ┆ 648 ┆ 525 ┆ 431 ┆ 866 ┆ 793 ┆ 976 ┆ 571 ┆ 282 ┆ 962 ┆ 861 ┆ 407 ┆ 787 ┆ 557 ┆ 962 ┆ 962 ┆ 782 ┆ 253 ┆ 134 ┆ 525 ┆ 048 ┆ 479 ┆ 861 ┆ 312 ┆ 749 ┆ 113 ┆ 449 ┆ 714 ┆ 954 ┆ 173 ┆ 351 ┆ 488 ┆ 584 ┆ 650 ┆ 742 ┆ 905 ┆ 619 ┆ 524 ┆ 283 ┆     ┆ 273 ┆ 447 ┆ 020 ┆ 308 ┆     ┆     ┆     ┆     ┆     ┆ .40 ┆     ┆     ┆     ┆     ┆ 040 ┆ 899 ┆ 061 ┆ 000 ┆ 000 ┆ 000 ┆ 000 ┆ 000 ┆ 000 ┆ 000 ┆ 000 ┆ 000 ┆ 000 ┆ 000 ┆ 000 ┆ 000 ┆ 000 ┆ 000 ┆ 758 ┆ 964 ┆ 960 ┆ 383 ┆ 008 ┆ 038 ┆ 380 ┆ 438 ┆ 788 ┆ 227 ┆ 739 ┆ 256 ┆ 076 ┆ 281 ┆ 685 ┆ 100 ┆ 685 ┆ 235 ┆ 612 ┆ 859 ┆ 117 ┆ 244 ┆ 288 ┆ 422 ┆ 651 ┆ 129 ┆ 702 ┆ 394 ┆ 204 ┆ 262 ┆ 457 ┆ 770 ┆ 193 ┆ 927 ┆ 338 ┆ 764 ┆ 197 ┆ 631 ┆ 297 ┆ 010 ┆ 719 ┆ 492 ┆ 681 ┆ 158 ┆ 978 ┆ 159 ┆ 701 ┆ 578 ┆ 736 ┆ 098 ┆ 582 ┆ 116 ┆ 652 ┆ 167 ┆ 651 ┆ 091 ┆ 465 ┆ 735 ┆ 863 ┆ 820 ┆ 596 ┆ 198 ┆ 638 ┆ 928 ┆ 861 ┆ 861 ┆ 861 ┆ 861 ┆ 861 ┆ 861 ┆ 861 ┆ 861 ┆ 861 ┆ 861 ┆ 861 ┆ 861 ┆ 861 ┆ 861 ┆ 861 ┆ 861 ┆ 861 ┆ 861 ┆ 861 ┆ 861 ┆ 861 ┆ 861 ┆ 861 ┆ 861 ┆ 861 ┆ 861 ┆ 861 ┆ 861 ┆ 861 ┆ 861 ┆ 861 ┆ 861 ┆ 861 ┆ 861 ┆ 861 ┆ 861 ┆ 861 ┆ 861 ┆ 879 ┆ 335 ┆ 392 ┆ 344 ┆ 457 ┆ 905 ┆ 726 ┆ 179 ┆ 285 ┆ 559 ┆ 976 ┆ 519 ┆ 175 ┆ 931 ┆ 766 ┆ 646 ┆ 533 ┆ 395 ┆ 210 ┆ 971 ┆ 676 ┆ 324 ┆ 086 ┆ 086 ┆ 086 ┆ 086 ┆ 086 ┆ 086 ┆ 086 ┆ 086 ┆ 086 ┆ 086 ┆ 086 ┆ 086 ┆ 086 ┆ 086 ┆ 086 ┆ 086 ┆ 086 ┆ 086 ┆ 086 ┆ 086 ┆ 086 ┆ 086 ┆ 086 ┆ 086 ┆ 086 ┆ 086 ┆ 086 ┆ 086 ┆ 086 ┆ 086 ┆ 086 ┆ 086 ┆ 086 ┆ 086 ┆ 086 ┆ 086 ┆ 086 ┆ 086 │\n",
       "│ 845 ┆ 609 ┆ 734 ┆ 159 ┆ 501 ┆ 852 ┆ 425 ┆ 689 ┆ 213 ┆ 369 ┆ 184 ┆ 155 ┆ 529 ┆ 584 ┆ 496 ┆ 906 ┆ 263 ┆ 477 ┆ 333 ┆ 428 ┆ 814 ┆ 009 ┆ 502 ┆ 513 ┆ 207 ┆ 225 ┆ 660 ┆ 796 ┆ 96  ┆ 690 ┆ 568 ┆ 799 ┆ 895 ┆ 266 ┆ 023 ┆ 465 ┆ 874 ┆ 158 ┆ 753 ┆ 465 ┆ 576 ┆ 391 ┆ 381 ┆ 660 ┆ 915 ┆ 490 ┆ 139 ┆ 562 ┆ 628 ┆ 836 ┆ 887 ┆ 094 ┆ 805 ┆ 523 ┆ 746 ┆ 615 ┆ 663 ┆ 309 ┆ 756 ┆ 775 ┆ 449 ┆ 02  ┆ 02  ┆ 02  ┆ 02  ┆ 02  ┆ 02  ┆ 02  ┆ 02  ┆ 02  ┆ 02  ┆ 02  ┆ 02  ┆ 02  ┆ 02  ┆ 02  ┆ 02  ┆ 02  ┆ 02  ┆ 04  ┆ 07  ┆ 1   ┆ 14  ┆ 18  ┆ 22  ┆ 3   ┆ 43  ┆ 69  ┆ 17  ┆ 82  ┆ 65  ┆ 74  ┆ 15  ┆ 18  ┆ 6   ┆ 45  ┆ 63  ┆ 48  ┆ 65  ┆ 93  ┆ 36  ┆ 83  ┆ 26  ┆ 84  ┆ 18  ┆ 33  ┆ 33  ┆ 91  ┆ 64  ┆ 59  ┆ 69  ┆ 08  ┆ 62  ┆ 96  ┆ 1   ┆ 81  ┆ 69  ┆ 81  ┆ 49  ┆ 45  ┆ 4   ┆ e-3 ┆ e-3 ┆ e-3 ┆ e-3 ┆ e-3 ┆ e-3 ┆ e-3 ┆ e-3 ┆ e-3 ┆ e-3 ┆ e-3 ┆ e-3 ┆ e-4 ┆ e-4 ┆     ┆     ┆     ┆     ┆     ┆     ┆     ┆     ┆     ┆     ┆     ┆ e-4 ┆ e-3 ┆ e-2 ┆ e-2 ┆ e-1 ┆     ┆     ┆     ┆     ┆ e-8 ┆ e-8 ┆     ┆ e-7 ┆ 03  ┆ 03  ┆ 04  ┆ 22  ┆ 83  ┆ 24  ┆ 24  ┆ 23  ┆ 19  ┆ 39  ┆ 5   ┆ 19  ┆ 11  ┆ 12  ┆ 1   ┆ 08  ┆ 13  ┆ 13  ┆ 08  ┆ 02  ┆ e-7 ┆ e-7 ┆ e-1 ┆ e-1 ┆ e-1 ┆ e-1 ┆ e-1 ┆ e-1 ┆ e-1 ┆ e-1 ┆ e-1 ┆ e-1 ┆ e-1 ┆ e-1 ┆ e-1 ┆ e-2 ┆     ┆     ┆     ┆     ┆ e-1 ┆ e-1 ┆ e-9 ┆ e-8 ┆ e-8 ┆ e-8 ┆ e-8 ┆ e-7 ┆ e-7 ┆ e-7 ┆ e-7 ┆ 01  ┆ 01  ┆ 02  ┆ 01  ┆ 01  ┆ 01  ┆ 01  ┆ 02  ┆ 02  ┆ 03  ┆ 03  ┆ 03  ┆ 03  ┆ 03  ┆ 02  ┆ 01  ┆ 01  ┆ e-7 ┆ e-7 ┆ e-9 ┆ e-8 ┆ e-8 ┆ e-9 ┆     ┆     ┆ e-1 ┆ e-1 ┆ e-1 ┆ e-1 ┆ e-1 ┆ e-1 ┆ 467 ┆ 241 ┆ 841 ┆ 496 ┆ 023 ┆ 348 ┆ 724 ┆ 384 ┆ 702 ┆ 994 ┆ 524 ┆ 789 ┆ 35  ┆ 01  ┆ 44  ┆ 564 ┆ 157 ┆ 062 ┆ 964 ┆ 526 ┆ 959 ┆ 139 ┆ 682 ┆ 957 ┆ 876 ┆ 278 ┆ 729 ┆ 658 ┆ 826 ┆ 485 ┆ 64  ┆ 124 ┆ 605 ┆ 873 ┆ 565 ┆ 099 ┆ 762 ┆ 729 ┆ 417 ┆ 115 ┆ 261 ┆ 599 ┆ 146 ┆ 78  ┆ 768 ┆ 049 ┆ 61  ┆ 19  ┆ 16  ┆ 35  ┆ 97  ┆ 93  ┆ 09  ┆ 93  ┆ 57  ┆ 24  ┆ 34  ┆ 67  ┆ 72  ┆ 06  ┆ 759 ┆ 36  ┆ 142 ┆ 131 ┆ 77  ┆ 22  ┆ 55  ┆ 26  ┆ 5   ┆ 811 ┆ 787 ┆ 473 ┆ 45  ┆ 71  ┆ 26  ┆ 13  ┆ 26  ┆ 01  ┆ 22  ┆ 95  ┆ 54  ┆ 32  ┆     ┆ 57  ┆ 11  ┆ 94  ┆ 08  ┆ 43  ┆ 73  ┆ 22  ┆ 24  ┆ 79  ┆ 17  ┆ 91  ┆ 76  ┆ 45  ┆ 2   ┆ 32  ┆ 17  ┆ 21  ┆ 48  ┆ 427 ┆ 021 ┆ 973 ┆ 84  ┆ 476 ┆ 788 ┆ 212 ┆ 63  ┆ 691 ┆ 645 ┆ 306 ┆ 14  ┆ 054 ┆ 904 ┆ 776 ┆ 572 ┆ 684 ┆ 688 ┆ 507 ┆ .48 ┆     ┆ 749 ┆ 222 ┆ 809 ┆ 42  ┆     ┆     ┆     ┆     ┆     ┆ 612 ┆     ┆     ┆     ┆     ┆ e-7 ┆ e-7 ┆ e-7 ┆ 01  ┆ 03  ┆ 04  ┆ 07  ┆ 12  ┆ 13  ┆ 13  ┆ 13  ┆ 11  ┆ 1   ┆ 07  ┆ 05  ┆ 03  ┆ 02  ┆ 01  ┆ e-7 ┆ e-7 ┆ e-7 ┆ e-7 ┆ e-7 ┆ e-7 ┆ e-7 ┆ e-8 ┆ e-8 ┆ e-8 ┆ e-8 ┆ e-8 ┆ e-8 ┆ e-8 ┆ e-8 ┆ e-8 ┆ e-8 ┆ e-8 ┆ e-8 ┆ e-8 ┆ e-8 ┆ e-8 ┆ e-8 ┆ e-8 ┆ e-8 ┆ e-8 ┆ e-8 ┆ e-8 ┆ e-8 ┆ e-8 ┆ e-8 ┆ e-8 ┆ e-8 ┆ e-8 ┆ e-8 ┆ e-8 ┆ e-8 ┆ e-8 ┆ e-8 ┆ e-8 ┆ e-8 ┆ e-8 ┆ e-7 ┆ e-7 ┆ e-7 ┆ e-7 ┆ e-7 ┆ e-7 ┆ e-7 ┆ e-7 ┆ e-7 ┆ e-7 ┆ e-7 ┆ e-7 ┆ e-7 ┆ e-7 ┆ e-7 ┆ e-7 ┆ e-7 ┆ e-7 ┆ e-7 ┆ e-7 ┆ e-7 ┆ e-7 ┆ e-7 ┆ e-7 ┆ e-7 ┆ e-7 ┆ e-7 ┆ e-7 ┆ e-7 ┆ e-7 ┆ e-7 ┆ e-7 ┆ e-7 ┆ e-7 ┆ e-7 ┆ e-7 ┆ e-7 ┆ e-7 ┆ e-7 ┆ e-7 ┆ e-7 ┆ e-7 ┆ e-7 ┆ e-7 ┆ e-7 ┆ e-7 ┆ e-7 ┆ e-7 ┆ e-7 ┆ e-7 ┆ e-7 ┆ e-7 ┆ e-7 ┆ e-7 ┆ e-7 ┆ e-7 ┆ e-7 ┆ e-7 ┆ e-7 ┆ e-7 ┆ e-8 ┆ e-8 ┆ e-8 ┆ e-8 ┆ e-8 ┆ e-8 ┆ e-8 ┆ e-7 ┆ e-7 ┆ e-7 ┆ e-7 ┆ e-7 ┆ e-7 ┆ e-7 ┆ e-7 ┆ e-7 ┆ e-7 ┆ e-7 ┆ e-7 ┆ e-7 ┆ e-7 ┆ e-7 ┆ e-7 ┆ e-7 ┆ e-7 ┆ e-7 ┆ e-7 ┆ e-7 ┆ e-7 ┆ e-7 ┆ e-7 ┆ e-7 ┆ e-7 ┆ e-7 ┆ e-7 ┆ e-7 ┆ e-7 ┆ e-7 ┆ e-7 ┆ e-7 ┆ e-7 ┆ e-7 ┆ e-7 ┆ e-7 ┆ e-7 ┆ e-7 ┆ e-7 ┆ e-7 ┆ e-7 ┆ e-7 ┆ e-7 ┆ e-7 ┆ e-7 ┆ e-7 ┆ e-7 ┆ e-7 ┆ e-7 ┆ e-7 ┆ e-7 ┆ e-7 │\n",
       "│ 78  ┆ 7   ┆ 8   ┆     ┆ 1   ┆ 5   ┆ 7   ┆ 2   ┆ 2   ┆ 5   ┆ 1   ┆ 4   ┆ 2   ┆ 7   ┆ 7   ┆ 6   ┆ 9   ┆ 3   ┆ 3   ┆ 2   ┆ 5   ┆ 7   ┆ 3   ┆     ┆ 2   ┆ 3   ┆ 2   ┆ 8   ┆     ┆ 6   ┆ 9   ┆ 9   ┆ 1   ┆ 3   ┆ 3   ┆ 3   ┆ 6   ┆ 8   ┆ 9   ┆ 4   ┆ 6   ┆ 3   ┆     ┆ 3   ┆     ┆ 7   ┆ 9   ┆ 8   ┆ 5   ┆ 7   ┆ 2   ┆ 1   ┆     ┆ 1   ┆ 2   ┆ 2   ┆ 6   ┆ 1   ┆ 9   ┆     ┆ 9   ┆     ┆     ┆     ┆     ┆     ┆     ┆     ┆     ┆     ┆     ┆     ┆     ┆     ┆     ┆     ┆     ┆     ┆     ┆     ┆     ┆     ┆     ┆     ┆     ┆     ┆     ┆     ┆     ┆     ┆     ┆     ┆     ┆     ┆     ┆     ┆     ┆     ┆     ┆     ┆     ┆     ┆     ┆     ┆     ┆     ┆     ┆     ┆     ┆     ┆     ┆     ┆     ┆     ┆     ┆     ┆     ┆     ┆     ┆     ┆     ┆ 7   ┆ 7   ┆ 7   ┆ 7   ┆ 7   ┆ 7   ┆ 7   ┆ 7   ┆ 7   ┆ 7   ┆ 7   ┆ 8   ┆ 2   ┆ 9   ┆     ┆     ┆     ┆     ┆     ┆     ┆     ┆     ┆     ┆     ┆     ┆ 0   ┆ 3   ┆ 9   ┆ 3   ┆ 8   ┆     ┆     ┆     ┆     ┆     ┆     ┆     ┆     ┆     ┆     ┆     ┆     ┆     ┆     ┆     ┆     ┆     ┆     ┆     ┆     ┆     ┆     ┆     ┆     ┆     ┆     ┆     ┆     ┆     ┆     ┆ 1   ┆ 1   ┆ 1   ┆ 1   ┆ 1   ┆ 1   ┆ 1   ┆ 1   ┆ 1   ┆ 1   ┆ 1   ┆ 2   ┆ 6   ┆ 3   ┆     ┆     ┆     ┆     ┆ 3   ┆ 1   ┆     ┆     ┆     ┆     ┆     ┆     ┆     ┆     ┆     ┆     ┆     ┆     ┆     ┆     ┆     ┆     ┆     ┆     ┆     ┆     ┆     ┆     ┆     ┆     ┆     ┆     ┆     ┆     ┆     ┆     ┆     ┆     ┆     ┆     ┆ 1   ┆ 6   ┆ 2   ┆ 0   ┆ 0   ┆ 0   ┆ 1   ┆ 7   ┆ 9   ┆ 7   ┆ 5   ┆ 6   ┆ 4   ┆ 3   ┆ 1   ┆     ┆     ┆     ┆     ┆     ┆     ┆     ┆     ┆     ┆     ┆     ┆     ┆     ┆     ┆     ┆     ┆     ┆     ┆     ┆     ┆     ┆     ┆     ┆     ┆     ┆     ┆     ┆     ┆     ┆     ┆     ┆     ┆     ┆     ┆     ┆     ┆     ┆     ┆     ┆     ┆     ┆     ┆     ┆     ┆     ┆     ┆     ┆     ┆     ┆     ┆     ┆     ┆     ┆     ┆     ┆     ┆     ┆     ┆     ┆     ┆     ┆     ┆     ┆     ┆     ┆     ┆     ┆     ┆     ┆     ┆     ┆     ┆     ┆     ┆     ┆     ┆     ┆     ┆     ┆     ┆     ┆     ┆     ┆     ┆     ┆     ┆     ┆     ┆     ┆     ┆     ┆     ┆     ┆     ┆     ┆     ┆     ┆     ┆     ┆     ┆     ┆     ┆     ┆     ┆     ┆     ┆     ┆     ┆     ┆     ┆     ┆ 235 ┆     ┆     ┆     ┆     ┆     ┆     ┆     ┆     ┆     ┆     ┆ 1   ┆     ┆     ┆     ┆     ┆     ┆     ┆     ┆     ┆     ┆     ┆     ┆     ┆     ┆     ┆     ┆     ┆     ┆     ┆     ┆     ┆     ┆     ┆     ┆     ┆     ┆     ┆     ┆     ┆     ┆     ┆     ┆     ┆     ┆     ┆     ┆     ┆     ┆     ┆     ┆     ┆     ┆     ┆     ┆     ┆     ┆     ┆     ┆     ┆     ┆     ┆     ┆     ┆     ┆     ┆     ┆     ┆     ┆     ┆     ┆     ┆     ┆     ┆     ┆     ┆     ┆     ┆     ┆     ┆     ┆     ┆     ┆     ┆     ┆     ┆     ┆     ┆     ┆     ┆     ┆     ┆     ┆     ┆     ┆     ┆     ┆     ┆     ┆     ┆     ┆     ┆     ┆     ┆     ┆     ┆     ┆     ┆     ┆     ┆     ┆     ┆     ┆     ┆     ┆     ┆     ┆     ┆     ┆     ┆     ┆     ┆     ┆     ┆     ┆     ┆     ┆     ┆     ┆     ┆     ┆     ┆     ┆     ┆     ┆     ┆     ┆     ┆     ┆     ┆     ┆     ┆     ┆     ┆     ┆     ┆     ┆     ┆     ┆     ┆     ┆     ┆     ┆     ┆     ┆     ┆     ┆     ┆     ┆     ┆     ┆     ┆     ┆     ┆     ┆     ┆     ┆     ┆     ┆     ┆     ┆     ┆     ┆     ┆     ┆     ┆     ┆     ┆     ┆     ┆     ┆     ┆     ┆     ┆     ┆     ┆     ┆     ┆     ┆     ┆     ┆     ┆     ┆     ┆     ┆     │\n",
       "│     ┆     ┆     ┆     ┆     ┆     ┆     ┆     ┆     ┆     ┆     ┆     ┆     ┆     ┆     ┆     ┆     ┆     ┆     ┆     ┆     ┆     ┆     ┆     ┆     ┆     ┆     ┆     ┆     ┆     ┆     ┆     ┆     ┆     ┆     ┆     ┆     ┆     ┆     ┆     ┆     ┆     ┆     ┆     ┆     ┆     ┆     ┆     ┆     ┆     ┆     ┆     ┆     ┆     ┆     ┆     ┆     ┆     ┆     ┆     ┆     ┆     ┆     ┆     ┆     ┆     ┆     ┆     ┆     ┆     ┆     ┆     ┆     ┆     ┆     ┆     ┆     ┆     ┆     ┆     ┆     ┆     ┆     ┆     ┆     ┆     ┆     ┆     ┆     ┆     ┆     ┆     ┆     ┆     ┆     ┆     ┆     ┆     ┆     ┆     ┆     ┆     ┆     ┆     ┆     ┆     ┆     ┆     ┆     ┆     ┆     ┆     ┆     ┆     ┆     ┆     ┆     ┆     ┆     ┆     ┆     ┆     ┆     ┆     ┆     ┆     ┆     ┆     ┆     ┆     ┆     ┆     ┆     ┆     ┆     ┆     ┆     ┆     ┆     ┆     ┆     ┆     ┆     ┆     ┆     ┆     ┆     ┆     ┆     ┆     ┆     ┆     ┆     ┆     ┆     ┆     ┆     ┆     ┆     ┆     ┆     ┆     ┆     ┆     ┆     ┆     ┆     ┆     ┆     ┆     ┆     ┆     ┆     ┆     ┆     ┆     ┆     ┆     ┆     ┆     ┆     ┆     ┆     ┆     ┆     ┆     ┆     ┆     ┆     ┆     ┆     ┆     ┆     ┆     ┆     ┆     ┆     ┆     ┆     ┆     ┆     ┆     ┆     ┆     ┆     ┆     ┆     ┆     ┆     ┆     ┆     ┆     ┆     ┆     ┆     ┆     ┆     ┆     ┆     ┆     ┆     ┆     ┆     ┆     ┆     ┆     ┆     ┆     ┆     ┆     ┆     ┆     ┆     ┆     ┆     ┆     ┆     ┆     ┆     ┆     ┆     ┆     ┆     ┆     ┆     ┆     ┆     ┆     ┆     ┆     ┆     ┆     ┆     ┆     ┆     ┆     ┆     ┆     ┆     ┆     ┆     ┆     ┆     ┆     ┆     ┆     ┆     ┆     ┆     ┆     ┆     ┆     ┆     ┆     ┆     ┆     ┆     ┆     ┆     ┆     ┆     ┆     ┆     ┆     ┆     ┆     ┆     ┆     ┆     ┆     ┆     ┆     ┆     ┆     ┆     ┆     ┆     ┆     ┆     ┆     ┆     ┆     ┆     ┆     ┆     ┆     ┆     ┆     ┆     ┆     ┆     ┆     ┆     ┆     ┆     ┆     ┆     ┆     ┆     ┆     ┆     ┆     ┆     ┆     ┆     ┆     ┆     ┆     ┆     ┆     ┆     ┆     ┆     ┆     ┆     ┆     ┆     ┆     ┆     ┆     ┆     ┆     ┆     ┆     ┆     ┆     ┆     ┆     ┆     ┆     ┆     ┆     ┆     ┆     ┆     ┆     ┆     ┆     ┆     ┆     ┆     ┆ 9   ┆     ┆     ┆     ┆     ┆     ┆     ┆     ┆     ┆     ┆     ┆     ┆     ┆     ┆     ┆     ┆     ┆     ┆     ┆     ┆     ┆     ┆     ┆     ┆     ┆     ┆     ┆     ┆     ┆     ┆     ┆     ┆     ┆     ┆     ┆     ┆     ┆     ┆     ┆     ┆     ┆     ┆     ┆     ┆     ┆     ┆     ┆     ┆     ┆     ┆     ┆     ┆     ┆     ┆     ┆     ┆     ┆     ┆     ┆     ┆     ┆     ┆     ┆     ┆     ┆     ┆     ┆     ┆     ┆     ┆     ┆     ┆     ┆     ┆     ┆     ┆     ┆     ┆     ┆     ┆     ┆     ┆     ┆     ┆     ┆     ┆     ┆     ┆     ┆     ┆     ┆     ┆     ┆     ┆     ┆     ┆     ┆     ┆     ┆     ┆     ┆     ┆     ┆     ┆     ┆     ┆     ┆     ┆     ┆     ┆     ┆     ┆     ┆     ┆     ┆     ┆     ┆     ┆     ┆     ┆     ┆     ┆     ┆     ┆     ┆     ┆     ┆     ┆     ┆     ┆     ┆     ┆     ┆     ┆     ┆     ┆     ┆     ┆     ┆     ┆     ┆     ┆     ┆     ┆     ┆     ┆     ┆     ┆     ┆     ┆     ┆     ┆     ┆     ┆     ┆     ┆     ┆     ┆     ┆     ┆     ┆     ┆     ┆     ┆     ┆     ┆     ┆     ┆     ┆     ┆     ┆     ┆     ┆     ┆     ┆     ┆     ┆     ┆     ┆     ┆     ┆     ┆     ┆     ┆     ┆     ┆     ┆     ┆     ┆     ┆     ┆     ┆     ┆     ┆     ┆     │\n",
       "│ …   ┆ …   ┆ …   ┆ …   ┆ …   ┆ …   ┆ …   ┆ …   ┆ …   ┆ …   ┆ …   ┆ …   ┆ …   ┆ …   ┆ …   ┆ …   ┆ …   ┆ …   ┆ …   ┆ …   ┆ …   ┆ …   ┆ …   ┆ …   ┆ …   ┆ …   ┆ …   ┆ …   ┆ …   ┆ …   ┆ …   ┆ …   ┆ …   ┆ …   ┆ …   ┆ …   ┆ …   ┆ …   ┆ …   ┆ …   ┆ …   ┆ …   ┆ …   ┆ …   ┆ …   ┆ …   ┆ …   ┆ …   ┆ …   ┆ …   ┆ …   ┆ …   ┆ …   ┆ …   ┆ …   ┆ …   ┆ …   ┆ …   ┆ …   ┆ …   ┆ …   ┆ …   ┆ …   ┆ …   ┆ …   ┆ …   ┆ …   ┆ …   ┆ …   ┆ …   ┆ …   ┆ …   ┆ …   ┆ …   ┆ …   ┆ …   ┆ …   ┆ …   ┆ …   ┆ …   ┆ …   ┆ …   ┆ …   ┆ …   ┆ …   ┆ …   ┆ …   ┆ …   ┆ …   ┆ …   ┆ …   ┆ …   ┆ …   ┆ …   ┆ …   ┆ …   ┆ …   ┆ …   ┆ …   ┆ …   ┆ …   ┆ …   ┆ …   ┆ …   ┆ …   ┆ …   ┆ …   ┆ …   ┆ …   ┆ …   ┆ …   ┆ …   ┆ …   ┆ …   ┆ …   ┆ …   ┆ …   ┆ …   ┆ …   ┆ …   ┆ …   ┆ …   ┆ …   ┆ …   ┆ …   ┆ …   ┆ …   ┆ …   ┆ …   ┆ …   ┆ …   ┆ …   ┆ …   ┆ …   ┆ …   ┆ …   ┆ …   ┆ …   ┆ …   ┆ …   ┆ …   ┆ …   ┆ …   ┆ …   ┆ …   ┆ …   ┆ …   ┆ …   ┆ …   ┆ …   ┆ …   ┆ …   ┆ …   ┆ …   ┆ …   ┆ …   ┆ …   ┆ …   ┆ …   ┆ …   ┆ …   ┆ …   ┆ …   ┆ …   ┆ …   ┆ …   ┆ …   ┆ …   ┆ …   ┆ …   ┆ …   ┆ …   ┆ …   ┆ …   ┆ …   ┆ …   ┆ …   ┆ …   ┆ …   ┆ …   ┆ …   ┆ …   ┆ …   ┆ …   ┆ …   ┆ …   ┆ …   ┆ …   ┆ …   ┆ …   ┆ …   ┆ …   ┆ …   ┆ …   ┆ …   ┆ …   ┆ …   ┆ …   ┆ …   ┆ …   ┆ …   ┆ …   ┆ …   ┆ …   ┆ …   ┆ …   ┆ …   ┆ …   ┆ …   ┆ …   ┆ …   ┆ …   ┆ …   ┆ …   ┆ …   ┆ …   ┆ …   ┆ …   ┆ …   ┆ …   ┆ …   ┆ …   ┆ …   ┆ …   ┆ …   ┆ …   ┆ …   ┆ …   ┆ …   ┆ …   ┆ …   ┆ …   ┆ …   ┆ …   ┆ …   ┆ …   ┆ …   ┆ …   ┆ …   ┆ …   ┆ …   ┆ …   ┆ …   ┆ …   ┆ …   ┆ …   ┆ …   ┆ …   ┆ …   ┆ …   ┆ …   ┆ …   ┆ …   ┆ …   ┆ …   ┆ …   ┆ …   ┆ …   ┆ …   ┆ …   ┆ …   ┆ …   ┆ …   ┆ …   ┆ …   ┆ …   ┆ …   ┆ …   ┆ …   ┆ …   ┆ …   ┆ …   ┆ …   ┆ …   ┆ …   ┆ …   ┆ …   ┆ …   ┆ …   ┆ …   ┆ …   ┆ …   ┆ …   ┆ …   ┆ …   ┆ …   ┆ …   ┆ …   ┆ …   ┆ …   ┆ …   ┆ …   ┆ …   ┆ …   ┆ …   ┆ …   ┆ …   ┆ …   ┆ …   ┆ …   ┆ …   ┆ …   ┆ …   ┆ …   ┆ …   ┆ …   ┆ …   ┆ …   ┆ …   ┆ …   ┆ …   ┆ …   ┆ …   ┆ …   ┆ …   ┆ …   ┆ …   ┆ …   ┆ …   ┆ …   ┆ …   ┆ …   ┆ …   ┆ …   ┆ …   ┆ …   ┆ …   ┆ …   ┆ …   ┆ …   ┆ …   ┆ …   ┆ …   ┆ …   ┆ …   ┆ …   ┆ …   ┆ …   ┆ …   ┆ …   ┆ …   ┆ …   ┆ …   ┆ …   ┆ …   ┆ …   ┆ …   ┆ …   ┆ …   ┆ …   ┆ …   ┆ …   ┆ …   ┆ …   ┆ …   ┆ …   ┆ …   ┆ …   ┆ …   ┆ …   ┆ …   ┆ …   ┆ …   ┆ …   ┆ …   ┆ …   ┆ …   ┆ …   ┆ …   ┆ …   ┆ …   ┆ …   ┆ …   ┆ …   ┆ …   ┆ …   ┆ …   ┆ …   ┆ …   ┆ …   ┆ …   ┆ …   ┆ …   ┆ …   ┆ …   ┆ …   ┆ …   ┆ …   ┆ …   ┆ …   ┆ …   ┆ …   ┆ …   ┆ …   ┆ …   ┆ …   ┆ …   ┆ …   ┆ …   ┆ …   ┆ …   ┆ …   ┆ …   ┆ …   ┆ …   ┆ …   ┆ …   ┆ …   ┆ …   ┆ …   ┆ …   ┆ …   ┆ …   ┆ …   ┆ …   ┆ …   ┆ …   ┆ …   ┆ …   ┆ …   ┆ …   ┆ …   ┆ …   ┆ …   ┆ …   ┆ …   ┆ …   ┆ …   ┆ …   ┆ …   ┆ …   ┆ …   ┆ …   ┆ …   ┆ …   ┆ …   ┆ …   ┆ …   ┆ …   ┆ …   ┆ …   ┆ …   ┆ …   ┆ …   ┆ …   ┆ …   ┆ …   ┆ …   ┆ …   ┆ …   ┆ …   ┆ …   ┆ …   ┆ …   ┆ …   ┆ …   ┆ …   ┆ …   ┆ …   ┆ …   ┆ …   ┆ …   ┆ …   ┆ …   ┆ …   ┆ …   ┆ …   ┆ …   ┆ …   ┆ …   ┆ …   ┆ …   ┆ …   ┆ …   ┆ …   ┆ …   ┆ …   ┆ …   ┆ …   ┆ …   ┆ …   ┆ …   ┆ …   ┆ …   ┆ …   ┆ …   ┆ …   ┆ …   ┆ …   ┆ …   ┆ …   ┆ …   ┆ …   ┆ …   ┆ …   ┆ …   ┆ …   ┆ …   ┆ …   ┆ …   ┆ …   ┆ …   ┆ …   ┆ …   ┆ …   ┆ …   ┆ …   ┆ …   ┆ …   ┆ …   ┆ …   ┆ …   ┆ …   ┆ …   ┆ …   ┆ …   ┆ …   ┆ …   ┆ …   ┆ …   ┆ …   ┆ …   ┆ …   ┆ …   ┆ …   ┆ …   ┆ …   ┆ …   ┆ …   ┆ …   ┆ …   ┆ …   ┆ …   ┆ …   ┆ …   ┆ …   ┆ …   ┆ …   ┆ …   ┆ …   ┆ …   ┆ …   ┆ …   ┆ …   ┆ …   ┆ …   ┆ …   ┆ …   ┆ …   ┆ …   ┆ …   ┆ …   ┆ …   ┆ …   ┆ …   ┆ …   ┆ …   │\n",
       "│ tes ┆ 216 ┆ 228 ┆ 236 ┆ 248 ┆ 256 ┆ 262 ┆ 257 ┆ 247 ┆ 237 ┆ 229 ┆ 223 ┆ 218 ┆ 214 ┆ 210 ┆ 203 ┆ 199 ┆ 190 ┆ 187 ┆ 189 ┆ 192 ┆ 198 ┆ 204 ┆ 211 ┆ 216 ┆ 222 ┆ 229 ┆ 234 ┆ 238 ┆ 242 ┆ 246 ┆ 249 ┆ 253 ┆ 256 ┆ 259 ┆ 261 ┆ 263 ┆ 265 ┆ 268 ┆ 271 ┆ 274 ┆ 276 ┆ 278 ┆ 279 ┆ 280 ┆ 281 ┆ 282 ┆ 284 ┆ 285 ┆ 286 ┆ 287 ┆ 288 ┆ 289 ┆ 290 ┆ 291 ┆ 291 ┆ 292 ┆ 293 ┆ 295 ┆ 296 ┆ 297 ┆ 0.0 ┆ 0.0 ┆ 0.0 ┆ 0.0 ┆ 0.0 ┆ 0.0 ┆ 0.0 ┆ 0.0 ┆ 0.0 ┆ 0.0 ┆ 0.0 ┆ 0.0 ┆ 0.0 ┆ 0.0 ┆ 0.0 ┆ 0.0 ┆ 0.0 ┆ 0.0 ┆ 0.0 ┆ 0.0 ┆ 0.0 ┆ 0.0 ┆ 0.0 ┆ 0.0 ┆ 0.0 ┆ 0.0 ┆ 0.0 ┆ 0.0 ┆ 0.0 ┆ 0.0 ┆ 0.0 ┆ 0.0 ┆ 0.0 ┆ 0.0 ┆ 0.0 ┆ 0.0 ┆ 0.0 ┆ 0.0 ┆ 0.0 ┆ 0.0 ┆ 0.0 ┆ 0.0 ┆ 0.0 ┆ 0.0 ┆ 0.0 ┆ 0.0 ┆ 0.0 ┆ 0.0 ┆ 0.0 ┆ 0.0 ┆ 0.0 ┆ 0.0 ┆ 0.0 ┆ 0.0 ┆ 0.0 ┆ 0.0 ┆ 0.0 ┆ 0.0 ┆ 0.0 ┆ 0.0 ┆ 1.0 ┆ 9.6 ┆ 8.5 ┆ 7.4 ┆ 6.6 ┆ 5.5 ┆ 5.2 ┆ 3.8 ┆ 3.3 ┆ 1.9 ┆ 1.7 ┆ 9.5 ┆ 5.7 ┆ 1.2 ┆ 5.4 ┆ 0.0 ┆ 0.0 ┆ 0.0 ┆ 0.0 ┆ 0.0 ┆ 9.9 ┆ 2.2 ┆ 3.0 ┆ 3.2 ┆ 7.4 ┆ 3.0 ┆ 1.3 ┆ 1.9 ┆ 5.8 ┆ 1.2 ┆ 6.1 ┆ 1.8 ┆ 0.0 ┆ 0.0 ┆ 6.4 ┆ 5.2 ┆ 7.0 ┆ 0.0 ┆ 0.0 ┆ 0.0 ┆ 0.0 ┆ 6.5 ┆ 6.5 ┆ 0.0 ┆ 0.0 ┆ 0.0 ┆ 0.0 ┆ 0.0 ┆ 0.0 ┆ 0.0 ┆ 0.0 ┆ 0.0 ┆ 0.0 ┆ 9.2 ┆ 0.0 ┆ 0.0 ┆ 5.3 ┆ 4.9 ┆ 1.4 ┆ 5.0 ┆ 6.1 ┆ 6.5 ┆ 6.8 ┆ 7.7 ┆ 8.1 ┆ 8.3 ┆ 6.3 ┆ 4.2 ┆ 2.4 ┆ 1.3 ┆ 7.4 ┆ 3.4 ┆ 1.9 ┆ 4.1 ┆ 5.6 ┆ 3.4 ┆ 5.5 ┆ 8.8 ┆ 1.0 ┆ 8.7 ┆ 2.6 ┆ 0.0 ┆ 0.0 ┆ 3.5 ┆ 0.0 ┆ 0.0 ┆ 0.0 ┆ 0.0 ┆ 0.0 ┆ 0.0 ┆ 8.7 ┆ 6.0 ┆ 2.2 ┆ 2.2 ┆ 3.2 ┆ 6.0 ┆ 1.1 ┆ 1.9 ┆ 1.5 ┆ 2.1 ┆ 1.5 ┆ 1.3 ┆ 6.8 ┆ 7.3 ┆ 3.4 ┆ 6.8 ┆ 3.6 ┆ 2.8 ┆ 9.6 ┆ 2.1 ┆ 0.0 ┆ 0.0 ┆ 4.3 ┆ 8.7 ┆ 2.2 ┆ 0.0 ┆ 0.0 ┆ 0.0 ┆ 0.0 ┆ 0.0 ┆ 51. ┆ 42. ┆ 37. ┆ 35. ┆ 34. ┆ 27. ┆ 29. ┆ 22. ┆ 14. ┆ 8.4 ┆ 6.6 ┆ 6.8 ┆ 4.7 ┆ 0.1 ┆ -1. ┆ 2.4 ┆ 7.7 ┆ 15. ┆ 26. ┆ 34. ┆ 40. ┆ 46. ┆ 48. ┆ 48. ┆ 48. ┆ 47. ┆ 46. ┆ 43. ┆ 39. ┆ 33. ┆ 28. ┆ 24. ┆ 22. ┆ 20. ┆ 18. ┆ 16. ┆ 15. ┆ 13. ┆ 12. ┆ 10. ┆ 8.4 ┆ 6.6 ┆ 5.0 ┆ 3.9 ┆ 3.3 ┆ 2.5 ┆ 1.6 ┆ 0.7 ┆ -0. ┆ -0. ┆ -1. ┆ -2. ┆ -3. ┆ -4. ┆ -4. ┆ -4. ┆ -4. ┆ -4. ┆ -4. ┆ -4. ┆ 18. ┆ -22 ┆ -17 ┆ 4.9 ┆ 3.7 ┆ 10. ┆ -5. ┆ -4. ┆ -1. ┆ 0.7 ┆ 1.5 ┆ 1.2 ┆ 1.4 ┆ 0.5 ┆ -1. ┆ -1. ┆ -3. ┆ -6. ┆ -9. ┆ -9. ┆ -11 ┆ -5. ┆ 5.4 ┆ 8.2 ┆ 6.3 ┆ 2.5 ┆ -2. ┆ -7. ┆ -11 ┆ -11 ┆ -10 ┆ -6. ┆ -3. ┆ -0. ┆ 0.7 ┆ 2.2 ┆ 3.4 ┆ 3.7 ┆ 3.5 ┆ 2.9 ┆ 2.4 ┆ 2.1 ┆ 2.4 ┆ 2.7 ┆ 2.5 ┆ 2.2 ┆ 1.9 ┆ 1.8 ┆ 1.6 ┆ 1.5 ┆ 1.5 ┆ 1.4 ┆ 1.2 ┆ 1.0 ┆ 0.3 ┆ 0.0 ┆ -0. ┆ -0. ┆ -0. ┆ -0. ┆ 100 ┆ 898 ┆ 98. ┆ 5.0 ┆ 0.0 ┆ 0.0 ┆ 0.6 ┆ 0.0 ┆ 0.0 ┆ 0.0 ┆ 0.0 ┆ 452 ┆ 0.0 ┆ 0.0 ┆ 1.0 ┆ 0.0 ┆ 3.0 ┆ 5.4 ┆ 9.7 ┆ 0.0 ┆ 0.0 ┆ 0.0 ┆ 0.0 ┆ 0.0 ┆ 0.0 ┆ 0.0 ┆ 0.0 ┆ 0.0 ┆ 0.0 ┆ 0.0 ┆ 0.0 ┆ 0.0 ┆ 0.0 ┆ 4.2 ┆ 1.8 ┆ 1.1 ┆ 8.8 ┆ 7.2 ┆ 6.2 ┆ 5.6 ┆ 5.5 ┆ 5.5 ┆ 5.6 ┆ 5.7 ┆ 5.8 ┆ 6.0 ┆ 6.2 ┆ 6.3 ┆ 6.5 ┆ 6.6 ┆ 6.7 ┆ 6.7 ┆ 6.7 ┆ 6.6 ┆ 6.5 ┆ 6.4 ┆ 6.3 ┆ 6.2 ┆ 6.0 ┆ 5.9 ┆ 5.8 ┆ 5.7 ┆ 5.7 ┆ 5.6 ┆ 5.6 ┆ 5.6 ┆ 5.6 ┆ 5.6 ┆ 5.6 ┆ 5.6 ┆ 5.6 ┆ 5.7 ┆ 5.7 ┆ 5.6 ┆ 5.6 ┆ 5.6 ┆ 1.8 ┆ 2.0 ┆ 2.3 ┆ 2.7 ┆ 3.1 ┆ 3.5 ┆ 3.9 ┆ 4.4 ┆ 4.9 ┆ 5.4 ┆ 5.9 ┆ 6.4 ┆ 6.9 ┆ 7.4 ┆ 7.8 ┆ 8.3 ┆ 8.7 ┆ 9.2 ┆ 9.6 ┆ 9.9 ┆ 9.9 ┆ 9.9 ┆ 9.9 ┆ 9.9 ┆ 9.9 ┆ 9.9 ┆ 9.9 ┆ 9.9 ┆ 9.9 ┆ 9.9 ┆ 9.9 ┆ 9.9 ┆ 9.9 ┆ 9.9 ┆ 9.9 ┆ 9.9 ┆ 9.9 ┆ 9.9 ┆ 9.9 ┆ 9.9 ┆ 9.9 ┆ 9.9 ┆ 9.9 ┆ 9.9 ┆ 9.9 ┆ 9.9 ┆ 9.9 ┆ 9.9 ┆ 9.9 ┆ 9.9 ┆ 9.9 ┆ 9.9 ┆ 9.9 ┆ 9.9 ┆ 9.9 ┆ 9.9 ┆ 9.9 ┆ 9.9 ┆ 9.9 ┆ 9.9 ┆ 3.4 ┆ 4.3 ┆ 5.3 ┆ 6.5 ┆ 8.0 ┆ 9.8 ┆ 1.1 ┆ 1.4 ┆ 1.6 ┆ 1.9 ┆ 2.1 ┆ 2.4 ┆ 2.7 ┆ 3.0 ┆ 3.3 ┆ 3.7 ┆ 4.0 ┆ 4.3 ┆ 4.6 ┆ 4.9 ┆ 4.9 ┆ 4.9 ┆ 4.9 ┆ 4.9 ┆ 4.9 ┆ 4.9 ┆ 4.9 ┆ 4.9 ┆ 4.9 ┆ 4.9 ┆ 4.9 ┆ 4.9 ┆ 4.9 ┆ 4.9 ┆ 4.9 ┆ 4.9 ┆ 4.9 ┆ 4.9 ┆ 4.9 ┆ 4.9 ┆ 4.9 ┆ 4.9 ┆ 4.9 ┆ 4.9 ┆ 4.9 ┆ 4.9 ┆ 4.9 ┆ 4.9 ┆ 4.9 ┆ 4.9 ┆ 4.9 ┆ 4.9 ┆ 4.9 ┆ 4.9 ┆ 4.9 ┆ 4.9 ┆ 4.9 ┆ 4.9 ┆ 4.9 ┆ 4.9 │\n",
       "│ t_5 ┆ .89 ┆ .91 ┆ .65 ┆ .99 ┆ .38 ┆ .36 ┆ .79 ┆ .51 ┆ .79 ┆ .43 ┆ .84 ┆ .98 ┆ .45 ┆ .25 ┆ .82 ┆ .01 ┆ .87 ┆ .29 ┆ .28 ┆ .70 ┆ .79 ┆ .75 ┆ .28 ┆ .76 ┆ .77 ┆ .00 ┆ .25 ┆ .51 ┆ .56 ┆ .31 ┆ .83 ┆ .30 ┆ .47 ┆ .04 ┆ .27 ┆ .22 ┆ .78 ┆ .67 ┆ .68 ┆ .39 ┆ .69 ┆ .63 ┆ .65 ┆ .50 ┆ .79 ┆ .94 ┆ .16 ┆ .33 ┆ .56 ┆ .63 ┆ .56 ┆ .56 ┆ .32 ┆ .00 ┆ .72 ┆ .79 ┆ .87 ┆ .05 ┆ .26 ┆ .49 ┆ 000 ┆ 000 ┆ 000 ┆ 000 ┆ 000 ┆ 000 ┆ 000 ┆ 000 ┆ 000 ┆ 000 ┆ 000 ┆ 000 ┆ 000 ┆ 000 ┆ 000 ┆ 000 ┆ 000 ┆ 000 ┆ 000 ┆ 000 ┆ 000 ┆ 000 ┆ 000 ┆ 000 ┆ 000 ┆ 001 ┆ 002 ┆ 004 ┆ 004 ┆ 003 ┆ 003 ┆ 002 ┆ 003 ┆ 006 ┆ 011 ┆ 019 ┆ 025 ┆ 029 ┆ 030 ┆ 031 ┆ 033 ┆ 035 ┆ 042 ┆ 054 ┆ 065 ┆ 072 ┆ 080 ┆ 087 ┆ 089 ┆ 092 ┆ 098 ┆ 102 ┆ 109 ┆ 119 ┆ 130 ┆ 134 ┆ 138 ┆ 139 ┆ 139 ┆ 140 ┆ 255 ┆ 831 ┆ 105 ┆ 848 ┆ 743 ┆ 362 ┆ 533 ┆ 248 ┆ 658 ┆ 240 ┆ 839 ┆ 738 ┆ 609 ┆ 903 ┆ 957 ┆     ┆     ┆     ┆     ┆     ┆ 242 ┆ 527 ┆ 741 ┆ 172 ┆ 653 ┆ 357 ┆ 435 ┆ 898 ┆ 084 ┆ 265 ┆ 973 ┆ 722 ┆     ┆     ┆ 923 ┆ 863 ┆ 171 ┆ 000 ┆ 000 ┆ 000 ┆ 000 ┆ 247 ┆ 122 ┆ 000 ┆ 000 ┆ 000 ┆ 000 ┆ 000 ┆ 000 ┆ 000 ┆ 000 ┆ 000 ┆ 000 ┆ 283 ┆ 000 ┆ 000 ┆ 185 ┆ 293 ┆ 069 ┆ 483 ┆ 028 ┆ 125 ┆ 174 ┆ 943 ┆ 095 ┆ 080 ┆ 072 ┆ 078 ┆ 430 ┆ 018 ┆ 322 ┆ 289 ┆ 021 ┆ 825 ┆ 206 ┆ 514 ┆ 620 ┆ 530 ┆ 012 ┆ 511 ┆ 333 ┆     ┆     ┆ 540 ┆ 000 ┆ 000 ┆ 000 ┆ 000 ┆ 000 ┆ 000 ┆ 206 ┆ 768 ┆ 670 ┆ 869 ┆ 742 ┆ 206 ┆ 166 ┆ 000 ┆ 679 ┆ 275 ┆ 721 ┆ 016 ┆ 575 ┆ 267 ┆ 838 ┆ 420 ┆ 097 ┆ 057 ┆ 009 ┆ 185 ┆     ┆     ┆ 523 ┆ 768 ┆ 667 ┆     ┆     ┆     ┆     ┆     ┆ 209 ┆ 419 ┆ 281 ┆ 648 ┆ 451 ┆ 809 ┆ 607 ┆ 240 ┆ 340 ┆ 704 ┆ 837 ┆ 570 ┆ 378 ┆ 683 ┆ 061 ┆ 119 ┆ 352 ┆ 792 ┆ 320 ┆ 285 ┆ 828 ┆ 740 ┆ 625 ┆ 333 ┆ 036 ┆ 471 ┆ 671 ┆ 513 ┆ 277 ┆ 958 ┆ 955 ┆ 944 ┆ 012 ┆ 014 ┆ 198 ┆ 515 ┆ 106 ┆ 656 ┆ 162 ┆ 343 ┆ 655 ┆ 114 ┆ 512 ┆ 861 ┆ 115 ┆ 292 ┆ 528 ┆ 810 ┆ 040 ┆ 972 ┆ 912 ┆ 710 ┆ 392 ┆ 092 ┆ 537 ┆ 577 ┆ 500 ┆ 448 ┆ 368 ┆ 239 ┆ 015 ┆ .50 ┆ .31 ┆ 184 ┆ 657 ┆ 192 ┆ 364 ┆ 811 ┆ 973 ┆ 201 ┆ 112 ┆ 775 ┆ 268 ┆ 147 ┆ 303 ┆ 287 ┆ 506 ┆ 756 ┆ 073 ┆ 815 ┆ .01 ┆ 496 ┆ 248 ┆ 626 ┆ 256 ┆ 711 ┆ 623 ┆ 753 ┆ .24 ┆ .85 ┆ .22 ┆ 929 ┆ 456 ┆ 885 ┆ 845 ┆ 803 ┆ 677 ┆ 678 ┆ 059 ┆ 427 ┆ 050 ┆ 770 ┆ 063 ┆ 659 ┆ 917 ┆ 398 ┆ 785 ┆ 103 ┆ 712 ┆ 977 ┆ 153 ┆ 318 ┆ 408 ┆ 981 ┆ 684 ┆ 581 ┆ 301 ┆ 440 ┆ 531 ┆ 596 ┆ 806 ┆ .33 ┆ 588 ┆ 338 ┆ 236 ┆ 031 ┆ 385 ┆ 6   ┆ 481 ┆ 6   ┆ 481 ┆ .46 ┆     ┆     ┆     ┆     ┆ 087 ┆ 188 ┆ 127 ┆ 000 ┆ 000 ┆ 000 ┆ 000 ┆ 000 ┆ 000 ┆ 000 ┆ 000 ┆ 000 ┆ 000 ┆ 000 ┆ 000 ┆ 000 ┆ 000 ┆ 125 ┆ 415 ┆ 659 ┆ 404 ┆ 384 ┆ 100 ┆ 742 ┆ 711 ┆ 654 ┆ 333 ┆ 553 ┆ 866 ┆ 504 ┆ 214 ┆ 771 ┆ 290 ┆ 536 ┆ 011 ┆ 497 ┆ 260 ┆ 603 ┆ 950 ┆ 816 ┆ 419 ┆ 086 ┆ 839 ┆ 843 ┆ 898 ┆ 999 ┆ 167 ┆ 854 ┆ 560 ┆ 286 ┆ 029 ┆ 050 ┆ 322 ┆ 588 ┆ 850 ┆ 079 ┆ 031 ┆ 982 ┆ 929 ┆ 862 ┆ 144 ┆ 838 ┆ 905 ┆ 365 ┆ 218 ┆ 435 ┆ 957 ┆ 702 ┆ 579 ┆ 511 ┆ 445 ┆ 356 ┆ 232 ┆ 062 ┆ 819 ┆ 464 ┆ 954 ┆ 259 ┆ 366 ┆ 861 ┆ 861 ┆ 861 ┆ 861 ┆ 861 ┆ 861 ┆ 861 ┆ 861 ┆ 861 ┆ 861 ┆ 861 ┆ 861 ┆ 861 ┆ 861 ┆ 861 ┆ 861 ┆ 861 ┆ 861 ┆ 861 ┆ 861 ┆ 861 ┆ 861 ┆ 861 ┆ 861 ┆ 861 ┆ 861 ┆ 861 ┆ 861 ┆ 861 ┆ 861 ┆ 861 ┆ 861 ┆ 861 ┆ 861 ┆ 861 ┆ 861 ┆ 861 ┆ 861 ┆ 861 ┆ 861 ┆ 861 ┆ 774 ┆ 110 ┆ 352 ┆ 808 ┆ 738 ┆ 287 ┆ 843 ┆ 097 ┆ 555 ┆ 180 ┆ 942 ┆ 819 ┆ 798 ┆ 866 ┆ 997 ┆ 158 ┆ 306 ┆ 409 ┆ 445 ┆ 086 ┆ 086 ┆ 086 ┆ 086 ┆ 086 ┆ 086 ┆ 086 ┆ 086 ┆ 086 ┆ 086 ┆ 086 ┆ 086 ┆ 086 ┆ 086 ┆ 086 ┆ 086 ┆ 086 ┆ 086 ┆ 086 ┆ 086 ┆ 086 ┆ 086 ┆ 086 ┆ 086 ┆ 086 ┆ 086 ┆ 086 ┆ 086 ┆ 086 ┆ 086 ┆ 086 ┆ 086 ┆ 086 ┆ 086 ┆ 086 ┆ 086 ┆ 086 ┆ 086 ┆ 086 ┆ 086 ┆ 086 │\n",
       "│ 782 ┆ 081 ┆ 196 ┆ 469 ┆ 930 ┆ 063 ┆ 062 ┆ 187 ┆ 648 ┆ 522 ┆ 697 ┆ 084 ┆ 714 ┆ 515 ┆ 341 ┆ 449 ┆ 891 ┆ 713 ┆ 040 ┆ 349 ┆ 395 ┆ 049 ┆ 373 ┆ 941 ┆ 731 ┆ 148 ┆ 249 ┆ 177 ┆ 507 ┆ 807 ┆ 885 ┆ 27  ┆ 477 ┆ 925 ┆ 202 ┆ 533 ┆ 004 ┆ 625 ┆ 643 ┆ 322 ┆ 762 ┆ 573 ┆ 943 ┆ 286 ┆ 606 ┆ 704 ┆ 652 ┆ 368 ┆ 840 ┆ 037 ┆ 629 ┆ 920 ┆ 361 ┆ 391 ┆ 669 ┆ 129 ┆ 075 ┆ 226 ┆ 116 ┆ 222 ┆ 587 ┆ 02  ┆ 02  ┆ 02  ┆ 02  ┆ 02  ┆ 02  ┆ 02  ┆ 02  ┆ 02  ┆ 02  ┆ 02  ┆ 02  ┆ 02  ┆ 02  ┆ 02  ┆ 02  ┆ 02  ┆ 02  ┆ 02  ┆ 03  ┆ 04  ┆ 07  ┆ 11  ┆ 33  ┆ 83  ┆ 59  ┆ 92  ┆ 07  ┆ 31  ┆ 65  ┆ 01  ┆ 98  ┆ 8   ┆ 84  ┆ 78  ┆ 32  ┆ 19  ┆ 05  ┆ 77  ┆ 99  ┆ 6   ┆ 08  ┆ 23  ┆ 04  ┆ 93  ┆ 6   ┆ 64  ┆ 69  ┆ 92  ┆ 76  ┆ 07  ┆ 32  ┆ 99  ┆ 14  ┆ 87  ┆ 28  ┆ 01  ┆ 12  ┆ 56  ┆ 4   ┆ e-3 ┆ e-3 ┆ e-3 ┆ e-3 ┆ e-3 ┆ e-3 ┆ e-3 ┆ e-3 ┆ e-3 ┆ e-3 ┆ e-3 ┆ e-3 ┆ e-4 ┆ e-4 ┆ e-5 ┆     ┆     ┆     ┆     ┆     ┆ e-5 ┆ e-4 ┆ e-4 ┆ e-4 ┆ e-3 ┆ e-3 ┆ e-2 ┆ e-2 ┆ e-1 ┆ e-1 ┆ e-1 ┆ e-8 ┆     ┆     ┆ e-8 ┆ e-7 ┆ e-7 ┆ 01  ┆ 02  ┆ 03  ┆ 03  ┆ e-8 ┆ e-8 ┆ 02  ┆ 52  ┆ 06  ┆ 17  ┆ 04  ┆ 02  ┆ 1   ┆ 11  ┆ 11  ┆ 06  ┆ e-7 ┆ 02  ┆ 01  ┆ e-7 ┆ e-7 ┆ e-8 ┆ e-8 ┆ e-1 ┆ e-1 ┆ e-1 ┆ e-1 ┆ e-1 ┆ e-1 ┆ e-1 ┆ e-1 ┆ e-1 ┆ e-1 ┆ e-1 ┆ e-1 ┆ e-1 ┆ e-2 ┆ e-2 ┆ e-1 ┆ e-1 ┆ e-8 ┆ e-7 ┆ e-8 ┆ e-1 ┆     ┆     ┆ e-7 ┆ 02  ┆ 04  ┆ 02  ┆ 03  ┆ 02  ┆ 02  ┆ e-7 ┆ e-9 ┆ e-9 ┆ e-7 ┆ e-7 ┆ e-7 ┆ e-7 ┆ e-7 ┆ e-7 ┆ e-7 ┆ e-7 ┆ e-7 ┆ e-8 ┆ e-8 ┆ e-8 ┆ e-1 ┆ e-9 ┆ e-9 ┆ e-9 ┆ e-1 ┆     ┆     ┆ e-1 ┆ e-1 ┆ e-1 ┆     ┆     ┆     ┆     ┆     ┆ 186 ┆ 439 ┆ 976 ┆ 045 ┆ 416 ┆ 329 ┆ 586 ┆ 679 ┆ 837 ┆ 71  ┆ 59  ┆ 6   ┆ 29  ┆ 45  ┆ 041 ┆ 94  ┆ 85  ┆ 098 ┆ 675 ┆ 7   ┆ 029 ┆ 835 ┆ 057 ┆ 362 ┆ 965 ┆ 239 ┆ 519 ┆ 668 ┆ 116 ┆ 462 ┆ 049 ┆ 975 ┆ 148 ┆ 659 ┆ 438 ┆ 235 ┆ 666 ┆ 904 ┆ 052 ┆ 934 ┆ 71  ┆ 52  ┆ 28  ┆ 9   ┆ 1   ┆ 46  ┆ 07  ┆ 19  ┆ 192 ┆ 076 ┆ 147 ┆ 149 ┆ 743 ┆ 902 ┆ 605 ┆ 928 ┆ 485 ┆ 912 ┆ 188 ┆ 9   ┆ 506 ┆ 621 ┆ 347 ┆ 76  ┆ 59  ┆ 913 ┆ 113 ┆ 059 ┆ 06  ┆ 58  ┆ 61  ┆ 31  ┆ 16  ┆ 34  ┆ 389 ┆ 716 ┆ 73  ┆ 223 ┆ 841 ┆ 227 ┆ 597 ┆ 088 ┆ 86  ┆ 81  ┆ 5   ┆ 59  ┆ 422 ┆ 617 ┆ 074 ┆ 661 ┆ 719 ┆ 758 ┆ 147 ┆ 487 ┆ 14  ┆ 07  ┆ 87  ┆ 92  ┆ 61  ┆     ┆ 72  ┆ 2   ┆ 74  ┆ 9   ┆ 51  ┆ 6   ┆ 71  ┆ 35  ┆ 7   ┆ 33  ┆ 46  ┆ 27  ┆ 66  ┆ 05  ┆ 6   ┆ 9   ┆ 357 ┆ 503 ┆ 31  ┆ 656 ┆ .04 ┆ 628 ┆ 601 ┆ 12  ┆ 82  ┆ 76  ┆ 27  ┆     ┆ 38  ┆     ┆ 38  ┆ 519 ┆     ┆     ┆     ┆     ┆ e-7 ┆ e-7 ┆ e-7 ┆ 02  ┆ 03  ┆ 05  ┆ 09  ┆ 14  ┆ 15  ┆ 15  ┆ 15  ┆ 12  ┆ 09  ┆ 06  ┆ 03  ┆ 02  ┆ 01  ┆ e-7 ┆ e-7 ┆ e-7 ┆ e-8 ┆ e-8 ┆ e-8 ┆ e-8 ┆ e-8 ┆ e-8 ┆ e-8 ┆ e-8 ┆ e-8 ┆ e-8 ┆ e-8 ┆ e-8 ┆ e-8 ┆ e-8 ┆ e-8 ┆ e-8 ┆ e-8 ┆ e-8 ┆ e-8 ┆ e-8 ┆ e-8 ┆ e-8 ┆ e-8 ┆ e-8 ┆ e-8 ┆ e-8 ┆ e-8 ┆ e-8 ┆ e-8 ┆ e-8 ┆ e-8 ┆ e-8 ┆ e-8 ┆ e-8 ┆ e-8 ┆ e-8 ┆ e-8 ┆ e-8 ┆ e-8 ┆ e-8 ┆ e-7 ┆ e-7 ┆ e-7 ┆ e-7 ┆ e-7 ┆ e-7 ┆ e-7 ┆ e-7 ┆ e-7 ┆ e-7 ┆ e-7 ┆ e-7 ┆ e-7 ┆ e-7 ┆ e-7 ┆ e-7 ┆ e-7 ┆ e-7 ┆ e-7 ┆ e-7 ┆ e-7 ┆ e-7 ┆ e-7 ┆ e-7 ┆ e-7 ┆ e-7 ┆ e-7 ┆ e-7 ┆ e-7 ┆ e-7 ┆ e-7 ┆ e-7 ┆ e-7 ┆ e-7 ┆ e-7 ┆ e-7 ┆ e-7 ┆ e-7 ┆ e-7 ┆ e-7 ┆ e-7 ┆ e-7 ┆ e-7 ┆ e-7 ┆ e-7 ┆ e-7 ┆ e-7 ┆ e-7 ┆ e-7 ┆ e-7 ┆ e-7 ┆ e-7 ┆ e-7 ┆ e-7 ┆ e-7 ┆ e-7 ┆ e-7 ┆ e-7 ┆ e-7 ┆ e-7 ┆ e-8 ┆ e-8 ┆ e-8 ┆ e-8 ┆ e-8 ┆ e-8 ┆ e-7 ┆ e-7 ┆ e-7 ┆ e-7 ┆ e-7 ┆ e-7 ┆ e-7 ┆ e-7 ┆ e-7 ┆ e-7 ┆ e-7 ┆ e-7 ┆ e-7 ┆ e-7 ┆ e-7 ┆ e-7 ┆ e-7 ┆ e-7 ┆ e-7 ┆ e-7 ┆ e-7 ┆ e-7 ┆ e-7 ┆ e-7 ┆ e-7 ┆ e-7 ┆ e-7 ┆ e-7 ┆ e-7 ┆ e-7 ┆ e-7 ┆ e-7 ┆ e-7 ┆ e-7 ┆ e-7 ┆ e-7 ┆ e-7 ┆ e-7 ┆ e-7 ┆ e-7 ┆ e-7 ┆ e-7 ┆ e-7 ┆ e-7 ┆ e-7 ┆ e-7 ┆ e-7 ┆ e-7 ┆ e-7 ┆ e-7 ┆ e-7 ┆ e-7 ┆ e-7 ┆ e-7 │\n",
       "│ 20  ┆ 5   ┆ 9   ┆ 4   ┆ 1   ┆ 1   ┆ 9   ┆ 3   ┆ 8   ┆ 6   ┆ 3   ┆ 8   ┆ 9   ┆ 2   ┆ 2   ┆ 3   ┆ 6   ┆ 1   ┆ 4   ┆ 3   ┆ 3   ┆ 7   ┆     ┆ 5   ┆ 9   ┆ 4   ┆ 8   ┆ 5   ┆ 2   ┆ 7   ┆ 5   ┆     ┆     ┆ 6   ┆ 1   ┆ 4   ┆ 8   ┆ 9   ┆ 3   ┆ 8   ┆ 7   ┆     ┆ 7   ┆ 4   ┆ 3   ┆ 2   ┆ 4   ┆ 2   ┆ 8   ┆ 2   ┆ 9   ┆ 1   ┆ 4   ┆ 8   ┆ 2   ┆ 3   ┆ 9   ┆ 6   ┆ 7   ┆ 6   ┆ 8   ┆     ┆     ┆     ┆     ┆     ┆     ┆     ┆     ┆     ┆     ┆     ┆     ┆     ┆     ┆     ┆     ┆     ┆     ┆     ┆     ┆     ┆     ┆     ┆     ┆     ┆     ┆     ┆     ┆     ┆     ┆     ┆     ┆     ┆     ┆     ┆     ┆     ┆     ┆     ┆     ┆     ┆     ┆     ┆     ┆     ┆     ┆     ┆     ┆     ┆     ┆     ┆     ┆     ┆     ┆     ┆     ┆     ┆     ┆     ┆     ┆ 7   ┆ 8   ┆ 8   ┆ 8   ┆ 8   ┆ 8   ┆ 8   ┆ 8   ┆ 8   ┆ 8   ┆ 8   ┆ 9   ┆ 4   ┆ 7   ┆ 4   ┆     ┆     ┆     ┆     ┆     ┆ 3   ┆ 8   ┆ 4   ┆ 0   ┆ 7   ┆ 2   ┆ 7   ┆ 3   ┆ 9   ┆ 4   ┆ 1   ┆     ┆     ┆     ┆     ┆     ┆     ┆     ┆     ┆     ┆     ┆     ┆     ┆     ┆     ┆     ┆     ┆     ┆     ┆     ┆     ┆     ┆     ┆     ┆     ┆     ┆     ┆     ┆     ┆     ┆ 2   ┆ 2   ┆ 2   ┆ 2   ┆ 2   ┆ 2   ┆ 2   ┆ 2   ┆ 2   ┆ 2   ┆ 3   ┆ 3   ┆ 8   ┆ 2   ┆ 2   ┆ 6   ┆ 0   ┆     ┆     ┆     ┆ 0   ┆     ┆     ┆     ┆     ┆     ┆     ┆     ┆     ┆     ┆     ┆     ┆     ┆     ┆     ┆     ┆     ┆     ┆     ┆     ┆     ┆     ┆     ┆     ┆     ┆ 0   ┆     ┆     ┆     ┆ 1   ┆     ┆     ┆ 2   ┆ 0   ┆ 1   ┆     ┆     ┆     ┆     ┆     ┆     ┆     ┆     ┆     ┆     ┆     ┆     ┆     ┆     ┆     ┆     ┆     ┆     ┆     ┆     ┆     ┆     ┆     ┆     ┆     ┆     ┆     ┆     ┆     ┆     ┆     ┆     ┆     ┆     ┆     ┆     ┆     ┆     ┆     ┆     ┆     ┆     ┆     ┆     ┆     ┆     ┆     ┆     ┆     ┆     ┆     ┆     ┆     ┆     ┆     ┆     ┆     ┆     ┆     ┆     ┆     ┆     ┆     ┆     ┆     ┆     ┆     ┆     ┆     ┆     ┆     ┆     ┆     ┆     ┆     ┆     ┆     ┆     ┆     ┆     ┆     ┆     ┆     ┆     ┆     ┆ 7   ┆     ┆     ┆     ┆     ┆     ┆     ┆     ┆ 6   ┆ 4   ┆ 5   ┆     ┆     ┆     ┆     ┆     ┆     ┆     ┆     ┆     ┆     ┆     ┆     ┆     ┆     ┆     ┆     ┆     ┆     ┆     ┆     ┆     ┆     ┆     ┆     ┆     ┆     ┆     ┆     ┆     ┆ 292 ┆ 6   ┆     ┆     ┆     ┆     ┆     ┆     ┆     ┆     ┆     ┆ 5   ┆     ┆     ┆     ┆     ┆     ┆     ┆     ┆     ┆     ┆     ┆     ┆     ┆     ┆     ┆     ┆     ┆     ┆     ┆     ┆     ┆     ┆     ┆     ┆     ┆     ┆     ┆     ┆     ┆     ┆     ┆     ┆     ┆     ┆     ┆     ┆     ┆     ┆     ┆     ┆     ┆     ┆     ┆     ┆     ┆     ┆     ┆     ┆     ┆     ┆     ┆     ┆     ┆     ┆     ┆     ┆     ┆     ┆     ┆     ┆     ┆     ┆     ┆     ┆     ┆     ┆     ┆     ┆     ┆     ┆     ┆     ┆     ┆     ┆     ┆     ┆     ┆     ┆     ┆     ┆     ┆     ┆     ┆     ┆     ┆     ┆     ┆     ┆     ┆     ┆     ┆     ┆     ┆     ┆     ┆     ┆     ┆     ┆     ┆     ┆     ┆     ┆     ┆     ┆     ┆     ┆     ┆     ┆     ┆     ┆     ┆     ┆     ┆     ┆     ┆     ┆     ┆     ┆     ┆     ┆     ┆     ┆     ┆     ┆     ┆     ┆     ┆     ┆     ┆     ┆     ┆     ┆     ┆     ┆     ┆     ┆     ┆     ┆     ┆     ┆     ┆     ┆     ┆     ┆     ┆     ┆     ┆     ┆     ┆     ┆     ┆     ┆     ┆     ┆     ┆     ┆     ┆     ┆     ┆     ┆     ┆     ┆     ┆     ┆     ┆     ┆     ┆     ┆     ┆     ┆     ┆     ┆     ┆     ┆     ┆     ┆     ┆     ┆     ┆     ┆     ┆     ┆     ┆     ┆     │\n",
       "│     ┆     ┆     ┆     ┆     ┆     ┆     ┆     ┆     ┆     ┆     ┆     ┆     ┆     ┆     ┆     ┆     ┆     ┆     ┆     ┆     ┆     ┆     ┆     ┆     ┆     ┆     ┆     ┆     ┆     ┆     ┆     ┆     ┆     ┆     ┆     ┆     ┆     ┆     ┆     ┆     ┆     ┆     ┆     ┆     ┆     ┆     ┆     ┆     ┆     ┆     ┆     ┆     ┆     ┆     ┆     ┆     ┆     ┆     ┆     ┆     ┆     ┆     ┆     ┆     ┆     ┆     ┆     ┆     ┆     ┆     ┆     ┆     ┆     ┆     ┆     ┆     ┆     ┆     ┆     ┆     ┆     ┆     ┆     ┆     ┆     ┆     ┆     ┆     ┆     ┆     ┆     ┆     ┆     ┆     ┆     ┆     ┆     ┆     ┆     ┆     ┆     ┆     ┆     ┆     ┆     ┆     ┆     ┆     ┆     ┆     ┆     ┆     ┆     ┆     ┆     ┆     ┆     ┆     ┆     ┆     ┆     ┆     ┆     ┆     ┆     ┆     ┆     ┆     ┆     ┆     ┆     ┆     ┆     ┆     ┆     ┆     ┆     ┆     ┆     ┆     ┆     ┆     ┆     ┆     ┆     ┆     ┆     ┆     ┆     ┆     ┆     ┆     ┆     ┆     ┆     ┆     ┆     ┆     ┆     ┆     ┆     ┆     ┆     ┆     ┆     ┆     ┆     ┆     ┆     ┆     ┆     ┆     ┆     ┆     ┆     ┆     ┆     ┆     ┆     ┆     ┆     ┆     ┆     ┆     ┆     ┆     ┆     ┆     ┆     ┆     ┆     ┆     ┆     ┆     ┆     ┆     ┆     ┆     ┆     ┆     ┆     ┆     ┆     ┆     ┆     ┆     ┆     ┆     ┆     ┆     ┆     ┆     ┆     ┆     ┆     ┆     ┆     ┆     ┆     ┆     ┆     ┆     ┆     ┆     ┆     ┆     ┆     ┆     ┆     ┆     ┆     ┆     ┆     ┆     ┆     ┆     ┆     ┆     ┆     ┆     ┆     ┆     ┆     ┆     ┆     ┆     ┆     ┆     ┆     ┆     ┆     ┆     ┆     ┆     ┆     ┆     ┆     ┆     ┆     ┆     ┆     ┆     ┆     ┆     ┆     ┆     ┆     ┆     ┆     ┆     ┆     ┆     ┆     ┆     ┆     ┆     ┆     ┆     ┆     ┆     ┆     ┆     ┆     ┆     ┆     ┆     ┆     ┆     ┆     ┆     ┆     ┆     ┆     ┆     ┆     ┆     ┆     ┆     ┆     ┆     ┆     ┆     ┆     ┆     ┆     ┆     ┆     ┆     ┆     ┆     ┆     ┆     ┆     ┆     ┆     ┆     ┆     ┆     ┆     ┆     ┆     ┆     ┆     ┆     ┆     ┆     ┆     ┆     ┆     ┆     ┆     ┆     ┆     ┆     ┆     ┆     ┆     ┆     ┆     ┆     ┆     ┆     ┆     ┆     ┆     ┆     ┆     ┆     ┆     ┆     ┆     ┆     ┆     ┆     ┆     ┆     ┆     ┆     ┆     ┆     ┆ 1   ┆     ┆     ┆     ┆     ┆     ┆     ┆     ┆     ┆     ┆     ┆     ┆     ┆     ┆     ┆     ┆     ┆     ┆     ┆     ┆     ┆     ┆     ┆     ┆     ┆     ┆     ┆     ┆     ┆     ┆     ┆     ┆     ┆     ┆     ┆     ┆     ┆     ┆     ┆     ┆     ┆     ┆     ┆     ┆     ┆     ┆     ┆     ┆     ┆     ┆     ┆     ┆     ┆     ┆     ┆     ┆     ┆     ┆     ┆     ┆     ┆     ┆     ┆     ┆     ┆     ┆     ┆     ┆     ┆     ┆     ┆     ┆     ┆     ┆     ┆     ┆     ┆     ┆     ┆     ┆     ┆     ┆     ┆     ┆     ┆     ┆     ┆     ┆     ┆     ┆     ┆     ┆     ┆     ┆     ┆     ┆     ┆     ┆     ┆     ┆     ┆     ┆     ┆     ┆     ┆     ┆     ┆     ┆     ┆     ┆     ┆     ┆     ┆     ┆     ┆     ┆     ┆     ┆     ┆     ┆     ┆     ┆     ┆     ┆     ┆     ┆     ┆     ┆     ┆     ┆     ┆     ┆     ┆     ┆     ┆     ┆     ┆     ┆     ┆     ┆     ┆     ┆     ┆     ┆     ┆     ┆     ┆     ┆     ┆     ┆     ┆     ┆     ┆     ┆     ┆     ┆     ┆     ┆     ┆     ┆     ┆     ┆     ┆     ┆     ┆     ┆     ┆     ┆     ┆     ┆     ┆     ┆     ┆     ┆     ┆     ┆     ┆     ┆     ┆     ┆     ┆     ┆     ┆     ┆     ┆     ┆     ┆     ┆     ┆     ┆     ┆     ┆     ┆     ┆     ┆     │\n",
       "│ tes ┆ 215 ┆ 229 ┆ 237 ┆ 246 ┆ 259 ┆ 260 ┆ 258 ┆ 253 ┆ 238 ┆ 228 ┆ 223 ┆ 220 ┆ 216 ┆ 210 ┆ 203 ┆ 194 ┆ 188 ┆ 184 ┆ 186 ┆ 191 ┆ 198 ┆ 204 ┆ 209 ┆ 215 ┆ 222 ┆ 228 ┆ 234 ┆ 239 ┆ 244 ┆ 248 ┆ 251 ┆ 254 ┆ 257 ┆ 261 ┆ 263 ┆ 266 ┆ 270 ┆ 273 ┆ 276 ┆ 279 ┆ 281 ┆ 282 ┆ 282 ┆ 283 ┆ 284 ┆ 285 ┆ 286 ┆ 287 ┆ 288 ┆ 289 ┆ 290 ┆ 291 ┆ 292 ┆ 292 ┆ 293 ┆ 294 ┆ 295 ┆ 296 ┆ 297 ┆ 298 ┆ 0.0 ┆ 0.0 ┆ 0.0 ┆ 0.0 ┆ 0.0 ┆ 0.0 ┆ 0.0 ┆ 0.0 ┆ 0.0 ┆ 0.0 ┆ 0.0 ┆ 0.0 ┆ 0.0 ┆ 0.0 ┆ 0.0 ┆ 0.0 ┆ 8.4 ┆ 8.2 ┆ 8.5 ┆ 0.0 ┆ 0.0 ┆ 0.0 ┆ 0.0 ┆ 0.0 ┆ 0.0 ┆ 0.0 ┆ 0.0 ┆ 0.0 ┆ 0.0 ┆ 0.0 ┆ 0.0 ┆ 0.0 ┆ 0.0 ┆ 0.0 ┆ 0.0 ┆ 0.0 ┆ 0.0 ┆ 0.0 ┆ 0.0 ┆ 0.0 ┆ 0.0 ┆ 0.0 ┆ 0.0 ┆ 0.0 ┆ 0.0 ┆ 0.0 ┆ 0.0 ┆ 0.0 ┆ 0.0 ┆ 0.0 ┆ 0.0 ┆ 0.0 ┆ 0.0 ┆ 0.0 ┆ 0.0 ┆ 0.0 ┆ 0.0 ┆ 0.0 ┆ 0.0 ┆ 0.0 ┆ 1.0 ┆ 9.5 ┆ 8.4 ┆ 7.8 ┆ 6.7 ┆ 5.3 ┆ 4.2 ┆ 3.2 ┆ 1.7 ┆ 4.7 ┆ 1.2 ┆ 5.4 ┆ 9.5 ┆ 1.8 ┆ 4.0 ┆ 0.0 ┆ 0.0 ┆ 0.0 ┆ 0.0 ┆ 0.0 ┆ 0.0 ┆ 1.2 ┆ 2.4 ┆ 2.7 ┆ 1.6 ┆ 4.6 ┆ 1.5 ┆ 3.3 ┆ 6.6 ┆ 6.7 ┆ 3.6 ┆ 2.8 ┆ 5.0 ┆ 2.7 ┆ 1.3 ┆ 3.3 ┆ 0.0 ┆ 0.0 ┆ 0.0 ┆ 0.0 ┆ 0.0 ┆ 2.9 ┆ 0.0 ┆ 0.0 ┆ 0.0 ┆ 0.0 ┆ 0.0 ┆ 0.0 ┆ 0.0 ┆ 0.0 ┆ 0.0 ┆ 0.0 ┆ 0.0 ┆ 0.0 ┆ 0.0 ┆ 0.0 ┆ 0.0 ┆ 5.9 ┆ 2.8 ┆ 8.3 ┆ 6.1 ┆ 6.5 ┆ 7.6 ┆ 9.8 ┆ 8.5 ┆ 9.6 ┆ 7.4 ┆ 6.0 ┆ 3.9 ┆ 1.9 ┆ 9.4 ┆ 1.3 ┆ 6.3 ┆ 1.0 ┆ 1.6 ┆ 1.9 ┆ 1.1 ┆ 2.2 ┆ 7.3 ┆ 1.3 ┆ 6.2 ┆ 1.2 ┆ 3.5 ┆ 0.0 ┆ 0.0 ┆ 0.0 ┆ 0.0 ┆ 0.0 ┆ 0.0 ┆ 0.0 ┆ 0.0 ┆ 0.0 ┆ 6.0 ┆ 8.9 ┆ 1.5 ┆ 4.6 ┆ 2.5 ┆ 0.0 ┆ 0.0 ┆ 0.0 ┆ 0.0 ┆ 0.0 ┆ 0.0 ┆ 0.0 ┆ 0.0 ┆ 0.0 ┆ 0.0 ┆ 0.0 ┆ 0.0 ┆ 0.0 ┆ 0.0 ┆ 0.0 ┆ 4.1 ┆ 0.0 ┆ 0.0 ┆ 0.0 ┆ 7.4 ┆ 1.3 ┆ 2.2 ┆ 0.0 ┆ 20. ┆ 11. ┆ -1. ┆ -11 ┆ 0.5 ┆ -13 ┆ -0. ┆ -6. ┆ -11 ┆ -7. ┆ -3. ┆ 2.1 ┆ -0. ┆ -3. ┆ -5. ┆ -2. ┆ 9.4 ┆ 16. ┆ 20. ┆ 24. ┆ 28. ┆ 29. ┆ 29. ┆ 30. ┆ 30. ┆ 30. ┆ 29. ┆ 26. ┆ 24. ┆ 21. ┆ 20. ┆ 18. ┆ 17. ┆ 15. ┆ 12. ┆ 9.7 ┆ 7.3 ┆ 5.0 ┆ 2.4 ┆ -0. ┆ -3. ┆ -6. ┆ -9. ┆ -11 ┆ -11 ┆ -10 ┆ -9. ┆ -8. ┆ -8. ┆ -7. ┆ -6. ┆ -6. ┆ -5. ┆ -5. ┆ -4. ┆ -4. ┆ -3. ┆ -3. ┆ -2. ┆ -2. ┆ -1. ┆ -16 ┆ -2. ┆ 11. ┆ 1.0 ┆ 0.5 ┆ -4. ┆ -0. ┆ 0.2 ┆ -0. ┆ 1.8 ┆ 0.9 ┆ 0.3 ┆ -0. ┆ -1. ┆ -0. ┆ 3.0 ┆ -1. ┆ -11 ┆ -17 ┆ -20 ┆ -16 ┆ -11 ┆ -11 ┆ -13 ┆ -14 ┆ -15 ┆ -15 ┆ -14 ┆ -11 ┆ -9. ┆ -6. ┆ -4. ┆ -2. ┆ -0. ┆ 1.1 ┆ 1.8 ┆ 1.8 ┆ 1.7 ┆ 1.6 ┆ 1.4 ┆ 1.2 ┆ 1.2 ┆ 1.0 ┆ 0.6 ┆ 0.2 ┆ -0. ┆ -0. ┆ -1. ┆ -1. ┆ -1. ┆ -1. ┆ -0. ┆ -0. ┆ -0. ┆ -0. ┆ -0. ┆ -0. ┆ -0. ┆ 0.0 ┆ 100 ┆ 854 ┆ 49. ┆ 2.2 ┆ 0.0 ┆ -0. ┆ 0.6 ┆ 0.0 ┆ 0.0 ┆ 0.0 ┆ 0.0 ┆ 457 ┆ 0.0 ┆ 0.0 ┆ 1.0 ┆ 0.0 ┆ 3.0 ┆ 5.5 ┆ 9.9 ┆ 0.0 ┆ 0.0 ┆ 0.0 ┆ 0.0 ┆ 0.0 ┆ 0.0 ┆ 0.0 ┆ 0.0 ┆ 0.0 ┆ 0.0 ┆ 0.0 ┆ 0.0 ┆ 0.0 ┆ 7.3 ┆ 2.5 ┆ 1.2 ┆ 8.6 ┆ 7.2 ┆ 6.3 ┆ 5.6 ┆ 5.1 ┆ 4.9 ┆ 4.8 ┆ 4.7 ┆ 4.7 ┆ 4.8 ┆ 4.9 ┆ 5.1 ┆ 5.2 ┆ 5.4 ┆ 5.5 ┆ 5.6 ┆ 5.7 ┆ 5.8 ┆ 5.7 ┆ 5.7 ┆ 5.6 ┆ 5.4 ┆ 5.2 ┆ 5.0 ┆ 5.0 ┆ 4.9 ┆ 4.8 ┆ 4.8 ┆ 4.7 ┆ 4.7 ┆ 4.7 ┆ 4.7 ┆ 4.7 ┆ 4.6 ┆ 4.6 ┆ 4.6 ┆ 4.5 ┆ 4.5 ┆ 4.5 ┆ 4.5 ┆ 4.5 ┆ 1.8 ┆ 2.1 ┆ 2.4 ┆ 2.7 ┆ 3.1 ┆ 3.6 ┆ 4.0 ┆ 4.5 ┆ 5.0 ┆ 5.5 ┆ 6.0 ┆ 6.5 ┆ 7.0 ┆ 7.5 ┆ 8.0 ┆ 8.5 ┆ 8.9 ┆ 9.4 ┆ 9.8 ┆ 9.9 ┆ 9.9 ┆ 9.9 ┆ 9.9 ┆ 9.9 ┆ 9.9 ┆ 9.9 ┆ 9.9 ┆ 9.9 ┆ 9.9 ┆ 9.9 ┆ 9.9 ┆ 9.9 ┆ 9.9 ┆ 9.9 ┆ 9.9 ┆ 9.9 ┆ 9.9 ┆ 9.9 ┆ 9.9 ┆ 9.9 ┆ 9.9 ┆ 9.9 ┆ 9.9 ┆ 9.9 ┆ 9.9 ┆ 9.9 ┆ 9.9 ┆ 9.9 ┆ 9.9 ┆ 9.9 ┆ 9.9 ┆ 9.9 ┆ 9.9 ┆ 9.9 ┆ 9.9 ┆ 9.9 ┆ 9.9 ┆ 9.9 ┆ 9.9 ┆ 9.9 ┆ 3.8 ┆ 4.7 ┆ 5.8 ┆ 7.2 ┆ 8.7 ┆ 1.0 ┆ 1.2 ┆ 1.5 ┆ 1.7 ┆ 2.0 ┆ 2.3 ┆ 2.6 ┆ 2.9 ┆ 3.2 ┆ 3.5 ┆ 3.8 ┆ 4.1 ┆ 4.4 ┆ 4.7 ┆ 4.9 ┆ 4.9 ┆ 4.9 ┆ 4.9 ┆ 4.9 ┆ 4.9 ┆ 4.9 ┆ 4.9 ┆ 4.9 ┆ 4.9 ┆ 4.9 ┆ 4.9 ┆ 4.9 ┆ 4.9 ┆ 4.9 ┆ 4.9 ┆ 4.9 ┆ 4.9 ┆ 4.9 ┆ 4.9 ┆ 4.9 ┆ 4.9 ┆ 4.9 ┆ 4.9 ┆ 4.9 ┆ 4.9 ┆ 4.9 ┆ 4.9 ┆ 4.9 ┆ 4.9 ┆ 4.9 ┆ 4.9 ┆ 4.9 ┆ 4.9 ┆ 4.9 ┆ 4.9 ┆ 4.9 ┆ 4.9 ┆ 4.9 ┆ 4.9 ┆ 4.9 │\n",
       "│ t_3 ┆ .41 ┆ .13 ┆ .97 ┆ .21 ┆ .18 ┆ .83 ┆ .33 ┆ .23 ┆ .78 ┆ .37 ┆ .06 ┆ .78 ┆ .49 ┆ .73 ┆ .95 ┆ .71 ┆ .66 ┆ .44 ┆ .86 ┆ .69 ┆ .85 ┆ .82 ┆ .95 ┆ .45 ┆ .53 ┆ .90 ┆ .61 ┆ .63 ┆ .02 ┆ .02 ┆ .40 ┆ .36 ┆ .64 ┆ .00 ┆ .93 ┆ .80 ┆ .14 ┆ .53 ┆ .59 ┆ .32 ┆ .59 ┆ .52 ┆ .73 ┆ .41 ┆ .32 ┆ .38 ┆ .56 ┆ .78 ┆ .78 ┆ .61 ┆ .44 ┆ .25 ┆ .03 ┆ .83 ┆ .70 ┆ .59 ┆ .36 ┆ .33 ┆ .44 ┆ .65 ┆ 000 ┆ 000 ┆ 000 ┆ 000 ┆ 000 ┆ 000 ┆ 000 ┆ 000 ┆ 000 ┆ 000 ┆ 000 ┆ 000 ┆ 000 ┆ 000 ┆ 000 ┆ 000 ┆ 727 ┆ 581 ┆ 970 ┆ 000 ┆ 000 ┆ 000 ┆ 000 ┆ 000 ┆ 000 ┆ 001 ┆ 002 ┆ 004 ┆ 007 ┆ 009 ┆ 013 ┆ 015 ┆ 017 ┆ 018 ┆ 019 ┆ 019 ┆ 017 ┆ 015 ┆ 014 ┆ 014 ┆ 015 ┆ 024 ┆ 055 ┆ 076 ┆ 092 ┆ 103 ┆ 111 ┆ 115 ┆ 119 ┆ 125 ┆ 130 ┆ 135 ┆ 140 ┆ 146 ┆ 150 ┆ 154 ┆ 162 ┆ 167 ┆ 170 ┆ 170 ┆ 195 ┆ 385 ┆ 813 ┆ 176 ┆ 270 ┆ 512 ┆ 916 ┆ 226 ┆ 679 ┆ 905 ┆ 387 ┆ 993 ┆ 386 ┆ 132 ┆ 479 ┆     ┆     ┆     ┆     ┆     ┆     ┆ 306 ┆ 816 ┆ 617 ┆ 750 ┆ 384 ┆ 931 ┆ 353 ┆ 828 ┆ 236 ┆ 194 ┆ 905 ┆ 545 ┆ 186 ┆ 351 ┆ 022 ┆     ┆     ┆     ┆     ┆     ┆ 953 ┆ 000 ┆ 000 ┆ 000 ┆ 000 ┆ 000 ┆ 000 ┆ 000 ┆ 000 ┆ 000 ┆ 000 ┆ 000 ┆ 000 ┆ 000 ┆ 000 ┆ 000 ┆ 203 ┆ 390 ┆ 071 ┆ 567 ┆ 463 ┆ 386 ┆ 801 ┆ 007 ┆ 855 ┆ 884 ┆ 782 ┆ 052 ┆ 818 ┆ 869 ┆ 513 ┆ 659 ┆ 206 ┆ 182 ┆ 016 ┆ 009 ┆ 732 ┆ 264 ┆ 369 ┆ 237 ┆ 517 ┆ 348 ┆ 000 ┆ 000 ┆ 000 ┆ 000 ┆ 000 ┆ 000 ┆ 000 ┆ 000 ┆ 000 ┆ 101 ┆ 458 ┆ 849 ┆ 950 ┆ 531 ┆     ┆     ┆     ┆     ┆     ┆     ┆     ┆     ┆     ┆     ┆     ┆     ┆     ┆     ┆     ┆ 408 ┆     ┆     ┆     ┆ 422 ┆ 707 ┆ 438 ┆     ┆ 524 ┆ 802 ┆ 470 ┆ .65 ┆ 279 ┆ .06 ┆ 530 ┆ 100 ┆ .25 ┆ 793 ┆ 578 ┆ 557 ┆ 065 ┆ 212 ┆ 278 ┆ 017 ┆ 590 ┆ 106 ┆ 314 ┆ 469 ┆ 051 ┆ 734 ┆ 425 ┆ 037 ┆ 483 ┆ 392 ┆ 191 ┆ 628 ┆ 036 ┆ 964 ┆ 169 ┆ 769 ┆ 378 ┆ 586 ┆ 791 ┆ 593 ┆ 303 ┆ 999 ┆ 627 ┆ 475 ┆ 580 ┆ 801 ┆ 821 ┆ .13 ┆ .23 ┆ .84 ┆ 942 ┆ 949 ┆ 185 ┆ 528 ┆ 958 ┆ 406 ┆ 896 ┆ 402 ┆ 908 ┆ 420 ┆ 736 ┆ 195 ┆ 809 ┆ 640 ┆ 339 ┆ .64 ┆ 232 ┆ 885 ┆ 244 ┆ 788 ┆ 366 ┆ 900 ┆ 913 ┆ 477 ┆ 085 ┆ 618 ┆ 699 ┆ 326 ┆ 623 ┆ 154 ┆ 376 ┆ 834 ┆ .39 ┆ .25 ┆ .44 ┆ .96 ┆ .80 ┆ .61 ┆ .26 ┆ .39 ┆ .26 ┆ .22 ┆ .02 ┆ .76 ┆ 361 ┆ 713 ┆ 097 ┆ 069 ┆ 301 ┆ 867 ┆ 407 ┆ 725 ┆ 443 ┆ 268 ┆ 520 ┆ 803 ┆ 355 ┆ 097 ┆ 511 ┆ 341 ┆ 276 ┆ 767 ┆ 052 ┆ 148 ┆ 168 ┆ 085 ┆ 953 ┆ 782 ┆ 562 ┆ 399 ┆ 240 ┆ 113 ┆ 029 ┆ 053 ┆ 671 ┆ .94 ┆ 095 ┆ 665 ┆ 114 ┆ 000 ┆ 076 ┆ 6   ┆ 542 ┆ 6   ┆ 542 ┆ .90 ┆     ┆     ┆     ┆     ┆ 920 ┆ 688 ┆ 815 ┆ 000 ┆ 000 ┆ 000 ┆ 000 ┆ 000 ┆ 000 ┆ 000 ┆ 000 ┆ 000 ┆ 000 ┆ 000 ┆ 000 ┆ 000 ┆ 905 ┆ 238 ┆ 105 ┆ 844 ┆ 369 ┆ 178 ┆ 360 ┆ 582 ┆ 421 ┆ 068 ┆ 286 ┆ 727 ┆ 320 ┆ 717 ┆ 208 ┆ 622 ┆ 034 ┆ 389 ┆ 554 ┆ 748 ┆ 021 ┆ 819 ┆ 618 ┆ 221 ┆ 234 ┆ 337 ┆ 674 ┆ 012 ┆ 384 ┆ 787 ┆ 249 ┆ 991 ┆ 749 ┆ 523 ┆ 311 ┆ 032 ┆ 711 ┆ 398 ┆ 090 ┆ 797 ┆ 562 ┆ 324 ┆ 140 ┆ 077 ┆ 501 ┆ 249 ┆ 376 ┆ 904 ┆ 833 ┆ 133 ┆ 745 ┆ 583 ┆ 557 ┆ 586 ┆ 617 ┆ 625 ┆ 597 ┆ 522 ┆ 373 ┆ 110 ┆ 688 ┆ 077 ┆ 265 ┆ 861 ┆ 861 ┆ 861 ┆ 861 ┆ 861 ┆ 861 ┆ 861 ┆ 861 ┆ 861 ┆ 861 ┆ 861 ┆ 861 ┆ 861 ┆ 861 ┆ 861 ┆ 861 ┆ 861 ┆ 861 ┆ 861 ┆ 861 ┆ 861 ┆ 861 ┆ 861 ┆ 861 ┆ 861 ┆ 861 ┆ 861 ┆ 861 ┆ 861 ┆ 861 ┆ 861 ┆ 861 ┆ 861 ┆ 861 ┆ 861 ┆ 861 ┆ 861 ┆ 861 ┆ 861 ┆ 861 ┆ 861 ┆ 830 ┆ 824 ┆ 800 ┆ 065 ┆ 863 ┆ 632 ┆ 738 ┆ 081 ┆ 625 ┆ 328 ┆ 159 ┆ 097 ┆ 129 ┆ 240 ┆ 406 ┆ 592 ┆ 759 ┆ 871 ┆ 911 ┆ 086 ┆ 086 ┆ 086 ┆ 086 ┆ 086 ┆ 086 ┆ 086 ┆ 086 ┆ 086 ┆ 086 ┆ 086 ┆ 086 ┆ 086 ┆ 086 ┆ 086 ┆ 086 ┆ 086 ┆ 086 ┆ 086 ┆ 086 ┆ 086 ┆ 086 ┆ 086 ┆ 086 ┆ 086 ┆ 086 ┆ 086 ┆ 086 ┆ 086 ┆ 086 ┆ 086 ┆ 086 ┆ 086 ┆ 086 ┆ 086 ┆ 086 ┆ 086 ┆ 086 ┆ 086 ┆ 086 ┆ 086 │\n",
       "│ 956 ┆ 788 ┆ 775 ┆ 374 ┆ 847 ┆ 907 ┆ 965 ┆ 356 ┆ 163 ┆ 810 ┆ 941 ┆ 990 ┆ 734 ┆ 970 ┆ 083 ┆ 377 ┆ 866 ┆ 637 ┆ 918 ┆ 506 ┆ 884 ┆ 162 ┆ 850 ┆ 030 ┆ 647 ┆ 356 ┆ 614 ┆ 255 ┆ 828 ┆ 186 ┆ 330 ┆ 232 ┆ 898 ┆ 614 ┆ 244 ┆ 14  ┆ 131 ┆ 145 ┆ 537 ┆ 370 ┆ 713 ┆ 78  ┆ 806 ┆ 489 ┆ 881 ┆ 042 ┆ 680 ┆ 887 ┆ 451 ┆ 168 ┆ 291 ┆ 995 ┆ 550 ┆ 860 ┆ 850 ┆ 928 ┆ 754 ┆ 828 ┆ 505 ┆ 006 ┆ 093 ┆ 02  ┆ 02  ┆ 02  ┆ 02  ┆ 02  ┆ 02  ┆ 02  ┆ 02  ┆ 02  ┆ 02  ┆ 02  ┆ 02  ┆ 02  ┆ 02  ┆ 02  ┆ 01  ┆ e-7 ┆ e-7 ┆ e-7 ┆ 02  ┆ 04  ┆ 05  ┆ 11  ┆ 41  ┆ 88  ┆ 53  ┆ 77  ┆ 99  ┆ 45  ┆ 97  ┆ 12  ┆ 84  ┆ 26  ┆ 56  ┆ 3   ┆ 1   ┆ 77  ┆ 88  ┆ 56  ┆ 28  ┆ 44  ┆ 32  ┆ 59  ┆ 83  ┆ 52  ┆ 12  ┆ 17  ┆ 51  ┆ 78  ┆ 44  ┆ 48  ┆ 56  ┆ 97  ┆ 05  ┆ 51  ┆ 57  ┆ 14  ┆ 36  ┆ 14  ┆ 99  ┆ e-3 ┆ e-3 ┆ e-3 ┆ e-3 ┆ e-3 ┆ e-3 ┆ e-3 ┆ e-3 ┆ e-3 ┆ e-3 ┆ e-3 ┆ e-4 ┆ e-4 ┆ e-4 ┆ e-5 ┆     ┆     ┆     ┆     ┆     ┆     ┆ e-5 ┆ e-4 ┆ e-3 ┆ e-3 ┆ e-3 ┆ e-2 ┆ e-2 ┆ e-1 ┆ e-1 ┆ e-1 ┆ e-8 ┆ e-8 ┆ e-8 ┆ e-8 ┆ e-9 ┆     ┆     ┆     ┆     ┆     ┆ e-7 ┆ 2   ┆ 09  ┆ 16  ┆ 08  ┆ 2   ┆ 13  ┆ 1   ┆ 08  ┆ 11  ┆ 08  ┆ 11  ┆ 17  ┆ 14  ┆ 06  ┆ 02  ┆ e-8 ┆ e-9 ┆ e-9 ┆ e-1 ┆ e-1 ┆ e-1 ┆ e-1 ┆ e-1 ┆ e-1 ┆ e-1 ┆ e-1 ┆ e-1 ┆ e-1 ┆ e-1 ┆ e-1 ┆ e-1 ┆ e-2 ┆ e-2 ┆ e-1 ┆ e-1 ┆ e-9 ┆ e-9 ┆ e-8 ┆ e-1 ┆ e-9 ┆ e-8 ┆ 07  ┆ 16  ┆ 18  ┆ 17  ┆ 19  ┆ 2   ┆ 16  ┆ 04  ┆ 02  ┆ e-7 ┆ e-8 ┆ e-8 ┆ e-9 ┆ e-1 ┆     ┆     ┆     ┆     ┆     ┆     ┆     ┆     ┆     ┆     ┆     ┆     ┆     ┆     ┆     ┆ e-1 ┆     ┆     ┆     ┆ e-1 ┆ e-1 ┆ e-1 ┆     ┆ 008 ┆ 658 ┆ 289 ┆ 099 ┆ 38  ┆ 830 ┆ 987 ┆ 695 ┆ 407 ┆ 831 ┆ 696 ┆ 02  ┆ 155 ┆ 529 ┆ 644 ┆ 981 ┆ 58  ┆ 525 ┆ 203 ┆ 862 ┆ 703 ┆ 808 ┆ 833 ┆ 842 ┆ 579 ┆ 413 ┆ 96  ┆ 55  ┆ 171 ┆ 985 ┆ 26  ┆ 084 ┆ 007 ┆ 056 ┆ 198 ┆ 07  ┆ 99  ┆ 18  ┆ 69  ┆ 358 ┆ 935 ┆ 777 ┆ 074 ┆ 747 ┆ 459 ┆ 138 ┆ 276 ┆ 552 ┆ 709 ┆ 274 ┆ 012 ┆ 455 ┆ 166 ┆ 691 ┆ 382 ┆ 759 ┆ 797 ┆ 257 ┆ 322 ┆ 99  ┆ 814 ┆ 409 ┆ 021 ┆ 605 ┆ 42  ┆ 48  ┆ 504 ┆ 303 ┆ 13  ┆ 247 ┆ 5   ┆ 09  ┆ 59  ┆ 075 ┆ 963 ┆ 821 ┆ 85  ┆ 551 ┆ 708 ┆ 599 ┆ 733 ┆ 416 ┆ 124 ┆ 175 ┆ 279 ┆ 923 ┆ 294 ┆ 029 ┆ 861 ┆ 185 ┆ 573 ┆ 737 ┆ 246 ┆ 601 ┆ 056 ┆ 39  ┆ 07  ┆ 13  ┆ 03  ┆ 73  ┆ 98  ┆     ┆     ┆ 37  ┆ 34  ┆ 68  ┆ 45  ┆ 151 ┆ 228 ┆ 744 ┆ 753 ┆ 72  ┆ 024 ┆ 604 ┆ 62  ┆ 534 ┆ 04  ┆ 426 ┆ 615 ┆ 54  ┆ .58 ┆ 506 ┆ 183 ┆ 3   ┆ 82  ┆ 041 ┆ 85  ┆     ┆ 07  ┆     ┆ 07  ┆ 763 ┆     ┆     ┆     ┆     ┆ e-7 ┆ e-7 ┆ e-7 ┆ 02  ┆ 03  ┆ 05  ┆ 09  ┆ 14  ┆ 16  ┆ 17  ┆ 16  ┆ 13  ┆ 09  ┆ 06  ┆ 03  ┆ 02  ┆ e-7 ┆ e-7 ┆ e-7 ┆ e-8 ┆ e-8 ┆ e-8 ┆ e-8 ┆ e-8 ┆ e-8 ┆ e-8 ┆ e-8 ┆ e-8 ┆ e-8 ┆ e-8 ┆ e-8 ┆ e-8 ┆ e-8 ┆ e-8 ┆ e-8 ┆ e-8 ┆ e-8 ┆ e-8 ┆ e-8 ┆ e-8 ┆ e-8 ┆ e-8 ┆ e-8 ┆ e-8 ┆ e-8 ┆ e-8 ┆ e-8 ┆ e-8 ┆ e-8 ┆ e-8 ┆ e-8 ┆ e-8 ┆ e-8 ┆ e-8 ┆ e-8 ┆ e-8 ┆ e-8 ┆ e-8 ┆ e-8 ┆ e-8 ┆ e-7 ┆ e-7 ┆ e-7 ┆ e-7 ┆ e-7 ┆ e-7 ┆ e-7 ┆ e-7 ┆ e-7 ┆ e-7 ┆ e-7 ┆ e-7 ┆ e-7 ┆ e-7 ┆ e-7 ┆ e-7 ┆ e-7 ┆ e-7 ┆ e-7 ┆ e-7 ┆ e-7 ┆ e-7 ┆ e-7 ┆ e-7 ┆ e-7 ┆ e-7 ┆ e-7 ┆ e-7 ┆ e-7 ┆ e-7 ┆ e-7 ┆ e-7 ┆ e-7 ┆ e-7 ┆ e-7 ┆ e-7 ┆ e-7 ┆ e-7 ┆ e-7 ┆ e-7 ┆ e-7 ┆ e-7 ┆ e-7 ┆ e-7 ┆ e-7 ┆ e-7 ┆ e-7 ┆ e-7 ┆ e-7 ┆ e-7 ┆ e-7 ┆ e-7 ┆ e-7 ┆ e-7 ┆ e-7 ┆ e-7 ┆ e-7 ┆ e-7 ┆ e-7 ┆ e-7 ┆ e-8 ┆ e-8 ┆ e-8 ┆ e-8 ┆ e-8 ┆ e-7 ┆ e-7 ┆ e-7 ┆ e-7 ┆ e-7 ┆ e-7 ┆ e-7 ┆ e-7 ┆ e-7 ┆ e-7 ┆ e-7 ┆ e-7 ┆ e-7 ┆ e-7 ┆ e-7 ┆ e-7 ┆ e-7 ┆ e-7 ┆ e-7 ┆ e-7 ┆ e-7 ┆ e-7 ┆ e-7 ┆ e-7 ┆ e-7 ┆ e-7 ┆ e-7 ┆ e-7 ┆ e-7 ┆ e-7 ┆ e-7 ┆ e-7 ┆ e-7 ┆ e-7 ┆ e-7 ┆ e-7 ┆ e-7 ┆ e-7 ┆ e-7 ┆ e-7 ┆ e-7 ┆ e-7 ┆ e-7 ┆ e-7 ┆ e-7 ┆ e-7 ┆ e-7 ┆ e-7 ┆ e-7 ┆ e-7 ┆ e-7 ┆ e-7 ┆ e-7 ┆ e-7 ┆ e-7 │\n",
       "│ 95  ┆ 1   ┆ 7   ┆ 5   ┆ 9   ┆ 5   ┆     ┆ 9   ┆ 9   ┆ 1   ┆     ┆ 9   ┆ 9   ┆ 5   ┆ 1   ┆ 6   ┆ 4   ┆ 1   ┆ 4   ┆ 7   ┆ 1   ┆ 8   ┆ 1   ┆ 2   ┆ 5   ┆ 9   ┆ 7   ┆ 2   ┆ 2   ┆ 3   ┆ 2   ┆ 8   ┆ 6   ┆ 4   ┆ 4   ┆     ┆ 6   ┆ 5   ┆ 5   ┆ 5   ┆ 2   ┆     ┆ 4   ┆ 5   ┆ 2   ┆ 8   ┆ 3   ┆ 4   ┆ 2   ┆ 8   ┆ 8   ┆ 5   ┆ 6   ┆ 6   ┆ 3   ┆ 5   ┆ 5   ┆ 7   ┆ 4   ┆ 8   ┆ 3   ┆     ┆     ┆     ┆     ┆     ┆     ┆     ┆     ┆     ┆     ┆     ┆     ┆     ┆     ┆     ┆     ┆     ┆     ┆     ┆     ┆     ┆     ┆     ┆     ┆     ┆     ┆     ┆     ┆     ┆     ┆     ┆     ┆     ┆     ┆     ┆     ┆     ┆     ┆     ┆     ┆     ┆     ┆     ┆     ┆     ┆     ┆     ┆     ┆     ┆     ┆     ┆     ┆     ┆     ┆     ┆     ┆     ┆     ┆     ┆     ┆ 7   ┆ 8   ┆ 8   ┆ 8   ┆ 8   ┆ 8   ┆ 8   ┆ 8   ┆ 8   ┆ 9   ┆ 9   ┆ 0   ┆ 5   ┆ 8   ┆ 4   ┆     ┆     ┆     ┆     ┆     ┆     ┆ 0   ┆ 5   ┆ 9   ┆ 5   ┆ 1   ┆ 6   ┆ 2   ┆ 8   ┆ 4   ┆ 0   ┆     ┆     ┆     ┆     ┆     ┆     ┆     ┆     ┆     ┆     ┆     ┆     ┆     ┆     ┆     ┆     ┆     ┆     ┆     ┆     ┆     ┆     ┆     ┆     ┆     ┆     ┆     ┆     ┆     ┆ 2   ┆ 2   ┆ 2   ┆ 2   ┆ 2   ┆ 2   ┆ 2   ┆ 2   ┆ 2   ┆ 2   ┆ 3   ┆ 3   ┆ 9   ┆ 2   ┆ 7   ┆ 7   ┆ 1   ┆     ┆     ┆     ┆ 0   ┆     ┆     ┆     ┆     ┆     ┆     ┆     ┆     ┆     ┆     ┆     ┆     ┆     ┆     ┆     ┆ 0   ┆     ┆     ┆     ┆     ┆     ┆     ┆     ┆     ┆     ┆     ┆     ┆     ┆     ┆     ┆     ┆ 2   ┆     ┆     ┆     ┆ 4   ┆ 3   ┆ 3   ┆     ┆     ┆     ┆     ┆ 1   ┆     ┆ 8   ┆     ┆     ┆ 7   ┆     ┆     ┆     ┆     ┆     ┆     ┆     ┆     ┆     ┆     ┆     ┆     ┆     ┆     ┆     ┆     ┆     ┆     ┆     ┆     ┆     ┆     ┆     ┆     ┆     ┆     ┆     ┆     ┆     ┆     ┆     ┆     ┆     ┆     ┆ 5   ┆ 1   ┆ 4   ┆     ┆     ┆     ┆     ┆     ┆     ┆     ┆     ┆     ┆     ┆     ┆     ┆     ┆     ┆     ┆ 6   ┆     ┆     ┆     ┆     ┆     ┆     ┆     ┆     ┆     ┆     ┆     ┆     ┆     ┆     ┆     ┆     ┆ 5   ┆ 7   ┆ 3   ┆ 7   ┆ 5   ┆ 5   ┆ 7   ┆ 5   ┆ 5   ┆ 7   ┆ 7   ┆     ┆     ┆     ┆     ┆     ┆     ┆     ┆     ┆     ┆     ┆     ┆     ┆     ┆     ┆     ┆     ┆     ┆     ┆     ┆     ┆     ┆     ┆     ┆     ┆     ┆     ┆     ┆     ┆     ┆     ┆     ┆ 323 ┆     ┆     ┆     ┆     ┆     ┆     ┆     ┆     ┆     ┆     ┆ 6   ┆     ┆     ┆     ┆     ┆     ┆     ┆     ┆     ┆     ┆     ┆     ┆     ┆     ┆     ┆     ┆     ┆     ┆     ┆     ┆     ┆     ┆     ┆     ┆     ┆     ┆     ┆     ┆     ┆     ┆     ┆     ┆     ┆     ┆     ┆     ┆     ┆     ┆     ┆     ┆     ┆     ┆     ┆     ┆     ┆     ┆     ┆     ┆     ┆     ┆     ┆     ┆     ┆     ┆     ┆     ┆     ┆     ┆     ┆     ┆     ┆     ┆     ┆     ┆     ┆     ┆     ┆     ┆     ┆     ┆     ┆     ┆     ┆     ┆     ┆     ┆     ┆     ┆     ┆     ┆     ┆     ┆     ┆     ┆     ┆     ┆     ┆     ┆     ┆     ┆     ┆     ┆     ┆     ┆     ┆     ┆     ┆     ┆     ┆     ┆     ┆     ┆     ┆     ┆     ┆     ┆     ┆     ┆     ┆     ┆     ┆     ┆     ┆     ┆     ┆     ┆     ┆     ┆     ┆     ┆     ┆     ┆     ┆     ┆     ┆     ┆     ┆     ┆     ┆     ┆     ┆     ┆     ┆     ┆     ┆     ┆     ┆     ┆     ┆     ┆     ┆     ┆     ┆     ┆     ┆     ┆     ┆     ┆     ┆     ┆     ┆     ┆     ┆     ┆     ┆     ┆     ┆     ┆     ┆     ┆     ┆     ┆     ┆     ┆     ┆     ┆     ┆     ┆     ┆     ┆     ┆     ┆     ┆     ┆     ┆     ┆     ┆     ┆     ┆     ┆     ┆     ┆     ┆     ┆     │\n",
       "│     ┆     ┆     ┆     ┆     ┆     ┆     ┆     ┆     ┆     ┆     ┆     ┆     ┆     ┆     ┆     ┆     ┆     ┆     ┆     ┆     ┆     ┆     ┆     ┆     ┆     ┆     ┆     ┆     ┆     ┆     ┆     ┆     ┆     ┆     ┆     ┆     ┆     ┆     ┆     ┆     ┆     ┆     ┆     ┆     ┆     ┆     ┆     ┆     ┆     ┆     ┆     ┆     ┆     ┆     ┆     ┆     ┆     ┆     ┆     ┆     ┆     ┆     ┆     ┆     ┆     ┆     ┆     ┆     ┆     ┆     ┆     ┆     ┆     ┆     ┆     ┆     ┆     ┆     ┆     ┆     ┆     ┆     ┆     ┆     ┆     ┆     ┆     ┆     ┆     ┆     ┆     ┆     ┆     ┆     ┆     ┆     ┆     ┆     ┆     ┆     ┆     ┆     ┆     ┆     ┆     ┆     ┆     ┆     ┆     ┆     ┆     ┆     ┆     ┆     ┆     ┆     ┆     ┆     ┆     ┆     ┆     ┆     ┆     ┆     ┆     ┆     ┆     ┆     ┆     ┆     ┆     ┆     ┆     ┆     ┆     ┆     ┆     ┆     ┆     ┆     ┆     ┆     ┆     ┆     ┆     ┆     ┆     ┆     ┆     ┆     ┆     ┆     ┆     ┆     ┆     ┆     ┆     ┆     ┆     ┆     ┆     ┆     ┆     ┆     ┆     ┆     ┆     ┆     ┆     ┆     ┆     ┆     ┆     ┆     ┆     ┆     ┆     ┆     ┆     ┆     ┆     ┆     ┆     ┆     ┆     ┆     ┆     ┆     ┆     ┆     ┆     ┆     ┆     ┆     ┆     ┆     ┆     ┆     ┆     ┆     ┆     ┆     ┆     ┆     ┆     ┆     ┆     ┆     ┆     ┆     ┆     ┆     ┆     ┆     ┆     ┆     ┆     ┆     ┆     ┆     ┆     ┆     ┆     ┆     ┆     ┆     ┆     ┆     ┆     ┆     ┆     ┆     ┆     ┆     ┆     ┆     ┆     ┆     ┆     ┆     ┆     ┆     ┆     ┆     ┆     ┆     ┆     ┆     ┆     ┆     ┆     ┆     ┆     ┆     ┆     ┆     ┆     ┆     ┆     ┆     ┆     ┆     ┆     ┆     ┆     ┆     ┆     ┆     ┆     ┆     ┆     ┆     ┆     ┆     ┆     ┆     ┆     ┆     ┆     ┆     ┆     ┆     ┆     ┆     ┆     ┆     ┆     ┆     ┆     ┆     ┆     ┆     ┆     ┆     ┆     ┆     ┆     ┆     ┆     ┆     ┆     ┆     ┆     ┆     ┆     ┆     ┆     ┆     ┆     ┆     ┆     ┆     ┆     ┆     ┆     ┆     ┆     ┆     ┆     ┆     ┆     ┆     ┆     ┆     ┆     ┆     ┆     ┆     ┆     ┆     ┆     ┆     ┆     ┆     ┆     ┆     ┆     ┆     ┆     ┆     ┆     ┆     ┆     ┆     ┆     ┆     ┆     ┆     ┆     ┆     ┆     ┆     ┆     ┆     ┆     ┆     ┆     ┆     ┆     ┆     ┆ 5   ┆     ┆     ┆     ┆     ┆     ┆     ┆     ┆     ┆     ┆     ┆     ┆     ┆     ┆     ┆     ┆     ┆     ┆     ┆     ┆     ┆     ┆     ┆     ┆     ┆     ┆     ┆     ┆     ┆     ┆     ┆     ┆     ┆     ┆     ┆     ┆     ┆     ┆     ┆     ┆     ┆     ┆     ┆     ┆     ┆     ┆     ┆     ┆     ┆     ┆     ┆     ┆     ┆     ┆     ┆     ┆     ┆     ┆     ┆     ┆     ┆     ┆     ┆     ┆     ┆     ┆     ┆     ┆     ┆     ┆     ┆     ┆     ┆     ┆     ┆     ┆     ┆     ┆     ┆     ┆     ┆     ┆     ┆     ┆     ┆     ┆     ┆     ┆     ┆     ┆     ┆     ┆     ┆     ┆     ┆     ┆     ┆     ┆     ┆     ┆     ┆     ┆     ┆     ┆     ┆     ┆     ┆     ┆     ┆     ┆     ┆     ┆     ┆     ┆     ┆     ┆     ┆     ┆     ┆     ┆     ┆     ┆     ┆     ┆     ┆     ┆     ┆     ┆     ┆     ┆     ┆     ┆     ┆     ┆     ┆     ┆     ┆     ┆     ┆     ┆     ┆     ┆     ┆     ┆     ┆     ┆     ┆     ┆     ┆     ┆     ┆     ┆     ┆     ┆     ┆     ┆     ┆     ┆     ┆     ┆     ┆     ┆     ┆     ┆     ┆     ┆     ┆     ┆     ┆     ┆     ┆     ┆     ┆     ┆     ┆     ┆     ┆     ┆     ┆     ┆     ┆     ┆     ┆     ┆     ┆     ┆     ┆     ┆     ┆     ┆     ┆     ┆     ┆     ┆     ┆     │\n",
       "│ tes ┆ 215 ┆ 232 ┆ 240 ┆ 245 ┆ 259 ┆ 262 ┆ 257 ┆ 250 ┆ 238 ┆ 229 ┆ 224 ┆ 220 ┆ 214 ┆ 209 ┆ 203 ┆ 195 ┆ 190 ┆ 186 ┆ 188 ┆ 191 ┆ 197 ┆ 203 ┆ 209 ┆ 216 ┆ 222 ┆ 228 ┆ 234 ┆ 238 ┆ 243 ┆ 247 ┆ 250 ┆ 253 ┆ 256 ┆ 260 ┆ 263 ┆ 267 ┆ 270 ┆ 273 ┆ 276 ┆ 278 ┆ 280 ┆ 281 ┆ 282 ┆ 283 ┆ 284 ┆ 285 ┆ 286 ┆ 287 ┆ 288 ┆ 289 ┆ 290 ┆ 291 ┆ 291 ┆ 292 ┆ 293 ┆ 294 ┆ 295 ┆ 296 ┆ 297 ┆ 298 ┆ 0.0 ┆ 0.0 ┆ 0.0 ┆ 0.0 ┆ 0.0 ┆ 0.0 ┆ 0.0 ┆ 0.0 ┆ 0.0 ┆ 0.0 ┆ 0.0 ┆ 0.0 ┆ 0.0 ┆ 0.0 ┆ 0.0 ┆ 0.0 ┆ 8.8 ┆ 7.9 ┆ 8.0 ┆ 0.0 ┆ 0.0 ┆ 0.0 ┆ 0.0 ┆ 0.0 ┆ 0.0 ┆ 0.0 ┆ 0.0 ┆ 0.0 ┆ 0.0 ┆ 0.0 ┆ 0.0 ┆ 0.0 ┆ 0.0 ┆ 0.0 ┆ 0.0 ┆ 0.0 ┆ 0.0 ┆ 0.0 ┆ 0.0 ┆ 0.0 ┆ 0.0 ┆ 0.0 ┆ 0.0 ┆ 0.0 ┆ 0.0 ┆ 0.0 ┆ 0.0 ┆ 0.0 ┆ 0.0 ┆ 0.0 ┆ 0.0 ┆ 0.0 ┆ 0.0 ┆ 0.0 ┆ 0.0 ┆ 0.0 ┆ 0.0 ┆ 0.0 ┆ 0.0 ┆ 0.0 ┆ 1.0 ┆ 9.5 ┆ 8.6 ┆ 7.6 ┆ 6.6 ┆ 5.3 ┆ 4.4 ┆ 3.1 ┆ 1.7 ┆ 5.1 ┆ 1.2 ┆ 5.1 ┆ 8.1 ┆ 9.3 ┆ 1.5 ┆ 0.0 ┆ 0.0 ┆ 0.0 ┆ 0.0 ┆ 0.0 ┆ 6.8 ┆ 7.6 ┆ 7.1 ┆ 2.3 ┆ 0.0 ┆ 0.0 ┆ 0.0 ┆ 0.0 ┆ 0.0 ┆ 2.1 ┆ 0.0 ┆ 0.0 ┆ 1.7 ┆ 1.4 ┆ 1.6 ┆ 3.9 ┆ 1.6 ┆ 0.0 ┆ 8.2 ┆ 0.0 ┆ 5.0 ┆ 0.0 ┆ 0.0 ┆ 0.0 ┆ 0.0 ┆ 0.0 ┆ 0.0 ┆ 0.0 ┆ 0.0 ┆ 0.0 ┆ 0.0 ┆ 0.0 ┆ 0.0 ┆ 0.0 ┆ 0.0 ┆ 0.0 ┆ 5.5 ┆ 1.4 ┆ 5.1 ┆ 7.2 ┆ 6.2 ┆ 6.5 ┆ 7.9 ┆ 9.4 ┆ 8.6 ┆ 1.0 ┆ 8.7 ┆ 5.9 ┆ 2.7 ┆ 1.5 ┆ 8.2 ┆ 1.4 ┆ 2.1 ┆ 2.2 ┆ 1.8 ┆ 1.9 ┆ 8.4 ┆ 1.5 ┆ 6.6 ┆ 1.1 ┆ 6.7 ┆ 1.3 ┆ 6.3 ┆ 0.0 ┆ 0.0 ┆ 0.0 ┆ 0.0 ┆ 0.0 ┆ 0.0 ┆ 0.0 ┆ 0.0 ┆ 0.0 ┆ 0.0 ┆ 7.2 ┆ 3.2 ┆ 5.2 ┆ 1.9 ┆ 0.0 ┆ 2.3 ┆ 0.0 ┆ 0.0 ┆ 0.0 ┆ 0.0 ┆ 0.0 ┆ 0.0 ┆ 0.0 ┆ 0.0 ┆ 0.0 ┆ 0.0 ┆ 0.0 ┆ 0.0 ┆ 0.0 ┆ 0.0 ┆ 2.6 ┆ 1.1 ┆ 3.6 ┆ 0.0 ┆ 0.0 ┆ 0.0 ┆ 9.8 ┆ 18. ┆ 17. ┆ -1. ┆ -1. ┆ 2.6 ┆ -14 ┆ -7. ┆ -6. ┆ -8. ┆ -3. ┆ -3. ┆ -2. ┆ -3. ┆ -2. ┆ -3. ┆ -1. ┆ 9.9 ┆ 14. ┆ 14. ┆ 17. ┆ 23. ┆ 28. ┆ 30. ┆ 31. ┆ 31. ┆ 29. ┆ 26. ┆ 22. ┆ 20. ┆ 18. ┆ 17. ┆ 16. ┆ 15. ┆ 13. ┆ 11. ┆ 9.3 ┆ 6.9 ┆ 4.2 ┆ 0.6 ┆ -3. ┆ -7. ┆ -9. ┆ -10 ┆ -10 ┆ -10 ┆ -9. ┆ -8. ┆ -7. ┆ -6. ┆ -5. ┆ -5. ┆ -4. ┆ -4. ┆ -3. ┆ -2. ┆ -2. ┆ -1. ┆ -1. ┆ -1. ┆ -0. ┆ -10 ┆ -6. ┆ 13. ┆ 13. ┆ -0. ┆ -0. ┆ -2. ┆ 1.5 ┆ 1.7 ┆ -1. ┆ -1. ┆ -0. ┆ 0.6 ┆ 0.2 ┆ 0.3 ┆ -1. ┆ 3.0 ┆ 6.7 ┆ -1. ┆ -14 ┆ -22 ┆ -24 ┆ -23 ┆ -21 ┆ -21 ┆ -19 ┆ -16 ┆ -12 ┆ -8. ┆ -5. ┆ -2. ┆ -0. ┆ 2.3 ┆ 3.8 ┆ 4.1 ┆ 3.9 ┆ 3.4 ┆ 3.1 ┆ 2.9 ┆ 2.6 ┆ 2.4 ┆ 1.9 ┆ 1.6 ┆ 1.2 ┆ 0.8 ┆ 0.4 ┆ 0.0 ┆ -0. ┆ -1. ┆ -1. ┆ -1. ┆ -1. ┆ -1. ┆ -1. ┆ -1. ┆ -1. ┆ -1. ┆ -0. ┆ -0. ┆ -0. ┆ 100 ┆ 654 ┆ 34. ┆ 1.6 ┆ 0.0 ┆ 0.0 ┆ 0.4 ┆ 0.0 ┆ 0.0 ┆ 0.0 ┆ 0.0 ┆ 458 ┆ 0.0 ┆ 0.0 ┆ 1.0 ┆ 0.0 ┆ 3.0 ┆ 5.5 ┆ 9.9 ┆ 0.0 ┆ 0.0 ┆ 0.0 ┆ 0.0 ┆ 0.0 ┆ 0.0 ┆ 0.0 ┆ 0.0 ┆ 0.0 ┆ 0.0 ┆ 0.0 ┆ 0.0 ┆ 0.0 ┆ 7.1 ┆ 2.3 ┆ 1.2 ┆ 8.8 ┆ 7.5 ┆ 6.7 ┆ 6.1 ┆ 5.7 ┆ 5.5 ┆ 5.4 ┆ 5.3 ┆ 5.3 ┆ 5.4 ┆ 5.5 ┆ 5.6 ┆ 5.7 ┆ 5.9 ┆ 6.0 ┆ 6.2 ┆ 6.4 ┆ 6.4 ┆ 6.4 ┆ 6.4 ┆ 6.2 ┆ 6.0 ┆ 5.8 ┆ 5.6 ┆ 5.5 ┆ 5.5 ┆ 5.5 ┆ 5.5 ┆ 5.5 ┆ 5.5 ┆ 5.5 ┆ 5.5 ┆ 5.5 ┆ 5.4 ┆ 5.4 ┆ 5.3 ┆ 5.3 ┆ 5.2 ┆ 5.2 ┆ 5.1 ┆ 5.1 ┆ 1.8 ┆ 2.1 ┆ 2.4 ┆ 2.7 ┆ 3.1 ┆ 3.6 ┆ 4.0 ┆ 4.5 ┆ 5.0 ┆ 5.5 ┆ 6.0 ┆ 6.5 ┆ 7.0 ┆ 7.5 ┆ 8.0 ┆ 8.5 ┆ 8.9 ┆ 9.4 ┆ 9.8 ┆ 9.9 ┆ 9.9 ┆ 9.9 ┆ 9.9 ┆ 9.9 ┆ 9.9 ┆ 9.9 ┆ 9.9 ┆ 9.9 ┆ 9.9 ┆ 9.9 ┆ 9.9 ┆ 9.9 ┆ 9.9 ┆ 9.9 ┆ 9.9 ┆ 9.9 ┆ 9.9 ┆ 9.9 ┆ 9.9 ┆ 9.9 ┆ 9.9 ┆ 9.9 ┆ 9.9 ┆ 9.9 ┆ 9.9 ┆ 9.9 ┆ 9.9 ┆ 9.9 ┆ 9.9 ┆ 9.9 ┆ 9.9 ┆ 9.9 ┆ 9.9 ┆ 9.9 ┆ 9.9 ┆ 9.9 ┆ 9.9 ┆ 9.9 ┆ 9.9 ┆ 9.9 ┆ 3.8 ┆ 4.7 ┆ 5.8 ┆ 7.1 ┆ 8.7 ┆ 1.0 ┆ 1.2 ┆ 1.5 ┆ 1.7 ┆ 2.0 ┆ 2.3 ┆ 2.6 ┆ 2.9 ┆ 3.2 ┆ 3.5 ┆ 3.8 ┆ 4.1 ┆ 4.4 ┆ 4.7 ┆ 4.9 ┆ 4.9 ┆ 4.9 ┆ 4.9 ┆ 4.9 ┆ 4.9 ┆ 4.9 ┆ 4.9 ┆ 4.9 ┆ 4.9 ┆ 4.9 ┆ 4.9 ┆ 4.9 ┆ 4.9 ┆ 4.9 ┆ 4.9 ┆ 4.9 ┆ 4.9 ┆ 4.9 ┆ 4.9 ┆ 4.9 ┆ 4.9 ┆ 4.9 ┆ 4.9 ┆ 4.9 ┆ 4.9 ┆ 4.9 ┆ 4.9 ┆ 4.9 ┆ 4.9 ┆ 4.9 ┆ 4.9 ┆ 4.9 ┆ 4.9 ┆ 4.9 ┆ 4.9 ┆ 4.9 ┆ 4.9 ┆ 4.9 ┆ 4.9 ┆ 4.9 │\n",
       "│ t_8 ┆ .13 ┆ .70 ┆ .14 ┆ .66 ┆ .14 ┆ .64 ┆ .05 ┆ .79 ┆ .52 ┆ .84 ┆ .78 ┆ .42 ┆ .78 ┆ .43 ┆ .06 ┆ .09 ┆ .14 ┆ .09 ┆ .00 ┆ .54 ┆ .89 ┆ .69 ┆ .94 ┆ .05 ┆ .50 ┆ .64 ┆ .13 ┆ .98 ┆ .53 ┆ .31 ┆ .69 ┆ .62 ┆ .73 ┆ .46 ┆ .92 ┆ .40 ┆ .66 ┆ .73 ┆ .56 ┆ .75 ┆ .38 ┆ .71 ┆ .32 ┆ .21 ┆ .41 ┆ .80 ┆ .78 ┆ .81 ┆ .81 ┆ .71 ┆ .61 ┆ .31 ┆ .84 ┆ .61 ┆ .39 ┆ .26 ┆ .21 ┆ .28 ┆ .48 ┆ .73 ┆ 000 ┆ 000 ┆ 000 ┆ 000 ┆ 000 ┆ 000 ┆ 000 ┆ 000 ┆ 000 ┆ 000 ┆ 000 ┆ 000 ┆ 000 ┆ 000 ┆ 000 ┆ 000 ┆ 678 ┆ 174 ┆ 687 ┆ 000 ┆ 000 ┆ 000 ┆ 000 ┆ 000 ┆ 000 ┆ 001 ┆ 002 ┆ 004 ┆ 006 ┆ 009 ┆ 012 ┆ 016 ┆ 017 ┆ 017 ┆ 016 ┆ 014 ┆ 013 ┆ 013 ┆ 014 ┆ 020 ┆ 035 ┆ 050 ┆ 073 ┆ 090 ┆ 100 ┆ 108 ┆ 114 ┆ 118 ┆ 123 ┆ 129 ┆ 133 ┆ 137 ┆ 145 ┆ 150 ┆ 155 ┆ 160 ┆ 165 ┆ 168 ┆ 170 ┆ 170 ┆ 149 ┆ 160 ┆ 333 ┆ 879 ┆ 545 ┆ 905 ┆ 734 ┆ 063 ┆ 183 ┆ 117 ┆ 482 ┆ 465 ┆ 227 ┆ 437 ┆ 528 ┆     ┆     ┆     ┆     ┆     ┆ 628 ┆ 737 ┆ 301 ┆ 488 ┆     ┆     ┆     ┆     ┆     ┆ 595 ┆     ┆     ┆ 669 ┆ 851 ┆ 483 ┆ 592 ┆ 248 ┆     ┆ 662 ┆ 000 ┆ 830 ┆ 000 ┆ 000 ┆ 000 ┆ 000 ┆ 000 ┆ 000 ┆ 000 ┆ 000 ┆ 000 ┆ 000 ┆ 000 ┆ 000 ┆ 000 ┆ 000 ┆ 000 ┆ 911 ┆ 527 ┆ 456 ┆ 670 ┆ 296 ┆ 300 ┆ 199 ┆ 948 ┆ 921 ┆ 068 ┆ 134 ┆ 803 ┆ 788 ┆ 869 ┆ 614 ┆ 209 ┆ 172 ┆ 504 ┆ 651 ┆ 827 ┆ 050 ┆ 358 ┆ 995 ┆ 585 ┆ 242 ┆ 722 ┆ 314 ┆ 000 ┆ 000 ┆ 000 ┆ 000 ┆ 000 ┆ 000 ┆ 000 ┆ 000 ┆ 000 ┆ 000 ┆ 095 ┆ 791 ┆ 340 ┆ 285 ┆     ┆ 510 ┆     ┆     ┆     ┆     ┆     ┆     ┆     ┆     ┆     ┆     ┆     ┆     ┆     ┆     ┆ 102 ┆ 740 ┆ 012 ┆     ┆     ┆     ┆ 479 ┆ 722 ┆ 760 ┆ 939 ┆ 779 ┆ 647 ┆ .81 ┆ 129 ┆ 119 ┆ 868 ┆ 867 ┆ 596 ┆ 567 ┆ 202 ┆ 468 ┆ 474 ┆ 260 ┆ 276 ┆ 317 ┆ 355 ┆ 531 ┆ 833 ┆ 676 ┆ 479 ┆ 606 ┆ 529 ┆ 526 ┆ 226 ┆ 555 ┆ 001 ┆ 341 ┆ 300 ┆ 404 ┆ 029 ┆ 308 ┆ 297 ┆ 167 ┆ 636 ┆ 588 ┆ 719 ┆ 633 ┆ 402 ┆ 951 ┆ .98 ┆ .95 ┆ .45 ┆ 384 ┆ 314 ┆ 342 ┆ 588 ┆ 945 ┆ 321 ┆ 750 ┆ 135 ┆ 448 ┆ 792 ┆ 184 ┆ 566 ┆ 170 ┆ 053 ┆ 982 ┆ .32 ┆ 535 ┆ 815 ┆ 229 ┆ 639 ┆ 859 ┆ 666 ┆ 567 ┆ 950 ┆ 969 ┆ 053 ┆ 142 ┆ 559 ┆ 612 ┆ 677 ┆ 940 ┆ 791 ┆ 838 ┆ 096 ┆ .55 ┆ .15 ┆ .85 ┆ .14 ┆ .89 ┆ .15 ┆ .66 ┆ .87 ┆ .76 ┆ 934 ┆ 541 ┆ 916 ┆ 261 ┆ 708 ┆ 730 ┆ 084 ┆ 338 ┆ 935 ┆ 754 ┆ 371 ┆ 487 ┆ 097 ┆ 850 ┆ 202 ┆ 092 ┆ 600 ┆ 755 ┆ 074 ┆ 521 ┆ 020 ┆ 433 ┆ 737 ┆ 921 ┆ 984 ┆ 916 ┆ 683 ┆ 347 ┆ 017 ┆ 675 ┆ 550 ┆ 479 ┆ 274 ┆ .96 ┆ 293 ┆ 925 ┆ 037 ┆ 021 ┆ 655 ┆ 6   ┆ 872 ┆ 6   ┆ 872 ┆ .87 ┆     ┆     ┆     ┆     ┆ 892 ┆ 639 ┆ 727 ┆ 000 ┆ 000 ┆ 000 ┆ 000 ┆ 000 ┆ 000 ┆ 000 ┆ 000 ┆ 000 ┆ 000 ┆ 000 ┆ 000 ┆ 000 ┆ 570 ┆ 401 ┆ 068 ┆ 657 ┆ 348 ┆ 453 ┆ 790 ┆ 566 ┆ 494 ┆ 143 ┆ 332 ┆ 835 ┆ 537 ┆ 551 ┆ 623 ┆ 807 ┆ 063 ┆ 487 ┆ 320 ┆ 197 ┆ 768 ┆ 460 ┆ 153 ┆ 693 ┆ 425 ┆ 260 ┆ 232 ┆ 930 ┆ 642 ┆ 369 ┆ 110 ┆ 123 ┆ 151 ┆ 177 ┆ 202 ┆ 037 ┆ 532 ┆ 040 ┆ 554 ┆ 068 ┆ 618 ┆ 167 ┆ 717 ┆ 601 ┆ 497 ┆ 244 ┆ 371 ┆ 898 ┆ 826 ┆ 125 ┆ 735 ┆ 573 ┆ 545 ┆ 573 ┆ 603 ┆ 610 ┆ 581 ┆ 505 ┆ 355 ┆ 090 ┆ 668 ┆ 056 ┆ 243 ┆ 861 ┆ 861 ┆ 861 ┆ 861 ┆ 861 ┆ 861 ┆ 861 ┆ 861 ┆ 861 ┆ 861 ┆ 861 ┆ 861 ┆ 861 ┆ 861 ┆ 861 ┆ 861 ┆ 861 ┆ 861 ┆ 861 ┆ 861 ┆ 861 ┆ 861 ┆ 861 ┆ 861 ┆ 861 ┆ 861 ┆ 861 ┆ 861 ┆ 861 ┆ 861 ┆ 861 ┆ 861 ┆ 861 ┆ 861 ┆ 861 ┆ 861 ┆ 861 ┆ 861 ┆ 861 ┆ 861 ┆ 861 ┆ 754 ┆ 736 ┆ 700 ┆ 951 ┆ 736 ┆ 618 ┆ 723 ┆ 065 ┆ 607 ┆ 309 ┆ 140 ┆ 078 ┆ 109 ┆ 220 ┆ 387 ┆ 573 ┆ 740 ┆ 853 ┆ 893 ┆ 086 ┆ 086 ┆ 086 ┆ 086 ┆ 086 ┆ 086 ┆ 086 ┆ 086 ┆ 086 ┆ 086 ┆ 086 ┆ 086 ┆ 086 ┆ 086 ┆ 086 ┆ 086 ┆ 086 ┆ 086 ┆ 086 ┆ 086 ┆ 086 ┆ 086 ┆ 086 ┆ 086 ┆ 086 ┆ 086 ┆ 086 ┆ 086 ┆ 086 ┆ 086 ┆ 086 ┆ 086 ┆ 086 ┆ 086 ┆ 086 ┆ 086 ┆ 086 ┆ 086 ┆ 086 ┆ 086 ┆ 086 │\n",
       "│ 894 ┆ 577 ┆ 476 ┆ 191 ┆ 211 ┆ 696 ┆ 789 ┆ 190 ┆ 876 ┆ 877 ┆ 449 ┆ 855 ┆ 946 ┆ 160 ┆ 019 ┆ 389 ┆ 745 ┆ 843 ┆ 06  ┆ 273 ┆ 113 ┆ 570 ┆ 343 ┆ 093 ┆ 236 ┆ 310 ┆ 634 ┆ 903 ┆ 847 ┆ 586 ┆ 566 ┆ 809 ┆ 759 ┆ 388 ┆ 663 ┆ 118 ┆ 746 ┆ 238 ┆ 471 ┆ 196 ┆ 437 ┆ 076 ┆ 261 ┆ 921 ┆ 974 ┆ 004 ┆ 168 ┆ 303 ┆ 357 ┆ 292 ┆ 316 ┆ 327 ┆ 538 ┆ 848 ┆ 163 ┆ 456 ┆ 286 ┆ 424 ┆ 421 ┆ 699 ┆ 142 ┆ 02  ┆ 02  ┆ 02  ┆ 02  ┆ 02  ┆ 02  ┆ 02  ┆ 02  ┆ 02  ┆ 02  ┆ 02  ┆ 02  ┆ 02  ┆ 02  ┆ 02  ┆ 01  ┆ e-7 ┆ e-7 ┆ e-7 ┆ 02  ┆ 05  ┆ 08  ┆ 19  ┆ 48  ┆ 98  ┆ 79  ┆ 96  ┆ 66  ┆ 69  ┆ 63  ┆ 98  ┆ 02  ┆ 45  ┆ 47  ┆ 22  ┆ 38  ┆ 29  ┆ 24  ┆ 42  ┆ 77  ┆ 08  ┆ 5   ┆ 34  ┆ 6   ┆ 82  ┆ 34  ┆ 41  ┆ 46  ┆ 97  ┆ 11  ┆ 25  ┆ 66  ┆ 04  ┆ 81  ┆ 99  ┆ 94  ┆ 76  ┆ 94  ┆ 09  ┆ 8   ┆ e-3 ┆ e-3 ┆ e-3 ┆ e-3 ┆ e-3 ┆ e-3 ┆ e-3 ┆ e-3 ┆ e-3 ┆ e-3 ┆ e-3 ┆ e-4 ┆ e-4 ┆ e-4 ┆ e-5 ┆     ┆     ┆     ┆     ┆     ┆ e-5 ┆ e-5 ┆ e-4 ┆ e-4 ┆     ┆     ┆     ┆     ┆     ┆ e-1 ┆     ┆     ┆ e-8 ┆ e-7 ┆ e-7 ┆ e-8 ┆ e-9 ┆     ┆ e-8 ┆ 02  ┆ e-7 ┆ 03  ┆ 03  ┆ 04  ┆ 18  ┆ 03  ┆ 04  ┆ 03  ┆ 13  ┆ 08  ┆ 1   ┆ 12  ┆ 37  ┆ 48  ┆ 16  ┆ 1   ┆ e-7 ┆ e-7 ┆ e-8 ┆ e-8 ┆ e-1 ┆ e-1 ┆ e-1 ┆ e-1 ┆ e-1 ┆ e-1 ┆ e-1 ┆ e-1 ┆ e-1 ┆ e-1 ┆ e-1 ┆ e-1 ┆ e-1 ┆ e-2 ┆ e-2 ┆ e-1 ┆ e-1 ┆ e-9 ┆ e-1 ┆ e-8 ┆ e-1 ┆ e-8 ┆ e-8 ┆ 01  ┆ 01  ┆ 01  ┆ 02  ┆ 04  ┆ 05  ┆ 06  ┆ 04  ┆ 03  ┆ 02  ┆ e-7 ┆ e-7 ┆ e-8 ┆ e-9 ┆     ┆ e-1 ┆     ┆     ┆     ┆     ┆     ┆     ┆     ┆     ┆     ┆     ┆     ┆     ┆     ┆     ┆ e-1 ┆ e-1 ┆ e-1 ┆     ┆     ┆     ┆ e-1 ┆ 166 ┆ 093 ┆ 848 ┆ 939 ┆ 98  ┆ 242 ┆ 902 ┆ 783 ┆ 477 ┆ 754 ┆ 304 ┆ 24  ┆ 521 ┆ 386 ┆ 392 ┆ 273 ┆ 5   ┆ 554 ┆ 944 ┆ 598 ┆ 913 ┆ 099 ┆ 286 ┆ 482 ┆ 93  ┆ 812 ┆ 882 ┆ 32  ┆ 379 ┆ 267 ┆ 985 ┆ 362 ┆ 361 ┆ 423 ┆ 323 ┆ 09  ┆ 97  ┆ 2   ┆ 01  ┆ 249 ┆ 048 ┆ 46  ┆ 188 ┆ 976 ┆ 064 ┆ 851 ┆ 138 ┆ 307 ┆ 866 ┆ 333 ┆ 458 ┆ 257 ┆ 325 ┆ 58  ┆ 322 ┆ 244 ┆ 916 ┆ 932 ┆ 412 ┆ 516 ┆ 659 ┆ 773 ┆ 284 ┆ 978 ┆ 377 ┆ 063 ┆ 459 ┆ 82  ┆ 09  ┆ 189 ┆ 233 ┆ 041 ┆ 43  ┆ 01  ┆ 95  ┆ 656 ┆ 26  ┆ 54  ┆ 384 ┆ 769 ┆ 655 ┆ 133 ┆ 228 ┆ 060 ┆ 972 ┆ 498 ┆ 406 ┆ 676 ┆ 568 ┆ 738 ┆ 226 ┆ 89  ┆ 63  ┆ 87  ┆ 3   ┆ 22  ┆ 04  ┆ 73  ┆ 82  ┆ 15  ┆ 12  ┆ 27  ┆ 82  ┆ 34  ┆ 2   ┆ 84  ┆ 63  ┆ 46  ┆ 854 ┆ 941 ┆ 137 ┆ 7   ┆ 218 ┆ 981 ┆ 63  ┆ 555 ┆ 434 ┆ 494 ┆ 38  ┆ 87  ┆ .20 ┆ 609 ┆ 045 ┆ 16  ┆ 38  ┆ 62  ┆ 42  ┆     ┆ 62  ┆     ┆ 62  ┆ 069 ┆     ┆     ┆     ┆     ┆ e-7 ┆ e-7 ┆ e-7 ┆ 02  ┆ 03  ┆ 05  ┆ 09  ┆ 14  ┆ 16  ┆ 17  ┆ 16  ┆ 13  ┆ 09  ┆ 06  ┆ 03  ┆ 02  ┆ e-7 ┆ e-7 ┆ e-7 ┆ e-8 ┆ e-8 ┆ e-8 ┆ e-8 ┆ e-8 ┆ e-8 ┆ e-8 ┆ e-8 ┆ e-8 ┆ e-8 ┆ e-8 ┆ e-8 ┆ e-8 ┆ e-8 ┆ e-8 ┆ e-8 ┆ e-8 ┆ e-8 ┆ e-8 ┆ e-8 ┆ e-8 ┆ e-8 ┆ e-8 ┆ e-8 ┆ e-8 ┆ e-8 ┆ e-8 ┆ e-8 ┆ e-8 ┆ e-8 ┆ e-8 ┆ e-8 ┆ e-8 ┆ e-8 ┆ e-8 ┆ e-8 ┆ e-8 ┆ e-8 ┆ e-8 ┆ e-8 ┆ e-8 ┆ e-7 ┆ e-7 ┆ e-7 ┆ e-7 ┆ e-7 ┆ e-7 ┆ e-7 ┆ e-7 ┆ e-7 ┆ e-7 ┆ e-7 ┆ e-7 ┆ e-7 ┆ e-7 ┆ e-7 ┆ e-7 ┆ e-7 ┆ e-7 ┆ e-7 ┆ e-7 ┆ e-7 ┆ e-7 ┆ e-7 ┆ e-7 ┆ e-7 ┆ e-7 ┆ e-7 ┆ e-7 ┆ e-7 ┆ e-7 ┆ e-7 ┆ e-7 ┆ e-7 ┆ e-7 ┆ e-7 ┆ e-7 ┆ e-7 ┆ e-7 ┆ e-7 ┆ e-7 ┆ e-7 ┆ e-7 ┆ e-7 ┆ e-7 ┆ e-7 ┆ e-7 ┆ e-7 ┆ e-7 ┆ e-7 ┆ e-7 ┆ e-7 ┆ e-7 ┆ e-7 ┆ e-7 ┆ e-7 ┆ e-7 ┆ e-7 ┆ e-7 ┆ e-7 ┆ e-7 ┆ e-8 ┆ e-8 ┆ e-8 ┆ e-8 ┆ e-8 ┆ e-7 ┆ e-7 ┆ e-7 ┆ e-7 ┆ e-7 ┆ e-7 ┆ e-7 ┆ e-7 ┆ e-7 ┆ e-7 ┆ e-7 ┆ e-7 ┆ e-7 ┆ e-7 ┆ e-7 ┆ e-7 ┆ e-7 ┆ e-7 ┆ e-7 ┆ e-7 ┆ e-7 ┆ e-7 ┆ e-7 ┆ e-7 ┆ e-7 ┆ e-7 ┆ e-7 ┆ e-7 ┆ e-7 ┆ e-7 ┆ e-7 ┆ e-7 ┆ e-7 ┆ e-7 ┆ e-7 ┆ e-7 ┆ e-7 ┆ e-7 ┆ e-7 ┆ e-7 ┆ e-7 ┆ e-7 ┆ e-7 ┆ e-7 ┆ e-7 ┆ e-7 ┆ e-7 ┆ e-7 ┆ e-7 ┆ e-7 ┆ e-7 ┆ e-7 ┆ e-7 ┆ e-7 ┆ e-7 │\n",
       "│ 2   ┆ 2   ┆ 7   ┆ 2   ┆ 3   ┆ 9   ┆ 5   ┆ 4   ┆     ┆ 8   ┆ 9   ┆ 2   ┆ 8   ┆ 1   ┆ 5   ┆ 6   ┆     ┆ 1   ┆     ┆ 8   ┆ 5   ┆ 4   ┆ 1   ┆ 2   ┆ 5   ┆ 2   ┆ 3   ┆ 8   ┆ 5   ┆ 3   ┆     ┆ 7   ┆     ┆ 3   ┆ 8   ┆ 8   ┆ 1   ┆ 6   ┆ 8   ┆ 8   ┆ 9   ┆ 1   ┆ 7   ┆ 5   ┆ 4   ┆ 4   ┆ 9   ┆     ┆ 8   ┆ 2   ┆ 5   ┆ 2   ┆ 1   ┆ 3   ┆ 3   ┆ 3   ┆ 8   ┆ 7   ┆     ┆ 9   ┆ 9   ┆     ┆     ┆     ┆     ┆     ┆     ┆     ┆     ┆     ┆     ┆     ┆     ┆     ┆     ┆     ┆     ┆     ┆     ┆     ┆     ┆     ┆     ┆     ┆     ┆     ┆     ┆     ┆     ┆     ┆     ┆     ┆     ┆     ┆     ┆     ┆     ┆     ┆     ┆     ┆     ┆     ┆     ┆     ┆     ┆     ┆     ┆     ┆     ┆     ┆     ┆     ┆     ┆     ┆     ┆     ┆     ┆     ┆     ┆     ┆     ┆ 7   ┆ 8   ┆ 8   ┆ 8   ┆ 8   ┆ 8   ┆ 8   ┆ 8   ┆ 8   ┆ 9   ┆ 9   ┆ 0   ┆ 4   ┆ 9   ┆ 5   ┆     ┆     ┆     ┆     ┆     ┆ 7   ┆ 4   ┆ 9   ┆ 4   ┆     ┆     ┆     ┆     ┆     ┆ 8   ┆     ┆     ┆     ┆     ┆     ┆     ┆     ┆     ┆     ┆     ┆     ┆     ┆     ┆     ┆     ┆     ┆     ┆     ┆     ┆     ┆     ┆     ┆     ┆     ┆     ┆     ┆     ┆     ┆     ┆     ┆ 2   ┆ 2   ┆ 2   ┆ 2   ┆ 2   ┆ 1   ┆ 2   ┆ 2   ┆ 2   ┆ 2   ┆ 3   ┆ 3   ┆ 7   ┆ 2   ┆ 2   ┆ 7   ┆ 2   ┆     ┆ 0   ┆     ┆ 0   ┆     ┆     ┆     ┆     ┆     ┆     ┆     ┆     ┆     ┆     ┆     ┆     ┆     ┆     ┆     ┆     ┆     ┆ 0   ┆     ┆     ┆     ┆     ┆     ┆     ┆     ┆     ┆     ┆     ┆     ┆     ┆     ┆     ┆ 2   ┆ 3   ┆ 4   ┆     ┆     ┆     ┆ 5   ┆     ┆     ┆     ┆     ┆     ┆ 3   ┆     ┆     ┆     ┆     ┆     ┆     ┆     ┆     ┆     ┆     ┆     ┆     ┆     ┆     ┆     ┆     ┆     ┆     ┆     ┆     ┆     ┆     ┆     ┆     ┆     ┆     ┆     ┆     ┆     ┆     ┆     ┆     ┆     ┆     ┆     ┆     ┆ 7   ┆ 9   ┆ 5   ┆     ┆     ┆     ┆     ┆     ┆     ┆     ┆     ┆     ┆     ┆     ┆     ┆     ┆     ┆     ┆ 9   ┆     ┆     ┆     ┆     ┆     ┆     ┆     ┆     ┆     ┆     ┆     ┆     ┆     ┆     ┆     ┆     ┆     ┆     ┆ 1   ┆ 2   ┆ 4   ┆ 7   ┆ 4   ┆ 7   ┆ 9   ┆ 7   ┆ 9   ┆     ┆     ┆     ┆     ┆     ┆     ┆     ┆     ┆     ┆     ┆     ┆     ┆     ┆     ┆     ┆     ┆     ┆     ┆     ┆     ┆     ┆     ┆     ┆     ┆     ┆     ┆     ┆     ┆     ┆     ┆     ┆     ┆ 343 ┆ 4   ┆     ┆     ┆     ┆     ┆     ┆     ┆     ┆     ┆     ┆ 2   ┆     ┆     ┆     ┆     ┆     ┆     ┆     ┆     ┆     ┆     ┆     ┆     ┆     ┆     ┆     ┆     ┆     ┆     ┆     ┆     ┆     ┆     ┆     ┆     ┆     ┆     ┆     ┆     ┆     ┆     ┆     ┆     ┆     ┆     ┆     ┆     ┆     ┆     ┆     ┆     ┆     ┆     ┆     ┆     ┆     ┆     ┆     ┆     ┆     ┆     ┆     ┆     ┆     ┆     ┆     ┆     ┆     ┆     ┆     ┆     ┆     ┆     ┆     ┆     ┆     ┆     ┆     ┆     ┆     ┆     ┆     ┆     ┆     ┆     ┆     ┆     ┆     ┆     ┆     ┆     ┆     ┆     ┆     ┆     ┆     ┆     ┆     ┆     ┆     ┆     ┆     ┆     ┆     ┆     ┆     ┆     ┆     ┆     ┆     ┆     ┆     ┆     ┆     ┆     ┆     ┆     ┆     ┆     ┆     ┆     ┆     ┆     ┆     ┆     ┆     ┆     ┆     ┆     ┆     ┆     ┆     ┆     ┆     ┆     ┆     ┆     ┆     ┆     ┆     ┆     ┆     ┆     ┆     ┆     ┆     ┆     ┆     ┆     ┆     ┆     ┆     ┆     ┆     ┆     ┆     ┆     ┆     ┆     ┆     ┆     ┆     ┆     ┆     ┆     ┆     ┆     ┆     ┆     ┆     ┆     ┆     ┆     ┆     ┆     ┆     ┆     ┆     ┆     ┆     ┆     ┆     ┆     ┆     ┆     ┆     ┆     ┆     ┆     ┆     ┆     ┆     ┆     ┆     ┆     │\n",
       "│     ┆     ┆     ┆     ┆     ┆     ┆     ┆     ┆     ┆     ┆     ┆     ┆     ┆     ┆     ┆     ┆     ┆     ┆     ┆     ┆     ┆     ┆     ┆     ┆     ┆     ┆     ┆     ┆     ┆     ┆     ┆     ┆     ┆     ┆     ┆     ┆     ┆     ┆     ┆     ┆     ┆     ┆     ┆     ┆     ┆     ┆     ┆     ┆     ┆     ┆     ┆     ┆     ┆     ┆     ┆     ┆     ┆     ┆     ┆     ┆     ┆     ┆     ┆     ┆     ┆     ┆     ┆     ┆     ┆     ┆     ┆     ┆     ┆     ┆     ┆     ┆     ┆     ┆     ┆     ┆     ┆     ┆     ┆     ┆     ┆     ┆     ┆     ┆     ┆     ┆     ┆     ┆     ┆     ┆     ┆     ┆     ┆     ┆     ┆     ┆     ┆     ┆     ┆     ┆     ┆     ┆     ┆     ┆     ┆     ┆     ┆     ┆     ┆     ┆     ┆     ┆     ┆     ┆     ┆     ┆     ┆     ┆     ┆     ┆     ┆     ┆     ┆     ┆     ┆     ┆     ┆     ┆     ┆     ┆     ┆     ┆     ┆     ┆     ┆     ┆     ┆     ┆     ┆     ┆     ┆     ┆     ┆     ┆     ┆     ┆     ┆     ┆     ┆     ┆     ┆     ┆     ┆     ┆     ┆     ┆     ┆     ┆     ┆     ┆     ┆     ┆     ┆     ┆     ┆     ┆     ┆     ┆     ┆     ┆     ┆     ┆     ┆     ┆     ┆     ┆     ┆     ┆     ┆     ┆     ┆     ┆     ┆     ┆     ┆     ┆     ┆     ┆     ┆     ┆     ┆     ┆     ┆     ┆     ┆     ┆     ┆     ┆     ┆     ┆     ┆     ┆     ┆     ┆     ┆     ┆     ┆     ┆     ┆     ┆     ┆     ┆     ┆     ┆     ┆     ┆     ┆     ┆     ┆     ┆     ┆     ┆     ┆     ┆     ┆     ┆     ┆     ┆     ┆     ┆     ┆     ┆     ┆     ┆     ┆     ┆     ┆     ┆     ┆     ┆     ┆     ┆     ┆     ┆     ┆     ┆     ┆     ┆     ┆     ┆     ┆     ┆     ┆     ┆     ┆     ┆     ┆     ┆     ┆     ┆     ┆     ┆     ┆     ┆     ┆     ┆     ┆     ┆     ┆     ┆     ┆     ┆     ┆     ┆     ┆     ┆     ┆     ┆     ┆     ┆     ┆     ┆     ┆     ┆     ┆     ┆     ┆     ┆     ┆     ┆     ┆     ┆     ┆     ┆     ┆     ┆     ┆     ┆     ┆     ┆     ┆     ┆     ┆     ┆     ┆     ┆     ┆     ┆     ┆     ┆     ┆     ┆     ┆     ┆     ┆     ┆     ┆     ┆     ┆     ┆     ┆     ┆     ┆     ┆     ┆     ┆     ┆     ┆     ┆     ┆     ┆     ┆     ┆     ┆     ┆     ┆     ┆     ┆     ┆     ┆     ┆     ┆     ┆     ┆     ┆     ┆     ┆     ┆     ┆     ┆     ┆     ┆     ┆     ┆     ┆     ┆     ┆ 2   ┆     ┆     ┆     ┆     ┆     ┆     ┆     ┆     ┆     ┆     ┆     ┆     ┆     ┆     ┆     ┆     ┆     ┆     ┆     ┆     ┆     ┆     ┆     ┆     ┆     ┆     ┆     ┆     ┆     ┆     ┆     ┆     ┆     ┆     ┆     ┆     ┆     ┆     ┆     ┆     ┆     ┆     ┆     ┆     ┆     ┆     ┆     ┆     ┆     ┆     ┆     ┆     ┆     ┆     ┆     ┆     ┆     ┆     ┆     ┆     ┆     ┆     ┆     ┆     ┆     ┆     ┆     ┆     ┆     ┆     ┆     ┆     ┆     ┆     ┆     ┆     ┆     ┆     ┆     ┆     ┆     ┆     ┆     ┆     ┆     ┆     ┆     ┆     ┆     ┆     ┆     ┆     ┆     ┆     ┆     ┆     ┆     ┆     ┆     ┆     ┆     ┆     ┆     ┆     ┆     ┆     ┆     ┆     ┆     ┆     ┆     ┆     ┆     ┆     ┆     ┆     ┆     ┆     ┆     ┆     ┆     ┆     ┆     ┆     ┆     ┆     ┆     ┆     ┆     ┆     ┆     ┆     ┆     ┆     ┆     ┆     ┆     ┆     ┆     ┆     ┆     ┆     ┆     ┆     ┆     ┆     ┆     ┆     ┆     ┆     ┆     ┆     ┆     ┆     ┆     ┆     ┆     ┆     ┆     ┆     ┆     ┆     ┆     ┆     ┆     ┆     ┆     ┆     ┆     ┆     ┆     ┆     ┆     ┆     ┆     ┆     ┆     ┆     ┆     ┆     ┆     ┆     ┆     ┆     ┆     ┆     ┆     ┆     ┆     ┆     ┆     ┆     ┆     ┆     ┆     │\n",
       "│ tes ┆ 214 ┆ 233 ┆ 238 ┆ 248 ┆ 255 ┆ 261 ┆ 257 ┆ 247 ┆ 237 ┆ 228 ┆ 224 ┆ 220 ┆ 214 ┆ 209 ┆ 203 ┆ 199 ┆ 193 ┆ 189 ┆ 190 ┆ 193 ┆ 198 ┆ 204 ┆ 210 ┆ 216 ┆ 222 ┆ 227 ┆ 232 ┆ 236 ┆ 240 ┆ 244 ┆ 247 ┆ 250 ┆ 253 ┆ 256 ┆ 258 ┆ 261 ┆ 264 ┆ 267 ┆ 270 ┆ 273 ┆ 276 ┆ 278 ┆ 279 ┆ 280 ┆ 281 ┆ 282 ┆ 283 ┆ 284 ┆ 285 ┆ 286 ┆ 287 ┆ 288 ┆ 289 ┆ 290 ┆ 292 ┆ 293 ┆ 294 ┆ 295 ┆ 297 ┆ 298 ┆ 0.0 ┆ 0.0 ┆ 0.0 ┆ 0.0 ┆ 0.0 ┆ 0.0 ┆ 0.0 ┆ 0.0 ┆ 0.0 ┆ 0.0 ┆ 0.0 ┆ 0.0 ┆ 0.0 ┆ 0.0 ┆ 0.0 ┆ 0.0 ┆ 0.0 ┆ 0.0 ┆ 0.0 ┆ 0.0 ┆ 0.0 ┆ 0.0 ┆ 0.0 ┆ 0.0 ┆ 0.0 ┆ 0.0 ┆ 0.0 ┆ 0.0 ┆ 0.0 ┆ 0.0 ┆ 0.0 ┆ 0.0 ┆ 0.0 ┆ 0.0 ┆ 0.0 ┆ 0.0 ┆ 0.0 ┆ 0.0 ┆ 0.0 ┆ 0.0 ┆ 0.0 ┆ 0.0 ┆ 0.0 ┆ 0.0 ┆ 0.0 ┆ 0.0 ┆ 0.0 ┆ 0.0 ┆ 0.0 ┆ 0.0 ┆ 0.0 ┆ 0.0 ┆ 0.0 ┆ 0.0 ┆ 0.0 ┆ 0.0 ┆ 0.0 ┆ 0.0 ┆ 0.0 ┆ 0.0 ┆ 1.0 ┆ 9.7 ┆ 8.5 ┆ 7.5 ┆ 6.6 ┆ 5.4 ┆ 5.2 ┆ 3.8 ┆ 3.3 ┆ 2.1 ┆ 2.0 ┆ 1.0 ┆ 5.4 ┆ 1.1 ┆ 5.0 ┆ 0.0 ┆ 0.0 ┆ 0.0 ┆ 0.0 ┆ 0.0 ┆ 4.2 ┆ 1.8 ┆ 3.9 ┆ 2.5 ┆ 8.6 ┆ 3.1 ┆ 1.3 ┆ 1.8 ┆ 2.9 ┆ 2.1 ┆ 0.0 ┆ 0.0 ┆ 0.0 ┆ 3.9 ┆ 7.2 ┆ 1.1 ┆ 1.0 ┆ 1.7 ┆ 1.8 ┆ 0.0 ┆ 8.8 ┆ 0.0 ┆ 0.0 ┆ 0.0 ┆ 0.0 ┆ 0.0 ┆ 0.0 ┆ 0.0 ┆ 0.0 ┆ 0.0 ┆ 0.0 ┆ 0.0 ┆ 0.0 ┆ 9.5 ┆ 5.0 ┆ 1.2 ┆ 3.9 ┆ 6.9 ┆ 1.0 ┆ 3.2 ┆ 6.1 ┆ 6.4 ┆ 6.7 ┆ 7.6 ┆ 7.5 ┆ 8.6 ┆ 6.2 ┆ 4.0 ┆ 2.3 ┆ 1.2 ┆ 8.6 ┆ 3.7 ┆ 1.7 ┆ 3.8 ┆ 5.8 ┆ 1.0 ┆ 1.4 ┆ 1.2 ┆ 8.0 ┆ 1.3 ┆ 6.4 ┆ 9.6 ┆ 3.9 ┆ 6.6 ┆ 0.0 ┆ 0.0 ┆ 0.0 ┆ 0.0 ┆ 0.0 ┆ 0.0 ┆ 0.0 ┆ 0.0 ┆ 0.0 ┆ 3.0 ┆ 2.8 ┆ 1.4 ┆ 1.4 ┆ 1.1 ┆ 0.0 ┆ 1.1 ┆ 9.3 ┆ 1.1 ┆ 7.1 ┆ 8.4 ┆ 5.6 ┆ 3.8 ┆ 3.3 ┆ 5.0 ┆ 4.7 ┆ 3.0 ┆ 2.7 ┆ 2.4 ┆ 0.0 ┆ 8.1 ┆ 2.1 ┆ 0.0 ┆ 0.0 ┆ 0.0 ┆ 0.0 ┆ 0.0 ┆ 51. ┆ 37. ┆ 38. ┆ 41. ┆ 38. ┆ 30. ┆ 30. ┆ 25. ┆ 18. ┆ 12. ┆ 8.2 ┆ 5.3 ┆ 2.9 ┆ 1.0 ┆ 0.7 ┆ 6.6 ┆ 13. ┆ 20. ┆ 27. ┆ 33. ┆ 40. ┆ 47. ┆ 51. ┆ 51. ┆ 50. ┆ 47. ┆ 43. ┆ 37. ┆ 30. ┆ 25. ┆ 22. ┆ 21. ┆ 20. ┆ 19. ┆ 17. ┆ 16. ┆ 14. ┆ 12. ┆ 10. ┆ 8.9 ┆ 7.1 ┆ 5.4 ┆ 4.0 ┆ 3.0 ┆ 1.9 ┆ 0.8 ┆ -0. ┆ -1. ┆ -2. ┆ -3. ┆ -4. ┆ -5. ┆ -5. ┆ -5. ┆ -5. ┆ -5. ┆ -4. ┆ -4. ┆ -4. ┆ -4. ┆ -1. ┆ -13 ┆ -5. ┆ 10. ┆ 4.0 ┆ 13. ┆ -2. ┆ -1. ┆ -0. ┆ 1.3 ┆ 1.7 ┆ 0.6 ┆ 0.2 ┆ 0.3 ┆ -0. ┆ -0. ┆ 0.1 ┆ -3. ┆ -6. ┆ -11 ┆ -15 ┆ -15 ┆ -10 ┆ -8. ┆ -9. ┆ -11 ┆ -13 ┆ -14 ┆ -12 ┆ -8. ┆ -4. ┆ -1. ┆ 0.3 ┆ 0.9 ┆ 1.3 ┆ 1.7 ┆ 1.7 ┆ 1.5 ┆ 1.3 ┆ 1.3 ┆ 1.3 ┆ 1.6 ┆ 2.0 ┆ 2.2 ┆ 2.1 ┆ 1.6 ┆ 1.0 ┆ 0.5 ┆ 0.0 ┆ -0. ┆ -1. ┆ -1. ┆ -2. ┆ -2. ┆ -2. ┆ -2. ┆ -2. ┆ -2. ┆ -2. ┆ -2. ┆ 987 ┆ 724 ┆ 185 ┆ 25. ┆ 0.0 ┆ 0.0 ┆ 0.5 ┆ 0.0 ┆ 0.0 ┆ 0.0 ┆ 0.0 ┆ 462 ┆ 0.0 ┆ 0.1 ┆ 0.8 ┆ 0.0 ┆ 3.0 ┆ 5.4 ┆ 9.7 ┆ 0.0 ┆ 0.0 ┆ 0.0 ┆ 0.0 ┆ 0.0 ┆ 0.0 ┆ 0.0 ┆ 0.0 ┆ 0.0 ┆ 0.0 ┆ 0.0 ┆ 0.0 ┆ 0.0 ┆ 0.0 ┆ 4.4 ┆ 2.0 ┆ 1.2 ┆ 9.7 ┆ 7.9 ┆ 6.8 ┆ 6.1 ┆ 6.0 ┆ 5.9 ┆ 5.9 ┆ 6.0 ┆ 6.1 ┆ 6.2 ┆ 6.3 ┆ 6.4 ┆ 6.5 ┆ 6.6 ┆ 6.7 ┆ 6.8 ┆ 6.8 ┆ 6.8 ┆ 6.8 ┆ 6.9 ┆ 6.8 ┆ 6.8 ┆ 6.8 ┆ 6.8 ┆ 6.7 ┆ 6.6 ┆ 6.6 ┆ 6.5 ┆ 6.5 ┆ 6.5 ┆ 6.5 ┆ 6.5 ┆ 6.5 ┆ 6.5 ┆ 6.6 ┆ 6.7 ┆ 6.7 ┆ 6.8 ┆ 6.8 ┆ 6.8 ┆ 1.8 ┆ 2.0 ┆ 2.3 ┆ 2.7 ┆ 3.1 ┆ 3.5 ┆ 3.9 ┆ 4.4 ┆ 4.9 ┆ 5.4 ┆ 5.9 ┆ 6.4 ┆ 6.8 ┆ 7.3 ┆ 7.8 ┆ 8.3 ┆ 8.7 ┆ 9.1 ┆ 9.6 ┆ 9.9 ┆ 9.9 ┆ 9.9 ┆ 9.9 ┆ 9.9 ┆ 9.9 ┆ 9.9 ┆ 9.9 ┆ 9.9 ┆ 9.9 ┆ 9.9 ┆ 9.9 ┆ 9.9 ┆ 9.9 ┆ 9.9 ┆ 9.9 ┆ 9.9 ┆ 9.9 ┆ 9.9 ┆ 9.9 ┆ 9.9 ┆ 9.9 ┆ 9.9 ┆ 9.9 ┆ 9.9 ┆ 9.9 ┆ 9.9 ┆ 9.9 ┆ 9.9 ┆ 9.9 ┆ 9.9 ┆ 9.9 ┆ 9.9 ┆ 9.9 ┆ 9.9 ┆ 9.9 ┆ 9.9 ┆ 9.9 ┆ 9.9 ┆ 9.9 ┆ 9.9 ┆ 3.4 ┆ 4.2 ┆ 5.2 ┆ 6.4 ┆ 7.9 ┆ 9.7 ┆ 1.1 ┆ 1.3 ┆ 1.6 ┆ 1.9 ┆ 2.1 ┆ 2.4 ┆ 2.7 ┆ 3.0 ┆ 3.3 ┆ 3.6 ┆ 4.0 ┆ 4.3 ┆ 4.6 ┆ 4.9 ┆ 4.9 ┆ 4.9 ┆ 4.9 ┆ 4.9 ┆ 4.9 ┆ 4.9 ┆ 4.9 ┆ 4.9 ┆ 4.9 ┆ 4.9 ┆ 4.9 ┆ 4.9 ┆ 4.9 ┆ 4.9 ┆ 4.9 ┆ 4.9 ┆ 4.9 ┆ 4.9 ┆ 4.9 ┆ 4.9 ┆ 4.9 ┆ 4.9 ┆ 4.9 ┆ 4.9 ┆ 4.9 ┆ 4.9 ┆ 4.9 ┆ 4.9 ┆ 4.9 ┆ 4.9 ┆ 4.9 ┆ 4.9 ┆ 4.9 ┆ 4.9 ┆ 4.9 ┆ 4.9 ┆ 4.9 ┆ 4.9 ┆ 4.9 ┆ 4.9 │\n",
       "│ t_7 ┆ .90 ┆ .68 ┆ .15 ┆ .79 ┆ .43 ┆ .87 ┆ .73 ┆ .84 ┆ .01 ┆ .72 ┆ .29 ┆ .07 ┆ .65 ┆ .63 ┆ .13 ┆ .30 ┆ .92 ┆ .00 ┆ .08 ┆ .27 ┆ .85 ┆ .43 ┆ .75 ┆ .07 ┆ .25 ┆ .99 ┆ .82 ┆ .83 ┆ .40 ┆ .05 ┆ .40 ┆ .76 ┆ .87 ┆ .35 ┆ .63 ┆ .27 ┆ .39 ┆ .52 ┆ .58 ┆ .46 ┆ .04 ┆ .10 ┆ .69 ┆ .59 ┆ .03 ┆ .10 ┆ .29 ┆ .58 ┆ .76 ┆ .92 ┆ .77 ┆ .76 ┆ .70 ┆ .89 ┆ .12 ┆ .35 ┆ .57 ┆ .81 ┆ .05 ┆ .32 ┆ 000 ┆ 000 ┆ 000 ┆ 000 ┆ 000 ┆ 000 ┆ 000 ┆ 000 ┆ 000 ┆ 000 ┆ 000 ┆ 000 ┆ 000 ┆ 000 ┆ 000 ┆ 000 ┆ 000 ┆ 000 ┆ 000 ┆ 000 ┆ 000 ┆ 000 ┆ 000 ┆ 000 ┆ 000 ┆ 001 ┆ 002 ┆ 003 ┆ 003 ┆ 002 ┆ 002 ┆ 002 ┆ 004 ┆ 008 ┆ 014 ┆ 018 ┆ 020 ┆ 021 ┆ 020 ┆ 019 ┆ 020 ┆ 022 ┆ 027 ┆ 037 ┆ 056 ┆ 070 ┆ 080 ┆ 085 ┆ 092 ┆ 097 ┆ 105 ┆ 112 ┆ 122 ┆ 125 ┆ 126 ┆ 126 ┆ 127 ┆ 128 ┆ 128 ┆ 129 ┆ 240 ┆ 601 ┆ 978 ┆ 063 ┆ 207 ┆ 017 ┆ 994 ┆ 816 ┆ 322 ┆ 390 ┆ 676 ┆ 688 ┆ 397 ┆ 950 ┆ 025 ┆     ┆     ┆     ┆     ┆     ┆ 262 ┆ 205 ┆ 505 ┆ 968 ┆ 021 ┆ 059 ┆ 330 ┆ 119 ┆ 816 ┆ 595 ┆     ┆     ┆     ┆ 384 ┆ 420 ┆ 810 ┆ 490 ┆ 525 ┆ 097 ┆     ┆ 280 ┆ 000 ┆ 000 ┆ 000 ┆ 000 ┆ 000 ┆ 000 ┆ 000 ┆ 000 ┆ 000 ┆ 000 ┆ 000 ┆ 000 ┆ 407 ┆ 271 ┆ 904 ┆ 397 ┆ 656 ┆ 900 ┆ 887 ┆ 281 ┆ 930 ┆ 827 ┆ 458 ┆ 475 ┆ 658 ┆ 857 ┆ 058 ┆ 955 ┆ 466 ┆ 311 ┆ 115 ┆ 075 ┆ 695 ┆ 055 ┆ 269 ┆ 395 ┆ 922 ┆ 708 ┆ 658 ┆ 196 ┆ 679 ┆ 776 ┆ 408 ┆ 000 ┆ 000 ┆ 000 ┆ 000 ┆ 000 ┆ 000 ┆ 000 ┆ 000 ┆ 000 ┆ 622 ┆ 218 ┆ 132 ┆ 059 ┆ 835 ┆     ┆ 867 ┆ 804 ┆ 343 ┆ 379 ┆ 519 ┆ 288 ┆ 800 ┆ 601 ┆ 977 ┆ 965 ┆ 257 ┆ 207 ┆ 084 ┆     ┆ 785 ┆ 322 ┆     ┆     ┆     ┆     ┆     ┆ 985 ┆ 025 ┆ 208 ┆ 439 ┆ 001 ┆ 190 ┆ 021 ┆ 929 ┆ 735 ┆ 256 ┆ 900 ┆ 552 ┆ 540 ┆ 040 ┆ 584 ┆ 197 ┆ 552 ┆ 842 ┆ 181 ┆ 445 ┆ 895 ┆ 974 ┆ 218 ┆ 514 ┆ 413 ┆ 723 ┆ 560 ┆ 232 ┆ 558 ┆ 744 ┆ 663 ┆ 501 ┆ 784 ┆ 586 ┆ 881 ┆ 178 ┆ 704 ┆ 959 ┆ 988 ┆ 574 ┆ 662 ┆ 211 ┆ 739 ┆ 309 ┆ 353 ┆ 984 ┆ 237 ┆ 384 ┆ 503 ┆ 631 ┆ 770 ┆ 135 ┆ 241 ┆ 185 ┆ 096 ┆ 027 ┆ 974 ┆ 901 ┆ 805 ┆ 648 ┆ 965 ┆ .12 ┆ 666 ┆ 940 ┆ 355 ┆ 363 ┆ 621 ┆ 983 ┆ 392 ┆ 798 ┆ 694 ┆ 867 ┆ 768 ┆ 269 ┆ 402 ┆ 026 ┆ 934 ┆ 025 ┆ 598 ┆ .72 ┆ .12 ┆ .23 ┆ .11 ┆ 825 ┆ 523 ┆ .55 ┆ .71 ┆ .10 ┆ .71 ┆ 868 ┆ 939 ┆ 703 ┆ 219 ┆ 540 ┆ 693 ┆ 359 ┆ 569 ┆ 373 ┆ 179 ┆ 207 ┆ 611 ┆ 268 ┆ 542 ┆ 875 ┆ 286 ┆ 673 ┆ 955 ┆ 523 ┆ 280 ┆ 460 ┆ 217 ┆ 664 ┆ 227 ┆ 426 ┆ 512 ┆ 519 ┆ 584 ┆ 594 ┆ 590 ┆ 542 ┆ 62. ┆ .00 ┆ .43 ┆ 138 ┆ 613 ┆ 335 ┆ 146 ┆ 844 ┆ 934 ┆ 604 ┆ 707 ┆ .39 ┆     ┆ 247 ┆ 752 ┆     ┆ 082 ┆ 180 ┆ 112 ┆ 000 ┆ 000 ┆ 000 ┆ 000 ┆ 000 ┆ 000 ┆ 000 ┆ 000 ┆ 000 ┆ 000 ┆ 000 ┆ 000 ┆ 000 ┆ 000 ┆ 315 ┆ 092 ┆ 922 ┆ 813 ┆ 838 ┆ 105 ┆ 687 ┆ 120 ┆ 512 ┆ 809 ┆ 668 ┆ 699 ┆ 575 ┆ 422 ┆ 365 ┆ 408 ┆ 470 ┆ 327 ┆ 205 ┆ 819 ┆ 903 ┆ 986 ┆ 011 ┆ 856 ┆ 708 ┆ 568 ┆ 128 ┆ 445 ┆ 796 ┆ 180 ┆ 696 ┆ 551 ┆ 416 ┆ 290 ┆ 170 ┆ 273 ┆ 925 ┆ 569 ┆ 213 ┆ 861 ┆ 092 ┆ 143 ┆ 196 ┆ 082 ┆ 767 ┆ 824 ┆ 272 ┆ 112 ┆ 314 ┆ 821 ┆ 550 ┆ 411 ┆ 326 ┆ 243 ┆ 137 ┆ 997 ┆ 811 ┆ 552 ┆ 181 ┆ 656 ┆ 945 ┆ 038 ┆ 861 ┆ 861 ┆ 861 ┆ 861 ┆ 861 ┆ 861 ┆ 861 ┆ 861 ┆ 861 ┆ 861 ┆ 861 ┆ 861 ┆ 861 ┆ 861 ┆ 861 ┆ 861 ┆ 861 ┆ 861 ┆ 861 ┆ 861 ┆ 861 ┆ 861 ┆ 861 ┆ 861 ┆ 861 ┆ 861 ┆ 861 ┆ 861 ┆ 861 ┆ 861 ┆ 861 ┆ 861 ┆ 861 ┆ 861 ┆ 861 ┆ 861 ┆ 861 ┆ 861 ┆ 861 ┆ 861 ┆ 861 ┆ 248 ┆ 493 ┆ 630 ┆ 969 ┆ 770 ┆ 180 ┆ 718 ┆ 957 ┆ 400 ┆ 012 ┆ 760 ┆ 624 ┆ 592 ┆ 649 ┆ 771 ┆ 923 ┆ 063 ┆ 159 ┆ 190 ┆ 086 ┆ 086 ┆ 086 ┆ 086 ┆ 086 ┆ 086 ┆ 086 ┆ 086 ┆ 086 ┆ 086 ┆ 086 ┆ 086 ┆ 086 ┆ 086 ┆ 086 ┆ 086 ┆ 086 ┆ 086 ┆ 086 ┆ 086 ┆ 086 ┆ 086 ┆ 086 ┆ 086 ┆ 086 ┆ 086 ┆ 086 ┆ 086 ┆ 086 ┆ 086 ┆ 086 ┆ 086 ┆ 086 ┆ 086 ┆ 086 ┆ 086 ┆ 086 ┆ 086 ┆ 086 ┆ 086 ┆ 086 │\n",
       "│ 938 ┆ 118 ┆ 025 ┆ 687 ┆ 014 ┆ 833 ┆ 309 ┆ 480 ┆ 304 ┆ 243 ┆ 790 ┆ 236 ┆ 939 ┆ 319 ┆ 926 ┆ 867 ┆ 208 ┆ 160 ┆ 081 ┆ 849 ┆ 943 ┆ 863 ┆ 528 ┆ 070 ┆ 604 ┆ 030 ┆ 032 ┆ 634 ┆ 737 ┆ 277 ┆ 168 ┆ 132 ┆ 600 ┆ 800 ┆ 643 ┆ 842 ┆ 543 ┆ 608 ┆ 172 ┆ 689 ┆ 174 ┆ 715 ┆ 473 ┆ 211 ┆ 679 ┆ 419 ┆ 263 ┆ 587 ┆ 184 ┆ 060 ┆ 946 ┆ 447 ┆ 447 ┆ 444 ┆ 118 ┆ 964 ┆ 581 ┆ 525 ┆ 086 ┆ 500 ┆ 99  ┆ 02  ┆ 02  ┆ 02  ┆ 02  ┆ 02  ┆ 02  ┆ 02  ┆ 02  ┆ 02  ┆ 02  ┆ 02  ┆ 02  ┆ 02  ┆ 02  ┆ 02  ┆ 02  ┆ 02  ┆ 02  ┆ 02  ┆ 03  ┆ 06  ┆ 07  ┆ 12  ┆ 39  ┆ 84  ┆ 53  ┆ 68  ┆ 59  ┆ 6   ┆ 97  ┆ 75  ┆ 98  ┆ 4   ┆ 63  ┆ 29  ┆ 63  ┆ 66  ┆ 47  ┆ 95  ┆ 96  ┆ 45  ┆ 01  ┆ 25  ┆ 83  ┆ 56  ┆ 51  ┆ 19  ┆ 82  ┆ 66  ┆ 02  ┆ 39  ┆ 49  ┆ 67  ┆ 45  ┆ 26  ┆ 95  ┆ 59  ┆ 06  ┆ 57  ┆ 66  ┆ e-3 ┆ e-3 ┆ e-3 ┆ e-3 ┆ e-3 ┆ e-3 ┆ e-3 ┆ e-3 ┆ e-3 ┆ e-3 ┆ e-3 ┆ e-3 ┆ e-4 ┆ e-4 ┆ e-5 ┆     ┆     ┆     ┆     ┆     ┆ e-5 ┆ e-4 ┆ e-4 ┆ e-4 ┆ e-3 ┆ e-3 ┆ e-2 ┆ e-2 ┆ e-1 ┆ e-1 ┆     ┆     ┆     ┆ e-8 ┆ e-8 ┆ e-7 ┆ e-7 ┆ e-7 ┆ e-7 ┆     ┆ e-8 ┆ 02  ┆ 03  ┆ 01  ┆ 08  ┆ 13  ┆ 26  ┆ 15  ┆ 17  ┆ 1   ┆ 11  ┆ 06  ┆ 01  ┆ e-7 ┆ e-7 ┆ e-7 ┆ e-7 ┆ e-8 ┆ e-7 ┆ e-8 ┆ e-1 ┆ e-1 ┆ e-1 ┆ e-1 ┆ e-1 ┆ e-1 ┆ e-1 ┆ e-1 ┆ e-1 ┆ e-1 ┆ e-1 ┆ e-1 ┆ e-1 ┆ e-2 ┆ e-2 ┆ e-1 ┆ e-1 ┆ e-8 ┆ e-8 ┆ e-7 ┆ e-9 ┆ e-9 ┆ e-8 ┆ e-7 ┆ 01  ┆ 02  ┆ 02  ┆ 02  ┆ 03  ┆ 04  ┆ 03  ┆ 02  ┆ 01  ┆ e-7 ┆ e-7 ┆ e-7 ┆ e-8 ┆ e-8 ┆     ┆ e-8 ┆ e-9 ┆ e-8 ┆ e-9 ┆ e-9 ┆ e-9 ┆ e-9 ┆ e-9 ┆ e-9 ┆ e-9 ┆ e-9 ┆ e-9 ┆ e-9 ┆     ┆ e-1 ┆ e-1 ┆     ┆     ┆     ┆     ┆     ┆ 733 ┆ 343 ┆ 433 ┆ 662 ┆ 918 ┆ 197 ┆ 533 ┆ 628 ┆ 208 ┆ 085 ┆ 56  ┆ 6   ┆ 92  ┆ 33  ┆ 37  ┆ 94  ┆ 734 ┆ 486 ┆ 561 ┆ 408 ┆ 726 ┆ 711 ┆ 588 ┆ 585 ┆ 059 ┆ 948 ┆ 689 ┆ 692 ┆ 484 ┆ 329 ┆ 329 ┆ 361 ┆ 877 ┆ 174 ┆ 074 ┆ 472 ┆ 635 ┆ 59  ┆ 883 ┆ 45  ┆ 12  ┆ 42  ┆ 32  ┆ 66  ┆ 02  ┆ 79  ┆ 4   ┆ 259 ┆ 452 ┆ 182 ┆ 764 ┆ 978 ┆ 799 ┆ 748 ┆ 547 ┆ 384 ┆ 548 ┆ 653 ┆ 298 ┆ 118 ┆ 289 ┆ 997 ┆ 485 ┆ 575 ┆ 44  ┆ 701 ┆ 11  ┆ 662 ┆ 965 ┆ 43  ┆ 08  ┆ 81  ┆ 95  ┆ 28  ┆ 234 ┆ 033 ┆ 82  ┆ 883 ┆ 888 ┆ 510 ┆ 488 ┆ 471 ┆ 534 ┆ 838 ┆ 812 ┆ 645 ┆ 486 ┆ 029 ┆ 861 ┆ 519 ┆ 118 ┆ 198 ┆ 15  ┆ 65  ┆ 31  ┆ 42  ┆ 8   ┆ 75  ┆ 13  ┆ 69  ┆ 74  ┆ 89  ┆ 47  ┆ 33  ┆ 86  ┆ 22  ┆ 01  ┆ 84  ┆ 08  ┆ 208 ┆ 157 ┆ 914 ┆ 255 ┆ 104 ┆ 243 ┆ 86  ┆ 885 ┆ 903 ┆ 013 ┆ 154 ┆ 158 ┆ 807 ┆ 786 ┆ 019 ┆ 92  ┆ 24  ┆ 17  ┆ 67  ┆ 85  ┆ 76  ┆ 29  ┆ 474 ┆     ┆ 11  ┆ 89  ┆     ┆ e-7 ┆ e-7 ┆ e-7 ┆ 02  ┆ 03  ┆ 05  ┆ 09  ┆ 14  ┆ 15  ┆ 15  ┆ 14  ┆ 12  ┆ 09  ┆ 06  ┆ 03  ┆ 02  ┆ 01  ┆ e-7 ┆ e-7 ┆ e-7 ┆ e-8 ┆ e-8 ┆ e-8 ┆ e-8 ┆ e-8 ┆ e-8 ┆ e-8 ┆ e-8 ┆ e-8 ┆ e-8 ┆ e-8 ┆ e-8 ┆ e-8 ┆ e-8 ┆ e-8 ┆ e-8 ┆ e-8 ┆ e-8 ┆ e-8 ┆ e-8 ┆ e-8 ┆ e-8 ┆ e-8 ┆ e-8 ┆ e-8 ┆ e-8 ┆ e-8 ┆ e-8 ┆ e-8 ┆ e-8 ┆ e-8 ┆ e-8 ┆ e-8 ┆ e-8 ┆ e-8 ┆ e-8 ┆ e-8 ┆ e-8 ┆ e-8 ┆ e-8 ┆ e-7 ┆ e-7 ┆ e-7 ┆ e-7 ┆ e-7 ┆ e-7 ┆ e-7 ┆ e-7 ┆ e-7 ┆ e-7 ┆ e-7 ┆ e-7 ┆ e-7 ┆ e-7 ┆ e-7 ┆ e-7 ┆ e-7 ┆ e-7 ┆ e-7 ┆ e-7 ┆ e-7 ┆ e-7 ┆ e-7 ┆ e-7 ┆ e-7 ┆ e-7 ┆ e-7 ┆ e-7 ┆ e-7 ┆ e-7 ┆ e-7 ┆ e-7 ┆ e-7 ┆ e-7 ┆ e-7 ┆ e-7 ┆ e-7 ┆ e-7 ┆ e-7 ┆ e-7 ┆ e-7 ┆ e-7 ┆ e-7 ┆ e-7 ┆ e-7 ┆ e-7 ┆ e-7 ┆ e-7 ┆ e-7 ┆ e-7 ┆ e-7 ┆ e-7 ┆ e-7 ┆ e-7 ┆ e-7 ┆ e-7 ┆ e-7 ┆ e-7 ┆ e-7 ┆ e-7 ┆ e-8 ┆ e-8 ┆ e-8 ┆ e-8 ┆ e-8 ┆ e-8 ┆ e-7 ┆ e-7 ┆ e-7 ┆ e-7 ┆ e-7 ┆ e-7 ┆ e-7 ┆ e-7 ┆ e-7 ┆ e-7 ┆ e-7 ┆ e-7 ┆ e-7 ┆ e-7 ┆ e-7 ┆ e-7 ┆ e-7 ┆ e-7 ┆ e-7 ┆ e-7 ┆ e-7 ┆ e-7 ┆ e-7 ┆ e-7 ┆ e-7 ┆ e-7 ┆ e-7 ┆ e-7 ┆ e-7 ┆ e-7 ┆ e-7 ┆ e-7 ┆ e-7 ┆ e-7 ┆ e-7 ┆ e-7 ┆ e-7 ┆ e-7 ┆ e-7 ┆ e-7 ┆ e-7 ┆ e-7 ┆ e-7 ┆ e-7 ┆ e-7 ┆ e-7 ┆ e-7 ┆ e-7 ┆ e-7 ┆ e-7 ┆ e-7 ┆ e-7 ┆ e-7 ┆ e-7 │\n",
       "│ 2   ┆ 4   ┆ 5   ┆     ┆ 9   ┆ 8   ┆ 4   ┆ 7   ┆     ┆ 8   ┆ 3   ┆ 8   ┆ 6   ┆ 1   ┆ 2   ┆ 5   ┆ 9   ┆ 3   ┆ 1   ┆ 7   ┆     ┆ 4   ┆     ┆ 7   ┆ 5   ┆ 2   ┆ 2   ┆ 1   ┆ 5   ┆ 4   ┆ 9   ┆ 4   ┆ 3   ┆ 9   ┆ 6   ┆ 2   ┆ 7   ┆ 9   ┆ 9   ┆ 3   ┆ 3   ┆ 2   ┆ 6   ┆ 6   ┆ 1   ┆ 2   ┆ 4   ┆ 8   ┆ 7   ┆ 3   ┆ 2   ┆     ┆ 9   ┆ 5   ┆ 8   ┆ 1   ┆     ┆ 3   ┆     ┆ 1   ┆     ┆     ┆     ┆     ┆     ┆     ┆     ┆     ┆     ┆     ┆     ┆     ┆     ┆     ┆     ┆     ┆     ┆     ┆     ┆     ┆     ┆     ┆     ┆     ┆     ┆     ┆     ┆     ┆     ┆     ┆     ┆     ┆     ┆     ┆     ┆     ┆     ┆     ┆     ┆     ┆     ┆     ┆     ┆     ┆     ┆     ┆     ┆     ┆     ┆     ┆     ┆     ┆     ┆     ┆     ┆     ┆     ┆     ┆     ┆     ┆     ┆ 7   ┆ 8   ┆ 8   ┆ 8   ┆ 8   ┆ 8   ┆ 8   ┆ 8   ┆ 8   ┆ 8   ┆ 8   ┆ 8   ┆ 4   ┆ 7   ┆ 4   ┆     ┆     ┆     ┆     ┆     ┆ 4   ┆ 9   ┆ 5   ┆ 0   ┆ 7   ┆ 2   ┆ 7   ┆ 3   ┆ 9   ┆ 8   ┆     ┆     ┆     ┆     ┆     ┆     ┆     ┆     ┆     ┆     ┆     ┆     ┆     ┆     ┆     ┆     ┆     ┆     ┆     ┆     ┆     ┆     ┆     ┆     ┆     ┆     ┆     ┆     ┆     ┆     ┆ 2   ┆ 2   ┆ 2   ┆ 2   ┆ 2   ┆ 2   ┆ 2   ┆ 2   ┆ 2   ┆ 2   ┆ 3   ┆ 3   ┆ 8   ┆ 2   ┆ 3   ┆ 7   ┆ 1   ┆     ┆     ┆     ┆     ┆     ┆     ┆     ┆     ┆     ┆     ┆     ┆     ┆     ┆     ┆     ┆     ┆     ┆     ┆     ┆     ┆     ┆     ┆     ┆     ┆     ┆     ┆     ┆     ┆     ┆     ┆     ┆     ┆     ┆     ┆     ┆     ┆ 0   ┆ 1   ┆     ┆     ┆     ┆     ┆     ┆     ┆     ┆     ┆     ┆     ┆     ┆     ┆     ┆     ┆     ┆     ┆     ┆     ┆     ┆     ┆     ┆     ┆     ┆     ┆     ┆     ┆     ┆     ┆     ┆     ┆     ┆     ┆     ┆     ┆     ┆     ┆     ┆     ┆     ┆     ┆     ┆     ┆     ┆     ┆     ┆     ┆     ┆     ┆     ┆     ┆     ┆     ┆     ┆     ┆     ┆     ┆     ┆     ┆     ┆     ┆     ┆     ┆     ┆     ┆     ┆     ┆ 9   ┆     ┆     ┆     ┆     ┆     ┆     ┆     ┆     ┆     ┆     ┆     ┆     ┆     ┆     ┆     ┆     ┆     ┆ 5   ┆     ┆ 3   ┆ 2   ┆     ┆     ┆ 4   ┆ 8   ┆ 6   ┆ 2   ┆     ┆     ┆     ┆     ┆     ┆     ┆     ┆     ┆     ┆     ┆     ┆     ┆     ┆     ┆     ┆     ┆     ┆     ┆     ┆     ┆     ┆     ┆     ┆     ┆     ┆     ┆     ┆     ┆     ┆     ┆     ┆ 347 ┆ 1   ┆ 9   ┆     ┆     ┆     ┆     ┆     ┆     ┆     ┆     ┆ 3   ┆     ┆     ┆     ┆     ┆     ┆     ┆     ┆     ┆     ┆     ┆     ┆     ┆     ┆     ┆     ┆     ┆     ┆     ┆     ┆     ┆     ┆     ┆     ┆     ┆     ┆     ┆     ┆     ┆     ┆     ┆     ┆     ┆     ┆     ┆     ┆     ┆     ┆     ┆     ┆     ┆     ┆     ┆     ┆     ┆     ┆     ┆     ┆     ┆     ┆     ┆     ┆     ┆     ┆     ┆     ┆     ┆     ┆     ┆     ┆     ┆     ┆     ┆     ┆     ┆     ┆     ┆     ┆     ┆     ┆     ┆     ┆     ┆     ┆     ┆     ┆     ┆     ┆     ┆     ┆     ┆     ┆     ┆     ┆     ┆     ┆     ┆     ┆     ┆     ┆     ┆     ┆     ┆     ┆     ┆     ┆     ┆     ┆     ┆     ┆     ┆     ┆     ┆     ┆     ┆     ┆     ┆     ┆     ┆     ┆     ┆     ┆     ┆     ┆     ┆     ┆     ┆     ┆     ┆     ┆     ┆     ┆     ┆     ┆     ┆     ┆     ┆     ┆     ┆     ┆     ┆     ┆     ┆     ┆     ┆     ┆     ┆     ┆     ┆     ┆     ┆     ┆     ┆     ┆     ┆     ┆     ┆     ┆     ┆     ┆     ┆     ┆     ┆     ┆     ┆     ┆     ┆     ┆     ┆     ┆     ┆     ┆     ┆     ┆     ┆     ┆     ┆     ┆     ┆     ┆     ┆     ┆     ┆     ┆     ┆     ┆     ┆     ┆     ┆     ┆     ┆     ┆     ┆     ┆     │\n",
       "│ tes ┆ 214 ┆ 233 ┆ 237 ┆ 248 ┆ 252 ┆ 261 ┆ 257 ┆ 248 ┆ 237 ┆ 229 ┆ 224 ┆ 219 ┆ 214 ┆ 209 ┆ 202 ┆ 198 ┆ 195 ┆ 190 ┆ 190 ┆ 193 ┆ 199 ┆ 204 ┆ 210 ┆ 215 ┆ 221 ┆ 226 ┆ 231 ┆ 235 ┆ 239 ┆ 243 ┆ 246 ┆ 250 ┆ 253 ┆ 256 ┆ 258 ┆ 261 ┆ 264 ┆ 267 ┆ 269 ┆ 272 ┆ 274 ┆ 276 ┆ 278 ┆ 280 ┆ 282 ┆ 283 ┆ 285 ┆ 286 ┆ 287 ┆ 288 ┆ 289 ┆ 290 ┆ 290 ┆ 291 ┆ 292 ┆ 293 ┆ 294 ┆ 296 ┆ 297 ┆ 298 ┆ 0.0 ┆ 0.0 ┆ 0.0 ┆ 0.0 ┆ 0.0 ┆ 0.0 ┆ 0.0 ┆ 0.0 ┆ 0.0 ┆ 0.0 ┆ 0.0 ┆ 0.0 ┆ 0.0 ┆ 0.0 ┆ 0.0 ┆ 0.0 ┆ 0.0 ┆ 0.0 ┆ 0.0 ┆ 0.0 ┆ 0.0 ┆ 0.0 ┆ 0.0 ┆ 0.0 ┆ 0.0 ┆ 0.0 ┆ 0.0 ┆ 0.0 ┆ 0.0 ┆ 0.0 ┆ 0.0 ┆ 0.0 ┆ 0.0 ┆ 0.0 ┆ 0.0 ┆ 0.0 ┆ 0.0 ┆ 0.0 ┆ 0.0 ┆ 0.0 ┆ 0.0 ┆ 0.0 ┆ 0.0 ┆ 0.0 ┆ 0.0 ┆ 0.0 ┆ 0.0 ┆ 0.0 ┆ 0.0 ┆ 0.0 ┆ 0.0 ┆ 0.0 ┆ 0.0 ┆ 0.0 ┆ 0.0 ┆ 0.0 ┆ 0.0 ┆ 0.0 ┆ 0.0 ┆ 0.0 ┆ 1.0 ┆ 9.6 ┆ 8.6 ┆ 7.5 ┆ 6.5 ┆ 5.3 ┆ 5.1 ┆ 3.8 ┆ 3.3 ┆ 2.1 ┆ 1.9 ┆ 9.7 ┆ 5.1 ┆ 1.4 ┆ 0.0 ┆ 0.0 ┆ 0.0 ┆ 0.0 ┆ 0.0 ┆ 0.0 ┆ 0.0 ┆ 7.6 ┆ 7.1 ┆ 2.3 ┆ 0.0 ┆ 0.0 ┆ 0.0 ┆ 0.0 ┆ 8.1 ┆ 2.6 ┆ 1.1 ┆ 1.1 ┆ 1.7 ┆ 0.0 ┆ 0.0 ┆ 6.1 ┆ 6.8 ┆ 9.5 ┆ 0.0 ┆ 0.0 ┆ 0.0 ┆ 0.0 ┆ 0.0 ┆ 0.0 ┆ 0.0 ┆ 0.0 ┆ 0.0 ┆ 0.0 ┆ 0.0 ┆ 0.0 ┆ 0.0 ┆ 0.0 ┆ 0.0 ┆ 0.0 ┆ 0.0 ┆ 0.0 ┆ 4.8 ┆ 5.4 ┆ 1.1 ┆ 3.1 ┆ 6.2 ┆ 6.5 ┆ 6.7 ┆ 7.5 ┆ 7.5 ┆ 8.9 ┆ 6.4 ┆ 4.1 ┆ 2.1 ┆ 1.2 ┆ 8.6 ┆ 3.2 ┆ 1.7 ┆ 1.2 ┆ 1.0 ┆ 9.7 ┆ 4.8 ┆ 0.0 ┆ 5.4 ┆ 1.2 ┆ 2.4 ┆ 1.4 ┆ 5.7 ┆ 0.0 ┆ 0.0 ┆ 0.0 ┆ 0.0 ┆ 0.0 ┆ 0.0 ┆ 0.0 ┆ 0.0 ┆ 0.0 ┆ 0.0 ┆ 0.0 ┆ 0.0 ┆ 9.4 ┆ 8.3 ┆ 1.2 ┆ 3.8 ┆ 8.5 ┆ 8.1 ┆ 2.4 ┆ 3.4 ┆ 4.9 ┆ 6.3 ┆ 8.6 ┆ 9.9 ┆ 1.0 ┆ 9.7 ┆ 8.5 ┆ 7.7 ┆ 6.7 ┆ 1.3 ┆ 0.0 ┆ 0.0 ┆ 5.1 ┆ 2.2 ┆ 4.1 ┆ 6.6 ┆ 4.8 ┆ 26. ┆ 38. ┆ 44. ┆ 50. ┆ 40. ┆ 31. ┆ 30. ┆ 27. ┆ 20. ┆ 14. ┆ 9.7 ┆ 4.8 ┆ 2.6 ┆ 2.7 ┆ 2.9 ┆ 7.0 ┆ 15. ┆ 21. ┆ 26. ┆ 30. ┆ 35. ┆ 40. ┆ 41. ┆ 41. ┆ 38. ┆ 34. ┆ 31. ┆ 27. ┆ 24. ┆ 23. ┆ 21. ┆ 20. ┆ 19. ┆ 18. ┆ 16. ┆ 14. ┆ 12. ┆ 10. ┆ 9.0 ┆ 7.3 ┆ 5.8 ┆ 4.5 ┆ 3.3 ┆ 2.3 ┆ 1.4 ┆ 0.6 ┆ -0. ┆ -0. ┆ -1. ┆ -2. ┆ -2. ┆ -3. ┆ -3. ┆ -3. ┆ -3. ┆ -3. ┆ -3. ┆ -3. ┆ -2. ┆ -2. ┆ -19 ┆ -7. ┆ 5.0 ┆ 16. ┆ 6.0 ┆ 14. ┆ 0.5 ┆ 0.0 ┆ -1. ┆ -0. ┆ 0.7 ┆ 0.9 ┆ 0.2 ┆ 0.3 ┆ 1.0 ┆ 1.4 ┆ 2.5 ┆ 2.2 ┆ 0.0 ┆ -5. ┆ -10 ┆ -12 ┆ -12 ┆ -12 ┆ -11 ┆ -10 ┆ -6. ┆ -2. ┆ 1.0 ┆ 3.7 ┆ 5.0 ┆ 5.2 ┆ 5.2 ┆ 4.8 ┆ 4.2 ┆ 3.6 ┆ 3.0 ┆ 2.6 ┆ 2.3 ┆ 2.1 ┆ 2.0 ┆ 1.8 ┆ 1.6 ┆ 1.4 ┆ 1.0 ┆ 0.5 ┆ -0. ┆ -0. ┆ -1. ┆ -1. ┆ -2. ┆ -2. ┆ -2. ┆ -2. ┆ -3. ┆ -3. ┆ -3. ┆ -3. ┆ -2. ┆ -2. ┆ 984 ┆ 525 ┆ 132 ┆ 18. ┆ 0.0 ┆ 0.0 ┆ 0.3 ┆ 0.1 ┆ 0.1 ┆ 0.0 ┆ 0.0 ┆ 460 ┆ 0.0 ┆ 0.4 ┆ 0.5 ┆ 0.0 ┆ 3.0 ┆ 5.4 ┆ 9.6 ┆ 0.0 ┆ 0.0 ┆ 0.0 ┆ 0.0 ┆ 0.0 ┆ 0.0 ┆ 0.0 ┆ 0.0 ┆ 0.0 ┆ 0.0 ┆ 0.0 ┆ 0.0 ┆ 0.0 ┆ 9.3 ┆ 4.0 ┆ 1.9 ┆ 1.2 ┆ 9.8 ┆ 8.2 ┆ 7.2 ┆ 6.5 ┆ 6.2 ┆ 6.0 ┆ 6.0 ┆ 6.0 ┆ 6.1 ┆ 6.2 ┆ 6.2 ┆ 6.3 ┆ 6.4 ┆ 6.5 ┆ 6.6 ┆ 6.7 ┆ 6.8 ┆ 6.9 ┆ 7.0 ┆ 7.0 ┆ 7.0 ┆ 7.1 ┆ 6.9 ┆ 6.7 ┆ 6.5 ┆ 6.4 ┆ 6.4 ┆ 6.3 ┆ 6.3 ┆ 6.3 ┆ 6.3 ┆ 6.3 ┆ 6.2 ┆ 6.2 ┆ 6.1 ┆ 6.0 ┆ 5.9 ┆ 5.7 ┆ 5.7 ┆ 5.7 ┆ 1.8 ┆ 2.0 ┆ 2.3 ┆ 2.7 ┆ 3.1 ┆ 3.5 ┆ 3.9 ┆ 4.4 ┆ 4.9 ┆ 5.4 ┆ 5.9 ┆ 6.4 ┆ 6.8 ┆ 7.3 ┆ 7.8 ┆ 8.3 ┆ 8.7 ┆ 9.1 ┆ 9.5 ┆ 9.9 ┆ 9.9 ┆ 9.9 ┆ 9.9 ┆ 9.9 ┆ 9.9 ┆ 9.9 ┆ 9.9 ┆ 9.9 ┆ 9.9 ┆ 9.9 ┆ 9.9 ┆ 9.9 ┆ 9.9 ┆ 9.9 ┆ 9.9 ┆ 9.9 ┆ 9.9 ┆ 9.9 ┆ 9.9 ┆ 9.9 ┆ 9.9 ┆ 9.9 ┆ 9.9 ┆ 9.9 ┆ 9.9 ┆ 9.9 ┆ 9.9 ┆ 9.9 ┆ 9.9 ┆ 9.9 ┆ 9.9 ┆ 9.9 ┆ 9.9 ┆ 9.9 ┆ 9.9 ┆ 9.9 ┆ 9.9 ┆ 9.9 ┆ 9.9 ┆ 9.9 ┆ 3.3 ┆ 4.2 ┆ 5.2 ┆ 6.4 ┆ 7.9 ┆ 9.6 ┆ 1.1 ┆ 1.3 ┆ 1.6 ┆ 1.8 ┆ 2.1 ┆ 2.4 ┆ 2.7 ┆ 3.0 ┆ 3.3 ┆ 3.6 ┆ 3.9 ┆ 4.3 ┆ 4.6 ┆ 4.9 ┆ 4.9 ┆ 4.9 ┆ 4.9 ┆ 4.9 ┆ 4.9 ┆ 4.9 ┆ 4.9 ┆ 4.9 ┆ 4.9 ┆ 4.9 ┆ 4.9 ┆ 4.9 ┆ 4.9 ┆ 4.9 ┆ 4.9 ┆ 4.9 ┆ 4.9 ┆ 4.9 ┆ 4.9 ┆ 4.9 ┆ 4.9 ┆ 4.9 ┆ 4.9 ┆ 4.9 ┆ 4.9 ┆ 4.9 ┆ 4.9 ┆ 4.9 ┆ 4.9 ┆ 4.9 ┆ 4.9 ┆ 4.9 ┆ 4.9 ┆ 4.9 ┆ 4.9 ┆ 4.9 ┆ 4.9 ┆ 4.9 ┆ 4.9 ┆ 4.9 │\n",
       "│ t_6 ┆ .54 ┆ .46 ┆ .85 ┆ .36 ┆ .35 ┆ .42 ┆ .17 ┆ .37 ┆ .31 ┆ .16 ┆ .54 ┆ .77 ┆ .13 ┆ .30 ┆ .74 ┆ .44 ┆ .44 ┆ .55 ┆ .98 ┆ .93 ┆ .34 ┆ .20 ┆ .20 ┆ .43 ┆ .24 ┆ .46 ┆ .25 ┆ .39 ┆ .42 ┆ .19 ┆ .84 ┆ .23 ┆ .23 ┆ .03 ┆ .78 ┆ .77 ┆ .58 ┆ .21 ┆ .92 ┆ .45 ┆ .88 ┆ .98 ┆ .82 ┆ .44 ┆ .11 ┆ .70 ┆ .05 ┆ .34 ┆ .24 ┆ .19 ┆ .23 ┆ .06 ┆ .91 ┆ .78 ┆ .83 ┆ .82 ┆ .96 ┆ .00 ┆ .14 ┆ .33 ┆ 000 ┆ 000 ┆ 000 ┆ 000 ┆ 000 ┆ 000 ┆ 000 ┆ 000 ┆ 000 ┆ 000 ┆ 000 ┆ 000 ┆ 000 ┆ 000 ┆ 000 ┆ 000 ┆ 000 ┆ 000 ┆ 000 ┆ 000 ┆ 000 ┆ 000 ┆ 000 ┆ 000 ┆ 000 ┆ 001 ┆ 001 ┆ 003 ┆ 004 ┆ 006 ┆ 007 ┆ 009 ┆ 010 ┆ 013 ┆ 016 ┆ 017 ┆ 020 ┆ 024 ┆ 030 ┆ 037 ┆ 044 ┆ 051 ┆ 059 ┆ 066 ┆ 072 ┆ 078 ┆ 085 ┆ 090 ┆ 099 ┆ 106 ┆ 110 ┆ 116 ┆ 123 ┆ 129 ┆ 132 ┆ 137 ┆ 138 ┆ 142 ┆ 143 ┆ 145 ┆ 053 ┆ 761 ┆ 073 ┆ 284 ┆ 289 ┆ 307 ┆ 958 ┆ 087 ┆ 045 ┆ 781 ┆ 838 ┆ 569 ┆ 639 ┆ 710 ┆     ┆     ┆     ┆     ┆     ┆     ┆     ┆ 737 ┆ 301 ┆ 488 ┆     ┆     ┆     ┆     ┆ 064 ┆ 918 ┆ 465 ┆ 626 ┆ 548 ┆ 000 ┆ 000 ┆ 742 ┆ 795 ┆ 800 ┆ 000 ┆ 000 ┆ 000 ┆ 000 ┆ 000 ┆ 000 ┆ 000 ┆ 000 ┆ 000 ┆ 000 ┆ 000 ┆ 000 ┆ 000 ┆ 000 ┆ 000 ┆ 000 ┆ 000 ┆     ┆ 502 ┆ 026 ┆ 691 ┆ 324 ┆ 827 ┆ 066 ┆ 600 ┆ 840 ┆ 201 ┆ 972 ┆ 027 ┆ 368 ┆ 367 ┆ 561 ┆ 818 ┆ 672 ┆ 113 ┆ 354 ┆ 416 ┆ 141 ┆ 089 ┆     ┆ 496 ┆ 317 ┆ 247 ┆ 823 ┆ 093 ┆ 000 ┆ 000 ┆ 000 ┆ 000 ┆ 000 ┆ 000 ┆ 000 ┆ 000 ┆ 000 ┆ 000 ┆ 000 ┆ 000 ┆ 068 ┆ 139 ┆ 426 ┆ 286 ┆ 483 ┆ 107 ┆ 125 ┆ 059 ┆ 822 ┆ 725 ┆ 643 ┆ 024 ┆ 750 ┆ 164 ┆ 857 ┆ 663 ┆ 589 ┆ 300 ┆     ┆     ┆ 521 ┆ 926 ┆ 159 ┆ 932 ┆ 389 ┆ 766 ┆ 326 ┆ 364 ┆ 504 ┆ 427 ┆ 241 ┆ 402 ┆ 722 ┆ 383 ┆ 493 ┆ 586 ┆ 785 ┆ 832 ┆ 609 ┆ 635 ┆ 875 ┆ 348 ┆ 242 ┆ 108 ┆ 126 ┆ 599 ┆ 136 ┆ 652 ┆ 121 ┆ 686 ┆ 965 ┆ 105 ┆ 512 ┆ 737 ┆ 037 ┆ 860 ┆ 854 ┆ 693 ┆ 156 ┆ 349 ┆ 623 ┆ 867 ┆ 999 ┆ 428 ┆ 435 ┆ 934 ┆ 539 ┆ 750 ┆ 741 ┆ 389 ┆ 036 ┆ 173 ┆ 930 ┆ 617 ┆ 284 ┆ 797 ┆ 156 ┆ 366 ┆ 481 ┆ 525 ┆ 454 ┆ 384 ┆ 113 ┆ 909 ┆ 618 ┆ .71 ┆ 008 ┆ 984 ┆ 692 ┆ 398 ┆ 258 ┆ 305 ┆ 540 ┆ 110 ┆ 972 ┆ 543 ┆ 950 ┆ 395 ┆ 931 ┆ 700 ┆ 122 ┆ 652 ┆ 346 ┆ 583 ┆ 735 ┆ .93 ┆ .98 ┆ .88 ┆ .57 ┆ .84 ┆ .10 ┆ 941 ┆ 603 ┆ 492 ┆ 231 ┆ 487 ┆ 964 ┆ 358 ┆ 085 ┆ 367 ┆ 257 ┆ 153 ┆ 051 ┆ 492 ┆ 552 ┆ 172 ┆ 579 ┆ 872 ┆ 015 ┆ 061 ┆ 147 ┆ 013 ┆ 566 ┆ 087 ┆ 582 ┆ 035 ┆ 415 ┆ 685 ┆ 897 ┆ 029 ┆ 136 ┆ 149 ┆ 058 ┆ 957 ┆ 749 ┆ 63. ┆ .70 ┆ .10 ┆ 355 ┆ 611 ┆ 621 ┆ 736 ┆ 426 ┆ 832 ┆ 589 ┆ 944 ┆ .09 ┆     ┆ 014 ┆ 985 ┆     ┆ 046 ┆ 114 ┆ 993 ┆ 000 ┆ 000 ┆ 000 ┆ 000 ┆ 000 ┆ 000 ┆ 000 ┆ 000 ┆ 000 ┆ 000 ┆ 000 ┆ 000 ┆ 000 ┆ 332 ┆ 457 ┆ 842 ┆ 794 ┆ 775 ┆ 898 ┆ 434 ┆ 700 ┆ 111 ┆ 836 ┆ 226 ┆ 869 ┆ 481 ┆ 038 ┆ 637 ┆ 359 ┆ 105 ┆ 292 ┆ 596 ┆ 845 ┆ 833 ┆ 828 ┆ 558 ┆ 732 ┆ 900 ┆ 004 ┆ 089 ┆ 275 ┆ 551 ┆ 353 ┆ 043 ┆ 750 ┆ 476 ┆ 262 ┆ 129 ┆ 004 ┆ 884 ┆ 481 ┆ 659 ┆ 837 ┆ 535 ┆ 958 ┆ 958 ┆ 958 ┆ 050 ┆ 730 ┆ 782 ┆ 224 ┆ 057 ┆ 252 ┆ 751 ┆ 472 ┆ 324 ┆ 230 ┆ 139 ┆ 024 ┆ 876 ┆ 681 ┆ 414 ┆ 035 ┆ 502 ┆ 783 ┆ 869 ┆ 766 ┆ 861 ┆ 861 ┆ 861 ┆ 861 ┆ 861 ┆ 861 ┆ 861 ┆ 861 ┆ 861 ┆ 861 ┆ 861 ┆ 861 ┆ 861 ┆ 861 ┆ 861 ┆ 861 ┆ 861 ┆ 861 ┆ 861 ┆ 861 ┆ 861 ┆ 861 ┆ 861 ┆ 861 ┆ 861 ┆ 861 ┆ 861 ┆ 861 ┆ 861 ┆ 861 ┆ 861 ┆ 861 ┆ 861 ┆ 861 ┆ 861 ┆ 861 ┆ 861 ┆ 861 ┆ 861 ┆ 861 ┆ 986 ┆ 184 ┆ 268 ┆ 547 ┆ 282 ┆ 621 ┆ 655 ┆ 886 ┆ 322 ┆ 926 ┆ 667 ┆ 525 ┆ 487 ┆ 538 ┆ 655 ┆ 802 ┆ 938 ┆ 031 ┆ 058 ┆ 014 ┆ 086 ┆ 086 ┆ 086 ┆ 086 ┆ 086 ┆ 086 ┆ 086 ┆ 086 ┆ 086 ┆ 086 ┆ 086 ┆ 086 ┆ 086 ┆ 086 ┆ 086 ┆ 086 ┆ 086 ┆ 086 ┆ 086 ┆ 086 ┆ 086 ┆ 086 ┆ 086 ┆ 086 ┆ 086 ┆ 086 ┆ 086 ┆ 086 ┆ 086 ┆ 086 ┆ 086 ┆ 086 ┆ 086 ┆ 086 ┆ 086 ┆ 086 ┆ 086 ┆ 086 ┆ 086 ┆ 086 │\n",
       "│ 013 ┆ 690 ┆ 088 ┆ 057 ┆ 119 ┆ 375 ┆ 646 ┆ 252 ┆ 148 ┆ 665 ┆ 794 ┆ 255 ┆ 220 ┆ 307 ┆ 952 ┆ 787 ┆ 803 ┆ 095 ┆ 546 ┆ 908 ┆ 086 ┆ 107 ┆ 467 ┆ 923 ┆ 66  ┆ 639 ┆ 801 ┆ 908 ┆ 401 ┆ 433 ┆ 983 ┆ 374 ┆ 620 ┆ 465 ┆ 563 ┆ 251 ┆ 499 ┆ 027 ┆ 350 ┆ 114 ┆ 624 ┆ 559 ┆ 932 ┆ 592 ┆ 445 ┆ 135 ┆ 179 ┆ 509 ┆ 261 ┆ 152 ┆ 072 ┆ 910 ┆ 59  ┆ 658 ┆ 447 ┆ 576 ┆ 904 ┆ 378 ┆ 140 ┆ 843 ┆ 091 ┆ 02  ┆ 02  ┆ 02  ┆ 02  ┆ 02  ┆ 02  ┆ 02  ┆ 02  ┆ 02  ┆ 02  ┆ 02  ┆ 02  ┆ 02  ┆ 02  ┆ 02  ┆ 02  ┆ 02  ┆ 02  ┆ 02  ┆ 03  ┆ 06  ┆ 08  ┆ 18  ┆ 4   ┆ 78  ┆ 27  ┆ 79  ┆ 05  ┆ 57  ┆ 08  ┆ 61  ┆ 09  ┆ 88  ┆ 83  ┆ 72  ┆ 9   ┆ 11  ┆ 33  ┆ 17  ┆ 47  ┆ 49  ┆ 63  ┆ 65  ┆ 54  ┆ 81  ┆ 52  ┆ 6   ┆ 93  ┆ 12  ┆ 05  ┆ 21  ┆ 8   ┆ 62  ┆ 85  ┆ 53  ┆ 96  ┆ 65  ┆ 51  ┆ 63  ┆ 07  ┆ e-3 ┆ e-3 ┆ e-3 ┆ e-3 ┆ e-3 ┆ e-3 ┆ e-3 ┆ e-3 ┆ e-3 ┆ e-3 ┆ e-3 ┆ e-3 ┆ e-4 ┆ e-5 ┆     ┆     ┆     ┆     ┆     ┆     ┆     ┆ e-5 ┆ e-4 ┆ e-4 ┆     ┆     ┆     ┆     ┆ e-2 ┆ e-1 ┆ e-1 ┆ e-9 ┆ e-7 ┆ 02  ┆ 02  ┆ e-7 ┆ e-8 ┆ e-8 ┆ 02  ┆ 07  ┆ 06  ┆ 25  ┆ 22  ┆ 15  ┆ 32  ┆ 31  ┆ 22  ┆ 12  ┆ 31  ┆ 42  ┆ 29  ┆ 16  ┆ 14  ┆ 08  ┆ 02  ┆     ┆ e-7 ┆ e-8 ┆ e-7 ┆ e-8 ┆ e-1 ┆ e-1 ┆ e-1 ┆ e-1 ┆ e-1 ┆ e-1 ┆ e-1 ┆ e-1 ┆ e-1 ┆ e-1 ┆ e-1 ┆ e-1 ┆ e-1 ┆ e-2 ┆ e-2 ┆ e-1 ┆ e-1 ┆     ┆ e-9 ┆ e-7 ┆ e-9 ┆ e-7 ┆ e-7 ┆ 03  ┆ 03  ┆ 01  ┆ 01  ┆ 17  ┆ 34  ┆ 51  ┆ 47  ┆ 34  ┆ 21  ┆ 11  ┆ 06  ┆ e-7 ┆ e-8 ┆ e-7 ┆ e-7 ┆ e-8 ┆ e-8 ┆ e-8 ┆ e-8 ┆ e-8 ┆ e-8 ┆ e-8 ┆ e-8 ┆ e-7 ┆ e-8 ┆ e-8 ┆ e-8 ┆ e-8 ┆ e-9 ┆     ┆     ┆ e-1 ┆ e-1 ┆ e-1 ┆ e-1 ┆ e-1 ┆ 125 ┆ 466 ┆ 158 ┆ 799 ┆ 283 ┆ 199 ┆ 445 ┆ 321 ┆ 986 ┆ 661 ┆ 15  ┆ 46  ┆ 49  ┆ 8   ┆ 64  ┆     ┆ 046 ┆ 244 ┆ 509 ┆ 443 ┆ 535 ┆ 581 ┆ 886 ┆ 061 ┆ 804 ┆ 231 ┆ 139 ┆ 96  ┆ 766 ┆ 146 ┆ 157 ┆ 756 ┆ 072 ┆ 475 ┆ 687 ┆ 607 ┆ 586 ┆ 232 ┆ 02  ┆ 2   ┆ 71  ┆ 44  ┆ 12  ┆ 91  ┆ 02  ┆ 76  ┆ 665 ┆ 428 ┆ 219 ┆ 518 ┆ 098 ┆ 353 ┆ 056 ┆ 461 ┆ 668 ┆ 358 ┆ 439 ┆ 365 ┆ 109 ┆ 813 ┆ 489 ┆ 516 ┆ 22  ┆ 305 ┆ 38  ┆ 133 ┆ 96  ┆ 57  ┆ 178 ┆ 205 ┆ 06  ┆ 24  ┆ 25  ┆ 46  ┆ 35  ┆ 89  ┆ 32  ┆ 06  ┆ 34  ┆ 292 ┆ 217 ┆ 623 ┆ 489 ┆ 391 ┆ 733 ┆ 754 ┆ 908 ┆ 484 ┆ 67  ┆ 52  ┆ 24  ┆ 05  ┆ 92  ┆ 92  ┆ 25  ┆ 06  ┆ 51  ┆ 33  ┆ 06  ┆ 75  ┆ 06  ┆ 69  ┆ 04  ┆ 92  ┆ 44  ┆ 13  ┆ 485 ┆ 443 ┆ 8   ┆ 165 ┆ 671 ┆ 875 ┆ 827 ┆ 569 ┆ 162 ┆ 76  ┆ 133 ┆ 256 ┆ 907 ┆ 553 ┆ 738 ┆ 208 ┆ 793 ┆ 525 ┆ 75  ┆ 1   ┆ 63  ┆ 97  ┆ 34  ┆ 91  ┆ 76  ┆ 122 ┆     ┆ 65  ┆ 35  ┆     ┆ e-7 ┆ e-7 ┆ e-7 ┆ 02  ┆ 03  ┆ 05  ┆ 09  ┆ 14  ┆ 15  ┆ 15  ┆ 14  ┆ 12  ┆ 09  ┆ 06  ┆ 03  ┆ 02  ┆ e-7 ┆ e-7 ┆ e-7 ┆ e-7 ┆ e-8 ┆ e-8 ┆ e-8 ┆ e-8 ┆ e-8 ┆ e-8 ┆ e-8 ┆ e-8 ┆ e-8 ┆ e-8 ┆ e-8 ┆ e-8 ┆ e-8 ┆ e-8 ┆ e-8 ┆ e-8 ┆ e-8 ┆ e-8 ┆ e-8 ┆ e-8 ┆ e-8 ┆ e-8 ┆ e-8 ┆ e-8 ┆ e-8 ┆ e-8 ┆ e-8 ┆ e-8 ┆ e-8 ┆ e-8 ┆ e-8 ┆ e-8 ┆ e-8 ┆ e-8 ┆ e-8 ┆ e-8 ┆ e-8 ┆ e-8 ┆ e-8 ┆ e-8 ┆ e-7 ┆ e-7 ┆ e-7 ┆ e-7 ┆ e-7 ┆ e-7 ┆ e-7 ┆ e-7 ┆ e-7 ┆ e-7 ┆ e-7 ┆ e-7 ┆ e-7 ┆ e-7 ┆ e-7 ┆ e-7 ┆ e-7 ┆ e-7 ┆ e-7 ┆ e-7 ┆ e-7 ┆ e-7 ┆ e-7 ┆ e-7 ┆ e-7 ┆ e-7 ┆ e-7 ┆ e-7 ┆ e-7 ┆ e-7 ┆ e-7 ┆ e-7 ┆ e-7 ┆ e-7 ┆ e-7 ┆ e-7 ┆ e-7 ┆ e-7 ┆ e-7 ┆ e-7 ┆ e-7 ┆ e-7 ┆ e-7 ┆ e-7 ┆ e-7 ┆ e-7 ┆ e-7 ┆ e-7 ┆ e-7 ┆ e-7 ┆ e-7 ┆ e-7 ┆ e-7 ┆ e-7 ┆ e-7 ┆ e-7 ┆ e-7 ┆ e-7 ┆ e-7 ┆ e-7 ┆ e-8 ┆ e-8 ┆ e-8 ┆ e-8 ┆ e-8 ┆ e-8 ┆ e-7 ┆ e-7 ┆ e-7 ┆ e-7 ┆ e-7 ┆ e-7 ┆ e-7 ┆ e-7 ┆ e-7 ┆ e-7 ┆ e-7 ┆ e-7 ┆ e-7 ┆ e-7 ┆ e-7 ┆ e-7 ┆ e-7 ┆ e-7 ┆ e-7 ┆ e-7 ┆ e-7 ┆ e-7 ┆ e-7 ┆ e-7 ┆ e-7 ┆ e-7 ┆ e-7 ┆ e-7 ┆ e-7 ┆ e-7 ┆ e-7 ┆ e-7 ┆ e-7 ┆ e-7 ┆ e-7 ┆ e-7 ┆ e-7 ┆ e-7 ┆ e-7 ┆ e-7 ┆ e-7 ┆ e-7 ┆ e-7 ┆ e-7 ┆ e-7 ┆ e-7 ┆ e-7 ┆ e-7 ┆ e-7 ┆ e-7 ┆ e-7 ┆ e-7 ┆ e-7 ┆ e-7 │\n",
       "│ 50  ┆ 9   ┆ 9   ┆ 5   ┆ 9   ┆ 8   ┆ 4   ┆     ┆ 1   ┆ 1   ┆ 1   ┆     ┆ 6   ┆ 7   ┆ 9   ┆ 1   ┆ 7   ┆ 3   ┆ 8   ┆     ┆ 9   ┆ 2   ┆ 4   ┆ 8   ┆     ┆ 1   ┆ 9   ┆ 5   ┆     ┆ 6   ┆ 6   ┆ 1   ┆ 7   ┆ 2   ┆     ┆ 2   ┆ 8   ┆ 6   ┆ 6   ┆ 9   ┆ 1   ┆ 9   ┆ 1   ┆ 8   ┆ 5   ┆ 8   ┆ 5   ┆ 1   ┆ 9   ┆ 6   ┆     ┆ 6   ┆     ┆ 5   ┆ 9   ┆ 6   ┆     ┆ 5   ┆ 6   ┆     ┆ 3   ┆     ┆     ┆     ┆     ┆     ┆     ┆     ┆     ┆     ┆     ┆     ┆     ┆     ┆     ┆     ┆     ┆     ┆     ┆     ┆     ┆     ┆     ┆     ┆     ┆     ┆     ┆     ┆     ┆     ┆     ┆     ┆     ┆     ┆     ┆     ┆     ┆     ┆     ┆     ┆     ┆     ┆     ┆     ┆     ┆     ┆     ┆     ┆     ┆     ┆     ┆     ┆     ┆     ┆     ┆     ┆     ┆     ┆     ┆     ┆     ┆ 7   ┆ 8   ┆ 8   ┆ 8   ┆ 8   ┆ 8   ┆ 8   ┆ 8   ┆ 8   ┆ 8   ┆ 8   ┆ 9   ┆ 5   ┆ 1   ┆     ┆     ┆     ┆     ┆     ┆     ┆     ┆ 4   ┆ 9   ┆ 4   ┆     ┆     ┆     ┆     ┆ 0   ┆ 6   ┆ 2   ┆     ┆     ┆     ┆     ┆     ┆     ┆     ┆     ┆     ┆     ┆     ┆     ┆     ┆     ┆     ┆     ┆     ┆     ┆     ┆     ┆     ┆     ┆     ┆     ┆     ┆     ┆     ┆     ┆     ┆ 2   ┆ 2   ┆ 2   ┆ 2   ┆ 2   ┆ 2   ┆ 2   ┆ 2   ┆ 2   ┆ 2   ┆ 3   ┆ 3   ┆ 9   ┆ 5   ┆ 3   ┆ 9   ┆ 7   ┆     ┆     ┆     ┆     ┆     ┆     ┆     ┆     ┆     ┆     ┆     ┆     ┆     ┆     ┆     ┆     ┆     ┆     ┆     ┆     ┆     ┆     ┆     ┆     ┆     ┆     ┆     ┆     ┆     ┆     ┆     ┆     ┆     ┆     ┆     ┆     ┆     ┆     ┆ 3   ┆ 1   ┆ 1   ┆ 1   ┆ 4   ┆     ┆     ┆     ┆     ┆     ┆     ┆     ┆     ┆     ┆     ┆     ┆     ┆     ┆     ┆     ┆     ┆     ┆     ┆     ┆     ┆     ┆     ┆     ┆     ┆     ┆     ┆     ┆     ┆     ┆     ┆     ┆     ┆     ┆     ┆     ┆     ┆     ┆     ┆     ┆     ┆     ┆     ┆     ┆     ┆     ┆     ┆     ┆     ┆     ┆     ┆     ┆     ┆     ┆     ┆     ┆     ┆     ┆     ┆     ┆     ┆ 7   ┆     ┆     ┆     ┆     ┆     ┆     ┆     ┆     ┆     ┆     ┆     ┆     ┆     ┆     ┆     ┆     ┆     ┆     ┆     ┆ 1   ┆ 1   ┆ 9   ┆ 4   ┆ 8   ┆ 4   ┆     ┆     ┆     ┆     ┆     ┆     ┆     ┆     ┆     ┆     ┆     ┆     ┆     ┆     ┆     ┆     ┆     ┆     ┆     ┆     ┆     ┆     ┆     ┆     ┆     ┆     ┆     ┆     ┆     ┆     ┆     ┆     ┆     ┆     ┆ 907 ┆ 5   ┆ 7   ┆     ┆     ┆     ┆     ┆     ┆     ┆     ┆     ┆ 3   ┆     ┆     ┆     ┆     ┆     ┆     ┆     ┆     ┆     ┆     ┆     ┆     ┆     ┆     ┆     ┆     ┆     ┆     ┆     ┆     ┆     ┆     ┆     ┆     ┆     ┆     ┆     ┆     ┆     ┆     ┆     ┆     ┆     ┆     ┆     ┆     ┆     ┆     ┆     ┆     ┆     ┆     ┆     ┆     ┆     ┆     ┆     ┆     ┆     ┆     ┆     ┆     ┆     ┆     ┆     ┆     ┆     ┆     ┆     ┆     ┆     ┆     ┆     ┆     ┆     ┆     ┆     ┆     ┆     ┆     ┆     ┆     ┆     ┆     ┆     ┆     ┆     ┆     ┆     ┆     ┆     ┆     ┆     ┆     ┆     ┆     ┆     ┆     ┆     ┆     ┆     ┆     ┆     ┆     ┆     ┆     ┆     ┆     ┆     ┆     ┆     ┆     ┆     ┆     ┆     ┆     ┆     ┆     ┆     ┆     ┆     ┆     ┆     ┆     ┆     ┆     ┆     ┆     ┆     ┆     ┆     ┆     ┆     ┆     ┆     ┆     ┆     ┆     ┆     ┆     ┆     ┆     ┆     ┆     ┆     ┆     ┆     ┆     ┆     ┆     ┆     ┆     ┆     ┆     ┆     ┆     ┆     ┆     ┆     ┆     ┆     ┆     ┆     ┆     ┆     ┆     ┆     ┆     ┆     ┆     ┆     ┆     ┆     ┆     ┆     ┆     ┆     ┆     ┆     ┆     ┆     ┆     ┆     ┆     ┆     ┆     ┆     ┆     ┆     ┆     ┆     ┆     ┆     ┆     │\n",
       "└─────┴─────┴─────┴─────┴─────┴─────┴─────┴─────┴─────┴─────┴─────┴─────┴─────┴─────┴─────┴─────┴─────┴─────┴─────┴─────┴─────┴─────┴─────┴─────┴─────┴─────┴─────┴─────┴─────┴─────┴─────┴─────┴─────┴─────┴─────┴─────┴─────┴─────┴─────┴─────┴─────┴─────┴─────┴─────┴─────┴─────┴─────┴─────┴─────┴─────┴─────┴─────┴─────┴─────┴─────┴─────┴─────┴─────┴─────┴─────┴─────┴─────┴─────┴─────┴─────┴─────┴─────┴─────┴─────┴─────┴─────┴─────┴─────┴─────┴─────┴─────┴─────┴─────┴─────┴─────┴─────┴─────┴─────┴─────┴─────┴─────┴─────┴─────┴─────┴─────┴─────┴─────┴─────┴─────┴─────┴─────┴─────┴─────┴─────┴─────┴─────┴─────┴─────┴─────┴─────┴─────┴─────┴─────┴─────┴─────┴─────┴─────┴─────┴─────┴─────┴─────┴─────┴─────┴─────┴─────┴─────┴─────┴─────┴─────┴─────┴─────┴─────┴─────┴─────┴─────┴─────┴─────┴─────┴─────┴─────┴─────┴─────┴─────┴─────┴─────┴─────┴─────┴─────┴─────┴─────┴─────┴─────┴─────┴─────┴─────┴─────┴─────┴─────┴─────┴─────┴─────┴─────┴─────┴─────┴─────┴─────┴─────┴─────┴─────┴─────┴─────┴─────┴─────┴─────┴─────┴─────┴─────┴─────┴─────┴─────┴─────┴─────┴─────┴─────┴─────┴─────┴─────┴─────┴─────┴─────┴─────┴─────┴─────┴─────┴─────┴─────┴─────┴─────┴─────┴─────┴─────┴─────┴─────┴─────┴─────┴─────┴─────┴─────┴─────┴─────┴─────┴─────┴─────┴─────┴─────┴─────┴─────┴─────┴─────┴─────┴─────┴─────┴─────┴─────┴─────┴─────┴─────┴─────┴─────┴─────┴─────┴─────┴─────┴─────┴─────┴─────┴─────┴─────┴─────┴─────┴─────┴─────┴─────┴─────┴─────┴─────┴─────┴─────┴─────┴─────┴─────┴─────┴─────┴─────┴─────┴─────┴─────┴─────┴─────┴─────┴─────┴─────┴─────┴─────┴─────┴─────┴─────┴─────┴─────┴─────┴─────┴─────┴─────┴─────┴─────┴─────┴─────┴─────┴─────┴─────┴─────┴─────┴─────┴─────┴─────┴─────┴─────┴─────┴─────┴─────┴─────┴─────┴─────┴─────┴─────┴─────┴─────┴─────┴─────┴─────┴─────┴─────┴─────┴─────┴─────┴─────┴─────┴─────┴─────┴─────┴─────┴─────┴─────┴─────┴─────┴─────┴─────┴─────┴─────┴─────┴─────┴─────┴─────┴─────┴─────┴─────┴─────┴─────┴─────┴─────┴─────┴─────┴─────┴─────┴─────┴─────┴─────┴─────┴─────┴─────┴─────┴─────┴─────┴─────┴─────┴─────┴─────┴─────┴─────┴─────┴─────┴─────┴─────┴─────┴─────┴─────┴─────┴─────┴─────┴─────┴─────┴─────┴─────┴─────┴─────┴─────┴─────┴─────┴─────┴─────┴─────┴─────┴─────┴─────┴─────┴─────┴─────┴─────┴─────┴─────┴─────┴─────┴─────┴─────┴─────┴─────┴─────┴─────┴─────┴─────┴─────┴─────┴─────┴─────┴─────┴─────┴─────┴─────┴─────┴─────┴─────┴─────┴─────┴─────┴─────┴─────┴─────┴─────┴─────┴─────┴─────┴─────┴─────┴─────┴─────┴─────┴─────┴─────┴─────┴─────┴─────┴─────┴─────┴─────┴─────┴─────┴─────┴─────┴─────┴─────┴─────┴─────┴─────┴─────┴─────┴─────┴─────┴─────┴─────┴─────┴─────┴─────┴─────┴─────┴─────┴─────┴─────┴─────┴─────┴─────┴─────┴─────┴─────┴─────┴─────┴─────┴─────┴─────┴─────┴─────┴─────┴─────┴─────┴─────┴─────┴─────┴─────┴─────┴─────┴─────┴─────┴─────┴─────┴─────┴─────┴─────┴─────┴─────┴─────┴─────┴─────┴─────┴─────┴─────┴─────┴─────┴─────┴─────┴─────┴─────┴─────┴─────┴─────┴─────┴─────┴─────┴─────┴─────┴─────┴─────┴─────┴─────┴─────┴─────┴─────┴─────┴─────┴─────┴─────┴─────┴─────┴─────┴─────┴─────┴─────┴─────┴─────┴─────┴─────┴─────┴─────┴─────┴─────┴─────┴─────┴─────┴─────┴─────┴─────┴─────┴─────┴─────┴─────┴─────┴─────┴─────┴─────┴─────┴─────┴─────┴─────┴─────┴─────┴─────┴─────┴─────┴─────┴─────┴─────┴─────┴─────┴─────┴─────┴─────┴─────┴─────┴─────┴─────┴─────┴─────┴─────┴─────┘"
      ]
     },
     "execution_count": 92,
     "metadata": {},
     "output_type": "execute_result"
    }
   ],
   "source": [
    "test_df"
   ]
  },
  {
   "cell_type": "code",
   "execution_count": 93,
   "metadata": {},
   "outputs": [
    {
     "data": {
      "text/plain": [
       "[<matplotlib.lines.Line2D at 0x7d698c8676a0>]"
      ]
     },
     "execution_count": 93,
     "metadata": {},
     "output_type": "execute_result"
    },
    {
     "data": {
      "image/png": "[encoded data removed]",
      "text/plain": [
       "<Figure size 640x480 with 1 Axes>"
      ]
     },
     "metadata": {},
     "output_type": "display_data"
    }
   ],
   "source": [
    "import matplotlib.pyplot as plt\n",
    "\n",
    "plt.plot(batch[0].std(dim=0).numpy())"
   ]
  },
  {
   "cell_type": "code",
   "execution_count": 94,
   "metadata": {},
   "outputs": [
    {
     "data": {
      "text/plain": [
       "4.9721663e-13"
      ]
     },
     "execution_count": 94,
     "metadata": {},
     "output_type": "execute_result"
    }
   ],
   "source": [
    "x_train[:, 180].mean()"
   ]
  },
  {
   "cell_type": "code",
   "execution_count": 95,
   "metadata": {},
   "outputs": [
    {
     "data": {
      "text/plain": [
       "1.8331273364701616e-11"
      ]
     },
     "execution_count": 95,
     "metadata": {},
     "output_type": "execute_result"
    }
   ],
   "source": [
    "x_test[:, 180].mean()"
   ]
  },
  {
   "cell_type": "code",
   "execution_count": 96,
   "metadata": {
    "scrolled": true
   },
   "outputs": [
    {
     "name": "stderr",
     "output_type": "stream",
     "text": [
      "100%|█████████████████████████████████████████████████████████████████████████████████████████████████████████████████████████████████████████████████████████████████| 4883/4883 [01:02<00:00, 78.33it/s]\n"
     ]
    }
   ],
   "source": [
    "import tqdm\n",
    "predictions = []\n",
    "\n",
    "learn.model.eval()\n",
    "\n",
    "with torch.no_grad():\n",
    "    for batch in tqdm.tqdm(test_loader):\n",
    "        x = batch[0].type(torch.float32)\n",
    "        pred = learn.model(x.cuda()).cpu().numpy()\n",
    "        #pred = norm_y.denorm(pred)\n",
    "        predictions.append(pred)"
   ]
  },
  {
   "cell_type": "code",
   "execution_count": 97,
   "metadata": {},
   "outputs": [],
   "source": [
    "predicts = np.concatenate(predictions, axis=0)# * weights[None, :]"
   ]
  },
  {
   "cell_type": "code",
   "execution_count": 98,
   "metadata": {},
   "outputs": [
    {
     "data": {
      "text/plain": [
       "array([-2.90352225e-01, -5.37928164e-01, -4.36772108e-01, -6.58519208e-01,\n",
       "       -8.68134975e-01, -9.40513492e-01, -9.73768950e-01, -1.03008890e+00,\n",
       "       -1.03226316e+00, -1.00991225e+00, -9.62944269e-01, -9.51476157e-01,\n",
       "       -9.26043749e-01, -7.41899014e-01, -2.60388315e-01,  2.42894650e-01,\n",
       "        4.16267604e-01,  4.30659875e-02,  2.86202937e-01, -2.74397135e-02,\n",
       "       -1.83649957e-01, -3.73298079e-01, -5.30623496e-01, -5.98557115e-01,\n",
       "       -5.77854514e-01, -5.73151946e-01, -5.91597497e-01, -6.09042943e-01,\n",
       "       -6.03075624e-01, -6.22090220e-01, -5.99675894e-01, -5.32942295e-01,\n",
       "       -5.03813982e-01, -4.38010216e-01, -3.95639271e-01, -4.12584335e-01,\n",
       "       -3.84007424e-01, -3.88512015e-01, -3.99925679e-01, -3.87400985e-01,\n",
       "       -3.71521205e-01, -3.44047636e-01, -3.76600385e-01, -4.78590727e-01,\n",
       "       -3.86744827e-01, -4.40060645e-01, -4.24140304e-01, -5.42757571e-01,\n",
       "       -5.15135348e-01, -4.94252205e-01, -5.99881768e-01, -7.66778767e-01,\n",
       "       -7.85077572e-01, -9.41022873e-01, -8.87291431e-01, -6.76425219e-01,\n",
       "       -6.28663599e-01, -6.62878513e-01, -6.96558714e-01, -5.53755343e-01,\n",
       "       -2.33617960e-04, -2.41877569e-05, -2.41596485e-04,  2.36394466e-04,\n",
       "       -1.39121781e-04, -2.04885495e-04, -7.05714338e-05,  2.69689946e-04,\n",
       "       -2.64716509e-04, -2.04412732e-04, -1.33197987e-04,  2.77436746e-04,\n",
       "       -2.18455270e-02,  1.40313664e-02, -1.07390480e-03, -1.34115759e-02,\n",
       "       -8.05519708e-03, -1.35064926e-02,  2.41847453e-03, -4.39255126e-02,\n",
       "       -2.85860151e-02, -3.18711326e-02,  1.28081851e-02, -6.07525185e-03,\n",
       "       -2.71201134e-04, -1.77324712e-02, -1.30712762e-02, -2.49200091e-02,\n",
       "        3.99722159e-03,  7.57385567e-02,  1.03077225e-01,  6.77754655e-02,\n",
       "        6.06607795e-02,  2.53030360e-02,  1.78423710e-02,  3.97832394e-02,\n",
       "        2.65628844e-03,  3.71122733e-02,  3.57429795e-02,  3.31133716e-02,\n",
       "        3.06307115e-02,  1.17178634e-03,  1.40644703e-02,  6.45623207e-02,\n",
       "        4.86157686e-02,  6.43047243e-02,  4.45277393e-02,  7.68892169e-02,\n",
       "        5.34495302e-02,  4.93269525e-02,  9.43891108e-02,  1.58247501e-01,\n",
       "        1.68614656e-01,  2.26900920e-01,  1.42531589e-01, -7.46813416e-03,\n",
       "       -4.76250947e-02,  3.77514958e-03,  3.90072465e-02, -1.36667192e-01,\n",
       "        1.41531113e-04,  1.75711117e-04,  2.18344619e-04, -2.76617357e-04,\n",
       "       -2.13192659e-04, -2.18716683e-04,  2.45335279e-04,  2.46379292e-04,\n",
       "       -2.43974908e-04, -2.15235981e-04,  2.46974058e-04, -2.11473845e-04,\n",
       "        7.27268489e-05, -2.38155830e-04,  1.31647510e-04,  2.37887609e-04,\n",
       "        2.46953918e-04,  1.04018516e-04,  2.77983549e-04,  1.70051586e-04,\n",
       "        2.08207406e-04, -1.20365410e-04, -2.17124820e-04,  1.80599047e-04,\n",
       "        1.97184621e-04,  1.87627273e-04,  2.36254069e-04,  1.50783814e-03,\n",
       "        1.22472234e-02,  7.30160624e-04, -1.29103363e-02, -7.68356025e-03,\n",
       "       -1.48039311e-02, -5.40232360e-02, -3.80794480e-02, -7.93325305e-02,\n",
       "       -3.20984051e-03, -4.34287377e-02, -7.11486861e-02, -5.47837466e-02,\n",
       "        1.17849149e-02, -5.10886312e-05, -1.16045088e-01, -3.43375981e-01,\n",
       "       -1.37822434e-01, -3.19409907e-01, -2.11895004e-01, -4.46737111e-01,\n",
       "       -2.73237437e-01, -1.46045312e-01, -2.98854113e-01, -6.59070194e-01,\n",
       "       -5.17615020e-01, -8.51696968e-01, -1.30151165e+00, -6.97680235e-01,\n",
       "       -6.47955313e-02, -2.03727871e-01, -1.08613200e-01, -2.46787816e-02,\n",
       "       -2.61834823e-04,  2.33723666e-04,  1.86997815e-04,  2.17661378e-04,\n",
       "        8.59888969e-05, -2.40233028e-04,  2.29094760e-04,  2.18588510e-04,\n",
       "       -1.26982923e-04, -1.80516508e-04, -2.50989338e-04,  2.48050084e-04,\n",
       "        1.44351972e-02,  7.12112058e-03, -6.27628854e-03,  1.01605747e-02,\n",
       "       -1.18285045e-03,  7.73248263e-04, -7.39301834e-03, -6.32057898e-03,\n",
       "       -6.25903811e-03, -1.91580504e-02,  8.16332176e-04,  1.00249220e-02,\n",
       "       -1.25642214e-03,  6.40639849e-03, -3.14530265e-03, -1.29392520e-02,\n",
       "       -1.27668828e-02, -1.84571177e-01, -2.80555457e-01, -1.85431540e-01,\n",
       "       -2.43956834e-01, -9.93152633e-02, -4.26490977e-02, -1.23507790e-01,\n",
       "       -3.63454223e-02, -8.42480958e-02, -6.87720999e-02, -1.39060486e-02,\n",
       "       -9.43269581e-04,  1.37556717e-03, -2.78189592e-03, -4.90666181e-03,\n",
       "        5.49257360e-03, -1.16546554e-02, -9.23296250e-03, -2.75840610e-03,\n",
       "       -2.13421322e-03,  6.20584935e-03, -1.65306684e-03,  6.32137712e-03,\n",
       "       -1.21375155e-02,  9.91775375e-03, -7.16344081e-03,  5.67549467e-03,\n",
       "        6.04865025e-04,  2.86671575e-02,  1.11537762e-02,  1.45614743e-02,\n",
       "        1.84103585e-04,  1.18170865e-04,  1.21191615e-05, -2.71446246e-04,\n",
       "       -1.73518900e-04,  2.19371286e-04, -2.72358186e-04,  2.39646295e-04,\n",
       "        1.58808427e-04,  2.25453521e-04,  1.26421393e-04,  2.15320382e-04,\n",
       "        2.53761299e-02,  2.40941122e-02,  7.84946792e-03,  3.93443815e-02,\n",
       "       -2.12763995e-03, -5.38155437e-04,  9.15796682e-03,  1.36973411e-02,\n",
       "       -4.15705144e-05,  1.79296315e-01, -2.73287475e-01,  5.77044338e-02,\n",
       "       -1.38667300e-02, -1.57703608e-02,  2.33499706e-03, -2.02053115e-02,\n",
       "       -4.16092537e-02, -2.30859742e-02,  1.02749467e-03,  9.72275436e-03,\n",
       "        7.86042958e-03,  2.03278661e-03,  9.03920829e-03, -8.93004611e-03,\n",
       "       -1.28484070e-02,  4.68670577e-03, -1.22144818e-04, -7.55608082e-04,\n",
       "       -1.14294477e-02, -5.31186163e-03, -1.07244290e-02, -2.61576846e-03,\n",
       "       -5.86160272e-03, -1.18432939e-02,  4.72432375e-03,  9.72837955e-03,\n",
       "        4.06794250e-03, -9.72878933e-03,  5.64834801e-03, -1.90308169e-02,\n",
       "       -2.43522227e-04, -1.70973465e-02,  3.00556421e-04,  1.59389600e-02,\n",
       "        1.37419999e-03,  6.65191710e-02,  9.21797231e-02, -3.59369963e-02,\n",
       "        2.40463647e-04,  1.82345975e-04,  1.65317673e-04, -1.99928705e-04,\n",
       "        2.63744849e-04,  1.99306174e-04, -2.53966253e-04, -1.85774057e-04,\n",
       "       -2.53167935e-04, -2.17437162e-04, -2.68401927e-04,  1.33799971e-04,\n",
       "        9.69177783e-01, -2.93507818e-02, -7.09662378e-01,  2.29341254e-01,\n",
       "       -1.33946547e-02, -2.50941254e-02, -2.82857362e-02,  5.56002185e-02,\n",
       "       -5.23499735e-02, -2.91183945e-02,  7.69915730e-02, -1.28493654e-02,\n",
       "       -3.03605441e-02,  2.35949419e-02, -9.10403579e-03, -9.33707505e-03,\n",
       "       -8.09784606e-02,  1.41751543e-01,  6.81682676e-03,  8.23469460e-03,\n",
       "       -5.57898916e-03,  2.27461383e-02, -8.70843753e-02,  4.85618599e-02,\n",
       "        3.12972814e-04, -1.50219351e-03,  6.85753021e-03, -2.24158913e-03,\n",
       "        2.20963471e-02, -1.92091223e-02,  1.24380738e-02, -1.85263455e-02,\n",
       "        4.93209362e-02, -3.94139439e-04,  1.75608695e-03, -3.21027637e-03,\n",
       "       -7.47983530e-03,  6.14008307e-03, -4.46224585e-03, -4.98581119e-03,\n",
       "       -9.03408788e-03, -1.30616371e-02, -2.14270912e-02, -1.24659240e-02,\n",
       "        2.36066133e-02, -2.99160928e-03, -1.27410173e-01,  9.67399925e-02,\n",
       "        9.45958775e-03,  5.35495949e+00,  6.02906977e-04,  9.60443448e-03,\n",
       "        1.89986713e-02,  1.19800912e-02, -7.17103621e-03, -9.79284849e-03],\n",
       "      dtype=float32)"
      ]
     },
     "execution_count": 98,
     "metadata": {},
     "output_type": "execute_result"
    }
   ],
   "source": [
    "predicts[0]"
   ]
  },
  {
   "cell_type": "code",
   "execution_count": 99,
   "metadata": {},
   "outputs": [],
   "source": [
    "torch.save(predicts, 'preds2.pt')"
   ]
  },
  {
   "cell_type": "code",
   "execution_count": 100,
   "metadata": {},
   "outputs": [],
   "source": [
    "#predicts = torch.load('preds.pt')"
   ]
  },
  {
   "cell_type": "code",
   "execution_count": 94,
   "metadata": {},
   "outputs": [
    {
     "data": {
      "text/plain": [
       "array([ True,  True,  True,  True,  True,  True,  True,  True,  True,\n",
       "        True,  True,  True, False, False, False, False, False, False,\n",
       "       False, False, False, False, False, False, False, False, False,\n",
       "       False, False, False, False, False, False, False, False, False,\n",
       "       False, False, False, False, False, False, False, False, False,\n",
       "       False, False, False, False, False, False, False, False, False,\n",
       "       False, False, False, False, False, False,  True,  True,  True,\n",
       "        True,  True,  True,  True,  True,  True,  True,  True,  True,\n",
       "        True,  True,  True,  True,  True,  True,  True,  True,  True,\n",
       "        True,  True,  True,  True,  True, False, False, False, False,\n",
       "       False, False, False, False, False, False, False, False, False,\n",
       "       False, False, False, False, False, False, False, False, False,\n",
       "       False, False, False, False, False, False, False, False, False,\n",
       "       False, False, False])"
      ]
     },
     "execution_count": 94,
     "metadata": {},
     "output_type": "execute_result"
    }
   ],
   "source": [
    "norm_y.zero_mask[60:60*3]"
   ]
  },
  {
   "cell_type": "code",
   "execution_count": 132,
   "metadata": {},
   "outputs": [],
   "source": [
    "output = pl.DataFrame(test_df['sample_id'])"
   ]
  },
  {
   "cell_type": "code",
   "execution_count": 133,
   "metadata": {
    "scrolled": true
   },
   "outputs": [
    {
     "data": {
      "text/html": [
       "<div><style>\n",
       ".dataframe > thead > tr,\n",
       ".dataframe > tbody > tr {\n",
       "  text-align: right;\n",
       "  white-space: pre-wrap;\n",
       "}\n",
       "</style>\n",
       "<small>shape: (625_000, 1)</small><table border=\"1\" class=\"dataframe\"><thead><tr><th>sample_id</th></tr><tr><td>str</td></tr></thead><tbody><tr><td>&quot;test_169651&quot;</td></tr><tr><td>&quot;test_524862&quot;</td></tr><tr><td>&quot;test_634129&quot;</td></tr><tr><td>&quot;test_403572&quot;</td></tr><tr><td>&quot;test_484578&quot;</td></tr><tr><td>&hellip;</td></tr><tr><td>&quot;test_578220&quot;</td></tr><tr><td>&quot;test_395695&quot;</td></tr><tr><td>&quot;test_88942&quot;</td></tr><tr><td>&quot;test_79382&quot;</td></tr><tr><td>&quot;test_601350&quot;</td></tr></tbody></table></div>"
      ],
      "text/plain": [
       "shape: (625_000, 1)\n",
       "┌─────────────┐\n",
       "│ sample_id   │\n",
       "│ ---         │\n",
       "│ str         │\n",
       "╞═════════════╡\n",
       "│ test_169651 │\n",
       "│ test_524862 │\n",
       "│ test_634129 │\n",
       "│ test_403572 │\n",
       "│ test_484578 │\n",
       "│ …           │\n",
       "│ test_578220 │\n",
       "│ test_395695 │\n",
       "│ test_88942  │\n",
       "│ test_79382  │\n",
       "│ test_601350 │\n",
       "└─────────────┘"
      ]
     },
     "execution_count": 133,
     "metadata": {},
     "output_type": "execute_result"
    }
   ],
   "source": [
    "output"
   ]
  },
  {
   "cell_type": "code",
   "execution_count": 134,
   "metadata": {},
   "outputs": [],
   "source": [
    "indx = TARGET_COLS.index('ptend_q0002_26')\n",
    "col = \"ptend_q0002_26\"\n",
    "norm_y.zero_mask[indx] = True"
   ]
  },
  {
   "cell_type": "code",
   "execution_count": 137,
   "metadata": {
    "collapsed": true,
    "jupyter": {
     "outputs_hidden": true
    }
   },
   "outputs": [
    {
     "name": "stdout",
     "output_type": "stream",
     "text": [
      "skipping ptend_q0001_0\n",
      "skipping ptend_q0001_1\n",
      "skipping ptend_q0001_2\n",
      "skipping ptend_q0001_3\n",
      "skipping ptend_q0001_4\n",
      "skipping ptend_q0001_5\n",
      "skipping ptend_q0001_6\n",
      "skipping ptend_q0001_7\n",
      "skipping ptend_q0001_8\n",
      "skipping ptend_q0001_9\n",
      "skipping ptend_q0001_10\n",
      "skipping ptend_q0001_11\n",
      "skipping ptend_q0002_0\n",
      "skipping ptend_q0002_1\n",
      "skipping ptend_q0002_2\n",
      "skipping ptend_q0002_3\n",
      "skipping ptend_q0002_4\n",
      "skipping ptend_q0002_5\n",
      "skipping ptend_q0002_6\n",
      "skipping ptend_q0002_7\n",
      "skipping ptend_q0002_8\n",
      "skipping ptend_q0002_9\n",
      "skipping ptend_q0002_10\n",
      "skipping ptend_q0002_11\n",
      "skipping ptend_q0002_12\n",
      "skipping ptend_q0002_13\n",
      "skipping ptend_q0002_14\n",
      "skipping ptend_q0002_15\n",
      "skipping ptend_q0002_16\n",
      "skipping ptend_q0002_17\n",
      "skipping ptend_q0002_18\n",
      "skipping ptend_q0002_19\n",
      "skipping ptend_q0002_20\n",
      "skipping ptend_q0002_21\n",
      "skipping ptend_q0002_22\n",
      "skipping ptend_q0002_23\n",
      "skipping ptend_q0002_24\n",
      "skipping ptend_q0002_25\n",
      "skipping ptend_q0002_26\n",
      "skipping ptend_q0003_0\n",
      "skipping ptend_q0003_1\n",
      "skipping ptend_q0003_2\n",
      "skipping ptend_q0003_3\n",
      "skipping ptend_q0003_4\n",
      "skipping ptend_q0003_5\n",
      "skipping ptend_q0003_6\n",
      "skipping ptend_q0003_7\n",
      "skipping ptend_q0003_8\n",
      "skipping ptend_q0003_9\n",
      "skipping ptend_q0003_10\n",
      "skipping ptend_q0003_11\n",
      "skipping ptend_u_0\n",
      "skipping ptend_u_1\n",
      "skipping ptend_u_2\n",
      "skipping ptend_u_3\n",
      "skipping ptend_u_4\n",
      "skipping ptend_u_5\n",
      "skipping ptend_u_6\n",
      "skipping ptend_u_7\n",
      "skipping ptend_u_8\n",
      "skipping ptend_u_9\n",
      "skipping ptend_u_10\n",
      "skipping ptend_u_11\n",
      "skipping ptend_v_0\n",
      "skipping ptend_v_1\n",
      "skipping ptend_v_2\n",
      "skipping ptend_v_3\n",
      "skipping ptend_v_4\n",
      "skipping ptend_v_5\n",
      "skipping ptend_v_6\n",
      "skipping ptend_v_7\n",
      "skipping ptend_v_8\n",
      "skipping ptend_v_9\n",
      "skipping ptend_v_10\n",
      "skipping ptend_v_11\n"
     ]
    }
   ],
   "source": [
    "for n, col in enumerate(TARGET_COLS):\n",
    "    if norm_y.zero_mask[n]:\n",
    "        print(f'skipping {col}')\n",
    "        pl_col = pl.lit(0.0, dtype=pl.Float32).alias(col)\n",
    "    else:\n",
    "        pl_col = pl.Series(col, predicts[:, n],  dtype=pl.Float32)\n",
    "    \n",
    "    output = output.with_columns(pl_col)\n",
    "        "
   ]
  },
  {
   "cell_type": "code",
   "execution_count": 138,
   "metadata": {},
   "outputs": [],
   "source": [
    "output.write_csv('submission.csv', )"
   ]
  },
  {
   "cell_type": "code",
   "execution_count": 34,
   "metadata": {
    "collapsed": true,
    "jupyter": {
     "outputs_hidden": true
    }
   },
   "outputs": [
    {
     "data": {
      "text/plain": [
       "array([3.09812656e+04, 2.25024316e+04, 1.88941465e+04, 1.45142451e+04,\n",
       "       1.09443477e+04, 9.06501074e+03, 9.66366895e+03, 1.26885576e+04,\n",
       "       1.98901719e+04, 2.58313730e+04, 3.38903672e+04, 4.41229414e+04,\n",
       "       5.98112578e+04, 7.94340781e+04, 1.07358812e+05, 1.35720844e+05,\n",
       "       1.49399844e+05, 1.28492953e+05, 9.17462344e+04, 7.27487656e+04,\n",
       "       6.65315391e+04, 6.29323047e+04, 5.66102695e+04, 4.94731445e+04,\n",
       "       4.30291836e+04, 3.69126758e+04, 3.14869316e+04, 2.68980723e+04,\n",
       "       2.33166387e+04, 2.04597305e+04, 1.83856836e+04, 1.71114043e+04,\n",
       "       1.63378096e+04, 1.58577598e+04, 1.55809023e+04, 1.54975908e+04,\n",
       "       1.56122559e+04, 1.57978848e+04, 1.59742188e+04, 1.61303955e+04,\n",
       "       1.62613105e+04, 1.63718926e+04, 1.63970195e+04, 1.63254639e+04,\n",
       "       1.62286406e+04, 1.61918096e+04, 1.63412080e+04, 1.66457109e+04,\n",
       "       1.70054941e+04, 1.74302988e+04, 1.79072402e+04, 1.84315527e+04,\n",
       "       1.90324707e+04, 1.97013555e+04, 2.04082363e+04, 2.09672070e+04,\n",
       "       2.11944277e+04, 2.10885215e+04, 1.94379160e+04, 1.36779023e+04,\n",
       "       0.00000000e+00, 0.00000000e+00, 0.00000000e+00, 0.00000000e+00,\n",
       "       0.00000000e+00, 0.00000000e+00, 0.00000000e+00, 0.00000000e+00,\n",
       "       0.00000000e+00, 0.00000000e+00, 0.00000000e+00, 0.00000000e+00,\n",
       "       8.71528464e+11, 1.08322180e+12, 1.47034751e+11, 3.55560448e+10,\n",
       "       3.51533711e+10, 4.60863693e+10, 2.46893056e+10, 1.13432771e+10,\n",
       "       5.39662490e+09, 2.44935296e+09, 1.13222592e+09, 5.79547840e+08,\n",
       "       3.30219232e+08, 2.07613936e+08, 1.44580288e+08, 1.09933280e+08,\n",
       "       8.87066000e+07, 7.38197760e+07, 6.36159880e+07, 5.72502640e+07,\n",
       "       5.29760720e+07, 4.96531680e+07, 4.65449760e+07, 4.31676080e+07,\n",
       "       3.97243760e+07, 3.63171760e+07, 3.30575120e+07, 2.98690900e+07,\n",
       "       2.69823860e+07, 2.44162360e+07, 2.22736520e+07, 2.05534260e+07,\n",
       "       1.92162400e+07, 1.81676940e+07, 1.75018560e+07, 1.71699380e+07,\n",
       "       1.70053820e+07, 1.69984760e+07, 1.70828900e+07, 1.72279820e+07,\n",
       "       1.74458240e+07, 1.77574040e+07, 1.83460920e+07, 1.94005740e+07,\n",
       "       2.05067220e+07, 2.24696480e+07, 2.34320320e+07, 2.62041640e+07,\n",
       "       0.00000000e+00, 0.00000000e+00, 0.00000000e+00, 0.00000000e+00,\n",
       "       0.00000000e+00, 0.00000000e+00, 0.00000000e+00, 0.00000000e+00,\n",
       "       0.00000000e+00, 0.00000000e+00, 0.00000000e+00, 0.00000000e+00,\n",
       "       0.00000000e+00, 0.00000000e+00, 0.00000000e+00, 9.99999987e+14,\n",
       "       9.99999987e+14, 9.99999987e+14, 9.99999987e+14, 9.99999987e+14,\n",
       "       9.99999987e+14, 9.99999987e+14, 9.99999987e+14, 9.99999987e+14,\n",
       "       9.99999987e+14, 9.99999987e+14, 3.67382993e+12, 3.71405586e+11,\n",
       "       1.42191636e+10, 3.00186291e+09, 1.43276659e+09, 8.84599808e+08,\n",
       "       5.60128000e+08, 3.86052576e+08, 2.87331840e+08, 2.22703664e+08,\n",
       "       1.81069232e+08, 1.54620864e+08, 1.38093776e+08, 1.26605832e+08,\n",
       "       1.17967840e+08, 1.11005816e+08, 1.05186904e+08, 1.00168136e+08,\n",
       "       9.55686480e+07, 9.14574320e+07, 8.88716080e+07, 8.88298000e+07,\n",
       "       9.13981120e+07, 9.65851280e+07, 1.04507696e+08, 1.15895120e+08,\n",
       "       1.31939704e+08, 1.54492944e+08, 1.83147920e+08, 2.15151376e+08,\n",
       "       2.47158320e+08, 2.66792880e+08, 2.79115136e+08, 3.70541504e+08,\n",
       "       0.00000000e+00, 0.00000000e+00, 0.00000000e+00, 0.00000000e+00,\n",
       "       0.00000000e+00, 0.00000000e+00, 0.00000000e+00, 0.00000000e+00,\n",
       "       0.00000000e+00, 0.00000000e+00, 0.00000000e+00, 0.00000000e+00,\n",
       "       8.77670498e+11, 1.17482691e+12, 1.27060555e+12, 2.17273160e+10,\n",
       "       3.15945677e+09, 1.09065344e+09, 7.27967104e+08, 3.84399552e+08,\n",
       "       2.90787296e+08, 2.32703216e+08, 1.97467456e+08, 1.74310896e+08,\n",
       "       1.60536432e+08, 1.53567104e+08, 1.52120128e+08, 1.53115568e+08,\n",
       "       1.53955552e+08, 1.53734672e+08, 1.54798672e+08, 1.63346208e+08,\n",
       "       1.80013136e+08, 2.00324352e+08, 2.20754608e+08, 2.41290928e+08,\n",
       "       2.62868928e+08, 2.84448896e+08, 3.05681088e+08, 3.27605088e+08,\n",
       "       3.50473312e+08, 3.73964608e+08, 3.98396928e+08, 4.23528352e+08,\n",
       "       4.50447040e+08, 4.78856992e+08, 5.08200320e+08, 5.37309632e+08,\n",
       "       5.66854592e+08, 5.94618816e+08, 6.19715904e+08, 6.41395456e+08,\n",
       "       6.63290048e+08, 6.89274880e+08, 7.18208896e+08, 7.43951232e+08,\n",
       "       7.61776128e+08, 7.72911232e+08, 8.04001152e+08, 7.72448768e+08,\n",
       "       0.00000000e+00, 0.00000000e+00, 0.00000000e+00, 0.00000000e+00,\n",
       "       0.00000000e+00, 0.00000000e+00, 0.00000000e+00, 0.00000000e+00,\n",
       "       0.00000000e+00, 0.00000000e+00, 0.00000000e+00, 0.00000000e+00,\n",
       "       4.61382350e+06, 1.99930888e+06, 9.04636250e+05, 4.33823625e+05,\n",
       "       2.07201391e+05, 1.07836094e+05, 5.76479141e+04, 4.06065234e+04,\n",
       "       4.77398672e+04, 5.16693555e+04, 5.64381992e+04, 6.04474570e+04,\n",
       "       6.52514141e+04, 7.19208828e+04, 7.85295781e+04, 8.34223047e+04,\n",
       "       8.70369844e+04, 9.03897266e+04, 9.39823906e+04, 9.75780078e+04,\n",
       "       1.01428211e+05, 1.04630695e+05, 1.05685047e+05, 1.03962586e+05,\n",
       "       9.96503203e+04, 9.42905000e+04, 8.95148984e+04, 8.59054609e+04,\n",
       "       8.27849844e+04, 7.91522891e+04, 7.48478125e+04, 7.03788203e+04,\n",
       "       6.54200469e+04, 5.99537500e+04, 5.47642812e+04, 5.03625117e+04,\n",
       "       4.62125703e+04, 4.19975273e+04, 3.76920508e+04, 3.38347344e+04,\n",
       "       3.18460977e+04, 3.19341465e+04, 3.14548125e+04, 3.01054082e+04,\n",
       "       2.69578301e+04, 2.77600449e+04, 2.98533750e+04, 1.91334297e+04,\n",
       "       0.00000000e+00, 0.00000000e+00, 0.00000000e+00, 0.00000000e+00,\n",
       "       0.00000000e+00, 0.00000000e+00, 0.00000000e+00, 0.00000000e+00,\n",
       "       0.00000000e+00, 0.00000000e+00, 0.00000000e+00, 0.00000000e+00,\n",
       "       7.61994050e+06, 3.14839450e+06, 1.30841500e+06, 5.40515750e+05,\n",
       "       2.15237109e+05, 1.02546727e+05, 6.84536719e+04, 5.06925898e+04,\n",
       "       5.14875195e+04, 5.21047695e+04, 5.40193906e+04, 5.58560234e+04,\n",
       "       6.03473008e+04, 6.89909609e+04, 7.90968906e+04, 8.75743359e+04,\n",
       "       9.41585625e+04, 1.01903633e+05, 1.11746977e+05, 1.22460656e+05,\n",
       "       1.32086688e+05, 1.41041484e+05, 1.46354094e+05, 1.45953094e+05,\n",
       "       1.39496797e+05, 1.28508852e+05, 1.16665516e+05, 1.07458398e+05,\n",
       "       1.00259969e+05, 9.41089844e+04, 8.84398984e+04, 8.27349062e+04,\n",
       "       7.70610859e+04, 7.13335312e+04, 6.59997266e+04, 6.17989961e+04,\n",
       "       5.82373555e+04, 5.47151016e+04, 5.08258438e+04, 4.60591758e+04,\n",
       "       4.07402617e+04, 3.63358008e+04, 3.39815742e+04, 3.35897148e+04,\n",
       "       3.39888867e+04, 3.62729375e+04, 4.11833438e+04, 2.91941230e+04,\n",
       "       4.05361364e-03, 1.38824238e-02, 1.35129888e+08, 1.22197180e+07,\n",
       "       9.07052774e-03, 8.58988520e-03, 2.15368196e-02, 3.36321294e-02],\n",
       "      dtype=float32)"
      ]
     },
     "execution_count": 34,
     "metadata": {},
     "output_type": "execute_result"
    }
   ],
   "source": [
    "weights"
   ]
  },
  {
   "cell_type": "code",
   "execution_count": 60,
   "metadata": {},
   "outputs": [
    {
     "data": {
      "text/plain": [
       "636"
      ]
     },
     "execution_count": 60,
     "metadata": {},
     "output_type": "execute_result"
    }
   ],
   "source": [
    "gc.collect()"
   ]
  },
  {
   "cell_type": "code",
   "execution_count": 1,
   "metadata": {},
   "outputs": [
    {
     "ename": "NameError",
     "evalue": "name 'predicts' is not defined",
     "output_type": "error",
     "traceback": [
      "\u001b[0;31m---------------------------------------------------------------------------\u001b[0m",
      "\u001b[0;31mNameError\u001b[0m                                 Traceback (most recent call last)",
      "Cell \u001b[0;32mIn[1], line 1\u001b[0m\n\u001b[0;32m----> 1\u001b[0m predicts \u001b[38;5;241m=\u001b[39m \u001b[43mpredicts\u001b[49m \u001b[38;5;241m*\u001b[39m weights[\u001b[38;5;28;01mNone\u001b[39;00m, :]\n",
      "\u001b[0;31mNameError\u001b[0m: name 'predicts' is not defined"
     ]
    }
   ],
   "source": [
    "predicts = predicts * weights[None, :]"
   ]
  },
  {
   "cell_type": "code",
   "execution_count": 116,
   "metadata": {},
   "outputs": [
    {
     "data": {
      "text/html": [
       "<div><style>\n",
       ".dataframe > thead > tr,\n",
       ".dataframe > tbody > tr {\n",
       "  text-align: right;\n",
       "  white-space: pre-wrap;\n",
       "}\n",
       "</style>\n",
       "<small>shape: (1, 369)</small><table border=\"1\" class=\"dataframe\"><thead><tr><th>sample_id</th><th>ptend_t_0</th><th>ptend_t_1</th><th>ptend_t_2</th><th>ptend_t_3</th><th>ptend_t_4</th><th>ptend_t_5</th><th>ptend_t_6</th><th>ptend_t_7</th><th>ptend_t_8</th><th>ptend_t_9</th><th>ptend_t_10</th><th>ptend_t_11</th><th>ptend_t_12</th><th>ptend_t_13</th><th>ptend_t_14</th><th>ptend_t_15</th><th>ptend_t_16</th><th>ptend_t_17</th><th>ptend_t_18</th><th>ptend_t_19</th><th>ptend_t_20</th><th>ptend_t_21</th><th>ptend_t_22</th><th>ptend_t_23</th><th>ptend_t_24</th><th>ptend_t_25</th><th>ptend_t_26</th><th>ptend_t_27</th><th>ptend_t_28</th><th>ptend_t_29</th><th>ptend_t_30</th><th>ptend_t_31</th><th>ptend_t_32</th><th>ptend_t_33</th><th>ptend_t_34</th><th>ptend_t_35</th><th>ptend_t_36</th><th>ptend_t_37</th><th>ptend_t_38</th><th>ptend_t_39</th><th>ptend_t_40</th><th>ptend_t_41</th><th>ptend_t_42</th><th>ptend_t_43</th><th>ptend_t_44</th><th>ptend_t_45</th><th>ptend_t_46</th><th>ptend_t_47</th><th>ptend_t_48</th><th>ptend_t_49</th><th>ptend_t_50</th><th>ptend_t_51</th><th>ptend_t_52</th><th>ptend_t_53</th><th>ptend_t_54</th><th>ptend_t_55</th><th>ptend_t_56</th><th>ptend_t_57</th><th>ptend_t_58</th><th>ptend_t_59</th><th>ptend_q0001_0</th><th>ptend_q0001_1</th><th>ptend_q0001_2</th><th>ptend_q0001_3</th><th>ptend_q0001_4</th><th>ptend_q0001_5</th><th>ptend_q0001_6</th><th>ptend_q0001_7</th><th>ptend_q0001_8</th><th>ptend_q0001_9</th><th>ptend_q0001_10</th><th>ptend_q0001_11</th><th>ptend_q0001_12</th><th>ptend_q0001_13</th><th>ptend_q0001_14</th><th>ptend_q0001_15</th><th>ptend_q0001_16</th><th>ptend_q0001_17</th><th>ptend_q0001_18</th><th>ptend_q0001_19</th><th>ptend_q0001_20</th><th>ptend_q0001_21</th><th>ptend_q0001_22</th><th>ptend_q0001_23</th><th>ptend_q0001_24</th><th>ptend_q0001_25</th><th>ptend_q0001_26</th><th>ptend_q0001_27</th><th>ptend_q0001_28</th><th>ptend_q0001_29</th><th>ptend_q0001_30</th><th>ptend_q0001_31</th><th>ptend_q0001_32</th><th>ptend_q0001_33</th><th>ptend_q0001_34</th><th>ptend_q0001_35</th><th>ptend_q0001_36</th><th>ptend_q0001_37</th><th>ptend_q0001_38</th><th>ptend_q0001_39</th><th>ptend_q0001_40</th><th>ptend_q0001_41</th><th>ptend_q0001_42</th><th>ptend_q0001_43</th><th>ptend_q0001_44</th><th>ptend_q0001_45</th><th>ptend_q0001_46</th><th>ptend_q0001_47</th><th>ptend_q0001_48</th><th>ptend_q0001_49</th><th>ptend_q0001_50</th><th>ptend_q0001_51</th><th>ptend_q0001_52</th><th>ptend_q0001_53</th><th>ptend_q0001_54</th><th>ptend_q0001_55</th><th>ptend_q0001_56</th><th>ptend_q0001_57</th><th>ptend_q0001_58</th><th>ptend_q0001_59</th><th>ptend_q0002_0</th><th>ptend_q0002_1</th><th>ptend_q0002_2</th><th>ptend_q0002_3</th><th>ptend_q0002_4</th><th>ptend_q0002_5</th><th>ptend_q0002_6</th><th>ptend_q0002_7</th><th>ptend_q0002_8</th><th>ptend_q0002_9</th><th>ptend_q0002_10</th><th>ptend_q0002_11</th><th>ptend_q0002_12</th><th>ptend_q0002_13</th><th>ptend_q0002_14</th><th>ptend_q0002_15</th><th>ptend_q0002_16</th><th>ptend_q0002_17</th><th>ptend_q0002_18</th><th>ptend_q0002_19</th><th>ptend_q0002_20</th><th>ptend_q0002_21</th><th>ptend_q0002_22</th><th>ptend_q0002_23</th><th>ptend_q0002_24</th><th>ptend_q0002_25</th><th>ptend_q0002_26</th><th>ptend_q0002_27</th><th>ptend_q0002_28</th><th>ptend_q0002_29</th><th>ptend_q0002_30</th><th>ptend_q0002_31</th><th>ptend_q0002_32</th><th>ptend_q0002_33</th><th>ptend_q0002_34</th><th>ptend_q0002_35</th><th>ptend_q0002_36</th><th>ptend_q0002_37</th><th>ptend_q0002_38</th><th>ptend_q0002_39</th><th>ptend_q0002_40</th><th>ptend_q0002_41</th><th>ptend_q0002_42</th><th>ptend_q0002_43</th><th>ptend_q0002_44</th><th>ptend_q0002_45</th><th>ptend_q0002_46</th><th>ptend_q0002_47</th><th>ptend_q0002_48</th><th>ptend_q0002_49</th><th>ptend_q0002_50</th><th>ptend_q0002_51</th><th>ptend_q0002_52</th><th>ptend_q0002_53</th><th>ptend_q0002_54</th><th>ptend_q0002_55</th><th>ptend_q0002_56</th><th>ptend_q0002_57</th><th>ptend_q0002_58</th><th>ptend_q0002_59</th><th>ptend_q0003_0</th><th>ptend_q0003_1</th><th>ptend_q0003_2</th><th>ptend_q0003_3</th><th>ptend_q0003_4</th><th>ptend_q0003_5</th><th>ptend_q0003_6</th><th>ptend_q0003_7</th><th>ptend_q0003_8</th><th>ptend_q0003_9</th><th>ptend_q0003_10</th><th>ptend_q0003_11</th><th>ptend_q0003_12</th><th>ptend_q0003_13</th><th>ptend_q0003_14</th><th>ptend_q0003_15</th><th>ptend_q0003_16</th><th>ptend_q0003_17</th><th>ptend_q0003_18</th><th>ptend_q0003_19</th><th>ptend_q0003_20</th><th>ptend_q0003_21</th><th>ptend_q0003_22</th><th>ptend_q0003_23</th><th>ptend_q0003_24</th><th>ptend_q0003_25</th><th>ptend_q0003_26</th><th>ptend_q0003_27</th><th>ptend_q0003_28</th><th>ptend_q0003_29</th><th>ptend_q0003_30</th><th>ptend_q0003_31</th><th>ptend_q0003_32</th><th>ptend_q0003_33</th><th>ptend_q0003_34</th><th>ptend_q0003_35</th><th>ptend_q0003_36</th><th>ptend_q0003_37</th><th>ptend_q0003_38</th><th>ptend_q0003_39</th><th>ptend_q0003_40</th><th>ptend_q0003_41</th><th>ptend_q0003_42</th><th>ptend_q0003_43</th><th>ptend_q0003_44</th><th>ptend_q0003_45</th><th>ptend_q0003_46</th><th>ptend_q0003_47</th><th>ptend_q0003_48</th><th>ptend_q0003_49</th><th>ptend_q0003_50</th><th>ptend_q0003_51</th><th>ptend_q0003_52</th><th>ptend_q0003_53</th><th>ptend_q0003_54</th><th>ptend_q0003_55</th><th>ptend_q0003_56</th><th>ptend_q0003_57</th><th>ptend_q0003_58</th><th>ptend_q0003_59</th><th>ptend_u_0</th><th>ptend_u_1</th><th>ptend_u_2</th><th>ptend_u_3</th><th>ptend_u_4</th><th>ptend_u_5</th><th>ptend_u_6</th><th>ptend_u_7</th><th>ptend_u_8</th><th>ptend_u_9</th><th>ptend_u_10</th><th>ptend_u_11</th><th>ptend_u_12</th><th>ptend_u_13</th><th>ptend_u_14</th><th>ptend_u_15</th><th>ptend_u_16</th><th>ptend_u_17</th><th>ptend_u_18</th><th>ptend_u_19</th><th>ptend_u_20</th><th>ptend_u_21</th><th>ptend_u_22</th><th>ptend_u_23</th><th>ptend_u_24</th><th>ptend_u_25</th><th>ptend_u_26</th><th>ptend_u_27</th><th>ptend_u_28</th><th>ptend_u_29</th><th>ptend_u_30</th><th>ptend_u_31</th><th>ptend_u_32</th><th>ptend_u_33</th><th>ptend_u_34</th><th>ptend_u_35</th><th>ptend_u_36</th><th>ptend_u_37</th><th>ptend_u_38</th><th>ptend_u_39</th><th>ptend_u_40</th><th>ptend_u_41</th><th>ptend_u_42</th><th>ptend_u_43</th><th>ptend_u_44</th><th>ptend_u_45</th><th>ptend_u_46</th><th>ptend_u_47</th><th>ptend_u_48</th><th>ptend_u_49</th><th>ptend_u_50</th><th>ptend_u_51</th><th>ptend_u_52</th><th>ptend_u_53</th><th>ptend_u_54</th><th>ptend_u_55</th><th>ptend_u_56</th><th>ptend_u_57</th><th>ptend_u_58</th><th>ptend_u_59</th><th>ptend_v_0</th><th>ptend_v_1</th><th>ptend_v_2</th><th>ptend_v_3</th><th>ptend_v_4</th><th>ptend_v_5</th><th>ptend_v_6</th><th>ptend_v_7</th><th>ptend_v_8</th><th>ptend_v_9</th><th>ptend_v_10</th><th>ptend_v_11</th><th>ptend_v_12</th><th>ptend_v_13</th><th>ptend_v_14</th><th>ptend_v_15</th><th>ptend_v_16</th><th>ptend_v_17</th><th>ptend_v_18</th><th>ptend_v_19</th><th>ptend_v_20</th><th>ptend_v_21</th><th>ptend_v_22</th><th>ptend_v_23</th><th>ptend_v_24</th><th>ptend_v_25</th><th>ptend_v_26</th><th>ptend_v_27</th><th>ptend_v_28</th><th>ptend_v_29</th><th>ptend_v_30</th><th>ptend_v_31</th><th>ptend_v_32</th><th>ptend_v_33</th><th>ptend_v_34</th><th>ptend_v_35</th><th>ptend_v_36</th><th>ptend_v_37</th><th>ptend_v_38</th><th>ptend_v_39</th><th>ptend_v_40</th><th>ptend_v_41</th><th>ptend_v_42</th><th>ptend_v_43</th><th>ptend_v_44</th><th>ptend_v_45</th><th>ptend_v_46</th><th>ptend_v_47</th><th>ptend_v_48</th><th>ptend_v_49</th><th>ptend_v_50</th><th>ptend_v_51</th><th>ptend_v_52</th><th>ptend_v_53</th><th>ptend_v_54</th><th>ptend_v_55</th><th>ptend_v_56</th><th>ptend_v_57</th><th>ptend_v_58</th><th>ptend_v_59</th><th>cam_out_NETSW</th><th>cam_out_FLWDS</th><th>cam_out_PRECSC</th><th>cam_out_PRECC</th><th>cam_out_SOLS</th><th>cam_out_SOLL</th><th>cam_out_SOLSD</th><th>cam_out_SOLLD</th></tr><tr><td>str</td><td>f32</td><td>f32</td><td>f32</td><td>f32</td><td>f32</td><td>f32</td><td>f32</td><td>f32</td><td>f32</td><td>f32</td><td>f32</td><td>f32</td><td>f32</td><td>f32</td><td>f32</td><td>f32</td><td>f32</td><td>f32</td><td>f32</td><td>f32</td><td>f32</td><td>f32</td><td>f32</td><td>f32</td><td>f32</td><td>f32</td><td>f32</td><td>f32</td><td>f32</td><td>f32</td><td>f32</td><td>f32</td><td>f32</td><td>f32</td><td>f32</td><td>f32</td><td>f32</td><td>f32</td><td>f32</td><td>f32</td><td>f32</td><td>f32</td><td>f32</td><td>f32</td><td>f32</td><td>f32</td><td>f32</td><td>f32</td><td>f32</td><td>f32</td><td>f32</td><td>f32</td><td>f32</td><td>f32</td><td>f32</td><td>f32</td><td>f32</td><td>f32</td><td>f32</td><td>f32</td><td>f32</td><td>f32</td><td>f32</td><td>f32</td><td>f32</td><td>f32</td><td>f32</td><td>f32</td><td>f32</td><td>f32</td><td>f32</td><td>f32</td><td>f32</td><td>f32</td><td>f32</td><td>f32</td><td>f32</td><td>f32</td><td>f32</td><td>f32</td><td>f32</td><td>f32</td><td>f32</td><td>f32</td><td>f32</td><td>f32</td><td>f32</td><td>f32</td><td>f32</td><td>f32</td><td>f32</td><td>f32</td><td>f32</td><td>f32</td><td>f32</td><td>f32</td><td>f32</td><td>f32</td><td>f32</td><td>f32</td><td>f32</td><td>f32</td><td>f32</td><td>f32</td><td>f32</td><td>f32</td><td>f32</td><td>f32</td><td>f32</td><td>f32</td><td>f32</td><td>f32</td><td>f32</td><td>f32</td><td>f32</td><td>f32</td><td>f32</td><td>f32</td><td>f32</td><td>f32</td><td>f32</td><td>f32</td><td>f32</td><td>f32</td><td>f32</td><td>f32</td><td>f32</td><td>f32</td><td>f32</td><td>f32</td><td>f32</td><td>f32</td><td>f32</td><td>f32</td><td>f32</td><td>f32</td><td>f32</td><td>f32</td><td>f32</td><td>f32</td><td>f32</td><td>f32</td><td>f32</td><td>f32</td><td>f32</td><td>f32</td><td>f32</td><td>f32</td><td>f32</td><td>f32</td><td>f32</td><td>f32</td><td>f32</td><td>f32</td><td>f32</td><td>f32</td><td>f32</td><td>f32</td><td>f32</td><td>f32</td><td>f32</td><td>f32</td><td>f32</td><td>f32</td><td>f32</td><td>f32</td><td>f32</td><td>f32</td><td>f32</td><td>f32</td><td>f32</td><td>f32</td><td>f32</td><td>f32</td><td>f32</td><td>f32</td><td>f32</td><td>f32</td><td>f32</td><td>f32</td><td>f32</td><td>f32</td><td>f32</td><td>f32</td><td>f32</td><td>f32</td><td>f32</td><td>f32</td><td>f32</td><td>f32</td><td>f32</td><td>f32</td><td>f32</td><td>f32</td><td>f32</td><td>f32</td><td>f32</td><td>f32</td><td>f32</td><td>f32</td><td>f32</td><td>f32</td><td>f32</td><td>f32</td><td>f32</td><td>f32</td><td>f32</td><td>f32</td><td>f32</td><td>f32</td><td>f32</td><td>f32</td><td>f32</td><td>f32</td><td>f32</td><td>f32</td><td>f32</td><td>f32</td><td>f32</td><td>f32</td><td>f32</td><td>f32</td><td>f32</td><td>f32</td><td>f32</td><td>f32</td><td>f32</td><td>f32</td><td>f32</td><td>f32</td><td>f32</td><td>f32</td><td>f32</td><td>f32</td><td>f32</td><td>f32</td><td>f32</td><td>f32</td><td>f32</td><td>f32</td><td>f32</td><td>f32</td><td>f32</td><td>f32</td><td>f32</td><td>f32</td><td>f32</td><td>f32</td><td>f32</td><td>f32</td><td>f32</td><td>f32</td><td>f32</td><td>f32</td><td>f32</td><td>f32</td><td>f32</td><td>f32</td><td>f32</td><td>f32</td><td>f32</td><td>f32</td><td>f32</td><td>f32</td><td>f32</td><td>f32</td><td>f32</td><td>f32</td><td>f32</td><td>f32</td><td>f32</td><td>f32</td><td>f32</td><td>f32</td><td>f32</td><td>f32</td><td>f32</td><td>f32</td><td>f32</td><td>f32</td><td>f32</td><td>f32</td><td>f32</td><td>f32</td><td>f32</td><td>f32</td><td>f32</td><td>f32</td><td>f32</td><td>f32</td><td>f32</td><td>f32</td><td>f32</td><td>f32</td><td>f32</td><td>f32</td><td>f32</td><td>f32</td><td>f32</td><td>f32</td><td>f32</td><td>f32</td><td>f32</td><td>f32</td><td>f32</td><td>f32</td><td>f32</td><td>f32</td><td>f32</td><td>f32</td><td>f32</td><td>f32</td><td>f32</td><td>f32</td><td>f32</td><td>f32</td><td>f32</td><td>f32</td><td>f32</td><td>f32</td><td>f32</td><td>f32</td><td>f32</td><td>f32</td><td>f32</td><td>f32</td><td>f32</td><td>f32</td><td>f32</td><td>f32</td><td>f32</td><td>f32</td><td>f32</td><td>f32</td><td>f32</td><td>f32</td><td>f32</td><td>f32</td><td>f32</td><td>f32</td><td>f32</td><td>f32</td><td>f32</td><td>f32</td><td>f32</td><td>f32</td><td>f32</td><td>f32</td><td>f32</td><td>f32</td><td>f32</td><td>f32</td><td>f32</td><td>f32</td><td>f32</td><td>f32</td><td>f32</td><td>f32</td><td>f32</td><td>f32</td><td>f32</td><td>f32</td><td>f32</td><td>f32</td><td>f32</td><td>f32</td><td>f32</td><td>f32</td></tr></thead><tbody><tr><td>null</td><td>0.937555</td><td>0.934859</td><td>0.994532</td><td>1.005177</td><td>1.004978</td><td>1.002056</td><td>1.004297</td><td>1.006117</td><td>1.005383</td><td>1.007129</td><td>1.009845</td><td>1.010703</td><td>1.006552</td><td>1.001343</td><td>0.997288</td><td>0.991892</td><td>0.970863</td><td>0.888524</td><td>0.733749</td><td>0.701284</td><td>0.72824</td><td>0.755991</td><td>0.805926</td><td>0.858105</td><td>0.890698</td><td>0.90128</td><td>0.910344</td><td>0.938689</td><td>0.953771</td><td>0.966951</td><td>0.975318</td><td>0.971892</td><td>0.969089</td><td>0.973125</td><td>0.967477</td><td>0.953604</td><td>0.935746</td><td>0.917013</td><td>0.894863</td><td>0.880795</td><td>0.857086</td><td>0.837774</td><td>0.816102</td><td>0.808554</td><td>0.791106</td><td>0.778526</td><td>0.753533</td><td>0.74732</td><td>0.732104</td><td>0.72768</td><td>0.719616</td><td>0.72224</td><td>0.722716</td><td>0.733979</td><td>0.740905</td><td>0.754273</td><td>0.765287</td><td>0.765515</td><td>0.796138</td><td>0.888054</td><td>0.0</td><td>0.0</td><td>0.0</td><td>0.0</td><td>0.0</td><td>0.0</td><td>0.0</td><td>0.0</td><td>0.0</td><td>0.0</td><td>0.0</td><td>0.0</td><td>0.525276</td><td>0.805674</td><td>0.426475</td><td>1.021717</td><td>0.874697</td><td>0.568603</td><td>0.573602</td><td>0.743777</td><td>0.846653</td><td>0.904918</td><td>0.942827</td><td>0.964507</td><td>0.963731</td><td>0.967076</td><td>0.959959</td><td>0.956074</td><td>0.948528</td><td>0.944008</td><td>0.934319</td><td>0.927399</td><td>0.922856</td><td>0.908407</td><td>0.880587</td><td>0.847621</td><td>0.804851</td><td>0.776381</td><td>0.743737</td><td>0.723718</td><td>0.699386</td><td>0.691329</td><td>0.678157</td><td>0.678093</td><td>0.663552</td><td>0.66216</td><td>0.650735</td><td>0.644997</td><td>0.63388</td><td>0.633424</td><td>0.628613</td><td>0.635231</td><td>0.643173</td><td>0.668631</td><td>0.684584</td><td>0.70921</td><td>0.736479</td><td>0.757873</td><td>0.786253</td><td>0.777936</td><td>0.0</td><td>0.0</td><td>0.0</td><td>0.0</td><td>0.0</td><td>0.0</td><td>0.0</td><td>0.0</td><td>0.0</td><td>0.0</td><td>0.0</td><td>0.0</td><td>0.0</td><td>0.0</td><td>0.0</td><td>0.0</td><td>0.0</td><td>0.0</td><td>0.0</td><td>0.0</td><td>0.0</td><td>0.0</td><td>0.0</td><td>0.0</td><td>0.0</td><td>0.0</td><td>0.003406</td><td>0.652369</td><td>1.617572</td><td>0.992515</td><td>0.868268</td><td>0.780963</td><td>0.746858</td><td>0.707954</td><td>0.708895</td><td>0.703365</td><td>0.707746</td><td>0.696694</td><td>0.692191</td><td>0.692038</td><td>0.684736</td><td>0.686938</td><td>0.678735</td><td>0.664808</td><td>0.658198</td><td>0.649936</td><td>0.647609</td><td>0.641293</td><td>0.638047</td><td>0.640675</td><td>0.637161</td><td>0.633509</td><td>0.626381</td><td>0.643999</td><td>0.668999</td><td>0.727127</td><td>0.815362</td><td>0.85135</td><td>0.927193</td><td>0.930575</td><td>0.0</td><td>0.0</td><td>0.0</td><td>0.0</td><td>0.0</td><td>0.0</td><td>0.0</td><td>0.0</td><td>0.0</td><td>0.0</td><td>0.0</td><td>0.0</td><td>0.448491</td><td>0.729359</td><td>0.849774</td><td>0.319971</td><td>0.528126</td><td>0.71404</td><td>0.818304</td><td>0.929452</td><td>0.867908</td><td>0.813901</td><td>0.845552</td><td>0.860242</td><td>0.87338</td><td>0.882794</td><td>0.881591</td><td>0.861094</td><td>0.859483</td><td>0.856038</td><td>0.851504</td><td>0.838906</td><td>0.834163</td><td>0.828281</td><td>0.836298</td><td>0.833437</td><td>0.829521</td><td>0.819449</td><td>0.807905</td><td>0.786935</td><td>0.767311</td><td>0.752513</td><td>0.733104</td><td>0.711684</td><td>0.697559</td><td>0.686141</td><td>0.685484</td><td>0.68896</td><td>0.709052</td><td>0.725348</td><td>0.750291</td><td>0.772377</td><td>0.802524</td><td>0.827588</td><td>0.847649</td><td>0.856577</td><td>0.885276</td><td>0.899192</td><td>0.900027</td><td>0.927954</td><td>0.0</td><td>0.0</td><td>0.0</td><td>0.0</td><td>0.0</td><td>0.0</td><td>0.0</td><td>0.0</td><td>0.0</td><td>0.0</td><td>0.0</td><td>0.0</td><td>0.943331</td><td>0.982609</td><td>0.992601</td><td>1.006568</td><td>0.981475</td><td>0.952542</td><td>0.76886</td><td>0.859042</td><td>0.903529</td><td>0.884177</td><td>0.881776</td><td>0.88048</td><td>0.842547</td><td>0.861715</td><td>0.862609</td><td>0.869023</td><td>0.850311</td><td>0.83972</td><td>0.836121</td><td>0.838317</td><td>0.806584</td><td>0.796213</td><td>0.781806</td><td>0.769744</td><td>0.759436</td><td>0.765133</td><td>0.768743</td><td>0.772078</td><td>0.768276</td><td>0.754369</td><td>0.741378</td><td>0.754261</td><td>0.770336</td><td>0.800382</td><td>0.82412</td><td>0.840879</td><td>0.857248</td><td>0.871753</td><td>0.888857</td><td>0.916557</td><td>0.943114</td><td>0.95867</td><td>0.945231</td><td>0.942508</td><td>0.953614</td><td>0.967027</td><td>0.93952</td><td>0.981844</td><td>0.0</td><td>0.0</td><td>0.0</td><td>0.0</td><td>0.0</td><td>0.0</td><td>0.0</td><td>0.0</td><td>0.0</td><td>0.0</td><td>0.0</td><td>0.0</td><td>0.952548</td><td>0.963651</td><td>0.992686</td><td>0.991238</td><td>0.95583</td><td>0.952391</td><td>0.971237</td><td>0.958044</td><td>0.927241</td><td>0.903623</td><td>0.891329</td><td>0.880142</td><td>0.866052</td><td>0.878674</td><td>0.861127</td><td>0.885247</td><td>0.897902</td><td>0.892549</td><td>0.888658</td><td>0.881494</td><td>0.872392</td><td>0.877354</td><td>0.880759</td><td>0.8658</td><td>0.859174</td><td>0.845768</td><td>0.834669</td><td>0.836482</td><td>0.848984</td><td>0.846404</td><td>0.850806</td><td>0.846035</td><td>0.856394</td><td>0.852697</td><td>0.862663</td><td>0.8585</td><td>0.865417</td><td>0.882565</td><td>0.909512</td><td>0.923867</td><td>0.928509</td><td>0.927728</td><td>0.944581</td><td>0.955824</td><td>0.964076</td><td>0.962322</td><td>0.951911</td><td>0.939639</td><td>0.992387</td><td>0.995559</td><td>0.949248</td><td>0.985682</td><td>0.993715</td><td>0.984102</td><td>0.978018</td><td>0.936206</td></tr></tbody></table></div>"
      ],
      "text/plain": [
       "shape: (1, 369)\n",
       "┌─────┬─────┬─────┬─────┬─────┬─────┬─────┬─────┬─────┬─────┬─────┬─────┬─────┬─────┬─────┬─────┬─────┬─────┬─────┬─────┬─────┬─────┬─────┬─────┬─────┬─────┬─────┬─────┬─────┬─────┬─────┬─────┬─────┬─────┬─────┬─────┬─────┬─────┬─────┬─────┬─────┬─────┬─────┬─────┬─────┬─────┬─────┬─────┬─────┬─────┬─────┬─────┬─────┬─────┬─────┬─────┬─────┬─────┬─────┬─────┬─────┬─────┬─────┬─────┬─────┬─────┬─────┬─────┬─────┬─────┬─────┬─────┬─────┬─────┬─────┬─────┬─────┬─────┬─────┬─────┬─────┬─────┬─────┬─────┬─────┬─────┬─────┬─────┬─────┬─────┬─────┬─────┬─────┬─────┬─────┬─────┬─────┬─────┬─────┬─────┬─────┬─────┬─────┬─────┬─────┬─────┬─────┬─────┬─────┬─────┬─────┬─────┬─────┬─────┬─────┬─────┬─────┬─────┬─────┬─────┬─────┬─────┬─────┬─────┬─────┬─────┬─────┬─────┬─────┬─────┬─────┬─────┬─────┬─────┬─────┬─────┬─────┬─────┬─────┬─────┬─────┬─────┬─────┬─────┬─────┬─────┬─────┬─────┬─────┬─────┬─────┬─────┬─────┬─────┬─────┬─────┬─────┬─────┬─────┬─────┬─────┬─────┬─────┬─────┬─────┬─────┬─────┬─────┬─────┬─────┬─────┬─────┬─────┬─────┬─────┬─────┬─────┬─────┬─────┬─────┬─────┬─────┬─────┬─────┬─────┬─────┬─────┬─────┬─────┬─────┬─────┬─────┬─────┬─────┬─────┬─────┬─────┬─────┬─────┬─────┬─────┬─────┬─────┬─────┬─────┬─────┬─────┬─────┬─────┬─────┬─────┬─────┬─────┬─────┬─────┬─────┬─────┬─────┬─────┬─────┬─────┬─────┬─────┬─────┬─────┬─────┬─────┬─────┬─────┬─────┬─────┬─────┬─────┬─────┬─────┬─────┬─────┬─────┬─────┬─────┬─────┬─────┬─────┬─────┬─────┬─────┬─────┬─────┬─────┬─────┬─────┬─────┬─────┬─────┬─────┬─────┬─────┬─────┬─────┬─────┬─────┬─────┬─────┬─────┬─────┬─────┬─────┬─────┬─────┬─────┬─────┬─────┬─────┬─────┬─────┬─────┬─────┬─────┬─────┬─────┬─────┬─────┬─────┬─────┬─────┬─────┬─────┬─────┬─────┬─────┬─────┬─────┬─────┬─────┬─────┬─────┬─────┬─────┬─────┬─────┬─────┬─────┬─────┬─────┬─────┬─────┬─────┬─────┬─────┬─────┬─────┬─────┬─────┬─────┬─────┬─────┬─────┬─────┬─────┬─────┬─────┬─────┬─────┬─────┬─────┬─────┬─────┬─────┬─────┬─────┬─────┬─────┬─────┬─────┬─────┬─────┬─────┬─────┬─────┬─────┬─────┬─────┬─────┬─────┬─────┬─────┬─────┬─────┬─────┬─────┬─────┬─────┬─────┬─────┬─────┬─────┬─────┬─────┬─────┬─────┬─────┬─────┬─────┬─────┬─────┬─────┬─────┬─────┬─────┐\n",
       "│ sam ┆ pte ┆ pte ┆ pte ┆ pte ┆ pte ┆ pte ┆ pte ┆ pte ┆ pte ┆ pte ┆ pte ┆ pte ┆ pte ┆ pte ┆ pte ┆ pte ┆ pte ┆ pte ┆ pte ┆ pte ┆ pte ┆ pte ┆ pte ┆ pte ┆ pte ┆ pte ┆ pte ┆ pte ┆ pte ┆ pte ┆ pte ┆ pte ┆ pte ┆ pte ┆ pte ┆ pte ┆ pte ┆ pte ┆ pte ┆ pte ┆ pte ┆ pte ┆ pte ┆ pte ┆ pte ┆ pte ┆ pte ┆ pte ┆ pte ┆ pte ┆ pte ┆ pte ┆ pte ┆ pte ┆ pte ┆ pte ┆ pte ┆ pte ┆ pte ┆ pte ┆ pte ┆ pte ┆ pte ┆ pte ┆ pte ┆ pte ┆ pte ┆ pte ┆ pte ┆ pte ┆ pte ┆ pte ┆ pte ┆ pte ┆ pte ┆ pte ┆ pte ┆ pte ┆ pte ┆ pte ┆ pte ┆ pte ┆ pte ┆ pte ┆ pte ┆ pte ┆ pte ┆ pte ┆ pte ┆ pte ┆ pte ┆ pte ┆ pte ┆ pte ┆ pte ┆ pte ┆ pte ┆ pte ┆ pte ┆ pte ┆ pte ┆ pte ┆ pte ┆ pte ┆ pte ┆ pte ┆ pte ┆ pte ┆ pte ┆ pte ┆ pte ┆ pte ┆ pte ┆ pte ┆ pte ┆ pte ┆ pte ┆ pte ┆ pte ┆ pte ┆ pte ┆ pte ┆ pte ┆ pte ┆ pte ┆ pte ┆ pte ┆ pte ┆ pte ┆ pte ┆ pte ┆ pte ┆ pte ┆ pte ┆ pte ┆ pte ┆ pte ┆ pte ┆ pte ┆ pte ┆ pte ┆ pte ┆ pte ┆ pte ┆ pte ┆ pte ┆ pte ┆ pte ┆ pte ┆ pte ┆ pte ┆ pte ┆ pte ┆ pte ┆ pte ┆ pte ┆ pte ┆ pte ┆ pte ┆ pte ┆ pte ┆ pte ┆ pte ┆ pte ┆ pte ┆ pte ┆ pte ┆ pte ┆ pte ┆ pte ┆ pte ┆ pte ┆ pte ┆ pte ┆ pte ┆ pte ┆ pte ┆ pte ┆ pte ┆ pte ┆ pte ┆ pte ┆ pte ┆ pte ┆ pte ┆ pte ┆ pte ┆ pte ┆ pte ┆ pte ┆ pte ┆ pte ┆ pte ┆ pte ┆ pte ┆ pte ┆ pte ┆ pte ┆ pte ┆ pte ┆ pte ┆ pte ┆ pte ┆ pte ┆ pte ┆ pte ┆ pte ┆ pte ┆ pte ┆ pte ┆ pte ┆ pte ┆ pte ┆ pte ┆ pte ┆ pte ┆ pte ┆ pte ┆ pte ┆ pte ┆ pte ┆ pte ┆ pte ┆ pte ┆ pte ┆ pte ┆ pte ┆ pte ┆ pte ┆ pte ┆ pte ┆ pte ┆ pte ┆ pte ┆ pte ┆ pte ┆ pte ┆ pte ┆ pte ┆ pte ┆ pte ┆ pte ┆ pte ┆ pte ┆ pte ┆ pte ┆ pte ┆ pte ┆ pte ┆ pte ┆ pte ┆ pte ┆ pte ┆ pte ┆ pte ┆ pte ┆ pte ┆ pte ┆ pte ┆ pte ┆ pte ┆ pte ┆ pte ┆ pte ┆ pte ┆ pte ┆ pte ┆ pte ┆ pte ┆ pte ┆ pte ┆ pte ┆ pte ┆ pte ┆ pte ┆ pte ┆ pte ┆ pte ┆ pte ┆ pte ┆ pte ┆ pte ┆ pte ┆ pte ┆ pte ┆ pte ┆ pte ┆ pte ┆ pte ┆ pte ┆ pte ┆ pte ┆ pte ┆ pte ┆ pte ┆ pte ┆ pte ┆ pte ┆ pte ┆ pte ┆ pte ┆ pte ┆ pte ┆ pte ┆ pte ┆ pte ┆ pte ┆ pte ┆ pte ┆ pte ┆ pte ┆ pte ┆ pte ┆ pte ┆ pte ┆ pte ┆ pte ┆ pte ┆ pte ┆ pte ┆ pte ┆ pte ┆ pte ┆ pte ┆ pte ┆ pte ┆ pte ┆ pte ┆ pte ┆ pte ┆ pte ┆ pte ┆ pte ┆ pte ┆ pte ┆ pte ┆ pte ┆ pte ┆ pte ┆ pte ┆ pte ┆ pte ┆ pte ┆ pte ┆ pte ┆ pte ┆ pte ┆ pte ┆ pte ┆ pte ┆ pte ┆ pte ┆ pte ┆ pte ┆ pte ┆ pte ┆ pte ┆ pte ┆ pte ┆ pte ┆ cam ┆ cam ┆ cam ┆ cam ┆ cam ┆ cam ┆ cam ┆ cam │\n",
       "│ ple ┆ nd_ ┆ nd_ ┆ nd_ ┆ nd_ ┆ nd_ ┆ nd_ ┆ nd_ ┆ nd_ ┆ nd_ ┆ nd_ ┆ nd_ ┆ nd_ ┆ nd_ ┆ nd_ ┆ nd_ ┆ nd_ ┆ nd_ ┆ nd_ ┆ nd_ ┆ nd_ ┆ nd_ ┆ nd_ ┆ nd_ ┆ nd_ ┆ nd_ ┆ nd_ ┆ nd_ ┆ nd_ ┆ nd_ ┆ nd_ ┆ nd_ ┆ nd_ ┆ nd_ ┆ nd_ ┆ nd_ ┆ nd_ ┆ nd_ ┆ nd_ ┆ nd_ ┆ nd_ ┆ nd_ ┆ nd_ ┆ nd_ ┆ nd_ ┆ nd_ ┆ nd_ ┆ nd_ ┆ nd_ ┆ nd_ ┆ nd_ ┆ nd_ ┆ nd_ ┆ nd_ ┆ nd_ ┆ nd_ ┆ nd_ ┆ nd_ ┆ nd_ ┆ nd_ ┆ nd_ ┆ nd_ ┆ nd_ ┆ nd_ ┆ nd_ ┆ nd_ ┆ nd_ ┆ nd_ ┆ nd_ ┆ nd_ ┆ nd_ ┆ nd_ ┆ nd_ ┆ nd_ ┆ nd_ ┆ nd_ ┆ nd_ ┆ nd_ ┆ nd_ ┆ nd_ ┆ nd_ ┆ nd_ ┆ nd_ ┆ nd_ ┆ nd_ ┆ nd_ ┆ nd_ ┆ nd_ ┆ nd_ ┆ nd_ ┆ nd_ ┆ nd_ ┆ nd_ ┆ nd_ ┆ nd_ ┆ nd_ ┆ nd_ ┆ nd_ ┆ nd_ ┆ nd_ ┆ nd_ ┆ nd_ ┆ nd_ ┆ nd_ ┆ nd_ ┆ nd_ ┆ nd_ ┆ nd_ ┆ nd_ ┆ nd_ ┆ nd_ ┆ nd_ ┆ nd_ ┆ nd_ ┆ nd_ ┆ nd_ ┆ nd_ ┆ nd_ ┆ nd_ ┆ nd_ ┆ nd_ ┆ nd_ ┆ nd_ ┆ nd_ ┆ nd_ ┆ nd_ ┆ nd_ ┆ nd_ ┆ nd_ ┆ nd_ ┆ nd_ ┆ nd_ ┆ nd_ ┆ nd_ ┆ nd_ ┆ nd_ ┆ nd_ ┆ nd_ ┆ nd_ ┆ nd_ ┆ nd_ ┆ nd_ ┆ nd_ ┆ nd_ ┆ nd_ ┆ nd_ ┆ nd_ ┆ nd_ ┆ nd_ ┆ nd_ ┆ nd_ ┆ nd_ ┆ nd_ ┆ nd_ ┆ nd_ ┆ nd_ ┆ nd_ ┆ nd_ ┆ nd_ ┆ nd_ ┆ nd_ ┆ nd_ ┆ nd_ ┆ nd_ ┆ nd_ ┆ nd_ ┆ nd_ ┆ nd_ ┆ nd_ ┆ nd_ ┆ nd_ ┆ nd_ ┆ nd_ ┆ nd_ ┆ nd_ ┆ nd_ ┆ nd_ ┆ nd_ ┆ nd_ ┆ nd_ ┆ nd_ ┆ nd_ ┆ nd_ ┆ nd_ ┆ nd_ ┆ nd_ ┆ nd_ ┆ nd_ ┆ nd_ ┆ nd_ ┆ nd_ ┆ nd_ ┆ nd_ ┆ nd_ ┆ nd_ ┆ nd_ ┆ nd_ ┆ nd_ ┆ nd_ ┆ nd_ ┆ nd_ ┆ nd_ ┆ nd_ ┆ nd_ ┆ nd_ ┆ nd_ ┆ nd_ ┆ nd_ ┆ nd_ ┆ nd_ ┆ nd_ ┆ nd_ ┆ nd_ ┆ nd_ ┆ nd_ ┆ nd_ ┆ nd_ ┆ nd_ ┆ nd_ ┆ nd_ ┆ nd_ ┆ nd_ ┆ nd_ ┆ nd_ ┆ nd_ ┆ nd_ ┆ nd_ ┆ nd_ ┆ nd_ ┆ nd_ ┆ nd_ ┆ nd_ ┆ nd_ ┆ nd_ ┆ nd_ ┆ nd_ ┆ nd_ ┆ nd_ ┆ nd_ ┆ nd_ ┆ nd_ ┆ nd_ ┆ nd_ ┆ nd_ ┆ nd_ ┆ nd_ ┆ nd_ ┆ nd_ ┆ nd_ ┆ nd_ ┆ nd_ ┆ nd_ ┆ nd_ ┆ nd_ ┆ nd_ ┆ nd_ ┆ nd_ ┆ nd_ ┆ nd_ ┆ nd_ ┆ nd_ ┆ nd_ ┆ nd_ ┆ nd_ ┆ nd_ ┆ nd_ ┆ nd_ ┆ nd_ ┆ nd_ ┆ nd_ ┆ nd_ ┆ nd_ ┆ nd_ ┆ nd_ ┆ nd_ ┆ nd_ ┆ nd_ ┆ nd_ ┆ nd_ ┆ nd_ ┆ nd_ ┆ nd_ ┆ nd_ ┆ nd_ ┆ nd_ ┆ nd_ ┆ nd_ ┆ nd_ ┆ nd_ ┆ nd_ ┆ nd_ ┆ nd_ ┆ nd_ ┆ nd_ ┆ nd_ ┆ nd_ ┆ nd_ ┆ nd_ ┆ nd_ ┆ nd_ ┆ nd_ ┆ nd_ ┆ nd_ ┆ nd_ ┆ nd_ ┆ nd_ ┆ nd_ ┆ nd_ ┆ nd_ ┆ nd_ ┆ nd_ ┆ nd_ ┆ nd_ ┆ nd_ ┆ nd_ ┆ nd_ ┆ nd_ ┆ nd_ ┆ nd_ ┆ nd_ ┆ nd_ ┆ nd_ ┆ nd_ ┆ nd_ ┆ nd_ ┆ nd_ ┆ nd_ ┆ nd_ ┆ nd_ ┆ nd_ ┆ nd_ ┆ nd_ ┆ nd_ ┆ nd_ ┆ nd_ ┆ nd_ ┆ nd_ ┆ nd_ ┆ nd_ ┆ nd_ ┆ nd_ ┆ nd_ ┆ nd_ ┆ nd_ ┆ nd_ ┆ nd_ ┆ nd_ ┆ nd_ ┆ nd_ ┆ nd_ ┆ nd_ ┆ nd_ ┆ nd_ ┆ nd_ ┆ nd_ ┆ nd_ ┆ nd_ ┆ nd_ ┆ nd_ ┆ nd_ ┆ nd_ ┆ _ou ┆ _ou ┆ _ou ┆ _ou ┆ _ou ┆ _ou ┆ _ou ┆ _ou │\n",
       "│ _id ┆ t_0 ┆ t_1 ┆ t_2 ┆ t_3 ┆ t_4 ┆ t_5 ┆ t_6 ┆ t_7 ┆ t_8 ┆ t_9 ┆ t_1 ┆ t_1 ┆ t_1 ┆ t_1 ┆ t_1 ┆ t_1 ┆ t_1 ┆ t_1 ┆ t_1 ┆ t_1 ┆ t_2 ┆ t_2 ┆ t_2 ┆ t_2 ┆ t_2 ┆ t_2 ┆ t_2 ┆ t_2 ┆ t_2 ┆ t_2 ┆ t_3 ┆ t_3 ┆ t_3 ┆ t_3 ┆ t_3 ┆ t_3 ┆ t_3 ┆ t_3 ┆ t_3 ┆ t_3 ┆ t_4 ┆ t_4 ┆ t_4 ┆ t_4 ┆ t_4 ┆ t_4 ┆ t_4 ┆ t_4 ┆ t_4 ┆ t_4 ┆ t_5 ┆ t_5 ┆ t_5 ┆ t_5 ┆ t_5 ┆ t_5 ┆ t_5 ┆ t_5 ┆ t_5 ┆ t_5 ┆ q00 ┆ q00 ┆ q00 ┆ q00 ┆ q00 ┆ q00 ┆ q00 ┆ q00 ┆ q00 ┆ q00 ┆ q00 ┆ q00 ┆ q00 ┆ q00 ┆ q00 ┆ q00 ┆ q00 ┆ q00 ┆ q00 ┆ q00 ┆ q00 ┆ q00 ┆ q00 ┆ q00 ┆ q00 ┆ q00 ┆ q00 ┆ q00 ┆ q00 ┆ q00 ┆ q00 ┆ q00 ┆ q00 ┆ q00 ┆ q00 ┆ q00 ┆ q00 ┆ q00 ┆ q00 ┆ q00 ┆ q00 ┆ q00 ┆ q00 ┆ q00 ┆ q00 ┆ q00 ┆ q00 ┆ q00 ┆ q00 ┆ q00 ┆ q00 ┆ q00 ┆ q00 ┆ q00 ┆ q00 ┆ q00 ┆ q00 ┆ q00 ┆ q00 ┆ q00 ┆ q00 ┆ q00 ┆ q00 ┆ q00 ┆ q00 ┆ q00 ┆ q00 ┆ q00 ┆ q00 ┆ q00 ┆ q00 ┆ q00 ┆ q00 ┆ q00 ┆ q00 ┆ q00 ┆ q00 ┆ q00 ┆ q00 ┆ q00 ┆ q00 ┆ q00 ┆ q00 ┆ q00 ┆ q00 ┆ q00 ┆ q00 ┆ q00 ┆ q00 ┆ q00 ┆ q00 ┆ q00 ┆ q00 ┆ q00 ┆ q00 ┆ q00 ┆ q00 ┆ q00 ┆ q00 ┆ q00 ┆ q00 ┆ q00 ┆ q00 ┆ q00 ┆ q00 ┆ q00 ┆ q00 ┆ q00 ┆ q00 ┆ q00 ┆ q00 ┆ q00 ┆ q00 ┆ q00 ┆ q00 ┆ q00 ┆ q00 ┆ q00 ┆ q00 ┆ q00 ┆ q00 ┆ q00 ┆ q00 ┆ q00 ┆ q00 ┆ q00 ┆ q00 ┆ q00 ┆ q00 ┆ q00 ┆ q00 ┆ q00 ┆ q00 ┆ q00 ┆ q00 ┆ q00 ┆ q00 ┆ q00 ┆ q00 ┆ q00 ┆ q00 ┆ q00 ┆ q00 ┆ q00 ┆ q00 ┆ q00 ┆ q00 ┆ q00 ┆ q00 ┆ q00 ┆ q00 ┆ q00 ┆ q00 ┆ q00 ┆ q00 ┆ q00 ┆ q00 ┆ q00 ┆ q00 ┆ q00 ┆ q00 ┆ q00 ┆ q00 ┆ q00 ┆ q00 ┆ q00 ┆ q00 ┆ q00 ┆ q00 ┆ q00 ┆ q00 ┆ q00 ┆ q00 ┆ q00 ┆ q00 ┆ q00 ┆ q00 ┆ q00 ┆ q00 ┆ q00 ┆ u_0 ┆ u_1 ┆ u_2 ┆ u_3 ┆ u_4 ┆ u_5 ┆ u_6 ┆ u_7 ┆ u_8 ┆ u_9 ┆ u_1 ┆ u_1 ┆ u_1 ┆ u_1 ┆ u_1 ┆ u_1 ┆ u_1 ┆ u_1 ┆ u_1 ┆ u_1 ┆ u_2 ┆ u_2 ┆ u_2 ┆ u_2 ┆ u_2 ┆ u_2 ┆ u_2 ┆ u_2 ┆ u_2 ┆ u_2 ┆ u_3 ┆ u_3 ┆ u_3 ┆ u_3 ┆ u_3 ┆ u_3 ┆ u_3 ┆ u_3 ┆ u_3 ┆ u_3 ┆ u_4 ┆ u_4 ┆ u_4 ┆ u_4 ┆ u_4 ┆ u_4 ┆ u_4 ┆ u_4 ┆ u_4 ┆ u_4 ┆ u_5 ┆ u_5 ┆ u_5 ┆ u_5 ┆ u_5 ┆ u_5 ┆ u_5 ┆ u_5 ┆ u_5 ┆ u_5 ┆ v_0 ┆ v_1 ┆ v_2 ┆ v_3 ┆ v_4 ┆ v_5 ┆ v_6 ┆ v_7 ┆ v_8 ┆ v_9 ┆ v_1 ┆ v_1 ┆ v_1 ┆ v_1 ┆ v_1 ┆ v_1 ┆ v_1 ┆ v_1 ┆ v_1 ┆ v_1 ┆ v_2 ┆ v_2 ┆ v_2 ┆ v_2 ┆ v_2 ┆ v_2 ┆ v_2 ┆ v_2 ┆ v_2 ┆ v_2 ┆ v_3 ┆ v_3 ┆ v_3 ┆ v_3 ┆ v_3 ┆ v_3 ┆ v_3 ┆ v_3 ┆ v_3 ┆ v_3 ┆ v_4 ┆ v_4 ┆ v_4 ┆ v_4 ┆ v_4 ┆ v_4 ┆ v_4 ┆ v_4 ┆ v_4 ┆ v_4 ┆ v_5 ┆ v_5 ┆ v_5 ┆ v_5 ┆ v_5 ┆ v_5 ┆ v_5 ┆ v_5 ┆ v_5 ┆ v_5 ┆ t_N ┆ t_F ┆ t_P ┆ t_P ┆ t_S ┆ t_S ┆ t_S ┆ t_S │\n",
       "│ --- ┆ --- ┆ --- ┆ --- ┆ --- ┆ --- ┆ --- ┆ --- ┆ --- ┆ --- ┆ --- ┆ 0   ┆ 1   ┆ 2   ┆ 3   ┆ 4   ┆ 5   ┆ 6   ┆ 7   ┆ 8   ┆ 9   ┆ 0   ┆ 1   ┆ 2   ┆ 3   ┆ 4   ┆ 5   ┆ 6   ┆ 7   ┆ 8   ┆ 9   ┆ 0   ┆ 1   ┆ 2   ┆ 3   ┆ 4   ┆ 5   ┆ 6   ┆ 7   ┆ 8   ┆ 9   ┆ 0   ┆ 1   ┆ 2   ┆ 3   ┆ 4   ┆ 5   ┆ 6   ┆ 7   ┆ 8   ┆ 9   ┆ 0   ┆ 1   ┆ 2   ┆ 3   ┆ 4   ┆ 5   ┆ 6   ┆ 7   ┆ 8   ┆ 9   ┆ 01_ ┆ 01_ ┆ 01_ ┆ 01_ ┆ 01_ ┆ 01_ ┆ 01_ ┆ 01_ ┆ 01_ ┆ 01_ ┆ 01_ ┆ 01_ ┆ 01_ ┆ 01_ ┆ 01_ ┆ 01_ ┆ 01_ ┆ 01_ ┆ 01_ ┆ 01_ ┆ 01_ ┆ 01_ ┆ 01_ ┆ 01_ ┆ 01_ ┆ 01_ ┆ 01_ ┆ 01_ ┆ 01_ ┆ 01_ ┆ 01_ ┆ 01_ ┆ 01_ ┆ 01_ ┆ 01_ ┆ 01_ ┆ 01_ ┆ 01_ ┆ 01_ ┆ 01_ ┆ 01_ ┆ 01_ ┆ 01_ ┆ 01_ ┆ 01_ ┆ 01_ ┆ 01_ ┆ 01_ ┆ 01_ ┆ 01_ ┆ 01_ ┆ 01_ ┆ 01_ ┆ 01_ ┆ 01_ ┆ 01_ ┆ 01_ ┆ 01_ ┆ 01_ ┆ 01_ ┆ 02_ ┆ 02_ ┆ 02_ ┆ 02_ ┆ 02_ ┆ 02_ ┆ 02_ ┆ 02_ ┆ 02_ ┆ 02_ ┆ 02_ ┆ 02_ ┆ 02_ ┆ 02_ ┆ 02_ ┆ 02_ ┆ 02_ ┆ 02_ ┆ 02_ ┆ 02_ ┆ 02_ ┆ 02_ ┆ 02_ ┆ 02_ ┆ 02_ ┆ 02_ ┆ 02_ ┆ 02_ ┆ 02_ ┆ 02_ ┆ 02_ ┆ 02_ ┆ 02_ ┆ 02_ ┆ 02_ ┆ 02_ ┆ 02_ ┆ 02_ ┆ 02_ ┆ 02_ ┆ 02_ ┆ 02_ ┆ 02_ ┆ 02_ ┆ 02_ ┆ 02_ ┆ 02_ ┆ 02_ ┆ 02_ ┆ 02_ ┆ 02_ ┆ 02_ ┆ 02_ ┆ 02_ ┆ 02_ ┆ 02_ ┆ 02_ ┆ 02_ ┆ 02_ ┆ 02_ ┆ 03_ ┆ 03_ ┆ 03_ ┆ 03_ ┆ 03_ ┆ 03_ ┆ 03_ ┆ 03_ ┆ 03_ ┆ 03_ ┆ 03_ ┆ 03_ ┆ 03_ ┆ 03_ ┆ 03_ ┆ 03_ ┆ 03_ ┆ 03_ ┆ 03_ ┆ 03_ ┆ 03_ ┆ 03_ ┆ 03_ ┆ 03_ ┆ 03_ ┆ 03_ ┆ 03_ ┆ 03_ ┆ 03_ ┆ 03_ ┆ 03_ ┆ 03_ ┆ 03_ ┆ 03_ ┆ 03_ ┆ 03_ ┆ 03_ ┆ 03_ ┆ 03_ ┆ 03_ ┆ 03_ ┆ 03_ ┆ 03_ ┆ 03_ ┆ 03_ ┆ 03_ ┆ 03_ ┆ 03_ ┆ 03_ ┆ 03_ ┆ 03_ ┆ 03_ ┆ 03_ ┆ 03_ ┆ 03_ ┆ 03_ ┆ 03_ ┆ 03_ ┆ 03_ ┆ 03_ ┆ --- ┆ --- ┆ --- ┆ --- ┆ --- ┆ --- ┆ --- ┆ --- ┆ --- ┆ --- ┆ 0   ┆ 1   ┆ 2   ┆ 3   ┆ 4   ┆ 5   ┆ 6   ┆ 7   ┆ 8   ┆ 9   ┆ 0   ┆ 1   ┆ 2   ┆ 3   ┆ 4   ┆ 5   ┆ 6   ┆ 7   ┆ 8   ┆ 9   ┆ 0   ┆ 1   ┆ 2   ┆ 3   ┆ 4   ┆ 5   ┆ 6   ┆ 7   ┆ 8   ┆ 9   ┆ 0   ┆ 1   ┆ 2   ┆ 3   ┆ 4   ┆ 5   ┆ 6   ┆ 7   ┆ 8   ┆ 9   ┆ 0   ┆ 1   ┆ 2   ┆ 3   ┆ 4   ┆ 5   ┆ 6   ┆ 7   ┆ 8   ┆ 9   ┆ --- ┆ --- ┆ --- ┆ --- ┆ --- ┆ --- ┆ --- ┆ --- ┆ --- ┆ --- ┆ 0   ┆ 1   ┆ 2   ┆ 3   ┆ 4   ┆ 5   ┆ 6   ┆ 7   ┆ 8   ┆ 9   ┆ 0   ┆ 1   ┆ 2   ┆ 3   ┆ 4   ┆ 5   ┆ 6   ┆ 7   ┆ 8   ┆ 9   ┆ 0   ┆ 1   ┆ 2   ┆ 3   ┆ 4   ┆ 5   ┆ 6   ┆ 7   ┆ 8   ┆ 9   ┆ 0   ┆ 1   ┆ 2   ┆ 3   ┆ 4   ┆ 5   ┆ 6   ┆ 7   ┆ 8   ┆ 9   ┆ 0   ┆ 1   ┆ 2   ┆ 3   ┆ 4   ┆ 5   ┆ 6   ┆ 7   ┆ 8   ┆ 9   ┆ ETS ┆ LWD ┆ REC ┆ REC ┆ OLS ┆ OLL ┆ OLS ┆ OLL │\n",
       "│ str ┆ f32 ┆ f32 ┆ f32 ┆ f32 ┆ f32 ┆ f32 ┆ f32 ┆ f32 ┆ f32 ┆ f32 ┆ --- ┆ --- ┆ --- ┆ --- ┆ --- ┆ --- ┆ --- ┆ --- ┆ --- ┆ --- ┆ --- ┆ --- ┆ --- ┆ --- ┆ --- ┆ --- ┆ --- ┆ --- ┆ --- ┆ --- ┆ --- ┆ --- ┆ --- ┆ --- ┆ --- ┆ --- ┆ --- ┆ --- ┆ --- ┆ --- ┆ --- ┆ --- ┆ --- ┆ --- ┆ --- ┆ --- ┆ --- ┆ --- ┆ --- ┆ --- ┆ --- ┆ --- ┆ --- ┆ --- ┆ --- ┆ --- ┆ --- ┆ --- ┆ --- ┆ --- ┆ 0   ┆ 1   ┆ 2   ┆ 3   ┆ 4   ┆ 5   ┆ 6   ┆ 7   ┆ 8   ┆ 9   ┆ 10  ┆ 11  ┆ 12  ┆ 13  ┆ 14  ┆ 15  ┆ 16  ┆ 17  ┆ 18  ┆ 19  ┆ 20  ┆ 21  ┆ 22  ┆ 23  ┆ 24  ┆ 25  ┆ 26  ┆ 27  ┆ 28  ┆ 29  ┆ 30  ┆ 31  ┆ 32  ┆ 33  ┆ 34  ┆ 35  ┆ 36  ┆ 37  ┆ 38  ┆ 39  ┆ 40  ┆ 41  ┆ 42  ┆ 43  ┆ 44  ┆ 45  ┆ 46  ┆ 47  ┆ 48  ┆ 49  ┆ 50  ┆ 51  ┆ 52  ┆ 53  ┆ 54  ┆ 55  ┆ 56  ┆ 57  ┆ 58  ┆ 59  ┆ 0   ┆ 1   ┆ 2   ┆ 3   ┆ 4   ┆ 5   ┆ 6   ┆ 7   ┆ 8   ┆ 9   ┆ 10  ┆ 11  ┆ 12  ┆ 13  ┆ 14  ┆ 15  ┆ 16  ┆ 17  ┆ 18  ┆ 19  ┆ 20  ┆ 21  ┆ 22  ┆ 23  ┆ 24  ┆ 25  ┆ 26  ┆ 27  ┆ 28  ┆ 29  ┆ 30  ┆ 31  ┆ 32  ┆ 33  ┆ 34  ┆ 35  ┆ 36  ┆ 37  ┆ 38  ┆ 39  ┆ 40  ┆ 41  ┆ 42  ┆ 43  ┆ 44  ┆ 45  ┆ 46  ┆ 47  ┆ 48  ┆ 49  ┆ 50  ┆ 51  ┆ 52  ┆ 53  ┆ 54  ┆ 55  ┆ 56  ┆ 57  ┆ 58  ┆ 59  ┆ 0   ┆ 1   ┆ 2   ┆ 3   ┆ 4   ┆ 5   ┆ 6   ┆ 7   ┆ 8   ┆ 9   ┆ 10  ┆ 11  ┆ 12  ┆ 13  ┆ 14  ┆ 15  ┆ 16  ┆ 17  ┆ 18  ┆ 19  ┆ 20  ┆ 21  ┆ 22  ┆ 23  ┆ 24  ┆ 25  ┆ 26  ┆ 27  ┆ 28  ┆ 29  ┆ 30  ┆ 31  ┆ 32  ┆ 33  ┆ 34  ┆ 35  ┆ 36  ┆ 37  ┆ 38  ┆ 39  ┆ 40  ┆ 41  ┆ 42  ┆ 43  ┆ 44  ┆ 45  ┆ 46  ┆ 47  ┆ 48  ┆ 49  ┆ 50  ┆ 51  ┆ 52  ┆ 53  ┆ 54  ┆ 55  ┆ 56  ┆ 57  ┆ 58  ┆ 59  ┆ f32 ┆ f32 ┆ f32 ┆ f32 ┆ f32 ┆ f32 ┆ f32 ┆ f32 ┆ f32 ┆ f32 ┆ --- ┆ --- ┆ --- ┆ --- ┆ --- ┆ --- ┆ --- ┆ --- ┆ --- ┆ --- ┆ --- ┆ --- ┆ --- ┆ --- ┆ --- ┆ --- ┆ --- ┆ --- ┆ --- ┆ --- ┆ --- ┆ --- ┆ --- ┆ --- ┆ --- ┆ --- ┆ --- ┆ --- ┆ --- ┆ --- ┆ --- ┆ --- ┆ --- ┆ --- ┆ --- ┆ --- ┆ --- ┆ --- ┆ --- ┆ --- ┆ --- ┆ --- ┆ --- ┆ --- ┆ --- ┆ --- ┆ --- ┆ --- ┆ --- ┆ --- ┆ f32 ┆ f32 ┆ f32 ┆ f32 ┆ f32 ┆ f32 ┆ f32 ┆ f32 ┆ f32 ┆ f32 ┆ --- ┆ --- ┆ --- ┆ --- ┆ --- ┆ --- ┆ --- ┆ --- ┆ --- ┆ --- ┆ --- ┆ --- ┆ --- ┆ --- ┆ --- ┆ --- ┆ --- ┆ --- ┆ --- ┆ --- ┆ --- ┆ --- ┆ --- ┆ --- ┆ --- ┆ --- ┆ --- ┆ --- ┆ --- ┆ --- ┆ --- ┆ --- ┆ --- ┆ --- ┆ --- ┆ --- ┆ --- ┆ --- ┆ --- ┆ --- ┆ --- ┆ --- ┆ --- ┆ --- ┆ --- ┆ --- ┆ --- ┆ --- ┆ --- ┆ --- ┆ W   ┆ S   ┆ SC  ┆ C   ┆ --- ┆ --- ┆ D   ┆ D   │\n",
       "│     ┆     ┆     ┆     ┆     ┆     ┆     ┆     ┆     ┆     ┆     ┆ f32 ┆ f32 ┆ f32 ┆ f32 ┆ f32 ┆ f32 ┆ f32 ┆ f32 ┆ f32 ┆ f32 ┆ f32 ┆ f32 ┆ f32 ┆ f32 ┆ f32 ┆ f32 ┆ f32 ┆ f32 ┆ f32 ┆ f32 ┆ f32 ┆ f32 ┆ f32 ┆ f32 ┆ f32 ┆ f32 ┆ f32 ┆ f32 ┆ f32 ┆ f32 ┆ f32 ┆ f32 ┆ f32 ┆ f32 ┆ f32 ┆ f32 ┆ f32 ┆ f32 ┆ f32 ┆ f32 ┆ f32 ┆ f32 ┆ f32 ┆ f32 ┆ f32 ┆ f32 ┆ f32 ┆ f32 ┆ f32 ┆ f32 ┆ --- ┆ --- ┆ --- ┆ --- ┆ --- ┆ --- ┆ --- ┆ --- ┆ --- ┆ --- ┆ --- ┆ --- ┆ --- ┆ --- ┆ --- ┆ --- ┆ --- ┆ --- ┆ --- ┆ --- ┆ --- ┆ --- ┆ --- ┆ --- ┆ --- ┆ --- ┆ --- ┆ --- ┆ --- ┆ --- ┆ --- ┆ --- ┆ --- ┆ --- ┆ --- ┆ --- ┆ --- ┆ --- ┆ --- ┆ --- ┆ --- ┆ --- ┆ --- ┆ --- ┆ --- ┆ --- ┆ --- ┆ --- ┆ --- ┆ --- ┆ --- ┆ --- ┆ --- ┆ --- ┆ --- ┆ --- ┆ --- ┆ --- ┆ --- ┆ --- ┆ --- ┆ --- ┆ --- ┆ --- ┆ --- ┆ --- ┆ --- ┆ --- ┆ --- ┆ --- ┆ --- ┆ --- ┆ --- ┆ --- ┆ --- ┆ --- ┆ --- ┆ --- ┆ --- ┆ --- ┆ --- ┆ --- ┆ --- ┆ --- ┆ --- ┆ --- ┆ --- ┆ --- ┆ --- ┆ --- ┆ --- ┆ --- ┆ --- ┆ --- ┆ --- ┆ --- ┆ --- ┆ --- ┆ --- ┆ --- ┆ --- ┆ --- ┆ --- ┆ --- ┆ --- ┆ --- ┆ --- ┆ --- ┆ --- ┆ --- ┆ --- ┆ --- ┆ --- ┆ --- ┆ --- ┆ --- ┆ --- ┆ --- ┆ --- ┆ --- ┆ --- ┆ --- ┆ --- ┆ --- ┆ --- ┆ --- ┆ --- ┆ --- ┆ --- ┆ --- ┆ --- ┆ --- ┆ --- ┆ --- ┆ --- ┆ --- ┆ --- ┆ --- ┆ --- ┆ --- ┆ --- ┆ --- ┆ --- ┆ --- ┆ --- ┆ --- ┆ --- ┆ --- ┆ --- ┆ --- ┆ --- ┆ --- ┆ --- ┆ --- ┆ --- ┆ --- ┆ --- ┆ --- ┆ --- ┆ --- ┆ --- ┆ --- ┆ --- ┆ --- ┆ --- ┆ --- ┆ --- ┆ --- ┆ --- ┆ --- ┆ --- ┆ --- ┆ --- ┆ --- ┆ --- ┆ --- ┆ --- ┆ --- ┆ --- ┆ --- ┆     ┆     ┆     ┆     ┆     ┆     ┆     ┆     ┆     ┆     ┆ f32 ┆ f32 ┆ f32 ┆ f32 ┆ f32 ┆ f32 ┆ f32 ┆ f32 ┆ f32 ┆ f32 ┆ f32 ┆ f32 ┆ f32 ┆ f32 ┆ f32 ┆ f32 ┆ f32 ┆ f32 ┆ f32 ┆ f32 ┆ f32 ┆ f32 ┆ f32 ┆ f32 ┆ f32 ┆ f32 ┆ f32 ┆ f32 ┆ f32 ┆ f32 ┆ f32 ┆ f32 ┆ f32 ┆ f32 ┆ f32 ┆ f32 ┆ f32 ┆ f32 ┆ f32 ┆ f32 ┆ f32 ┆ f32 ┆ f32 ┆ f32 ┆ f32 ┆ f32 ┆ f32 ┆ f32 ┆ f32 ┆ f32 ┆     ┆     ┆     ┆     ┆     ┆     ┆     ┆     ┆     ┆     ┆ f32 ┆ f32 ┆ f32 ┆ f32 ┆ f32 ┆ f32 ┆ f32 ┆ f32 ┆ f32 ┆ f32 ┆ f32 ┆ f32 ┆ f32 ┆ f32 ┆ f32 ┆ f32 ┆ f32 ┆ f32 ┆ f32 ┆ f32 ┆ f32 ┆ f32 ┆ f32 ┆ f32 ┆ f32 ┆ f32 ┆ f32 ┆ f32 ┆ f32 ┆ f32 ┆ f32 ┆ f32 ┆ f32 ┆ f32 ┆ f32 ┆ f32 ┆ f32 ┆ f32 ┆ f32 ┆ f32 ┆ f32 ┆ f32 ┆ f32 ┆ f32 ┆ f32 ┆ f32 ┆ f32 ┆ f32 ┆ f32 ┆ f32 ┆ --- ┆ --- ┆ --- ┆ --- ┆ f32 ┆ f32 ┆ --- ┆ --- │\n",
       "│     ┆     ┆     ┆     ┆     ┆     ┆     ┆     ┆     ┆     ┆     ┆     ┆     ┆     ┆     ┆     ┆     ┆     ┆     ┆     ┆     ┆     ┆     ┆     ┆     ┆     ┆     ┆     ┆     ┆     ┆     ┆     ┆     ┆     ┆     ┆     ┆     ┆     ┆     ┆     ┆     ┆     ┆     ┆     ┆     ┆     ┆     ┆     ┆     ┆     ┆     ┆     ┆     ┆     ┆     ┆     ┆     ┆     ┆     ┆     ┆     ┆ f32 ┆ f32 ┆ f32 ┆ f32 ┆ f32 ┆ f32 ┆ f32 ┆ f32 ┆ f32 ┆ f32 ┆ f32 ┆ f32 ┆ f32 ┆ f32 ┆ f32 ┆ f32 ┆ f32 ┆ f32 ┆ f32 ┆ f32 ┆ f32 ┆ f32 ┆ f32 ┆ f32 ┆ f32 ┆ f32 ┆ f32 ┆ f32 ┆ f32 ┆ f32 ┆ f32 ┆ f32 ┆ f32 ┆ f32 ┆ f32 ┆ f32 ┆ f32 ┆ f32 ┆ f32 ┆ f32 ┆ f32 ┆ f32 ┆ f32 ┆ f32 ┆ f32 ┆ f32 ┆ f32 ┆ f32 ┆ f32 ┆ f32 ┆ f32 ┆ f32 ┆ f32 ┆ f32 ┆ f32 ┆ f32 ┆ f32 ┆ f32 ┆ f32 ┆ f32 ┆ f32 ┆ f32 ┆ f32 ┆ f32 ┆ f32 ┆ f32 ┆ f32 ┆ f32 ┆ f32 ┆ f32 ┆ f32 ┆ f32 ┆ f32 ┆ f32 ┆ f32 ┆ f32 ┆ f32 ┆ f32 ┆ f32 ┆ f32 ┆ f32 ┆ f32 ┆ f32 ┆ f32 ┆ f32 ┆ f32 ┆ f32 ┆ f32 ┆ f32 ┆ f32 ┆ f32 ┆ f32 ┆ f32 ┆ f32 ┆ f32 ┆ f32 ┆ f32 ┆ f32 ┆ f32 ┆ f32 ┆ f32 ┆ f32 ┆ f32 ┆ f32 ┆ f32 ┆ f32 ┆ f32 ┆ f32 ┆ f32 ┆ f32 ┆ f32 ┆ f32 ┆ f32 ┆ f32 ┆ f32 ┆ f32 ┆ f32 ┆ f32 ┆ f32 ┆ f32 ┆ f32 ┆ f32 ┆ f32 ┆ f32 ┆ f32 ┆ f32 ┆ f32 ┆ f32 ┆ f32 ┆ f32 ┆ f32 ┆ f32 ┆ f32 ┆ f32 ┆ f32 ┆ f32 ┆ f32 ┆ f32 ┆ f32 ┆ f32 ┆ f32 ┆ f32 ┆ f32 ┆ f32 ┆ f32 ┆ f32 ┆ f32 ┆ f32 ┆ f32 ┆ f32 ┆ f32 ┆ f32 ┆ f32 ┆ f32 ┆ f32 ┆ f32 ┆ f32 ┆ f32 ┆ f32 ┆ f32 ┆ f32 ┆ f32 ┆ f32 ┆ f32 ┆ f32 ┆ f32 ┆ f32 ┆ f32 ┆ f32 ┆ f32 ┆ f32 ┆ f32 ┆ f32 ┆ f32 ┆ f32 ┆ f32 ┆ f32 ┆ f32 ┆ f32 ┆ f32 ┆     ┆     ┆     ┆     ┆     ┆     ┆     ┆     ┆     ┆     ┆     ┆     ┆     ┆     ┆     ┆     ┆     ┆     ┆     ┆     ┆     ┆     ┆     ┆     ┆     ┆     ┆     ┆     ┆     ┆     ┆     ┆     ┆     ┆     ┆     ┆     ┆     ┆     ┆     ┆     ┆     ┆     ┆     ┆     ┆     ┆     ┆     ┆     ┆     ┆     ┆     ┆     ┆     ┆     ┆     ┆     ┆     ┆     ┆     ┆     ┆     ┆     ┆     ┆     ┆     ┆     ┆     ┆     ┆     ┆     ┆     ┆     ┆     ┆     ┆     ┆     ┆     ┆     ┆     ┆     ┆     ┆     ┆     ┆     ┆     ┆     ┆     ┆     ┆     ┆     ┆     ┆     ┆     ┆     ┆     ┆     ┆     ┆     ┆     ┆     ┆     ┆     ┆     ┆     ┆     ┆     ┆     ┆     ┆     ┆     ┆     ┆     ┆     ┆     ┆     ┆     ┆     ┆     ┆     ┆     ┆ f32 ┆ f32 ┆ f32 ┆ f32 ┆     ┆     ┆ f32 ┆ f32 │\n",
       "╞═════╪═════╪═════╪═════╪═════╪═════╪═════╪═════╪═════╪═════╪═════╪═════╪═════╪═════╪═════╪═════╪═════╪═════╪═════╪═════╪═════╪═════╪═════╪═════╪═════╪═════╪═════╪═════╪═════╪═════╪═════╪═════╪═════╪═════╪═════╪═════╪═════╪═════╪═════╪═════╪═════╪═════╪═════╪═════╪═════╪═════╪═════╪═════╪═════╪═════╪═════╪═════╪═════╪═════╪═════╪═════╪═════╪═════╪═════╪═════╪═════╪═════╪═════╪═════╪═════╪═════╪═════╪═════╪═════╪═════╪═════╪═════╪═════╪═════╪═════╪═════╪═════╪═════╪═════╪═════╪═════╪═════╪═════╪═════╪═════╪═════╪═════╪═════╪═════╪═════╪═════╪═════╪═════╪═════╪═════╪═════╪═════╪═════╪═════╪═════╪═════╪═════╪═════╪═════╪═════╪═════╪═════╪═════╪═════╪═════╪═════╪═════╪═════╪═════╪═════╪═════╪═════╪═════╪═════╪═════╪═════╪═════╪═════╪═════╪═════╪═════╪═════╪═════╪═════╪═════╪═════╪═════╪═════╪═════╪═════╪═════╪═════╪═════╪═════╪═════╪═════╪═════╪═════╪═════╪═════╪═════╪═════╪═════╪═════╪═════╪═════╪═════╪═════╪═════╪═════╪═════╪═════╪═════╪═════╪═════╪═════╪═════╪═════╪═════╪═════╪═════╪═════╪═════╪═════╪═════╪═════╪═════╪═════╪═════╪═════╪═════╪═════╪═════╪═════╪═════╪═════╪═════╪═════╪═════╪═════╪═════╪═════╪═════╪═════╪═════╪═════╪═════╪═════╪═════╪═════╪═════╪═════╪═════╪═════╪═════╪═════╪═════╪═════╪═════╪═════╪═════╪═════╪═════╪═════╪═════╪═════╪═════╪═════╪═════╪═════╪═════╪═════╪═════╪═════╪═════╪═════╪═════╪═════╪═════╪═════╪═════╪═════╪═════╪═════╪═════╪═════╪═════╪═════╪═════╪═════╪═════╪═════╪═════╪═════╪═════╪═════╪═════╪═════╪═════╪═════╪═════╪═════╪═════╪═════╪═════╪═════╪═════╪═════╪═════╪═════╪═════╪═════╪═════╪═════╪═════╪═════╪═════╪═════╪═════╪═════╪═════╪═════╪═════╪═════╪═════╪═════╪═════╪═════╪═════╪═════╪═════╪═════╪═════╪═════╪═════╪═════╪═════╪═════╪═════╪═════╪═════╪═════╪═════╪═════╪═════╪═════╪═════╪═════╪═════╪═════╪═════╪═════╪═════╪═════╪═════╪═════╪═════╪═════╪═════╪═════╪═════╪═════╪═════╪═════╪═════╪═════╪═════╪═════╪═════╪═════╪═════╪═════╪═════╪═════╪═════╪═════╪═════╪═════╪═════╪═════╪═════╪═════╪═════╪═════╪═════╪═════╪═════╪═════╪═════╪═════╪═════╪═════╪═════╪═════╪═════╪═════╪═════╪═════╪═════╪═════╪═════╪═════╪═════╪═════╪═════╪═════╪═════╪═════╪═════╪═════╪═════╪═════╪═════╪═════╪═════╪═════╪═════╪═════╪═════╪═════╪═════╪═════╪═════╪═════╡\n",
       "│ nul ┆ 0.9 ┆ 0.9 ┆ 0.9 ┆ 1.0 ┆ 1.0 ┆ 1.0 ┆ 1.0 ┆ 1.0 ┆ 1.0 ┆ 1.0 ┆ 1.0 ┆ 1.0 ┆ 1.0 ┆ 1.0 ┆ 0.9 ┆ 0.9 ┆ 0.9 ┆ 0.8 ┆ 0.7 ┆ 0.7 ┆ 0.7 ┆ 0.7 ┆ 0.8 ┆ 0.8 ┆ 0.8 ┆ 0.9 ┆ 0.9 ┆ 0.9 ┆ 0.9 ┆ 0.9 ┆ 0.9 ┆ 0.9 ┆ 0.9 ┆ 0.9 ┆ 0.9 ┆ 0.9 ┆ 0.9 ┆ 0.9 ┆ 0.8 ┆ 0.8 ┆ 0.8 ┆ 0.8 ┆ 0.8 ┆ 0.8 ┆ 0.7 ┆ 0.7 ┆ 0.7 ┆ 0.7 ┆ 0.7 ┆ 0.7 ┆ 0.7 ┆ 0.7 ┆ 0.7 ┆ 0.7 ┆ 0.7 ┆ 0.7 ┆ 0.7 ┆ 0.7 ┆ 0.7 ┆ 0.8 ┆ 0.0 ┆ 0.0 ┆ 0.0 ┆ 0.0 ┆ 0.0 ┆ 0.0 ┆ 0.0 ┆ 0.0 ┆ 0.0 ┆ 0.0 ┆ 0.0 ┆ 0.0 ┆ 0.5 ┆ 0.8 ┆ 0.4 ┆ 1.0 ┆ 0.8 ┆ 0.5 ┆ 0.5 ┆ 0.7 ┆ 0.8 ┆ 0.9 ┆ 0.9 ┆ 0.9 ┆ 0.9 ┆ 0.9 ┆ 0.9 ┆ 0.9 ┆ 0.9 ┆ 0.9 ┆ 0.9 ┆ 0.9 ┆ 0.9 ┆ 0.9 ┆ 0.8 ┆ 0.8 ┆ 0.8 ┆ 0.7 ┆ 0.7 ┆ 0.7 ┆ 0.6 ┆ 0.6 ┆ 0.6 ┆ 0.6 ┆ 0.6 ┆ 0.6 ┆ 0.6 ┆ 0.6 ┆ 0.6 ┆ 0.6 ┆ 0.6 ┆ 0.6 ┆ 0.6 ┆ 0.6 ┆ 0.6 ┆ 0.7 ┆ 0.7 ┆ 0.7 ┆ 0.7 ┆ 0.7 ┆ 0.0 ┆ 0.0 ┆ 0.0 ┆ 0.0 ┆ 0.0 ┆ 0.0 ┆ 0.0 ┆ 0.0 ┆ 0.0 ┆ 0.0 ┆ 0.0 ┆ 0.0 ┆ 0.0 ┆ 0.0 ┆ 0.0 ┆ 0.0 ┆ 0.0 ┆ 0.0 ┆ 0.0 ┆ 0.0 ┆ 0.0 ┆ 0.0 ┆ 0.0 ┆ 0.0 ┆ 0.0 ┆ 0.0 ┆ 0.0 ┆ 0.6 ┆ 1.6 ┆ 0.9 ┆ 0.8 ┆ 0.7 ┆ 0.7 ┆ 0.7 ┆ 0.7 ┆ 0.7 ┆ 0.7 ┆ 0.6 ┆ 0.6 ┆ 0.6 ┆ 0.6 ┆ 0.6 ┆ 0.6 ┆ 0.6 ┆ 0.6 ┆ 0.6 ┆ 0.6 ┆ 0.6 ┆ 0.6 ┆ 0.6 ┆ 0.6 ┆ 0.6 ┆ 0.6 ┆ 0.6 ┆ 0.6 ┆ 0.7 ┆ 0.8 ┆ 0.8 ┆ 0.9 ┆ 0.9 ┆ 0.0 ┆ 0.0 ┆ 0.0 ┆ 0.0 ┆ 0.0 ┆ 0.0 ┆ 0.0 ┆ 0.0 ┆ 0.0 ┆ 0.0 ┆ 0.0 ┆ 0.0 ┆ 0.4 ┆ 0.7 ┆ 0.8 ┆ 0.3 ┆ 0.5 ┆ 0.7 ┆ 0.8 ┆ 0.9 ┆ 0.8 ┆ 0.8 ┆ 0.8 ┆ 0.8 ┆ 0.8 ┆ 0.8 ┆ 0.8 ┆ 0.8 ┆ 0.8 ┆ 0.8 ┆ 0.8 ┆ 0.8 ┆ 0.8 ┆ 0.8 ┆ 0.8 ┆ 0.8 ┆ 0.8 ┆ 0.8 ┆ 0.8 ┆ 0.7 ┆ 0.7 ┆ 0.7 ┆ 0.7 ┆ 0.7 ┆ 0.6 ┆ 0.6 ┆ 0.6 ┆ 0.6 ┆ 0.7 ┆ 0.7 ┆ 0.7 ┆ 0.7 ┆ 0.8 ┆ 0.8 ┆ 0.8 ┆ 0.8 ┆ 0.8 ┆ 0.8 ┆ 0.9 ┆ 0.9 ┆ 0.0 ┆ 0.0 ┆ 0.0 ┆ 0.0 ┆ 0.0 ┆ 0.0 ┆ 0.0 ┆ 0.0 ┆ 0.0 ┆ 0.0 ┆ 0.0 ┆ 0.0 ┆ 0.9 ┆ 0.9 ┆ 0.9 ┆ 1.0 ┆ 0.9 ┆ 0.9 ┆ 0.7 ┆ 0.8 ┆ 0.9 ┆ 0.8 ┆ 0.8 ┆ 0.8 ┆ 0.8 ┆ 0.8 ┆ 0.8 ┆ 0.8 ┆ 0.8 ┆ 0.8 ┆ 0.8 ┆ 0.8 ┆ 0.8 ┆ 0.7 ┆ 0.7 ┆ 0.7 ┆ 0.7 ┆ 0.7 ┆ 0.7 ┆ 0.7 ┆ 0.7 ┆ 0.7 ┆ 0.7 ┆ 0.7 ┆ 0.7 ┆ 0.8 ┆ 0.8 ┆ 0.8 ┆ 0.8 ┆ 0.8 ┆ 0.8 ┆ 0.9 ┆ 0.9 ┆ 0.9 ┆ 0.9 ┆ 0.9 ┆ 0.9 ┆ 0.9 ┆ 0.9 ┆ 0.9 ┆ 0.0 ┆ 0.0 ┆ 0.0 ┆ 0.0 ┆ 0.0 ┆ 0.0 ┆ 0.0 ┆ 0.0 ┆ 0.0 ┆ 0.0 ┆ 0.0 ┆ 0.0 ┆ 0.9 ┆ 0.9 ┆ 0.9 ┆ 0.9 ┆ 0.9 ┆ 0.9 ┆ 0.9 ┆ 0.9 ┆ 0.9 ┆ 0.9 ┆ 0.8 ┆ 0.8 ┆ 0.8 ┆ 0.8 ┆ 0.8 ┆ 0.8 ┆ 0.8 ┆ 0.8 ┆ 0.8 ┆ 0.8 ┆ 0.8 ┆ 0.8 ┆ 0.8 ┆ 0.8 ┆ 0.8 ┆ 0.8 ┆ 0.8 ┆ 0.8 ┆ 0.8 ┆ 0.8 ┆ 0.8 ┆ 0.8 ┆ 0.8 ┆ 0.8 ┆ 0.8 ┆ 0.8 ┆ 0.8 ┆ 0.8 ┆ 0.9 ┆ 0.9 ┆ 0.9 ┆ 0.9 ┆ 0.9 ┆ 0.9 ┆ 0.9 ┆ 0.9 ┆ 0.9 ┆ 0.9 ┆ 0.9 ┆ 0.9 ┆ 0.9 ┆ 0.9 ┆ 0.9 ┆ 0.9 ┆ 0.9 ┆ 0.9 │\n",
       "│ l   ┆ 375 ┆ 348 ┆ 945 ┆ 051 ┆ 049 ┆ 020 ┆ 042 ┆ 061 ┆ 053 ┆ 071 ┆ 098 ┆ 107 ┆ 065 ┆ 013 ┆ 972 ┆ 918 ┆ 708 ┆ 885 ┆ 337 ┆ 012 ┆ 282 ┆ 559 ┆ 059 ┆ 581 ┆ 906 ┆ 012 ┆ 103 ┆ 386 ┆ 537 ┆ 669 ┆ 753 ┆ 718 ┆ 690 ┆ 731 ┆ 674 ┆ 536 ┆ 357 ┆ 170 ┆ 948 ┆ 807 ┆ 570 ┆ 377 ┆ 161 ┆ 085 ┆ 911 ┆ 785 ┆ 535 ┆ 473 ┆ 321 ┆ 276 ┆ 196 ┆ 222 ┆ 227 ┆ 339 ┆ 409 ┆ 542 ┆ 652 ┆ 655 ┆ 961 ┆ 880 ┆     ┆     ┆     ┆     ┆     ┆     ┆     ┆     ┆     ┆     ┆     ┆     ┆ 252 ┆ 056 ┆ 264 ┆ 217 ┆ 746 ┆ 686 ┆ 736 ┆ 437 ┆ 466 ┆ 049 ┆ 428 ┆ 645 ┆ 637 ┆ 670 ┆ 599 ┆ 560 ┆ 485 ┆ 440 ┆ 343 ┆ 273 ┆ 228 ┆ 084 ┆ 805 ┆ 476 ┆ 048 ┆ 763 ┆ 437 ┆ 237 ┆ 993 ┆ 913 ┆ 781 ┆ 780 ┆ 635 ┆ 621 ┆ 507 ┆ 449 ┆ 338 ┆ 334 ┆ 286 ┆ 352 ┆ 431 ┆ 686 ┆ 845 ┆ 092 ┆ 364 ┆ 578 ┆ 862 ┆ 779 ┆     ┆     ┆     ┆     ┆     ┆     ┆     ┆     ┆     ┆     ┆     ┆     ┆     ┆     ┆     ┆     ┆     ┆     ┆     ┆     ┆     ┆     ┆     ┆     ┆     ┆     ┆ 034 ┆ 523 ┆ 175 ┆ 925 ┆ 682 ┆ 809 ┆ 468 ┆ 079 ┆ 088 ┆ 033 ┆ 077 ┆ 966 ┆ 921 ┆ 920 ┆ 847 ┆ 869 ┆ 787 ┆ 648 ┆ 581 ┆ 499 ┆ 476 ┆ 412 ┆ 380 ┆ 406 ┆ 371 ┆ 335 ┆ 263 ┆ 439 ┆ 689 ┆ 271 ┆ 153 ┆ 513 ┆ 271 ┆ 305 ┆     ┆     ┆     ┆     ┆     ┆     ┆     ┆     ┆     ┆     ┆     ┆     ┆ 484 ┆ 293 ┆ 497 ┆ 199 ┆ 281 ┆ 140 ┆ 183 ┆ 294 ┆ 679 ┆ 139 ┆ 455 ┆ 602 ┆ 733 ┆ 827 ┆ 815 ┆ 610 ┆ 594 ┆ 560 ┆ 515 ┆ 389 ┆ 341 ┆ 282 ┆ 362 ┆ 334 ┆ 295 ┆ 194 ┆ 079 ┆ 869 ┆ 673 ┆ 525 ┆ 331 ┆ 116 ┆ 975 ┆ 861 ┆ 854 ┆ 889 ┆ 090 ┆ 253 ┆ 502 ┆ 723 ┆ 025 ┆ 275 ┆ 476 ┆ 565 ┆ 852 ┆ 991 ┆ 000 ┆ 279 ┆     ┆     ┆     ┆     ┆     ┆     ┆     ┆     ┆     ┆     ┆     ┆     ┆ 433 ┆ 826 ┆ 926 ┆ 065 ┆ 814 ┆ 525 ┆ 688 ┆ 590 ┆ 035 ┆ 841 ┆ 817 ┆ 804 ┆ 425 ┆ 617 ┆ 626 ┆ 690 ┆ 503 ┆ 397 ┆ 361 ┆ 383 ┆ 065 ┆ 962 ┆ 818 ┆ 697 ┆ 594 ┆ 651 ┆ 687 ┆ 720 ┆ 682 ┆ 543 ┆ 413 ┆ 542 ┆ 703 ┆ 003 ┆ 241 ┆ 408 ┆ 572 ┆ 717 ┆ 888 ┆ 165 ┆ 431 ┆ 586 ┆ 452 ┆ 425 ┆ 536 ┆ 670 ┆ 395 ┆ 818 ┆     ┆     ┆     ┆     ┆     ┆     ┆     ┆     ┆     ┆     ┆     ┆     ┆ 525 ┆ 636 ┆ 926 ┆ 912 ┆ 558 ┆ 523 ┆ 712 ┆ 580 ┆ 272 ┆ 036 ┆ 913 ┆ 801 ┆ 660 ┆ 786 ┆ 611 ┆ 852 ┆ 979 ┆ 925 ┆ 886 ┆ 814 ┆ 723 ┆ 773 ┆ 807 ┆ 658 ┆ 591 ┆ 457 ┆ 346 ┆ 364 ┆ 489 ┆ 464 ┆ 508 ┆ 460 ┆ 563 ┆ 526 ┆ 626 ┆ 585 ┆ 654 ┆ 825 ┆ 095 ┆ 238 ┆ 285 ┆ 277 ┆ 445 ┆ 558 ┆ 640 ┆ 623 ┆ 519 ┆ 396 ┆ 923 ┆ 955 ┆ 492 ┆ 856 ┆ 937 ┆ 841 ┆ 780 ┆ 362 │\n",
       "│     ┆ 55  ┆ 59  ┆ 32  ┆ 77  ┆ 78  ┆ 56  ┆ 97  ┆ 17  ┆ 83  ┆ 29  ┆ 45  ┆ 03  ┆ 52  ┆ 43  ┆ 88  ┆ 92  ┆ 63  ┆ 24  ┆ 49  ┆ 84  ┆ 4   ┆ 91  ┆ 26  ┆ 05  ┆ 98  ┆ 8   ┆ 44  ┆ 89  ┆ 71  ┆ 51  ┆ 18  ┆ 92  ┆ 89  ┆ 25  ┆ 77  ┆ 04  ┆ 46  ┆ 13  ┆ 63  ┆ 95  ┆ 86  ┆ 74  ┆ 02  ┆ 54  ┆ 06  ┆ 26  ┆ 33  ┆ 2   ┆ 04  ┆ 8   ┆ 16  ┆ 4   ┆ 16  ┆ 79  ┆ 05  ┆ 73  ┆ 87  ┆ 15  ┆ 38  ┆ 54  ┆     ┆     ┆     ┆     ┆     ┆     ┆     ┆     ┆     ┆     ┆     ┆     ┆ 76  ┆ 74  ┆ 75  ┆ 17  ┆ 97  ┆ 03  ┆ 02  ┆ 77  ┆ 53  ┆ 18  ┆ 27  ┆ 07  ┆ 31  ┆ 76  ┆ 59  ┆ 74  ┆ 28  ┆ 08  ┆ 19  ┆ 99  ┆ 56  ┆ 07  ┆ 87  ┆ 21  ┆ 51  ┆ 81  ┆ 37  ┆ 18  ┆ 86  ┆ 29  ┆ 57  ┆ 93  ┆ 52  ┆ 6   ┆ 35  ┆ 97  ┆ 8   ┆ 24  ┆ 13  ┆ 31  ┆ 73  ┆ 31  ┆ 84  ┆ 1   ┆ 79  ┆ 73  ┆ 53  ┆ 36  ┆     ┆     ┆     ┆     ┆     ┆     ┆     ┆     ┆     ┆     ┆     ┆     ┆     ┆     ┆     ┆     ┆     ┆     ┆     ┆     ┆     ┆     ┆     ┆     ┆     ┆     ┆ 06  ┆ 69  ┆ 72  ┆ 15  ┆ 68  ┆ 63  ┆ 58  ┆ 54  ┆ 95  ┆ 65  ┆ 46  ┆ 94  ┆ 91  ┆ 38  ┆ 36  ┆ 38  ┆ 35  ┆ 08  ┆ 98  ┆ 36  ┆ 09  ┆ 93  ┆ 47  ┆ 75  ┆ 61  ┆ 09  ┆ 81  ┆ 99  ┆ 99  ┆ 27  ┆ 62  ┆ 5   ┆ 93  ┆ 75  ┆     ┆     ┆     ┆     ┆     ┆     ┆     ┆     ┆     ┆     ┆     ┆     ┆ 91  ┆ 59  ┆ 74  ┆ 71  ┆ 26  ┆ 4   ┆ 04  ┆ 52  ┆ 08  ┆ 01  ┆ 52  ┆ 42  ┆ 8   ┆ 94  ┆ 91  ┆ 94  ┆ 83  ┆ 38  ┆ 04  ┆ 06  ┆ 63  ┆ 81  ┆ 98  ┆ 37  ┆ 21  ┆ 49  ┆ 05  ┆ 35  ┆ 11  ┆ 13  ┆ 04  ┆ 84  ┆ 59  ┆ 41  ┆ 84  ┆ 6   ┆ 52  ┆ 48  ┆ 91  ┆ 77  ┆ 24  ┆ 88  ┆ 49  ┆ 77  ┆ 76  ┆ 92  ┆ 27  ┆ 54  ┆     ┆     ┆     ┆     ┆     ┆     ┆     ┆     ┆     ┆     ┆     ┆     ┆ 31  ┆ 09  ┆ 01  ┆ 68  ┆ 75  ┆ 42  ┆ 6   ┆ 42  ┆ 29  ┆ 77  ┆ 76  ┆ 8   ┆ 47  ┆ 15  ┆ 09  ┆ 23  ┆ 11  ┆ 2   ┆ 21  ┆ 17  ┆ 84  ┆ 13  ┆ 06  ┆ 44  ┆ 36  ┆ 33  ┆ 43  ┆ 78  ┆ 76  ┆ 69  ┆ 78  ┆ 61  ┆ 36  ┆ 82  ┆ 2   ┆ 79  ┆ 48  ┆ 53  ┆ 57  ┆ 57  ┆ 14  ┆ 7   ┆ 31  ┆ 08  ┆ 14  ┆ 27  ┆ 2   ┆ 44  ┆     ┆     ┆     ┆     ┆     ┆     ┆     ┆     ┆     ┆     ┆     ┆     ┆ 48  ┆ 51  ┆ 86  ┆ 38  ┆ 3   ┆ 91  ┆ 37  ┆ 44  ┆ 41  ┆ 23  ┆ 29  ┆ 42  ┆ 52  ┆ 74  ┆ 27  ┆ 47  ┆ 02  ┆ 49  ┆ 58  ┆ 94  ┆ 92  ┆ 54  ┆ 59  ┆     ┆ 74  ┆ 68  ┆ 69  ┆ 82  ┆ 84  ┆ 04  ┆ 06  ┆ 35  ┆ 94  ┆ 97  ┆ 63  ┆     ┆ 17  ┆ 65  ┆ 12  ┆ 67  ┆ 09  ┆ 28  ┆ 81  ┆ 24  ┆ 76  ┆ 22  ┆ 11  ┆ 39  ┆ 87  ┆ 59  ┆ 48  ┆ 82  ┆ 15  ┆ 02  ┆ 18  ┆ 06  │\n",
       "└─────┴─────┴─────┴─────┴─────┴─────┴─────┴─────┴─────┴─────┴─────┴─────┴─────┴─────┴─────┴─────┴─────┴─────┴─────┴─────┴─────┴─────┴─────┴─────┴─────┴─────┴─────┴─────┴─────┴─────┴─────┴─────┴─────┴─────┴─────┴─────┴─────┴─────┴─────┴─────┴─────┴─────┴─────┴─────┴─────┴─────┴─────┴─────┴─────┴─────┴─────┴─────┴─────┴─────┴─────┴─────┴─────┴─────┴─────┴─────┴─────┴─────┴─────┴─────┴─────┴─────┴─────┴─────┴─────┴─────┴─────┴─────┴─────┴─────┴─────┴─────┴─────┴─────┴─────┴─────┴─────┴─────┴─────┴─────┴─────┴─────┴─────┴─────┴─────┴─────┴─────┴─────┴─────┴─────┴─────┴─────┴─────┴─────┴─────┴─────┴─────┴─────┴─────┴─────┴─────┴─────┴─────┴─────┴─────┴─────┴─────┴─────┴─────┴─────┴─────┴─────┴─────┴─────┴─────┴─────┴─────┴─────┴─────┴─────┴─────┴─────┴─────┴─────┴─────┴─────┴─────┴─────┴─────┴─────┴─────┴─────┴─────┴─────┴─────┴─────┴─────┴─────┴─────┴─────┴─────┴─────┴─────┴─────┴─────┴─────┴─────┴─────┴─────┴─────┴─────┴─────┴─────┴─────┴─────┴─────┴─────┴─────┴─────┴─────┴─────┴─────┴─────┴─────┴─────┴─────┴─────┴─────┴─────┴─────┴─────┴─────┴─────┴─────┴─────┴─────┴─────┴─────┴─────┴─────┴─────┴─────┴─────┴─────┴─────┴─────┴─────┴─────┴─────┴─────┴─────┴─────┴─────┴─────┴─────┴─────┴─────┴─────┴─────┴─────┴─────┴─────┴─────┴─────┴─────┴─────┴─────┴─────┴─────┴─────┴─────┴─────┴─────┴─────┴─────┴─────┴─────┴─────┴─────┴─────┴─────┴─────┴─────┴─────┴─────┴─────┴─────┴─────┴─────┴─────┴─────┴─────┴─────┴─────┴─────┴─────┴─────┴─────┴─────┴─────┴─────┴─────┴─────┴─────┴─────┴─────┴─────┴─────┴─────┴─────┴─────┴─────┴─────┴─────┴─────┴─────┴─────┴─────┴─────┴─────┴─────┴─────┴─────┴─────┴─────┴─────┴─────┴─────┴─────┴─────┴─────┴─────┴─────┴─────┴─────┴─────┴─────┴─────┴─────┴─────┴─────┴─────┴─────┴─────┴─────┴─────┴─────┴─────┴─────┴─────┴─────┴─────┴─────┴─────┴─────┴─────┴─────┴─────┴─────┴─────┴─────┴─────┴─────┴─────┴─────┴─────┴─────┴─────┴─────┴─────┴─────┴─────┴─────┴─────┴─────┴─────┴─────┴─────┴─────┴─────┴─────┴─────┴─────┴─────┴─────┴─────┴─────┴─────┴─────┴─────┴─────┴─────┴─────┴─────┴─────┴─────┴─────┴─────┴─────┴─────┴─────┴─────┴─────┴─────┴─────┴─────┴─────┴─────┴─────┴─────┴─────┴─────┴─────┴─────┴─────┴─────┴─────┴─────┴─────┴─────┴─────┴─────┴─────┴─────┴─────┘"
      ]
     },
     "execution_count": 116,
     "metadata": {},
     "output_type": "execute_result"
    }
   ],
   "source": [
    "output.std()"
   ]
  },
  {
   "cell_type": "code",
   "execution_count": 140,
   "metadata": {
    "scrolled": true
   },
   "outputs": [
    {
     "name": "stdout",
     "output_type": "stream",
     "text": [
      "ptend_t_0 : 0.01796277053654194\n",
      "ptend_t_1 : 0.01580028049647808\n",
      "ptend_t_2 : 0.005049095023423433\n",
      "ptend_t_3 : 0.0012899171561002731\n",
      "ptend_t_4 : 0.0006612258148379624\n",
      "ptend_t_5 : 0.000465095741674304\n",
      "ptend_t_6 : 0.00043876576819457114\n",
      "ptend_t_7 : 0.0007029272383078933\n",
      "ptend_t_8 : 0.0008303220965899527\n",
      "ptend_t_9 : 0.0010582703398540616\n",
      "ptend_t_10 : 0.0018357549561187625\n",
      "ptend_t_11 : 0.0019260403933003545\n",
      "ptend_t_12 : 0.002866466762498021\n",
      "ptend_t_13 : 0.003381755668669939\n",
      "ptend_t_14 : 0.006356712430715561\n",
      "ptend_t_15 : 0.01387377455830574\n",
      "ptend_t_16 : 0.1253134310245514\n",
      "ptend_t_17 : 0.3069222569465637\n",
      "ptend_t_18 : 0.533825159072876\n",
      "ptend_t_19 : 0.5077593922615051\n",
      "ptend_t_20 : 0.4755598306655884\n",
      "ptend_t_21 : 0.44834259152412415\n",
      "ptend_t_22 : 0.3704204261302948\n",
      "ptend_t_23 : 0.301801860332489\n",
      "ptend_t_24 : 0.26321732997894287\n",
      "ptend_t_25 : 0.2153325378894806\n",
      "ptend_t_26 : 0.17556500434875488\n",
      "ptend_t_27 : 0.14571933448314667\n",
      "ptend_t_28 : 0.12255648523569107\n",
      "ptend_t_29 : 0.10464970022439957\n",
      "ptend_t_30 : 0.0986165851354599\n",
      "ptend_t_31 : 0.09943924099206924\n",
      "ptend_t_32 : 0.10381776094436646\n",
      "ptend_t_33 : 0.11422466486692429\n",
      "ptend_t_34 : 0.12497811764478683\n",
      "ptend_t_35 : 0.14388370513916016\n",
      "ptend_t_36 : 0.16816966235637665\n",
      "ptend_t_37 : 0.1987522691488266\n",
      "ptend_t_38 : 0.2286107987165451\n",
      "ptend_t_39 : 0.25997981429100037\n",
      "ptend_t_40 : 0.2961488962173462\n",
      "ptend_t_41 : 0.33176904916763306\n",
      "ptend_t_42 : 0.36067894101142883\n",
      "ptend_t_43 : 0.3792122006416321\n",
      "ptend_t_44 : 0.4003381133079529\n",
      "ptend_t_45 : 0.42244037985801697\n",
      "ptend_t_46 : 0.44774961471557617\n",
      "ptend_t_47 : 0.46505022048950195\n",
      "ptend_t_48 : 0.4864519238471985\n",
      "ptend_t_49 : 0.5009571313858032\n",
      "ptend_t_50 : 0.5133023262023926\n",
      "ptend_t_51 : 0.5093532204627991\n",
      "ptend_t_52 : 0.5029786825180054\n",
      "ptend_t_53 : 0.49633169174194336\n",
      "ptend_t_54 : 0.48975905776023865\n",
      "ptend_t_55 : 0.47651633620262146\n",
      "ptend_t_56 : 0.4542097747325897\n",
      "ptend_t_57 : 0.4425702393054962\n",
      "ptend_t_58 : 0.39093196392059326\n",
      "ptend_t_59 : 0.2095847725868225\n",
      "ptend_q0001_0 : 8.587687261751853e-06\n",
      "ptend_q0001_1 : 5.340450570656685e-06\n",
      "ptend_q0001_2 : 9.093670087167993e-06\n",
      "ptend_q0001_3 : 8.505003279424272e-06\n",
      "ptend_q0001_4 : 9.545564353174996e-06\n",
      "ptend_q0001_5 : 8.692614756000694e-06\n",
      "ptend_q0001_6 : 8.076121048361529e-06\n",
      "ptend_q0001_7 : 6.556381777045317e-06\n",
      "ptend_q0001_8 : 6.7751634560409e-06\n",
      "ptend_q0001_9 : 8.937179700296838e-06\n",
      "ptend_q0001_10 : 1.5109410469449358e-06\n",
      "ptend_q0001_11 : 4.854899543715874e-06\n",
      "ptend_q0001_12 : 0.027017856016755104\n",
      "ptend_q0001_13 : 0.06375064700841904\n",
      "ptend_q0001_14 : 1.4740583896636963\n",
      "ptend_q0001_15 : 0.22232435643672943\n",
      "ptend_q0001_16 : 0.21864566206932068\n",
      "ptend_q0001_17 : 0.27730515599250793\n",
      "ptend_q0001_18 : 0.5147328972816467\n",
      "ptend_q0001_19 : 0.39965057373046875\n",
      "ptend_q0001_20 : 0.383223295211792\n",
      "ptend_q0001_21 : 0.30502018332481384\n",
      "ptend_q0001_22 : 0.2481049746274948\n",
      "ptend_q0001_23 : 0.1984248012304306\n",
      "ptend_q0001_24 : 0.1683114916086197\n",
      "ptend_q0001_25 : 0.14461641013622284\n",
      "ptend_q0001_26 : 0.13899387419223785\n",
      "ptend_q0001_27 : 0.1316319704055786\n",
      "ptend_q0001_28 : 0.1345384120941162\n",
      "ptend_q0001_29 : 0.1448090821504593\n",
      "ptend_q0001_30 : 0.1570761501789093\n",
      "ptend_q0001_31 : 0.17811191082000732\n",
      "ptend_q0001_32 : 0.20814916491508484\n",
      "ptend_q0001_33 : 0.2668791115283966\n",
      "ptend_q0001_34 : 0.32782602310180664\n",
      "ptend_q0001_35 : 0.3823545575141907\n",
      "ptend_q0001_36 : 0.4306071400642395\n",
      "ptend_q0001_37 : 0.48373451828956604\n",
      "ptend_q0001_38 : 0.5268698930740356\n",
      "ptend_q0001_39 : 0.5697033405303955\n",
      "ptend_q0001_40 : 0.5917365550994873\n",
      "ptend_q0001_41 : 0.6009968519210815\n",
      "ptend_q0001_42 : 0.6004118919372559\n",
      "ptend_q0001_43 : 0.60442715883255\n",
      "ptend_q0001_44 : 0.6065268516540527\n",
      "ptend_q0001_45 : 0.6028252243995667\n",
      "ptend_q0001_46 : 0.613685131072998\n",
      "ptend_q0001_47 : 0.6220695972442627\n",
      "ptend_q0001_48 : 0.631276547908783\n",
      "ptend_q0001_49 : 0.6428205370903015\n",
      "ptend_q0001_50 : 0.6435698866844177\n",
      "ptend_q0001_51 : 0.6344837546348572\n",
      "ptend_q0001_52 : 0.6183449625968933\n",
      "ptend_q0001_53 : 0.5944846868515015\n",
      "ptend_q0001_54 : 0.5696128010749817\n",
      "ptend_q0001_55 : 0.5379188060760498\n",
      "ptend_q0001_56 : 0.4848650097846985\n",
      "ptend_q0001_57 : 0.457197904586792\n",
      "ptend_q0001_58 : 0.3936512768268585\n",
      "ptend_q0001_59 : 0.368914932012558\n",
      "ptend_q0002_0 : 8.138318662531674e-06\n",
      "ptend_q0002_1 : 9.615941962692887e-06\n",
      "ptend_q0002_2 : 8.32778914627852e-06\n",
      "ptend_q0002_3 : 6.585183655261062e-06\n",
      "ptend_q0002_4 : 8.829120815789793e-06\n",
      "ptend_q0002_5 : 7.701221875322517e-06\n",
      "ptend_q0002_6 : 3.6680730772786774e-06\n",
      "ptend_q0002_7 : 8.278887435153592e-06\n",
      "ptend_q0002_8 : 5.947088084212737e-06\n",
      "ptend_q0002_9 : 7.497388196497923e-06\n",
      "ptend_q0002_10 : 3.7821862406417495e-06\n",
      "ptend_q0002_11 : 7.236420060507953e-06\n",
      "ptend_q0002_12 : 1.4507040759781376e-06\n",
      "ptend_q0002_13 : 6.597384071937995e-06\n",
      "ptend_q0002_14 : 8.752737812756095e-06\n",
      "ptend_q0002_15 : 8.742944373807404e-06\n",
      "ptend_q0002_16 : 4.204177912470186e-06\n",
      "ptend_q0002_17 : 3.90713285014499e-06\n",
      "ptend_q0002_18 : 5.226392204349395e-06\n",
      "ptend_q0002_19 : 9.594779839972034e-06\n",
      "ptend_q0002_20 : 9.515611054666806e-06\n",
      "ptend_q0002_21 : 9.705990123620722e-06\n",
      "ptend_q0002_22 : 9.74902377492981e-06\n",
      "ptend_q0002_23 : 9.471959856455214e-06\n",
      "ptend_q0002_24 : 9.143805073108524e-06\n",
      "ptend_q0002_25 : 9.392786523676477e-06\n",
      "ptend_q0002_26 : 9.72382076724898e-06\n",
      "ptend_q0002_27 : 0.023450469598174095\n",
      "ptend_q0002_28 : 0.05640455707907677\n",
      "ptend_q0002_29 : 0.21784748136997223\n",
      "ptend_q0002_30 : 0.3848077058792114\n",
      "ptend_q0002_31 : 0.5561830997467041\n",
      "ptend_q0002_32 : 0.5945393443107605\n",
      "ptend_q0002_33 : 0.5838892459869385\n",
      "ptend_q0002_34 : 0.5774684548377991\n",
      "ptend_q0002_35 : 0.5712723731994629\n",
      "ptend_q0002_36 : 0.5670346617698669\n",
      "ptend_q0002_37 : 0.5722234845161438\n",
      "ptend_q0002_38 : 0.5860705375671387\n",
      "ptend_q0002_39 : 0.590247392654419\n",
      "ptend_q0002_40 : 0.5830978155136108\n",
      "ptend_q0002_41 : 0.5754106640815735\n",
      "ptend_q0002_42 : 0.5774444341659546\n",
      "ptend_q0002_43 : 0.591089129447937\n",
      "ptend_q0002_44 : 0.6039829850196838\n",
      "ptend_q0002_45 : 0.6021322011947632\n",
      "ptend_q0002_46 : 0.6017800569534302\n",
      "ptend_q0002_47 : 0.5981848239898682\n",
      "ptend_q0002_48 : 0.6023703217506409\n",
      "ptend_q0002_49 : 0.607934296131134\n",
      "ptend_q0002_50 : 0.6126512289047241\n",
      "ptend_q0002_51 : 0.612880289554596\n",
      "ptend_q0002_52 : 0.6054807901382446\n",
      "ptend_q0002_53 : 0.5958830714225769\n",
      "ptend_q0002_54 : 0.5486251711845398\n",
      "ptend_q0002_55 : 0.4494171142578125\n",
      "ptend_q0002_56 : 0.3332922160625458\n",
      "ptend_q0002_57 : 0.21290767192840576\n",
      "ptend_q0002_58 : 0.12958943843841553\n",
      "ptend_q0002_59 : 0.09645377099514008\n",
      "ptend_q0003_0 : 5.819930265715811e-06\n",
      "ptend_q0003_1 : 8.388437890971545e-06\n",
      "ptend_q0003_2 : 1.0411281436972786e-05\n",
      "ptend_q0003_3 : 9.210354619426653e-06\n",
      "ptend_q0003_4 : 7.604169695696328e-06\n",
      "ptend_q0003_5 : 6.711194600939052e-06\n",
      "ptend_q0003_6 : 6.972745723032858e-06\n",
      "ptend_q0003_7 : 8.396597877435852e-06\n",
      "ptend_q0003_8 : 3.5031073366553755e-06\n",
      "ptend_q0003_9 : 7.493234988942277e-06\n",
      "ptend_q0003_10 : 1.0192224181082565e-05\n",
      "ptend_q0003_11 : 6.687492714263499e-06\n",
      "ptend_q0003_12 : 0.017481261864304543\n",
      "ptend_q0003_13 : 0.02655377984046936\n",
      "ptend_q0003_14 : 0.050433892756700516\n",
      "ptend_q0003_15 : 1.1975325345993042\n",
      "ptend_q0003_16 : 2.121037244796753\n",
      "ptend_q0003_17 : 0.8343653082847595\n",
      "ptend_q0003_18 : 0.29284873604774475\n",
      "ptend_q0003_19 : 0.40244659781455994\n",
      "ptend_q0003_20 : 0.35151922702789307\n",
      "ptend_q0003_21 : 0.3424481153488159\n",
      "ptend_q0003_22 : 0.40080514550209045\n",
      "ptend_q0003_23 : 0.4280017912387848\n",
      "ptend_q0003_24 : 0.4621414542198181\n",
      "ptend_q0003_25 : 0.4813304543495178\n",
      "ptend_q0003_26 : 0.5059670209884644\n",
      "ptend_q0003_27 : 0.49002212285995483\n",
      "ptend_q0003_28 : 0.5002546310424805\n",
      "ptend_q0003_29 : 0.49004897475242615\n",
      "ptend_q0003_30 : 0.4513409733772278\n",
      "ptend_q0003_31 : 0.4208166003227234\n",
      "ptend_q0003_32 : 0.4178207516670227\n",
      "ptend_q0003_33 : 0.4253040552139282\n",
      "ptend_q0003_34 : 0.421541303396225\n",
      "ptend_q0003_35 : 0.40971747040748596\n",
      "ptend_q0003_36 : 0.38497796654701233\n",
      "ptend_q0003_37 : 0.397562175989151\n",
      "ptend_q0003_38 : 0.4211099147796631\n",
      "ptend_q0003_39 : 0.4538787603378296\n",
      "ptend_q0003_40 : 0.4787750840187073\n",
      "ptend_q0003_41 : 0.4864274263381958\n",
      "ptend_q0003_42 : 0.49884992837905884\n",
      "ptend_q0003_43 : 0.5248963832855225\n",
      "ptend_q0003_44 : 0.5262092351913452\n",
      "ptend_q0003_45 : 0.5320965647697449\n",
      "ptend_q0003_46 : 0.5173166990280151\n",
      "ptend_q0003_47 : 0.4901857078075409\n",
      "ptend_q0003_48 : 0.4564543068408966\n",
      "ptend_q0003_49 : 0.40745100378990173\n",
      "ptend_q0003_50 : 0.37155836820602417\n",
      "ptend_q0003_51 : 0.3292009234428406\n",
      "ptend_q0003_52 : 0.27844950556755066\n",
      "ptend_q0003_53 : 0.2311905473470688\n",
      "ptend_q0003_54 : 0.18908695876598358\n",
      "ptend_q0003_55 : 0.155936136841774\n",
      "ptend_q0003_56 : 0.12714883685112\n",
      "ptend_q0003_57 : 0.1024840921163559\n",
      "ptend_q0003_58 : 0.08912813663482666\n",
      "ptend_q0003_59 : 0.07357762008905411\n",
      "ptend_u_0 : 4.404862011142541e-06\n",
      "ptend_u_1 : 4.060190804011654e-06\n",
      "ptend_u_2 : 6.11784344073385e-06\n",
      "ptend_u_3 : 6.392143404809758e-06\n",
      "ptend_u_4 : 9.415293789061252e-06\n",
      "ptend_u_5 : 9.195406164508313e-06\n",
      "ptend_u_6 : 5.585679900832474e-06\n",
      "ptend_u_7 : 5.619472176476847e-06\n",
      "ptend_u_8 : 9.343561941932421e-06\n",
      "ptend_u_9 : 8.980468010122422e-06\n",
      "ptend_u_10 : 9.10574453882873e-06\n",
      "ptend_u_11 : 8.327555406140164e-06\n",
      "ptend_u_12 : 0.06768877804279327\n",
      "ptend_u_13 : 0.06633441150188446\n",
      "ptend_u_14 : 0.05851114168763161\n",
      "ptend_u_15 : 0.06066855415701866\n",
      "ptend_u_16 : 0.24678504467010498\n",
      "ptend_u_17 : 0.11805107444524765\n",
      "ptend_u_18 : 0.052681416273117065\n",
      "ptend_u_19 : 0.07343871891498566\n",
      "ptend_u_20 : 0.10580067336559296\n",
      "ptend_u_21 : 0.14549261331558228\n",
      "ptend_u_22 : 0.17301318049430847\n",
      "ptend_u_23 : 0.19562312960624695\n",
      "ptend_u_24 : 0.22531959414482117\n",
      "ptend_u_25 : 0.2666533887386322\n",
      "ptend_u_26 : 0.297401487827301\n",
      "ptend_u_27 : 0.3188321888446808\n",
      "ptend_u_28 : 0.3543592095375061\n",
      "ptend_u_29 : 0.378635048866272\n",
      "ptend_u_30 : 0.40618741512298584\n",
      "ptend_u_31 : 0.4270399212837219\n",
      "ptend_u_32 : 0.4283556640148163\n",
      "ptend_u_33 : 0.45072391629219055\n",
      "ptend_u_34 : 0.4771459102630615\n",
      "ptend_u_35 : 0.5025888085365295\n",
      "ptend_u_36 : 0.4661293029785156\n",
      "ptend_u_37 : 0.45029938220977783\n",
      "ptend_u_38 : 0.4429944157600403\n",
      "ptend_u_39 : 0.45230743288993835\n",
      "ptend_u_40 : 0.47054916620254517\n",
      "ptend_u_41 : 0.46149304509162903\n",
      "ptend_u_42 : 0.4577620029449463\n",
      "ptend_u_43 : 0.4578808844089508\n",
      "ptend_u_44 : 0.4413842558860779\n",
      "ptend_u_45 : 0.4035293757915497\n",
      "ptend_u_46 : 0.3604867458343506\n",
      "ptend_u_47 : 0.31267356872558594\n",
      "ptend_u_48 : 0.27217361330986023\n",
      "ptend_u_49 : 0.2233748435974121\n",
      "ptend_u_50 : 0.1772409975528717\n",
      "ptend_u_51 : 0.13996997475624084\n",
      "ptend_u_52 : 0.1222052350640297\n",
      "ptend_u_53 : 0.12162958830595016\n",
      "ptend_u_54 : 0.11953070014715195\n",
      "ptend_u_55 : 0.11607675999403\n",
      "ptend_u_56 : 0.09671073406934738\n",
      "ptend_u_57 : 0.10037703067064285\n",
      "ptend_u_58 : 0.12210890650749207\n",
      "ptend_u_59 : 0.041311219334602356\n",
      "ptend_v_0 : 8.09752327768365e-06\n",
      "ptend_v_1 : 2.6170662295044167e-06\n",
      "ptend_v_2 : 1.0611969628371298e-05\n",
      "ptend_v_3 : 2.209233571193181e-06\n",
      "ptend_v_4 : 8.016309948288836e-06\n",
      "ptend_v_5 : 9.490809134149458e-06\n",
      "ptend_v_6 : 5.024875918024918e-06\n",
      "ptend_v_7 : 9.200684871757403e-06\n",
      "ptend_v_8 : 6.886073151690653e-06\n",
      "ptend_v_9 : 9.301483260060195e-06\n",
      "ptend_v_10 : 6.6889915615320206e-06\n",
      "ptend_v_11 : 7.740640285192057e-06\n",
      "ptend_v_12 : 0.0696830078959465\n",
      "ptend_v_13 : 0.0633772760629654\n",
      "ptend_v_14 : 0.052547257393598557\n",
      "ptend_v_15 : 0.06518992781639099\n",
      "ptend_v_16 : 0.06335733085870743\n",
      "ptend_v_17 : 0.07634377479553223\n",
      "ptend_v_18 : 0.06251033395528793\n",
      "ptend_v_19 : 0.0840507447719574\n",
      "ptend_v_20 : 0.11159807443618774\n",
      "ptend_v_21 : 0.12358283251523972\n",
      "ptend_v_22 : 0.14357522130012512\n",
      "ptend_v_23 : 0.15240751206874847\n",
      "ptend_v_24 : 0.16887111961841583\n",
      "ptend_v_25 : 0.19781838357448578\n",
      "ptend_v_26 : 0.22950199246406555\n",
      "ptend_v_27 : 0.2452600598335266\n",
      "ptend_v_28 : 0.22696281969547272\n",
      "ptend_v_29 : 0.22090375423431396\n",
      "ptend_v_30 : 0.22840425372123718\n",
      "ptend_v_31 : 0.2600022256374359\n",
      "ptend_v_32 : 0.26171860098838806\n",
      "ptend_v_33 : 0.2633908987045288\n",
      "ptend_v_34 : 0.28401774168014526\n",
      "ptend_v_35 : 0.3012414872646332\n",
      "ptend_v_36 : 0.29520589113235474\n",
      "ptend_v_37 : 0.2725425362586975\n",
      "ptend_v_38 : 0.25751993060112\n",
      "ptend_v_39 : 0.25825372338294983\n",
      "ptend_v_40 : 0.27146026492118835\n",
      "ptend_v_41 : 0.2831685245037079\n",
      "ptend_v_42 : 0.2899341285228729\n",
      "ptend_v_43 : 0.2944375276565552\n",
      "ptend_v_44 : 0.2964748442173004\n",
      "ptend_v_45 : 0.28732776641845703\n",
      "ptend_v_46 : 0.27669426798820496\n",
      "ptend_v_47 : 0.26370635628700256\n",
      "ptend_v_48 : 0.24933890998363495\n",
      "ptend_v_49 : 0.22235476970672607\n",
      "ptend_v_50 : 0.19688890874385834\n",
      "ptend_v_51 : 0.1663772612810135\n",
      "ptend_v_52 : 0.13035818934440613\n",
      "ptend_v_53 : 0.104792021214962\n",
      "ptend_v_54 : 0.089270681142807\n",
      "ptend_v_55 : 0.08425319194793701\n",
      "ptend_v_56 : 0.08115401118993759\n",
      "ptend_v_57 : 0.082495778799057\n",
      "ptend_v_58 : 0.08986340463161469\n",
      "ptend_v_59 : 0.03776145353913307\n",
      "cam_out_NETSW : 0.005439972039312124\n",
      "cam_out_FLWDS : 0.005486462265253067\n",
      "cam_out_PRECSC : 0.05558308586478233\n",
      "cam_out_PRECC : 0.08726556599140167\n",
      "cam_out_SOLS : 0.01344381831586361\n",
      "cam_out_SOLL : 0.02369607612490654\n",
      "cam_out_SOLSD : 0.01945192925632\n",
      "cam_out_SOLLD : 0.07778350263834\n"
     ]
    }
   ],
   "source": [
    "for n, col in enumerate(TARGET_COLS):\n",
    "    r = mse(preds[:, n:n+1], targets[:, n:n+1])\n",
    "    print(f'{col} : {r}')"
   ]
  },
  {
   "cell_type": "code",
   "execution_count": null,
   "metadata": {},
   "outputs": [],
   "source": [
    "for "
   ]
  },
  {
   "cell_type": "code",
   "execution_count": 111,
   "metadata": {},
   "outputs": [
    {
     "data": {
      "text/plain": [
       "tensor(0.7154)"
      ]
     },
     "execution_count": 111,
     "metadata": {},
     "output_type": "execute_result"
    }
   ],
   "source": [
    "r_squared(preds, targets)#, mask=~norm_y.zero_mask)"
   ]
  },
  {
   "cell_type": "code",
   "execution_count": 109,
   "metadata": {},
   "outputs": [
    {
     "data": {
      "text/html": [
       "\n",
       "<style>\n",
       "    /* Turns off some styling */\n",
       "    progress {\n",
       "        /* gets rid of default border in Firefox and Opera. */\n",
       "        border: none;\n",
       "        /* Needs to be in here for Safari polyfill so background images work as expected. */\n",
       "        background-size: auto;\n",
       "    }\n",
       "    progress:not([value]), progress:not([value])::-webkit-progress-bar {\n",
       "        background: repeating-linear-gradient(45deg, #7e7e7e, #7e7e7e 10px, #5c5c5c 10px, #5c5c5c 20px);\n",
       "    }\n",
       "    .progress-bar-interrupted, .progress-bar-interrupted::-webkit-progress-bar {\n",
       "        background: #F44336;\n",
       "    }\n",
       "</style>\n"
      ],
      "text/plain": [
       "<IPython.core.display.HTML object>"
      ]
     },
     "metadata": {},
     "output_type": "display_data"
    },
    {
     "data": {
      "text/html": [],
      "text/plain": [
       "<IPython.core.display.HTML object>"
      ]
     },
     "metadata": {},
     "output_type": "display_data"
    }
   ],
   "source": [
    "preds, targets = learn.get_preds()"
   ]
  },
  {
   "cell_type": "code",
   "execution_count": null,
   "metadata": {},
   "outputs": [],
   "source": []
  }
 ],
 "metadata": {
  "kernelspec": {
   "display_name": "Python 3 (ipykernel)",
   "language": "python",
   "name": "python3"
  },
  "language_info": {
   "codemirror_mode": {
    "name": "ipython",
    "version": 3
   },
   "file_extension": ".py",
   "mimetype": "text/x-python",
   "name": "python",
   "nbconvert_exporter": "python",
   "pygments_lexer": "ipython3",
   "version": "3.10.12"
  }
 },
 "nbformat": 4,
 "nbformat_minor": 4
}
